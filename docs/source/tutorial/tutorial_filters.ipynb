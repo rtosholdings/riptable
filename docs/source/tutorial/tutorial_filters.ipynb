{
 "cells": [
  {
   "cell_type": "markdown",
   "id": "5c4c7483-d229-4a69-bca6-01a7b46654bb",
   "metadata": {
    "tags": []
   },
   "source": [
    "# Get and Operate on Subsets of Data Using Filters"
   ]
  },
  {
   "cell_type": "code",
   "execution_count": 28,
   "id": "ee151135-d1b9-46c8-a24e-aafa801003af",
   "metadata": {
    "jp-MarkdownHeadingCollapsed": true,
    "tags": []
   },
   "outputs": [
    {
     "name": "stdout",
     "output_type": "stream",
     "text": [
      "To download this notebook, right click on the link and Save link as...\n"
     ]
    },
    {
     "data": {
      "text/html": [
       "<a href='tutorial_filters.ipynb' target='_blank'>tutorial_filters.ipynb</a><br>"
      ],
      "text/plain": [
       "U:\\btcache\\scratch\\johnsonc\\jupyter\\Tutorial\\Tutorial_GitLab\\tutorial_filters.ipynb"
      ]
     },
     "execution_count": 28,
     "metadata": {},
     "output_type": "execute_result"
    }
   ],
   "source": [
    "# Generate notebook download link\n",
    "from IPython.display import FileLink\n",
    "print('To download this notebook, right click on the link and Save link as...')\n",
    "FileLink('tutorial_filters.ipynb')"
   ]
  },
  {
   "cell_type": "code",
   "execution_count": 29,
   "id": "512538f5-9727-48eb-be14-e10b4585adb6",
   "metadata": {},
   "outputs": [],
   "source": [
    "import riptable as rt\n",
    "import numpy as np"
   ]
  },
  {
   "cell_type": "code",
   "execution_count": 30,
   "id": "ef2f6166-964d-470e-96bd-9d73f5d5e63f",
   "metadata": {},
   "outputs": [],
   "source": [
    "# Display all Dataset columns -- the default max is 9.\n",
    "rt.Display.options.COL_ALL = True\n",
    "\n",
    "# Render up to 100MM before showing in scientific notation.\n",
    "rt.Display.options.E_MAX = 100_000_000\n",
    "\n",
    "# Truncate small decimals, rather than showing infinitesimal scientific notation.\n",
    "rt.Display.options.P_THRESHOLD = 0\n",
    "\n",
    "# Put commas in numbers.\n",
    "rt.Display.options.NUMBER_SEPARATOR = True\n",
    "\n",
    "# Turn on Riptable autocomplete (start typing, then press Tab to see options).\n",
    "rt.autocomplete()"
   ]
  },
  {
   "cell_type": "markdown",
   "id": "c5dd287f-6882-405c-a7a4-4c29c564a1a9",
   "metadata": {},
   "source": [
    "Earlier, we briefly explored operations for selecting data using indexing and slicing.\n",
    "\n",
    "It's more typical to use filters to get data that meets a certain condition or set of conditions.\n",
    "\n",
    "We'll work with this Dataset:"
   ]
  },
  {
   "cell_type": "code",
   "execution_count": 31,
   "id": "1f1f1b78-e45e-4906-80b9-5dafd53f90a6",
   "metadata": {},
   "outputs": [
    {
     "data": {
      "text/html": [
       "<html><head><style>table.tbl-2053 tbody td{white-space: nowrap;}table.tbl-2053 .lc{font-weight:bold;background-color: var( --jp-rendermime-table-row-hover-background);}table.tbl-2053 .lg{background-color: #66da9940;}table.tbl-2053 .lp{font-weight:bold;background-color: #ac66da40;}table.tbl-2053 .msc{font-weight:normal;background-color:#00000011;}table.tbl-2053 .al{text-align:left;}table.tbl-2053 .ar{text-align:right;}table.tbl-2053 .ac{text-align:center;}table.tbl-2053 .bld{font-weight:bold;}table.tbl-2053 .it{font-style:italic;}table.tbl-2053 .ul{text-decoration:underline;}table.tbl-2053 .st{text-decoration:line-through;}</style></head><body><table class='tbl-2053'><thead><tr><td class='lc bld ar'>#</td><td class='lc bld al'>OSISymbol      </td><td class='lc bld al'>UnderlyingSymbol</td><td class='lc bld ar'> TradeDate</td><td class='lc bld ar'>TradeSize</td><td class='lc bld ar'>TradePrice</td><td class='lc bld al'>OptionType</td><td class='lc bld ar'>Traded</td></tr></thead><tbody><tr><td class='lc  ar '>0</td><td class='  al '>VIX:200520:35:0</td><td class='  al '>VIX</td><td class='  ar '>2020-03-03</td><td class='  ar '>3.00</td><td class='  ar '>13.40</td><td class='  al '>P</td><td class='  ar '>False</td></tr><tr><td class='lc  ar '>1</td><td class='  al '>AAPL:200417:255</td><td class='  al '>AAPL</td><td class='  ar '>2020-03-19</td><td class='  ar '>1.00</td><td class='  ar '>27.50</td><td class='  al '>P</td><td class='  ar '>False</td></tr><tr><td class='lc  ar '>2</td><td class='  al '>LITE:200619:82:</td><td class='  al '>LITE</td><td class='  ar '>2020-03-24</td><td class='  ar '>5.00</td><td class='  ar '>14.80</td><td class='  al '>P</td><td class='  ar '>True</td></tr><tr><td class='lc  ar '>3</td><td class='  al '>SPY:200406:265:</td><td class='  al '>SPY</td><td class='  ar '>2020-04-06</td><td class='  ar '>50.00</td><td class='  ar '>0.14</td><td class='  al '>C</td><td class='  ar '>False</td></tr><tr><td class='lc  ar '>4</td><td class='  al '>MFA:200515:2:0:</td><td class='  al '>MFA</td><td class='  ar '>2020-04-20</td><td class='  ar '>10.00</td><td class='  ar '>0.29</td><td class='  al '>C</td><td class='  ar '>True</td></tr><tr><td class='lc  ar '>5</td><td class='  al '>XOM:220121:60:0</td><td class='  al '>XOM</td><td class='  ar '>2020-04-23</td><td class='  ar '>5.00</td><td class='  ar '>3.75</td><td class='  al '>C</td><td class='  ar '>True</td></tr><tr><td class='lc  ar '>6</td><td class='  al '>CCL:200717:12:5</td><td class='  al '>CCL</td><td class='  ar '>2020-04-27</td><td class='  ar '>1.00</td><td class='  ar '>2.55</td><td class='  al '>C</td><td class='  ar '>False</td></tr><tr><td class='lc  ar '>7</td><td class='  al '>AXSM:200515:85:</td><td class='  al '>AXSM</td><td class='  ar '>2020-05-01</td><td class='  ar '>6.00</td><td class='  ar '>7.79</td><td class='  al '>C</td><td class='  ar '>True</td></tr><tr><td class='lc  ar '>8</td><td class='  al '>UBER:200515:33:</td><td class='  al '>UBER</td><td class='  ar '>2020-05-13</td><td class='  ar '>3.00</td><td class='  ar '>0.77</td><td class='  al '>C</td><td class='  ar '>True</td></tr><tr><td class='lc  ar '>9</td><td class='  al '>TLT:200529:165:</td><td class='  al '>TLT</td><td class='  ar '>2020-05-26</td><td class='  ar '>1.00</td><td class='  ar '>1.78</td><td class='  al '>P</td><td class='  ar '>False</td></tr></tbody></table></body></html>\n",
       "\n",
       "[10 rows x 7 columns] total bytes: 450.0 B"
      ],
      "text/plain": []
     },
     "execution_count": 31,
     "metadata": {},
     "output_type": "execute_result"
    }
   ],
   "source": [
    "ds = rt.Dataset({\n",
    "    'OSISymbol': ['VIX:200520:35:0:P', 'AAPL:200417:255:0:P', 'LITE:200619:82:5:P', \n",
    "                  'SPY:200406:265:0:C', 'MFA:200515:2:0:C', 'XOM:220121:60:0:C', \n",
    "                  'CCL:200717:12:5:C', 'AXSM:200515:85:0:C', 'UBER:200515:33:0:C', \n",
    "                  'TLT:200529:165:0:P'], \n",
    "    'UnderlyingSymbol': ['VIX', 'AAPL', 'LITE', 'SPY', 'MFA', 'XOM', 'CCL', 'AXSM', \n",
    "                         'UBER', 'TLT'],\n",
    "    'TradeDate': rt.Date(['2020-03-03', '2020-03-19', '2020-03-24', '2020-04-06', \n",
    "                          '2020-04-20', '2020-04-23', '2020-04-27', '2020-05-01', \n",
    "                          '2020-05-13', '2020-05-26']),\n",
    "    'TradeSize': [3., 1., 5., 50., 10., 5., 1., 6., 3., 1.],\n",
    "    'TradePrice': [13.4, 27.5, 14.8,  0.14, 0.29,  3.75,  2.55,  7.79,  0.77,  1.78 ],\n",
    "    'OptionType': ['P', 'P', 'P', 'C', 'C', 'C', 'C', 'C', 'C', 'P'],\n",
    "    'Traded': [False, False, True, False, True, True, False, True, True, False]\n",
    "})\n",
    "\n",
    "ds"
   ]
  },
  {
   "cell_type": "markdown",
   "id": "02fdec8c-5107-43c5-b5e1-8f116d58bc61",
   "metadata": {},
   "source": [
    "## Filter a Dataset <a name=\"ds-filter\"></a>"
   ]
  },
  {
   "cell_type": "markdown",
   "id": "0643f992",
   "metadata": {},
   "source": [
    "Suppose you want to see only the rows with options that are puts. You can filter the Dataset by passing a predicate (a condition you want to be met) to `ds.filter()`."
   ]
  },
  {
   "cell_type": "code",
   "execution_count": 32,
   "id": "b936f6d2",
   "metadata": {},
   "outputs": [
    {
     "data": {
      "text/html": [
       "<html><head><style>table.tbl-2822 tbody td{white-space: nowrap;}table.tbl-2822 .lc{font-weight:bold;background-color: var( --jp-rendermime-table-row-hover-background);}table.tbl-2822 .lg{background-color: #66da9940;}table.tbl-2822 .lp{font-weight:bold;background-color: #ac66da40;}table.tbl-2822 .msc{font-weight:normal;background-color:#00000011;}table.tbl-2822 .al{text-align:left;}table.tbl-2822 .ar{text-align:right;}table.tbl-2822 .ac{text-align:center;}table.tbl-2822 .bld{font-weight:bold;}table.tbl-2822 .it{font-style:italic;}table.tbl-2822 .ul{text-decoration:underline;}table.tbl-2822 .st{text-decoration:line-through;}</style></head><body><table class='tbl-2822'><thead><tr><td class='lc bld ar'>#</td><td class='lc bld al'>OSISymbol      </td><td class='lc bld al'>UnderlyingSymbol</td><td class='lc bld ar'> TradeDate</td><td class='lc bld ar'>TradeSize</td><td class='lc bld ar'>TradePrice</td><td class='lc bld al'>OptionType</td><td class='lc bld ar'>Traded</td></tr></thead><tbody><tr><td class='lc  ar '>0</td><td class='  al '>VIX:200520:35:0</td><td class='  al '>VIX</td><td class='  ar '>2020-03-03</td><td class='  ar '>3.00</td><td class='  ar '>13.40</td><td class='  al '>P</td><td class='  ar '>False</td></tr><tr><td class='lc  ar '>1</td><td class='  al '>AAPL:200417:255</td><td class='  al '>AAPL</td><td class='  ar '>2020-03-19</td><td class='  ar '>1.00</td><td class='  ar '>27.50</td><td class='  al '>P</td><td class='  ar '>False</td></tr><tr><td class='lc  ar '>2</td><td class='  al '>LITE:200619:82:</td><td class='  al '>LITE</td><td class='  ar '>2020-03-24</td><td class='  ar '>5.00</td><td class='  ar '>14.80</td><td class='  al '>P</td><td class='  ar '>True</td></tr><tr><td class='lc  ar '>3</td><td class='  al '>TLT:200529:165:</td><td class='  al '>TLT</td><td class='  ar '>2020-05-26</td><td class='  ar '>1.00</td><td class='  ar '>1.78</td><td class='  al '>P</td><td class='  ar '>False</td></tr></tbody></table></body></html>\n",
       "\n",
       "[4 rows x 7 columns] total bytes: 180.0 B"
      ],
      "text/plain": []
     },
     "execution_count": 32,
     "metadata": {},
     "output_type": "execute_result"
    }
   ],
   "source": [
    "ds.filter(ds.OptionType == 'P')"
   ]
  },
  {
   "cell_type": "markdown",
   "id": "97ec25d6",
   "metadata": {},
   "source": [
    "`ds.filter()` returns a copy of the Dataset with the desired rows (and all columns).\n",
    "\n",
    "Note: Keep in mind that every time you use `ds.filter()`, it makes a copy of the Dataset that takes up memory. We cover a couple of strategies for minimizing memory use below, when we talk about operations on filtered data.\n",
    "\n",
    "### Filtering with Mask Arrays\n",
    "\n",
    "Let's take a closer look at the predicate we used:"
   ]
  },
  {
   "cell_type": "code",
   "execution_count": 33,
   "id": "5765addd",
   "metadata": {},
   "outputs": [
    {
     "data": {
      "text/plain": [
       "FastArray([ True,  True,  True, False, False, False, False, False, False,\n",
       "            True])"
      ]
     },
     "execution_count": 33,
     "metadata": {},
     "output_type": "execute_result"
    }
   ],
   "source": [
    "ds.OptionType == 'P'"
   ]
  },
  {
   "cell_type": "markdown",
   "id": "3dba1e00",
   "metadata": {},
   "source": [
    "Notice that it returns a FastArray of Boolean values. In our `ds.filter()` example above, we were passing the filter function that array. An array of Booleans used to filter another array (or in this case, a Dataset) is often called a Boolean mask array. (Getting subsets of data using Boolean mask arrays is also sometimes called Boolean indexing.)\n",
    "\n",
    "Where the mask array value is False, the corresponding row is omitted from the returned Dataset. Note that the mask array you pass to `ds.filter()` needs to be the same length as the Dataset.\n",
    "\n",
    "<!-- TODO: Create a graphic with the mask array graying things out? -->\n",
    "\n",
    "The 'Traded' Column in our Dataset is also an array of Booleans (and it's clearly the same length as the Dataset), so we can pass it to `ds.filter()` to see only the options that were traded."
   ]
  },
  {
   "cell_type": "code",
   "execution_count": 34,
   "id": "360f960e",
   "metadata": {},
   "outputs": [
    {
     "data": {
      "text/html": [
       "<html><head><style>table.tbl-1319 tbody td{white-space: nowrap;}table.tbl-1319 .lc{font-weight:bold;background-color: var( --jp-rendermime-table-row-hover-background);}table.tbl-1319 .lg{background-color: #66da9940;}table.tbl-1319 .lp{font-weight:bold;background-color: #ac66da40;}table.tbl-1319 .msc{font-weight:normal;background-color:#00000011;}table.tbl-1319 .al{text-align:left;}table.tbl-1319 .ar{text-align:right;}table.tbl-1319 .ac{text-align:center;}table.tbl-1319 .bld{font-weight:bold;}table.tbl-1319 .it{font-style:italic;}table.tbl-1319 .ul{text-decoration:underline;}table.tbl-1319 .st{text-decoration:line-through;}</style></head><body><table class='tbl-1319'><thead><tr><td class='lc bld ar'>#</td><td class='lc bld al'>OSISymbol      </td><td class='lc bld al'>UnderlyingSymbol</td><td class='lc bld ar'> TradeDate</td><td class='lc bld ar'>TradeSize</td><td class='lc bld ar'>TradePrice</td><td class='lc bld al'>OptionType</td><td class='lc bld ar'>Traded</td></tr></thead><tbody><tr><td class='lc  ar '>0</td><td class='  al '>LITE:200619:82:</td><td class='  al '>LITE</td><td class='  ar '>2020-03-24</td><td class='  ar '>5.00</td><td class='  ar '>14.80</td><td class='  al '>P</td><td class='  ar '>True</td></tr><tr><td class='lc  ar '>1</td><td class='  al '>MFA:200515:2:0:</td><td class='  al '>MFA</td><td class='  ar '>2020-04-20</td><td class='  ar '>10.00</td><td class='  ar '>0.29</td><td class='  al '>C</td><td class='  ar '>True</td></tr><tr><td class='lc  ar '>2</td><td class='  al '>XOM:220121:60:0</td><td class='  al '>XOM</td><td class='  ar '>2020-04-23</td><td class='  ar '>5.00</td><td class='  ar '>3.75</td><td class='  al '>C</td><td class='  ar '>True</td></tr><tr><td class='lc  ar '>3</td><td class='  al '>AXSM:200515:85:</td><td class='  al '>AXSM</td><td class='  ar '>2020-05-01</td><td class='  ar '>6.00</td><td class='  ar '>7.79</td><td class='  al '>C</td><td class='  ar '>True</td></tr><tr><td class='lc  ar '>4</td><td class='  al '>UBER:200515:33:</td><td class='  al '>UBER</td><td class='  ar '>2020-05-13</td><td class='  ar '>3.00</td><td class='  ar '>0.77</td><td class='  al '>C</td><td class='  ar '>True</td></tr></tbody></table></body></html>\n",
       "\n",
       "[5 rows x 7 columns] total bytes: 225.0 B"
      ],
      "text/plain": []
     },
     "execution_count": 34,
     "metadata": {},
     "output_type": "execute_result"
    }
   ],
   "source": [
    "ds.filter(ds.Traded)"
   ]
  },
  {
   "cell_type": "markdown",
   "id": "74d81f2c",
   "metadata": {},
   "source": [
    "Assigning variable names to your filters makes them easier to use and reuse, especially as your filter criteria get more complex.\n",
    "\n",
    "If you want to return only certain columns, you can combine the saved mask array with slicing."
   ]
  },
  {
   "cell_type": "code",
   "execution_count": 35,
   "id": "927e8fbf",
   "metadata": {},
   "outputs": [
    {
     "data": {
      "text/html": [
       "<html><head><style>table.tbl-5243 tbody td{white-space: nowrap;}table.tbl-5243 .lc{font-weight:bold;background-color: var( --jp-rendermime-table-row-hover-background);}table.tbl-5243 .lg{background-color: #66da9940;}table.tbl-5243 .lp{font-weight:bold;background-color: #ac66da40;}table.tbl-5243 .msc{font-weight:normal;background-color:#00000011;}table.tbl-5243 .al{text-align:left;}table.tbl-5243 .ar{text-align:right;}table.tbl-5243 .ac{text-align:center;}table.tbl-5243 .bld{font-weight:bold;}table.tbl-5243 .it{font-style:italic;}table.tbl-5243 .ul{text-decoration:underline;}table.tbl-5243 .st{text-decoration:line-through;}</style></head><body><table class='tbl-5243'><thead><tr><td class='lc bld ar'>#</td><td class='lc bld al'>OSISymbol      </td><td class='lc bld ar'>TradeSize</td></tr></thead><tbody><tr><td class='lc  ar '>0</td><td class='  al '>VIX:200520:35:0</td><td class='  ar '>3.00</td></tr><tr><td class='lc  ar '>1</td><td class='  al '>AAPL:200417:255</td><td class='  ar '>1.00</td></tr><tr><td class='lc  ar '>2</td><td class='  al '>LITE:200619:82:</td><td class='  ar '>5.00</td></tr><tr><td class='lc  ar '>3</td><td class='  al '>TLT:200529:165:</td><td class='  ar '>1.00</td></tr></tbody></table></body></html>\n",
       "\n",
       "[4 rows x 2 columns] total bytes: 108.0 B"
      ],
      "text/plain": []
     },
     "execution_count": 35,
     "metadata": {},
     "output_type": "execute_result"
    }
   ],
   "source": [
    "f = ds.OptionType == 'P'\n",
    "\n",
    "ds[f, ['OSISymbol', 'TradeSize']]"
   ]
  },
  {
   "cell_type": "markdown",
   "id": "fd2272cb",
   "metadata": {},
   "source": [
    "You can also use the filter on one column/FastArray."
   ]
  },
  {
   "cell_type": "code",
   "execution_count": 36,
   "id": "4f2e4636",
   "metadata": {},
   "outputs": [
    {
     "data": {
      "text/plain": [
       "FastArray([b'VIX:200520:35:0:P', b'AAPL:200417:255:0:P',\n",
       "           b'LITE:200619:82:5:P', b'TLT:200529:165:0:P'], dtype='|S19')"
      ]
     },
     "execution_count": 36,
     "metadata": {},
     "output_type": "execute_result"
    }
   ],
   "source": [
    "ds.OSISymbol[f]"
   ]
  },
  {
   "cell_type": "markdown",
   "id": "d375606f",
   "metadata": {},
   "source": [
    "The `==` is a comparison operator, one of several you can use on column data to create mask arrays that are aligned with the Dataset."
   ]
  },
  {
   "cell_type": "code",
   "execution_count": 37,
   "id": "ecafdeef",
   "metadata": {},
   "outputs": [
    {
     "data": {
      "text/plain": [
       "FastArray([False, False,  True,  True,  True,  True, False,  True, False,\n",
       "           False])"
      ]
     },
     "execution_count": 37,
     "metadata": {},
     "output_type": "execute_result"
    }
   ],
   "source": [
    "filt1 = (ds.TradeSize >= 5.00)\n",
    "\n",
    "filt1"
   ]
  },
  {
   "cell_type": "markdown",
   "id": "533984d2",
   "metadata": {},
   "source": [
    "Riptable also has binary comparison methods that are analogous to the symbol versions.\n",
    "\n",
    "<!-- (CJ Q: Are these methods with underscores the only ones? They seem a bit unwieldy compared to the symbol versions.) -->"
   ]
  },
  {
   "cell_type": "code",
   "execution_count": 38,
   "id": "d5d79412",
   "metadata": {},
   "outputs": [
    {
     "data": {
      "text/plain": [
       "FastArray([False, False, False,  True,  True, False, False, False,  True,\n",
       "           False])"
      ]
     },
     "execution_count": 38,
     "metadata": {},
     "output_type": "execute_result"
    }
   ],
   "source": [
    "filt2 = ds.TradePrice.__lt__(1.00)\n",
    "\n",
    "filt2"
   ]
  },
  {
   "cell_type": "markdown",
   "id": "4dc001dc",
   "metadata": {},
   "source": [
    "| **Comparison**           | **Symbol** | **Method** |\n",
    "|--------------------------|------------|------------|\n",
    "| Equals                   | =          | \\_\\_eq\\_\\_ |\n",
    "| Does not equal           | !=         | \\_\\_ne\\_\\_ |\n",
    "| Greater than or equal to | >=         | \\_\\_ge\\_\\_ |\n",
    "| Less than or equal to    | <=         | \\_\\_le\\_\\_ |\n",
    "| Greater than             | >          | \\_\\_gt\\_\\_ |\n",
    "| Less than                | <          | \\_\\_lt\\_\\_ |\n",
    "\n",
    "\n",
    "FastArray string methods are useful here, too.\n",
    "\n",
    "OSISymbol strings that start with 'A':"
   ]
  },
  {
   "cell_type": "code",
   "execution_count": 39,
   "id": "71cff7bd",
   "metadata": {},
   "outputs": [
    {
     "data": {
      "text/plain": [
       "FastArray([False,  True, False, False, False, False, False,  True, False,\n",
       "           False])"
      ]
     },
     "execution_count": 39,
     "metadata": {},
     "output_type": "execute_result"
    }
   ],
   "source": [
    "ds.OSISymbol.str.startswith('A')"
   ]
  },
  {
   "cell_type": "markdown",
   "id": "1e711a05",
   "metadata": {},
   "source": [
    "That contain the substring '2005':"
   ]
  },
  {
   "cell_type": "code",
   "execution_count": 40,
   "id": "686c46ad",
   "metadata": {},
   "outputs": [
    {
     "data": {
      "text/plain": [
       "FastArray([ True, False, False, False,  True, False, False,  True,  True,\n",
       "            True])"
      ]
     },
     "execution_count": 40,
     "metadata": {},
     "output_type": "execute_result"
    }
   ],
   "source": [
    "ds.OSISymbol.str.contains('2005')"
   ]
  },
  {
   "cell_type": "markdown",
   "id": "0be565b3",
   "metadata": {},
   "source": [
    "Strings in the UnderlyingSymbol column that end with 'L':"
   ]
  },
  {
   "cell_type": "code",
   "execution_count": 41,
   "id": "8f4abe69",
   "metadata": {},
   "outputs": [
    {
     "data": {
      "text/plain": [
       "FastArray([False,  True, False, False, False, False,  True, False, False,\n",
       "           False])"
      ]
     },
     "execution_count": 41,
     "metadata": {},
     "output_type": "execute_result"
    }
   ],
   "source": [
    "ds.UnderlyingSymbol.str.regex_match('L$')"
   ]
  },
  {
   "cell_type": "markdown",
   "id": "0cb62905",
   "metadata": {},
   "source": [
    "### Set Values in Columns with Filters and `where()`\n",
    "\n",
    "You can use mask arrays to update values that meet the filter condition (that is, where the mask array is `True`)."
   ]
  },
  {
   "cell_type": "code",
   "execution_count": 42,
   "id": "15cc3ed0",
   "metadata": {},
   "outputs": [
    {
     "data": {
      "text/html": [
       "<html><head><style>table.tbl-4753 tbody td{white-space: nowrap;}table.tbl-4753 .lc{font-weight:bold;background-color: var( --jp-rendermime-table-row-hover-background);}table.tbl-4753 .lg{background-color: #66da9940;}table.tbl-4753 .lp{font-weight:bold;background-color: #ac66da40;}table.tbl-4753 .msc{font-weight:normal;background-color:#00000011;}table.tbl-4753 .al{text-align:left;}table.tbl-4753 .ar{text-align:right;}table.tbl-4753 .ac{text-align:center;}table.tbl-4753 .bld{font-weight:bold;}table.tbl-4753 .it{font-style:italic;}table.tbl-4753 .ul{text-decoration:underline;}table.tbl-4753 .st{text-decoration:line-through;}</style></head><body><table class='tbl-4753'><thead><tr><td class='lc bld ar'>#</td><td class='lc bld al'>OSISymbol      </td><td class='lc bld al'>UnderlyingSymbol</td><td class='lc bld ar'> TradeDate</td><td class='lc bld ar'>TradeSize</td><td class='lc bld ar'>TradePrice</td><td class='lc bld al'>OptionType</td><td class='lc bld ar'>Traded</td></tr></thead><tbody><tr><td class='lc  ar '>0</td><td class='  al '>VIX:200520:35:0</td><td class='  al '>VIX</td><td class='  ar '>2020-03-03</td><td class='  ar '>3.00</td><td class='  ar '>13.40</td><td class='  al '>P</td><td class='  ar '>False</td></tr><tr><td class='lc  ar '>1</td><td class='  al '>AAPL:200417:255</td><td class='  al '>AAPL</td><td class='  ar '>2020-03-19</td><td class='  ar '>1.00</td><td class='  ar '>27.50</td><td class='  al '>P</td><td class='  ar '>False</td></tr><tr><td class='lc  ar '>2</td><td class='  al '>LITE:200619:82:</td><td class='  al '>LITE</td><td class='  ar '>2020-03-24</td><td class='  ar '>75.00</td><td class='  ar '>14.80</td><td class='  al '>P</td><td class='  ar '>True</td></tr><tr><td class='lc  ar '>3</td><td class='  al '>SPY:200406:265:</td><td class='  al '>SPY</td><td class='  ar '>2020-04-06</td><td class='  ar '>75.00</td><td class='  ar '>0.14</td><td class='  al '>C</td><td class='  ar '>False</td></tr><tr><td class='lc  ar '>4</td><td class='  al '>MFA:200515:2:0:</td><td class='  al '>MFA</td><td class='  ar '>2020-04-20</td><td class='  ar '>75.00</td><td class='  ar '>0.29</td><td class='  al '>C</td><td class='  ar '>True</td></tr><tr><td class='lc  ar '>5</td><td class='  al '>XOM:220121:60:0</td><td class='  al '>XOM</td><td class='  ar '>2020-04-23</td><td class='  ar '>75.00</td><td class='  ar '>3.75</td><td class='  al '>C</td><td class='  ar '>True</td></tr><tr><td class='lc  ar '>6</td><td class='  al '>CCL:200717:12:5</td><td class='  al '>CCL</td><td class='  ar '>2020-04-27</td><td class='  ar '>1.00</td><td class='  ar '>2.55</td><td class='  al '>C</td><td class='  ar '>False</td></tr><tr><td class='lc  ar '>7</td><td class='  al '>AXSM:200515:85:</td><td class='  al '>AXSM</td><td class='  ar '>2020-05-01</td><td class='  ar '>75.00</td><td class='  ar '>7.79</td><td class='  al '>C</td><td class='  ar '>True</td></tr><tr><td class='lc  ar '>8</td><td class='  al '>UBER:200515:33:</td><td class='  al '>UBER</td><td class='  ar '>2020-05-13</td><td class='  ar '>3.00</td><td class='  ar '>0.77</td><td class='  al '>C</td><td class='  ar '>True</td></tr><tr><td class='lc  ar '>9</td><td class='  al '>TLT:200529:165:</td><td class='  al '>TLT</td><td class='  ar '>2020-05-26</td><td class='  ar '>1.00</td><td class='  ar '>1.78</td><td class='  al '>P</td><td class='  ar '>False</td></tr></tbody></table></body></html>\n",
       "\n",
       "[10 rows x 7 columns] total bytes: 450.0 B"
      ],
      "text/plain": []
     },
     "execution_count": 42,
     "metadata": {},
     "output_type": "execute_result"
    }
   ],
   "source": [
    "ds.TradeSize[filt1] = 75.0\n",
    "\n",
    "ds"
   ]
  },
  {
   "cell_type": "markdown",
   "id": "acd125fb",
   "metadata": {},
   "source": [
    "With `where()`, you can set values in a FastArray based on whether or not they meet a certain condition. It takes three arguments: `condition`, `x`, and `y`. Where the condition is met, it returns `x`; otherwise, it returns `y`. \n",
    "    \n",
    "Here, for instance, `where()` returns `a` where `a < 5`; otherwise it returns `10 * a`."
   ]
  },
  {
   "cell_type": "code",
   "execution_count": 43,
   "id": "9596ce88",
   "metadata": {},
   "outputs": [
    {
     "data": {
      "text/plain": [
       "FastArray([ 0,  1,  2,  3,  4, 50, 60, 70, 80, 90])"
      ]
     },
     "execution_count": 43,
     "metadata": {},
     "output_type": "execute_result"
    }
   ],
   "source": [
    "a = rt.FA([0, 1, 2, 3, 4, 5, 6, 7, 8, 9])\n",
    "\n",
    "rt.where(a < 5, a, 10 * a)"
   ]
  },
  {
   "cell_type": "markdown",
   "id": "ace4d0da",
   "metadata": {},
   "source": [
    "### Create More Complex Boolean Mask Filters with Bitwise Logic Operators (`&`, `|`, `~`)\n",
    "\n",
    "You can build more complex filters using Python's bitwise logic operators, `&` (bitwise and), `|` (bitwise or), and `~` (bitwise not).\n",
    "\n",
    "Let's say you want to construct a filter that returns True for calls over $2.00. You can use `&` to ensure that both of those conditions are met."
   ]
  },
  {
   "cell_type": "code",
   "execution_count": 44,
   "id": "70354ab1",
   "metadata": {},
   "outputs": [
    {
     "data": {
      "text/plain": [
       "FastArray([False, False, False, False, False,  True,  True,  True, False,\n",
       "           False])"
      ]
     },
     "execution_count": 44,
     "metadata": {},
     "output_type": "execute_result"
    }
   ],
   "source": [
    "callsover2 = (ds.OptionType == 'C') & (ds.TradePrice > 2.00)\n",
    "\n",
    "callsover2"
   ]
  },
  {
   "cell_type": "markdown",
   "id": "8f089c4b",
   "metadata": {},
   "source": [
    "Warning: When you use bitwise logic operators, always wrap the expressions on either side in parentheses (as above) to make sure they're evaluated in the right order. Without the parentheses, operator precedence rules would cause the expression above to be evaluated as `ds.OptionType == ('C' & ds.TradePrice) > 2.00`, which would result in an extremely slow call into native Python, followed by a crash. Also note that the Python keywords `AND`, `OR`, and `NOT` do not work with Boolean arrays. Use `&`, `|`, or `~` instead.\n",
    "\n",
    "\n",
    "More examples of filter combinations:"
   ]
  },
  {
   "cell_type": "code",
   "execution_count": 45,
   "id": "09d28a1f",
   "metadata": {},
   "outputs": [],
   "source": [
    "# Define two filters\n",
    "f1 = (ds.TradeSize <= 3.00)\n",
    "f2 = (ds.TradePrice > 3.00)"
   ]
  },
  {
   "cell_type": "markdown",
   "id": "ccd4d06b",
   "metadata": {},
   "source": [
    "True if both are True:"
   ]
  },
  {
   "cell_type": "code",
   "execution_count": 46,
   "id": "aa55d927",
   "metadata": {},
   "outputs": [
    {
     "data": {
      "text/plain": [
       "FastArray([ True,  True, False, False, False, False, False, False, False,\n",
       "           False])"
      ]
     },
     "execution_count": 46,
     "metadata": {},
     "output_type": "execute_result"
    }
   ],
   "source": [
    "f1 & f2"
   ]
  },
  {
   "cell_type": "markdown",
   "id": "36401707",
   "metadata": {},
   "source": [
    "True if either one is True:"
   ]
  },
  {
   "cell_type": "code",
   "execution_count": 47,
   "id": "b9ffcc09",
   "metadata": {},
   "outputs": [
    {
     "data": {
      "text/plain": [
       "FastArray([ True,  True,  True, False, False,  True,  True,  True,  True,\n",
       "            True])"
      ]
     },
     "execution_count": 47,
     "metadata": {},
     "output_type": "execute_result"
    }
   ],
   "source": [
    "f1 | f2"
   ]
  },
  {
   "cell_type": "markdown",
   "id": "61f67420",
   "metadata": {},
   "source": [
    "The negation of the `f1` filter:"
   ]
  },
  {
   "cell_type": "code",
   "execution_count": 48,
   "id": "6f28cca7",
   "metadata": {},
   "outputs": [
    {
     "data": {
      "text/plain": [
       "FastArray([False, False,  True,  True,  True,  True, False,  True, False,\n",
       "           False])"
      ]
     },
     "execution_count": 48,
     "metadata": {},
     "output_type": "execute_result"
    }
   ],
   "source": [
    "~f1"
   ]
  },
  {
   "cell_type": "markdown",
   "id": "d391e473",
   "metadata": {},
   "source": [
    "As you create more complex filters, keep in mind another good use of a Riptable Struct: storing your filters to save and reload them later."
   ]
  },
  {
   "cell_type": "code",
   "execution_count": 49,
   "id": "75cba0e6",
   "metadata": {},
   "outputs": [
    {
     "data": {
      "text/html": [
       "<html><head><style>table.tbl-3080 tbody td{white-space: nowrap;}table.tbl-3080 .lc{font-weight:bold;background-color: var( --jp-rendermime-table-row-hover-background);}table.tbl-3080 .lg{background-color: #66da9940;}table.tbl-3080 .lp{font-weight:bold;background-color: #ac66da40;}table.tbl-3080 .msc{font-weight:normal;background-color:#00000011;}table.tbl-3080 .al{text-align:left;}table.tbl-3080 .ar{text-align:right;}table.tbl-3080 .ac{text-align:center;}table.tbl-3080 .bld{font-weight:bold;}table.tbl-3080 .it{font-style:italic;}table.tbl-3080 .ul{text-decoration:underline;}table.tbl-3080 .st{text-decoration:line-through;}</style></head><body><table class='tbl-3080'><thead><tr><td class='lc bld ar'>#</td><td class='lc bld al'>Name      </td><td class='lc bld al'>Type   </td><td class='lc bld al'>Size            </td><td class='lc bld al'>0    </td><td class='lc bld al'>1    </td><td class='lc bld al'>2    </td></tr></thead><tbody><tr><td class='lc  ar '>0</td><td class='  al '>ds</td><td class='  al '>Dataset</td><td class='  al '>10 rows x 7 cols</td><td class='  al '></td><td class='  al '></td><td class='  al '></td></tr><tr><td class='lc  ar '>1</td><td class='  al '>callsover2</td><td class='  al '>bool</td><td class='  al '>10</td><td class='  al '>False</td><td class='  al '>False</td><td class='  al '>False</td></tr></tbody></table></body></html>\n",
       "\n",
       "[2 columns]"
      ],
      "text/plain": []
     },
     "execution_count": 49,
     "metadata": {},
     "output_type": "execute_result"
    }
   ],
   "source": [
    "s = rt.Struct()\n",
    "s.ds = ds\n",
    "s.callsover2 = callsover2\n",
    "\n",
    "s"
   ]
  },
  {
   "cell_type": "markdown",
   "id": "6455618f-f7e8-42a4-b127-59567bc9d550",
   "metadata": {},
   "source": [
    "## Operate on Filtered Data <a id=\"ds-filtops\" />"
   ]
  },
  {
   "cell_type": "markdown",
   "id": "94e2cba2",
   "metadata": {},
   "source": [
    "Looking at filtered data can provide some useful insights. But often, filtering data is just a prelude to operating on it.\n",
    "\n",
    "Say you want to compute the total size of options that were traded. Given that we just covered `ds.filter()`, you might be tempted to do this:"
   ]
  },
  {
   "cell_type": "code",
   "execution_count": 50,
   "id": "51968ed4",
   "metadata": {},
   "outputs": [
    {
     "data": {
      "text/plain": [
       "303.0"
      ]
     },
     "execution_count": 50,
     "metadata": {},
     "output_type": "execute_result"
    }
   ],
   "source": [
    "ds.filter(ds.Traded).TradeSize.nansum()"
   ]
  },
  {
   "cell_type": "markdown",
   "id": "9069ce93",
   "metadata": {},
   "source": [
    "However, remember that `ds.filter()` returns a copy of the Dataset, filtered by the mask array. This is unnecessary here -- we're only interested in the subset of one column of data. Fortunately, there are a couple of ways to work only on the data we need.\n",
    "\n",
    "\n",
    "We can pass a filter argument to `nansum()` with the Boolean array contained in `ds.Traded`."
   ]
  },
  {
   "cell_type": "code",
   "execution_count": 51,
   "id": "01854e4f",
   "metadata": {},
   "outputs": [
    {
     "data": {
      "text/plain": [
       "303.0"
      ]
     },
     "execution_count": 51,
     "metadata": {},
     "output_type": "execute_result"
    }
   ],
   "source": [
    "ds.TradeSize.nansum(filter=ds.Traded)"
   ]
  },
  {
   "cell_type": "markdown",
   "id": "41bb83f0-1cc5-47e8-af94-2590db0fc15d",
   "metadata": {},
   "source": [
    "This gets the sum of only the values in the TradeSize column that meet the filter criteria."
   ]
  },
  {
   "cell_type": "markdown",
   "id": "88b337f5-d420-4ce4-8bb9-b142a568f356",
   "metadata": {},
   "source": [
    "Note that the `filter=` is needed here -- if you just pass the Boolean array by itself, the array will be silently ignored."
   ]
  },
  {
   "cell_type": "code",
   "execution_count": 52,
   "id": "4c57a4ab-9212-47cd-87f1-ab4dff42a9b6",
   "metadata": {},
   "outputs": [
    {
     "data": {
      "text/plain": [
       "384.0"
      ]
     },
     "execution_count": 52,
     "metadata": {},
     "output_type": "execute_result"
    }
   ],
   "source": [
    "ds.TradeSize.nansum(ds.Traded)"
   ]
  },
  {
   "cell_type": "markdown",
   "id": "d577b902-b78f-4b29-a550-535a05ee1b24",
   "metadata": {},
   "source": [
    "Alternatively, we can pass our Boolean filter to the TradeSize column to get only the sizes for the options that were traded. Then we get the sum."
   ]
  },
  {
   "cell_type": "code",
   "execution_count": 53,
   "id": "8c8dac3f",
   "metadata": {},
   "outputs": [
    {
     "data": {
      "text/plain": [
       "303.0"
      ]
     },
     "execution_count": 53,
     "metadata": {},
     "output_type": "execute_result"
    }
   ],
   "source": [
    "ds.TradeSize[ds.Traded].nansum()"
   ]
  },
  {
   "cell_type": "markdown",
   "id": "978d206b-aab2-43ac-b07a-e967f37c79ca",
   "metadata": {},
   "source": [
    "This filters the TradeSize column, then gets the sum.\n",
    "\n",
    "Both of these methods are much more memory-friendly and computationally efficient than filtering (and making a copy of) the entire Dataset.\n",
    "\n",
    "Getting familiar with method chaining in Python can help you understand the order in which chained operations are applied."
   ]
  },
  {
   "cell_type": "markdown",
   "id": "e082f827-2438-475d-8824-f5d855f611fc",
   "metadata": {},
   "source": [
    "Next, we'll check out Riptable's datetime objects: [Work with Dates and Times](tutorial_datetimes.ipynb)."
   ]
  },
  {
   "cell_type": "markdown",
   "id": "4ddbfda6-cffc-4a32-9216-4199dc863372",
   "metadata": {},
   "source": [
    "<br>\n",
    "<br>\n",
    "\n",
    "---\n",
    "\n",
    "Questions or comments about this guide? Email RiptableDocumentation@sig.com."
   ]
  }
 ],
 "metadata": {
  "kernelspec": {
   "display_name": "Python 3 (ipykernel)",
   "language": "python",
   "name": "python3"
  },
  "language_info": {
   "codemirror_mode": {
    "name": "ipython",
    "version": 3
   },
   "file_extension": ".py",
   "mimetype": "text/x-python",
   "name": "python",
   "nbconvert_exporter": "python",
   "pygments_lexer": "ipython3",
   "version": "3.9.12"
  }
 },
 "nbformat": 4,
 "nbformat_minor": 5
}
