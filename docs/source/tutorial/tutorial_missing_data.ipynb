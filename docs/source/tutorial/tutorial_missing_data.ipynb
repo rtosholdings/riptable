{
 "cells": [
  {
   "cell_type": "markdown",
   "id": "d0f1844e-19a7-4217-9037-c95d5a1173a5",
   "metadata": {
    "tags": []
   },
   "source": [
    "# Working with Missing Data"
   ]
  },
  {
   "cell_type": "code",
   "execution_count": 45,
   "id": "021c824c-65d7-4683-93da-799f93af7b3b",
   "metadata": {
    "jp-MarkdownHeadingCollapsed": true,
    "tags": []
   },
   "outputs": [
    {
     "name": "stdout",
     "output_type": "stream",
     "text": [
      "To download this notebook, right click on the link and Save link as...\n"
     ]
    },
    {
     "data": {
      "text/html": [
       "<a href='tutorial_missing_data.ipynb' target='_blank'>tutorial_missing_data.ipynb</a><br>"
      ],
      "text/plain": [
       "X:\\btcache\\scratch\\johnsonc\\jupyter\\Tutorial\\Tutorial_GitLab\\tutorial_missing_data.ipynb"
      ]
     },
     "execution_count": 45,
     "metadata": {},
     "output_type": "execute_result"
    }
   ],
   "source": [
    "# Generate notebook download link\n",
    "from IPython.display import FileLink\n",
    "print('To download this notebook, right click on the link and Save link as...')\n",
    "FileLink('tutorial_missing_data.ipynb')"
   ]
  },
  {
   "cell_type": "code",
   "execution_count": 46,
   "id": "e75213b9-baeb-4e7e-ac17-9a655b433c0d",
   "metadata": {},
   "outputs": [],
   "source": [
    "import riptable as rt\n",
    "import numpy as np\n",
    "import pandas as pd"
   ]
  },
  {
   "cell_type": "code",
   "execution_count": 47,
   "id": "ce8755c3-5d1e-40f0-91cf-a35a76efdd84",
   "metadata": {},
   "outputs": [],
   "source": [
    "# Display all Dataset columns -- the default max is 9.\n",
    "rt.Display.options.COL_ALL = True\n",
    "\n",
    "# Render up to 100MM before showing in scientific notation.\n",
    "rt.Display.options.E_MAX = 100_000_000\n",
    "\n",
    "# Truncate small decimals, rather than showing infinitesimal scientific notation.\n",
    "rt.Display.options.P_THRESHOLD = 0\n",
    "\n",
    "# Put commas in numbers.\n",
    "rt.Display.options.NUMBER_SEPARATOR = True\n",
    "\n",
    "# Turn on Riptable autocomplete (start typing, then press Tab to see options).\n",
    "rt.autocomplete()"
   ]
  },
  {
   "cell_type": "markdown",
   "id": "3e5e8ca8-d2ee-492c-a9f6-5707fb4a2ea2",
   "metadata": {
    "tags": []
   },
   "source": [
    "When you work with real-world data, you often have to deal with missing values. It's useful to know how Riptable stores and represents missing values, how to detect missing values in your data, and how you can use a few strategies to fill in missing values so you can continue to work with the data effectively.\n",
    "\n",
    "If you convert data between Riptable and other libraries, it's also important to know how conversions of missing values are handled. In this section, we show how missing values are converted between Riptable and Pandas."
   ]
  },
  {
   "cell_type": "markdown",
   "id": "cce189b7-2031-4e51-87ea-a9bc96c1c22b",
   "metadata": {},
   "source": [
    "## Riptable Sentinel Values"
   ]
  },
  {
   "cell_type": "markdown",
   "id": "f7e5cf34-bf0b-46b6-907a-088e8fae97fd",
   "metadata": {},
   "source": [
    "Riptable uses sentinel values for missing data. Missing floating-point numbers are `NaN`s (Not a Number), per the IEEE Standard for Floating-Point Arithmetic. In Riptable, missing floating-point numbers are indicated by `nan`.  Missing integers are indicated by `Inv`."
   ]
  },
  {
   "cell_type": "code",
   "execution_count": 48,
   "id": "551469a9",
   "metadata": {},
   "outputs": [
    {
     "data": {
      "text/html": [
       "<html><head><style>table.tbl-4292 tbody td{white-space: nowrap;}table.tbl-4292 .lc{font-weight:bold;background-color: var( --jp-rendermime-table-row-hover-background);}table.tbl-4292 .lg{background-color: #66da9940;}table.tbl-4292 .lp{font-weight:bold;background-color: #ac66da40;}table.tbl-4292 .msc{font-weight:normal;background-color:#00000011;}table.tbl-4292 .al{text-align:left;}table.tbl-4292 .ar{text-align:right;}table.tbl-4292 .ac{text-align:center;}table.tbl-4292 .bld{font-weight:bold;}table.tbl-4292 .it{font-style:italic;}table.tbl-4292 .ul{text-decoration:underline;}table.tbl-4292 .st{text-decoration:line-through;}</style></head><body><table class='tbl-4292'><thead><tr><td class='lc bld ar'>#</td><td class='lc bld ar'>Ints</td><td class='lc bld ar'>Floats</td></tr></thead><tbody><tr><td class='lc  ar '>0</td><td class='  ar '>Inv</td><td class='  ar '>nan</td></tr><tr><td class='lc  ar '>1</td><td class='  ar '>2</td><td class='  ar '>1.50</td></tr><tr><td class='lc  ar '>2</td><td class='  ar '>3</td><td class='  ar '>2.70</td></tr></tbody></table></body></html>\n",
       "\n",
       "[3 rows x 2 columns] total bytes: 36.0 B"
      ],
      "text/plain": []
     },
     "execution_count": 48,
     "metadata": {},
     "output_type": "execute_result"
    }
   ],
   "source": [
    "ds = rt.Dataset({'Ints': [1, 2, 3], 'Floats': [0.1, 1.5, 2.7]})\n",
    "ds.Ints[0] = ds.Ints.inv\n",
    "ds.Floats[0] = ds.Floats.inv\n",
    "\n",
    "ds"
   ]
  },
  {
   "cell_type": "markdown",
   "id": "02f8db1e",
   "metadata": {},
   "source": [
    "Note the difference in how they're stored. The floating-point `NaN` is stored as `nan`."
   ]
  },
  {
   "cell_type": "code",
   "execution_count": 49,
   "id": "43c5cb78",
   "metadata": {},
   "outputs": [
    {
     "data": {
      "text/plain": [
       "FastArray([nan, 1.5, 2.7])"
      ]
     },
     "execution_count": 49,
     "metadata": {},
     "output_type": "execute_result"
    }
   ],
   "source": [
    "ds.Floats"
   ]
  },
  {
   "cell_type": "markdown",
   "id": "6f5b4ca8",
   "metadata": {},
   "source": [
    "The missing integer is a large negative number."
   ]
  },
  {
   "cell_type": "code",
   "execution_count": 50,
   "id": "b33130eb",
   "metadata": {},
   "outputs": [
    {
     "data": {
      "text/plain": [
       "FastArray([-2147483648,           2,           3])"
      ]
     },
     "execution_count": 50,
     "metadata": {},
     "output_type": "execute_result"
    }
   ],
   "source": [
    "ds.Ints"
   ]
  },
  {
   "cell_type": "markdown",
   "id": "48f5eff1",
   "metadata": {},
   "source": [
    "In Riptable, missing interger values are stored as `-MAXINT` for ints and `MAXINT` for unsigned ints. This has the potential to cause problems, which we'll look at below.\n",
    "\n",
    "Tip: To find out what the missing/invalid value is for an array, use `inv` property. The array doesn't necessarily contain the invalid value; what's returned is the invalid value for the array's dtype."
   ]
  },
  {
   "cell_type": "code",
   "execution_count": 51,
   "id": "3f2e4c59",
   "metadata": {},
   "outputs": [
    {
     "data": {
      "text/plain": [
       "-2147483648"
      ]
     },
     "execution_count": 51,
     "metadata": {},
     "output_type": "execute_result"
    }
   ],
   "source": [
    "ds.Ints.inv"
   ]
  },
  {
   "cell_type": "markdown",
   "id": "70caae74",
   "metadata": {},
   "source": [
    "Arithmetic with floating-point `NaN` values is well-established: any operation involving a `NaN` is another `NaN`."
   ]
  },
  {
   "cell_type": "code",
   "execution_count": 52,
   "id": "b39bbdf8",
   "metadata": {},
   "outputs": [
    {
     "data": {
      "text/html": [
       "<html><head><style>table.tbl-2704 tbody td{white-space: nowrap;}table.tbl-2704 .lc{font-weight:bold;background-color: var( --jp-rendermime-table-row-hover-background);}table.tbl-2704 .lg{background-color: #66da9940;}table.tbl-2704 .lp{font-weight:bold;background-color: #ac66da40;}table.tbl-2704 .msc{font-weight:normal;background-color:#00000011;}table.tbl-2704 .al{text-align:left;}table.tbl-2704 .ar{text-align:right;}table.tbl-2704 .ac{text-align:center;}table.tbl-2704 .bld{font-weight:bold;}table.tbl-2704 .it{font-style:italic;}table.tbl-2704 .ul{text-decoration:underline;}table.tbl-2704 .st{text-decoration:line-through;}</style></head><body><table class='tbl-2704'><thead><tr><td class='lc bld ar'>#</td><td class='lc bld ar'>Ints</td><td class='lc bld ar'>Floats</td><td class='lc bld ar'>FloatsPlus</td></tr></thead><tbody><tr><td class='lc  ar '>0</td><td class='  ar '>Inv</td><td class='  ar '>nan</td><td class='  ar '>nan</td></tr><tr><td class='lc  ar '>1</td><td class='  ar '>2</td><td class='  ar '>1.50</td><td class='  ar '>3.00</td></tr><tr><td class='lc  ar '>2</td><td class='  ar '>3</td><td class='  ar '>2.70</td><td class='  ar '>5.40</td></tr></tbody></table></body></html>\n",
       "\n",
       "[3 rows x 3 columns] total bytes: 60.0 B"
      ],
      "text/plain": []
     },
     "execution_count": 52,
     "metadata": {},
     "output_type": "execute_result"
    }
   ],
   "source": [
    "ds.Floats.sum()\n",
    "ds.FloatsPlus = ds.Floats * 2\n",
    "\n",
    "ds"
   ]
  },
  {
   "cell_type": "markdown",
   "id": "1656240c",
   "metadata": {},
   "source": [
    "To help, many arithmatic functions have NaN versions that ignore `NaN` values."
   ]
  },
  {
   "cell_type": "code",
   "execution_count": 53,
   "id": "fd755ba3",
   "metadata": {},
   "outputs": [
    {
     "data": {
      "text/plain": [
       "5"
      ]
     },
     "execution_count": 53,
     "metadata": {},
     "output_type": "execute_result"
    }
   ],
   "source": [
    "ds.Ints.nansum()"
   ]
  },
  {
   "cell_type": "markdown",
   "id": "8d684712-8d7a-409a-a760-a7b7c970f499",
   "metadata": {},
   "source": [
    "Be careful with missing integers, however! As of this writing, missing integer values are treated at face value in arithmetic operations."
   ]
  },
  {
   "cell_type": "code",
   "execution_count": 54,
   "id": "9a7a74ad",
   "metadata": {},
   "outputs": [
    {
     "data": {
      "text/plain": [
       "-2147483643"
      ]
     },
     "execution_count": 54,
     "metadata": {},
     "output_type": "execute_result"
    }
   ],
   "source": [
    "ds.Ints.sum()"
   ]
  },
  {
   "cell_type": "markdown",
   "id": "04fcba9d",
   "metadata": {},
   "source": [
    "Fortunately, the `NaN` versions ignore the missing values."
   ]
  },
  {
   "cell_type": "code",
   "execution_count": 55,
   "id": "d9ff25ea",
   "metadata": {},
   "outputs": [
    {
     "data": {
      "text/plain": [
       "5"
      ]
     },
     "execution_count": 55,
     "metadata": {},
     "output_type": "execute_result"
    }
   ],
   "source": [
    "ds.Ints.nansum()"
   ]
  },
  {
   "cell_type": "markdown",
   "id": "836cde01",
   "metadata": {},
   "source": [
    "There are a few methods for detecting missing values in Riptable structures.\n",
    "\n",
    "For FastArrays, `isnan()` and `notna()` both return Boolean mask arrays. As you might expect, `isnan()` returns True where it finds a `NaN` value."
   ]
  },
  {
   "cell_type": "code",
   "execution_count": 56,
   "id": "2ceb0bb4",
   "metadata": {},
   "outputs": [
    {
     "data": {
      "text/plain": [
       "FastArray([ True, False, False])"
      ]
     },
     "execution_count": 56,
     "metadata": {},
     "output_type": "execute_result"
    }
   ],
   "source": [
    "ds.Ints.isnan()"
   ]
  },
  {
   "cell_type": "markdown",
   "id": "14726d7d",
   "metadata": {},
   "source": [
    "And `notna()` returns True where it finds a non-`NaN` value."
   ]
  },
  {
   "cell_type": "code",
   "execution_count": 57,
   "id": "166480ec",
   "metadata": {},
   "outputs": [
    {
     "data": {
      "text/plain": [
       "FastArray([False,  True,  True])"
      ]
     },
     "execution_count": 57,
     "metadata": {},
     "output_type": "execute_result"
    }
   ],
   "source": [
    "ds.Floats.notna()"
   ]
  },
  {
   "cell_type": "markdown",
   "id": "ac541a1d",
   "metadata": {},
   "source": [
    "A more general approach is to use `isfinite()`. It returns a Boolean array where False indicates either a `NaN` or a value of positive or negative infinity."
   ]
  },
  {
   "cell_type": "code",
   "execution_count": 58,
   "id": "ff02a09b",
   "metadata": {},
   "outputs": [
    {
     "data": {
      "text/plain": [
       "FastArray([False, False,  True])"
      ]
     },
     "execution_count": 58,
     "metadata": {},
     "output_type": "execute_result"
    }
   ],
   "source": [
    "ds.Floats[1] = np.inf\n",
    "ds.Floats.isfinite()"
   ]
  },
  {
   "cell_type": "markdown",
   "id": "43d4c4be",
   "metadata": {},
   "source": [
    "And as you might imagine, `isnotfinite()` does the opposite."
   ]
  },
  {
   "cell_type": "code",
   "execution_count": 59,
   "id": "5658c4ef",
   "metadata": {},
   "outputs": [
    {
     "data": {
      "text/plain": [
       "FastArray([ True,  True, False])"
      ]
     },
     "execution_count": 59,
     "metadata": {},
     "output_type": "execute_result"
    }
   ],
   "source": [
    "ds.Floats.isnotfinite()"
   ]
  },
  {
   "cell_type": "markdown",
   "id": "4339c3cf",
   "metadata": {},
   "source": [
    "Note that `inf` is not considered a `NaN`. The `NaN` versions of functions don't ignore infinite values (the result is positive or negative `inf`), so it can be good to check for them."
   ]
  },
  {
   "cell_type": "code",
   "execution_count": 60,
   "id": "40810b4a",
   "metadata": {},
   "outputs": [
    {
     "data": {
      "text/plain": [
       "inf"
      ]
     },
     "execution_count": 60,
     "metadata": {},
     "output_type": "execute_result"
    }
   ],
   "source": [
    "ds.Floats.nansum()"
   ]
  },
  {
   "cell_type": "markdown",
   "id": "3e8d8da6",
   "metadata": {},
   "source": [
    "For Datasets, `mask_and_isnan()` and `mask_or_isnan()` each return a FastArray of Booleans with a value for each row:\n",
    "- `mask_and_isnan()` returns True for each row in which every value is `NaN`."
   ]
  },
  {
   "cell_type": "code",
   "execution_count": 61,
   "id": "bebc35d1",
   "metadata": {},
   "outputs": [
    {
     "data": {
      "text/plain": [
       "FastArray([ True, False, False])"
      ]
     },
     "execution_count": 61,
     "metadata": {},
     "output_type": "execute_result"
    }
   ],
   "source": [
    "ds.mask_and_isnan()"
   ]
  },
  {
   "cell_type": "markdown",
   "id": "fcb6bf44",
   "metadata": {},
   "source": [
    "- `mask_or_isnan()` returns True for each row in which at least one value is `NaN`."
   ]
  },
  {
   "cell_type": "code",
   "execution_count": 62,
   "id": "05bcb50b-d843-4b7b-9e46-4fd60410ec1a",
   "metadata": {},
   "outputs": [
    {
     "data": {
      "text/plain": [
       "FastArray([ True, False, False])"
      ]
     },
     "execution_count": 62,
     "metadata": {},
     "output_type": "execute_result"
    }
   ],
   "source": [
    "ds.mask_or_isnan()"
   ]
  },
  {
   "cell_type": "markdown",
   "id": "4ff4444f-2ddc-4c88-90ca-6ff81a70f245",
   "metadata": {},
   "source": [
    "## Merging with Missing Values"
   ]
  },
  {
   "cell_type": "markdown",
   "id": "ea683124-0565-4249-86a8-d8f26e320208",
   "metadata": {},
   "source": [
    "As with Python and NumPy, `rt.nan != rt.nan`. That means that merge functions do not treat `NaN` keys as equal values.\n",
    "\n",
    "The following Datasets each have a `NaN` in their key column:"
   ]
  },
  {
   "cell_type": "code",
   "execution_count": 63,
   "id": "6d600a10-4f8f-47dc-aae8-d7eab111ef6d",
   "metadata": {},
   "outputs": [],
   "source": [
    "ds1 = rt.Dataset({'Key': [1.0, rt.nan, 2.0,],\n",
    "                  'Value1': [1.0, 2.0, 3.0]})\n",
    "\n",
    "ds2 = rt.Dataset({'Key': [1.0, 2.0, rt.nan],\n",
    "                  'Value2': [1.0, 2.0, 3.0]})"
   ]
  },
  {
   "cell_type": "markdown",
   "id": "2572268c",
   "metadata": {},
   "source": [
    "Now we do a `merge_lookup()` on the Key columns."
   ]
  },
  {
   "cell_type": "code",
   "execution_count": 64,
   "id": "d652768e",
   "metadata": {},
   "outputs": [
    {
     "data": {
      "text/html": [
       "<html><head><style>table.tbl-4276 tbody td{white-space: nowrap;}table.tbl-4276 .lc{font-weight:bold;background-color: var( --jp-rendermime-table-row-hover-background);}table.tbl-4276 .lg{background-color: #66da9940;}table.tbl-4276 .lp{font-weight:bold;background-color: #ac66da40;}table.tbl-4276 .msc{font-weight:normal;background-color:#00000011;}table.tbl-4276 .al{text-align:left;}table.tbl-4276 .ar{text-align:right;}table.tbl-4276 .ac{text-align:center;}table.tbl-4276 .bld{font-weight:bold;}table.tbl-4276 .it{font-style:italic;}table.tbl-4276 .ul{text-decoration:underline;}table.tbl-4276 .st{text-decoration:line-through;}</style></head><body><table class='tbl-4276'><thead><tr><td class='lc bld ar'>#</td><td class='lc bld ar'> Key</td><td class='lc bld ar'>Value1</td><td class='lc bld ar'>Value2</td></tr></thead><tbody><tr><td class='lc  ar '>0</td><td class='  ar '>1.00</td><td class='  ar '>1.00</td><td class='  ar '>1.00</td></tr><tr><td class='lc  ar '>1</td><td class='  ar '>nan</td><td class='  ar '>2.00</td><td class='  ar '>nan</td></tr><tr><td class='lc  ar '>2</td><td class='  ar '>2.00</td><td class='  ar '>3.00</td><td class='  ar '>2.00</td></tr></tbody></table></body></html>\n",
       "\n",
       "[3 rows x 3 columns] total bytes: 72.0 B"
      ],
      "text/plain": []
     },
     "execution_count": 64,
     "metadata": {},
     "output_type": "execute_result"
    }
   ],
   "source": [
    "ds1.merge_lookup(ds2, on='Key', columns_right=['Value2'])"
   ]
  },
  {
   "cell_type": "markdown",
   "id": "ae7957f6",
   "metadata": {},
   "source": [
    "The `NaN` key and its associated value in `ds2` were ignored by the merge function."
   ]
  },
  {
   "cell_type": "markdown",
   "id": "1c5c1e3a-e0fd-412a-a622-d16160a462cc",
   "metadata": {},
   "source": [
    "## Replacing Missing Values"
   ]
  },
  {
   "cell_type": "markdown",
   "id": "0472ed09",
   "metadata": {},
   "source": [
    "For both FastArrays and Datasets, calling `fillna()` with a constant is a quick way to replace missing values."
   ]
  },
  {
   "cell_type": "code",
   "execution_count": 65,
   "id": "4bc24b66",
   "metadata": {},
   "outputs": [
    {
     "data": {
      "text/html": [
       "<html><head><style>table.tbl-8431 tbody td{white-space: nowrap;}table.tbl-8431 .lc{font-weight:bold;background-color: var( --jp-rendermime-table-row-hover-background);}table.tbl-8431 .lg{background-color: #66da9940;}table.tbl-8431 .lp{font-weight:bold;background-color: #ac66da40;}table.tbl-8431 .msc{font-weight:normal;background-color:#00000011;}table.tbl-8431 .al{text-align:left;}table.tbl-8431 .ar{text-align:right;}table.tbl-8431 .ac{text-align:center;}table.tbl-8431 .bld{font-weight:bold;}table.tbl-8431 .it{font-style:italic;}table.tbl-8431 .ul{text-decoration:underline;}table.tbl-8431 .st{text-decoration:line-through;}</style></head><body><table class='tbl-8431'><thead><tr><td class='lc bld ar'>#</td><td class='lc bld ar'>Ints</td><td class='lc bld ar'>Floats</td><td class='lc bld ar'>FloatsPlus</td></tr></thead><tbody><tr><td class='lc  ar '>0</td><td class='  ar '>123</td><td class='  ar '>123.00</td><td class='  ar '>123.00</td></tr><tr><td class='lc  ar '>1</td><td class='  ar '>2</td><td class='  ar '>inf</td><td class='  ar '>3.00</td></tr><tr><td class='lc  ar '>2</td><td class='  ar '>3</td><td class='  ar '>2.70</td><td class='  ar '>5.40</td></tr></tbody></table></body></html>\n",
       "\n",
       "[3 rows x 3 columns] total bytes: 60.0 B"
      ],
      "text/plain": []
     },
     "execution_count": 65,
     "metadata": {},
     "output_type": "execute_result"
    }
   ],
   "source": [
    "ds.fillna(123)"
   ]
  },
  {
   "cell_type": "markdown",
   "id": "fd5e7893",
   "metadata": {},
   "source": [
    "Note that by default `fillna()` returns a copy; to modify the original data, use `inplace=True`.\n",
    "\n",
    "For a little more nuance in how the gaps are filled, use `fillna()` with `method='ffill'` or `method='bfill'`.\n",
    "\n",
    "`fillna(method='ffill')` propagates non-`NaN` values forward."
   ]
  },
  {
   "cell_type": "code",
   "execution_count": 66,
   "id": "666f9731",
   "metadata": {},
   "outputs": [
    {
     "data": {
      "text/plain": [
       "FastArray([1., 2., 2., 4., 5.])"
      ]
     },
     "execution_count": 66,
     "metadata": {},
     "output_type": "execute_result"
    }
   ],
   "source": [
    "rt.FA([1.0, 2.0, np.nan, 4.0, 5.0]).fillna(method='ffill')"
   ]
  },
  {
   "cell_type": "markdown",
   "id": "397aac5f",
   "metadata": {},
   "source": [
    "`fillna(method='bfill')` propagates non-NaN values backward."
   ]
  },
  {
   "cell_type": "code",
   "execution_count": 67,
   "id": "3e3849b9",
   "metadata": {},
   "outputs": [
    {
     "data": {
      "text/plain": [
       "FastArray([1., 2., 4., 4., 5.])"
      ]
     },
     "execution_count": 67,
     "metadata": {},
     "output_type": "execute_result"
    }
   ],
   "source": [
    "rt.FA([1.0, 2.0, np.nan, 4.0, 5.0]).fillna(method='bfill')"
   ]
  },
  {
   "cell_type": "markdown",
   "id": "1e26af93",
   "metadata": {},
   "source": [
    "For Categoricals, `fill_forward()` and `fill_backward()` propagate values within categories."
   ]
  },
  {
   "cell_type": "code",
   "execution_count": 68,
   "id": "36301787",
   "metadata": {},
   "outputs": [
    {
     "data": {
      "text/html": [
       "<html><head><style>table.tbl-917 tbody td{white-space: nowrap;}table.tbl-917 .lc{font-weight:bold;background-color: var( --jp-rendermime-table-row-hover-background);}table.tbl-917 .lg{background-color: #66da9940;}table.tbl-917 .lp{font-weight:bold;background-color: #ac66da40;}table.tbl-917 .msc{font-weight:normal;background-color:#00000011;}table.tbl-917 .al{text-align:left;}table.tbl-917 .ar{text-align:right;}table.tbl-917 .ac{text-align:center;}table.tbl-917 .bld{font-weight:bold;}table.tbl-917 .it{font-style:italic;}table.tbl-917 .ul{text-decoration:underline;}table.tbl-917 .st{text-decoration:line-through;}</style></head><body><table class='tbl-917'><thead><tr><td class='lc bld ar'>#</td><td class='lc bld al'>Cat</td><td class='lc bld ar'>    x</td></tr></thead><tbody><tr><td class='lc  ar '>0</td><td class='  al '>A</td><td class='  ar '>1.00</td></tr><tr><td class='lc  ar '>1</td><td class='  al '>B</td><td class='  ar '>4.00</td></tr><tr><td class='lc  ar '>2</td><td class='  al '>A</td><td class='  ar '>nan</td></tr><tr><td class='lc  ar '>3</td><td class='  al '>B</td><td class='  ar '>nan</td></tr><tr><td class='lc  ar '>4</td><td class='  al '>A</td><td class='  ar '>9.00</td></tr><tr><td class='lc  ar '>5</td><td class='  al '>B</td><td class='  ar '>16.00</td></tr></tbody></table></body></html>\n",
       "\n",
       "[6 rows x 2 columns] total bytes: 56.0 B"
      ],
      "text/plain": []
     },
     "execution_count": 68,
     "metadata": {},
     "output_type": "execute_result"
    }
   ],
   "source": [
    "# Create a Categorical with a NaN in each category\n",
    "ds = rt.Dataset()\n",
    "ds.Cat = rt.Cat(['A', 'B', 'A', 'B', 'A', 'B'])\n",
    "ds.x = rt.FA([1, 4, rt.nan, rt.nan, 9, 16])\n",
    "\n",
    "ds"
   ]
  },
  {
   "cell_type": "markdown",
   "id": "d0e2f29c",
   "metadata": {},
   "source": [
    "Propagate forward the last encountered non-`NaN` value for the category."
   ]
  },
  {
   "cell_type": "code",
   "execution_count": 69,
   "id": "4a9ae3f7",
   "metadata": {},
   "outputs": [
    {
     "data": {
      "text/html": [
       "<html><head><style>table.tbl-2211 tbody td{white-space: nowrap;}table.tbl-2211 .lc{font-weight:bold;background-color: var( --jp-rendermime-table-row-hover-background);}table.tbl-2211 .lg{background-color: #66da9940;}table.tbl-2211 .lp{font-weight:bold;background-color: #ac66da40;}table.tbl-2211 .msc{font-weight:normal;background-color:#00000011;}table.tbl-2211 .al{text-align:left;}table.tbl-2211 .ar{text-align:right;}table.tbl-2211 .ac{text-align:center;}table.tbl-2211 .bld{font-weight:bold;}table.tbl-2211 .it{font-style:italic;}table.tbl-2211 .ul{text-decoration:underline;}table.tbl-2211 .st{text-decoration:line-through;}</style></head><body><table class='tbl-2211'><thead><tr><td class='lg bld al'>*gb_key_0</td><td class='lc bld ar'>    x</td></tr></thead><tbody><tr><td class='lg  al '>A</td><td class='  ar '>1.00</td></tr><tr><td class='lg  al '>B</td><td class='  ar '>4.00</td></tr><tr><td class='lg  al '>A</td><td class='  ar '>1.00</td></tr><tr><td class='lg  al '>B</td><td class='  ar '>4.00</td></tr><tr><td class='lg  al '>A</td><td class='  ar '>9.00</td></tr><tr><td class='lg  al '>B</td><td class='  ar '>16.00</td></tr></tbody></table></body></html>\n",
       "\n",
       "[6 rows x 2 columns] total bytes: 56.0 B"
      ],
      "text/plain": []
     },
     "execution_count": 69,
     "metadata": {},
     "output_type": "execute_result"
    }
   ],
   "source": [
    "ds.Cat.fill_forward(ds.x)"
   ]
  },
  {
   "cell_type": "markdown",
   "id": "e68cd18a",
   "metadata": {},
   "source": [
    "Propagate backward the next encountered non-NaN value for the category."
   ]
  },
  {
   "cell_type": "code",
   "execution_count": 70,
   "id": "fe5523b0",
   "metadata": {},
   "outputs": [
    {
     "data": {
      "text/html": [
       "<html><head><style>table.tbl-7375 tbody td{white-space: nowrap;}table.tbl-7375 .lc{font-weight:bold;background-color: var( --jp-rendermime-table-row-hover-background);}table.tbl-7375 .lg{background-color: #66da9940;}table.tbl-7375 .lp{font-weight:bold;background-color: #ac66da40;}table.tbl-7375 .msc{font-weight:normal;background-color:#00000011;}table.tbl-7375 .al{text-align:left;}table.tbl-7375 .ar{text-align:right;}table.tbl-7375 .ac{text-align:center;}table.tbl-7375 .bld{font-weight:bold;}table.tbl-7375 .it{font-style:italic;}table.tbl-7375 .ul{text-decoration:underline;}table.tbl-7375 .st{text-decoration:line-through;}</style></head><body><table class='tbl-7375'><thead><tr><td class='lg bld al'>*gb_key_0</td><td class='lc bld ar'>    x</td></tr></thead><tbody><tr><td class='lg  al '>A</td><td class='  ar '>1.00</td></tr><tr><td class='lg  al '>B</td><td class='  ar '>4.00</td></tr><tr><td class='lg  al '>A</td><td class='  ar '>9.00</td></tr><tr><td class='lg  al '>B</td><td class='  ar '>16.00</td></tr><tr><td class='lg  al '>A</td><td class='  ar '>9.00</td></tr><tr><td class='lg  al '>B</td><td class='  ar '>16.00</td></tr></tbody></table></body></html>\n",
       "\n",
       "[6 rows x 2 columns] total bytes: 56.0 B"
      ],
      "text/plain": []
     },
     "execution_count": 70,
     "metadata": {},
     "output_type": "execute_result"
    }
   ],
   "source": [
    "ds.Cat.fill_backward(ds.x)"
   ]
  },
  {
   "cell_type": "markdown",
   "id": "e4207f99",
   "metadata": {},
   "source": [
    "Both `fill_forward()` and `fill_backward()` can take a list of arrays to fill, and both can modify data in place with `inplace=True`.\n",
    "\n",
    "Note that if there is no value available to propagate forward or backward, the `NaN` value isn't changed."
   ]
  },
  {
   "cell_type": "code",
   "execution_count": 71,
   "id": "ac0a763e-2b4f-48a9-bc98-5b6e448d5b98",
   "metadata": {},
   "outputs": [
    {
     "data": {
      "text/html": [
       "<html><head><style>table.tbl-280 tbody td{white-space: nowrap;}table.tbl-280 .lc{font-weight:bold;background-color: var( --jp-rendermime-table-row-hover-background);}table.tbl-280 .lg{background-color: #66da9940;}table.tbl-280 .lp{font-weight:bold;background-color: #ac66da40;}table.tbl-280 .msc{font-weight:normal;background-color:#00000011;}table.tbl-280 .al{text-align:left;}table.tbl-280 .ar{text-align:right;}table.tbl-280 .ac{text-align:center;}table.tbl-280 .bld{font-weight:bold;}table.tbl-280 .it{font-style:italic;}table.tbl-280 .ul{text-decoration:underline;}table.tbl-280 .st{text-decoration:line-through;}</style></head><body><table class='tbl-280'><thead><tr><td class='lg bld al'>*gb_key_0</td><td class='lc bld ar'>    x</td></tr></thead><tbody><tr><td class='lg  al '>A</td><td class='  ar '>1.00</td></tr><tr><td class='lg  al '>B</td><td class='  ar '>nan</td></tr><tr><td class='lg  al '>A</td><td class='  ar '>1.00</td></tr><tr><td class='lg  al '>B</td><td class='  ar '>nan</td></tr><tr><td class='lg  al '>A</td><td class='  ar '>9.00</td></tr><tr><td class='lg  al '>B</td><td class='  ar '>16.00</td></tr></tbody></table></body></html>\n",
       "\n",
       "[6 rows x 2 columns] total bytes: 56.0 B"
      ],
      "text/plain": []
     },
     "execution_count": 71,
     "metadata": {},
     "output_type": "execute_result"
    }
   ],
   "source": [
    "ds.x[1] = rt.nan\n",
    "ds.Cat.fill_forward(ds.x)"
   ]
  },
  {
   "cell_type": "markdown",
   "id": "741f8c3e-c7da-4c17-9964-66076edf214b",
   "metadata": {},
   "source": [
    "## Convert Missing Values to/from Pandas"
   ]
  },
  {
   "cell_type": "markdown",
   "id": "fd1020f7-74ca-4229-96f0-ac0e52209c4b",
   "metadata": {},
   "source": [
    "This section covers some things to be aware of when you convert data with missing values between Pandas and Riptable.\n",
    "\n",
    "Note that while you can convert Pandas DataFrames to Riptable Datasets using Riptable's Dataset constructor, you should use the Dataset methods `to_pandas` and `from_pandas` to convert data with missing values."
   ]
  },
  {
   "cell_type": "markdown",
   "id": "b5c83394-4d85-4b45-ab77-9284e8baa386",
   "metadata": {},
   "source": [
    "### Converting Floats"
   ]
  },
  {
   "cell_type": "markdown",
   "id": "00c924c7-b3f5-4885-abeb-303ca7b6d141",
   "metadata": {},
   "source": [
    "To represent missing floating-point values, both Pandas and Riptable use the special floating-point `NaN` value that's part of the IEEE standard (though in Riptable, it's displayed as `nan`). Converting floating-point `NaN` values between Pandas and Riptable poses no issues."
   ]
  },
  {
   "cell_type": "code",
   "execution_count": 72,
   "id": "ca20df81",
   "metadata": {},
   "outputs": [
    {
     "data": {
      "text/html": [
       "<html><head><style>table.tbl-6383 tbody td{white-space: nowrap;}table.tbl-6383 .lc{font-weight:bold;background-color: var( --jp-rendermime-table-row-hover-background);}table.tbl-6383 .lg{background-color: #66da9940;}table.tbl-6383 .lp{font-weight:bold;background-color: #ac66da40;}table.tbl-6383 .msc{font-weight:normal;background-color:#00000011;}table.tbl-6383 .al{text-align:left;}table.tbl-6383 .ar{text-align:right;}table.tbl-6383 .ac{text-align:center;}table.tbl-6383 .bld{font-weight:bold;}table.tbl-6383 .it{font-style:italic;}table.tbl-6383 .ul{text-decoration:underline;}table.tbl-6383 .st{text-decoration:line-through;}</style></head><body><table class='tbl-6383'><thead><tr><td class='lc bld ar'>#</td><td class='lc bld ar'>   A</td></tr></thead><tbody><tr><td class='lc  ar '>0</td><td class='  ar '>0.00</td></tr><tr><td class='lc  ar '>1</td><td class='  ar '>nan</td></tr><tr><td class='lc  ar '>2</td><td class='  ar '>1.00</td></tr></tbody></table></body></html>\n",
       "\n",
       "[3 rows x 1 columns] total bytes: 24.0 B"
      ],
      "text/plain": []
     },
     "execution_count": 72,
     "metadata": {},
     "output_type": "execute_result"
    }
   ],
   "source": [
    "df = pd.DataFrame({'A': [0.0, np.nan, 1.0]})\n",
    "ds = rt.Dataset.from_pandas(df)\n",
    "\n",
    "ds"
   ]
  },
  {
   "cell_type": "code",
   "execution_count": 73,
   "id": "ad827eca",
   "metadata": {},
   "outputs": [
    {
     "data": {
      "text/html": [
       "<div>\n",
       "<style scoped>\n",
       "    .dataframe tbody tr th:only-of-type {\n",
       "        vertical-align: middle;\n",
       "    }\n",
       "\n",
       "    .dataframe tbody tr th {\n",
       "        vertical-align: top;\n",
       "    }\n",
       "\n",
       "    .dataframe thead th {\n",
       "        text-align: right;\n",
       "    }\n",
       "</style>\n",
       "<table border=\"1\" class=\"dataframe\">\n",
       "  <thead>\n",
       "    <tr style=\"text-align: right;\">\n",
       "      <th></th>\n",
       "      <th>A</th>\n",
       "    </tr>\n",
       "  </thead>\n",
       "  <tbody>\n",
       "    <tr>\n",
       "      <th>0</th>\n",
       "      <td>0.0</td>\n",
       "    </tr>\n",
       "    <tr>\n",
       "      <th>1</th>\n",
       "      <td>NaN</td>\n",
       "    </tr>\n",
       "    <tr>\n",
       "      <th>2</th>\n",
       "      <td>1.0</td>\n",
       "    </tr>\n",
       "  </tbody>\n",
       "</table>\n",
       "</div>"
      ],
      "text/plain": [
       "     A\n",
       "0  0.0\n",
       "1  NaN\n",
       "2  1.0"
      ]
     },
     "execution_count": 73,
     "metadata": {},
     "output_type": "execute_result"
    }
   ],
   "source": [
    "df_again = ds.to_pandas()\n",
    "\n",
    "df_again"
   ]
  },
  {
   "cell_type": "markdown",
   "id": "4569f3bc-e339-4d62-b54c-5e4eb9047f7d",
   "metadata": {},
   "source": [
    "### Converting Integers"
   ]
  },
  {
   "cell_type": "markdown",
   "id": "3caeb93f-2763-4b63-a743-039ed6891b44",
   "metadata": {},
   "source": [
    "Converting integers gets more interesting. Pandas has a new nullable integer data type (Int64, not to be confused with NumPy's int64 dtype). A missing value in an Int64 column is represented by the native `pd.NA` value and displayed as `<NA>`. \n",
    "\n",
    "Before this new dtype was created, the only numeric `NaN` used by Pandas was a floating-point `NaN`, so any `NaN` value added to an integer array in Pandas would cause the array to become an array of floating-point numbers."
   ]
  },
  {
   "cell_type": "code",
   "execution_count": 74,
   "id": "cb3734d6",
   "metadata": {},
   "outputs": [
    {
     "data": {
      "text/plain": [
       "0    1.0\n",
       "1    NaN\n",
       "2    3.0\n",
       "3    4.0\n",
       "4    5.0\n",
       "dtype: float64"
      ]
     },
     "execution_count": 74,
     "metadata": {},
     "output_type": "execute_result"
    }
   ],
   "source": [
    "s1 = pd.Series([1, 2, 3, 4, 5])\n",
    "s1[1] = np.nan\n",
    "\n",
    "s1"
   ]
  },
  {
   "cell_type": "markdown",
   "id": "97addc5e-9c42-43ca-b2e8-3dc707d1d172",
   "metadata": {},
   "source": [
    "Since this is now just a column of floats, converting it to Riptable is just as shown above."
   ]
  },
  {
   "cell_type": "markdown",
   "id": "a4945208-cb04-47bb-81e7-c4777f188c49",
   "metadata": {},
   "source": [
    "Now, in Pandas, you can specify the new Int64 dtype (it's not yet used by default). Missing values are represented by `pd.NA`, displayed as `<NA>`. "
   ]
  },
  {
   "cell_type": "code",
   "execution_count": 85,
   "id": "3629b33f",
   "metadata": {},
   "outputs": [
    {
     "data": {
      "text/plain": [
       "0       1\n",
       "1    <NA>\n",
       "2       3\n",
       "3       4\n",
       "4       5\n",
       "dtype: Int64"
      ]
     },
     "execution_count": 85,
     "metadata": {},
     "output_type": "execute_result"
    }
   ],
   "source": [
    "s2 = pd.Series([1, 2, 3, 4, 5], dtype='Int64')\n",
    "s2[1] = np.nan\n",
    "\n",
    "s2"
   ]
  },
  {
   "cell_type": "markdown",
   "id": "63f3db47",
   "metadata": {},
   "source": [
    "When we convert these to Riptable, the Int64 `<NA>` remains an integer (but now the int64 dtype)."
   ]
  },
  {
   "cell_type": "code",
   "execution_count": 76,
   "id": "919963aa-bfea-4d1a-8a3b-854969983fb5",
   "metadata": {},
   "outputs": [
    {
     "data": {
      "text/plain": [
       "{'Float': dtype('float64'), 'Int64': dtype('int64')}"
      ]
     },
     "execution_count": 76,
     "metadata": {},
     "output_type": "execute_result"
    }
   ],
   "source": [
    "# Create a DataFrame with the series from above.\n",
    "df = pd.DataFrame({'Float': s1, 'Int64': s2})\n",
    "\n",
    "# Convert the DataFrame to a Riptable Dataset and display its dtypes.\n",
    "ds2 = rt.Dataset.from_pandas(df)\n",
    "\n",
    "ds2.dtypes"
   ]
  },
  {
   "cell_type": "markdown",
   "id": "dac03ad5-c7cb-4748-9624-25c4c08f81fc",
   "metadata": {},
   "source": [
    "When you convert data with missing integer values from Riptable to Pandas, by default `to_pandas()` converts to the new Int64 dtype."
   ]
  },
  {
   "cell_type": "code",
   "execution_count": 77,
   "id": "597ada6e",
   "metadata": {},
   "outputs": [
    {
     "data": {
      "text/plain": [
       "Float    float64\n",
       "Int64      Int64\n",
       "dtype: object"
      ]
     },
     "execution_count": 77,
     "metadata": {},
     "output_type": "execute_result"
    }
   ],
   "source": [
    "df_again2 = ds2.to_pandas()\n",
    "\n",
    "df_again2.dtypes"
   ]
  },
  {
   "cell_type": "markdown",
   "id": "0610201b",
   "metadata": {},
   "source": [
    "You can choose to not convert to the new nullable dtype, but your integers might not be very useful."
   ]
  },
  {
   "cell_type": "code",
   "execution_count": 78,
   "id": "68c58f3c",
   "metadata": {},
   "outputs": [
    {
     "data": {
      "text/html": [
       "<div>\n",
       "<style scoped>\n",
       "    .dataframe tbody tr th:only-of-type {\n",
       "        vertical-align: middle;\n",
       "    }\n",
       "\n",
       "    .dataframe tbody tr th {\n",
       "        vertical-align: top;\n",
       "    }\n",
       "\n",
       "    .dataframe thead th {\n",
       "        text-align: right;\n",
       "    }\n",
       "</style>\n",
       "<table border=\"1\" class=\"dataframe\">\n",
       "  <thead>\n",
       "    <tr style=\"text-align: right;\">\n",
       "      <th></th>\n",
       "      <th>Float</th>\n",
       "      <th>Int64</th>\n",
       "    </tr>\n",
       "  </thead>\n",
       "  <tbody>\n",
       "    <tr>\n",
       "      <th>0</th>\n",
       "      <td>1.0</td>\n",
       "      <td>1</td>\n",
       "    </tr>\n",
       "    <tr>\n",
       "      <th>1</th>\n",
       "      <td>NaN</td>\n",
       "      <td>-9223372036854775808</td>\n",
       "    </tr>\n",
       "    <tr>\n",
       "      <th>2</th>\n",
       "      <td>3.0</td>\n",
       "      <td>-9223372036854775808</td>\n",
       "    </tr>\n",
       "    <tr>\n",
       "      <th>3</th>\n",
       "      <td>4.0</td>\n",
       "      <td>4</td>\n",
       "    </tr>\n",
       "    <tr>\n",
       "      <th>4</th>\n",
       "      <td>5.0</td>\n",
       "      <td>5</td>\n",
       "    </tr>\n",
       "  </tbody>\n",
       "</table>\n",
       "</div>"
      ],
      "text/plain": [
       "   Float                Int64\n",
       "0    1.0                    1\n",
       "1    NaN -9223372036854775808\n",
       "2    3.0 -9223372036854775808\n",
       "3    4.0                    4\n",
       "4    5.0                    5"
      ]
     },
     "execution_count": 78,
     "metadata": {},
     "output_type": "execute_result"
    }
   ],
   "source": [
    "df_again3 = ds2.to_pandas(use_nullable=False)\n",
    "\n",
    "df_again3"
   ]
  },
  {
   "cell_type": "markdown",
   "id": "3d1c248e-c5ca-45ee-b9cb-e26f1832ef19",
   "metadata": {},
   "source": [
    "### Converting Datetimes "
   ]
  },
  {
   "cell_type": "markdown",
   "id": "47151621",
   "metadata": {},
   "source": [
    "In Pandas, missing datetime values are represented as `NaT`. When those are converted to Riptable, they become an `Inv`."
   ]
  },
  {
   "cell_type": "code",
   "execution_count": 79,
   "id": "dd42da7e",
   "metadata": {},
   "outputs": [
    {
     "data": {
      "text/html": [
       "<html><head><style>table.tbl-8344 tbody td{white-space: nowrap;}table.tbl-8344 .lc{font-weight:bold;background-color: var( --jp-rendermime-table-row-hover-background);}table.tbl-8344 .lg{background-color: #66da9940;}table.tbl-8344 .lp{font-weight:bold;background-color: #ac66da40;}table.tbl-8344 .msc{font-weight:normal;background-color:#00000011;}table.tbl-8344 .al{text-align:left;}table.tbl-8344 .ar{text-align:right;}table.tbl-8344 .ac{text-align:center;}table.tbl-8344 .bld{font-weight:bold;}table.tbl-8344 .it{font-style:italic;}table.tbl-8344 .ul{text-decoration:underline;}table.tbl-8344 .st{text-decoration:line-through;}</style></head><body><table class='tbl-8344'><thead><tr><td class='lc bld ar'>#</td><td class='lc bld ar'>                  Timestamp</td></tr></thead><tbody><tr><td class='lc  ar '>0</td><td class='  ar '>20220101 00:00:00.000000000</td></tr><tr><td class='lc  ar '>1</td><td class='  ar '>20220201 00:00:00.000000000</td></tr><tr><td class='lc  ar '>2</td><td class='  ar '>Inv</td></tr></tbody></table></body></html>\n",
       "\n",
       "[3 rows x 1 columns] total bytes: 24.0 B"
      ],
      "text/plain": []
     },
     "execution_count": 79,
     "metadata": {},
     "output_type": "execute_result"
    }
   ],
   "source": [
    "date_arr = pd.Series(pd.to_datetime(['01/01/2022', '02/01/2022', np.nan]))\n",
    "df2 = pd.DataFrame({'Timestamp': date_arr})\n",
    "ds3 = rt.Dataset.from_pandas(df2)\n",
    "\n",
    "ds3"
   ]
  },
  {
   "cell_type": "markdown",
   "id": "85902927",
   "metadata": {},
   "source": [
    "The missing value becomes `NaT` again when converted back to Pandas."
   ]
  },
  {
   "cell_type": "code",
   "execution_count": 80,
   "id": "d47a0690",
   "metadata": {},
   "outputs": [
    {
     "data": {
      "text/html": [
       "<div>\n",
       "<style scoped>\n",
       "    .dataframe tbody tr th:only-of-type {\n",
       "        vertical-align: middle;\n",
       "    }\n",
       "\n",
       "    .dataframe tbody tr th {\n",
       "        vertical-align: top;\n",
       "    }\n",
       "\n",
       "    .dataframe thead th {\n",
       "        text-align: right;\n",
       "    }\n",
       "</style>\n",
       "<table border=\"1\" class=\"dataframe\">\n",
       "  <thead>\n",
       "    <tr style=\"text-align: right;\">\n",
       "      <th></th>\n",
       "      <th>Timestamp</th>\n",
       "    </tr>\n",
       "  </thead>\n",
       "  <tbody>\n",
       "    <tr>\n",
       "      <th>0</th>\n",
       "      <td>2022-01-01 00:00:00+00:00</td>\n",
       "    </tr>\n",
       "    <tr>\n",
       "      <th>1</th>\n",
       "      <td>2022-02-01 00:00:00+00:00</td>\n",
       "    </tr>\n",
       "    <tr>\n",
       "      <th>2</th>\n",
       "      <td>NaT</td>\n",
       "    </tr>\n",
       "  </tbody>\n",
       "</table>\n",
       "</div>"
      ],
      "text/plain": [
       "                  Timestamp\n",
       "0 2022-01-01 00:00:00+00:00\n",
       "1 2022-02-01 00:00:00+00:00\n",
       "2                       NaT"
      ]
     },
     "execution_count": 80,
     "metadata": {},
     "output_type": "execute_result"
    }
   ],
   "source": [
    "df_again3 = ds3.to_pandas()\n",
    "df_again3"
   ]
  },
  {
   "cell_type": "markdown",
   "id": "4b522103",
   "metadata": {},
   "source": [
    "### Converting Missing Booleans and Strings from Pandas to Riptable"
   ]
  },
  {
   "cell_type": "code",
   "execution_count": 81,
   "id": "ee62bd03",
   "metadata": {},
   "outputs": [
    {
     "data": {
      "text/html": [
       "<div>\n",
       "<style scoped>\n",
       "    .dataframe tbody tr th:only-of-type {\n",
       "        vertical-align: middle;\n",
       "    }\n",
       "\n",
       "    .dataframe tbody tr th {\n",
       "        vertical-align: top;\n",
       "    }\n",
       "\n",
       "    .dataframe thead th {\n",
       "        text-align: right;\n",
       "    }\n",
       "</style>\n",
       "<table border=\"1\" class=\"dataframe\">\n",
       "  <thead>\n",
       "    <tr style=\"text-align: right;\">\n",
       "      <th></th>\n",
       "      <th>Strings</th>\n",
       "      <th>Bools</th>\n",
       "    </tr>\n",
       "  </thead>\n",
       "  <tbody>\n",
       "    <tr>\n",
       "      <th>0</th>\n",
       "      <td>aaa</td>\n",
       "      <td>True</td>\n",
       "    </tr>\n",
       "    <tr>\n",
       "      <th>1</th>\n",
       "      <td>bbb</td>\n",
       "      <td>False</td>\n",
       "    </tr>\n",
       "    <tr>\n",
       "      <th>2</th>\n",
       "      <td>NaN</td>\n",
       "      <td>NaN</td>\n",
       "    </tr>\n",
       "  </tbody>\n",
       "</table>\n",
       "</div>"
      ],
      "text/plain": [
       "  Strings  Bools\n",
       "0     aaa   True\n",
       "1     bbb  False\n",
       "2     NaN    NaN"
      ]
     },
     "execution_count": 81,
     "metadata": {},
     "output_type": "execute_result"
    }
   ],
   "source": [
    "str_arr = pd.Series([\"aaa\", \"bbb\"])\n",
    "bool_arr = pd.Series([True, False])\n",
    "\n",
    "df = pd.DataFrame({\"Strings\": str_arr, \"Bools\": bool_arr})\n",
    "\n",
    "df2 = df.reindex({0, 1, 2})  # Add a row of missing values\n",
    "\n",
    "df2"
   ]
  },
  {
   "cell_type": "markdown",
   "id": "9c45dfaf",
   "metadata": {},
   "source": [
    "When we convert Pandas `NaN` strings and Booleans to Riptable, the results are perhaps not quite what we expect."
   ]
  },
  {
   "cell_type": "code",
   "execution_count": 82,
   "id": "e0cf5c20",
   "metadata": {},
   "outputs": [
    {
     "data": {
      "text/html": [
       "<html><head><style>table.tbl-5797 tbody td{white-space: nowrap;}table.tbl-5797 .lc{font-weight:bold;background-color: var( --jp-rendermime-table-row-hover-background);}table.tbl-5797 .lg{background-color: #66da9940;}table.tbl-5797 .lp{font-weight:bold;background-color: #ac66da40;}table.tbl-5797 .msc{font-weight:normal;background-color:#00000011;}table.tbl-5797 .al{text-align:left;}table.tbl-5797 .ar{text-align:right;}table.tbl-5797 .ac{text-align:center;}table.tbl-5797 .bld{font-weight:bold;}table.tbl-5797 .it{font-style:italic;}table.tbl-5797 .ul{text-decoration:underline;}table.tbl-5797 .st{text-decoration:line-through;}</style></head><body><table class='tbl-5797'><thead><tr><td class='lc bld ar'>#</td><td class='lc bld al'>Strings</td><td class='lc bld ar'>Bools</td></tr></thead><tbody><tr><td class='lc  ar '>0</td><td class='  al '>aaa</td><td class='  ar '>1.00</td></tr><tr><td class='lc  ar '>1</td><td class='  al '>bbb</td><td class='  ar '>0.00</td></tr><tr><td class='lc  ar '>2</td><td class='  al '>nan</td><td class='  ar '>nan</td></tr></tbody></table></body></html>\n",
       "\n",
       "[3 rows x 2 columns] total bytes: 33.0 B"
      ],
      "text/plain": []
     },
     "execution_count": 82,
     "metadata": {},
     "output_type": "execute_result"
    }
   ],
   "source": [
    "ds = rt.Dataset.from_pandas(df2)\n",
    "\n",
    "ds"
   ]
  },
  {
   "cell_type": "markdown",
   "id": "91338c97",
   "metadata": {},
   "source": [
    "As you can see, the Boolean column became a column of floating-point values with an `rt.nan`. If we try to recast the values, we get an unexpected result."
   ]
  },
  {
   "cell_type": "code",
   "execution_count": 83,
   "id": "060b9134",
   "metadata": {},
   "outputs": [
    {
     "data": {
      "text/html": [
       "<html><head><style>table.tbl-5891 tbody td{white-space: nowrap;}table.tbl-5891 .lc{font-weight:bold;background-color: var( --jp-rendermime-table-row-hover-background);}table.tbl-5891 .lg{background-color: #66da9940;}table.tbl-5891 .lp{font-weight:bold;background-color: #ac66da40;}table.tbl-5891 .msc{font-weight:normal;background-color:#00000011;}table.tbl-5891 .al{text-align:left;}table.tbl-5891 .ar{text-align:right;}table.tbl-5891 .ac{text-align:center;}table.tbl-5891 .bld{font-weight:bold;}table.tbl-5891 .it{font-style:italic;}table.tbl-5891 .ul{text-decoration:underline;}table.tbl-5891 .st{text-decoration:line-through;}</style></head><body><table class='tbl-5891'><thead><tr><td class='lc bld ar'>#</td><td class='lc bld al'>Strings</td><td class='lc bld ar'>Bools</td></tr></thead><tbody><tr><td class='lc  ar '>0</td><td class='  al '>aaa</td><td class='  ar '>True</td></tr><tr><td class='lc  ar '>1</td><td class='  al '>bbb</td><td class='  ar '>False</td></tr><tr><td class='lc  ar '>2</td><td class='  al '>nan</td><td class='  ar '>True</td></tr></tbody></table></body></html>\n",
       "\n",
       "[3 rows x 2 columns] total bytes: 12.0 B"
      ],
      "text/plain": []
     },
     "execution_count": 83,
     "metadata": {},
     "output_type": "execute_result"
    }
   ],
   "source": [
    "ds.Bools = ds.Bools.astype(bool)\n",
    "\n",
    "ds"
   ]
  },
  {
   "cell_type": "markdown",
   "id": "9535e68f",
   "metadata": {},
   "source": [
    "As for the \"nan\" in the Strings column, it is a string literal."
   ]
  },
  {
   "cell_type": "code",
   "execution_count": 84,
   "id": "e9178035",
   "metadata": {},
   "outputs": [
    {
     "data": {
      "text/plain": [
       "FastArray([b'aaa', b'bbb', b'nan'], dtype='|S3')"
      ]
     },
     "execution_count": 84,
     "metadata": {},
     "output_type": "execute_result"
    }
   ],
   "source": [
    "ds.Strings"
   ]
  },
  {
   "cell_type": "markdown",
   "id": "91b5e3e0",
   "metadata": {},
   "source": [
    "One way to avoid getting the string literal is to replace the missing value in Pandas (with a space, for example). Another way to deal with these values is to create a Boolean column that's True if the Pandas object is a `NaN`, then use that column as a mask array. \n",
    "    \n",
    "\n",
    "**Riptable NaN values** \n",
    "\n",
    "- Int: -MAXINT (signed), MAXINT (unsigned)\n",
    "- Float: nan\n",
    "- String: b''\n",
    "- Bool: False\n",
    "- Date (stored as int): -MAXINT\n",
    "- DTN (stored as int): -MAXINT\n",
    "- TS (stored as float): nan"
   ]
  },
  {
   "cell_type": "markdown",
   "id": "42d9f171-6999-4b94-b19e-375aaca38df0",
   "metadata": {},
   "source": [
    "Next we cover a few ways to [Instantiate with Placeholder Values and Generate Sample Data](tutorial_sample_data.ipynb)."
   ]
  },
  {
   "cell_type": "markdown",
   "id": "f2012acb-955d-4555-b9b7-5843667b68ab",
   "metadata": {},
   "source": [
    "<br>\n",
    "<br>\n",
    "\n",
    "---\n",
    "\n",
    "Questions or comments about this guide? Email RiptableDocumentation@sig.com."
   ]
  }
 ],
 "metadata": {
  "kernelspec": {
   "display_name": "Python 3 (ipykernel)",
   "language": "python",
   "name": "python3"
  },
  "language_info": {
   "codemirror_mode": {
    "name": "ipython",
    "version": 3
   },
   "file_extension": ".py",
   "mimetype": "text/x-python",
   "name": "python",
   "nbconvert_exporter": "python",
   "pygments_lexer": "ipython3",
   "version": "3.9.12"
  }
 },
 "nbformat": 4,
 "nbformat_minor": 5
}
