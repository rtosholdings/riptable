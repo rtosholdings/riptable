{
 "cells": [
  {
   "cell_type": "markdown",
   "id": "ccf54be5-0594-4480-90ea-1d6423b82934",
   "metadata": {},
   "source": [
    "# Reshape Data with Pivot and Transpose"
   ]
  },
  {
   "cell_type": "code",
   "execution_count": 1,
   "id": "110b1963-1480-446d-8cc0-25a19f4b7c66",
   "metadata": {
    "jp-MarkdownHeadingCollapsed": true,
    "tags": []
   },
   "outputs": [
    {
     "name": "stdout",
     "output_type": "stream",
     "text": [
      "To download this notebook, right click on the link and Save link as...\n"
     ]
    },
    {
     "data": {
      "text/html": [
       "<a href='tutorial_reshape.ipynb' target='_blank'>tutorial_reshape.ipynb</a><br>"
      ],
      "text/plain": [
       "X:\\btcache\\scratch\\johnsonc\\jupyter\\Tutorial\\Tutorial_GitLab\\tutorial_reshape.ipynb"
      ]
     },
     "execution_count": 1,
     "metadata": {},
     "output_type": "execute_result"
    }
   ],
   "source": [
    "# Generate notebook download link\n",
    "from IPython.display import FileLink\n",
    "print('To download this notebook, right click on the link and Save link as...')\n",
    "FileLink('tutorial_reshape.ipynb')"
   ]
  },
  {
   "cell_type": "code",
   "execution_count": 10,
   "id": "05a27d9a-243e-4aa8-b331-6d3b97060924",
   "metadata": {},
   "outputs": [],
   "source": [
    "import riptable as rt\n",
    "import numpy as np"
   ]
  },
  {
   "cell_type": "code",
   "execution_count": 11,
   "id": "ce8755c3-5d1e-40f0-91cf-a35a76efdd84",
   "metadata": {},
   "outputs": [],
   "source": [
    "# Display all Dataset columns -- the default max is 9.\n",
    "rt.Display.options.COL_ALL = True\n",
    "\n",
    "# Render up to 100MM before showing in scientific notation.\n",
    "rt.Display.options.E_MAX = 100_000_000\n",
    "\n",
    "# Truncate small decimals, rather than showing infinitesimal scientific notation.\n",
    "rt.Display.options.P_THRESHOLD = 0\n",
    "\n",
    "# Put commas in numbers.\n",
    "rt.Display.options.NUMBER_SEPARATOR = True\n",
    "\n",
    "# Turn on Riptable autocomplete (start typing, then press Tab to see options).\n",
    "rt.autocomplete()"
   ]
  },
  {
   "cell_type": "markdown",
   "id": "d92c279d-224c-4e56-8088-05dbb465fb46",
   "metadata": {
    "tags": []
   },
   "source": [
    "Riptable is designed to efficiently work with column-oriented data, which is also called long-format data. This isn't always the best format for displaying data for human consumption, however.\n",
    "\n",
    "For example, suppose your data consists of a measurement (say, trade volume) per date and symbol. The long-format, Riptable-friendly way to represent this is to have three columns -- for date, symbol, and volume."
   ]
  },
  {
   "cell_type": "code",
   "execution_count": 12,
   "id": "58b376bf",
   "metadata": {},
   "outputs": [
    {
     "data": {
      "text/html": [
       "<html><head><style>table.tbl-7746 tbody td{white-space: nowrap;}table.tbl-7746 .lc{font-weight:bold;background-color: var( --jp-rendermime-table-row-hover-background);}table.tbl-7746 .lg{background-color: #66da9940;}table.tbl-7746 .lp{font-weight:bold;background-color: #ac66da40;}table.tbl-7746 .msc{font-weight:normal;background-color:#00000011;}table.tbl-7746 .al{text-align:left;}table.tbl-7746 .ar{text-align:right;}table.tbl-7746 .ac{text-align:center;}table.tbl-7746 .bld{font-weight:bold;}table.tbl-7746 .it{font-style:italic;}table.tbl-7746 .ul{text-decoration:underline;}table.tbl-7746 .st{text-decoration:line-through;}</style></head><body><table class='tbl-7746'><thead><tr><td class='lc bld ar'>#</td><td class='lc bld al'>Date    </td><td class='lc bld al'>Symbol</td><td class='lc bld ar'>Volume</td></tr></thead><tbody><tr><td class='lc  ar '>0</td><td class='  al '>20191111</td><td class='  al '>AAPL</td><td class='  ar '>10</td></tr><tr><td class='lc  ar '>1</td><td class='  al '>20191111</td><td class='  al '>MSFT</td><td class='  ar '>20</td></tr><tr><td class='lc  ar '>2</td><td class='  al '>20191111</td><td class='  al '>TSLA</td><td class='  ar '>30</td></tr><tr><td class='lc  ar '>3</td><td class='  al '>20191112</td><td class='  al '>MSFT</td><td class='  ar '>20</td></tr><tr><td class='lc  ar '>4</td><td class='  al '>20191112</td><td class='  al '>AAPL</td><td class='  ar '>10</td></tr><tr><td class='lc  ar '>5</td><td class='  al '>20191112</td><td class='  al '>TSLA</td><td class='  ar '>30</td></tr></tbody></table></body></html>\n",
       "\n",
       "[6 rows x 3 columns] total bytes: 96.0 B"
      ],
      "text/plain": []
     },
     "execution_count": 12,
     "metadata": {},
     "output_type": "execute_result"
    }
   ],
   "source": [
    "long_ds = rt.Dataset({'Date': ['20191111', '20191111', '20191111', '20191112', \n",
    "                               '20191112', '20191112'],\n",
    "                      'Symbol': ['AAPL', 'MSFT', 'TSLA', 'MSFT', 'AAPL', 'TSLA'],\n",
    "                      'Volume': [10, 20, 30, 20, 10, 30]})\n",
    "long_ds"
   ]
  },
  {
   "cell_type": "markdown",
   "id": "19bd64fb",
   "metadata": {},
   "source": [
    "While format this is ideal for Riptable's work, the repeated date and symbol values make it a bit unintuitive for humans to read and make sense of.\n",
    "\n",
    "In this case, a simple transform from long format to wide doesn't help much."
   ]
  },
  {
   "cell_type": "code",
   "execution_count": 13,
   "id": "6a7fa13a",
   "metadata": {},
   "outputs": [
    {
     "data": {
      "text/html": [
       "<html><head><style>table.tbl-3224 tbody td{white-space: nowrap;}table.tbl-3224 .lc{font-weight:bold;background-color: var( --jp-rendermime-table-row-hover-background);}table.tbl-3224 .lg{background-color: #66da9940;}table.tbl-3224 .lp{font-weight:bold;background-color: #ac66da40;}table.tbl-3224 .msc{font-weight:normal;background-color:#00000011;}table.tbl-3224 .al{text-align:left;}table.tbl-3224 .ar{text-align:right;}table.tbl-3224 .ac{text-align:center;}table.tbl-3224 .bld{font-weight:bold;}table.tbl-3224 .it{font-style:italic;}table.tbl-3224 .ul{text-decoration:underline;}table.tbl-3224 .st{text-decoration:line-through;}</style></head><body><table class='tbl-3224'><thead><tr><td class='lc bld ar'>Fields:</td><td class='lc' colspan='1'>0</td><td class='lc' colspan='1'>1</td><td class='lc' colspan='1'>2</td><td class='lc' colspan='1'>3</td><td class='lc' colspan='1'>4</td><td class='lc' colspan='1'>5</td></tr></thead><tbody><tr><td class='lc  ar '>Date</td><td class='  ar '>20191111</td><td class='  ar '>20191111</td><td class='  ar '>20191111</td><td class='  ar '>20191112</td><td class='  ar '>20191112</td><td class='  ar '>20191112</td></tr><tr><td class='lc  ar '>Symbol</td><td class='  ar '>AAPL</td><td class='  ar '>MSFT</td><td class='  ar '>TSLA</td><td class='  ar '>MSFT</td><td class='  ar '>AAPL</td><td class='  ar '>TSLA</td></tr><tr><td class='lc  ar '>Volume</td><td class='  ar '>10</td><td class='  ar '>20</td><td class='  ar '>30</td><td class='  ar '>20</td><td class='  ar '>10</td><td class='  ar '>30</td></tr></tbody></table></body></html>\n",
       "\n",
       "[6 rows x 3 columns] total bytes: 96.0 B"
      ],
      "text/plain": [
       "<html><head><style>table.tbl-3224 tbody td{white-space: nowrap;}table.tbl-3224 .lc{font-weight:bold;background-color: var( --jp-rendermime-table-row-hover-background);}table.tbl-3224 .lg{background-color: #66da9940;}table.tbl-3224 .lp{font-weight:bold;background-color: #ac66da40;}table.tbl-3224 .msc{font-weight:normal;background-color:#00000011;}table.tbl-3224 .al{text-align:left;}table.tbl-3224 .ar{text-align:right;}table.tbl-3224 .ac{text-align:center;}table.tbl-3224 .bld{font-weight:bold;}table.tbl-3224 .it{font-style:italic;}table.tbl-3224 .ul{text-decoration:underline;}table.tbl-3224 .st{text-decoration:line-through;}</style></head><body><table class='tbl-3224'><thead><tr><td class='lc bld ar'>Fields:</td><td class='lc' colspan='1'>0</td><td class='lc' colspan='1'>1</td><td class='lc' colspan='1'>2</td><td class='lc' colspan='1'>3</td><td class='lc' colspan='1'>4</td><td class='lc' colspan='1'>5</td></tr></thead><tbody><tr><td class='lc  ar '>Date</td><td class='  ar '>20191111</td><td class='  ar '>20191111</td><td class='  ar '>20191111</td><td class='  ar '>20191112</td><td class='  ar '>20191112</td><td class='  ar '>20191112</td></tr><tr><td class='lc  ar '>Symbol</td><td class='  ar '>AAPL</td><td class='  ar '>MSFT</td><td class='  ar '>TSLA</td><td class='  ar '>MSFT</td><td class='  ar '>AAPL</td><td class='  ar '>TSLA</td></tr><tr><td class='lc  ar '>Volume</td><td class='  ar '>10</td><td class='  ar '>20</td><td class='  ar '>30</td><td class='  ar '>20</td><td class='  ar '>10</td><td class='  ar '>30</td></tr></tbody></table></body></html>\n",
       "\n",
       "[6 rows x 3 columns] total bytes: 96.0 B"
      ]
     },
     "execution_count": 13,
     "metadata": {},
     "output_type": "execute_result"
    }
   ],
   "source": [
    "long_ds._T"
   ]
  },
  {
   "cell_type": "markdown",
   "id": "6f6deb1c",
   "metadata": {},
   "source": [
    "A more human-friendly presentation can be gotten from the Dataset method `pivot()`, which reorganizes data with multiple keys (here, our keys are the date and the symbol).\n",
    "\n",
    "We can use `pivot()` to show one row per date and one column for each symbol."
   ]
  },
  {
   "cell_type": "code",
   "execution_count": 14,
   "id": "912d1dce",
   "metadata": {},
   "outputs": [
    {
     "data": {
      "text/html": [
       "<html><head><style>table.tbl-8166 tbody td{white-space: nowrap;}table.tbl-8166 .lc{font-weight:bold;background-color: var( --jp-rendermime-table-row-hover-background);}table.tbl-8166 .lg{background-color: #66da9940;}table.tbl-8166 .lp{font-weight:bold;background-color: #ac66da40;}table.tbl-8166 .msc{font-weight:normal;background-color:#00000011;}table.tbl-8166 .al{text-align:left;}table.tbl-8166 .ar{text-align:right;}table.tbl-8166 .ac{text-align:center;}table.tbl-8166 .bld{font-weight:bold;}table.tbl-8166 .it{font-style:italic;}table.tbl-8166 .ul{text-decoration:underline;}table.tbl-8166 .st{text-decoration:line-through;}</style></head><body><table class='tbl-8166'><thead><tr><td class='lg bld al'>*Date   </td><td class='lc bld ar'>AAPL</td><td class='lc bld ar'>MSFT</td><td class='lc bld ar'>TSLA</td></tr></thead><tbody><tr><td class='lg  al '>20191111</td><td class='  ar '>10</td><td class='  ar '>20</td><td class='  ar '>30</td></tr><tr><td class='lg  al '>20191112</td><td class='  ar '>10</td><td class='  ar '>20</td><td class='  ar '>30</td></tr></tbody></table></body></html>\n",
       "\n",
       "[2 rows x 4 columns] total bytes: 40.0 B"
      ],
      "text/plain": []
     },
     "execution_count": 14,
     "metadata": {},
     "output_type": "execute_result"
    }
   ],
   "source": [
    "wide_ds = long_ds.pivot('Date', 'Symbol', 'Volume')\n",
    "wide_ds"
   ]
  },
  {
   "cell_type": "markdown",
   "id": "3c01f571",
   "metadata": {},
   "source": [
    "The first argument passed is used for the row labels; the second is for the column labels. The third argument specifies which column's (or columns') data to use to populate the table. (If none are specified, all remaining columns are used.)\n",
    "\n",
    "Notice the output's similarity to that of `Accum2()`:"
   ]
  },
  {
   "cell_type": "code",
   "execution_count": 15,
   "id": "9f4d27ef",
   "metadata": {},
   "outputs": [
    {
     "data": {
      "text/html": [
       "<html><head><style>table.tbl-7973 tbody td{white-space: nowrap;}table.tbl-7973 .lc{font-weight:bold;background-color: var( --jp-rendermime-table-row-hover-background);}table.tbl-7973 .lg{background-color: #66da9940;}table.tbl-7973 .lp{font-weight:bold;background-color: #ac66da40;}table.tbl-7973 .msc{font-weight:normal;background-color:#00000011;}table.tbl-7973 .al{text-align:left;}table.tbl-7973 .ar{text-align:right;}table.tbl-7973 .ac{text-align:center;}table.tbl-7973 .bld{font-weight:bold;}table.tbl-7973 .it{font-style:italic;}table.tbl-7973 .ul{text-decoration:underline;}table.tbl-7973 .st{text-decoration:line-through;}</style></head><body><table class='tbl-7973'><thead><tr><td class='lg bld al'>*Date   </td><td class='lc bld ar'>AAPL</td><td class='lc bld ar'>MSFT</td><td class='lc bld ar'>TSLA</td><td class='lg bld ar'>Total</td></tr></thead><tbody><tr><td class='lg  al '>20191111</td><td class='  ar '>10</td><td class='  ar '>20</td><td class='  ar '>30</td><td class='lg  ar '>60</td></tr><tr><td class='lg  al '>20191112</td><td class='  ar '>10</td><td class='  ar '>20</td><td class='  ar '>30</td><td class='lg  ar '>60</td></tr><tr><td class='lg ar'>   Total</td><td class='lg ar'>  20</td><td class='lg ar'>  40</td><td class='lg ar'>  60</td><td class='lg ar'>  120</td></tr></tbody></table></body></html>\n",
       "\n",
       "[2 rows x 5 columns] total bytes: 80.0 B"
      ],
      "text/plain": []
     },
     "execution_count": 15,
     "metadata": {},
     "output_type": "execute_result"
    }
   ],
   "source": [
    "long_ds.accum2(long_ds.Date, long_ds.Symbol).sum(long_ds.Volume)"
   ]
  },
  {
   "cell_type": "markdown",
   "id": "2a7f33f1",
   "metadata": {},
   "source": [
    "Also note that some wide-format data may be too wide for reasonable display. \n",
    "\n",
    "To undo your pivot (or \"unpivot\"), use `melt()`."
   ]
  },
  {
   "cell_type": "code",
   "execution_count": 16,
   "id": "f8234c9c",
   "metadata": {},
   "outputs": [
    {
     "data": {
      "text/html": [
       "<html><head><style>table.tbl-9539 tbody td{white-space: nowrap;}table.tbl-9539 .lc{font-weight:bold;background-color: var( --jp-rendermime-table-row-hover-background);}table.tbl-9539 .lg{background-color: #66da9940;}table.tbl-9539 .lp{font-weight:bold;background-color: #ac66da40;}table.tbl-9539 .msc{font-weight:normal;background-color:#00000011;}table.tbl-9539 .al{text-align:left;}table.tbl-9539 .ar{text-align:right;}table.tbl-9539 .ac{text-align:center;}table.tbl-9539 .bld{font-weight:bold;}table.tbl-9539 .it{font-style:italic;}table.tbl-9539 .ul{text-decoration:underline;}table.tbl-9539 .st{text-decoration:line-through;}</style></head><body><table class='tbl-9539'><thead><tr><td class='lc bld ar'>#</td><td class='lc bld al'>Date    </td><td class='lc bld al'>variable</td><td class='lc bld ar'>value</td></tr></thead><tbody><tr><td class='lc  ar '>0</td><td class='  al '>20191111</td><td class='  al '>AAPL</td><td class='  ar '>10</td></tr><tr><td class='lc  ar '>1</td><td class='  al '>20191112</td><td class='  al '>AAPL</td><td class='  ar '>10</td></tr><tr><td class='lc  ar '>2</td><td class='  al '>20191111</td><td class='  al '>MSFT</td><td class='  ar '>20</td></tr><tr><td class='lc  ar '>3</td><td class='  al '>20191112</td><td class='  al '>MSFT</td><td class='  ar '>20</td></tr><tr><td class='lc  ar '>4</td><td class='  al '>20191111</td><td class='  al '>TSLA</td><td class='  ar '>30</td></tr><tr><td class='lc  ar '>5</td><td class='  al '>20191112</td><td class='  al '>TSLA</td><td class='  ar '>30</td></tr></tbody></table></body></html>\n",
       "\n",
       "[6 rows x 3 columns] total bytes: 96.0 B"
      ],
      "text/plain": []
     },
     "execution_count": 16,
     "metadata": {},
     "output_type": "execute_result"
    }
   ],
   "source": [
    "melted_ds = wide_ds.melt('Date')\n",
    "\n",
    "melted_ds"
   ]
  },
  {
   "cell_type": "markdown",
   "id": "581683c2",
   "metadata": {},
   "source": [
    "Here, we specified the Date column as the \"identifier variable.\" The other columns, considered \"measured variables,\" are unpivoted to the row axis with the column headers \"variable\" and \"value.\"\n",
    "\n",
    "We could have specified our original column labels with `var_name` and `value_name`:"
   ]
  },
  {
   "cell_type": "code",
   "execution_count": 17,
   "id": "25c32098",
   "metadata": {},
   "outputs": [
    {
     "data": {
      "text/html": [
       "<html><head><style>table.tbl-292 tbody td{white-space: nowrap;}table.tbl-292 .lc{font-weight:bold;background-color: var( --jp-rendermime-table-row-hover-background);}table.tbl-292 .lg{background-color: #66da9940;}table.tbl-292 .lp{font-weight:bold;background-color: #ac66da40;}table.tbl-292 .msc{font-weight:normal;background-color:#00000011;}table.tbl-292 .al{text-align:left;}table.tbl-292 .ar{text-align:right;}table.tbl-292 .ac{text-align:center;}table.tbl-292 .bld{font-weight:bold;}table.tbl-292 .it{font-style:italic;}table.tbl-292 .ul{text-decoration:underline;}table.tbl-292 .st{text-decoration:line-through;}</style></head><body><table class='tbl-292'><thead><tr><td class='lc bld ar'>#</td><td class='lc bld al'>Date    </td><td class='lc bld al'>Symbol</td><td class='lc bld ar'>Volume</td></tr></thead><tbody><tr><td class='lc  ar '>0</td><td class='  al '>20191111</td><td class='  al '>AAPL</td><td class='  ar '>10</td></tr><tr><td class='lc  ar '>1</td><td class='  al '>20191112</td><td class='  al '>AAPL</td><td class='  ar '>10</td></tr><tr><td class='lc  ar '>2</td><td class='  al '>20191111</td><td class='  al '>MSFT</td><td class='  ar '>20</td></tr><tr><td class='lc  ar '>3</td><td class='  al '>20191112</td><td class='  al '>MSFT</td><td class='  ar '>20</td></tr><tr><td class='lc  ar '>4</td><td class='  al '>20191111</td><td class='  al '>TSLA</td><td class='  ar '>30</td></tr><tr><td class='lc  ar '>5</td><td class='  al '>20191112</td><td class='  al '>TSLA</td><td class='  ar '>30</td></tr></tbody></table></body></html>\n",
       "\n",
       "[6 rows x 3 columns] total bytes: 96.0 B"
      ],
      "text/plain": []
     },
     "execution_count": 17,
     "metadata": {},
     "output_type": "execute_result"
    }
   ],
   "source": [
    "melted_ds = wide_ds.melt('Date', var_name='Symbol', value_name='Volume')\n",
    "\n",
    "melted_ds"
   ]
  },
  {
   "cell_type": "markdown",
   "id": "1897ebe8-c0e7-41b4-9d0b-91573bef8b63",
   "metadata": {},
   "source": [
    "Next, we'll change gears to give you a high-level overview of tools you can use to [Visualize Data](tutorial_visualize.ipynb)."
   ]
  },
  {
   "cell_type": "markdown",
   "id": "51428d9c-1640-4e5a-a36a-854d566dd636",
   "metadata": {},
   "source": [
    "<br>\n",
    "<br>\n",
    "\n",
    "---\n",
    "\n",
    "Questions or comments about this guide? Email RiptableDocumentation@sig.com."
   ]
  }
 ],
 "metadata": {
  "kernelspec": {
   "display_name": "Python 3 (ipykernel)",
   "language": "python",
   "name": "python3"
  },
  "language_info": {
   "codemirror_mode": {
    "name": "ipython",
    "version": 3
   },
   "file_extension": ".py",
   "mimetype": "text/x-python",
   "name": "python",
   "nbconvert_exporter": "python",
   "pygments_lexer": "ipython3",
   "version": "3.9.12"
  }
 },
 "nbformat": 4,
 "nbformat_minor": 5
}
