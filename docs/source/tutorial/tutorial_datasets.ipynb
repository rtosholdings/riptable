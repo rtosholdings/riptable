{
 "cells": [
  {
   "cell_type": "markdown",
   "id": "925e7746-ed30-4f64-bba2-41fc6d9ba3c3",
   "metadata": {
    "tags": []
   },
   "source": [
    "# Intro to Riptable Datasets, FastArrays, and Structs"
   ]
  },
  {
   "cell_type": "code",
   "execution_count": 5,
   "id": "cb114431-da03-48ff-93df-ae6a65b57099",
   "metadata": {
    "jp-MarkdownHeadingCollapsed": true,
    "tags": []
   },
   "outputs": [
    {
     "name": "stdout",
     "output_type": "stream",
     "text": [
      "To download this notebook, right click on the link and Save link as...\n"
     ]
    },
    {
     "data": {
      "text/html": [
       "<a href='tutorial_datasets.ipynb' target='_blank'>tutorial_datasets.ipynb</a><br>"
      ],
      "text/plain": [
       "X:\\btcache\\scratch\\johnsonc\\jupyter\\Tutorial\\Tutorial_GitLab\\tutorial_datasets.ipynb"
      ]
     },
     "execution_count": 5,
     "metadata": {},
     "output_type": "execute_result"
    }
   ],
   "source": [
    "# Generate notebook download link\n",
    "from IPython.display import FileLink\n",
    "print('To download this notebook, right click on the link and Save link as...')\n",
    "FileLink('tutorial_datasets.ipynb')"
   ]
  },
  {
   "cell_type": "code",
   "execution_count": 6,
   "id": "c88769a0-ef55-46c8-a032-c8e157449692",
   "metadata": {},
   "outputs": [],
   "source": [
    "import riptable as rt\n",
    "import numpy as np"
   ]
  },
  {
   "cell_type": "code",
   "execution_count": 7,
   "id": "bc9643f0-77f4-4c9f-8d92-1434cd3ef646",
   "metadata": {},
   "outputs": [],
   "source": [
    "# Display all Dataset columns -- the default max is 9.\n",
    "rt.Display.options.COL_ALL = True\n",
    "\n",
    "# Render up to 100MM before showing in scientific notation.\n",
    "rt.Display.options.E_MAX = 100_000_000\n",
    "\n",
    "# Truncate small decimals, rather than showing infinitesimal scientific notation.\n",
    "rt.Display.options.P_THRESHOLD = 0\n",
    "\n",
    "# Put commas in numbers.\n",
    "rt.Display.options.NUMBER_SEPARATOR = True\n",
    "\n",
    "# Turn on Riptable autocomplete (start typing, then press Tab to see options).\n",
    "rt.autocomplete()"
   ]
  },
  {
   "cell_type": "markdown",
   "id": "d5127cbe-6b8c-473e-9c22-bd29f632aae6",
   "metadata": {
    "tags": []
   },
   "source": [
    "## What Is a Dataset?\n",
    "\n",
    "A Dataset is a table of data that consists of a sequence of columns of the same length. It's similar to a spreadsheet, a SQL table, a Pandas DataFrame or the data.frame in R. The Dataset is the workhorse of Riptable.\n",
    "\n",
    "![Graphical representation of a Riptable Dataset](rt_dataset.svg \"A Dataset is a sequence of columns that are the same length.\")\n",
    "\n",
    "Each column in a Dataset consists of a key (also referred to as the column label, header, or name) and a series of values stored in a Riptable FastArray. A FastArray is a 1-dimensional array of values that are all the same data type, or dtype.\n",
    "\n",
    "![Graphical representation of a Riptable FastArray](rt_fastarray.svg \"A FastArray holds values that are the same dtype.\")\n",
    "\n",
    "Though each Dataset column has a single dtype, the Dataset overall can hold columns of various dtypes. \n",
    "\n",
    "Dataset rows are implicitly indexed by integer. You can select rows using their indices, but you can't reindex rows or give them arbitrary labels. This restriction helps Riptable perform Dataset operations more efficiently.\n",
    "\n",
    "![Graphical representation of a Riptable Dataset with implicit row indices labeled](rt_dataset_indices.svg \"Dataset rows are implicitly indexed.\")"
   ]
  },
  {
   "cell_type": "markdown",
   "id": "ba4eca78-0e5a-4b08-b69b-f9cdd3d90951",
   "metadata": {
    "tags": []
   },
   "source": [
    "## Create a Dataset\n",
    "\n",
    "Generally speaking, there are a few ways to create Riptable Datasets. You can convert a Python dictionary or use Riptable's dictionary-style syntax, or create an empty Dataset and add arrays as columns. "
   ]
  },
  {
   "cell_type": "markdown",
   "id": "7509814b-80ba-4404-a4a3-fc47691c0bf9",
   "metadata": {
    "tags": []
   },
   "source": [
    "### Convert a Python Dictionary to a Riptable Dataset\n",
    "\n",
    "If you have a Python dictionary, it's easy to convert it to a Riptable Dataset."
   ]
  },
  {
   "cell_type": "code",
   "execution_count": 8,
   "id": "f9ec541e",
   "metadata": {},
   "outputs": [
    {
     "data": {
      "text/html": [
       "<html><head><style>table.tbl-2481 tbody td{white-space: nowrap;}table.tbl-2481 .lc{font-weight:bold;background-color: var( --jp-rendermime-table-row-hover-background);}table.tbl-2481 .lg{background-color: #66da9940;}table.tbl-2481 .lp{font-weight:bold;background-color: #ac66da40;}table.tbl-2481 .msc{font-weight:normal;background-color:#00000011;}table.tbl-2481 .al{text-align:left;}table.tbl-2481 .ar{text-align:right;}table.tbl-2481 .ac{text-align:center;}table.tbl-2481 .bld{font-weight:bold;}table.tbl-2481 .it{font-style:italic;}table.tbl-2481 .ul{text-decoration:underline;}table.tbl-2481 .st{text-decoration:line-through;}</style></head><body><table class='tbl-2481'><thead><tr><td class='lc bld ar'>#</td><td class='lc bld al'>Column1</td><td class='lc bld ar'>Column2</td></tr></thead><tbody><tr><td class='lc  ar '>0</td><td class='  al '>A</td><td class='  ar '>0</td></tr><tr><td class='lc  ar '>1</td><td class='  al '>B</td><td class='  ar '>1</td></tr><tr><td class='lc  ar '>2</td><td class='  al '>C</td><td class='  ar '>2</td></tr><tr><td class='lc  ar '>3</td><td class='  al '>D</td><td class='  ar '>3</td></tr></tbody></table></body></html>\n",
       "\n",
       "[4 rows x 2 columns] total bytes: 20.0 B"
      ],
      "text/plain": [
       "\u001b[1;36m#\u001b[0m   \u001b[1;36mColumn1\u001b[0m   \u001b[1;36mColumn2\u001b[0m\n",
       "-   -------   -------\n",
       "\u001b[1;36m0\u001b[0m   A      \u001b[0m         0\u001b[0m\n",
       "\u001b[1;36m1\u001b[0m   B      \u001b[0m         1\u001b[0m\n",
       "\u001b[1;36m2\u001b[0m   C      \u001b[0m         2\u001b[0m\n",
       "\u001b[1;36m3\u001b[0m   D      \u001b[0m         3\u001b[0m\n",
       "\n",
       "[4 rows x 2 columns] total bytes: 20.0 B"
      ]
     },
     "execution_count": 8,
     "metadata": {},
     "output_type": "execute_result"
    }
   ],
   "source": [
    "my_dict = {'Column1': ['A', 'B', 'C', 'D'], 'Column2': [0, 1, 2, 3]}  # Create a Python dictionary\n",
    "ds = rt.Dataset(my_dict)  # Convert it to a Riptable Dataset\n",
    "\n",
    "ds"
   ]
  },
  {
   "cell_type": "markdown",
   "id": "cc5c55c9-f5b3-49fb-94b4-3dfd577cf947",
   "metadata": {},
   "source": [
    "Another way to think of a Dataset is as a dictionary of same-length FastArrays, where each key is a column name that's mapped to a FastArray of values that all have the same dtype."
   ]
  },
  {
   "cell_type": "markdown",
   "id": "39bd4d9b-c522-4cea-873e-401343e3ccec",
   "metadata": {},
   "source": [
    "### Use the Dataset Constructor with Dictionary-Style Input\n",
    "\n",
    "`rt.Dataset()` uses dictionary-style syntax."
   ]
  },
  {
   "cell_type": "code",
   "execution_count": 9,
   "id": "103dd684",
   "metadata": {},
   "outputs": [
    {
     "data": {
      "text/html": [
       "<html><head><style>table.tbl-9406 tbody td{white-space: nowrap;}table.tbl-9406 .lc{font-weight:bold;background-color: var( --jp-rendermime-table-row-hover-background);}table.tbl-9406 .lg{background-color: #66da9940;}table.tbl-9406 .lp{font-weight:bold;background-color: #ac66da40;}table.tbl-9406 .msc{font-weight:normal;background-color:#00000011;}table.tbl-9406 .al{text-align:left;}table.tbl-9406 .ar{text-align:right;}table.tbl-9406 .ac{text-align:center;}table.tbl-9406 .bld{font-weight:bold;}table.tbl-9406 .it{font-style:italic;}table.tbl-9406 .ul{text-decoration:underline;}table.tbl-9406 .st{text-decoration:line-through;}</style></head><body><table class='tbl-9406'><thead><tr><td class='lc bld ar'>#</td><td class='lc bld al'>Column1</td><td class='lc bld ar'>Column2</td></tr></thead><tbody><tr><td class='lc  ar '>0</td><td class='  al '>A</td><td class='  ar '>0.00</td></tr><tr><td class='lc  ar '>1</td><td class='  al '>B</td><td class='  ar '>1.00</td></tr><tr><td class='lc  ar '>2</td><td class='  al '>C</td><td class='  ar '>2.00</td></tr><tr><td class='lc  ar '>3</td><td class='  al '>D</td><td class='  ar '>3.00</td></tr></tbody></table></body></html>\n",
       "\n",
       "[4 rows x 2 columns] total bytes: 36.0 B"
      ],
      "text/plain": []
     },
     "execution_count": 9,
     "metadata": {},
     "output_type": "execute_result"
    }
   ],
   "source": [
    "ds = rt.Dataset({'Column1': ['A', 'B', 'C', 'D'], 'Column2': [0.0, 1.0, 2.0, 3.0]})\n",
    "\n",
    "ds"
   ]
  },
  {
   "cell_type": "markdown",
   "id": "3c8ac64a",
   "metadata": {},
   "source": [
    "### Create an Empty Dataset and Add Columns to It\n",
    "\n",
    "Alternatively, you can create an empty dataset by using `rt.Dataset()` without any dictionary input and then add columns to it."
   ]
  },
  {
   "cell_type": "code",
   "execution_count": 10,
   "id": "79d5df2d",
   "metadata": {},
   "outputs": [],
   "source": [
    "ds = rt.Dataset()"
   ]
  },
  {
   "cell_type": "markdown",
   "id": "3eca0804",
   "metadata": {},
   "source": [
    "### Add Dataset Columns (FastArrays)\n",
    "\n",
    "The first column you add to the Dataset can be any length, but all future columns must match that length. \n",
    "\n",
    "The columns you add to the Dataset become aligned, meaning that they share the same row index.\n",
    "\n",
    "You can add a column to a Dataset using attribute assignment or dictionary-style syntax. Here, we use attribute assignment to create a column named 'Column1' that holds a list of values:"
   ]
  },
  {
   "cell_type": "code",
   "execution_count": 11,
   "id": "c298a9eb",
   "metadata": {},
   "outputs": [
    {
     "data": {
      "text/html": [
       "<html><head><style>table.tbl-9837 tbody td{white-space: nowrap;}table.tbl-9837 .lc{font-weight:bold;background-color: var( --jp-rendermime-table-row-hover-background);}table.tbl-9837 .lg{background-color: #66da9940;}table.tbl-9837 .lp{font-weight:bold;background-color: #ac66da40;}table.tbl-9837 .msc{font-weight:normal;background-color:#00000011;}table.tbl-9837 .al{text-align:left;}table.tbl-9837 .ar{text-align:right;}table.tbl-9837 .ac{text-align:center;}table.tbl-9837 .bld{font-weight:bold;}table.tbl-9837 .it{font-style:italic;}table.tbl-9837 .ul{text-decoration:underline;}table.tbl-9837 .st{text-decoration:line-through;}</style></head><body><table class='tbl-9837'><thead><tr><td class='lc bld ar'>#</td><td class='lc bld ar'>Column1</td></tr></thead><tbody><tr><td class='lc  ar '>0</td><td class='  ar '>0.00</td></tr><tr><td class='lc  ar '>1</td><td class='  ar '>1.00</td></tr><tr><td class='lc  ar '>2</td><td class='  ar '>2.00</td></tr><tr><td class='lc  ar '>3</td><td class='  ar '>3.00</td></tr><tr><td class='lc  ar '>4</td><td class='  ar '>4.00</td></tr></tbody></table></body></html>\n",
       "\n",
       "[5 rows x 1 columns] total bytes: 40.0 B"
      ],
      "text/plain": []
     },
     "execution_count": 11,
     "metadata": {},
     "output_type": "execute_result"
    }
   ],
   "source": [
    "ds.Column1 = [0.0, 1.0, 2.0, 3.0, 4.0]\n",
    "\n",
    "ds"
   ]
  },
  {
   "cell_type": "markdown",
   "id": "996ddf9c",
   "metadata": {},
   "source": [
    "The list becomes a FastArray. You can use attribute access to get the column's data."
   ]
  },
  {
   "cell_type": "code",
   "execution_count": 12,
   "id": "d2b1b5bb",
   "metadata": {},
   "outputs": [
    {
     "data": {
      "text/plain": [
       "FastArray([0., 1., 2., 3., 4.])"
      ]
     },
     "execution_count": 12,
     "metadata": {},
     "output_type": "execute_result"
    }
   ],
   "source": [
    "ds.Column1"
   ]
  },
  {
   "cell_type": "markdown",
   "id": "7d4331f4",
   "metadata": {},
   "source": [
    "Here, we use dictionary-style syntax to add a column of integers."
   ]
  },
  {
   "cell_type": "code",
   "execution_count": 13,
   "id": "2e66c303",
   "metadata": {},
   "outputs": [
    {
     "data": {
      "text/html": [
       "<html><head><style>table.tbl-6449 tbody td{white-space: nowrap;}table.tbl-6449 .lc{font-weight:bold;background-color: var( --jp-rendermime-table-row-hover-background);}table.tbl-6449 .lg{background-color: #66da9940;}table.tbl-6449 .lp{font-weight:bold;background-color: #ac66da40;}table.tbl-6449 .msc{font-weight:normal;background-color:#00000011;}table.tbl-6449 .al{text-align:left;}table.tbl-6449 .ar{text-align:right;}table.tbl-6449 .ac{text-align:center;}table.tbl-6449 .bld{font-weight:bold;}table.tbl-6449 .it{font-style:italic;}table.tbl-6449 .ul{text-decoration:underline;}table.tbl-6449 .st{text-decoration:line-through;}</style></head><body><table class='tbl-6449'><thead><tr><td class='lc bld ar'>#</td><td class='lc bld ar'>Column1</td><td class='lc bld ar'>Ints</td></tr></thead><tbody><tr><td class='lc  ar '>0</td><td class='  ar '>0.00</td><td class='  ar '>1</td></tr><tr><td class='lc  ar '>1</td><td class='  ar '>1.00</td><td class='  ar '>2</td></tr><tr><td class='lc  ar '>2</td><td class='  ar '>2.00</td><td class='  ar '>3</td></tr><tr><td class='lc  ar '>3</td><td class='  ar '>3.00</td><td class='  ar '>4</td></tr><tr><td class='lc  ar '>4</td><td class='  ar '>4.00</td><td class='  ar '>5</td></tr></tbody></table></body></html>\n",
       "\n",
       "[5 rows x 2 columns] total bytes: 60.0 B"
      ],
      "text/plain": []
     },
     "execution_count": 13,
     "metadata": {},
     "output_type": "execute_result"
    }
   ],
   "source": [
    "ds['Ints'] = [1, 2, 3, 4, 5]\n",
    "\n",
    "ds"
   ]
  },
  {
   "cell_type": "markdown",
   "id": "bcc5e7fb-3d47-461d-a1eb-0cd1856a12dc",
   "metadata": {},
   "source": [
    "And we can use dictionary-style syntax to access column data."
   ]
  },
  {
   "cell_type": "code",
   "execution_count": 14,
   "id": "caafc38b-b4e8-4dc4-96f0-f9f9e7ff681f",
   "metadata": {},
   "outputs": [
    {
     "data": {
      "text/plain": [
       "FastArray([1, 2, 3, 4, 5])"
      ]
     },
     "execution_count": 14,
     "metadata": {},
     "output_type": "execute_result"
    }
   ],
   "source": [
    "ds['Ints']"
   ]
  },
  {
   "cell_type": "markdown",
   "id": "170aa239-d4f6-47d7-97c5-17a48795f5a4",
   "metadata": {},
   "source": [
    "### A Note About Column Names\n",
    "\n",
    "As a best practice, column names should meet Python's rules for well-formed variable names. If a column name doesn't meet these rules (for example, if it's a procedurally generated name that starts with a symbol), you can't refer to it or get its data using attribute access. \n",
    "\n",
    "`ds.#%&ColumnName` will give you a syntax error. To access the column, you'll need to use dictionary-style syntax: `ds['#%&ColumnName']`\n",
    "\n",
    "Python keywords and Riptable class methods are also restricted. If you're not sure whether a column name is valid, you can use the Dataset method `is_valid_colname()`.\n",
    "\n",
    "For example, `for` is invalid because it's a Python keyword:"
   ]
  },
  {
   "cell_type": "code",
   "execution_count": 15,
   "id": "a52f3547",
   "metadata": {},
   "outputs": [
    {
     "data": {
      "text/plain": [
       "False"
      ]
     },
     "execution_count": 15,
     "metadata": {},
     "output_type": "execute_result"
    }
   ],
   "source": [
    "ds.is_valid_colname('for')"
   ]
  },
  {
   "cell_type": "markdown",
   "id": "28a17029",
   "metadata": {},
   "source": [
    "And `col_move` is invalid because it's a Dataset class method:"
   ]
  },
  {
   "cell_type": "code",
   "execution_count": 16,
   "id": "8dbad086",
   "metadata": {},
   "outputs": [
    {
     "data": {
      "text/plain": [
       "False"
      ]
     },
     "execution_count": 16,
     "metadata": {},
     "output_type": "execute_result"
    }
   ],
   "source": [
    "ds.is_valid_colname('col_move')"
   ]
  },
  {
   "cell_type": "markdown",
   "id": "31d38d82",
   "metadata": {},
   "source": [
    "You can see all restricted names with `get_restricted_names`."
   ]
  },
  {
   "cell_type": "code",
   "execution_count": 17,
   "id": "cbc129c1",
   "metadata": {},
   "outputs": [
    {
     "name": "stdout",
     "output_type": "stream",
     "text": [
      "Some of the restricted names include...\n",
      "\n",
      "mask_or_isinf, __reduce_ex__, imatrix_xy, __weakref__, dtypes, _get_columns, from_arrow, elif, __imul__, _deleteitem, __rsub__, _index_from_row_labels, as_matrix, putmask, _as_meta_data, shape, cat, __invert__, try, _init_columns_as_dict, label_as_dict, col_str_replace, _replaceitem, label_set_names, __contains__, __floordiv__, _row_numbers, filter, __init__, sorts_on, flatten_undo, col_str_match, __dict__, size, __rand__, info, col_remove, as, or\n"
     ]
    }
   ],
   "source": [
    "# Limit and format the output.\n",
    "print(\"Some of the restricted names include...\\n\")\n",
    "print(\", \".join(list(ds.get_restricted_names())[::10]))"
   ]
  },
  {
   "cell_type": "markdown",
   "id": "38f37ec2-22b8-47b7-aa9e-e2c04b9c6363",
   "metadata": {},
   "source": [
    "### Add a NumPy Array as a Column"
   ]
  },
  {
   "cell_type": "markdown",
   "id": "a756392f-e967-4bd9-b021-f67df3ee2cf0",
   "metadata": {},
   "source": [
    "If you have a 1-dimensional NumPy array, you can add that as a column -- it also will be converted to a FastArray."
   ]
  },
  {
   "cell_type": "code",
   "execution_count": 18,
   "id": "6b75d36d",
   "metadata": {},
   "outputs": [
    {
     "data": {
      "text/html": [
       "<html><head><style>table.tbl-8403 tbody td{white-space: nowrap;}table.tbl-8403 .lc{font-weight:bold;background-color: var( --jp-rendermime-table-row-hover-background);}table.tbl-8403 .lg{background-color: #66da9940;}table.tbl-8403 .lp{font-weight:bold;background-color: #ac66da40;}table.tbl-8403 .msc{font-weight:normal;background-color:#00000011;}table.tbl-8403 .al{text-align:left;}table.tbl-8403 .ar{text-align:right;}table.tbl-8403 .ac{text-align:center;}table.tbl-8403 .bld{font-weight:bold;}table.tbl-8403 .it{font-style:italic;}table.tbl-8403 .ul{text-decoration:underline;}table.tbl-8403 .st{text-decoration:line-through;}</style></head><body><table class='tbl-8403'><thead><tr><td class='lc bld ar'>#</td><td class='lc bld ar'>Column1</td><td class='lc bld ar'>Ints</td><td class='lc bld ar'>NPArr</td></tr></thead><tbody><tr><td class='lc  ar '>0</td><td class='  ar '>0.00</td><td class='  ar '>1</td><td class='  ar '>5.00</td></tr><tr><td class='lc  ar '>1</td><td class='  ar '>1.00</td><td class='  ar '>2</td><td class='  ar '>6.00</td></tr><tr><td class='lc  ar '>2</td><td class='  ar '>2.00</td><td class='  ar '>3</td><td class='  ar '>7.50</td></tr><tr><td class='lc  ar '>3</td><td class='  ar '>3.00</td><td class='  ar '>4</td><td class='  ar '>8.50</td></tr><tr><td class='lc  ar '>4</td><td class='  ar '>4.00</td><td class='  ar '>5</td><td class='  ar '>9.00</td></tr></tbody></table></body></html>\n",
       "\n",
       "[5 rows x 3 columns] total bytes: 100.0 B"
      ],
      "text/plain": []
     },
     "execution_count": 18,
     "metadata": {},
     "output_type": "execute_result"
    }
   ],
   "source": [
    "my_np_array = np.array([5.0, 6.0, 7.5, 8.5, 9.0]) \n",
    "ds.NPArr = my_np_array\n",
    "\n",
    "ds"
   ]
  },
  {
   "cell_type": "markdown",
   "id": "6be080eb",
   "metadata": {},
   "source": [
    "Warning: Although you can technically convert a 2-dimensional (or higher) NumPy array to a multi-dimensional FastArray, multi-dimensional FastArrays aren't supported and you could get unexpected results when you try to work with one."
   ]
  },
  {
   "cell_type": "code",
   "execution_count": 19,
   "id": "1f723ae0",
   "metadata": {},
   "outputs": [
    {
     "name": "stderr",
     "output_type": "stream",
     "text": [
      "C:\\Miniconda\\envs\\johnsonc_py39\\lib\\site-packages\\riptable\\rt_fastarray.py:561: UserWarning: FastArray contains two or more dimensions greater than one - shape:(3, 4).  Problems may occur.\n",
      "  warnings.warn(warning_string)\n"
     ]
    }
   ],
   "source": [
    "a = np.array([[1, 2, 3, 4], [5, 6, 7, 8], [9, 10, 11, 12]])\n",
    "a_fa = rt.FastArray(a)"
   ]
  },
  {
   "cell_type": "markdown",
   "id": "c96996c3",
   "metadata": {},
   "source": [
    "If you don't specify the dtype, Riptable makes its best guess."
   ]
  },
  {
   "cell_type": "code",
   "execution_count": 20,
   "id": "5cb9eca3",
   "metadata": {},
   "outputs": [
    {
     "data": {
      "text/plain": [
       "dtype('int32')"
      ]
     },
     "execution_count": 20,
     "metadata": {},
     "output_type": "execute_result"
    }
   ],
   "source": [
    "ds.Ints.dtype"
   ]
  },
  {
   "cell_type": "markdown",
   "id": "a99d3030",
   "metadata": {},
   "source": [
    "If you want to specify the dtype, create a FastArray directly with the `dtype` parameter."
   ]
  },
  {
   "cell_type": "code",
   "execution_count": 21,
   "id": "94b796b4",
   "metadata": {},
   "outputs": [
    {
     "data": {
      "text/html": [
       "<html><head><style>table.tbl-5070 tbody td{white-space: nowrap;}table.tbl-5070 .lc{font-weight:bold;background-color: var( --jp-rendermime-table-row-hover-background);}table.tbl-5070 .lg{background-color: #66da9940;}table.tbl-5070 .lp{font-weight:bold;background-color: #ac66da40;}table.tbl-5070 .msc{font-weight:normal;background-color:#00000011;}table.tbl-5070 .al{text-align:left;}table.tbl-5070 .ar{text-align:right;}table.tbl-5070 .ac{text-align:center;}table.tbl-5070 .bld{font-weight:bold;}table.tbl-5070 .it{font-style:italic;}table.tbl-5070 .ul{text-decoration:underline;}table.tbl-5070 .st{text-decoration:line-through;}</style></head><body><table class='tbl-5070'><thead><tr><td class='lc bld ar'>#</td><td class='lc bld ar'>Column1</td><td class='lc bld ar'>Ints</td><td class='lc bld ar'>NPArr</td><td class='lc bld ar'>Floats</td></tr></thead><tbody><tr><td class='lc  ar '>0</td><td class='  ar '>0.00</td><td class='  ar '>1</td><td class='  ar '>5.00</td><td class='  ar '>0.00</td></tr><tr><td class='lc  ar '>1</td><td class='  ar '>1.00</td><td class='  ar '>2</td><td class='  ar '>6.00</td><td class='  ar '>1.00</td></tr><tr><td class='lc  ar '>2</td><td class='  ar '>2.00</td><td class='  ar '>3</td><td class='  ar '>7.50</td><td class='  ar '>2.00</td></tr><tr><td class='lc  ar '>3</td><td class='  ar '>3.00</td><td class='  ar '>4</td><td class='  ar '>8.50</td><td class='  ar '>3.00</td></tr><tr><td class='lc  ar '>4</td><td class='  ar '>4.00</td><td class='  ar '>5</td><td class='  ar '>9.00</td><td class='  ar '>4.00</td></tr></tbody></table></body></html>\n",
       "\n",
       "[5 rows x 4 columns] total bytes: 140.0 B"
      ],
      "text/plain": []
     },
     "execution_count": 21,
     "metadata": {},
     "output_type": "execute_result"
    }
   ],
   "source": [
    "ds.Floats = rt.FastArray([0, 1, 2, 3, 4], dtype=float)\n",
    "\n",
    "ds"
   ]
  },
  {
   "cell_type": "markdown",
   "id": "78f7e32f",
   "metadata": {},
   "source": [
    "Tip: You can also create a FastArray using the shortcut `rt.FA()`.\n",
    "\n",
    "If you add a column with a single value, the value is duplicated to fill every existing row."
   ]
  },
  {
   "cell_type": "code",
   "execution_count": 22,
   "id": "0035d129",
   "metadata": {},
   "outputs": [
    {
     "data": {
      "text/html": [
       "<html><head><style>table.tbl-3317 tbody td{white-space: nowrap;}table.tbl-3317 .lc{font-weight:bold;background-color: var( --jp-rendermime-table-row-hover-background);}table.tbl-3317 .lg{background-color: #66da9940;}table.tbl-3317 .lp{font-weight:bold;background-color: #ac66da40;}table.tbl-3317 .msc{font-weight:normal;background-color:#00000011;}table.tbl-3317 .al{text-align:left;}table.tbl-3317 .ar{text-align:right;}table.tbl-3317 .ac{text-align:center;}table.tbl-3317 .bld{font-weight:bold;}table.tbl-3317 .it{font-style:italic;}table.tbl-3317 .ul{text-decoration:underline;}table.tbl-3317 .st{text-decoration:line-through;}</style></head><body><table class='tbl-3317'><thead><tr><td class='lc bld ar'>#</td><td class='lc bld ar'>Column1</td><td class='lc bld ar'>Ints</td><td class='lc bld ar'>NPArr</td><td class='lc bld ar'>Floats</td><td class='lc bld ar'>Ones</td></tr></thead><tbody><tr><td class='lc  ar '>0</td><td class='  ar '>0.00</td><td class='  ar '>1</td><td class='  ar '>5.00</td><td class='  ar '>0.00</td><td class='  ar '>1</td></tr><tr><td class='lc  ar '>1</td><td class='  ar '>1.00</td><td class='  ar '>2</td><td class='  ar '>6.00</td><td class='  ar '>1.00</td><td class='  ar '>1</td></tr><tr><td class='lc  ar '>2</td><td class='  ar '>2.00</td><td class='  ar '>3</td><td class='  ar '>7.50</td><td class='  ar '>2.00</td><td class='  ar '>1</td></tr><tr><td class='lc  ar '>3</td><td class='  ar '>3.00</td><td class='  ar '>4</td><td class='  ar '>8.50</td><td class='  ar '>3.00</td><td class='  ar '>1</td></tr><tr><td class='lc  ar '>4</td><td class='  ar '>4.00</td><td class='  ar '>5</td><td class='  ar '>9.00</td><td class='  ar '>4.00</td><td class='  ar '>1</td></tr></tbody></table></body></html>\n",
       "\n",
       "[5 rows x 5 columns] total bytes: 160.0 B"
      ],
      "text/plain": []
     },
     "execution_count": 22,
     "metadata": {},
     "output_type": "execute_result"
    }
   ],
   "source": [
    "ds.Ones = 1\n",
    "\n",
    "ds"
   ]
  },
  {
   "cell_type": "markdown",
   "id": "081db9e9-5701-484f-a99d-636126d627be",
   "metadata": {},
   "source": [
    "Instantiating a column with ones or zeros as placeholder data can be useful -- we'll cover some options in the [Instantiate with Placeholder Values and Generate Sample Data](tutorial_sample_data.ipynb) section."
   ]
  },
  {
   "cell_type": "markdown",
   "id": "75d17af8-a5a6-4b33-9e9a-5b980477e562",
   "metadata": {},
   "source": [
    "## Get Basic Info About a Dataset\n",
    "\n",
    "Datasets have attributes (sometimes also called properties) that give you information about them.\n",
    "\n",
    "To better see how they work, let's create a slightly larger Dataset."
   ]
  },
  {
   "cell_type": "code",
   "execution_count": 23,
   "id": "5527a9aa",
   "metadata": {},
   "outputs": [
    {
     "data": {
      "text/html": [
       "<html><head><style>table.tbl-7214 tbody td{white-space: nowrap;}table.tbl-7214 .lc{font-weight:bold;background-color: var( --jp-rendermime-table-row-hover-background);}table.tbl-7214 .lg{background-color: #66da9940;}table.tbl-7214 .lp{font-weight:bold;background-color: #ac66da40;}table.tbl-7214 .msc{font-weight:normal;background-color:#00000011;}table.tbl-7214 .al{text-align:left;}table.tbl-7214 .ar{text-align:right;}table.tbl-7214 .ac{text-align:center;}table.tbl-7214 .bld{font-weight:bold;}table.tbl-7214 .it{font-style:italic;}table.tbl-7214 .ul{text-decoration:underline;}table.tbl-7214 .st{text-decoration:line-through;}</style></head><body><table class='tbl-7214'><thead><tr><td class='lc bld ar'>  #</td><td class='lc bld al'>Symbol</td><td class='lc bld ar'>Size</td><td class='lc bld ar'>Value</td></tr></thead><tbody><tr><td class='lc  ar '>0</td><td class='  al '>TSLA</td><td class='  ar '>400</td><td class='  ar '>0.77</td></tr><tr><td class='lc  ar '>1</td><td class='  al '>AMZN</td><td class='  ar '>500</td><td class='  ar '>0.44</td></tr><tr><td class='lc  ar '>2</td><td class='  al '>AMZN</td><td class='  ar '>500</td><td class='  ar '>0.86</td></tr><tr><td class='lc  ar '>3</td><td class='  al '>SPY</td><td class='  ar '>100</td><td class='  ar '>0.70</td></tr><tr><td class='lc  ar '>4</td><td class='  al '>SPY</td><td class='  ar '>300</td><td class='  ar '>0.09</td></tr><tr><td class='lc  ar '>5</td><td class='  al '>GME</td><td class='  ar '>500</td><td class='  ar '>0.98</td></tr><tr><td class='lc  ar '>6</td><td class='  al '>SPY</td><td class='  ar '>200</td><td class='  ar '>0.76</td></tr><tr><td class='lc  ar '>7</td><td class='  al '>AAPL</td><td class='  ar '>300</td><td class='  ar '>0.79</td></tr><tr><td class='lc  ar '>8</td><td class='  al '>TSLA</td><td class='  ar '>500</td><td class='  ar '>0.13</td></tr><tr><td class='lc  ar '>9</td><td class='  al '>AMZN</td><td class='  ar '>500</td><td class='  ar '>0.45</td></tr><tr><td class='lc  ar '>10</td><td class='  al '>TSLA</td><td class='  ar '>400</td><td class='  ar '>0.37</td></tr><tr><td class='lc  ar '>11</td><td class='  al '>SPY</td><td class='  ar '>100</td><td class='  ar '>0.93</td></tr><tr><td class='lc  ar '>12</td><td class='  al '>GME</td><td class='  ar '>400</td><td class='  ar '>0.64</td></tr><tr><td class='lc  ar '>13</td><td class='  al '>GME</td><td class='  ar '>300</td><td class='  ar '>0.82</td></tr><tr><td class='lc  ar '>14</td><td class='  al '>TSLA</td><td class='  ar '>200</td><td class='  ar '>0.44</td></tr><tr><td class='lc  ar '>...</td><td class='  al '>...</td><td class='  ar '>...</td><td class='  ar '>...</td></tr><tr><td class='lc  ar '>35</td><td class='  al '>GME</td><td class='  ar '>100</td><td class='  ar '>0.19</td></tr><tr><td class='lc  ar '>36</td><td class='  al '>AMZN</td><td class='  ar '>300</td><td class='  ar '>0.13</td></tr><tr><td class='lc  ar '>37</td><td class='  al '>TSLA</td><td class='  ar '>300</td><td class='  ar '>0.48</td></tr><tr><td class='lc  ar '>38</td><td class='  al '>TSLA</td><td class='  ar '>100</td><td class='  ar '>0.23</td></tr><tr><td class='lc  ar '>39</td><td class='  al '>SPY</td><td class='  ar '>300</td><td class='  ar '>0.67</td></tr><tr><td class='lc  ar '>40</td><td class='  al '>TSLA</td><td class='  ar '>400</td><td class='  ar '>0.44</td></tr><tr><td class='lc  ar '>41</td><td class='  al '>AAPL</td><td class='  ar '>400</td><td class='  ar '>0.83</td></tr><tr><td class='lc  ar '>42</td><td class='  al '>AMZN</td><td class='  ar '>300</td><td class='  ar '>0.70</td></tr><tr><td class='lc  ar '>43</td><td class='  al '>AAPL</td><td class='  ar '>400</td><td class='  ar '>0.31</td></tr><tr><td class='lc  ar '>44</td><td class='  al '>TSLA</td><td class='  ar '>500</td><td class='  ar '>0.83</td></tr><tr><td class='lc  ar '>45</td><td class='  al '>AMZN</td><td class='  ar '>200</td><td class='  ar '>0.80</td></tr><tr><td class='lc  ar '>46</td><td class='  al '>AAPL</td><td class='  ar '>400</td><td class='  ar '>0.39</td></tr><tr><td class='lc  ar '>47</td><td class='  al '>GME</td><td class='  ar '>400</td><td class='  ar '>0.29</td></tr><tr><td class='lc  ar '>48</td><td class='  al '>AAPL</td><td class='  ar '>200</td><td class='  ar '>0.68</td></tr><tr><td class='lc  ar '>49</td><td class='  al '>TSLA</td><td class='  ar '>100</td><td class='  ar '>0.14</td></tr></tbody></table></body></html>\n",
       "\n",
       "[50 rows x 3 columns] total bytes: 800.0 B"
      ],
      "text/plain": []
     },
     "execution_count": 23,
     "metadata": {},
     "output_type": "execute_result"
    }
   ],
   "source": [
    "rng = np.random.default_rng(seed=42)  # Construct a random number generator\n",
    "\n",
    "ds2 = rt.Dataset()\n",
    "\n",
    "N = 50\n",
    "\n",
    "ds2.Symbol = rt.FA(np.random.choice(['AAPL', 'AMZN', 'TSLA', 'SPY', 'GME'], N))\n",
    "ds2.Size = rt.FA(np.random.choice([100, 200, 300, 400, 500], N))\n",
    "ds2.Value = rng.random(N)\n",
    "\n",
    "ds2"
   ]
  },
  {
   "cell_type": "markdown",
   "id": "af4c15f7",
   "metadata": {},
   "source": [
    "Use `shape` to get the Dataset's dimensions returned as a tuple (rows, cols)."
   ]
  },
  {
   "cell_type": "code",
   "execution_count": 24,
   "id": "59ab35c1",
   "metadata": {},
   "outputs": [
    {
     "data": {
      "text/plain": [
       "(50, 3)"
      ]
     },
     "execution_count": 24,
     "metadata": {},
     "output_type": "execute_result"
    }
   ],
   "source": [
    "ds2.shape"
   ]
  },
  {
   "cell_type": "markdown",
   "id": "a2242283",
   "metadata": {},
   "source": [
    "See the dtypes of a Dataset (note the plural `.dtypes` vs. the singular `.dtype` for FastArrays):"
   ]
  },
  {
   "cell_type": "code",
   "execution_count": 25,
   "id": "3383dc30",
   "metadata": {},
   "outputs": [
    {
     "data": {
      "text/plain": [
       "{'Symbol': dtype('S4'), 'Size': dtype('int32'), 'Value': dtype('float64')}"
      ]
     },
     "execution_count": 25,
     "metadata": {},
     "output_type": "execute_result"
    }
   ],
   "source": [
    "ds2.dtypes"
   ]
  },
  {
   "cell_type": "markdown",
   "id": "4b30bf66",
   "metadata": {},
   "source": [
    "Datasets also have methods that give you a feel for the data they contain. Useful methods for seeing quick subsets of your Dataset are `head()`, `tail()`, and `sample()`. By default, `head()` and `tail()` show you the first or last 20 rows, respectively, while `sample()` shows you 10 rows randomly selected from the Dataset. For each, you can pass an argument to show a custom number of rows. \n",
    "\n",
    "The first 5 rows:"
   ]
  },
  {
   "cell_type": "code",
   "execution_count": 26,
   "id": "b440f637",
   "metadata": {},
   "outputs": [
    {
     "data": {
      "text/html": [
       "<html><head><style>table.tbl-2616 tbody td{white-space: nowrap;}table.tbl-2616 .lc{font-weight:bold;background-color: var( --jp-rendermime-table-row-hover-background);}table.tbl-2616 .lg{background-color: #66da9940;}table.tbl-2616 .lp{font-weight:bold;background-color: #ac66da40;}table.tbl-2616 .msc{font-weight:normal;background-color:#00000011;}table.tbl-2616 .al{text-align:left;}table.tbl-2616 .ar{text-align:right;}table.tbl-2616 .ac{text-align:center;}table.tbl-2616 .bld{font-weight:bold;}table.tbl-2616 .it{font-style:italic;}table.tbl-2616 .ul{text-decoration:underline;}table.tbl-2616 .st{text-decoration:line-through;}</style></head><body><table class='tbl-2616'><thead><tr><td class='lc bld ar'>#</td><td class='lc bld al'>Symbol</td><td class='lc bld ar'>Size</td><td class='lc bld ar'>Value</td></tr></thead><tbody><tr><td class='lc  ar '>0</td><td class='  al '>TSLA</td><td class='  ar '>400</td><td class='  ar '>0.77</td></tr><tr><td class='lc  ar '>1</td><td class='  al '>AMZN</td><td class='  ar '>500</td><td class='  ar '>0.44</td></tr><tr><td class='lc  ar '>2</td><td class='  al '>AMZN</td><td class='  ar '>500</td><td class='  ar '>0.86</td></tr><tr><td class='lc  ar '>3</td><td class='  al '>SPY</td><td class='  ar '>100</td><td class='  ar '>0.70</td></tr><tr><td class='lc  ar '>4</td><td class='  al '>SPY</td><td class='  ar '>300</td><td class='  ar '>0.09</td></tr></tbody></table></body></html>\n",
       "\n",
       "[5 rows x 3 columns] total bytes: 80.0 B"
      ],
      "text/plain": []
     },
     "execution_count": 26,
     "metadata": {},
     "output_type": "execute_result"
    }
   ],
   "source": [
    "ds2.head(5)"
   ]
  },
  {
   "cell_type": "markdown",
   "id": "6cdb97c6",
   "metadata": {},
   "source": [
    "The last 10 rows:"
   ]
  },
  {
   "cell_type": "code",
   "execution_count": 27,
   "id": "f738f4c0",
   "metadata": {},
   "outputs": [
    {
     "data": {
      "text/html": [
       "<html><head><style>table.tbl-8546 tbody td{white-space: nowrap;}table.tbl-8546 .lc{font-weight:bold;background-color: var( --jp-rendermime-table-row-hover-background);}table.tbl-8546 .lg{background-color: #66da9940;}table.tbl-8546 .lp{font-weight:bold;background-color: #ac66da40;}table.tbl-8546 .msc{font-weight:normal;background-color:#00000011;}table.tbl-8546 .al{text-align:left;}table.tbl-8546 .ar{text-align:right;}table.tbl-8546 .ac{text-align:center;}table.tbl-8546 .bld{font-weight:bold;}table.tbl-8546 .it{font-style:italic;}table.tbl-8546 .ul{text-decoration:underline;}table.tbl-8546 .st{text-decoration:line-through;}</style></head><body><table class='tbl-8546'><thead><tr><td class='lc bld ar'>#</td><td class='lc bld al'>Symbol</td><td class='lc bld ar'>Size</td><td class='lc bld ar'>Value</td></tr></thead><tbody><tr><td class='lc  ar '>0</td><td class='  al '>TSLA</td><td class='  ar '>400</td><td class='  ar '>0.44</td></tr><tr><td class='lc  ar '>1</td><td class='  al '>AAPL</td><td class='  ar '>400</td><td class='  ar '>0.83</td></tr><tr><td class='lc  ar '>2</td><td class='  al '>AMZN</td><td class='  ar '>300</td><td class='  ar '>0.70</td></tr><tr><td class='lc  ar '>3</td><td class='  al '>AAPL</td><td class='  ar '>400</td><td class='  ar '>0.31</td></tr><tr><td class='lc  ar '>4</td><td class='  al '>TSLA</td><td class='  ar '>500</td><td class='  ar '>0.83</td></tr><tr><td class='lc  ar '>5</td><td class='  al '>AMZN</td><td class='  ar '>200</td><td class='  ar '>0.80</td></tr><tr><td class='lc  ar '>6</td><td class='  al '>AAPL</td><td class='  ar '>400</td><td class='  ar '>0.39</td></tr><tr><td class='lc  ar '>7</td><td class='  al '>GME</td><td class='  ar '>400</td><td class='  ar '>0.29</td></tr><tr><td class='lc  ar '>8</td><td class='  al '>AAPL</td><td class='  ar '>200</td><td class='  ar '>0.68</td></tr><tr><td class='lc  ar '>9</td><td class='  al '>TSLA</td><td class='  ar '>100</td><td class='  ar '>0.14</td></tr></tbody></table></body></html>\n",
       "\n",
       "[10 rows x 3 columns] total bytes: 160.0 B"
      ],
      "text/plain": []
     },
     "execution_count": 27,
     "metadata": {},
     "output_type": "execute_result"
    }
   ],
   "source": [
    "ds2.tail(10)"
   ]
  },
  {
   "cell_type": "markdown",
   "id": "59f477f0",
   "metadata": {},
   "source": [
    "If the first or last rows aren't representative of your data, it can be preferable to use `sample`."
   ]
  },
  {
   "cell_type": "code",
   "execution_count": 28,
   "id": "57936595",
   "metadata": {},
   "outputs": [
    {
     "data": {
      "text/html": [
       "<html><head><style>table.tbl-8728 tbody td{white-space: nowrap;}table.tbl-8728 .lc{font-weight:bold;background-color: var( --jp-rendermime-table-row-hover-background);}table.tbl-8728 .lg{background-color: #66da9940;}table.tbl-8728 .lp{font-weight:bold;background-color: #ac66da40;}table.tbl-8728 .msc{font-weight:normal;background-color:#00000011;}table.tbl-8728 .al{text-align:left;}table.tbl-8728 .ar{text-align:right;}table.tbl-8728 .ac{text-align:center;}table.tbl-8728 .bld{font-weight:bold;}table.tbl-8728 .it{font-style:italic;}table.tbl-8728 .ul{text-decoration:underline;}table.tbl-8728 .st{text-decoration:line-through;}</style></head><body><table class='tbl-8728'><thead><tr><td class='lc bld ar'>#</td><td class='lc bld al'>Symbol</td><td class='lc bld ar'>Size</td><td class='lc bld ar'>Value</td></tr></thead><tbody><tr><td class='lc  ar '>0</td><td class='  al '>SPY</td><td class='  ar '>200</td><td class='  ar '>0.76</td></tr><tr><td class='lc  ar '>1</td><td class='  al '>TSLA</td><td class='  ar '>500</td><td class='  ar '>0.33</td></tr><tr><td class='lc  ar '>2</td><td class='  al '>GME</td><td class='  ar '>100</td><td class='  ar '>0.19</td></tr><tr><td class='lc  ar '>3</td><td class='  al '>AMZN</td><td class='  ar '>300</td><td class='  ar '>0.13</td></tr><tr><td class='lc  ar '>4</td><td class='  al '>SPY</td><td class='  ar '>300</td><td class='  ar '>0.67</td></tr><tr><td class='lc  ar '>5</td><td class='  al '>AAPL</td><td class='  ar '>400</td><td class='  ar '>0.83</td></tr><tr><td class='lc  ar '>6</td><td class='  al '>AAPL</td><td class='  ar '>400</td><td class='  ar '>0.31</td></tr><tr><td class='lc  ar '>7</td><td class='  al '>AAPL</td><td class='  ar '>400</td><td class='  ar '>0.39</td></tr><tr><td class='lc  ar '>8</td><td class='  al '>GME</td><td class='  ar '>400</td><td class='  ar '>0.29</td></tr><tr><td class='lc  ar '>9</td><td class='  al '>AAPL</td><td class='  ar '>200</td><td class='  ar '>0.68</td></tr></tbody></table></body></html>\n",
       "\n",
       "[10 rows x 3 columns] total bytes: 160.0 B"
      ],
      "text/plain": []
     },
     "execution_count": 28,
     "metadata": {},
     "output_type": "execute_result"
    }
   ],
   "source": [
    "ds2.sample()"
   ]
  },
  {
   "cell_type": "markdown",
   "id": "865f7895",
   "metadata": {},
   "source": [
    "For numerical data, `describe()` gives you summary statistics. Non-numerical columns are ignored."
   ]
  },
  {
   "cell_type": "code",
   "execution_count": 29,
   "id": "d74a8a33",
   "metadata": {},
   "outputs": [
    {
     "data": {
      "text/html": [
       "<html><head><style>table.tbl-84 tbody td{white-space: nowrap;}table.tbl-84 .lc{font-weight:bold;background-color: var( --jp-rendermime-table-row-hover-background);}table.tbl-84 .lg{background-color: #66da9940;}table.tbl-84 .lp{font-weight:bold;background-color: #ac66da40;}table.tbl-84 .msc{font-weight:normal;background-color:#00000011;}table.tbl-84 .al{text-align:left;}table.tbl-84 .ar{text-align:right;}table.tbl-84 .ac{text-align:center;}table.tbl-84 .bld{font-weight:bold;}table.tbl-84 .it{font-style:italic;}table.tbl-84 .ul{text-decoration:underline;}table.tbl-84 .st{text-decoration:line-through;}</style></head><body><table class='tbl-84'><thead><tr><td class='lg bld al'>*Stats</td><td class='lc bld ar'>  Size</td><td class='lc bld ar'>Value</td></tr></thead><tbody><tr><td class='lg  al '>Count</td><td class='  ar '>50.00</td><td class='  ar '>50.00</td></tr><tr><td class='lg  al '>Valid</td><td class='  ar '>50.00</td><td class='  ar '>50.00</td></tr><tr><td class='lg  al '>Nans</td><td class='  ar '>0.00</td><td class='  ar '>0.00</td></tr><tr><td class='lg  al '>Mean</td><td class='  ar '>314.00</td><td class='  ar '>0.54</td></tr><tr><td class='lg  al '>Std</td><td class='  ar '>144.29</td><td class='  ar '>0.28</td></tr><tr><td class='lg  al '>Min</td><td class='  ar '>100.00</td><td class='  ar '>0.04</td></tr><tr><td class='lg  al '>P10</td><td class='  ar '>100.00</td><td class='  ar '>0.14</td></tr><tr><td class='lg  al '>P25</td><td class='  ar '>200.00</td><td class='  ar '>0.32</td></tr><tr><td class='lg  al '>P50</td><td class='  ar '>300.00</td><td class='  ar '>0.52</td></tr><tr><td class='lg  al '>P75</td><td class='  ar '>400.00</td><td class='  ar '>0.78</td></tr><tr><td class='lg  al '>P90</td><td class='  ar '>500.00</td><td class='  ar '>0.86</td></tr><tr><td class='lg  al '>Max</td><td class='  ar '>500.00</td><td class='  ar '>0.98</td></tr><tr><td class='lg  al '>MeanM</td><td class='  ar '>316.67</td><td class='  ar '>0.54</td></tr></tbody></table></body></html>\n",
       "\n",
       "[13 rows x 3 columns] total bytes: 273.0 B"
      ],
      "text/plain": []
     },
     "execution_count": 29,
     "metadata": {},
     "output_type": "execute_result"
    }
   ],
   "source": [
    "ds2.describe()"
   ]
  },
  {
   "cell_type": "markdown",
   "id": "6650c613",
   "metadata": {},
   "source": [
    "For each numerical column, `describe()` provides these summary statistics:\n",
    "\n",
    "| **Calculation** | **Description**                |\n",
    "|-----------------|------------------------------- |\n",
    "| Count           | Total number of items          |\n",
    "| Valid           | Total number of valid values   |\n",
    "| Nans            | Total number of NaN values     |\n",
    "| Mean            | Mean                           |\n",
    "| Std             | Standard deviation             |\n",
    "| Min             | Minimum value                  |\n",
    "| P10             | 10th percentile                |\n",
    "| P25             | 25th percentile                |\n",
    "| P50             | 50th percentile                |\n",
    "| P75             | 75th percentile                |\n",
    "| P90             | 90th percentile                |\n",
    "| Max             | Maximum value                  |\n",
    "| MeanM           | Mean without top or bottom 10% |"
   ]
  },
  {
   "cell_type": "markdown",
   "id": "0108245a",
   "metadata": {},
   "source": [
    "You can also use `describe()` on a single column."
   ]
  },
  {
   "cell_type": "code",
   "execution_count": 30,
   "id": "e82a714d",
   "metadata": {},
   "outputs": [
    {
     "data": {
      "text/html": [
       "<html><head><style>table.tbl-9986 tbody td{white-space: nowrap;}table.tbl-9986 .lc{font-weight:bold;background-color: var( --jp-rendermime-table-row-hover-background);}table.tbl-9986 .lg{background-color: #66da9940;}table.tbl-9986 .lp{font-weight:bold;background-color: #ac66da40;}table.tbl-9986 .msc{font-weight:normal;background-color:#00000011;}table.tbl-9986 .al{text-align:left;}table.tbl-9986 .ar{text-align:right;}table.tbl-9986 .ac{text-align:center;}table.tbl-9986 .bld{font-weight:bold;}table.tbl-9986 .it{font-style:italic;}table.tbl-9986 .ul{text-decoration:underline;}table.tbl-9986 .st{text-decoration:line-through;}</style></head><body><table class='tbl-9986'><thead><tr><td class='lg bld al'>*Stats</td><td class='lc bld ar'>Value</td></tr></thead><tbody><tr><td class='lg  al '>Count</td><td class='  ar '>50.00</td></tr><tr><td class='lg  al '>Valid</td><td class='  ar '>50.00</td></tr><tr><td class='lg  al '>Nans</td><td class='  ar '>0.00</td></tr><tr><td class='lg  al '>Mean</td><td class='  ar '>0.54</td></tr><tr><td class='lg  al '>Std</td><td class='  ar '>0.28</td></tr><tr><td class='lg  al '>Min</td><td class='  ar '>0.04</td></tr><tr><td class='lg  al '>P10</td><td class='  ar '>0.14</td></tr><tr><td class='lg  al '>P25</td><td class='  ar '>0.32</td></tr><tr><td class='lg  al '>P50</td><td class='  ar '>0.52</td></tr><tr><td class='lg  al '>P75</td><td class='  ar '>0.78</td></tr><tr><td class='lg  al '>P90</td><td class='  ar '>0.86</td></tr><tr><td class='lg  al '>Max</td><td class='  ar '>0.98</td></tr><tr><td class='lg  al '>MeanM</td><td class='  ar '>0.54</td></tr></tbody></table></body></html>\n",
       "\n",
       "[13 rows x 2 columns] total bytes: 169.0 B"
      ],
      "text/plain": []
     },
     "execution_count": 30,
     "metadata": {},
     "output_type": "execute_result"
    }
   ],
   "source": [
    "ds2.Value.describe()"
   ]
  },
  {
   "cell_type": "markdown",
   "id": "0abffa80-ea7f-4cc7-b287-9d2e014d8619",
   "metadata": {},
   "source": [
    "If your Dataset is very large, you can get column statistics with `statx()`, which you can import from `riptable.rt_stats`. It gives you a few more percentiles than `describe()` does, but it works only on one column at a time."
   ]
  },
  {
   "cell_type": "code",
   "execution_count": 31,
   "id": "d9e7f3bb-47f9-41fa-bc71-62e882e1627c",
   "metadata": {},
   "outputs": [
    {
     "data": {
      "text/html": [
       "<div>\n",
       "<style scoped>\n",
       "    .dataframe tbody tr th:only-of-type {\n",
       "        vertical-align: middle;\n",
       "    }\n",
       "\n",
       "    .dataframe tbody tr th {\n",
       "        vertical-align: top;\n",
       "    }\n",
       "\n",
       "    .dataframe thead th {\n",
       "        text-align: right;\n",
       "    }\n",
       "</style>\n",
       "<table border=\"1\" class=\"dataframe\">\n",
       "  <thead>\n",
       "    <tr style=\"text-align: right;\">\n",
       "      <th></th>\n",
       "      <th>Stat</th>\n",
       "      <th>Value</th>\n",
       "    </tr>\n",
       "  </thead>\n",
       "  <tbody>\n",
       "    <tr>\n",
       "      <th>0</th>\n",
       "      <td>min</td>\n",
       "      <td>0.043804</td>\n",
       "    </tr>\n",
       "    <tr>\n",
       "      <th>1</th>\n",
       "      <td>0.1%</td>\n",
       "      <td>0.044784</td>\n",
       "    </tr>\n",
       "    <tr>\n",
       "      <th>2</th>\n",
       "      <td>1%</td>\n",
       "      <td>0.053610</td>\n",
       "    </tr>\n",
       "    <tr>\n",
       "      <th>3</th>\n",
       "      <td>10%</td>\n",
       "      <td>0.138769</td>\n",
       "    </tr>\n",
       "    <tr>\n",
       "      <th>4</th>\n",
       "      <td>25%</td>\n",
       "      <td>0.315731</td>\n",
       "    </tr>\n",
       "    <tr>\n",
       "      <th>5</th>\n",
       "      <td>50%</td>\n",
       "      <td>0.515145</td>\n",
       "    </tr>\n",
       "    <tr>\n",
       "      <th>6</th>\n",
       "      <td>75%</td>\n",
       "      <td>0.777277</td>\n",
       "    </tr>\n",
       "    <tr>\n",
       "      <th>7</th>\n",
       "      <td>90%</td>\n",
       "      <td>0.862050</td>\n",
       "    </tr>\n",
       "    <tr>\n",
       "      <th>8</th>\n",
       "      <td>99%</td>\n",
       "      <td>0.973209</td>\n",
       "    </tr>\n",
       "    <tr>\n",
       "      <th>9</th>\n",
       "      <td>99.9%</td>\n",
       "      <td>0.975381</td>\n",
       "    </tr>\n",
       "    <tr>\n",
       "      <th>10</th>\n",
       "      <td>max</td>\n",
       "      <td>0.975622</td>\n",
       "    </tr>\n",
       "    <tr>\n",
       "      <th>11</th>\n",
       "      <td>Mean</td>\n",
       "      <td>0.535233</td>\n",
       "    </tr>\n",
       "    <tr>\n",
       "      <th>12</th>\n",
       "      <td>StdDev</td>\n",
       "      <td>0.277838</td>\n",
       "    </tr>\n",
       "    <tr>\n",
       "      <th>13</th>\n",
       "      <td>Count</td>\n",
       "      <td>50.000000</td>\n",
       "    </tr>\n",
       "    <tr>\n",
       "      <th>14</th>\n",
       "      <td>NaN_Count</td>\n",
       "      <td>0.000000</td>\n",
       "    </tr>\n",
       "  </tbody>\n",
       "</table>\n",
       "</div>"
      ],
      "text/plain": [
       "         Stat      Value\n",
       "0         min   0.043804\n",
       "1        0.1%   0.044784\n",
       "2          1%   0.053610\n",
       "3         10%   0.138769\n",
       "4         25%   0.315731\n",
       "5         50%   0.515145\n",
       "6         75%   0.777277\n",
       "7         90%   0.862050\n",
       "8         99%   0.973209\n",
       "9       99.9%   0.975381\n",
       "10        max   0.975622\n",
       "11       Mean   0.535233\n",
       "12     StdDev   0.277838\n",
       "13      Count  50.000000\n",
       "14  NaN_Count   0.000000"
      ]
     },
     "execution_count": 31,
     "metadata": {},
     "output_type": "execute_result"
    }
   ],
   "source": [
    "from riptable.rt_stats import statx\n",
    "statx(ds2.Value)"
   ]
  },
  {
   "cell_type": "markdown",
   "id": "fd824c0b-ca47-4e53-942a-21c40d5e2b95",
   "metadata": {},
   "source": [
    "### Other Useful Dataset Methods\n",
    "\n",
    "See a column's unique values:"
   ]
  },
  {
   "cell_type": "code",
   "execution_count": 32,
   "id": "b9c01307-1d16-4b8b-9465-3cb4ee6ba9c5",
   "metadata": {},
   "outputs": [
    {
     "data": {
      "text/plain": [
       "FastArray([b'AAPL', b'AMZN', b'GME', b'SPY', b'TSLA'], dtype='|S4')"
      ]
     },
     "execution_count": 32,
     "metadata": {},
     "output_type": "execute_result"
    }
   ],
   "source": [
    "ds2.Symbol.unique()"
   ]
  },
  {
   "cell_type": "markdown",
   "id": "49e29bee-af5a-43fe-bd35-88af3b2c519a",
   "metadata": {},
   "source": [
    "Count the number of unique values in a column:"
   ]
  },
  {
   "cell_type": "code",
   "execution_count": 33,
   "id": "4768c8e1-fb39-46e0-9f7f-9f3745e3cb20",
   "metadata": {},
   "outputs": [
    {
     "data": {
      "text/html": [
       "<html><head><style>table.tbl-2803 tbody td{white-space: nowrap;}table.tbl-2803 .lc{font-weight:bold;background-color: var( --jp-rendermime-table-row-hover-background);}table.tbl-2803 .lg{background-color: #66da9940;}table.tbl-2803 .lp{font-weight:bold;background-color: #ac66da40;}table.tbl-2803 .msc{font-weight:normal;background-color:#00000011;}table.tbl-2803 .al{text-align:left;}table.tbl-2803 .ar{text-align:right;}table.tbl-2803 .ac{text-align:center;}table.tbl-2803 .bld{font-weight:bold;}table.tbl-2803 .it{font-style:italic;}table.tbl-2803 .ul{text-decoration:underline;}table.tbl-2803 .st{text-decoration:line-through;}</style></head><body><table class='tbl-2803'><thead><tr><td class='lg bld al'>*Symbol</td><td class='lc bld ar'>Count</td></tr></thead><tbody><tr><td class='lg  al '>AAPL</td><td class='  ar '>11</td></tr><tr><td class='lg  al '>AMZN</td><td class='  ar '>9</td></tr><tr><td class='lg  al '>GME</td><td class='  ar '>8</td></tr><tr><td class='lg  al '>SPY</td><td class='  ar '>9</td></tr><tr><td class='lg  al '>TSLA</td><td class='  ar '>13</td></tr></tbody></table></body></html>\n",
       "\n",
       "[5 rows x 2 columns] total bytes: 40.0 B"
      ],
      "text/plain": []
     },
     "execution_count": 33,
     "metadata": {},
     "output_type": "execute_result"
    }
   ],
   "source": [
    "ds2.Symbol.count()"
   ]
  },
  {
   "cell_type": "markdown",
   "id": "db37051b-2ac8-4741-9566-2c0d864e6a37",
   "metadata": {},
   "source": [
    "Note that `count()` displays aggregated results. We'll look more at Riptable's structures and functions for aggregations later, when we cover Categoricals and Accums. \n",
    "\n",
    "View the Dataset as a dictionary:"
   ]
  },
  {
   "cell_type": "code",
   "execution_count": 34,
   "id": "3653dfae-256d-438a-83a9-6475bd9b39a3",
   "metadata": {},
   "outputs": [
    {
     "data": {
      "text/plain": [
       "{'Symbol': FastArray([b'TSLA', b'AMZN', b'AMZN', b'SPY', b'SPY', b'GME', b'SPY',\n",
       "            b'AAPL', b'TSLA', b'AMZN', b'TSLA', b'SPY', b'GME', b'GME',\n",
       "            b'TSLA', b'SPY', b'AAPL', b'TSLA', b'TSLA', b'AAPL', b'AAPL',\n",
       "            b'AMZN', b'SPY', b'GME', b'SPY', b'GME', b'AAPL', b'AAPL',\n",
       "            b'AMZN', b'GME', b'AAPL', b'SPY', b'TSLA', b'TSLA', b'AMZN',\n",
       "            b'GME', b'AMZN', b'TSLA', b'TSLA', b'SPY', b'TSLA', b'AAPL',\n",
       "            b'AMZN', b'AAPL', b'TSLA', b'AMZN', b'AAPL', b'GME', b'AAPL',\n",
       "            b'TSLA'], dtype='|S4'),\n",
       " 'Size': FastArray([400, 500, 500, 100, 300, 500, 200, 300, 500, 500, 400, 100,\n",
       "            400, 300, 200, 300, 500, 500, 300, 200, 500, 200, 100, 200,\n",
       "            400, 100, 100, 200, 100, 400, 500, 200, 500, 500, 300, 100,\n",
       "            300, 300, 100, 300, 400, 400, 300, 400, 500, 200, 400, 400,\n",
       "            200, 100]),\n",
       " 'Value': FastArray([0.77395605, 0.43887844, 0.85859792, 0.69736803, 0.09417735,\n",
       "            0.97562235, 0.7611397 , 0.78606431, 0.12811363, 0.45038594,\n",
       "            0.37079802, 0.92676499, 0.64386512, 0.82276161, 0.4434142 ,\n",
       "            0.22723872, 0.55458479, 0.06381726, 0.82763117, 0.6316644 ,\n",
       "            0.75808774, 0.35452597, 0.97069802, 0.89312112, 0.7783835 ,\n",
       "            0.19463871, 0.466721  , 0.04380377, 0.15428949, 0.68304895,\n",
       "            0.74476216, 0.96750973, 0.32582536, 0.37045971, 0.46955581,\n",
       "            0.18947136, 0.12992151, 0.47570493, 0.22690935, 0.66981399,\n",
       "            0.43715192, 0.8326782 , 0.7002651 , 0.31236664, 0.8322598 ,\n",
       "            0.80476436, 0.38747838, 0.2883281 , 0.6824955 , 0.13975248])}"
      ]
     },
     "execution_count": 34,
     "metadata": {},
     "output_type": "execute_result"
    }
   ],
   "source": [
    "ds2.asdict()"
   ]
  },
  {
   "cell_type": "markdown",
   "id": "5652a564-dbf2-491c-8ef1-86c7d18d57c7",
   "metadata": {},
   "source": [
    "<!-- (CJ Q: I've seen `.asdict()` used in the Pandas DataFrame constructor, but nowhere else. What else is it good for?) -->"
   ]
  },
  {
   "cell_type": "markdown",
   "id": "ba82c368-82ee-4a99-9d96-d03557431705",
   "metadata": {},
   "source": [
    "## Select Dataset Columns"
   ]
  },
  {
   "cell_type": "markdown",
   "id": "0a164f75-21fb-40a2-a8dd-4a1ab4cd56ec",
   "metadata": {
    "tags": []
   },
   "source": [
    "As mentioned above, you can access a Dataset column using attribute access (`ds.Column1`) or using dictionary-style syntax (`ds['Column1']`)."
   ]
  },
  {
   "cell_type": "markdown",
   "id": "60dbced0-8449-48aa-b9cc-60c734c534e3",
   "metadata": {},
   "source": [
    "To select multiple columns of a Dataset, pass a list of column names to `col_filter()`."
   ]
  },
  {
   "cell_type": "code",
   "execution_count": 35,
   "id": "f6d79fbd",
   "metadata": {},
   "outputs": [
    {
     "data": {
      "text/html": [
       "<html><head><style>table.tbl-1819 tbody td{white-space: nowrap;}table.tbl-1819 .lc{font-weight:bold;background-color: var( --jp-rendermime-table-row-hover-background);}table.tbl-1819 .lg{background-color: #66da9940;}table.tbl-1819 .lp{font-weight:bold;background-color: #ac66da40;}table.tbl-1819 .msc{font-weight:normal;background-color:#00000011;}table.tbl-1819 .al{text-align:left;}table.tbl-1819 .ar{text-align:right;}table.tbl-1819 .ac{text-align:center;}table.tbl-1819 .bld{font-weight:bold;}table.tbl-1819 .it{font-style:italic;}table.tbl-1819 .ul{text-decoration:underline;}table.tbl-1819 .st{text-decoration:line-through;}</style></head><body><table class='tbl-1819'><thead><tr><td class='lc bld ar'>#</td><td class='lc bld ar'>Floats</td><td class='lc bld ar'>Ones</td></tr></thead><tbody><tr><td class='lc  ar '>0</td><td class='  ar '>0.00</td><td class='  ar '>1</td></tr><tr><td class='lc  ar '>1</td><td class='  ar '>1.00</td><td class='  ar '>1</td></tr><tr><td class='lc  ar '>2</td><td class='  ar '>2.00</td><td class='  ar '>1</td></tr><tr><td class='lc  ar '>3</td><td class='  ar '>3.00</td><td class='  ar '>1</td></tr><tr><td class='lc  ar '>4</td><td class='  ar '>4.00</td><td class='  ar '>1</td></tr></tbody></table></body></html>\n",
       "\n",
       "[5 rows x 2 columns] total bytes: 60.0 B"
      ],
      "text/plain": []
     },
     "execution_count": 35,
     "metadata": {},
     "output_type": "execute_result"
    }
   ],
   "source": [
    "ds.col_filter(['Floats', 'Ones'])"
   ]
  },
  {
   "cell_type": "markdown",
   "id": "05cd2a56",
   "metadata": {},
   "source": [
    "`col_filter()` also accepts regular expressions."
   ]
  },
  {
   "cell_type": "code",
   "execution_count": 36,
   "id": "2091e80e",
   "metadata": {},
   "outputs": [
    {
     "data": {
      "text/html": [
       "<html><head><style>table.tbl-4649 tbody td{white-space: nowrap;}table.tbl-4649 .lc{font-weight:bold;background-color: var( --jp-rendermime-table-row-hover-background);}table.tbl-4649 .lg{background-color: #66da9940;}table.tbl-4649 .lp{font-weight:bold;background-color: #ac66da40;}table.tbl-4649 .msc{font-weight:normal;background-color:#00000011;}table.tbl-4649 .al{text-align:left;}table.tbl-4649 .ar{text-align:right;}table.tbl-4649 .ac{text-align:center;}table.tbl-4649 .bld{font-weight:bold;}table.tbl-4649 .it{font-style:italic;}table.tbl-4649 .ul{text-decoration:underline;}table.tbl-4649 .st{text-decoration:line-through;}</style></head><body><table class='tbl-4649'><thead><tr><td class='lc bld ar'>#</td><td class='lc bld ar'>Column1</td></tr></thead><tbody><tr><td class='lc  ar '>0</td><td class='  ar '>0.00</td></tr><tr><td class='lc  ar '>1</td><td class='  ar '>1.00</td></tr><tr><td class='lc  ar '>2</td><td class='  ar '>2.00</td></tr><tr><td class='lc  ar '>3</td><td class='  ar '>3.00</td></tr><tr><td class='lc  ar '>4</td><td class='  ar '>4.00</td></tr></tbody></table></body></html>\n",
       "\n",
       "[5 rows x 1 columns] total bytes: 40.0 B"
      ],
      "text/plain": []
     },
     "execution_count": 36,
     "metadata": {},
     "output_type": "execute_result"
    }
   ],
   "source": [
    "ds.col_filter(regex='Col*')"
   ]
  },
  {
   "cell_type": "markdown",
   "id": "0c86c2e7",
   "metadata": {},
   "source": [
    "For selecting subsets of columns, Riptable supports all of the indexing, slicing, and \"fancy indexing\" operations supported by NumPy arrays. \n",
    "\n",
    "Select a single value at index 0:"
   ]
  },
  {
   "cell_type": "code",
   "execution_count": 37,
   "id": "4bebc595",
   "metadata": {},
   "outputs": [
    {
     "data": {
      "text/plain": [
       "0.0"
      ]
     },
     "execution_count": 37,
     "metadata": {},
     "output_type": "execute_result"
    }
   ],
   "source": [
    "ds.Column1[0]"
   ]
  },
  {
   "cell_type": "markdown",
   "id": "8be715c2",
   "metadata": {},
   "source": [
    "Get a slice of contiguous values from index 1 (included) to index 4 (excluded):"
   ]
  },
  {
   "cell_type": "code",
   "execution_count": 38,
   "id": "079b5fa9",
   "metadata": {},
   "outputs": [
    {
     "data": {
      "text/plain": [
       "FastArray([1., 2., 3.])"
      ]
     },
     "execution_count": 38,
     "metadata": {},
     "output_type": "execute_result"
    }
   ],
   "source": [
    "ds.Column1[1:4]"
   ]
  },
  {
   "cell_type": "markdown",
   "id": "150f2778",
   "metadata": {},
   "source": [
    "To use fancy indexing, pass an array that specifies noncontiguous indices and your desired ordering:"
   ]
  },
  {
   "cell_type": "code",
   "execution_count": 39,
   "id": "b26d7688",
   "metadata": {},
   "outputs": [
    {
     "data": {
      "text/plain": [
       "FastArray([1., 3., 0.])"
      ]
     },
     "execution_count": 39,
     "metadata": {},
     "output_type": "execute_result"
    }
   ],
   "source": [
    "ds.Floats[[1, 3, 0]]"
   ]
  },
  {
   "cell_type": "markdown",
   "id": "c2e549bd",
   "metadata": {},
   "source": [
    "You can also set values using indexing and slicing."
   ]
  },
  {
   "cell_type": "code",
   "execution_count": 40,
   "id": "fc799e96",
   "metadata": {},
   "outputs": [
    {
     "data": {
      "text/html": [
       "<html><head><style>table.tbl-6425 tbody td{white-space: nowrap;}table.tbl-6425 .lc{font-weight:bold;background-color: var( --jp-rendermime-table-row-hover-background);}table.tbl-6425 .lg{background-color: #66da9940;}table.tbl-6425 .lp{font-weight:bold;background-color: #ac66da40;}table.tbl-6425 .msc{font-weight:normal;background-color:#00000011;}table.tbl-6425 .al{text-align:left;}table.tbl-6425 .ar{text-align:right;}table.tbl-6425 .ac{text-align:center;}table.tbl-6425 .bld{font-weight:bold;}table.tbl-6425 .it{font-style:italic;}table.tbl-6425 .ul{text-decoration:underline;}table.tbl-6425 .st{text-decoration:line-through;}</style></head><body><table class='tbl-6425'><thead><tr><td class='lc bld ar'>#</td><td class='lc bld ar'>Column1</td><td class='lc bld ar'>Ints</td><td class='lc bld ar'>NPArr</td><td class='lc bld ar'>Floats</td><td class='lc bld ar'>     Ones</td></tr></thead><tbody><tr><td class='lc  ar '>0</td><td class='  ar '>5.00</td><td class='  ar '>1</td><td class='  ar '>5.00</td><td class='  ar '>0.00</td><td class='  ar '>5,000,000</td></tr><tr><td class='lc  ar '>1</td><td class='  ar '>1.00</td><td class='  ar '>4</td><td class='  ar '>6.00</td><td class='  ar '>1.00</td><td class='  ar '>2,000,000</td></tr><tr><td class='lc  ar '>2</td><td class='  ar '>2.00</td><td class='  ar '>4</td><td class='  ar '>7.50</td><td class='  ar '>10.00</td><td class='  ar '>1</td></tr><tr><td class='lc  ar '>3</td><td class='  ar '>3.00</td><td class='  ar '>4</td><td class='  ar '>8.50</td><td class='  ar '>20.00</td><td class='  ar '>4,000,000</td></tr><tr><td class='lc  ar '>4</td><td class='  ar '>4.00</td><td class='  ar '>5</td><td class='  ar '>9.00</td><td class='  ar '>4.00</td><td class='  ar '>1</td></tr></tbody></table></body></html>\n",
       "\n",
       "[5 rows x 5 columns] total bytes: 160.0 B"
      ],
      "text/plain": []
     },
     "execution_count": 40,
     "metadata": {},
     "output_type": "execute_result"
    }
   ],
   "source": [
    "ds.Column1[0] = 5.0\n",
    "ds.Ints[1:3] = 4\n",
    "ds.Floats[2:4] = 10.0, 20.0\n",
    "ds.Ones[[1, 3, 0]] = 2_000_000, 4_000_000, 5_000_000  # Underscores are nice for code readability!\n",
    "\n",
    "ds"
   ]
  },
  {
   "cell_type": "markdown",
   "id": "457ee837",
   "metadata": {},
   "source": [
    "Warning: Trying to insert a floating-point value into a column/FastArray of integers will cause the floating-point value to be silently truncated."
   ]
  },
  {
   "cell_type": "code",
   "execution_count": 41,
   "id": "620da9ba",
   "metadata": {},
   "outputs": [
    {
     "data": {
      "text/html": [
       "<html><head><style>table.tbl-6144 tbody td{white-space: nowrap;}table.tbl-6144 .lc{font-weight:bold;background-color: var( --jp-rendermime-table-row-hover-background);}table.tbl-6144 .lg{background-color: #66da9940;}table.tbl-6144 .lp{font-weight:bold;background-color: #ac66da40;}table.tbl-6144 .msc{font-weight:normal;background-color:#00000011;}table.tbl-6144 .al{text-align:left;}table.tbl-6144 .ar{text-align:right;}table.tbl-6144 .ac{text-align:center;}table.tbl-6144 .bld{font-weight:bold;}table.tbl-6144 .it{font-style:italic;}table.tbl-6144 .ul{text-decoration:underline;}table.tbl-6144 .st{text-decoration:line-through;}</style></head><body><table class='tbl-6144'><thead><tr><td class='lc bld ar'>#</td><td class='lc bld ar'>Column1</td><td class='lc bld ar'>Ints</td><td class='lc bld ar'>NPArr</td><td class='lc bld ar'>Floats</td><td class='lc bld ar'>     Ones</td></tr></thead><tbody><tr><td class='lc  ar '>0</td><td class='  ar '>5.00</td><td class='  ar '>1</td><td class='  ar '>5.00</td><td class='  ar '>0.00</td><td class='  ar '>1</td></tr><tr><td class='lc  ar '>1</td><td class='  ar '>1.00</td><td class='  ar '>4</td><td class='  ar '>6.00</td><td class='  ar '>1.00</td><td class='  ar '>2,000,000</td></tr><tr><td class='lc  ar '>2</td><td class='  ar '>2.00</td><td class='  ar '>4</td><td class='  ar '>7.50</td><td class='  ar '>10.00</td><td class='  ar '>1</td></tr><tr><td class='lc  ar '>3</td><td class='  ar '>3.00</td><td class='  ar '>4</td><td class='  ar '>8.50</td><td class='  ar '>20.00</td><td class='  ar '>4,000,000</td></tr><tr><td class='lc  ar '>4</td><td class='  ar '>4.00</td><td class='  ar '>5</td><td class='  ar '>9.00</td><td class='  ar '>4.00</td><td class='  ar '>1</td></tr></tbody></table></body></html>\n",
       "\n",
       "[5 rows x 5 columns] total bytes: 160.0 B"
      ],
      "text/plain": []
     },
     "execution_count": 41,
     "metadata": {},
     "output_type": "execute_result"
    }
   ],
   "source": [
    "ds.Ones[0] = 1.5\n",
    "\n",
    "ds"
   ]
  },
  {
   "cell_type": "markdown",
   "id": "3e2d91cb-445b-4a44-80f0-57b6afa50718",
   "metadata": {},
   "source": [
    "To learn more about accessing data using indexing and slicing, see examples for 1-dimensional NumPy ndarrays in [NumPy's documentation](https://numpy.org/doc/stable/user/index.html)."
   ]
  },
  {
   "cell_type": "markdown",
   "id": "75b0d3da-086b-4562-aa80-cb004a26d68d",
   "metadata": {},
   "source": [
    "## Select Dataset Rows"
   ]
  },
  {
   "cell_type": "markdown",
   "id": "e3f2ecd2-5746-4d05-ab28-d7d00dc3d066",
   "metadata": {},
   "source": [
    "To select Dataset rows, you need to also specify which columns you want.\n",
    "\n",
    "First row, Column1:"
   ]
  },
  {
   "cell_type": "code",
   "execution_count": 42,
   "id": "242a6ae5",
   "metadata": {},
   "outputs": [
    {
     "data": {
      "text/plain": [
       "5.0"
      ]
     },
     "execution_count": 42,
     "metadata": {},
     "output_type": "execute_result"
    }
   ],
   "source": [
    "ds[0, 'Column1']"
   ]
  },
  {
   "cell_type": "markdown",
   "id": "dcd80471",
   "metadata": {},
   "source": [
    "You can also refer to columns by number:"
   ]
  },
  {
   "cell_type": "code",
   "execution_count": 43,
   "id": "ba41cdf6",
   "metadata": {},
   "outputs": [
    {
     "data": {
      "text/plain": [
       "5.0"
      ]
     },
     "execution_count": 43,
     "metadata": {},
     "output_type": "execute_result"
    }
   ],
   "source": [
    "ds[0, 0]"
   ]
  },
  {
   "cell_type": "markdown",
   "id": "d6959bca",
   "metadata": {},
   "source": [
    "The `:` specifies all columns:"
   ]
  },
  {
   "cell_type": "code",
   "execution_count": 44,
   "id": "772badc1",
   "metadata": {},
   "outputs": [
    {
     "data": {
      "text/html": [
       "<html><head><style>table.tbl-339 tbody td{white-space: nowrap;}table.tbl-339 .lc{font-weight:bold;background-color: var( --jp-rendermime-table-row-hover-background);}table.tbl-339 .lg{background-color: #66da9940;}table.tbl-339 .lp{font-weight:bold;background-color: #ac66da40;}table.tbl-339 .msc{font-weight:normal;background-color:#00000011;}table.tbl-339 .al{text-align:left;}table.tbl-339 .ar{text-align:right;}table.tbl-339 .ac{text-align:center;}table.tbl-339 .bld{font-weight:bold;}table.tbl-339 .it{font-style:italic;}table.tbl-339 .ul{text-decoration:underline;}table.tbl-339 .st{text-decoration:line-through;}</style></head><body><table class='tbl-339'><thead><tr><td class='lc bld ar'>#</td><td class='lc bld ar'>Column1</td><td class='lc bld ar'>Ints</td><td class='lc bld ar'>NPArr</td><td class='lc bld ar'>Floats</td><td class='lc bld ar'>     Ones</td></tr></thead><tbody><tr><td class='lc  ar '>0</td><td class='  ar '>5.00</td><td class='  ar '>1</td><td class='  ar '>5.00</td><td class='  ar '>0.00</td><td class='  ar '>1</td></tr><tr><td class='lc  ar '>1</td><td class='  ar '>1.00</td><td class='  ar '>4</td><td class='  ar '>6.00</td><td class='  ar '>1.00</td><td class='  ar '>2,000,000</td></tr><tr><td class='lc  ar '>2</td><td class='  ar '>2.00</td><td class='  ar '>4</td><td class='  ar '>7.50</td><td class='  ar '>10.00</td><td class='  ar '>1</td></tr></tbody></table></body></html>\n",
       "\n",
       "[3 rows x 5 columns] total bytes: 96.0 B"
      ],
      "text/plain": []
     },
     "execution_count": 44,
     "metadata": {},
     "output_type": "execute_result"
    }
   ],
   "source": [
    "ds[0:3, :]"
   ]
  },
  {
   "cell_type": "markdown",
   "id": "4540387c",
   "metadata": {},
   "source": [
    "Or you can pass a list of multiple columns:"
   ]
  },
  {
   "cell_type": "code",
   "execution_count": 45,
   "id": "893cebab",
   "metadata": {},
   "outputs": [
    {
     "data": {
      "text/html": [
       "<html><head><style>table.tbl-8976 tbody td{white-space: nowrap;}table.tbl-8976 .lc{font-weight:bold;background-color: var( --jp-rendermime-table-row-hover-background);}table.tbl-8976 .lg{background-color: #66da9940;}table.tbl-8976 .lp{font-weight:bold;background-color: #ac66da40;}table.tbl-8976 .msc{font-weight:normal;background-color:#00000011;}table.tbl-8976 .al{text-align:left;}table.tbl-8976 .ar{text-align:right;}table.tbl-8976 .ac{text-align:center;}table.tbl-8976 .bld{font-weight:bold;}table.tbl-8976 .it{font-style:italic;}table.tbl-8976 .ul{text-decoration:underline;}table.tbl-8976 .st{text-decoration:line-through;}</style></head><body><table class='tbl-8976'><thead><tr><td class='lc bld ar'>#</td><td class='lc bld ar'>Ints</td><td class='lc bld ar'>     Ones</td></tr></thead><tbody><tr><td class='lc  ar '>0</td><td class='  ar '>1</td><td class='  ar '>1</td></tr><tr><td class='lc  ar '>1</td><td class='  ar '>4</td><td class='  ar '>2,000,000</td></tr></tbody></table></body></html>\n",
       "\n",
       "[2 rows x 2 columns] total bytes: 16.0 B"
      ],
      "text/plain": []
     },
     "execution_count": 45,
     "metadata": {},
     "output_type": "execute_result"
    }
   ],
   "source": [
    "ds[0:2, ['Ints', 'Ones']]"
   ]
  },
  {
   "cell_type": "markdown",
   "id": "c9f3cdc6",
   "metadata": {},
   "source": [
    "More often, you'll probably use filters to get subsets of your data. We cover that in more detail in [Get and Operate on Subsets of Data Using Filters](tutorial_filters.ipynb)."
   ]
  },
  {
   "cell_type": "markdown",
   "id": "26edf174-3f2b-4ac2-8e82-48e1c6b5da37",
   "metadata": {},
   "source": [
    "## Delete a Column from a Dataset\n",
    "\n",
    "To delete a column from a Dataset, use `del ds.ColumnName`."
   ]
  },
  {
   "cell_type": "markdown",
   "id": "8e6017f6-c48a-4210-b307-b827acf4583f",
   "metadata": {},
   "source": [
    "## Hold Two or More Datasets in a Struct\n",
    "\n",
    "When you're working with multiple Datasets, it can be helpful to keep them together in a Riptable Struct. Structs were created as a base class for Datasets. They also replicate Matlab structs.\n",
    "\n",
    "You can think of a Struct as a Python dictionary, but with attribute access allowed for keys. \n",
    "\n",
    "Data structures stored together in a Struct don't need to be aligned."
   ]
  },
  {
   "cell_type": "code",
   "execution_count": 46,
   "id": "b0b76e2c",
   "metadata": {},
   "outputs": [],
   "source": [
    "s = rt.Struct()\n",
    "\n",
    "s.ds = ds\n",
    "s.ds2 = ds2"
   ]
  },
  {
   "cell_type": "markdown",
   "id": "f6819dae",
   "metadata": {},
   "source": [
    "You can access each data structure using attribute-style access. For example:"
   ]
  },
  {
   "cell_type": "code",
   "execution_count": 47,
   "id": "84ef441b",
   "metadata": {},
   "outputs": [
    {
     "data": {
      "text/html": [
       "<html><head><style>table.tbl-2480 tbody td{white-space: nowrap;}table.tbl-2480 .lc{font-weight:bold;background-color: var( --jp-rendermime-table-row-hover-background);}table.tbl-2480 .lg{background-color: #66da9940;}table.tbl-2480 .lp{font-weight:bold;background-color: #ac66da40;}table.tbl-2480 .msc{font-weight:normal;background-color:#00000011;}table.tbl-2480 .al{text-align:left;}table.tbl-2480 .ar{text-align:right;}table.tbl-2480 .ac{text-align:center;}table.tbl-2480 .bld{font-weight:bold;}table.tbl-2480 .it{font-style:italic;}table.tbl-2480 .ul{text-decoration:underline;}table.tbl-2480 .st{text-decoration:line-through;}</style></head><body><table class='tbl-2480'><thead><tr><td class='lc bld ar'>  #</td><td class='lc bld al'>Symbol</td><td class='lc bld ar'>Size</td><td class='lc bld ar'>Value</td></tr></thead><tbody><tr><td class='lc  ar '>0</td><td class='  al '>TSLA</td><td class='  ar '>400</td><td class='  ar '>0.77</td></tr><tr><td class='lc  ar '>1</td><td class='  al '>AMZN</td><td class='  ar '>500</td><td class='  ar '>0.44</td></tr><tr><td class='lc  ar '>2</td><td class='  al '>AMZN</td><td class='  ar '>500</td><td class='  ar '>0.86</td></tr><tr><td class='lc  ar '>3</td><td class='  al '>SPY</td><td class='  ar '>100</td><td class='  ar '>0.70</td></tr><tr><td class='lc  ar '>4</td><td class='  al '>SPY</td><td class='  ar '>300</td><td class='  ar '>0.09</td></tr><tr><td class='lc  ar '>5</td><td class='  al '>GME</td><td class='  ar '>500</td><td class='  ar '>0.98</td></tr><tr><td class='lc  ar '>6</td><td class='  al '>SPY</td><td class='  ar '>200</td><td class='  ar '>0.76</td></tr><tr><td class='lc  ar '>7</td><td class='  al '>AAPL</td><td class='  ar '>300</td><td class='  ar '>0.79</td></tr><tr><td class='lc  ar '>8</td><td class='  al '>TSLA</td><td class='  ar '>500</td><td class='  ar '>0.13</td></tr><tr><td class='lc  ar '>9</td><td class='  al '>AMZN</td><td class='  ar '>500</td><td class='  ar '>0.45</td></tr><tr><td class='lc  ar '>10</td><td class='  al '>TSLA</td><td class='  ar '>400</td><td class='  ar '>0.37</td></tr><tr><td class='lc  ar '>11</td><td class='  al '>SPY</td><td class='  ar '>100</td><td class='  ar '>0.93</td></tr><tr><td class='lc  ar '>12</td><td class='  al '>GME</td><td class='  ar '>400</td><td class='  ar '>0.64</td></tr><tr><td class='lc  ar '>13</td><td class='  al '>GME</td><td class='  ar '>300</td><td class='  ar '>0.82</td></tr><tr><td class='lc  ar '>14</td><td class='  al '>TSLA</td><td class='  ar '>200</td><td class='  ar '>0.44</td></tr><tr><td class='lc  ar '>...</td><td class='  al '>...</td><td class='  ar '>...</td><td class='  ar '>...</td></tr><tr><td class='lc  ar '>35</td><td class='  al '>GME</td><td class='  ar '>100</td><td class='  ar '>0.19</td></tr><tr><td class='lc  ar '>36</td><td class='  al '>AMZN</td><td class='  ar '>300</td><td class='  ar '>0.13</td></tr><tr><td class='lc  ar '>37</td><td class='  al '>TSLA</td><td class='  ar '>300</td><td class='  ar '>0.48</td></tr><tr><td class='lc  ar '>38</td><td class='  al '>TSLA</td><td class='  ar '>100</td><td class='  ar '>0.23</td></tr><tr><td class='lc  ar '>39</td><td class='  al '>SPY</td><td class='  ar '>300</td><td class='  ar '>0.67</td></tr><tr><td class='lc  ar '>40</td><td class='  al '>TSLA</td><td class='  ar '>400</td><td class='  ar '>0.44</td></tr><tr><td class='lc  ar '>41</td><td class='  al '>AAPL</td><td class='  ar '>400</td><td class='  ar '>0.83</td></tr><tr><td class='lc  ar '>42</td><td class='  al '>AMZN</td><td class='  ar '>300</td><td class='  ar '>0.70</td></tr><tr><td class='lc  ar '>43</td><td class='  al '>AAPL</td><td class='  ar '>400</td><td class='  ar '>0.31</td></tr><tr><td class='lc  ar '>44</td><td class='  al '>TSLA</td><td class='  ar '>500</td><td class='  ar '>0.83</td></tr><tr><td class='lc  ar '>45</td><td class='  al '>AMZN</td><td class='  ar '>200</td><td class='  ar '>0.80</td></tr><tr><td class='lc  ar '>46</td><td class='  al '>AAPL</td><td class='  ar '>400</td><td class='  ar '>0.39</td></tr><tr><td class='lc  ar '>47</td><td class='  al '>GME</td><td class='  ar '>400</td><td class='  ar '>0.29</td></tr><tr><td class='lc  ar '>48</td><td class='  al '>AAPL</td><td class='  ar '>200</td><td class='  ar '>0.68</td></tr><tr><td class='lc  ar '>49</td><td class='  al '>TSLA</td><td class='  ar '>100</td><td class='  ar '>0.14</td></tr></tbody></table></body></html>\n",
       "\n",
       "[50 rows x 3 columns] total bytes: 800.0 B"
      ],
      "text/plain": []
     },
     "execution_count": 47,
     "metadata": {},
     "output_type": "execute_result"
    }
   ],
   "source": [
    "s.ds2"
   ]
  },
  {
   "cell_type": "markdown",
   "id": "9094b622-02bb-4a84-b1f8-b8574ac20172",
   "metadata": {},
   "source": [
    "## Perform Operations on Dataset Columns"
   ]
  },
  {
   "cell_type": "markdown",
   "id": "9eba453e-0137-453f-b701-658f5598a899",
   "metadata": {
    "tags": []
   },
   "source": [
    "FastArrays are a subclass of NumPy's ndarray. Thanks to this, you can do anything with FastArrays that you can do with NumPy arrays. \n",
    "\n",
    "In particular, NumPy's universal functions (ufuncs) are supported, allowing for fast, vectorized operations. (Vectorized functions operate element-wise on arrays without using Python loops, which are slow.) See the [NumPy API Reference](https://numpy.org/doc/stable/reference/index.html) for a complete list and documentation for all NumPy methods.\n",
    "\n",
    "Note, though, that Riptable has implemented its own optimized version of many NumPy methods. If you call a NumPy method that's been optimized by Riptable, the Riptable method is called. We encourage you to call the Riptable method directly to avoid any confusion about what method is being called. See [NumPy Methods Optimized by Riptable](tutorial_numpy_rt.rst) for details.\n",
    "\n",
    "If a method hasn't been optimized by Riptable, the NumPy method is called. "
   ]
  },
  {
   "cell_type": "markdown",
   "id": "9cec28dd-a46c-45c3-a873-a81e56f9ae9a",
   "metadata": {
    "tags": []
   },
   "source": [
    "### Arithmetic on Column Values\n",
    "\n",
    "You can do various arithmetic operations on any numerical column (or standalone FastArray) and optionally put the results into a new column. \n",
    "\n",
    "Binary operations on two columns are performed on an element-by-element basis. The columns must be the same length."
   ]
  },
  {
   "cell_type": "code",
   "execution_count": 48,
   "id": "7fd62e55",
   "metadata": {},
   "outputs": [
    {
     "data": {
      "text/html": [
       "<html><head><style>table.tbl-647 tbody td{white-space: nowrap;}table.tbl-647 .lc{font-weight:bold;background-color: var( --jp-rendermime-table-row-hover-background);}table.tbl-647 .lg{background-color: #66da9940;}table.tbl-647 .lp{font-weight:bold;background-color: #ac66da40;}table.tbl-647 .msc{font-weight:normal;background-color:#00000011;}table.tbl-647 .al{text-align:left;}table.tbl-647 .ar{text-align:right;}table.tbl-647 .ac{text-align:center;}table.tbl-647 .bld{font-weight:bold;}table.tbl-647 .it{font-style:italic;}table.tbl-647 .ul{text-decoration:underline;}table.tbl-647 .st{text-decoration:line-through;}</style></head><body><table class='tbl-647'><thead><tr><td class='lc bld ar'>#</td><td class='lc bld ar'>A</td><td class='lc bld ar'>B</td><td class='lc bld ar'>C</td></tr></thead><tbody><tr><td class='lc  ar '>0</td><td class='  ar '>0</td><td class='  ar '>5</td><td class='  ar '>5</td></tr><tr><td class='lc  ar '>1</td><td class='  ar '>1</td><td class='  ar '>5</td><td class='  ar '>6</td></tr><tr><td class='lc  ar '>2</td><td class='  ar '>2</td><td class='  ar '>5</td><td class='  ar '>7</td></tr></tbody></table></body></html>\n",
       "\n",
       "[3 rows x 3 columns] total bytes: 36.0 B"
      ],
      "text/plain": []
     },
     "execution_count": 48,
     "metadata": {},
     "output_type": "execute_result"
    }
   ],
   "source": [
    "ds3 = rt.Dataset()\n",
    "ds3.A = [0, 1, 2]\n",
    "ds3.B = [5, 5, 5]\n",
    "\n",
    "ds3.C = ds3.A + ds3.B\n",
    "\n",
    "ds3"
   ]
  },
  {
   "cell_type": "markdown",
   "id": "b4bb999f",
   "metadata": {},
   "source": [
    "FastArrays also support broadcasting, which allows you to perform a binary operation on a FastArray and a scalar. For example, you can add a scalar to an array.\n",
    "\n",
    "Riptable will upcast data types as necessary to preserve information."
   ]
  },
  {
   "cell_type": "code",
   "execution_count": 49,
   "id": "40a6ca76",
   "metadata": {},
   "outputs": [
    {
     "data": {
      "text/html": [
       "<html><head><style>table.tbl-9788 tbody td{white-space: nowrap;}table.tbl-9788 .lc{font-weight:bold;background-color: var( --jp-rendermime-table-row-hover-background);}table.tbl-9788 .lg{background-color: #66da9940;}table.tbl-9788 .lp{font-weight:bold;background-color: #ac66da40;}table.tbl-9788 .msc{font-weight:normal;background-color:#00000011;}table.tbl-9788 .al{text-align:left;}table.tbl-9788 .ar{text-align:right;}table.tbl-9788 .ac{text-align:center;}table.tbl-9788 .bld{font-weight:bold;}table.tbl-9788 .it{font-style:italic;}table.tbl-9788 .ul{text-decoration:underline;}table.tbl-9788 .st{text-decoration:line-through;}</style></head><body><table class='tbl-9788'><thead><tr><td class='lc bld ar'>#</td><td class='lc bld ar'>A</td><td class='lc bld ar'>B</td><td class='lc bld ar'>C</td><td class='lc bld ar'>   D</td></tr></thead><tbody><tr><td class='lc  ar '>0</td><td class='  ar '>0</td><td class='  ar '>5</td><td class='  ar '>5</td><td class='  ar '>5.10</td></tr><tr><td class='lc  ar '>1</td><td class='  ar '>1</td><td class='  ar '>5</td><td class='  ar '>6</td><td class='  ar '>6.10</td></tr><tr><td class='lc  ar '>2</td><td class='  ar '>2</td><td class='  ar '>5</td><td class='  ar '>7</td><td class='  ar '>7.10</td></tr></tbody></table></body></html>\n",
       "\n",
       "[3 rows x 4 columns] total bytes: 60.0 B"
      ],
      "text/plain": []
     },
     "execution_count": 49,
     "metadata": {},
     "output_type": "execute_result"
    }
   ],
   "source": [
    "ds3.D = ds3.A + 5.1\n",
    "\n",
    "ds3"
   ]
  },
  {
   "cell_type": "markdown",
   "id": "c345b5c7",
   "metadata": {},
   "source": [
    "Note that the standard order of operations is respected."
   ]
  },
  {
   "cell_type": "code",
   "execution_count": 50,
   "id": "d11ff092",
   "metadata": {},
   "outputs": [
    {
     "data": {
      "text/html": [
       "<html><head><style>table.tbl-5658 tbody td{white-space: nowrap;}table.tbl-5658 .lc{font-weight:bold;background-color: var( --jp-rendermime-table-row-hover-background);}table.tbl-5658 .lg{background-color: #66da9940;}table.tbl-5658 .lp{font-weight:bold;background-color: #ac66da40;}table.tbl-5658 .msc{font-weight:normal;background-color:#00000011;}table.tbl-5658 .al{text-align:left;}table.tbl-5658 .ar{text-align:right;}table.tbl-5658 .ac{text-align:center;}table.tbl-5658 .bld{font-weight:bold;}table.tbl-5658 .it{font-style:italic;}table.tbl-5658 .ul{text-decoration:underline;}table.tbl-5658 .st{text-decoration:line-through;}</style></head><body><table class='tbl-5658'><thead><tr><td class='lc bld ar'>#</td><td class='lc bld ar'>A</td><td class='lc bld ar'>B</td><td class='lc bld ar'>C</td><td class='lc bld ar'>   D</td><td class='lc bld ar'>    E</td></tr></thead><tbody><tr><td class='lc  ar '>0</td><td class='  ar '>0</td><td class='  ar '>5</td><td class='  ar '>5</td><td class='  ar '>5.10</td><td class='  ar '>-1.00</td></tr><tr><td class='lc  ar '>1</td><td class='  ar '>1</td><td class='  ar '>5</td><td class='  ar '>6</td><td class='  ar '>6.10</td><td class='  ar '>-2.25</td></tr><tr><td class='lc  ar '>2</td><td class='  ar '>2</td><td class='  ar '>5</td><td class='  ar '>7</td><td class='  ar '>7.10</td><td class='  ar '>-4.00</td></tr></tbody></table></body></html>\n",
       "\n",
       "[3 rows x 5 columns] total bytes: 84.0 B"
      ],
      "text/plain": []
     },
     "execution_count": 50,
     "metadata": {},
     "output_type": "execute_result"
    }
   ],
   "source": [
    "ds3.E = -(0.5*ds3.A + 1) ** 2\n",
    "\n",
    "ds3"
   ]
  },
  {
   "cell_type": "markdown",
   "id": "b434c7fd",
   "metadata": {},
   "source": [
    "You can populate a Dataset column with the results of an operation on a column of another Dataset, as long as the resulting FastArray is the right length for the Dataset you want to add it to."
   ]
  },
  {
   "cell_type": "code",
   "execution_count": 51,
   "id": "b4e95867",
   "metadata": {},
   "outputs": [
    {
     "data": {
      "text/html": [
       "<html><head><style>table.tbl-1449 tbody td{white-space: nowrap;}table.tbl-1449 .lc{font-weight:bold;background-color: var( --jp-rendermime-table-row-hover-background);}table.tbl-1449 .lg{background-color: #66da9940;}table.tbl-1449 .lp{font-weight:bold;background-color: #ac66da40;}table.tbl-1449 .msc{font-weight:normal;background-color:#00000011;}table.tbl-1449 .al{text-align:left;}table.tbl-1449 .ar{text-align:right;}table.tbl-1449 .ac{text-align:center;}table.tbl-1449 .bld{font-weight:bold;}table.tbl-1449 .it{font-style:italic;}table.tbl-1449 .ul{text-decoration:underline;}table.tbl-1449 .st{text-decoration:line-through;}</style></head><body><table class='tbl-1449'><thead><tr><td class='lc bld ar'>#</td><td class='lc bld ar'>A</td><td class='lc bld ar'>B</td><td class='lc bld ar'>C</td><td class='lc bld ar'>   D</td><td class='lc bld ar'>    E</td><td class='lc bld ar'> F</td></tr></thead><tbody><tr><td class='lc  ar '>0</td><td class='  ar '>0</td><td class='  ar '>5</td><td class='  ar '>5</td><td class='  ar '>5.10</td><td class='  ar '>-1.00</td><td class='  ar '>20</td></tr><tr><td class='lc  ar '>1</td><td class='  ar '>1</td><td class='  ar '>5</td><td class='  ar '>6</td><td class='  ar '>6.10</td><td class='  ar '>-2.25</td><td class='  ar '>22</td></tr><tr><td class='lc  ar '>2</td><td class='  ar '>2</td><td class='  ar '>5</td><td class='  ar '>7</td><td class='  ar '>7.10</td><td class='  ar '>-4.00</td><td class='  ar '>24</td></tr></tbody></table></body></html>\n",
       "\n",
       "[3 rows x 6 columns] total bytes: 96.0 B"
      ],
      "text/plain": []
     },
     "execution_count": 51,
     "metadata": {},
     "output_type": "execute_result"
    }
   ],
   "source": [
    "ds4 = rt.Dataset({'A': [10, 11, 12], 'B': [21, 22, 23]})\n",
    "\n",
    "ds3.F = ds4.A * 2\n",
    "\n",
    "ds3"
   ]
  },
  {
   "cell_type": "markdown",
   "id": "e24b6b2b",
   "metadata": {},
   "source": [
    "### Reducing Operations vs. Non-Reducing Operations\n",
    "\n",
    "The operations we've performed so far have been *non-reducing* operations. A non-reducing operation takes in multiple input values and returns one output value for each input value. That is, the resulting FastArray is the same length as the FastArray you operated on, and it can be added to the same Dataset.\n",
    "\n",
    "A *reducing* operation, on the other hand, takes in multiple inputs and returns one value. `sum()` and `mean()` are examples of reducing operations. This distinction will be more important when we talk about Categoricals and operations on grouped data. For now, we'll get the results of two reducing operations without adding them to a Dataset.\n",
    "\n",
    "The total of the Size column:"
   ]
  },
  {
   "cell_type": "code",
   "execution_count": 52,
   "id": "df00f83e",
   "metadata": {},
   "outputs": [
    {
     "data": {
      "text/plain": [
       "15700"
      ]
     },
     "execution_count": 52,
     "metadata": {},
     "output_type": "execute_result"
    }
   ],
   "source": [
    "ds2.Size.sum()"
   ]
  },
  {
   "cell_type": "markdown",
   "id": "0f65820e",
   "metadata": {},
   "source": [
    "The average of the Value column:"
   ]
  },
  {
   "cell_type": "code",
   "execution_count": 53,
   "id": "81da130a",
   "metadata": {},
   "outputs": [
    {
     "data": {
      "text/plain": [
       "0.5352327331104895"
      ]
     },
     "execution_count": 53,
     "metadata": {},
     "output_type": "execute_result"
    }
   ],
   "source": [
    "ds2.Value.mean()"
   ]
  },
  {
   "cell_type": "markdown",
   "id": "607750d9-7b1c-4018-ae52-4d75fff0a60d",
   "metadata": {},
   "source": [
    "Tip: Generally speaking, there are two ways to call a Riptable function on a column. For example, to get the sum, you can use `ds2.Size.sum()` or `rt.sum(ds2.Size)`."
   ]
  },
  {
   "cell_type": "markdown",
   "id": "842f8a65-e7cd-47e7-bcee-0f7bc5c34573",
   "metadata": {},
   "source": [
    "### Watch Out for Missing Values\n",
    "\n",
    "When you're working with real data, there will often be missing values. Take care when performing operations! In Riptable, missing floating-point values are represented by `nan`. In a regular arithmatic operation with a floating-point `nan`, the result is `nan`."
   ]
  },
  {
   "cell_type": "code",
   "execution_count": 54,
   "id": "47e685ef",
   "metadata": {},
   "outputs": [
    {
     "data": {
      "text/plain": [
       "nan"
      ]
     },
     "execution_count": 54,
     "metadata": {},
     "output_type": "execute_result"
    }
   ],
   "source": [
    "y = rt.FA([1.0, 2.0, 3.0, rt.nan])\n",
    "y.sum()"
   ]
  },
  {
   "cell_type": "markdown",
   "id": "672bb247",
   "metadata": {},
   "source": [
    "Fortunately, many functions have \"nan\" versions that ignore `nan` values."
   ]
  },
  {
   "cell_type": "code",
   "execution_count": 55,
   "id": "d674a732",
   "metadata": {},
   "outputs": [
    {
     "data": {
      "text/plain": [
       "6.0"
      ]
     },
     "execution_count": 55,
     "metadata": {},
     "output_type": "execute_result"
    }
   ],
   "source": [
    "y.nansum()"
   ]
  },
  {
   "cell_type": "markdown",
   "id": "0adf8fa0-4715-4e2b-a5e4-ab922d645704",
   "metadata": {},
   "source": [
    "Useful NaN functions:\n",
    "    \n",
    "| **Function**                      | **Description** (all functions ignore NaN values) |\n",
    "|-----------------------------------|---------------------------------------------------|\n",
    "| nanmin(), nanmax()                | Minimum and maximum                               |\n",
    "| nanvar()                          | Variance                                          |\n",
    "| nanmean()                         | Mean                                              |\n",
    "| nanstd()                          | Standard deviation                                |\n",
    "| nansum()                          | Total of all items                                |\n",
    "| nanargmin(), nanargmax()          | Index of the minimum or maximum value             |\n",
    "| rollingnansum(), rollingnanmean() | Rolling sum, rolling mean                         |\n",
    "\n",
    "Another way to deal with NaN values is to replace them with other values. For details, see [Working with Missing Data](tutorial_missing_data.ipynb)."
   ]
  },
  {
   "cell_type": "markdown",
   "id": "8f1b7205-2a04-4a75-a6e6-6ed1d730237e",
   "metadata": {},
   "source": [
    "### Sort Column Values\n",
    "\n",
    "Sorting a column is straightforward. Use `sort_copy()` to return a sorted version of the array without modifying the original input, or `sort_inplace()` if you're OK with modifying the original data."
   ]
  },
  {
   "cell_type": "code",
   "execution_count": 70,
   "id": "c343621a",
   "metadata": {},
   "outputs": [
    {
     "data": {
      "text/html": [
       "<html><head><style>table.tbl-5883 tbody td{white-space: nowrap;}table.tbl-5883 .lc{font-weight:bold;background-color: var( --jp-rendermime-table-row-hover-background);}table.tbl-5883 .lg{background-color: #66da9940;}table.tbl-5883 .lp{font-weight:bold;background-color: #ac66da40;}table.tbl-5883 .msc{font-weight:normal;background-color:#00000011;}table.tbl-5883 .al{text-align:left;}table.tbl-5883 .ar{text-align:right;}table.tbl-5883 .ac{text-align:center;}table.tbl-5883 .bld{font-weight:bold;}table.tbl-5883 .it{font-style:italic;}table.tbl-5883 .ul{text-decoration:underline;}table.tbl-5883 .st{text-decoration:line-through;}</style></head><body><table class='tbl-5883'><thead><tr><td class='lc bld ar'>#</td><td class='lc bld al'>A   </td><td class='lc bld ar'>B</td><td class='lc bld ar'>   C</td></tr></thead><tbody><tr><td class='lc  ar '>0</td><td class='  al '>AMZN</td><td class='  ar '>2</td><td class='  ar '>0.55</td></tr><tr><td class='lc  ar '>1</td><td class='  al '>SPY</td><td class='  ar '>3</td><td class='  ar '>0.56</td></tr><tr><td class='lc  ar '>2</td><td class='  al '>TSLA</td><td class='  ar '>3</td><td class='  ar '>0.30</td></tr><tr><td class='lc  ar '>3</td><td class='  al '>TSLA</td><td class='  ar '>2</td><td class='  ar '>0.03</td></tr><tr><td class='lc  ar '>4</td><td class='  al '>TSLA</td><td class='  ar '>4</td><td class='  ar '>0.44</td></tr><tr><td class='lc  ar '>5</td><td class='  al '>TSLA</td><td class='  ar '>2</td><td class='  ar '>0.21</td></tr><tr><td class='lc  ar '>6</td><td class='  al '>AAPL</td><td class='  ar '>0</td><td class='  ar '>0.41</td></tr><tr><td class='lc  ar '>7</td><td class='  al '>AAPL</td><td class='  ar '>3</td><td class='  ar '>0.85</td></tr><tr><td class='lc  ar '>8</td><td class='  al '>AMZN</td><td class='  ar '>2</td><td class='  ar '>0.23</td></tr><tr><td class='lc  ar '>9</td><td class='  al '>AAPL</td><td class='  ar '>3</td><td class='  ar '>0.06</td></tr></tbody></table></body></html>\n",
       "\n",
       "[10 rows x 3 columns] total bytes: 200.0 B"
      ],
      "text/plain": []
     },
     "execution_count": 70,
     "metadata": {},
     "output_type": "execute_result"
    }
   ],
   "source": [
    "ds4 = rt.Dataset()\n",
    "ds4.A = rng.choice(['AAPL', 'AMZN', 'TSLA', 'SPY', 'GME'], 10)\n",
    "ds4.B = rng.integers(low=0, high=5, size=10)\n",
    "ds4.C = rng.random(10)\n",
    "\n",
    "ds4"
   ]
  },
  {
   "cell_type": "markdown",
   "id": "421471f1",
   "metadata": {},
   "source": [
    "You can sort by one column:"
   ]
  },
  {
   "cell_type": "code",
   "execution_count": 57,
   "id": "f4455b37",
   "metadata": {},
   "outputs": [
    {
     "data": {
      "text/html": [
       "<html><head><style>table.tbl-1616 tbody td{white-space: nowrap;}table.tbl-1616 .lc{font-weight:bold;background-color: var( --jp-rendermime-table-row-hover-background);}table.tbl-1616 .lg{background-color: #66da9940;}table.tbl-1616 .lp{font-weight:bold;background-color: #ac66da40;}table.tbl-1616 .msc{font-weight:normal;background-color:#00000011;}table.tbl-1616 .al{text-align:left;}table.tbl-1616 .ar{text-align:right;}table.tbl-1616 .ac{text-align:center;}table.tbl-1616 .bld{font-weight:bold;}table.tbl-1616 .it{font-style:italic;}table.tbl-1616 .ul{text-decoration:underline;}table.tbl-1616 .st{text-decoration:line-through;}</style></head><body><table class='tbl-1616'><thead><tr><td class='lc bld ar'>#</td><td class='lc bld al'>A   </td><td class='lc bld ar'>B</td><td class='lc bld ar'>   C</td></tr></thead><tbody><tr><td class='lc  ar '>0</td><td class='  al '>AAPL</td><td class='  ar '>4</td><td class='  ar '>0.16</td></tr><tr><td class='lc  ar '>1</td><td class='  al '>AAPL</td><td class='  ar '>0</td><td class='  ar '>0.98</td></tr><tr><td class='lc  ar '>2</td><td class='  al '>AAPL</td><td class='  ar '>3</td><td class='  ar '>0.27</td></tr><tr><td class='lc  ar '>3</td><td class='  al '>AAPL</td><td class='  ar '>3</td><td class='  ar '>0.78</td></tr><tr><td class='lc  ar '>4</td><td class='  al '>AAPL</td><td class='  ar '>2</td><td class='  ar '>0.54</td></tr><tr><td class='lc  ar '>5</td><td class='  al '>AMZN</td><td class='  ar '>0</td><td class='  ar '>0.68</td></tr><tr><td class='lc  ar '>6</td><td class='  al '>GME</td><td class='  ar '>3</td><td class='  ar '>0.67</td></tr><tr><td class='lc  ar '>7</td><td class='  al '>SPY</td><td class='  ar '>3</td><td class='  ar '>0.06</td></tr><tr><td class='lc  ar '>8</td><td class='  al '>TSLA</td><td class='  ar '>4</td><td class='  ar '>0.40</td></tr><tr><td class='lc  ar '>9</td><td class='  al '>TSLA</td><td class='  ar '>3</td><td class='  ar '>0.64</td></tr></tbody></table></body></html>\n",
       "\n",
       "[10 rows x 3 columns] total bytes: 200.0 B"
      ],
      "text/plain": []
     },
     "execution_count": 57,
     "metadata": {},
     "output_type": "execute_result"
    }
   ],
   "source": [
    "ds4.sort_copy('A')"
   ]
  },
  {
   "cell_type": "markdown",
   "id": "398769c7",
   "metadata": {},
   "source": [
    "Or by more than one column by passing an ordered list:"
   ]
  },
  {
   "cell_type": "code",
   "execution_count": 58,
   "id": "ebc7a169",
   "metadata": {},
   "outputs": [
    {
     "data": {
      "text/html": [
       "<html><head><style>table.tbl-3203 tbody td{white-space: nowrap;}table.tbl-3203 .lc{font-weight:bold;background-color: var( --jp-rendermime-table-row-hover-background);}table.tbl-3203 .lg{background-color: #66da9940;}table.tbl-3203 .lp{font-weight:bold;background-color: #ac66da40;}table.tbl-3203 .msc{font-weight:normal;background-color:#00000011;}table.tbl-3203 .al{text-align:left;}table.tbl-3203 .ar{text-align:right;}table.tbl-3203 .ac{text-align:center;}table.tbl-3203 .bld{font-weight:bold;}table.tbl-3203 .it{font-style:italic;}table.tbl-3203 .ul{text-decoration:underline;}table.tbl-3203 .st{text-decoration:line-through;}</style></head><body><table class='tbl-3203'><thead><tr><td class='lc bld ar'>#</td><td class='lc bld al'>A   </td><td class='lc bld ar'>B</td><td class='lc bld ar'>   C</td></tr></thead><tbody><tr><td class='lc  ar '>0</td><td class='  al '>AAPL</td><td class='  ar '>0</td><td class='  ar '>0.98</td></tr><tr><td class='lc  ar '>1</td><td class='  al '>AAPL</td><td class='  ar '>2</td><td class='  ar '>0.54</td></tr><tr><td class='lc  ar '>2</td><td class='  al '>AAPL</td><td class='  ar '>3</td><td class='  ar '>0.27</td></tr><tr><td class='lc  ar '>3</td><td class='  al '>AAPL</td><td class='  ar '>3</td><td class='  ar '>0.78</td></tr><tr><td class='lc  ar '>4</td><td class='  al '>AAPL</td><td class='  ar '>4</td><td class='  ar '>0.16</td></tr><tr><td class='lc  ar '>5</td><td class='  al '>AMZN</td><td class='  ar '>0</td><td class='  ar '>0.68</td></tr><tr><td class='lc  ar '>6</td><td class='  al '>GME</td><td class='  ar '>3</td><td class='  ar '>0.67</td></tr><tr><td class='lc  ar '>7</td><td class='  al '>SPY</td><td class='  ar '>3</td><td class='  ar '>0.06</td></tr><tr><td class='lc  ar '>8</td><td class='  al '>TSLA</td><td class='  ar '>3</td><td class='  ar '>0.64</td></tr><tr><td class='lc  ar '>9</td><td class='  al '>TSLA</td><td class='  ar '>4</td><td class='  ar '>0.40</td></tr></tbody></table></body></html>\n",
       "\n",
       "[10 rows x 3 columns] total bytes: 200.0 B"
      ],
      "text/plain": []
     },
     "execution_count": 58,
     "metadata": {},
     "output_type": "execute_result"
    }
   ],
   "source": [
    "ds4.sort_copy(['A', 'B'])"
   ]
  },
  {
   "cell_type": "markdown",
   "id": "88be3e24",
   "metadata": {},
   "source": [
    "With `sort_copy()`, the original Dataset is not modified."
   ]
  },
  {
   "cell_type": "code",
   "execution_count": 59,
   "id": "fe1fde30",
   "metadata": {},
   "outputs": [
    {
     "data": {
      "text/html": [
       "<html><head><style>table.tbl-6571 tbody td{white-space: nowrap;}table.tbl-6571 .lc{font-weight:bold;background-color: var( --jp-rendermime-table-row-hover-background);}table.tbl-6571 .lg{background-color: #66da9940;}table.tbl-6571 .lp{font-weight:bold;background-color: #ac66da40;}table.tbl-6571 .msc{font-weight:normal;background-color:#00000011;}table.tbl-6571 .al{text-align:left;}table.tbl-6571 .ar{text-align:right;}table.tbl-6571 .ac{text-align:center;}table.tbl-6571 .bld{font-weight:bold;}table.tbl-6571 .it{font-style:italic;}table.tbl-6571 .ul{text-decoration:underline;}table.tbl-6571 .st{text-decoration:line-through;}</style></head><body><table class='tbl-6571'><thead><tr><td class='lc bld ar'>#</td><td class='lc bld al'>A   </td><td class='lc bld ar'>B</td><td class='lc bld ar'>   C</td></tr></thead><tbody><tr><td class='lc  ar '>0</td><td class='  al '>AAPL</td><td class='  ar '>4</td><td class='  ar '>0.16</td></tr><tr><td class='lc  ar '>1</td><td class='  al '>AMZN</td><td class='  ar '>0</td><td class='  ar '>0.68</td></tr><tr><td class='lc  ar '>2</td><td class='  al '>TSLA</td><td class='  ar '>4</td><td class='  ar '>0.40</td></tr><tr><td class='lc  ar '>3</td><td class='  al '>AAPL</td><td class='  ar '>0</td><td class='  ar '>0.98</td></tr><tr><td class='lc  ar '>4</td><td class='  al '>AAPL</td><td class='  ar '>3</td><td class='  ar '>0.27</td></tr><tr><td class='lc  ar '>5</td><td class='  al '>AAPL</td><td class='  ar '>3</td><td class='  ar '>0.78</td></tr><tr><td class='lc  ar '>6</td><td class='  al '>SPY</td><td class='  ar '>3</td><td class='  ar '>0.06</td></tr><tr><td class='lc  ar '>7</td><td class='  al '>TSLA</td><td class='  ar '>3</td><td class='  ar '>0.64</td></tr><tr><td class='lc  ar '>8</td><td class='  al '>AAPL</td><td class='  ar '>2</td><td class='  ar '>0.54</td></tr><tr><td class='lc  ar '>9</td><td class='  al '>GME</td><td class='  ar '>3</td><td class='  ar '>0.67</td></tr></tbody></table></body></html>\n",
       "\n",
       "[10 rows x 3 columns] total bytes: 200.0 B"
      ],
      "text/plain": []
     },
     "execution_count": 59,
     "metadata": {},
     "output_type": "execute_result"
    }
   ],
   "source": [
    "ds4"
   ]
  },
  {
   "cell_type": "markdown",
   "id": "bcf10d28",
   "metadata": {},
   "source": [
    "Use `sort_inplace()` if you want to modify the original input (for example, if your data needs to be sorted by time, but isn't)."
   ]
  },
  {
   "cell_type": "code",
   "execution_count": 60,
   "id": "3cbc3766",
   "metadata": {},
   "outputs": [
    {
     "data": {
      "text/html": [
       "<html><head><style>table.tbl-6024 tbody td{white-space: nowrap;}table.tbl-6024 .lc{font-weight:bold;background-color: var( --jp-rendermime-table-row-hover-background);}table.tbl-6024 .lg{background-color: #66da9940;}table.tbl-6024 .lp{font-weight:bold;background-color: #ac66da40;}table.tbl-6024 .msc{font-weight:normal;background-color:#00000011;}table.tbl-6024 .al{text-align:left;}table.tbl-6024 .ar{text-align:right;}table.tbl-6024 .ac{text-align:center;}table.tbl-6024 .bld{font-weight:bold;}table.tbl-6024 .it{font-style:italic;}table.tbl-6024 .ul{text-decoration:underline;}table.tbl-6024 .st{text-decoration:line-through;}</style></head><body><table class='tbl-6024'><thead><tr><td class='lc bld ar'>#</td><td class='lc bld al'>A   </td><td class='lc bld ar'>B</td><td class='lc bld ar'>   C</td></tr></thead><tbody><tr><td class='lc  ar '>0</td><td class='  al '>AMZN</td><td class='  ar '>0</td><td class='  ar '>0.68</td></tr><tr><td class='lc  ar '>1</td><td class='  al '>AAPL</td><td class='  ar '>0</td><td class='  ar '>0.98</td></tr><tr><td class='lc  ar '>2</td><td class='  al '>AAPL</td><td class='  ar '>2</td><td class='  ar '>0.54</td></tr><tr><td class='lc  ar '>3</td><td class='  al '>AAPL</td><td class='  ar '>3</td><td class='  ar '>0.27</td></tr><tr><td class='lc  ar '>4</td><td class='  al '>AAPL</td><td class='  ar '>3</td><td class='  ar '>0.78</td></tr><tr><td class='lc  ar '>5</td><td class='  al '>SPY</td><td class='  ar '>3</td><td class='  ar '>0.06</td></tr><tr><td class='lc  ar '>6</td><td class='  al '>TSLA</td><td class='  ar '>3</td><td class='  ar '>0.64</td></tr><tr><td class='lc  ar '>7</td><td class='  al '>GME</td><td class='  ar '>3</td><td class='  ar '>0.67</td></tr><tr><td class='lc  ar '>8</td><td class='  al '>AAPL</td><td class='  ar '>4</td><td class='  ar '>0.16</td></tr><tr><td class='lc  ar '>9</td><td class='  al '>TSLA</td><td class='  ar '>4</td><td class='  ar '>0.40</td></tr></tbody></table></body></html>\n",
       "\n",
       "[10 rows x 3 columns] total bytes: 200.0 B"
      ],
      "text/plain": []
     },
     "execution_count": 60,
     "metadata": {},
     "output_type": "execute_result"
    }
   ],
   "source": [
    "ds4.sort_inplace('B')"
   ]
  },
  {
   "cell_type": "markdown",
   "id": "2b057afd",
   "metadata": {},
   "source": [
    "You can change the sort order by passing `ascending=False`."
   ]
  },
  {
   "cell_type": "code",
   "execution_count": 61,
   "id": "12e0a025",
   "metadata": {},
   "outputs": [
    {
     "data": {
      "text/html": [
       "<html><head><style>table.tbl-4237 tbody td{white-space: nowrap;}table.tbl-4237 .lc{font-weight:bold;background-color: var( --jp-rendermime-table-row-hover-background);}table.tbl-4237 .lg{background-color: #66da9940;}table.tbl-4237 .lp{font-weight:bold;background-color: #ac66da40;}table.tbl-4237 .msc{font-weight:normal;background-color:#00000011;}table.tbl-4237 .al{text-align:left;}table.tbl-4237 .ar{text-align:right;}table.tbl-4237 .ac{text-align:center;}table.tbl-4237 .bld{font-weight:bold;}table.tbl-4237 .it{font-style:italic;}table.tbl-4237 .ul{text-decoration:underline;}table.tbl-4237 .st{text-decoration:line-through;}</style></head><body><table class='tbl-4237'><thead><tr><td class='lc bld ar'>#</td><td class='lc bld al'>A   </td><td class='lc bld ar'>B</td><td class='lc bld ar'>   C</td></tr></thead><tbody><tr><td class='lc  ar '>0</td><td class='  al '>TSLA</td><td class='  ar '>4</td><td class='  ar '>0.40</td></tr><tr><td class='lc  ar '>1</td><td class='  al '>TSLA</td><td class='  ar '>3</td><td class='  ar '>0.64</td></tr><tr><td class='lc  ar '>2</td><td class='  al '>SPY</td><td class='  ar '>3</td><td class='  ar '>0.06</td></tr><tr><td class='lc  ar '>3</td><td class='  al '>GME</td><td class='  ar '>3</td><td class='  ar '>0.67</td></tr><tr><td class='lc  ar '>4</td><td class='  al '>AMZN</td><td class='  ar '>0</td><td class='  ar '>0.68</td></tr><tr><td class='lc  ar '>5</td><td class='  al '>AAPL</td><td class='  ar '>4</td><td class='  ar '>0.16</td></tr><tr><td class='lc  ar '>6</td><td class='  al '>AAPL</td><td class='  ar '>3</td><td class='  ar '>0.78</td></tr><tr><td class='lc  ar '>7</td><td class='  al '>AAPL</td><td class='  ar '>3</td><td class='  ar '>0.27</td></tr><tr><td class='lc  ar '>8</td><td class='  al '>AAPL</td><td class='  ar '>2</td><td class='  ar '>0.54</td></tr><tr><td class='lc  ar '>9</td><td class='  al '>AAPL</td><td class='  ar '>0</td><td class='  ar '>0.98</td></tr></tbody></table></body></html>\n",
       "\n",
       "[10 rows x 3 columns] total bytes: 200.0 B"
      ],
      "text/plain": []
     },
     "execution_count": 61,
     "metadata": {},
     "output_type": "execute_result"
    }
   ],
   "source": [
    "ds4.sort_copy('A', ascending=False)"
   ]
  },
  {
   "cell_type": "markdown",
   "id": "db642c9a",
   "metadata": {},
   "source": [
    "### Split Data into New Columns Using String Operations\n",
    "\n",
    "Sometimes related pieces of data come bundled together in a single string, and you want to break up the data into separate columns.\n",
    "\n",
    "For example, take a look at the OSI Symbol field commonly found in trading-related data. OSIs are the official name for a tradable option. They contain several pieces of information that are separated by colons.\n",
    "\n",
    "For example, in **AAPL:191018:260:0:C**:\n",
    "\n",
    "- AAPL is the underlying symbol\n",
    "- 191018 represents an expiration date of 2019-10-18\n",
    "- 260 is the strike price dollar amount\n",
    "- The 0 is the strike price penny amount\n",
    "    - Other possibilities: :0: for 0.00, :5: for 0.50, :3: for 0.30, :25: for 0.25, :15: for 0.15\n",
    "- \"C\" indicates a call (\"P\" indicates a put)\n",
    "\n",
    "Here's what OSI Symbols might look like in a Dataset. We'll use `str.extract()` to break them into separate columns."
   ]
  },
  {
   "cell_type": "code",
   "execution_count": 62,
   "id": "315b702d",
   "metadata": {},
   "outputs": [
    {
     "data": {
      "text/html": [
       "<html><head><style>table.tbl-5798 tbody td{white-space: nowrap;}table.tbl-5798 .lc{font-weight:bold;background-color: var( --jp-rendermime-table-row-hover-background);}table.tbl-5798 .lg{background-color: #66da9940;}table.tbl-5798 .lp{font-weight:bold;background-color: #ac66da40;}table.tbl-5798 .msc{font-weight:normal;background-color:#00000011;}table.tbl-5798 .al{text-align:left;}table.tbl-5798 .ar{text-align:right;}table.tbl-5798 .ac{text-align:center;}table.tbl-5798 .bld{font-weight:bold;}table.tbl-5798 .it{font-style:italic;}table.tbl-5798 .ul{text-decoration:underline;}table.tbl-5798 .st{text-decoration:line-through;}</style></head><body><table class='tbl-5798'><thead><tr><td class='lc bld ar'>#</td><td class='lc bld al'>OSISymbol      </td><td class='lc bld ar'>Delta</td><td class='lc bld ar'>  PnL</td></tr></thead><tbody><tr><td class='lc  ar '>0</td><td class='  al '>SPY:191003:187:</td><td class='  ar '>0.93</td><td class='  ar '>1.03</td></tr><tr><td class='lc  ar '>1</td><td class='  al '>SPY:191003:193:</td><td class='  ar '>0.71</td><td class='  ar '>0.61</td></tr><tr><td class='lc  ar '>2</td><td class='  al '>TLT:191003:135:</td><td class='  ar '>-0.72</td><td class='  ar '>0.52</td></tr><tr><td class='lc  ar '>3</td><td class='  al '>AAPL:191018:260</td><td class='  ar '>0.45</td><td class='  ar '>-0.14</td></tr><tr><td class='lc  ar '>4</td><td class='  al '>AAPL:191018:265</td><td class='  ar '>-0.81</td><td class='  ar '>0.68</td></tr></tbody></table></body></html>\n",
       "\n",
       "[5 rows x 3 columns] total bytes: 175.0 B"
      ],
      "text/plain": []
     },
     "execution_count": 62,
     "metadata": {},
     "output_type": "execute_result"
    }
   ],
   "source": [
    "ds5 = rt.Dataset(\n",
    "    {'OSISymbol':['SPY:191003:187:0:C','SPY:191003:193:0:C','TLT:191003:135:5:P', \n",
    "                  'AAPL:191018:260:0:C', 'AAPL:191018:265:0:P'],\n",
    "                  'Delta':[.93, .71, -.72, .45, -.81],  \n",
    "                  'PnL':[1.03, 0.61, 0.52, -0.14, .68]\n",
    "    })\n",
    "\n",
    "ds5"
   ]
  },
  {
   "cell_type": "markdown",
   "id": "596156cc",
   "metadata": {},
   "source": [
    "`str.extract()` uses regular expressions to match patterns and capture/extract the subpatterns that are surrounded by parentheses. Each captured subpattern is returned in a separate column.\n",
    "\n",
    "Below, we define five capture groups that correspond to five returned columns of data. Inside the capture groups, we match any letters or numbers."
   ]
  },
  {
   "cell_type": "code",
   "execution_count": 69,
   "id": "0a5b3b1d",
   "metadata": {},
   "outputs": [
    {
     "data": {
      "text/html": [
       "<html><head><style>table.tbl-4941 tbody td{white-space: nowrap;}table.tbl-4941 .lc{font-weight:bold;background-color: var( --jp-rendermime-table-row-hover-background);}table.tbl-4941 .lg{background-color: #66da9940;}table.tbl-4941 .lp{font-weight:bold;background-color: #ac66da40;}table.tbl-4941 .msc{font-weight:normal;background-color:#00000011;}table.tbl-4941 .al{text-align:left;}table.tbl-4941 .ar{text-align:right;}table.tbl-4941 .ac{text-align:center;}table.tbl-4941 .bld{font-weight:bold;}table.tbl-4941 .it{font-style:italic;}table.tbl-4941 .ul{text-decoration:underline;}table.tbl-4941 .st{text-decoration:line-through;}</style></head><body><table class='tbl-4941'><thead><tr><td class='lc bld ar'>#</td><td class='lc bld al'>OSISymbol      </td><td class='lc bld ar'>Delta</td><td class='lc bld ar'>  PnL</td><td class='lc bld al'>Symbol</td><td class='lc bld al'>Expiration</td><td class='lc bld al'>PutCall</td><td class='lc bld ar'>Strike</td><td class='lc bld al'>StrikeDollar</td><td class='lc bld al'>StrikePenny</td></tr></thead><tbody><tr><td class='lc  ar '>0</td><td class='  al '>SPY:191003:187:</td><td class='  ar '>0.93</td><td class='  ar '>1.03</td><td class='  al '>SPY</td><td class='  al '>191003</td><td class='  al '>C</td><td class='  ar '>187.00</td><td class='  al '>187</td><td class='  al '>0</td></tr><tr><td class='lc  ar '>1</td><td class='  al '>SPY:191003:193:</td><td class='  ar '>0.71</td><td class='  ar '>0.61</td><td class='  al '>SPY</td><td class='  al '>191003</td><td class='  al '>C</td><td class='  ar '>193.00</td><td class='  al '>193</td><td class='  al '>0</td></tr><tr><td class='lc  ar '>2</td><td class='  al '>TLT:191003:135:</td><td class='  ar '>-0.72</td><td class='  ar '>0.52</td><td class='  al '>TLT</td><td class='  al '>191003</td><td class='  al '>P</td><td class='  ar '>135.50</td><td class='  al '>135</td><td class='  al '>5</td></tr><tr><td class='lc  ar '>3</td><td class='  al '>AAPL:191018:260</td><td class='  ar '>0.45</td><td class='  ar '>-0.14</td><td class='  al '>AAPL</td><td class='  al '>191018</td><td class='  al '>C</td><td class='  ar '>260.00</td><td class='  al '>260</td><td class='  al '>0</td></tr><tr><td class='lc  ar '>4</td><td class='  al '>AAPL:191018:265</td><td class='  ar '>-0.81</td><td class='  ar '>0.68</td><td class='  al '>AAPL</td><td class='  al '>191018</td><td class='  al '>P</td><td class='  ar '>265.00</td><td class='  al '>265</td><td class='  al '>0</td></tr></tbody></table></body></html>\n",
       "\n",
       "[5 rows x 9 columns] total bytes: 290.0 B"
      ],
      "text/plain": []
     },
     "execution_count": 69,
     "metadata": {},
     "output_type": "execute_result"
    }
   ],
   "source": [
    "ds5[['Symbol', 'Expiration', 'StrikeDollar', 'StrikePenny', \n",
    "     'PutCall']] = ds5.OSISymbol.str.extract('(.*):(.*):(.*):(.*):(.*)', \n",
    "     names=['Symbol', 'Expiration', 'StrikeDollar', 'StrikePenny', 'PutCall'])\n",
    "\n",
    "ds5"
   ]
  },
  {
   "cell_type": "markdown",
   "id": "acf90cdf",
   "metadata": {},
   "source": [
    "It's not ideal to have the strike dollar and strike penny amounts in separate columns, so we'll add a fix."
   ]
  },
  {
   "cell_type": "code",
   "execution_count": 64,
   "id": "5ff5ff3e",
   "metadata": {},
   "outputs": [
    {
     "data": {
      "text/html": [
       "<html><head><style>table.tbl-9058 tbody td{white-space: nowrap;}table.tbl-9058 .lc{font-weight:bold;background-color: var( --jp-rendermime-table-row-hover-background);}table.tbl-9058 .lg{background-color: #66da9940;}table.tbl-9058 .lp{font-weight:bold;background-color: #ac66da40;}table.tbl-9058 .msc{font-weight:normal;background-color:#00000011;}table.tbl-9058 .al{text-align:left;}table.tbl-9058 .ar{text-align:right;}table.tbl-9058 .ac{text-align:center;}table.tbl-9058 .bld{font-weight:bold;}table.tbl-9058 .it{font-style:italic;}table.tbl-9058 .ul{text-decoration:underline;}table.tbl-9058 .st{text-decoration:line-through;}</style></head><body><table class='tbl-9058'><thead><tr><td class='lc bld ar'>#</td><td class='lc bld al'>OSISymbol      </td><td class='lc bld ar'>Delta</td><td class='lc bld ar'>  PnL</td><td class='lc bld al'>Symbol</td><td class='lc bld al'>Expiration</td><td class='lc bld al'>PutCall</td><td class='lc bld ar'>Strike</td></tr></thead><tbody><tr><td class='lc  ar '>0</td><td class='  al '>SPY:191003:187:</td><td class='  ar '>0.93</td><td class='  ar '>1.03</td><td class='  al '>SPY</td><td class='  al '>191003</td><td class='  al '>C</td><td class='  ar '>187.00</td></tr><tr><td class='lc  ar '>1</td><td class='  al '>SPY:191003:193:</td><td class='  ar '>0.71</td><td class='  ar '>0.61</td><td class='  al '>SPY</td><td class='  al '>191003</td><td class='  al '>C</td><td class='  ar '>193.00</td></tr><tr><td class='lc  ar '>2</td><td class='  al '>TLT:191003:135:</td><td class='  ar '>-0.72</td><td class='  ar '>0.52</td><td class='  al '>TLT</td><td class='  al '>191003</td><td class='  al '>P</td><td class='  ar '>135.50</td></tr><tr><td class='lc  ar '>3</td><td class='  al '>AAPL:191018:260</td><td class='  ar '>0.45</td><td class='  ar '>-0.14</td><td class='  al '>AAPL</td><td class='  al '>191018</td><td class='  al '>C</td><td class='  ar '>260.00</td></tr><tr><td class='lc  ar '>4</td><td class='  al '>AAPL:191018:265</td><td class='  ar '>-0.81</td><td class='  ar '>0.68</td><td class='  al '>AAPL</td><td class='  al '>191018</td><td class='  al '>P</td><td class='  ar '>265.00</td></tr></tbody></table></body></html>\n",
       "\n",
       "[5 rows x 7 columns] total bytes: 270.0 B"
      ],
      "text/plain": []
     },
     "execution_count": 64,
     "metadata": {},
     "output_type": "execute_result"
    }
   ],
   "source": [
    "ds5.Strike = (ds5.StrikeDollar + '.' + ds5.StrikePenny).astype('float')\n",
    "\n",
    "del ds5.StrikeDollar\n",
    "del ds5.StrikePenny\n",
    "\n",
    "ds5"
   ]
  },
  {
   "cell_type": "markdown",
   "id": "e65652c7",
   "metadata": {},
   "source": [
    "A note about strings in FastArrays: When you view a FastArray of strings, you'll see a 'b' next to each string."
   ]
  },
  {
   "cell_type": "code",
   "execution_count": 65,
   "id": "381f95cf",
   "metadata": {},
   "outputs": [
    {
     "data": {
      "text/plain": [
       "FastArray([b'SPY', b'SPY', b'TLT', b'AAPL', b'AAPL'], dtype='|S4')"
      ]
     },
     "execution_count": 65,
     "metadata": {},
     "output_type": "execute_result"
    }
   ],
   "source": [
    "ds5.Symbol"
   ]
  },
  {
   "cell_type": "markdown",
   "id": "526692c6-7fab-47fc-b460-4ce23dd39f15",
   "metadata": {
    "jp-MarkdownHeadingCollapsed": true,
    "tags": []
   },
   "source": [
    "These `b`s indicate that the strings are encoded to byte strings, which saves memory compared to saving strings as ASCII. \n",
    "\n",
    "Riptable has a few other methods for operating on strings. We cover more of them in the next section, [Get and Operate on Subsets of Data Using Filters](tutorial_filters.ipynb). "
   ]
  },
  {
   "cell_type": "markdown",
   "id": "84f34ed0-c368-4920-a064-e4c58d7dbd53",
   "metadata": {},
   "source": [
    "<br>\n",
    "<br>\n",
    "\n",
    "---\n",
    "\n",
    "Questions or comments about this guide? Email RiptableDocumentation@sig.com."
   ]
  }
 ],
 "metadata": {
  "kernelspec": {
   "display_name": "Python 3 (ipykernel)",
   "language": "python",
   "name": "python3"
  },
  "language_info": {
   "codemirror_mode": {
    "name": "ipython",
    "version": 3
   },
   "file_extension": ".py",
   "mimetype": "text/x-python",
   "name": "python",
   "nbconvert_exporter": "python",
   "pygments_lexer": "ipython3",
   "version": "3.9.13"
  }
 },
 "nbformat": 4,
 "nbformat_minor": 5
}
