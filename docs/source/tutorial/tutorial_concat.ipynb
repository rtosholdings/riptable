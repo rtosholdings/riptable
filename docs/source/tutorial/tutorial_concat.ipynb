{
 "cells": [
  {
   "cell_type": "markdown",
   "id": "07f5365d-292e-4d58-94c0-cb1aafef2a83",
   "metadata": {},
   "source": [
    "# Concatenate Datasets"
   ]
  },
  {
   "cell_type": "code",
   "execution_count": 1,
   "id": "21c5ab5f-084f-4c9a-8677-ac886492831d",
   "metadata": {
    "jp-MarkdownHeadingCollapsed": true,
    "tags": []
   },
   "outputs": [
    {
     "name": "stdout",
     "output_type": "stream",
     "text": [
      "To download this notebook, right click on the link and Save link as...\n"
     ]
    },
    {
     "data": {
      "text/html": [
       "<a href='tutorial_concat.ipynb' target='_blank'>tutorial_concat.ipynb</a><br>"
      ],
      "text/plain": [
       "X:\\btcache\\scratch\\johnsonc\\jupyter\\Tutorial\\Tutorial_GitLab\\tutorial_concat.ipynb"
      ]
     },
     "execution_count": 1,
     "metadata": {},
     "output_type": "execute_result"
    }
   ],
   "source": [
    "# Generate notebook download link\n",
    "from IPython.display import FileLink\n",
    "print('To download this notebook, right click on the link and Save link as...')\n",
    "FileLink('tutorial_concat.ipynb')"
   ]
  },
  {
   "cell_type": "code",
   "execution_count": 36,
   "id": "e49ebe1b-0c0f-4219-aa37-edf6ef58ffb9",
   "metadata": {},
   "outputs": [],
   "source": [
    "import riptable as rt\n",
    "import numpy as np"
   ]
  },
  {
   "cell_type": "code",
   "execution_count": 37,
   "id": "ce4b4fc4-8b24-4590-9f34-438496d5a521",
   "metadata": {},
   "outputs": [],
   "source": [
    "# Display all Dataset columns -- the default max is 9.\n",
    "rt.Display.options.COL_ALL = True\n",
    "\n",
    "# Render up to 100MM before showing in scientific notation.\n",
    "rt.Display.options.E_MAX = 100_000_000\n",
    "\n",
    "# Truncate small decimals, rather than showing infinitesimal scientific notation.\n",
    "rt.Display.options.P_THRESHOLD = 0\n",
    "\n",
    "# Put commas in numbers.\n",
    "rt.Display.options.NUMBER_SEPARATOR = True\n",
    "\n",
    "# Turn on Riptable autocomplete (start typing, then press Tab to see options).\n",
    "rt.autocomplete()"
   ]
  },
  {
   "cell_type": "markdown",
   "id": "7f3a46c8",
   "metadata": {},
   "source": [
    "Concatentating Datasets is straightforward, with two Dataset methods: You can concatenate rows (vertically) with `concat_rows()` or columns (horizontally) with `concat_columns()`. \n",
    "\n",
    "However, it's good to be aware of what happens when you concatenate two Datasets that have different shapes or column names, so we'll look at a few examples."
   ]
  },
  {
   "cell_type": "markdown",
   "id": "369ca8ff-89b8-45e9-ab17-b9d45f6182b4",
   "metadata": {},
   "source": [
    "## Concatenate Rows"
   ]
  },
  {
   "cell_type": "markdown",
   "id": "1e9b2bb1",
   "metadata": {},
   "source": [
    "Concatenating data row-wise is sometimes called vertical stacking. When two Datasets have identical column names, `concat_rows()` simply stacks the data."
   ]
  },
  {
   "cell_type": "code",
   "execution_count": 38,
   "id": "c20265b4-45fc-43e3-b658-dbee2cbe8706",
   "metadata": {},
   "outputs": [],
   "source": [
    "ds1 = rt.Dataset({'A': ['A0', 'A1', 'A2'], 'B': ['B0', 'B1', 'B2']})\n",
    "ds2 = rt.Dataset({'A': ['A3', 'A4', 'A5'], 'B': ['B3', 'B4', 'B5']})"
   ]
  },
  {
   "cell_type": "code",
   "execution_count": 55,
   "id": "e0c1cae2-f290-43ec-b926-f51da92d4c02",
   "metadata": {},
   "outputs": [
    {
     "data": {
      "text/html": [
       "<html><head><style>table.tbl-4565 tbody td{white-space: nowrap;}table.tbl-4565 .lc{font-weight:bold;background-color: var( --jp-rendermime-table-row-hover-background);}table.tbl-4565 .lg{background-color: #66da9940;}table.tbl-4565 .lp{font-weight:bold;background-color: #ac66da40;}table.tbl-4565 .msc{font-weight:normal;background-color:#00000011;}table.tbl-4565 .al{text-align:left;}table.tbl-4565 .ar{text-align:right;}table.tbl-4565 .ac{text-align:center;}table.tbl-4565 .bld{font-weight:bold;}table.tbl-4565 .it{font-style:italic;}table.tbl-4565 .ul{text-decoration:underline;}table.tbl-4565 .st{text-decoration:line-through;}</style></head><body><table class='tbl-4565'><thead><tr><td class='lc bld ar'>#</td><td class='lc bld al'>A </td><td class='lc bld al'>B </td></tr></thead><tbody><tr><td class='lc  ar '>0</td><td class='  al '>A0</td><td class='  al '>B0</td></tr><tr><td class='lc  ar '>1</td><td class='  al '>A1</td><td class='  al '>B1</td></tr><tr><td class='lc  ar '>2</td><td class='  al '>A2</td><td class='  al '>B2</td></tr></tbody></table></body></html>\n",
       "\n",
       "[3 rows x 2 columns] total bytes: 12.0 B"
      ],
      "text/plain": []
     },
     "execution_count": 55,
     "metadata": {},
     "output_type": "execute_result"
    }
   ],
   "source": [
    "ds1"
   ]
  },
  {
   "cell_type": "code",
   "execution_count": 56,
   "id": "99913962-e224-4e10-a610-43fa7c233186",
   "metadata": {},
   "outputs": [
    {
     "data": {
      "text/html": [
       "<html><head><style>table.tbl-8338 tbody td{white-space: nowrap;}table.tbl-8338 .lc{font-weight:bold;background-color: var( --jp-rendermime-table-row-hover-background);}table.tbl-8338 .lg{background-color: #66da9940;}table.tbl-8338 .lp{font-weight:bold;background-color: #ac66da40;}table.tbl-8338 .msc{font-weight:normal;background-color:#00000011;}table.tbl-8338 .al{text-align:left;}table.tbl-8338 .ar{text-align:right;}table.tbl-8338 .ac{text-align:center;}table.tbl-8338 .bld{font-weight:bold;}table.tbl-8338 .it{font-style:italic;}table.tbl-8338 .ul{text-decoration:underline;}table.tbl-8338 .st{text-decoration:line-through;}</style></head><body><table class='tbl-8338'><thead><tr><td class='lc bld ar'>#</td><td class='lc bld al'>A </td><td class='lc bld al'>B </td></tr></thead><tbody><tr><td class='lc  ar '>0</td><td class='  al '>A3</td><td class='  al '>B3</td></tr><tr><td class='lc  ar '>1</td><td class='  al '>A4</td><td class='  al '>B4</td></tr><tr><td class='lc  ar '>2</td><td class='  al '>A5</td><td class='  al '>B5</td></tr></tbody></table></body></html>\n",
       "\n",
       "[3 rows x 2 columns] total bytes: 12.0 B"
      ],
      "text/plain": []
     },
     "execution_count": 56,
     "metadata": {},
     "output_type": "execute_result"
    }
   ],
   "source": [
    "ds2"
   ]
  },
  {
   "cell_type": "code",
   "execution_count": 57,
   "id": "78b3af96-68c4-46ae-8017-9810c9c1fc12",
   "metadata": {},
   "outputs": [
    {
     "data": {
      "text/html": [
       "<html><head><style>table.tbl-6288 tbody td{white-space: nowrap;}table.tbl-6288 .lc{font-weight:bold;background-color: var( --jp-rendermime-table-row-hover-background);}table.tbl-6288 .lg{background-color: #66da9940;}table.tbl-6288 .lp{font-weight:bold;background-color: #ac66da40;}table.tbl-6288 .msc{font-weight:normal;background-color:#00000011;}table.tbl-6288 .al{text-align:left;}table.tbl-6288 .ar{text-align:right;}table.tbl-6288 .ac{text-align:center;}table.tbl-6288 .bld{font-weight:bold;}table.tbl-6288 .it{font-style:italic;}table.tbl-6288 .ul{text-decoration:underline;}table.tbl-6288 .st{text-decoration:line-through;}</style></head><body><table class='tbl-6288'><thead><tr><td class='lc bld ar'>#</td><td class='lc bld al'>A </td><td class='lc bld al'>B </td></tr></thead><tbody><tr><td class='lc  ar '>0</td><td class='  al '>A0</td><td class='  al '>B0</td></tr><tr><td class='lc  ar '>1</td><td class='  al '>A1</td><td class='  al '>B1</td></tr><tr><td class='lc  ar '>2</td><td class='  al '>A2</td><td class='  al '>B2</td></tr><tr><td class='lc  ar '>3</td><td class='  al '>A3</td><td class='  al '>B3</td></tr><tr><td class='lc  ar '>4</td><td class='  al '>A4</td><td class='  al '>B4</td></tr><tr><td class='lc  ar '>5</td><td class='  al '>A5</td><td class='  al '>B5</td></tr></tbody></table></body></html>\n",
       "\n",
       "[6 rows x 2 columns] total bytes: 24.0 B"
      ],
      "text/plain": []
     },
     "execution_count": 57,
     "metadata": {},
     "output_type": "execute_result"
    }
   ],
   "source": [
    "rt.Dataset.concat_rows([ds1, ds2])"
   ]
  },
  {
   "cell_type": "markdown",
   "id": "db17835b",
   "metadata": {},
   "source": [
    "When the two Datasets have only some column names in common, the result has a gap in the data."
   ]
  },
  {
   "cell_type": "code",
   "execution_count": 61,
   "id": "85646ac5-39f5-4cd0-9f39-0412c5997506",
   "metadata": {},
   "outputs": [],
   "source": [
    "# Create two Datasets with two out of three columns in common.\n",
    "ds3 = rt.Dataset({'A': ['A0', 'A1', 'A2'], 'B': ['B0', 'B1', 'B2']})\n",
    "ds4 = rt.Dataset({'A': ['A3', 'A4', 'A5'], 'B': ['B3', 'B4', 'B5'], 'C': ['C3', 'C4', 'C5'] })"
   ]
  },
  {
   "cell_type": "code",
   "execution_count": 62,
   "id": "8d8be5e3-5825-4c6f-ae62-bedd63a2ecc4",
   "metadata": {},
   "outputs": [
    {
     "data": {
      "text/html": [
       "<html><head><style>table.tbl-9389 tbody td{white-space: nowrap;}table.tbl-9389 .lc{font-weight:bold;background-color: var( --jp-rendermime-table-row-hover-background);}table.tbl-9389 .lg{background-color: #66da9940;}table.tbl-9389 .lp{font-weight:bold;background-color: #ac66da40;}table.tbl-9389 .msc{font-weight:normal;background-color:#00000011;}table.tbl-9389 .al{text-align:left;}table.tbl-9389 .ar{text-align:right;}table.tbl-9389 .ac{text-align:center;}table.tbl-9389 .bld{font-weight:bold;}table.tbl-9389 .it{font-style:italic;}table.tbl-9389 .ul{text-decoration:underline;}table.tbl-9389 .st{text-decoration:line-through;}</style></head><body><table class='tbl-9389'><thead><tr><td class='lc bld ar'>#</td><td class='lc bld al'>A </td><td class='lc bld al'>B </td></tr></thead><tbody><tr><td class='lc  ar '>0</td><td class='  al '>A0</td><td class='  al '>B0</td></tr><tr><td class='lc  ar '>1</td><td class='  al '>A1</td><td class='  al '>B1</td></tr><tr><td class='lc  ar '>2</td><td class='  al '>A2</td><td class='  al '>B2</td></tr></tbody></table></body></html>\n",
       "\n",
       "[3 rows x 2 columns] total bytes: 12.0 B"
      ],
      "text/plain": []
     },
     "execution_count": 62,
     "metadata": {},
     "output_type": "execute_result"
    }
   ],
   "source": [
    "ds3"
   ]
  },
  {
   "cell_type": "code",
   "execution_count": 63,
   "id": "e45ce424",
   "metadata": {},
   "outputs": [
    {
     "data": {
      "text/html": [
       "<html><head><style>table.tbl-456 tbody td{white-space: nowrap;}table.tbl-456 .lc{font-weight:bold;background-color: var( --jp-rendermime-table-row-hover-background);}table.tbl-456 .lg{background-color: #66da9940;}table.tbl-456 .lp{font-weight:bold;background-color: #ac66da40;}table.tbl-456 .msc{font-weight:normal;background-color:#00000011;}table.tbl-456 .al{text-align:left;}table.tbl-456 .ar{text-align:right;}table.tbl-456 .ac{text-align:center;}table.tbl-456 .bld{font-weight:bold;}table.tbl-456 .it{font-style:italic;}table.tbl-456 .ul{text-decoration:underline;}table.tbl-456 .st{text-decoration:line-through;}</style></head><body><table class='tbl-456'><thead><tr><td class='lc bld ar'>#</td><td class='lc bld al'>A </td><td class='lc bld al'>B </td><td class='lc bld al'>C </td></tr></thead><tbody><tr><td class='lc  ar '>0</td><td class='  al '>A3</td><td class='  al '>B3</td><td class='  al '>C3</td></tr><tr><td class='lc  ar '>1</td><td class='  al '>A4</td><td class='  al '>B4</td><td class='  al '>C4</td></tr><tr><td class='lc  ar '>2</td><td class='  al '>A5</td><td class='  al '>B5</td><td class='  al '>C5</td></tr></tbody></table></body></html>\n",
       "\n",
       "[3 rows x 3 columns] total bytes: 18.0 B"
      ],
      "text/plain": []
     },
     "execution_count": 63,
     "metadata": {},
     "output_type": "execute_result"
    }
   ],
   "source": [
    "ds4"
   ]
  },
  {
   "cell_type": "code",
   "execution_count": 41,
   "id": "9f12f56d",
   "metadata": {},
   "outputs": [
    {
     "data": {
      "text/html": [
       "<html><head><style>table.tbl-2232 tbody td{white-space: nowrap;}table.tbl-2232 .lc{font-weight:bold;background-color: var( --jp-rendermime-table-row-hover-background);}table.tbl-2232 .lg{background-color: #66da9940;}table.tbl-2232 .lp{font-weight:bold;background-color: #ac66da40;}table.tbl-2232 .msc{font-weight:normal;background-color:#00000011;}table.tbl-2232 .al{text-align:left;}table.tbl-2232 .ar{text-align:right;}table.tbl-2232 .ac{text-align:center;}table.tbl-2232 .bld{font-weight:bold;}table.tbl-2232 .it{font-style:italic;}table.tbl-2232 .ul{text-decoration:underline;}table.tbl-2232 .st{text-decoration:line-through;}</style></head><body><table class='tbl-2232'><thead><tr><td class='lc bld ar'>#</td><td class='lc bld al'>A </td><td class='lc bld al'>B </td><td class='lc bld al'>C </td></tr></thead><tbody><tr><td class='lc  ar '>0</td><td class='  al '>A0</td><td class='  al '>B0</td><td class='  al '></td></tr><tr><td class='lc  ar '>1</td><td class='  al '>A1</td><td class='  al '>B1</td><td class='  al '></td></tr><tr><td class='lc  ar '>2</td><td class='  al '>A2</td><td class='  al '>B2</td><td class='  al '></td></tr><tr><td class='lc  ar '>3</td><td class='  al '>A3</td><td class='  al '>B3</td><td class='  al '>C3</td></tr><tr><td class='lc  ar '>4</td><td class='  al '>A4</td><td class='  al '>B4</td><td class='  al '>C4</td></tr><tr><td class='lc  ar '>5</td><td class='  al '>A5</td><td class='  al '>B5</td><td class='  al '>C5</td></tr></tbody></table></body></html>\n",
       "\n",
       "[6 rows x 3 columns] total bytes: 36.0 B"
      ],
      "text/plain": []
     },
     "execution_count": 41,
     "metadata": {},
     "output_type": "execute_result"
    }
   ],
   "source": [
    "rt.Dataset.concat_rows([ds3, ds4])"
   ]
  },
  {
   "cell_type": "markdown",
   "id": "35a63020",
   "metadata": {},
   "source": [
    "As you can see, Riptable's missing string value is ''. If the values were floats, the empty spots would be filled with `nan`s."
   ]
  },
  {
   "cell_type": "code",
   "execution_count": 67,
   "id": "23dca7fb-4af8-436f-ad72-1ef71c7c0fec",
   "metadata": {},
   "outputs": [],
   "source": [
    "rng = np.random.default_rng(seed=42)\n",
    "\n",
    "ds5 = rt.Dataset({'col_'+str(i):rng.random(2) for i in range(2)}) \n",
    "ds6 = rt.Dataset({'col_'+str(i):rng.random(2) for i in range(3)})"
   ]
  },
  {
   "cell_type": "code",
   "execution_count": 68,
   "id": "1f26edf7-3dc8-46f3-8f9c-d50d5a8584c7",
   "metadata": {},
   "outputs": [
    {
     "data": {
      "text/html": [
       "<html><head><style>table.tbl-5161 tbody td{white-space: nowrap;}table.tbl-5161 .lc{font-weight:bold;background-color: var( --jp-rendermime-table-row-hover-background);}table.tbl-5161 .lg{background-color: #66da9940;}table.tbl-5161 .lp{font-weight:bold;background-color: #ac66da40;}table.tbl-5161 .msc{font-weight:normal;background-color:#00000011;}table.tbl-5161 .al{text-align:left;}table.tbl-5161 .ar{text-align:right;}table.tbl-5161 .ac{text-align:center;}table.tbl-5161 .bld{font-weight:bold;}table.tbl-5161 .it{font-style:italic;}table.tbl-5161 .ul{text-decoration:underline;}table.tbl-5161 .st{text-decoration:line-through;}</style></head><body><table class='tbl-5161'><thead><tr><td class='lc bld ar'>#</td><td class='lc bld ar'>col_0</td><td class='lc bld ar'>col_1</td></tr></thead><tbody><tr><td class='lc  ar '>0</td><td class='  ar '>0.77</td><td class='  ar '>0.86</td></tr><tr><td class='lc  ar '>1</td><td class='  ar '>0.44</td><td class='  ar '>0.70</td></tr></tbody></table></body></html>\n",
       "\n",
       "[2 rows x 2 columns] total bytes: 32.0 B"
      ],
      "text/plain": []
     },
     "execution_count": 68,
     "metadata": {},
     "output_type": "execute_result"
    }
   ],
   "source": [
    "ds5"
   ]
  },
  {
   "cell_type": "code",
   "execution_count": 69,
   "id": "3635f6a2",
   "metadata": {},
   "outputs": [
    {
     "data": {
      "text/html": [
       "<html><head><style>table.tbl-3735 tbody td{white-space: nowrap;}table.tbl-3735 .lc{font-weight:bold;background-color: var( --jp-rendermime-table-row-hover-background);}table.tbl-3735 .lg{background-color: #66da9940;}table.tbl-3735 .lp{font-weight:bold;background-color: #ac66da40;}table.tbl-3735 .msc{font-weight:normal;background-color:#00000011;}table.tbl-3735 .al{text-align:left;}table.tbl-3735 .ar{text-align:right;}table.tbl-3735 .ac{text-align:center;}table.tbl-3735 .bld{font-weight:bold;}table.tbl-3735 .it{font-style:italic;}table.tbl-3735 .ul{text-decoration:underline;}table.tbl-3735 .st{text-decoration:line-through;}</style></head><body><table class='tbl-3735'><thead><tr><td class='lc bld ar'>#</td><td class='lc bld ar'>col_0</td><td class='lc bld ar'>col_1</td><td class='lc bld ar'>col_2</td></tr></thead><tbody><tr><td class='lc  ar '>0</td><td class='  ar '>0.09</td><td class='  ar '>0.76</td><td class='  ar '>0.13</td></tr><tr><td class='lc  ar '>1</td><td class='  ar '>0.98</td><td class='  ar '>0.79</td><td class='  ar '>0.45</td></tr></tbody></table></body></html>\n",
       "\n",
       "[2 rows x 3 columns] total bytes: 48.0 B"
      ],
      "text/plain": []
     },
     "execution_count": 69,
     "metadata": {},
     "output_type": "execute_result"
    }
   ],
   "source": [
    "ds6"
   ]
  },
  {
   "cell_type": "code",
   "execution_count": 70,
   "id": "3de3e5c1",
   "metadata": {},
   "outputs": [
    {
     "data": {
      "text/html": [
       "<html><head><style>table.tbl-8953 tbody td{white-space: nowrap;}table.tbl-8953 .lc{font-weight:bold;background-color: var( --jp-rendermime-table-row-hover-background);}table.tbl-8953 .lg{background-color: #66da9940;}table.tbl-8953 .lp{font-weight:bold;background-color: #ac66da40;}table.tbl-8953 .msc{font-weight:normal;background-color:#00000011;}table.tbl-8953 .al{text-align:left;}table.tbl-8953 .ar{text-align:right;}table.tbl-8953 .ac{text-align:center;}table.tbl-8953 .bld{font-weight:bold;}table.tbl-8953 .it{font-style:italic;}table.tbl-8953 .ul{text-decoration:underline;}table.tbl-8953 .st{text-decoration:line-through;}</style></head><body><table class='tbl-8953'><thead><tr><td class='lc bld ar'>#</td><td class='lc bld ar'>col_0</td><td class='lc bld ar'>col_1</td><td class='lc bld ar'>col_2</td></tr></thead><tbody><tr><td class='lc  ar '>0</td><td class='  ar '>0.77</td><td class='  ar '>0.86</td><td class='  ar '>nan</td></tr><tr><td class='lc  ar '>1</td><td class='  ar '>0.44</td><td class='  ar '>0.70</td><td class='  ar '>nan</td></tr><tr><td class='lc  ar '>2</td><td class='  ar '>0.09</td><td class='  ar '>0.76</td><td class='  ar '>0.13</td></tr><tr><td class='lc  ar '>3</td><td class='  ar '>0.98</td><td class='  ar '>0.79</td><td class='  ar '>0.45</td></tr></tbody></table></body></html>\n",
       "\n",
       "[4 rows x 3 columns] total bytes: 96.0 B"
      ],
      "text/plain": []
     },
     "execution_count": 70,
     "metadata": {},
     "output_type": "execute_result"
    }
   ],
   "source": [
    "rt.Dataset.concat_rows([ds5, ds6])"
   ]
  },
  {
   "cell_type": "markdown",
   "id": "c48b9d56",
   "metadata": {},
   "source": [
    "See [Working with Missing Data](tutorial_missing_data.ipynb) for more about what to expect when you have missing values in Riptable.\n",
    "\n",
    "You can also concatenate datasets row-wise with Categoricals if the datasets have identical column names."
   ]
  },
  {
   "cell_type": "code",
   "execution_count": 71,
   "id": "f548c9c9-8891-4739-866c-ac8f0905b374",
   "metadata": {},
   "outputs": [],
   "source": [
    "a = rt.Cat(['a', 'a', 'a', 'b', 'b'])\n",
    "b = rt.FA([0, 1, 2, 3, 4])\n",
    "ds10 = rt.Dataset({'Cat': a, 'Val': b})\n",
    "\n",
    "c = rt.Cat(['c', 'c', 'c', 'd', 'd'])\n",
    "d = rt.FA([5, 6, 7, 8, 9])\n",
    "ds11 = rt.Dataset({'Cat': c, 'Val': d})"
   ]
  },
  {
   "cell_type": "code",
   "execution_count": 72,
   "id": "356ed9e8-1b19-44cf-9c5b-33a05bcc0067",
   "metadata": {},
   "outputs": [
    {
     "data": {
      "text/html": [
       "<html><head><style>table.tbl-4552 tbody td{white-space: nowrap;}table.tbl-4552 .lc{font-weight:bold;background-color: var( --jp-rendermime-table-row-hover-background);}table.tbl-4552 .lg{background-color: #66da9940;}table.tbl-4552 .lp{font-weight:bold;background-color: #ac66da40;}table.tbl-4552 .msc{font-weight:normal;background-color:#00000011;}table.tbl-4552 .al{text-align:left;}table.tbl-4552 .ar{text-align:right;}table.tbl-4552 .ac{text-align:center;}table.tbl-4552 .bld{font-weight:bold;}table.tbl-4552 .it{font-style:italic;}table.tbl-4552 .ul{text-decoration:underline;}table.tbl-4552 .st{text-decoration:line-through;}</style></head><body><table class='tbl-4552'><thead><tr><td class='lc bld ar'>#</td><td class='lc bld al'>Cat</td><td class='lc bld ar'>Val</td></tr></thead><tbody><tr><td class='lc  ar '>0</td><td class='  al '>a</td><td class='  ar '>0</td></tr><tr><td class='lc  ar '>1</td><td class='  al '>a</td><td class='  ar '>1</td></tr><tr><td class='lc  ar '>2</td><td class='  al '>a</td><td class='  ar '>2</td></tr><tr><td class='lc  ar '>3</td><td class='  al '>b</td><td class='  ar '>3</td></tr><tr><td class='lc  ar '>4</td><td class='  al '>b</td><td class='  ar '>4</td></tr></tbody></table></body></html>\n",
       "\n",
       "[5 rows x 2 columns] total bytes: 27.0 B"
      ],
      "text/plain": []
     },
     "execution_count": 72,
     "metadata": {},
     "output_type": "execute_result"
    }
   ],
   "source": [
    "ds10"
   ]
  },
  {
   "cell_type": "code",
   "execution_count": 73,
   "id": "5862491b-c4b7-4d02-8de2-7ee9dc98f34d",
   "metadata": {},
   "outputs": [
    {
     "data": {
      "text/html": [
       "<html><head><style>table.tbl-4462 tbody td{white-space: nowrap;}table.tbl-4462 .lc{font-weight:bold;background-color: var( --jp-rendermime-table-row-hover-background);}table.tbl-4462 .lg{background-color: #66da9940;}table.tbl-4462 .lp{font-weight:bold;background-color: #ac66da40;}table.tbl-4462 .msc{font-weight:normal;background-color:#00000011;}table.tbl-4462 .al{text-align:left;}table.tbl-4462 .ar{text-align:right;}table.tbl-4462 .ac{text-align:center;}table.tbl-4462 .bld{font-weight:bold;}table.tbl-4462 .it{font-style:italic;}table.tbl-4462 .ul{text-decoration:underline;}table.tbl-4462 .st{text-decoration:line-through;}</style></head><body><table class='tbl-4462'><thead><tr><td class='lc bld ar'>#</td><td class='lc bld al'>Cat</td><td class='lc bld ar'>Val</td></tr></thead><tbody><tr><td class='lc  ar '>0</td><td class='  al '>c</td><td class='  ar '>5</td></tr><tr><td class='lc  ar '>1</td><td class='  al '>c</td><td class='  ar '>6</td></tr><tr><td class='lc  ar '>2</td><td class='  al '>c</td><td class='  ar '>7</td></tr><tr><td class='lc  ar '>3</td><td class='  al '>d</td><td class='  ar '>8</td></tr><tr><td class='lc  ar '>4</td><td class='  al '>d</td><td class='  ar '>9</td></tr></tbody></table></body></html>\n",
       "\n",
       "[5 rows x 2 columns] total bytes: 27.0 B"
      ],
      "text/plain": []
     },
     "execution_count": 73,
     "metadata": {},
     "output_type": "execute_result"
    }
   ],
   "source": [
    "ds11"
   ]
  },
  {
   "cell_type": "code",
   "execution_count": 74,
   "id": "5874f64e-2948-4d1a-b145-5ae83057b75e",
   "metadata": {},
   "outputs": [
    {
     "data": {
      "text/html": [
       "<html><head><style>table.tbl-4016 tbody td{white-space: nowrap;}table.tbl-4016 .lc{font-weight:bold;background-color: var( --jp-rendermime-table-row-hover-background);}table.tbl-4016 .lg{background-color: #66da9940;}table.tbl-4016 .lp{font-weight:bold;background-color: #ac66da40;}table.tbl-4016 .msc{font-weight:normal;background-color:#00000011;}table.tbl-4016 .al{text-align:left;}table.tbl-4016 .ar{text-align:right;}table.tbl-4016 .ac{text-align:center;}table.tbl-4016 .bld{font-weight:bold;}table.tbl-4016 .it{font-style:italic;}table.tbl-4016 .ul{text-decoration:underline;}table.tbl-4016 .st{text-decoration:line-through;}</style></head><body><table class='tbl-4016'><thead><tr><td class='lc bld ar'>#</td><td class='lc bld al'>Cat</td><td class='lc bld ar'>Val</td></tr></thead><tbody><tr><td class='lc  ar '>0</td><td class='  al '>a</td><td class='  ar '>0</td></tr><tr><td class='lc  ar '>1</td><td class='  al '>a</td><td class='  ar '>1</td></tr><tr><td class='lc  ar '>2</td><td class='  al '>a</td><td class='  ar '>2</td></tr><tr><td class='lc  ar '>3</td><td class='  al '>b</td><td class='  ar '>3</td></tr><tr><td class='lc  ar '>4</td><td class='  al '>b</td><td class='  ar '>4</td></tr><tr><td class='lc  ar '>5</td><td class='  al '>c</td><td class='  ar '>5</td></tr><tr><td class='lc  ar '>6</td><td class='  al '>c</td><td class='  ar '>6</td></tr><tr><td class='lc  ar '>7</td><td class='  al '>c</td><td class='  ar '>7</td></tr><tr><td class='lc  ar '>8</td><td class='  al '>d</td><td class='  ar '>8</td></tr><tr><td class='lc  ar '>9</td><td class='  al '>d</td><td class='  ar '>9</td></tr></tbody></table></body></html>\n",
       "\n",
       "[10 rows x 2 columns] total bytes: 54.0 B"
      ],
      "text/plain": []
     },
     "execution_count": 74,
     "metadata": {},
     "output_type": "execute_result"
    }
   ],
   "source": [
    "rt.Dataset.concat_rows([ds10, ds11])"
   ]
  },
  {
   "cell_type": "markdown",
   "id": "ce9450e4-832c-4989-840f-66405cfbc2db",
   "metadata": {},
   "source": [
    "## Concatenate Columns"
   ]
  },
  {
   "cell_type": "markdown",
   "id": "a27ae4d3",
   "metadata": {},
   "source": [
    "Concatenating data column-wise is also called horizontal stacking. It's most straightforward when you're concatenating two Datasets that have no column names in common."
   ]
  },
  {
   "cell_type": "code",
   "execution_count": 75,
   "id": "358d3102-6b27-443d-9563-2e0244993d2e",
   "metadata": {},
   "outputs": [],
   "source": [
    "ds7 = rt.Dataset({'A': ['A0', 'A1', 'A2'], 'B': ['B0', 'B1', 'B2']})\n",
    "ds8 = rt.Dataset({'C': ['C0', 'C1', 'C2'], 'D': ['D0', 'D1', 'D2']})"
   ]
  },
  {
   "cell_type": "code",
   "execution_count": 76,
   "id": "56963f5a-97bf-463d-b644-8053d5319716",
   "metadata": {},
   "outputs": [
    {
     "data": {
      "text/html": [
       "<html><head><style>table.tbl-954 tbody td{white-space: nowrap;}table.tbl-954 .lc{font-weight:bold;background-color: var( --jp-rendermime-table-row-hover-background);}table.tbl-954 .lg{background-color: #66da9940;}table.tbl-954 .lp{font-weight:bold;background-color: #ac66da40;}table.tbl-954 .msc{font-weight:normal;background-color:#00000011;}table.tbl-954 .al{text-align:left;}table.tbl-954 .ar{text-align:right;}table.tbl-954 .ac{text-align:center;}table.tbl-954 .bld{font-weight:bold;}table.tbl-954 .it{font-style:italic;}table.tbl-954 .ul{text-decoration:underline;}table.tbl-954 .st{text-decoration:line-through;}</style></head><body><table class='tbl-954'><thead><tr><td class='lc bld ar'>#</td><td class='lc bld al'>A </td><td class='lc bld al'>B </td></tr></thead><tbody><tr><td class='lc  ar '>0</td><td class='  al '>A0</td><td class='  al '>B0</td></tr><tr><td class='lc  ar '>1</td><td class='  al '>A1</td><td class='  al '>B1</td></tr><tr><td class='lc  ar '>2</td><td class='  al '>A2</td><td class='  al '>B2</td></tr></tbody></table></body></html>\n",
       "\n",
       "[3 rows x 2 columns] total bytes: 12.0 B"
      ],
      "text/plain": []
     },
     "execution_count": 76,
     "metadata": {},
     "output_type": "execute_result"
    }
   ],
   "source": [
    "ds7"
   ]
  },
  {
   "cell_type": "code",
   "execution_count": 77,
   "id": "7414e8e1",
   "metadata": {},
   "outputs": [
    {
     "data": {
      "text/html": [
       "<html><head><style>table.tbl-9406 tbody td{white-space: nowrap;}table.tbl-9406 .lc{font-weight:bold;background-color: var( --jp-rendermime-table-row-hover-background);}table.tbl-9406 .lg{background-color: #66da9940;}table.tbl-9406 .lp{font-weight:bold;background-color: #ac66da40;}table.tbl-9406 .msc{font-weight:normal;background-color:#00000011;}table.tbl-9406 .al{text-align:left;}table.tbl-9406 .ar{text-align:right;}table.tbl-9406 .ac{text-align:center;}table.tbl-9406 .bld{font-weight:bold;}table.tbl-9406 .it{font-style:italic;}table.tbl-9406 .ul{text-decoration:underline;}table.tbl-9406 .st{text-decoration:line-through;}</style></head><body><table class='tbl-9406'><thead><tr><td class='lc bld ar'>#</td><td class='lc bld al'>C </td><td class='lc bld al'>D </td></tr></thead><tbody><tr><td class='lc  ar '>0</td><td class='  al '>C0</td><td class='  al '>D0</td></tr><tr><td class='lc  ar '>1</td><td class='  al '>C1</td><td class='  al '>D1</td></tr><tr><td class='lc  ar '>2</td><td class='  al '>C2</td><td class='  al '>D2</td></tr></tbody></table></body></html>\n",
       "\n",
       "[3 rows x 2 columns] total bytes: 12.0 B"
      ],
      "text/plain": []
     },
     "execution_count": 77,
     "metadata": {},
     "output_type": "execute_result"
    }
   ],
   "source": [
    "ds8"
   ]
  },
  {
   "cell_type": "code",
   "execution_count": 48,
   "id": "a9fd3b92",
   "metadata": {},
   "outputs": [
    {
     "data": {
      "text/html": [
       "<html><head><style>table.tbl-4120 tbody td{white-space: nowrap;}table.tbl-4120 .lc{font-weight:bold;background-color: var( --jp-rendermime-table-row-hover-background);}table.tbl-4120 .lg{background-color: #66da9940;}table.tbl-4120 .lp{font-weight:bold;background-color: #ac66da40;}table.tbl-4120 .msc{font-weight:normal;background-color:#00000011;}table.tbl-4120 .al{text-align:left;}table.tbl-4120 .ar{text-align:right;}table.tbl-4120 .ac{text-align:center;}table.tbl-4120 .bld{font-weight:bold;}table.tbl-4120 .it{font-style:italic;}table.tbl-4120 .ul{text-decoration:underline;}table.tbl-4120 .st{text-decoration:line-through;}</style></head><body><table class='tbl-4120'><thead><tr><td class='lc bld ar'>#</td><td class='lc bld al'>A </td><td class='lc bld al'>B </td><td class='lc bld al'>C </td><td class='lc bld al'>D </td></tr></thead><tbody><tr><td class='lc  ar '>0</td><td class='  al '>A0</td><td class='  al '>B0</td><td class='  al '>C0</td><td class='  al '>D0</td></tr><tr><td class='lc  ar '>1</td><td class='  al '>A1</td><td class='  al '>B1</td><td class='  al '>C1</td><td class='  al '>D1</td></tr><tr><td class='lc  ar '>2</td><td class='  al '>A2</td><td class='  al '>B2</td><td class='  al '>C2</td><td class='  al '>D2</td></tr></tbody></table></body></html>\n",
       "\n",
       "[3 rows x 4 columns] total bytes: 24.0 B"
      ],
      "text/plain": []
     },
     "execution_count": 48,
     "metadata": {},
     "output_type": "execute_result"
    }
   ],
   "source": [
    "ds9 = rt.Dataset.concat_columns([ds7, ds8], do_copy=True)\n",
    "ds9"
   ]
  },
  {
   "cell_type": "markdown",
   "id": "ade9abb4",
   "metadata": {},
   "source": [
    "Note that `do_copy` is a required argument for `concat_columns()`. When `do_copy=True`, changes you make to values in the original Datasets do not change the values in your new, concatenated Dataset, and vice-versa. \n",
    "\n",
    "\n",
    "When your two Datasets have a column name (or names) in common, you need to specify which data you want to keep -- the data from the shared column(s) in first Dataset or the data from the shared column(s) in the second Dataset.\n",
    "\n",
    "We'll give our second Dataset an 'A' column."
   ]
  },
  {
   "cell_type": "code",
   "execution_count": 78,
   "id": "c15dda9a",
   "metadata": {},
   "outputs": [],
   "source": [
    "ds8.A = rt.FA(['A3', 'A4', 'A5'])"
   ]
  },
  {
   "cell_type": "markdown",
   "id": "7d33381d-97d8-4440-b046-9aa1826bcc4e",
   "metadata": {},
   "source": [
    "If you try to concatenate the two Datasets, you get an error."
   ]
  },
  {
   "cell_type": "code",
   "execution_count": 50,
   "id": "f316e551-7c72-453a-8026-05815c4db30e",
   "metadata": {},
   "outputs": [
    {
     "name": "stdout",
     "output_type": "stream",
     "text": [
      "KeyError: \"Duplicate column 'A'\"\n"
     ]
    }
   ],
   "source": [
    "try:\n",
    "    rt.Dataset.concat_columns([ds7, ds8], do_copy=True)\n",
    "except KeyError as e:\n",
    "    print(\"KeyError:\", e)"
   ]
  },
  {
   "cell_type": "markdown",
   "id": "bf86eef1-644f-48a0-b321-5ce9e1f201c1",
   "metadata": {},
   "source": [
    "To keep the column data from the first Dataset, use `on_duplicate='first'`. You'll get a warning about mismatched column names, but the concatenation is performed."
   ]
  },
  {
   "cell_type": "code",
   "execution_count": 79,
   "id": "246921b9-96e7-476e-a645-aaad7b097e44",
   "metadata": {},
   "outputs": [
    {
     "data": {
      "text/html": [
       "<html><head><style>table.tbl-9124 tbody td{white-space: nowrap;}table.tbl-9124 .lc{font-weight:bold;background-color: var( --jp-rendermime-table-row-hover-background);}table.tbl-9124 .lg{background-color: #66da9940;}table.tbl-9124 .lp{font-weight:bold;background-color: #ac66da40;}table.tbl-9124 .msc{font-weight:normal;background-color:#00000011;}table.tbl-9124 .al{text-align:left;}table.tbl-9124 .ar{text-align:right;}table.tbl-9124 .ac{text-align:center;}table.tbl-9124 .bld{font-weight:bold;}table.tbl-9124 .it{font-style:italic;}table.tbl-9124 .ul{text-decoration:underline;}table.tbl-9124 .st{text-decoration:line-through;}</style></head><body><table class='tbl-9124'><thead><tr><td class='lc bld ar'>#</td><td class='lc bld al'>A </td><td class='lc bld al'>B </td><td class='lc bld al'>C </td><td class='lc bld al'>D </td></tr></thead><tbody><tr><td class='lc  ar '>0</td><td class='  al '>A0</td><td class='  al '>B0</td><td class='  al '>C0</td><td class='  al '>D0</td></tr><tr><td class='lc  ar '>1</td><td class='  al '>A1</td><td class='  al '>B1</td><td class='  al '>C1</td><td class='  al '>D1</td></tr><tr><td class='lc  ar '>2</td><td class='  al '>A2</td><td class='  al '>B2</td><td class='  al '>C2</td><td class='  al '>D2</td></tr></tbody></table></body></html>\n",
       "\n",
       "[3 rows x 4 columns] total bytes: 24.0 B"
      ],
      "text/plain": []
     },
     "execution_count": 79,
     "metadata": {},
     "output_type": "execute_result"
    }
   ],
   "source": [
    "rt.Dataset.concat_columns([ds7, ds8], do_copy=True, on_duplicate='first')"
   ]
  },
  {
   "cell_type": "markdown",
   "id": "b6365469",
   "metadata": {},
   "source": [
    "You can turn off this warning by adding `on_mismatch='ignore'`.\n",
    "\n",
    "To keep the column data from the second dataset, use `on_duplicate='last'`."
   ]
  },
  {
   "cell_type": "code",
   "execution_count": 52,
   "id": "3b1c1b30",
   "metadata": {},
   "outputs": [
    {
     "data": {
      "text/html": [
       "<html><head><style>table.tbl-373 tbody td{white-space: nowrap;}table.tbl-373 .lc{font-weight:bold;background-color: var( --jp-rendermime-table-row-hover-background);}table.tbl-373 .lg{background-color: #66da9940;}table.tbl-373 .lp{font-weight:bold;background-color: #ac66da40;}table.tbl-373 .msc{font-weight:normal;background-color:#00000011;}table.tbl-373 .al{text-align:left;}table.tbl-373 .ar{text-align:right;}table.tbl-373 .ac{text-align:center;}table.tbl-373 .bld{font-weight:bold;}table.tbl-373 .it{font-style:italic;}table.tbl-373 .ul{text-decoration:underline;}table.tbl-373 .st{text-decoration:line-through;}</style></head><body><table class='tbl-373'><thead><tr><td class='lc bld ar'>#</td><td class='lc bld al'>A </td><td class='lc bld al'>B </td><td class='lc bld al'>C </td><td class='lc bld al'>D </td></tr></thead><tbody><tr><td class='lc  ar '>0</td><td class='  al '>A3</td><td class='  al '>B0</td><td class='  al '>C0</td><td class='  al '>D0</td></tr><tr><td class='lc  ar '>1</td><td class='  al '>A4</td><td class='  al '>B1</td><td class='  al '>C1</td><td class='  al '>D1</td></tr><tr><td class='lc  ar '>2</td><td class='  al '>A5</td><td class='  al '>B2</td><td class='  al '>C2</td><td class='  al '>D2</td></tr></tbody></table></body></html>\n",
       "\n",
       "[3 rows x 4 columns] total bytes: 24.0 B"
      ],
      "text/plain": []
     },
     "execution_count": 52,
     "metadata": {},
     "output_type": "execute_result"
    }
   ],
   "source": [
    "rt.Dataset.concat_columns([ds7, ds8], on_duplicate='last', do_copy=True)"
   ]
  },
  {
   "cell_type": "markdown",
   "id": "5243edf7",
   "metadata": {},
   "source": [
    "Note: To concatenate Datasets column-wise, the columns must all be the same length -- Riptable does not fill in missing column values the way it does missing row values."
   ]
  },
  {
   "cell_type": "code",
   "execution_count": 53,
   "id": "670abe39",
   "metadata": {},
   "outputs": [
    {
     "name": "stdout",
     "output_type": "stream",
     "text": [
      "ValueError: Inconsistent Dataset lengths {2, 3}\n"
     ]
    }
   ],
   "source": [
    "ds9 = rt.Dataset({'E': ['E0', 'E1']})\n",
    "\n",
    "try:\n",
    "    rt.Dataset.concat_columns([ds8, ds9], do_copy=True)\n",
    "except ValueError as e:\n",
    "    print(\"ValueError:\", e)"
   ]
  },
  {
   "cell_type": "markdown",
   "id": "0e9467af-32e9-453e-9165-d6c8a06ea9e1",
   "metadata": {},
   "source": [
    "Concatenation is sufficient in certain situations, but it helps to have more flexibility to bring data from two Datasets together. Next, we'll cover how to [Merge Datasets](tutorial_merge.ipynb)."
   ]
  },
  {
   "cell_type": "markdown",
   "id": "55750e55-4d14-45b4-a260-d26cb9a048ba",
   "metadata": {},
   "source": [
    "<br>\n",
    "<br>\n",
    "\n",
    "---\n",
    "\n",
    "Questions or comments about this guide? Email RiptableDocumentation@sig.com."
   ]
  }
 ],
 "metadata": {
  "kernelspec": {
   "display_name": "Python 3 (ipykernel)",
   "language": "python",
   "name": "python3"
  },
  "language_info": {
   "codemirror_mode": {
    "name": "ipython",
    "version": 3
   },
   "file_extension": ".py",
   "mimetype": "text/x-python",
   "name": "python",
   "nbconvert_exporter": "python",
   "pygments_lexer": "ipython3",
   "version": "3.9.13"
  }
 },
 "nbformat": 4,
 "nbformat_minor": 5
}
