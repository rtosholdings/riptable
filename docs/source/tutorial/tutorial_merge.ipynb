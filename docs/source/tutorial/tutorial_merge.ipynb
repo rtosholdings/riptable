{
 "cells": [
  {
   "cell_type": "code",
   "execution_count": 2,
   "id": "2b2aef1f-c981-4ba3-8a6b-458046c98ef8",
   "metadata": {
    "jp-MarkdownHeadingCollapsed": true,
    "tags": []
   },
   "outputs": [
    {
     "name": "stdout",
     "output_type": "stream",
     "text": [
      "To download this notebook, right click on the link and Save link as...\n"
     ]
    },
    {
     "data": {
      "text/html": [
       "<a href='tutorial_merge.ipynb' target='_blank'>tutorial_merge.ipynb</a><br>"
      ],
      "text/plain": [
       "X:\\btcache\\scratch\\johnsonc\\jupyter\\Tutorial\\Tutorial_GitLab\\tutorial_merge.ipynb"
      ]
     },
     "execution_count": 2,
     "metadata": {},
     "output_type": "execute_result"
    }
   ],
   "source": [
    "# Generate notebook download link\n",
    "from IPython.display import FileLink\n",
    "print('To download this notebook, right click on the link and Save link as...')\n",
    "FileLink('tutorial_merge.ipynb')"
   ]
  },
  {
   "cell_type": "code",
   "execution_count": 3,
   "id": "924e924b-fc21-4abe-85b5-c109ceeaa1b2",
   "metadata": {},
   "outputs": [],
   "source": [
    "import riptable as rt\n",
    "import numpy as np"
   ]
  },
  {
   "cell_type": "code",
   "execution_count": 4,
   "id": "ec54e6a7-5652-41a5-9652-598e01759a41",
   "metadata": {},
   "outputs": [],
   "source": [
    "# Display all Dataset columns -- the default max is 9.\n",
    "rt.Display.options.COL_ALL = True\n",
    "\n",
    "# Render up to 100MM before showing in scientific notation.\n",
    "rt.Display.options.E_MAX = 100_000_000\n",
    "\n",
    "# Truncate small decimals, rather than showing infinitesimal scientific notation.\n",
    "rt.Display.options.P_THRESHOLD = 0\n",
    "\n",
    "# Put commas in numbers.\n",
    "rt.Display.options.NUMBER_SEPARATOR = True\n",
    "\n",
    "# Turn on Riptable autocomplete (start typing, then press Tab to see options).\n",
    "rt.autocomplete()"
   ]
  },
  {
   "cell_type": "markdown",
   "id": "05c995ec-3c37-4838-ad9f-8e3c7b902c04",
   "metadata": {
    "tags": []
   },
   "source": [
    "# Merge Datasets\n",
    "\n",
    "Merging gives you more flexibility to bring data from different Datasets together. "
   ]
  },
  {
   "cell_type": "markdown",
   "id": "fbf4aaeb-b9ad-4d8b-af5c-287171988c30",
   "metadata": {},
   "source": [
    "A merge operation connects rows in Datasets using a \"key\" column that the Datasets have in common.\n",
    "\n",
    "Riptable's two main Dataset merge functions are `merge_lookup()` and `merge_asof()`. Generally speaking, `merge_lookup()` aligns data based on identical keys, while `merge_asof()` aligns data based on the nearest key.\n",
    "\n",
    "For more general merges, `merge2()` does datbase-style left, right, inner, and outer joins."
   ]
  },
  {
   "cell_type": "markdown",
   "id": "ec56a67c-1d79-4d89-9e48-742dc391e519",
   "metadata": {},
   "source": [
    "## `merge_lookup()`"
   ]
  },
  {
   "cell_type": "markdown",
   "id": "b12d69f4-31a0-4761-86c8-0f4e60836dcf",
   "metadata": {},
   "source": [
    "Let's start with `merge_lookup()`. It's common to have one Dataset that has most of the information you need, and another, usually smaller Dataset that has information you want to add to the first Dataset to enrich it.\n",
    "\n",
    "Here we'll create a larger Dataset with symbols and size values, and a smaller Dataset that has symbols associated with trader names. We'll use the shared Symbol column as the key to add the trader info to the larger Dataset."
   ]
  },
  {
   "cell_type": "code",
   "execution_count": 5,
   "id": "879510c7-3715-4ce8-b442-306e7d200dfe",
   "metadata": {},
   "outputs": [],
   "source": [
    "rng = np.random.default_rng(seed=42)\n",
    "\n",
    "N = 50\n",
    "\n",
    "# Larger Dataset\n",
    "ds = rt.Dataset({'Symbol': rng.choice(['GME', 'AMZN', 'TSLA', 'SPY'], N),\n",
    "                 'Size': rng.integers(1, 1000, N),})\n",
    "\n",
    "# Smaller Dataset, with data used to enrich the larger Dataset\n",
    "ds_symbol_trader = rt.Dataset({'Symbol': ['GME', 'TSLA', 'SPY', 'AMZN'],\n",
    "                           'Trader': ['Nate', 'Elon', 'Josh', 'Dan']})"
   ]
  },
  {
   "cell_type": "code",
   "execution_count": 6,
   "id": "3f406332-89f7-4235-9dae-2ccff655e231",
   "metadata": {},
   "outputs": [
    {
     "data": {
      "text/html": [
       "<html><head><style>table.tbl-3461 tbody td{white-space: nowrap;}table.tbl-3461 .lc{font-weight:bold;background-color: var( --jp-rendermime-table-row-hover-background);}table.tbl-3461 .lg{background-color: #66da9940;}table.tbl-3461 .lp{font-weight:bold;background-color: #ac66da40;}table.tbl-3461 .msc{font-weight:normal;background-color:#00000011;}table.tbl-3461 .al{text-align:left;}table.tbl-3461 .ar{text-align:right;}table.tbl-3461 .ac{text-align:center;}table.tbl-3461 .bld{font-weight:bold;}table.tbl-3461 .it{font-style:italic;}table.tbl-3461 .ul{text-decoration:underline;}table.tbl-3461 .st{text-decoration:line-through;}</style></head><body><table class='tbl-3461'><thead><tr><td class='lc bld ar'> #</td><td class='lc bld al'>Symbol</td><td class='lc bld ar'>Size</td></tr></thead><tbody><tr><td class='lc  ar '>0</td><td class='  al '>GME</td><td class='  ar '>760</td></tr><tr><td class='lc  ar '>1</td><td class='  al '>SPY</td><td class='  ar '>195</td></tr><tr><td class='lc  ar '>2</td><td class='  al '>TSLA</td><td class='  ar '>364</td></tr><tr><td class='lc  ar '>3</td><td class='  al '>AMZN</td><td class='  ar '>467</td></tr><tr><td class='lc  ar '>4</td><td class='  al '>AMZN</td><td class='  ar '>498</td></tr><tr><td class='lc  ar '>5</td><td class='  al '>SPY</td><td class='  ar '>44</td></tr><tr><td class='lc  ar '>6</td><td class='  al '>GME</td><td class='  ar '>547</td></tr><tr><td class='lc  ar '>7</td><td class='  al '>TSLA</td><td class='  ar '>155</td></tr><tr><td class='lc  ar '>8</td><td class='  al '>GME</td><td class='  ar '>743</td></tr><tr><td class='lc  ar '>9</td><td class='  al '>GME</td><td class='  ar '>683</td></tr><tr><td class='lc  ar '>10</td><td class='  al '>TSLA</td><td class='  ar '>922</td></tr><tr><td class='lc  ar '>11</td><td class='  al '>SPY</td><td class='  ar '>745</td></tr><tr><td class='lc  ar '>12</td><td class='  al '>TSLA</td><td class='  ar '>367</td></tr><tr><td class='lc  ar '>13</td><td class='  al '>SPY</td><td class='  ar '>967</td></tr><tr><td class='lc  ar '>14</td><td class='  al '>TSLA</td><td class='  ar '>411</td></tr><tr><td class='lc  ar '>15</td><td class='  al '>SPY</td><td class='  ar '>326</td></tr><tr><td class='lc  ar '>16</td><td class='  al '>TSLA</td><td class='  ar '>905</td></tr><tr><td class='lc  ar '>17</td><td class='  al '>GME</td><td class='  ar '>371</td></tr><tr><td class='lc  ar '>18</td><td class='  al '>SPY</td><td class='  ar '>77</td></tr><tr><td class='lc  ar '>19</td><td class='  al '>AMZN</td><td class='  ar '>470</td></tr></tbody></table></body></html>\n",
       "\n",
       "[20 rows x 2 columns] total bytes: 240.0 B"
      ],
      "text/plain": [
       "\u001b[1;36m #\u001b[0m   \u001b[1;36mSymbol\u001b[0m   \u001b[1;36mSize\u001b[0m\n",
       "--   ------   ----\n",
       "\u001b[1;36m 0\u001b[0m   GME   \u001b[0m    760\u001b[0m\n",
       "\u001b[1;36m 1\u001b[0m   SPY   \u001b[0m    195\u001b[0m\n",
       "\u001b[1;36m 2\u001b[0m   TSLA  \u001b[0m    364\u001b[0m\n",
       "\u001b[1;36m 3\u001b[0m   AMZN  \u001b[0m    467\u001b[0m\n",
       "\u001b[1;36m 4\u001b[0m   AMZN  \u001b[0m    498\u001b[0m\n",
       "\u001b[1;36m 5\u001b[0m   SPY   \u001b[0m     44\u001b[0m\n",
       "\u001b[1;36m 6\u001b[0m   GME   \u001b[0m    547\u001b[0m\n",
       "\u001b[1;36m 7\u001b[0m   TSLA  \u001b[0m    155\u001b[0m\n",
       "\u001b[1;36m 8\u001b[0m   GME   \u001b[0m    743\u001b[0m\n",
       "\u001b[1;36m 9\u001b[0m   GME   \u001b[0m    683\u001b[0m\n",
       "\u001b[1;36m10\u001b[0m   TSLA  \u001b[0m    922\u001b[0m\n",
       "\u001b[1;36m11\u001b[0m   SPY   \u001b[0m    745\u001b[0m\n",
       "\u001b[1;36m12\u001b[0m   TSLA  \u001b[0m    367\u001b[0m\n",
       "\u001b[1;36m13\u001b[0m   SPY   \u001b[0m    967\u001b[0m\n",
       "\u001b[1;36m14\u001b[0m   TSLA  \u001b[0m    411\u001b[0m\n",
       "\u001b[1;36m15\u001b[0m   SPY   \u001b[0m    326\u001b[0m\n",
       "\u001b[1;36m16\u001b[0m   TSLA  \u001b[0m    905\u001b[0m\n",
       "\u001b[1;36m17\u001b[0m   GME   \u001b[0m    371\u001b[0m\n",
       "\u001b[1;36m18\u001b[0m   SPY   \u001b[0m     77\u001b[0m\n",
       "\u001b[1;36m19\u001b[0m   AMZN  \u001b[0m    470\u001b[0m\n",
       "\n",
       "[20 rows x 2 columns] total bytes: 240.0 B"
      ]
     },
     "execution_count": 6,
     "metadata": {},
     "output_type": "execute_result"
    }
   ],
   "source": [
    "ds.head()"
   ]
  },
  {
   "cell_type": "code",
   "execution_count": 7,
   "id": "49f7f864",
   "metadata": {},
   "outputs": [
    {
     "data": {
      "text/html": [
       "<html><head><style>table.tbl-3490 tbody td{white-space: nowrap;}table.tbl-3490 .lc{font-weight:bold;background-color: var( --jp-rendermime-table-row-hover-background);}table.tbl-3490 .lg{background-color: #66da9940;}table.tbl-3490 .lp{font-weight:bold;background-color: #ac66da40;}table.tbl-3490 .msc{font-weight:normal;background-color:#00000011;}table.tbl-3490 .al{text-align:left;}table.tbl-3490 .ar{text-align:right;}table.tbl-3490 .ac{text-align:center;}table.tbl-3490 .bld{font-weight:bold;}table.tbl-3490 .it{font-style:italic;}table.tbl-3490 .ul{text-decoration:underline;}table.tbl-3490 .st{text-decoration:line-through;}</style></head><body><table class='tbl-3490'><thead><tr><td class='lc bld ar'>#</td><td class='lc bld al'>Symbol</td><td class='lc bld al'>Trader</td></tr></thead><tbody><tr><td class='lc  ar '>0</td><td class='  al '>GME</td><td class='  al '>Nate</td></tr><tr><td class='lc  ar '>1</td><td class='  al '>TSLA</td><td class='  al '>Elon</td></tr><tr><td class='lc  ar '>2</td><td class='  al '>SPY</td><td class='  al '>Josh</td></tr><tr><td class='lc  ar '>3</td><td class='  al '>AMZN</td><td class='  al '>Dan</td></tr></tbody></table></body></html>\n",
       "\n",
       "[4 rows x 2 columns] total bytes: 32.0 B"
      ],
      "text/plain": []
     },
     "execution_count": 7,
     "metadata": {},
     "output_type": "execute_result"
    }
   ],
   "source": [
    "ds_symbol_trader"
   ]
  },
  {
   "cell_type": "markdown",
   "id": "029bd4dd-b7f4-45a3-b409-c32f1d7472fe",
   "metadata": {},
   "source": [
    "### `merge_lookup()` with Key Columns That Have the Same Name"
   ]
  },
  {
   "cell_type": "markdown",
   "id": "70cfd9ca-92d1-4aa7-a0e7-5a3ce6d18a96",
   "metadata": {},
   "source": [
    "Now we'll use `merge_lookup()` to add the trader information to the larger Dataset. `merge_lookup()` will align the data based on exact matches in the shared Symbol column.\n",
    "\n",
    "A note about terms: When you merge two Datasets, the Dataset you're merging data into is the *left Dataset*; the one you're getting data from is the *right Dataset*. \n",
    "\n",
    "Here, we call `merge_lookup()` on our left Dataset, `ds`. We pass it the name of the right Dataset, and tell it what column to use as the key."
   ]
  },
  {
   "cell_type": "code",
   "execution_count": 8,
   "id": "a69dbdd2",
   "metadata": {},
   "outputs": [
    {
     "data": {
      "text/html": [
       "<html><head><style>table.tbl-6360 tbody td{white-space: nowrap;}table.tbl-6360 .lc{font-weight:bold;background-color: var( --jp-rendermime-table-row-hover-background);}table.tbl-6360 .lg{background-color: #66da9940;}table.tbl-6360 .lp{font-weight:bold;background-color: #ac66da40;}table.tbl-6360 .msc{font-weight:normal;background-color:#00000011;}table.tbl-6360 .al{text-align:left;}table.tbl-6360 .ar{text-align:right;}table.tbl-6360 .ac{text-align:center;}table.tbl-6360 .bld{font-weight:bold;}table.tbl-6360 .it{font-style:italic;}table.tbl-6360 .ul{text-decoration:underline;}table.tbl-6360 .st{text-decoration:line-through;}</style></head><body><table class='tbl-6360'><thead><tr><td class='lc bld ar'>  #</td><td class='lc bld al'>Symbol</td><td class='lc bld ar'>Size</td><td class='lc bld al'>Trader</td></tr></thead><tbody><tr><td class='lc  ar '>0</td><td class='  al '>GME</td><td class='  ar '>760</td><td class='  al '>Nate</td></tr><tr><td class='lc  ar '>1</td><td class='  al '>SPY</td><td class='  ar '>195</td><td class='  al '>Josh</td></tr><tr><td class='lc  ar '>2</td><td class='  al '>TSLA</td><td class='  ar '>364</td><td class='  al '>Elon</td></tr><tr><td class='lc  ar '>3</td><td class='  al '>AMZN</td><td class='  ar '>467</td><td class='  al '>Dan</td></tr><tr><td class='lc  ar '>4</td><td class='  al '>AMZN</td><td class='  ar '>498</td><td class='  al '>Dan</td></tr><tr><td class='lc  ar '>5</td><td class='  al '>SPY</td><td class='  ar '>44</td><td class='  al '>Josh</td></tr><tr><td class='lc  ar '>6</td><td class='  al '>GME</td><td class='  ar '>547</td><td class='  al '>Nate</td></tr><tr><td class='lc  ar '>7</td><td class='  al '>TSLA</td><td class='  ar '>155</td><td class='  al '>Elon</td></tr><tr><td class='lc  ar '>8</td><td class='  al '>GME</td><td class='  ar '>743</td><td class='  al '>Nate</td></tr><tr><td class='lc  ar '>9</td><td class='  al '>GME</td><td class='  ar '>683</td><td class='  al '>Nate</td></tr><tr><td class='lc  ar '>10</td><td class='  al '>TSLA</td><td class='  ar '>922</td><td class='  al '>Elon</td></tr><tr><td class='lc  ar '>11</td><td class='  al '>SPY</td><td class='  ar '>745</td><td class='  al '>Josh</td></tr><tr><td class='lc  ar '>12</td><td class='  al '>TSLA</td><td class='  ar '>367</td><td class='  al '>Elon</td></tr><tr><td class='lc  ar '>13</td><td class='  al '>SPY</td><td class='  ar '>967</td><td class='  al '>Josh</td></tr><tr><td class='lc  ar '>14</td><td class='  al '>TSLA</td><td class='  ar '>411</td><td class='  al '>Elon</td></tr><tr><td class='lc  ar '>...</td><td class='  al '>...</td><td class='  ar '>...</td><td class='  al '>...</td></tr><tr><td class='lc  ar '>35</td><td class='  al '>GME</td><td class='  ar '>700</td><td class='  al '>Nate</td></tr><tr><td class='lc  ar '>36</td><td class='  al '>SPY</td><td class='  ar '>98</td><td class='  al '>Josh</td></tr><tr><td class='lc  ar '>37</td><td class='  al '>SPY</td><td class='  ar '>313</td><td class='  al '>Josh</td></tr><tr><td class='lc  ar '>38</td><td class='  al '>AMZN</td><td class='  ar '>768</td><td class='  al '>Dan</td></tr><tr><td class='lc  ar '>39</td><td class='  al '>TSLA</td><td class='  ar '>832</td><td class='  al '>Elon</td></tr><tr><td class='lc  ar '>40</td><td class='  al '>GME</td><td class='  ar '>435</td><td class='  al '>Nate</td></tr><tr><td class='lc  ar '>41</td><td class='  al '>SPY</td><td class='  ar '>804</td><td class='  al '>Josh</td></tr><tr><td class='lc  ar '>42</td><td class='  al '>TSLA</td><td class='  ar '>841</td><td class='  al '>Elon</td></tr><tr><td class='lc  ar '>43</td><td class='  al '>AMZN</td><td class='  ar '>388</td><td class='  al '>Dan</td></tr><tr><td class='lc  ar '>44</td><td class='  al '>GME</td><td class='  ar '>898</td><td class='  al '>Nate</td></tr><tr><td class='lc  ar '>45</td><td class='  al '>SPY</td><td class='  ar '>289</td><td class='  al '>Josh</td></tr><tr><td class='lc  ar '>46</td><td class='  al '>AMZN</td><td class='  ar '>240</td><td class='  al '>Dan</td></tr><tr><td class='lc  ar '>47</td><td class='  al '>SPY</td><td class='  ar '>682</td><td class='  al '>Josh</td></tr><tr><td class='lc  ar '>48</td><td class='  al '>TSLA</td><td class='  ar '>637</td><td class='  al '>Elon</td></tr><tr><td class='lc  ar '>49</td><td class='  al '>SPY</td><td class='  ar '>140</td><td class='  al '>Josh</td></tr></tbody></table></body></html>\n",
       "\n",
       "[50 rows x 3 columns] total bytes: 800.0 B"
      ],
      "text/plain": []
     },
     "execution_count": 8,
     "metadata": {},
     "output_type": "execute_result"
    }
   ],
   "source": [
    "ds.merge_lookup(ds_symbol_trader, on='Symbol')"
   ]
  },
  {
   "cell_type": "markdown",
   "id": "61ce1f30",
   "metadata": {},
   "source": [
    "The left Dataset now has the trader information, correctly aligned.\n",
    "\n",
    "You can also use the following syntax, passing `merge_lookup()` the names of the left and right Datasets, along with the key:"
   ]
  },
  {
   "cell_type": "code",
   "execution_count": 9,
   "id": "50ca3b1b",
   "metadata": {},
   "outputs": [
    {
     "data": {
      "text/html": [
       "<html><head><style>table.tbl-2937 tbody td{white-space: nowrap;}table.tbl-2937 .lc{font-weight:bold;background-color: var( --jp-rendermime-table-row-hover-background);}table.tbl-2937 .lg{background-color: #66da9940;}table.tbl-2937 .lp{font-weight:bold;background-color: #ac66da40;}table.tbl-2937 .msc{font-weight:normal;background-color:#00000011;}table.tbl-2937 .al{text-align:left;}table.tbl-2937 .ar{text-align:right;}table.tbl-2937 .ac{text-align:center;}table.tbl-2937 .bld{font-weight:bold;}table.tbl-2937 .it{font-style:italic;}table.tbl-2937 .ul{text-decoration:underline;}table.tbl-2937 .st{text-decoration:line-through;}</style></head><body><table class='tbl-2937'><thead><tr><td class='lc bld ar'>  #</td><td class='lc bld al'>Symbol</td><td class='lc bld ar'>Size</td><td class='lc bld al'>Trader</td></tr></thead><tbody><tr><td class='lc  ar '>0</td><td class='  al '>GME</td><td class='  ar '>760</td><td class='  al '>Nate</td></tr><tr><td class='lc  ar '>1</td><td class='  al '>SPY</td><td class='  ar '>195</td><td class='  al '>Josh</td></tr><tr><td class='lc  ar '>2</td><td class='  al '>TSLA</td><td class='  ar '>364</td><td class='  al '>Elon</td></tr><tr><td class='lc  ar '>3</td><td class='  al '>AMZN</td><td class='  ar '>467</td><td class='  al '>Dan</td></tr><tr><td class='lc  ar '>4</td><td class='  al '>AMZN</td><td class='  ar '>498</td><td class='  al '>Dan</td></tr><tr><td class='lc  ar '>5</td><td class='  al '>SPY</td><td class='  ar '>44</td><td class='  al '>Josh</td></tr><tr><td class='lc  ar '>6</td><td class='  al '>GME</td><td class='  ar '>547</td><td class='  al '>Nate</td></tr><tr><td class='lc  ar '>7</td><td class='  al '>TSLA</td><td class='  ar '>155</td><td class='  al '>Elon</td></tr><tr><td class='lc  ar '>8</td><td class='  al '>GME</td><td class='  ar '>743</td><td class='  al '>Nate</td></tr><tr><td class='lc  ar '>9</td><td class='  al '>GME</td><td class='  ar '>683</td><td class='  al '>Nate</td></tr><tr><td class='lc  ar '>10</td><td class='  al '>TSLA</td><td class='  ar '>922</td><td class='  al '>Elon</td></tr><tr><td class='lc  ar '>11</td><td class='  al '>SPY</td><td class='  ar '>745</td><td class='  al '>Josh</td></tr><tr><td class='lc  ar '>12</td><td class='  al '>TSLA</td><td class='  ar '>367</td><td class='  al '>Elon</td></tr><tr><td class='lc  ar '>13</td><td class='  al '>SPY</td><td class='  ar '>967</td><td class='  al '>Josh</td></tr><tr><td class='lc  ar '>14</td><td class='  al '>TSLA</td><td class='  ar '>411</td><td class='  al '>Elon</td></tr><tr><td class='lc  ar '>...</td><td class='  al '>...</td><td class='  ar '>...</td><td class='  al '>...</td></tr><tr><td class='lc  ar '>35</td><td class='  al '>GME</td><td class='  ar '>700</td><td class='  al '>Nate</td></tr><tr><td class='lc  ar '>36</td><td class='  al '>SPY</td><td class='  ar '>98</td><td class='  al '>Josh</td></tr><tr><td class='lc  ar '>37</td><td class='  al '>SPY</td><td class='  ar '>313</td><td class='  al '>Josh</td></tr><tr><td class='lc  ar '>38</td><td class='  al '>AMZN</td><td class='  ar '>768</td><td class='  al '>Dan</td></tr><tr><td class='lc  ar '>39</td><td class='  al '>TSLA</td><td class='  ar '>832</td><td class='  al '>Elon</td></tr><tr><td class='lc  ar '>40</td><td class='  al '>GME</td><td class='  ar '>435</td><td class='  al '>Nate</td></tr><tr><td class='lc  ar '>41</td><td class='  al '>SPY</td><td class='  ar '>804</td><td class='  al '>Josh</td></tr><tr><td class='lc  ar '>42</td><td class='  al '>TSLA</td><td class='  ar '>841</td><td class='  al '>Elon</td></tr><tr><td class='lc  ar '>43</td><td class='  al '>AMZN</td><td class='  ar '>388</td><td class='  al '>Dan</td></tr><tr><td class='lc  ar '>44</td><td class='  al '>GME</td><td class='  ar '>898</td><td class='  al '>Nate</td></tr><tr><td class='lc  ar '>45</td><td class='  al '>SPY</td><td class='  ar '>289</td><td class='  al '>Josh</td></tr><tr><td class='lc  ar '>46</td><td class='  al '>AMZN</td><td class='  ar '>240</td><td class='  al '>Dan</td></tr><tr><td class='lc  ar '>47</td><td class='  al '>SPY</td><td class='  ar '>682</td><td class='  al '>Josh</td></tr><tr><td class='lc  ar '>48</td><td class='  al '>TSLA</td><td class='  ar '>637</td><td class='  al '>Elon</td></tr><tr><td class='lc  ar '>49</td><td class='  al '>SPY</td><td class='  ar '>140</td><td class='  al '>Josh</td></tr></tbody></table></body></html>\n",
       "\n",
       "[50 rows x 3 columns] total bytes: 800.0 B"
      ],
      "text/plain": []
     },
     "execution_count": 9,
     "metadata": {},
     "output_type": "execute_result"
    }
   ],
   "source": [
    "rt.merge_lookup(ds, ds_symbol_trader, on='Symbol')"
   ]
  },
  {
   "cell_type": "markdown",
   "id": "83fd8c20-c1c4-4dec-8781-e18376ec79b8",
   "metadata": {},
   "source": [
    "### `merge_lookup` with Key Columns That Have Different Names"
   ]
  },
  {
   "cell_type": "markdown",
   "id": "313e3c51-0573-4f25-b68d-c44c2b11f4f0",
   "metadata": {},
   "source": [
    "If the key column has a different name in each Dataset, just specify each column name with `left_on` and `right_on`."
   ]
  },
  {
   "cell_type": "code",
   "execution_count": 10,
   "id": "d69c8e7d",
   "metadata": {},
   "outputs": [
    {
     "data": {
      "text/html": [
       "<html><head><style>table.tbl-7537 tbody td{white-space: nowrap;}table.tbl-7537 .lc{font-weight:bold;background-color: var( --jp-rendermime-table-row-hover-background);}table.tbl-7537 .lg{background-color: #66da9940;}table.tbl-7537 .lp{font-weight:bold;background-color: #ac66da40;}table.tbl-7537 .msc{font-weight:normal;background-color:#00000011;}table.tbl-7537 .al{text-align:left;}table.tbl-7537 .ar{text-align:right;}table.tbl-7537 .ac{text-align:center;}table.tbl-7537 .bld{font-weight:bold;}table.tbl-7537 .it{font-style:italic;}table.tbl-7537 .ul{text-decoration:underline;}table.tbl-7537 .st{text-decoration:line-through;}</style></head><body><table class='tbl-7537'><thead><tr><td class='lc bld ar'>  #</td><td class='lc bld al'>Symbol</td><td class='lc bld ar'>Size</td><td class='lc bld al'>UnderlyingSymbol</td><td class='lc bld al'>Trader</td></tr></thead><tbody><tr><td class='lc  ar '>0</td><td class='  al '>GME</td><td class='  ar '>760</td><td class='  al '>GME</td><td class='  al '>Nate</td></tr><tr><td class='lc  ar '>1</td><td class='  al '>SPY</td><td class='  ar '>195</td><td class='  al '>SPY</td><td class='  al '>Josh</td></tr><tr><td class='lc  ar '>2</td><td class='  al '>TSLA</td><td class='  ar '>364</td><td class='  al '>TSLA</td><td class='  al '>Elon</td></tr><tr><td class='lc  ar '>3</td><td class='  al '>AMZN</td><td class='  ar '>467</td><td class='  al '>AMZN</td><td class='  al '>Dan</td></tr><tr><td class='lc  ar '>4</td><td class='  al '>AMZN</td><td class='  ar '>498</td><td class='  al '>AMZN</td><td class='  al '>Dan</td></tr><tr><td class='lc  ar '>5</td><td class='  al '>SPY</td><td class='  ar '>44</td><td class='  al '>SPY</td><td class='  al '>Josh</td></tr><tr><td class='lc  ar '>6</td><td class='  al '>GME</td><td class='  ar '>547</td><td class='  al '>GME</td><td class='  al '>Nate</td></tr><tr><td class='lc  ar '>7</td><td class='  al '>TSLA</td><td class='  ar '>155</td><td class='  al '>TSLA</td><td class='  al '>Elon</td></tr><tr><td class='lc  ar '>8</td><td class='  al '>GME</td><td class='  ar '>743</td><td class='  al '>GME</td><td class='  al '>Nate</td></tr><tr><td class='lc  ar '>9</td><td class='  al '>GME</td><td class='  ar '>683</td><td class='  al '>GME</td><td class='  al '>Nate</td></tr><tr><td class='lc  ar '>10</td><td class='  al '>TSLA</td><td class='  ar '>922</td><td class='  al '>TSLA</td><td class='  al '>Elon</td></tr><tr><td class='lc  ar '>11</td><td class='  al '>SPY</td><td class='  ar '>745</td><td class='  al '>SPY</td><td class='  al '>Josh</td></tr><tr><td class='lc  ar '>12</td><td class='  al '>TSLA</td><td class='  ar '>367</td><td class='  al '>TSLA</td><td class='  al '>Elon</td></tr><tr><td class='lc  ar '>13</td><td class='  al '>SPY</td><td class='  ar '>967</td><td class='  al '>SPY</td><td class='  al '>Josh</td></tr><tr><td class='lc  ar '>14</td><td class='  al '>TSLA</td><td class='  ar '>411</td><td class='  al '>TSLA</td><td class='  al '>Elon</td></tr><tr><td class='lc  ar '>...</td><td class='  al '>...</td><td class='  ar '>...</td><td class='  al '>...</td><td class='  al '>...</td></tr><tr><td class='lc  ar '>35</td><td class='  al '>GME</td><td class='  ar '>700</td><td class='  al '>GME</td><td class='  al '>Nate</td></tr><tr><td class='lc  ar '>36</td><td class='  al '>SPY</td><td class='  ar '>98</td><td class='  al '>SPY</td><td class='  al '>Josh</td></tr><tr><td class='lc  ar '>37</td><td class='  al '>SPY</td><td class='  ar '>313</td><td class='  al '>SPY</td><td class='  al '>Josh</td></tr><tr><td class='lc  ar '>38</td><td class='  al '>AMZN</td><td class='  ar '>768</td><td class='  al '>AMZN</td><td class='  al '>Dan</td></tr><tr><td class='lc  ar '>39</td><td class='  al '>TSLA</td><td class='  ar '>832</td><td class='  al '>TSLA</td><td class='  al '>Elon</td></tr><tr><td class='lc  ar '>40</td><td class='  al '>GME</td><td class='  ar '>435</td><td class='  al '>GME</td><td class='  al '>Nate</td></tr><tr><td class='lc  ar '>41</td><td class='  al '>SPY</td><td class='  ar '>804</td><td class='  al '>SPY</td><td class='  al '>Josh</td></tr><tr><td class='lc  ar '>42</td><td class='  al '>TSLA</td><td class='  ar '>841</td><td class='  al '>TSLA</td><td class='  al '>Elon</td></tr><tr><td class='lc  ar '>43</td><td class='  al '>AMZN</td><td class='  ar '>388</td><td class='  al '>AMZN</td><td class='  al '>Dan</td></tr><tr><td class='lc  ar '>44</td><td class='  al '>GME</td><td class='  ar '>898</td><td class='  al '>GME</td><td class='  al '>Nate</td></tr><tr><td class='lc  ar '>45</td><td class='  al '>SPY</td><td class='  ar '>289</td><td class='  al '>SPY</td><td class='  al '>Josh</td></tr><tr><td class='lc  ar '>46</td><td class='  al '>AMZN</td><td class='  ar '>240</td><td class='  al '>AMZN</td><td class='  al '>Dan</td></tr><tr><td class='lc  ar '>47</td><td class='  al '>SPY</td><td class='  ar '>682</td><td class='  al '>SPY</td><td class='  al '>Josh</td></tr><tr><td class='lc  ar '>48</td><td class='  al '>TSLA</td><td class='  ar '>637</td><td class='  al '>TSLA</td><td class='  al '>Elon</td></tr><tr><td class='lc  ar '>49</td><td class='  al '>SPY</td><td class='  ar '>140</td><td class='  al '>SPY</td><td class='  al '>Josh</td></tr></tbody></table></body></html>\n",
       "\n",
       "[50 rows x 4 columns] total bytes: 1000.0 B"
      ],
      "text/plain": []
     },
     "execution_count": 10,
     "metadata": {},
     "output_type": "execute_result"
    }
   ],
   "source": [
    "# For illustrative purposes, rename the key column in the right Dataset.\n",
    "ds_symbol_trader.col_rename('Symbol', 'UnderlyingSymbol')\n",
    "\n",
    "ds.merge_lookup(ds_symbol_trader, left_on='Symbol', right_on='UnderlyingSymbol')"
   ]
  },
  {
   "cell_type": "markdown",
   "id": "a9e14b35",
   "metadata": {},
   "source": [
    "Notice that when the key columns have different names, both are kept. If you want keep only certain columns from the left or right Dataset, you can specify them with `columns_left` or `columns_right`."
   ]
  },
  {
   "cell_type": "code",
   "execution_count": 11,
   "id": "187c22cc",
   "metadata": {},
   "outputs": [
    {
     "data": {
      "text/html": [
       "<html><head><style>table.tbl-4698 tbody td{white-space: nowrap;}table.tbl-4698 .lc{font-weight:bold;background-color: var( --jp-rendermime-table-row-hover-background);}table.tbl-4698 .lg{background-color: #66da9940;}table.tbl-4698 .lp{font-weight:bold;background-color: #ac66da40;}table.tbl-4698 .msc{font-weight:normal;background-color:#00000011;}table.tbl-4698 .al{text-align:left;}table.tbl-4698 .ar{text-align:right;}table.tbl-4698 .ac{text-align:center;}table.tbl-4698 .bld{font-weight:bold;}table.tbl-4698 .it{font-style:italic;}table.tbl-4698 .ul{text-decoration:underline;}table.tbl-4698 .st{text-decoration:line-through;}</style></head><body><table class='tbl-4698'><thead><tr><td class='lc bld ar'>  #</td><td class='lc bld al'>Symbol</td><td class='lc bld ar'>Size</td><td class='lc bld al'>Trader</td></tr></thead><tbody><tr><td class='lc  ar '>0</td><td class='  al '>GME</td><td class='  ar '>760</td><td class='  al '>Nate</td></tr><tr><td class='lc  ar '>1</td><td class='  al '>SPY</td><td class='  ar '>195</td><td class='  al '>Josh</td></tr><tr><td class='lc  ar '>2</td><td class='  al '>TSLA</td><td class='  ar '>364</td><td class='  al '>Elon</td></tr><tr><td class='lc  ar '>3</td><td class='  al '>AMZN</td><td class='  ar '>467</td><td class='  al '>Dan</td></tr><tr><td class='lc  ar '>4</td><td class='  al '>AMZN</td><td class='  ar '>498</td><td class='  al '>Dan</td></tr><tr><td class='lc  ar '>5</td><td class='  al '>SPY</td><td class='  ar '>44</td><td class='  al '>Josh</td></tr><tr><td class='lc  ar '>6</td><td class='  al '>GME</td><td class='  ar '>547</td><td class='  al '>Nate</td></tr><tr><td class='lc  ar '>7</td><td class='  al '>TSLA</td><td class='  ar '>155</td><td class='  al '>Elon</td></tr><tr><td class='lc  ar '>8</td><td class='  al '>GME</td><td class='  ar '>743</td><td class='  al '>Nate</td></tr><tr><td class='lc  ar '>9</td><td class='  al '>GME</td><td class='  ar '>683</td><td class='  al '>Nate</td></tr><tr><td class='lc  ar '>10</td><td class='  al '>TSLA</td><td class='  ar '>922</td><td class='  al '>Elon</td></tr><tr><td class='lc  ar '>11</td><td class='  al '>SPY</td><td class='  ar '>745</td><td class='  al '>Josh</td></tr><tr><td class='lc  ar '>12</td><td class='  al '>TSLA</td><td class='  ar '>367</td><td class='  al '>Elon</td></tr><tr><td class='lc  ar '>13</td><td class='  al '>SPY</td><td class='  ar '>967</td><td class='  al '>Josh</td></tr><tr><td class='lc  ar '>14</td><td class='  al '>TSLA</td><td class='  ar '>411</td><td class='  al '>Elon</td></tr><tr><td class='lc  ar '>...</td><td class='  al '>...</td><td class='  ar '>...</td><td class='  al '>...</td></tr><tr><td class='lc  ar '>35</td><td class='  al '>GME</td><td class='  ar '>700</td><td class='  al '>Nate</td></tr><tr><td class='lc  ar '>36</td><td class='  al '>SPY</td><td class='  ar '>98</td><td class='  al '>Josh</td></tr><tr><td class='lc  ar '>37</td><td class='  al '>SPY</td><td class='  ar '>313</td><td class='  al '>Josh</td></tr><tr><td class='lc  ar '>38</td><td class='  al '>AMZN</td><td class='  ar '>768</td><td class='  al '>Dan</td></tr><tr><td class='lc  ar '>39</td><td class='  al '>TSLA</td><td class='  ar '>832</td><td class='  al '>Elon</td></tr><tr><td class='lc  ar '>40</td><td class='  al '>GME</td><td class='  ar '>435</td><td class='  al '>Nate</td></tr><tr><td class='lc  ar '>41</td><td class='  al '>SPY</td><td class='  ar '>804</td><td class='  al '>Josh</td></tr><tr><td class='lc  ar '>42</td><td class='  al '>TSLA</td><td class='  ar '>841</td><td class='  al '>Elon</td></tr><tr><td class='lc  ar '>43</td><td class='  al '>AMZN</td><td class='  ar '>388</td><td class='  al '>Dan</td></tr><tr><td class='lc  ar '>44</td><td class='  al '>GME</td><td class='  ar '>898</td><td class='  al '>Nate</td></tr><tr><td class='lc  ar '>45</td><td class='  al '>SPY</td><td class='  ar '>289</td><td class='  al '>Josh</td></tr><tr><td class='lc  ar '>46</td><td class='  al '>AMZN</td><td class='  ar '>240</td><td class='  al '>Dan</td></tr><tr><td class='lc  ar '>47</td><td class='  al '>SPY</td><td class='  ar '>682</td><td class='  al '>Josh</td></tr><tr><td class='lc  ar '>48</td><td class='  al '>TSLA</td><td class='  ar '>637</td><td class='  al '>Elon</td></tr><tr><td class='lc  ar '>49</td><td class='  al '>SPY</td><td class='  ar '>140</td><td class='  al '>Josh</td></tr></tbody></table></body></html>\n",
       "\n",
       "[50 rows x 3 columns] total bytes: 800.0 B"
      ],
      "text/plain": []
     },
     "execution_count": 11,
     "metadata": {},
     "output_type": "execute_result"
    }
   ],
   "source": [
    "ds.merge_lookup(ds_symbol_trader, left_on='Symbol', right_on='UnderlyingSymbol', \n",
    "                columns_right='Trader')"
   ]
  },
  {
   "cell_type": "markdown",
   "id": "040a15a8-417d-4dc0-8f62-a4eec10a35ba",
   "metadata": {},
   "source": [
    "### Note: `merge_lookup()` Keeps Only the Keys in the Left Dataset"
   ]
  },
  {
   "cell_type": "markdown",
   "id": "b5a3a7fe-a46f-4aeb-a05f-66e2d9b49b77",
   "metadata": {},
   "source": [
    "One thing to note about `merge_lookup()` is that it keeps only the keys are that are in the left Dataset (it's equivalent to a SQL left join). If there are keys in the right Dataset that aren't in the left Dataset, they're discarded in the merged data."
   ]
  },
  {
   "cell_type": "code",
   "execution_count": 12,
   "id": "c2af142d",
   "metadata": {},
   "outputs": [
    {
     "data": {
      "text/html": [
       "<html><head><style>table.tbl-1683 tbody td{white-space: nowrap;}table.tbl-1683 .lc{font-weight:bold;background-color: var( --jp-rendermime-table-row-hover-background);}table.tbl-1683 .lg{background-color: #66da9940;}table.tbl-1683 .lp{font-weight:bold;background-color: #ac66da40;}table.tbl-1683 .msc{font-weight:normal;background-color:#00000011;}table.tbl-1683 .al{text-align:left;}table.tbl-1683 .ar{text-align:right;}table.tbl-1683 .ac{text-align:center;}table.tbl-1683 .bld{font-weight:bold;}table.tbl-1683 .it{font-style:italic;}table.tbl-1683 .ul{text-decoration:underline;}table.tbl-1683 .st{text-decoration:line-through;}</style></head><body><table class='tbl-1683'><thead><tr><td class='lc bld ar'> #</td><td class='lc bld al'>Symbol</td><td class='lc bld ar'>Size</td><td class='lc bld al'>Trader</td></tr></thead><tbody><tr><td class='lc  ar '>0</td><td class='  al '>GME</td><td class='  ar '>760</td><td class='  al '>Nate</td></tr><tr><td class='lc  ar '>1</td><td class='  al '>SPY</td><td class='  ar '>195</td><td class='  al '>Josh</td></tr><tr><td class='lc  ar '>2</td><td class='  al '>TSLA</td><td class='  ar '>364</td><td class='  al '>Elon</td></tr><tr><td class='lc  ar '>3</td><td class='  al '>AMZN</td><td class='  ar '>467</td><td class='  al '>Dan</td></tr><tr><td class='lc  ar '>4</td><td class='  al '>AMZN</td><td class='  ar '>498</td><td class='  al '>Dan</td></tr><tr><td class='lc  ar '>5</td><td class='  al '>SPY</td><td class='  ar '>44</td><td class='  al '>Josh</td></tr><tr><td class='lc  ar '>6</td><td class='  al '>GME</td><td class='  ar '>547</td><td class='  al '>Nate</td></tr><tr><td class='lc  ar '>7</td><td class='  al '>TSLA</td><td class='  ar '>155</td><td class='  al '>Elon</td></tr><tr><td class='lc  ar '>8</td><td class='  al '>GME</td><td class='  ar '>743</td><td class='  al '>Nate</td></tr><tr><td class='lc  ar '>9</td><td class='  al '>GME</td><td class='  ar '>683</td><td class='  al '>Nate</td></tr><tr><td class='lc  ar '>10</td><td class='  al '>TSLA</td><td class='  ar '>922</td><td class='  al '>Elon</td></tr><tr><td class='lc  ar '>11</td><td class='  al '>SPY</td><td class='  ar '>745</td><td class='  al '>Josh</td></tr><tr><td class='lc  ar '>12</td><td class='  al '>TSLA</td><td class='  ar '>367</td><td class='  al '>Elon</td></tr><tr><td class='lc  ar '>13</td><td class='  al '>SPY</td><td class='  ar '>967</td><td class='  al '>Josh</td></tr><tr><td class='lc  ar '>14</td><td class='  al '>TSLA</td><td class='  ar '>411</td><td class='  al '>Elon</td></tr><tr><td class='lc  ar '>15</td><td class='  al '>SPY</td><td class='  ar '>326</td><td class='  al '>Josh</td></tr><tr><td class='lc  ar '>16</td><td class='  al '>TSLA</td><td class='  ar '>905</td><td class='  al '>Elon</td></tr><tr><td class='lc  ar '>17</td><td class='  al '>GME</td><td class='  ar '>371</td><td class='  al '>Nate</td></tr><tr><td class='lc  ar '>18</td><td class='  al '>SPY</td><td class='  ar '>77</td><td class='  al '>Josh</td></tr><tr><td class='lc  ar '>19</td><td class='  al '>AMZN</td><td class='  ar '>470</td><td class='  al '>Dan</td></tr><tr><td class='lc  ar '>20</td><td class='  al '>TSLA</td><td class='  ar '>795</td><td class='  al '>Elon</td></tr><tr><td class='lc  ar '>21</td><td class='  al '>AMZN</td><td class='  ar '>190</td><td class='  al '>Dan</td></tr><tr><td class='lc  ar '>22</td><td class='  al '>GME</td><td class='  ar '>463</td><td class='  al '>Nate</td></tr><tr><td class='lc  ar '>23</td><td class='  al '>SPY</td><td class='  ar '>130</td><td class='  al '>Josh</td></tr><tr><td class='lc  ar '>24</td><td class='  al '>SPY</td><td class='  ar '>686</td><td class='  al '>Josh</td></tr><tr><td class='lc  ar '>25</td><td class='  al '>TSLA</td><td class='  ar '>476</td><td class='  al '>Elon</td></tr><tr><td class='lc  ar '>26</td><td class='  al '>AMZN</td><td class='  ar '>330</td><td class='  al '>Dan</td></tr><tr><td class='lc  ar '>27</td><td class='  al '>SPY</td><td class='  ar '>227</td><td class='  al '>Josh</td></tr><tr><td class='lc  ar '>28</td><td class='  al '>TSLA</td><td class='  ar '>564</td><td class='  al '>Elon</td></tr><tr><td class='lc  ar '>29</td><td class='  al '>AMZN</td><td class='  ar '>670</td><td class='  al '>Dan</td></tr><tr><td class='lc  ar '>30</td><td class='  al '>AMZN</td><td class='  ar '>940</td><td class='  al '>Dan</td></tr><tr><td class='lc  ar '>31</td><td class='  al '>GME</td><td class='  ar '>437</td><td class='  al '>Nate</td></tr><tr><td class='lc  ar '>32</td><td class='  al '>GME</td><td class='  ar '>161</td><td class='  al '>Nate</td></tr><tr><td class='lc  ar '>33</td><td class='  al '>TSLA</td><td class='  ar '>832</td><td class='  al '>Elon</td></tr><tr><td class='lc  ar '>34</td><td class='  al '>SPY</td><td class='  ar '>630</td><td class='  al '>Josh</td></tr><tr><td class='lc  ar '>35</td><td class='  al '>GME</td><td class='  ar '>700</td><td class='  al '>Nate</td></tr><tr><td class='lc  ar '>36</td><td class='  al '>SPY</td><td class='  ar '>98</td><td class='  al '>Josh</td></tr><tr><td class='lc  ar '>37</td><td class='  al '>SPY</td><td class='  ar '>313</td><td class='  al '>Josh</td></tr><tr><td class='lc  ar '>38</td><td class='  al '>AMZN</td><td class='  ar '>768</td><td class='  al '>Dan</td></tr><tr><td class='lc  ar '>39</td><td class='  al '>TSLA</td><td class='  ar '>832</td><td class='  al '>Elon</td></tr><tr><td class='lc  ar '>40</td><td class='  al '>GME</td><td class='  ar '>435</td><td class='  al '>Nate</td></tr><tr><td class='lc  ar '>41</td><td class='  al '>SPY</td><td class='  ar '>804</td><td class='  al '>Josh</td></tr><tr><td class='lc  ar '>42</td><td class='  al '>TSLA</td><td class='  ar '>841</td><td class='  al '>Elon</td></tr><tr><td class='lc  ar '>43</td><td class='  al '>AMZN</td><td class='  ar '>388</td><td class='  al '>Dan</td></tr><tr><td class='lc  ar '>44</td><td class='  al '>GME</td><td class='  ar '>898</td><td class='  al '>Nate</td></tr><tr><td class='lc  ar '>45</td><td class='  al '>SPY</td><td class='  ar '>289</td><td class='  al '>Josh</td></tr><tr><td class='lc  ar '>46</td><td class='  al '>AMZN</td><td class='  ar '>240</td><td class='  al '>Dan</td></tr><tr><td class='lc  ar '>47</td><td class='  al '>SPY</td><td class='  ar '>682</td><td class='  al '>Josh</td></tr><tr><td class='lc  ar '>48</td><td class='  al '>TSLA</td><td class='  ar '>637</td><td class='  al '>Elon</td></tr><tr><td class='lc  ar '>49</td><td class='  al '>SPY</td><td class='  ar '>140</td><td class='  al '>Josh</td></tr></tbody></table></body></html>\n",
       "\n",
       "[50 rows x 3 columns] total bytes: 900.0 B"
      ],
      "text/plain": [
       "<html><head><style>table.tbl-1683 tbody td{white-space: nowrap;}table.tbl-1683 .lc{font-weight:bold;background-color: var( --jp-rendermime-table-row-hover-background);}table.tbl-1683 .lg{background-color: #66da9940;}table.tbl-1683 .lp{font-weight:bold;background-color: #ac66da40;}table.tbl-1683 .msc{font-weight:normal;background-color:#00000011;}table.tbl-1683 .al{text-align:left;}table.tbl-1683 .ar{text-align:right;}table.tbl-1683 .ac{text-align:center;}table.tbl-1683 .bld{font-weight:bold;}table.tbl-1683 .it{font-style:italic;}table.tbl-1683 .ul{text-decoration:underline;}table.tbl-1683 .st{text-decoration:line-through;}</style></head><body><table class='tbl-1683'><thead><tr><td class='lc bld ar'> #</td><td class='lc bld al'>Symbol</td><td class='lc bld ar'>Size</td><td class='lc bld al'>Trader</td></tr></thead><tbody><tr><td class='lc  ar '>0</td><td class='  al '>GME</td><td class='  ar '>760</td><td class='  al '>Nate</td></tr><tr><td class='lc  ar '>1</td><td class='  al '>SPY</td><td class='  ar '>195</td><td class='  al '>Josh</td></tr><tr><td class='lc  ar '>2</td><td class='  al '>TSLA</td><td class='  ar '>364</td><td class='  al '>Elon</td></tr><tr><td class='lc  ar '>3</td><td class='  al '>AMZN</td><td class='  ar '>467</td><td class='  al '>Dan</td></tr><tr><td class='lc  ar '>4</td><td class='  al '>AMZN</td><td class='  ar '>498</td><td class='  al '>Dan</td></tr><tr><td class='lc  ar '>5</td><td class='  al '>SPY</td><td class='  ar '>44</td><td class='  al '>Josh</td></tr><tr><td class='lc  ar '>6</td><td class='  al '>GME</td><td class='  ar '>547</td><td class='  al '>Nate</td></tr><tr><td class='lc  ar '>7</td><td class='  al '>TSLA</td><td class='  ar '>155</td><td class='  al '>Elon</td></tr><tr><td class='lc  ar '>8</td><td class='  al '>GME</td><td class='  ar '>743</td><td class='  al '>Nate</td></tr><tr><td class='lc  ar '>9</td><td class='  al '>GME</td><td class='  ar '>683</td><td class='  al '>Nate</td></tr><tr><td class='lc  ar '>10</td><td class='  al '>TSLA</td><td class='  ar '>922</td><td class='  al '>Elon</td></tr><tr><td class='lc  ar '>11</td><td class='  al '>SPY</td><td class='  ar '>745</td><td class='  al '>Josh</td></tr><tr><td class='lc  ar '>12</td><td class='  al '>TSLA</td><td class='  ar '>367</td><td class='  al '>Elon</td></tr><tr><td class='lc  ar '>13</td><td class='  al '>SPY</td><td class='  ar '>967</td><td class='  al '>Josh</td></tr><tr><td class='lc  ar '>14</td><td class='  al '>TSLA</td><td class='  ar '>411</td><td class='  al '>Elon</td></tr><tr><td class='lc  ar '>15</td><td class='  al '>SPY</td><td class='  ar '>326</td><td class='  al '>Josh</td></tr><tr><td class='lc  ar '>16</td><td class='  al '>TSLA</td><td class='  ar '>905</td><td class='  al '>Elon</td></tr><tr><td class='lc  ar '>17</td><td class='  al '>GME</td><td class='  ar '>371</td><td class='  al '>Nate</td></tr><tr><td class='lc  ar '>18</td><td class='  al '>SPY</td><td class='  ar '>77</td><td class='  al '>Josh</td></tr><tr><td class='lc  ar '>19</td><td class='  al '>AMZN</td><td class='  ar '>470</td><td class='  al '>Dan</td></tr><tr><td class='lc  ar '>20</td><td class='  al '>TSLA</td><td class='  ar '>795</td><td class='  al '>Elon</td></tr><tr><td class='lc  ar '>21</td><td class='  al '>AMZN</td><td class='  ar '>190</td><td class='  al '>Dan</td></tr><tr><td class='lc  ar '>22</td><td class='  al '>GME</td><td class='  ar '>463</td><td class='  al '>Nate</td></tr><tr><td class='lc  ar '>23</td><td class='  al '>SPY</td><td class='  ar '>130</td><td class='  al '>Josh</td></tr><tr><td class='lc  ar '>24</td><td class='  al '>SPY</td><td class='  ar '>686</td><td class='  al '>Josh</td></tr><tr><td class='lc  ar '>25</td><td class='  al '>TSLA</td><td class='  ar '>476</td><td class='  al '>Elon</td></tr><tr><td class='lc  ar '>26</td><td class='  al '>AMZN</td><td class='  ar '>330</td><td class='  al '>Dan</td></tr><tr><td class='lc  ar '>27</td><td class='  al '>SPY</td><td class='  ar '>227</td><td class='  al '>Josh</td></tr><tr><td class='lc  ar '>28</td><td class='  al '>TSLA</td><td class='  ar '>564</td><td class='  al '>Elon</td></tr><tr><td class='lc  ar '>29</td><td class='  al '>AMZN</td><td class='  ar '>670</td><td class='  al '>Dan</td></tr><tr><td class='lc  ar '>30</td><td class='  al '>AMZN</td><td class='  ar '>940</td><td class='  al '>Dan</td></tr><tr><td class='lc  ar '>31</td><td class='  al '>GME</td><td class='  ar '>437</td><td class='  al '>Nate</td></tr><tr><td class='lc  ar '>32</td><td class='  al '>GME</td><td class='  ar '>161</td><td class='  al '>Nate</td></tr><tr><td class='lc  ar '>33</td><td class='  al '>TSLA</td><td class='  ar '>832</td><td class='  al '>Elon</td></tr><tr><td class='lc  ar '>34</td><td class='  al '>SPY</td><td class='  ar '>630</td><td class='  al '>Josh</td></tr><tr><td class='lc  ar '>35</td><td class='  al '>GME</td><td class='  ar '>700</td><td class='  al '>Nate</td></tr><tr><td class='lc  ar '>36</td><td class='  al '>SPY</td><td class='  ar '>98</td><td class='  al '>Josh</td></tr><tr><td class='lc  ar '>37</td><td class='  al '>SPY</td><td class='  ar '>313</td><td class='  al '>Josh</td></tr><tr><td class='lc  ar '>38</td><td class='  al '>AMZN</td><td class='  ar '>768</td><td class='  al '>Dan</td></tr><tr><td class='lc  ar '>39</td><td class='  al '>TSLA</td><td class='  ar '>832</td><td class='  al '>Elon</td></tr><tr><td class='lc  ar '>40</td><td class='  al '>GME</td><td class='  ar '>435</td><td class='  al '>Nate</td></tr><tr><td class='lc  ar '>41</td><td class='  al '>SPY</td><td class='  ar '>804</td><td class='  al '>Josh</td></tr><tr><td class='lc  ar '>42</td><td class='  al '>TSLA</td><td class='  ar '>841</td><td class='  al '>Elon</td></tr><tr><td class='lc  ar '>43</td><td class='  al '>AMZN</td><td class='  ar '>388</td><td class='  al '>Dan</td></tr><tr><td class='lc  ar '>44</td><td class='  al '>GME</td><td class='  ar '>898</td><td class='  al '>Nate</td></tr><tr><td class='lc  ar '>45</td><td class='  al '>SPY</td><td class='  ar '>289</td><td class='  al '>Josh</td></tr><tr><td class='lc  ar '>46</td><td class='  al '>AMZN</td><td class='  ar '>240</td><td class='  al '>Dan</td></tr><tr><td class='lc  ar '>47</td><td class='  al '>SPY</td><td class='  ar '>682</td><td class='  al '>Josh</td></tr><tr><td class='lc  ar '>48</td><td class='  al '>TSLA</td><td class='  ar '>637</td><td class='  al '>Elon</td></tr><tr><td class='lc  ar '>49</td><td class='  al '>SPY</td><td class='  ar '>140</td><td class='  al '>Josh</td></tr></tbody></table></body></html>\n",
       "\n",
       "[50 rows x 3 columns] total bytes: 900.0 B"
      ]
     },
     "execution_count": 12,
     "metadata": {},
     "output_type": "execute_result"
    }
   ],
   "source": [
    "# Create a right Dataset with an extra symbol key ('MSFT').\n",
    "ds_symbol_trader2 = rt.Dataset({'Symbol': ['GME', 'TSLA', 'SPY', 'AMZN', 'MSFT'], \n",
    "                           'Trader': ['Nate', 'Elon', 'Josh', 'Dan', 'Lauren']})\n",
    "                           \n",
    "# Change 'UnderlyingSymbol' back to 'Symbol' for simplicity.\n",
    "ds_symbol_trader.col_rename('UnderlyingSymbol', 'Symbol')\n",
    "\n",
    "ds.merge_lookup(ds_symbol_trader2, on='Symbol', columns_right='Trader')._A"
   ]
  },
  {
   "cell_type": "markdown",
   "id": "6db40aa1-a916-40ad-bc32-80d4929f8ba6",
   "metadata": {},
   "source": [
    "The 'MSFT' key, which appears only in the right Dataset, is ignored."
   ]
  },
  {
   "cell_type": "markdown",
   "id": "8150f829-208b-4a95-ae8d-140bf6dbdad4",
   "metadata": {},
   "source": [
    "### `merge_lookup()` with Overlapping Columns That Aren't Keys"
   ]
  },
  {
   "cell_type": "markdown",
   "id": "087e5a18-6751-438b-9a21-57cafd73b68d",
   "metadata": {},
   "source": [
    "As we saw above, if the two key columns have the same name in both Datasets, only one is kept. For columns that aren't used as keys, you'll get a name collision error when you try to merge. "
   ]
  },
  {
   "cell_type": "code",
   "execution_count": 13,
   "id": "8ca14387-65a0-4e01-b907-9c9e4cba1b89",
   "metadata": {},
   "outputs": [],
   "source": [
    "try:\n",
    "    rt.merge_lookup(ds, ds_symbol_trader, on='Symbol')\n",
    "except ValueError as e:\n",
    "    print(\"ValueError:\", e)"
   ]
  },
  {
   "cell_type": "markdown",
   "id": "327fedbe-3528-4af1-86ca-721d63a23fe3",
   "metadata": {},
   "source": [
    "If you want to keep both columns, add a suffix to each column name to disambiguate them."
   ]
  },
  {
   "cell_type": "code",
   "execution_count": 14,
   "id": "0e7416cb",
   "metadata": {},
   "outputs": [
    {
     "data": {
      "text/html": [
       "<html><head><style>table.tbl-3192 tbody td{white-space: nowrap;}table.tbl-3192 .lc{font-weight:bold;background-color: var( --jp-rendermime-table-row-hover-background);}table.tbl-3192 .lg{background-color: #66da9940;}table.tbl-3192 .lp{font-weight:bold;background-color: #ac66da40;}table.tbl-3192 .msc{font-weight:normal;background-color:#00000011;}table.tbl-3192 .al{text-align:left;}table.tbl-3192 .ar{text-align:right;}table.tbl-3192 .ac{text-align:center;}table.tbl-3192 .bld{font-weight:bold;}table.tbl-3192 .it{font-style:italic;}table.tbl-3192 .ul{text-decoration:underline;}table.tbl-3192 .st{text-decoration:line-through;}</style></head><body><table class='tbl-3192'><thead><tr><td class='lc bld ar'>  #</td><td class='lc bld al'>Symbol</td><td class='lc bld ar'>Size_1</td><td class='lc bld al'>Trader</td><td class='lc bld ar'>Size_2</td></tr></thead><tbody><tr><td class='lc  ar '>0</td><td class='  al '>GME</td><td class='  ar '>760</td><td class='  al '>Nate</td><td class='  ar '>832</td></tr><tr><td class='lc  ar '>1</td><td class='  al '>SPY</td><td class='  ar '>195</td><td class='  al '>Josh</td><td class='  ar '>805</td></tr><tr><td class='lc  ar '>2</td><td class='  al '>TSLA</td><td class='  ar '>364</td><td class='  al '>Elon</td><td class='  ar '>200</td></tr><tr><td class='lc  ar '>3</td><td class='  al '>AMZN</td><td class='  ar '>467</td><td class='  al '>Dan</td><td class='  ar '>8</td></tr><tr><td class='lc  ar '>4</td><td class='  al '>AMZN</td><td class='  ar '>498</td><td class='  al '>Dan</td><td class='  ar '>8</td></tr><tr><td class='lc  ar '>5</td><td class='  al '>SPY</td><td class='  ar '>44</td><td class='  al '>Josh</td><td class='  ar '>805</td></tr><tr><td class='lc  ar '>6</td><td class='  al '>GME</td><td class='  ar '>547</td><td class='  al '>Nate</td><td class='  ar '>832</td></tr><tr><td class='lc  ar '>7</td><td class='  al '>TSLA</td><td class='  ar '>155</td><td class='  al '>Elon</td><td class='  ar '>200</td></tr><tr><td class='lc  ar '>8</td><td class='  al '>GME</td><td class='  ar '>743</td><td class='  al '>Nate</td><td class='  ar '>832</td></tr><tr><td class='lc  ar '>9</td><td class='  al '>GME</td><td class='  ar '>683</td><td class='  al '>Nate</td><td class='  ar '>832</td></tr><tr><td class='lc  ar '>10</td><td class='  al '>TSLA</td><td class='  ar '>922</td><td class='  al '>Elon</td><td class='  ar '>200</td></tr><tr><td class='lc  ar '>11</td><td class='  al '>SPY</td><td class='  ar '>745</td><td class='  al '>Josh</td><td class='  ar '>805</td></tr><tr><td class='lc  ar '>12</td><td class='  al '>TSLA</td><td class='  ar '>367</td><td class='  al '>Elon</td><td class='  ar '>200</td></tr><tr><td class='lc  ar '>13</td><td class='  al '>SPY</td><td class='  ar '>967</td><td class='  al '>Josh</td><td class='  ar '>805</td></tr><tr><td class='lc  ar '>14</td><td class='  al '>TSLA</td><td class='  ar '>411</td><td class='  al '>Elon</td><td class='  ar '>200</td></tr><tr><td class='lc  ar '>...</td><td class='  al '>...</td><td class='  ar '>...</td><td class='  al '>...</td><td class='  ar '>...</td></tr><tr><td class='lc  ar '>35</td><td class='  al '>GME</td><td class='  ar '>700</td><td class='  al '>Nate</td><td class='  ar '>832</td></tr><tr><td class='lc  ar '>36</td><td class='  al '>SPY</td><td class='  ar '>98</td><td class='  al '>Josh</td><td class='  ar '>805</td></tr><tr><td class='lc  ar '>37</td><td class='  al '>SPY</td><td class='  ar '>313</td><td class='  al '>Josh</td><td class='  ar '>805</td></tr><tr><td class='lc  ar '>38</td><td class='  al '>AMZN</td><td class='  ar '>768</td><td class='  al '>Dan</td><td class='  ar '>8</td></tr><tr><td class='lc  ar '>39</td><td class='  al '>TSLA</td><td class='  ar '>832</td><td class='  al '>Elon</td><td class='  ar '>200</td></tr><tr><td class='lc  ar '>40</td><td class='  al '>GME</td><td class='  ar '>435</td><td class='  al '>Nate</td><td class='  ar '>832</td></tr><tr><td class='lc  ar '>41</td><td class='  al '>SPY</td><td class='  ar '>804</td><td class='  al '>Josh</td><td class='  ar '>805</td></tr><tr><td class='lc  ar '>42</td><td class='  al '>TSLA</td><td class='  ar '>841</td><td class='  al '>Elon</td><td class='  ar '>200</td></tr><tr><td class='lc  ar '>43</td><td class='  al '>AMZN</td><td class='  ar '>388</td><td class='  al '>Dan</td><td class='  ar '>8</td></tr><tr><td class='lc  ar '>44</td><td class='  al '>GME</td><td class='  ar '>898</td><td class='  al '>Nate</td><td class='  ar '>832</td></tr><tr><td class='lc  ar '>45</td><td class='  al '>SPY</td><td class='  ar '>289</td><td class='  al '>Josh</td><td class='  ar '>805</td></tr><tr><td class='lc  ar '>46</td><td class='  al '>AMZN</td><td class='  ar '>240</td><td class='  al '>Dan</td><td class='  ar '>8</td></tr><tr><td class='lc  ar '>47</td><td class='  al '>SPY</td><td class='  ar '>682</td><td class='  al '>Josh</td><td class='  ar '>805</td></tr><tr><td class='lc  ar '>48</td><td class='  al '>TSLA</td><td class='  ar '>637</td><td class='  al '>Elon</td><td class='  ar '>200</td></tr><tr><td class='lc  ar '>49</td><td class='  al '>SPY</td><td class='  ar '>140</td><td class='  al '>Josh</td><td class='  ar '>805</td></tr></tbody></table></body></html>\n",
       "\n",
       "[50 rows x 4 columns] total bytes: 1.2 KB"
      ],
      "text/plain": []
     },
     "execution_count": 14,
     "metadata": {},
     "output_type": "execute_result"
    }
   ],
   "source": [
    "# Add a Size column to the right Dataset\n",
    "ds_symbol_trader.Size = rng.integers(1, 1000, 4)\n",
    "\n",
    "rt.merge_lookup(ds, ds_symbol_trader, on='Symbol', suffixes=('_1', '_2'))"
   ]
  },
  {
   "cell_type": "markdown",
   "id": "0e16dc9d-6ef7-41b3-8f22-216415167578",
   "metadata": {},
   "source": [
    "### `merge_lookup()` with a Right Dataset That Has Duplicate Keys"
   ]
  },
  {
   "cell_type": "markdown",
   "id": "ec9c85ff-ce93-4910-9a97-ca40247fcd60",
   "metadata": {},
   "source": [
    "If the right Dataset has more than one match for a unique key in the left Dataset, you can specify whether to use the first or the last match encountered in the right Dataset."
   ]
  },
  {
   "cell_type": "code",
   "execution_count": 15,
   "id": "c714ecb7-2614-476f-a55d-0533a7b1b2e6",
   "metadata": {},
   "outputs": [
    {
     "data": {
      "text/html": [
       "<html><head><style>table.tbl-2447 tbody td{white-space: nowrap;}table.tbl-2447 .lc{font-weight:bold;background-color: var( --jp-rendermime-table-row-hover-background);}table.tbl-2447 .lg{background-color: #66da9940;}table.tbl-2447 .lp{font-weight:bold;background-color: #ac66da40;}table.tbl-2447 .msc{font-weight:normal;background-color:#00000011;}table.tbl-2447 .al{text-align:left;}table.tbl-2447 .ar{text-align:right;}table.tbl-2447 .ac{text-align:center;}table.tbl-2447 .bld{font-weight:bold;}table.tbl-2447 .it{font-style:italic;}table.tbl-2447 .ul{text-decoration:underline;}table.tbl-2447 .st{text-decoration:line-through;}</style></head><body><table class='tbl-2447'><thead><tr><td class='lc bld ar'>#</td><td class='lc bld al'>Symbol</td><td class='lc bld al'>Trader</td></tr></thead><tbody><tr><td class='lc  ar '>0</td><td class='  al '>GME</td><td class='  al '>Nate</td></tr><tr><td class='lc  ar '>1</td><td class='  al '>TSLA</td><td class='  al '>Elon</td></tr><tr><td class='lc  ar '>2</td><td class='  al '>SPY</td><td class='  al '>Josh</td></tr><tr><td class='lc  ar '>3</td><td class='  al '>AMZN</td><td class='  al '>Dan</td></tr><tr><td class='lc  ar '>4</td><td class='  al '>GME</td><td class='  al '>Lauren</td></tr></tbody></table></body></html>\n",
       "\n",
       "[5 rows x 2 columns] total bytes: 50.0 B"
      ],
      "text/plain": []
     },
     "execution_count": 15,
     "metadata": {},
     "output_type": "execute_result"
    }
   ],
   "source": [
    "# Create a right Dataset with a second GME key, associated to Lauren\n",
    "ds_symbol_trader3 = rt.Dataset({'Symbol': ['GME', 'TSLA', 'SPY', 'AMZN', 'GME'], \n",
    "                           'Trader': ['Nate', 'Elon', 'Josh', 'Dan', 'Lauren']})\n",
    "\n",
    "ds_symbol_trader3"
   ]
  },
  {
   "cell_type": "markdown",
   "id": "ee934763-7990-48f3-b8f7-d4a6bc07c603",
   "metadata": {},
   "source": [
    "We'll keep the last match."
   ]
  },
  {
   "cell_type": "code",
   "execution_count": 16,
   "id": "95e3c039-198f-42a7-beee-275f297acc2c",
   "metadata": {},
   "outputs": [
    {
     "data": {
      "text/html": [
       "<html><head><style>table.tbl-8998 tbody td{white-space: nowrap;}table.tbl-8998 .lc{font-weight:bold;background-color: var( --jp-rendermime-table-row-hover-background);}table.tbl-8998 .lg{background-color: #66da9940;}table.tbl-8998 .lp{font-weight:bold;background-color: #ac66da40;}table.tbl-8998 .msc{font-weight:normal;background-color:#00000011;}table.tbl-8998 .al{text-align:left;}table.tbl-8998 .ar{text-align:right;}table.tbl-8998 .ac{text-align:center;}table.tbl-8998 .bld{font-weight:bold;}table.tbl-8998 .it{font-style:italic;}table.tbl-8998 .ul{text-decoration:underline;}table.tbl-8998 .st{text-decoration:line-through;}</style></head><body><table class='tbl-8998'><thead><tr><td class='lc bld ar'>  #</td><td class='lc bld al'>Symbol</td><td class='lc bld ar'>Size</td><td class='lc bld al'>Trader</td></tr></thead><tbody><tr><td class='lc  ar '>0</td><td class='  al '>GME</td><td class='  ar '>760</td><td class='  al '>Lauren</td></tr><tr><td class='lc  ar '>1</td><td class='  al '>SPY</td><td class='  ar '>195</td><td class='  al '>Josh</td></tr><tr><td class='lc  ar '>2</td><td class='  al '>TSLA</td><td class='  ar '>364</td><td class='  al '>Elon</td></tr><tr><td class='lc  ar '>3</td><td class='  al '>AMZN</td><td class='  ar '>467</td><td class='  al '>Dan</td></tr><tr><td class='lc  ar '>4</td><td class='  al '>AMZN</td><td class='  ar '>498</td><td class='  al '>Dan</td></tr><tr><td class='lc  ar '>5</td><td class='  al '>SPY</td><td class='  ar '>44</td><td class='  al '>Josh</td></tr><tr><td class='lc  ar '>6</td><td class='  al '>GME</td><td class='  ar '>547</td><td class='  al '>Lauren</td></tr><tr><td class='lc  ar '>7</td><td class='  al '>TSLA</td><td class='  ar '>155</td><td class='  al '>Elon</td></tr><tr><td class='lc  ar '>8</td><td class='  al '>GME</td><td class='  ar '>743</td><td class='  al '>Lauren</td></tr><tr><td class='lc  ar '>9</td><td class='  al '>GME</td><td class='  ar '>683</td><td class='  al '>Lauren</td></tr><tr><td class='lc  ar '>10</td><td class='  al '>TSLA</td><td class='  ar '>922</td><td class='  al '>Elon</td></tr><tr><td class='lc  ar '>11</td><td class='  al '>SPY</td><td class='  ar '>745</td><td class='  al '>Josh</td></tr><tr><td class='lc  ar '>12</td><td class='  al '>TSLA</td><td class='  ar '>367</td><td class='  al '>Elon</td></tr><tr><td class='lc  ar '>13</td><td class='  al '>SPY</td><td class='  ar '>967</td><td class='  al '>Josh</td></tr><tr><td class='lc  ar '>14</td><td class='  al '>TSLA</td><td class='  ar '>411</td><td class='  al '>Elon</td></tr><tr><td class='lc  ar '>...</td><td class='  al '>...</td><td class='  ar '>...</td><td class='  al '>...</td></tr><tr><td class='lc  ar '>35</td><td class='  al '>GME</td><td class='  ar '>700</td><td class='  al '>Lauren</td></tr><tr><td class='lc  ar '>36</td><td class='  al '>SPY</td><td class='  ar '>98</td><td class='  al '>Josh</td></tr><tr><td class='lc  ar '>37</td><td class='  al '>SPY</td><td class='  ar '>313</td><td class='  al '>Josh</td></tr><tr><td class='lc  ar '>38</td><td class='  al '>AMZN</td><td class='  ar '>768</td><td class='  al '>Dan</td></tr><tr><td class='lc  ar '>39</td><td class='  al '>TSLA</td><td class='  ar '>832</td><td class='  al '>Elon</td></tr><tr><td class='lc  ar '>40</td><td class='  al '>GME</td><td class='  ar '>435</td><td class='  al '>Lauren</td></tr><tr><td class='lc  ar '>41</td><td class='  al '>SPY</td><td class='  ar '>804</td><td class='  al '>Josh</td></tr><tr><td class='lc  ar '>42</td><td class='  al '>TSLA</td><td class='  ar '>841</td><td class='  al '>Elon</td></tr><tr><td class='lc  ar '>43</td><td class='  al '>AMZN</td><td class='  ar '>388</td><td class='  al '>Dan</td></tr><tr><td class='lc  ar '>44</td><td class='  al '>GME</td><td class='  ar '>898</td><td class='  al '>Lauren</td></tr><tr><td class='lc  ar '>45</td><td class='  al '>SPY</td><td class='  ar '>289</td><td class='  al '>Josh</td></tr><tr><td class='lc  ar '>46</td><td class='  al '>AMZN</td><td class='  ar '>240</td><td class='  al '>Dan</td></tr><tr><td class='lc  ar '>47</td><td class='  al '>SPY</td><td class='  ar '>682</td><td class='  al '>Josh</td></tr><tr><td class='lc  ar '>48</td><td class='  al '>TSLA</td><td class='  ar '>637</td><td class='  al '>Elon</td></tr><tr><td class='lc  ar '>49</td><td class='  al '>SPY</td><td class='  ar '>140</td><td class='  al '>Josh</td></tr></tbody></table></body></html>\n",
       "\n",
       "[50 rows x 3 columns] total bytes: 900.0 B"
      ],
      "text/plain": []
     },
     "execution_count": 16,
     "metadata": {},
     "output_type": "execute_result"
    }
   ],
   "source": [
    "ds.merge_lookup(ds_symbol_trader3, on='Symbol', columns_right='Trader', keep='last')"
   ]
  },
  {
   "cell_type": "markdown",
   "id": "2a4c2618-4092-4d95-b0b7-448844e6c407",
   "metadata": {},
   "source": [
    "## `merge_asof()`"
   ]
  },
  {
   "cell_type": "markdown",
   "id": "49c3a170",
   "metadata": {},
   "source": [
    "In a `merge_asof()`, Riptable matches on the nearest key rather than an equal key. \n",
    "\n",
    "This is useful for merges based on keys that are times, where the times in one Dataset are not an exact match for the times in another Dataset, but they're close enough to be used to merge the data. \n",
    "\n",
    "Note: To most efficiently find the nearest match, `merge_asof()` requires both key columns to be sorted. The key columns must also be numeric, such as a datetime, integer, or float. You can check whether a column is sorted with `issorted()`, or just sort it using `sort_inplace()`. (If the key columns aren't sorted, Riptable will give you an error when you try to merge.)\n",
    "\n",
    "With `merge_asof()`, you need to specify how you want to find the closest match:\n",
    "- `direction='forward'` matches based on the closest key in the right Dataset that's greater than the key in the left Dataset.\n",
    "- `direction='backward'` matches based on the closest key in the right Dataset that's less than the key in the left Dataset.\n",
    "- `direction='nearest'` matches based on the closest key in the right Dataset, regardless of whether it's greater than or less than the key in the left Dataset.\n",
    "\n",
    "Let's see an example based on closest times. The left Dataset has three trades and their times. The right Dataset has spot prices and times that are not all exact matches. We'll merge the spot prices from the right Dataset by getting the values associated with the nearest earlier times."
   ]
  },
  {
   "cell_type": "code",
   "execution_count": 17,
   "id": "5f3c5318",
   "metadata": {},
   "outputs": [],
   "source": [
    "# Left Dataset with trades and times\n",
    "ds = rt.Dataset({'Symbol': ['AAPL', 'AMZN', 'AAPL'], \n",
    "                 'Venue': ['A', 'I', 'A'],\n",
    "                 'Time': rt.TimeSpan(['09:30', '10:00', '10:20'])})\n",
    "\n",
    "# Right Dataset with spot prices and nearby times\n",
    "spot_ds = rt.Dataset({'Symbol': ['AMZN', 'AMZN', 'AMZN', 'AAPL', 'AAPL', 'AAPL'],\n",
    "                      'Spot Price': [2000.0, 2025.0, 2030.0, 500.0, 510.0, 520.0],\n",
    "                      'Time': rt.TimeSpan(['09:30', '10:00', '10:25', '09:25', '10:00', '10:21'])})"
   ]
  },
  {
   "cell_type": "code",
   "execution_count": 18,
   "id": "7dc9c2c0-a3d5-4735-b40e-66a48f446a4d",
   "metadata": {},
   "outputs": [
    {
     "data": {
      "text/html": [
       "<html><head><style>table.tbl-153 tbody td{white-space: nowrap;}table.tbl-153 .lc{font-weight:bold;background-color: var( --jp-rendermime-table-row-hover-background);}table.tbl-153 .lg{background-color: #66da9940;}table.tbl-153 .lp{font-weight:bold;background-color: #ac66da40;}table.tbl-153 .msc{font-weight:normal;background-color:#00000011;}table.tbl-153 .al{text-align:left;}table.tbl-153 .ar{text-align:right;}table.tbl-153 .ac{text-align:center;}table.tbl-153 .bld{font-weight:bold;}table.tbl-153 .it{font-style:italic;}table.tbl-153 .ul{text-decoration:underline;}table.tbl-153 .st{text-decoration:line-through;}</style></head><body><table class='tbl-153'><thead><tr><td class='lc bld ar'>#</td><td class='lc bld al'>Symbol</td><td class='lc bld al'>Venue</td><td class='lc bld ar'>              Time</td></tr></thead><tbody><tr><td class='lc  ar '>0</td><td class='  al '>AAPL</td><td class='  al '>A</td><td class='  ar '>09:30:00.000000000</td></tr><tr><td class='lc  ar '>1</td><td class='  al '>AMZN</td><td class='  al '>I</td><td class='  ar '>10:00:00.000000000</td></tr><tr><td class='lc  ar '>2</td><td class='  al '>AAPL</td><td class='  al '>A</td><td class='  ar '>10:20:00.000000000</td></tr></tbody></table></body></html>\n",
       "\n",
       "[3 rows x 3 columns] total bytes: 39.0 B"
      ],
      "text/plain": []
     },
     "execution_count": 18,
     "metadata": {},
     "output_type": "execute_result"
    }
   ],
   "source": [
    "ds"
   ]
  },
  {
   "cell_type": "code",
   "execution_count": 19,
   "id": "6ac816bd-9598-42bf-a7a0-44ab301772d5",
   "metadata": {},
   "outputs": [
    {
     "data": {
      "text/html": [
       "<html><head><style>table.tbl-1283 tbody td{white-space: nowrap;}table.tbl-1283 .lc{font-weight:bold;background-color: var( --jp-rendermime-table-row-hover-background);}table.tbl-1283 .lg{background-color: #66da9940;}table.tbl-1283 .lp{font-weight:bold;background-color: #ac66da40;}table.tbl-1283 .msc{font-weight:normal;background-color:#00000011;}table.tbl-1283 .al{text-align:left;}table.tbl-1283 .ar{text-align:right;}table.tbl-1283 .ac{text-align:center;}table.tbl-1283 .bld{font-weight:bold;}table.tbl-1283 .it{font-style:italic;}table.tbl-1283 .ul{text-decoration:underline;}table.tbl-1283 .st{text-decoration:line-through;}</style></head><body><table class='tbl-1283'><thead><tr><td class='lc bld ar'>#</td><td class='lc bld al'>Symbol</td><td class='lc bld ar'>Spot Price</td><td class='lc bld ar'>              Time</td></tr></thead><tbody><tr><td class='lc  ar '>0</td><td class='  al '>AMZN</td><td class='  ar '>2,000.00</td><td class='  ar '>09:30:00.000000000</td></tr><tr><td class='lc  ar '>1</td><td class='  al '>AMZN</td><td class='  ar '>2,025.00</td><td class='  ar '>10:00:00.000000000</td></tr><tr><td class='lc  ar '>2</td><td class='  al '>AMZN</td><td class='  ar '>2,030.00</td><td class='  ar '>10:25:00.000000000</td></tr><tr><td class='lc  ar '>3</td><td class='  al '>AAPL</td><td class='  ar '>500.00</td><td class='  ar '>09:25:00.000000000</td></tr><tr><td class='lc  ar '>4</td><td class='  al '>AAPL</td><td class='  ar '>510.00</td><td class='  ar '>10:00:00.000000000</td></tr><tr><td class='lc  ar '>5</td><td class='  al '>AAPL</td><td class='  ar '>520.00</td><td class='  ar '>10:21:00.000000000</td></tr></tbody></table></body></html>\n",
       "\n",
       "[6 rows x 3 columns] total bytes: 120.0 B"
      ],
      "text/plain": []
     },
     "execution_count": 19,
     "metadata": {},
     "output_type": "execute_result"
    }
   ],
   "source": [
    "spot_ds"
   ]
  },
  {
   "cell_type": "markdown",
   "id": "91935dda-2705-4a9c-b487-da0b8e56ec33",
   "metadata": {},
   "source": [
    "But first, we need to make sure both Datasets are sorted by the key columns -- in this case, the Time columns. It looks like `ds` has sorted times, but `spot_ds` doesn't."
   ]
  },
  {
   "cell_type": "code",
   "execution_count": 20,
   "id": "271eac3c",
   "metadata": {},
   "outputs": [
    {
     "data": {
      "text/html": [
       "<html><head><style>table.tbl-3138 tbody td{white-space: nowrap;}table.tbl-3138 .lc{font-weight:bold;background-color: var( --jp-rendermime-table-row-hover-background);}table.tbl-3138 .lg{background-color: #66da9940;}table.tbl-3138 .lp{font-weight:bold;background-color: #ac66da40;}table.tbl-3138 .msc{font-weight:normal;background-color:#00000011;}table.tbl-3138 .al{text-align:left;}table.tbl-3138 .ar{text-align:right;}table.tbl-3138 .ac{text-align:center;}table.tbl-3138 .bld{font-weight:bold;}table.tbl-3138 .it{font-style:italic;}table.tbl-3138 .ul{text-decoration:underline;}table.tbl-3138 .st{text-decoration:line-through;}</style></head><body><table class='tbl-3138'><thead><tr><td class='lc bld ar'>#</td><td class='lc bld al'>Symbol</td><td class='lc bld ar'>Spot Price</td><td class='lc bld ar'>              Time</td></tr></thead><tbody><tr><td class='lc  ar '>0</td><td class='  al '>AAPL</td><td class='  ar '>500.00</td><td class='  ar '>09:25:00.000000000</td></tr><tr><td class='lc  ar '>1</td><td class='  al '>AMZN</td><td class='  ar '>2,000.00</td><td class='  ar '>09:30:00.000000000</td></tr><tr><td class='lc  ar '>2</td><td class='  al '>AMZN</td><td class='  ar '>2,025.00</td><td class='  ar '>10:00:00.000000000</td></tr><tr><td class='lc  ar '>3</td><td class='  al '>AAPL</td><td class='  ar '>510.00</td><td class='  ar '>10:00:00.000000000</td></tr><tr><td class='lc  ar '>4</td><td class='  al '>AAPL</td><td class='  ar '>520.00</td><td class='  ar '>10:21:00.000000000</td></tr><tr><td class='lc  ar '>5</td><td class='  al '>AMZN</td><td class='  ar '>2,030.00</td><td class='  ar '>10:25:00.000000000</td></tr></tbody></table></body></html>\n",
       "\n",
       "[6 rows x 3 columns] total bytes: 120.0 B"
      ],
      "text/plain": []
     },
     "execution_count": 20,
     "metadata": {},
     "output_type": "execute_result"
    }
   ],
   "source": [
    "spot_ds.sort_inplace('Time')"
   ]
  },
  {
   "cell_type": "markdown",
   "id": "77a67cbd",
   "metadata": {},
   "source": [
    "Now we can merge based on the nearest earlier time. But not just any nearest earlier time -- we want to make sure it's the nearest earlier time associated with the same symbol. We use the optional `by` parameter to make sure we match on the symbol before getting the nearest earlier time."
   ]
  },
  {
   "cell_type": "code",
   "execution_count": 21,
   "id": "f9c58b1b",
   "metadata": {},
   "outputs": [
    {
     "data": {
      "text/html": [
       "<html><head><style>table.tbl-5222 tbody td{white-space: nowrap;}table.tbl-5222 .lc{font-weight:bold;background-color: var( --jp-rendermime-table-row-hover-background);}table.tbl-5222 .lg{background-color: #66da9940;}table.tbl-5222 .lp{font-weight:bold;background-color: #ac66da40;}table.tbl-5222 .msc{font-weight:normal;background-color:#00000011;}table.tbl-5222 .al{text-align:left;}table.tbl-5222 .ar{text-align:right;}table.tbl-5222 .ac{text-align:center;}table.tbl-5222 .bld{font-weight:bold;}table.tbl-5222 .it{font-style:italic;}table.tbl-5222 .ul{text-decoration:underline;}table.tbl-5222 .st{text-decoration:line-through;}</style></head><body><table class='tbl-5222'><thead><tr><td class='lc bld ar'>#</td><td class='lc bld ar'>              Time</td><td class='lc bld al'>Symbol</td><td class='lc bld al'>Venue</td><td class='lc bld ar'>Spot Price</td></tr></thead><tbody><tr><td class='lc  ar '>0</td><td class='  ar '>09:30:00.000000000</td><td class='  al '>AAPL</td><td class='  al '>A</td><td class='  ar '>500.00</td></tr><tr><td class='lc  ar '>1</td><td class='  ar '>10:00:00.000000000</td><td class='  al '>AMZN</td><td class='  al '>I</td><td class='  ar '>2,025.00</td></tr><tr><td class='lc  ar '>2</td><td class='  ar '>10:20:00.000000000</td><td class='  al '>AAPL</td><td class='  al '>A</td><td class='  ar '>510.00</td></tr></tbody></table></body></html>\n",
       "\n",
       "[3 rows x 4 columns] total bytes: 63.0 B"
      ],
      "text/plain": []
     },
     "execution_count": 21,
     "metadata": {},
     "output_type": "execute_result"
    }
   ],
   "source": [
    "ds.merge_asof(spot_ds, on='Time', by='Symbol', direction='backward')"
   ]
  },
  {
   "cell_type": "markdown",
   "id": "dcd146c1",
   "metadata": {},
   "source": [
    "We can see that both AAPL trades were matched based on the nearest earlier time.\n",
    "\n",
    "Merge based on the nearest later time:"
   ]
  },
  {
   "cell_type": "code",
   "execution_count": 22,
   "id": "06efeb02",
   "metadata": {},
   "outputs": [
    {
     "data": {
      "text/html": [
       "<html><head><style>table.tbl-9710 tbody td{white-space: nowrap;}table.tbl-9710 .lc{font-weight:bold;background-color: var( --jp-rendermime-table-row-hover-background);}table.tbl-9710 .lg{background-color: #66da9940;}table.tbl-9710 .lp{font-weight:bold;background-color: #ac66da40;}table.tbl-9710 .msc{font-weight:normal;background-color:#00000011;}table.tbl-9710 .al{text-align:left;}table.tbl-9710 .ar{text-align:right;}table.tbl-9710 .ac{text-align:center;}table.tbl-9710 .bld{font-weight:bold;}table.tbl-9710 .it{font-style:italic;}table.tbl-9710 .ul{text-decoration:underline;}table.tbl-9710 .st{text-decoration:line-through;}</style></head><body><table class='tbl-9710'><thead><tr><td class='lc bld ar'>#</td><td class='lc bld ar'>              Time</td><td class='lc bld al'>Symbol</td><td class='lc bld al'>Venue</td><td class='lc bld ar'>Spot Price</td></tr></thead><tbody><tr><td class='lc  ar '>0</td><td class='  ar '>09:30:00.000000000</td><td class='  al '>AAPL</td><td class='  al '>A</td><td class='  ar '>510.00</td></tr><tr><td class='lc  ar '>1</td><td class='  ar '>10:00:00.000000000</td><td class='  al '>AMZN</td><td class='  al '>I</td><td class='  ar '>2,025.00</td></tr><tr><td class='lc  ar '>2</td><td class='  ar '>10:20:00.000000000</td><td class='  al '>AAPL</td><td class='  al '>A</td><td class='  ar '>520.00</td></tr></tbody></table></body></html>\n",
       "\n",
       "[3 rows x 4 columns] total bytes: 63.0 B"
      ],
      "text/plain": []
     },
     "execution_count": 22,
     "metadata": {},
     "output_type": "execute_result"
    }
   ],
   "source": [
    "ds.merge_asof(spot_ds, on='Time', by='Symbol', direction='forward')"
   ]
  },
  {
   "cell_type": "markdown",
   "id": "a00c4475",
   "metadata": {},
   "source": [
    "Both AAPL trades were matched based on the nearest later time.\n",
    "\n",
    "Here, we get the spot price associated with whatever time is nearest, whether it's earlier or later."
   ]
  },
  {
   "cell_type": "code",
   "execution_count": 23,
   "id": "8ba303c5",
   "metadata": {},
   "outputs": [
    {
     "data": {
      "text/html": [
       "<html><head><style>table.tbl-5282 tbody td{white-space: nowrap;}table.tbl-5282 .lc{font-weight:bold;background-color: var( --jp-rendermime-table-row-hover-background);}table.tbl-5282 .lg{background-color: #66da9940;}table.tbl-5282 .lp{font-weight:bold;background-color: #ac66da40;}table.tbl-5282 .msc{font-weight:normal;background-color:#00000011;}table.tbl-5282 .al{text-align:left;}table.tbl-5282 .ar{text-align:right;}table.tbl-5282 .ac{text-align:center;}table.tbl-5282 .bld{font-weight:bold;}table.tbl-5282 .it{font-style:italic;}table.tbl-5282 .ul{text-decoration:underline;}table.tbl-5282 .st{text-decoration:line-through;}</style></head><body><table class='tbl-5282'><thead><tr><td class='lc bld ar'>#</td><td class='lc bld ar'>              Time</td><td class='lc bld al'>Symbol</td><td class='lc bld al'>Venue</td><td class='lc bld ar'>Spot Price</td></tr></thead><tbody><tr><td class='lc  ar '>0</td><td class='  ar '>09:30:00.000000000</td><td class='  al '>AAPL</td><td class='  al '>A</td><td class='  ar '>500.00</td></tr><tr><td class='lc  ar '>1</td><td class='  ar '>10:00:00.000000000</td><td class='  al '>AMZN</td><td class='  al '>I</td><td class='  ar '>2,025.00</td></tr><tr><td class='lc  ar '>2</td><td class='  ar '>10:20:00.000000000</td><td class='  al '>AAPL</td><td class='  al '>A</td><td class='  ar '>520.00</td></tr></tbody></table></body></html>\n",
       "\n",
       "[3 rows x 4 columns] total bytes: 63.0 B"
      ],
      "text/plain": []
     },
     "execution_count": 23,
     "metadata": {},
     "output_type": "execute_result"
    }
   ],
   "source": [
    "ds.merge_asof(spot_ds, on='Time', by='Symbol', direction='nearest')"
   ]
  },
  {
   "cell_type": "markdown",
   "id": "59b5b9cd-e8e1-4356-8b24-4a7bbedcd119",
   "metadata": {
    "jp-MarkdownHeadingCollapsed": true,
    "tags": []
   },
   "source": [
    "For the first AAPL trade, the nearest time is earlier. For the second AAPL trade, the nearest time is later.\n",
    "\n",
    "\n",
    "We won't spend time on examples of `merge2()`, which is Riptable's more general merge function that does database-style joins (left, right, inner, outer). Check out the API Reference for details."
   ]
  },
  {
   "cell_type": "markdown",
   "id": "f20a246f-4b71-4914-a0d3-90049d8f173b",
   "metadata": {},
   "source": [
    "Next, we'll briefly cover a couple of ways to change the shape of your Dataset: [Reshape Data with Pivot and Transpose](tutorial_reshape.ipynb)."
   ]
  },
  {
   "cell_type": "markdown",
   "id": "242922d2-4664-46b1-919a-45ff31e5afb3",
   "metadata": {},
   "source": [
    "<br>\n",
    "<br>\n",
    "\n",
    "---\n",
    "\n",
    "Questions or comments about this guide? Email RiptableDocumentation@sig.com."
   ]
  }
 ],
 "metadata": {
  "kernelspec": {
   "display_name": "Python 3 (ipykernel)",
   "language": "python",
   "name": "python3"
  },
  "language_info": {
   "codemirror_mode": {
    "name": "ipython",
    "version": 3
   },
   "file_extension": ".py",
   "mimetype": "text/x-python",
   "name": "python",
   "nbconvert_exporter": "python",
   "pygments_lexer": "ipython3",
   "version": "3.9.12"
  }
 },
 "nbformat": 4,
 "nbformat_minor": 5
}
