{
 "cells": [
  {
   "cell_type": "markdown",
   "id": "ac675283-071f-4698-973e-a32c3cf0bc0c",
   "metadata": {},
   "source": [
    "# IO Tools and Working with Other File Types"
   ]
  },
  {
   "cell_type": "code",
   "execution_count": 1,
   "id": "ff6e9022-60e0-4625-a857-43506bc5d00c",
   "metadata": {
    "jp-MarkdownHeadingCollapsed": true,
    "tags": []
   },
   "outputs": [
    {
     "name": "stdout",
     "output_type": "stream",
     "text": [
      "To download this notebook, right click on the link and Save link as...\n"
     ]
    },
    {
     "data": {
      "text/html": [
       "<a href='tutorial_io.ipynb' target='_blank'>tutorial_io.ipynb</a><br>"
      ],
      "text/plain": [
       "X:\\btcache\\scratch\\johnsonc\\jupyter\\Tutorial\\Tutorial_GitLab\\tutorial_io.ipynb"
      ]
     },
     "execution_count": 1,
     "metadata": {},
     "output_type": "execute_result"
    }
   ],
   "source": [
    "# Generate notebook download link\n",
    "from IPython.display import FileLink\n",
    "print('To download this notebook, right click on the link and Save link as...')\n",
    "FileLink('tutorial_io.ipynb')"
   ]
  },
  {
   "cell_type": "code",
   "execution_count": 2,
   "id": "e75213b9-baeb-4e7e-ac17-9a655b433c0d",
   "metadata": {},
   "outputs": [],
   "source": [
    "import riptable as rt\n",
    "import numpy as np\n",
    "import pandas as pd"
   ]
  },
  {
   "cell_type": "code",
   "execution_count": 3,
   "id": "ce8755c3-5d1e-40f0-91cf-a35a76efdd84",
   "metadata": {},
   "outputs": [],
   "source": [
    "# Display all Dataset columns -- the default max is 9.\n",
    "rt.Display.options.COL_ALL = True\n",
    "\n",
    "# Render up to 100MM before showing in scientific notation.\n",
    "rt.Display.options.E_MAX = 100_000_000\n",
    "\n",
    "# Truncate small decimals, rather than showing infinitesimal scientific notation.\n",
    "rt.Display.options.P_THRESHOLD = 0\n",
    "\n",
    "# Put commas in numbers.\n",
    "rt.Display.options.NUMBER_SEPARATOR = True\n",
    "\n",
    "# Turn on Riptable autocomplete (start typing, then press Tab to see options).\n",
    "rt.autocomplete()"
   ]
  },
  {
   "cell_type": "markdown",
   "id": "5ef2ab33-7167-4a40-853e-f30fe169d364",
   "metadata": {},
   "source": [
    "SDS is Riptable's native file format, and it's the only data format fully supported directly within Riptable. That said, there are ways to get data that's in other formats in and out of Riptable."
   ]
  },
  {
   "cell_type": "markdown",
   "id": "dd9e280d-95e2-4de1-a941-118389915fcb",
   "metadata": {},
   "source": [
    "## SDS"
   ]
  },
  {
   "cell_type": "markdown",
   "id": "54bb5a3f",
   "metadata": {},
   "source": [
    "We'll start with the most straightforward case -- saving and loading SDS files. You can save Datasets, FastArrays, or Structs.<!-- (CJ Q: Anything else?) -->\n",
    "\n",
    "Create a Dataset:"
   ]
  },
  {
   "cell_type": "code",
   "execution_count": 4,
   "id": "5989cab9-a72d-4481-b600-a2d9b9ade02b",
   "metadata": {},
   "outputs": [
    {
     "data": {
      "text/html": [
       "<html><head><style>table.tbl-4967 tbody td{white-space: nowrap;}table.tbl-4967 .lc{font-weight:bold;background-color: var( --jp-rendermime-table-row-hover-background);}table.tbl-4967 .lg{background-color: #66da9940;}table.tbl-4967 .lp{font-weight:bold;background-color: #ac66da40;}table.tbl-4967 .msc{font-weight:normal;background-color:#00000011;}table.tbl-4967 .al{text-align:left;}table.tbl-4967 .ar{text-align:right;}table.tbl-4967 .ac{text-align:center;}table.tbl-4967 .bld{font-weight:bold;}table.tbl-4967 .it{font-style:italic;}table.tbl-4967 .ul{text-decoration:underline;}table.tbl-4967 .st{text-decoration:line-through;}</style></head><body><table class='tbl-4967'><thead><tr><td class='lc bld ar'>#</td><td class='lc bld ar'>Ints</td><td class='lc bld ar'>Floats</td><td class='lc bld al'>Categoricals</td></tr></thead><tbody><tr><td class='lc  ar '>0</td><td class='  ar '>0</td><td class='  ar '>0.00</td><td class='  al '>a</td></tr><tr><td class='lc  ar '>1</td><td class='  ar '>1</td><td class='  ar '>0.10</td><td class='  al '>a</td></tr><tr><td class='lc  ar '>2</td><td class='  ar '>2</td><td class='  ar '>0.20</td><td class='  al '>b</td></tr><tr><td class='lc  ar '>3</td><td class='  ar '>3</td><td class='  ar '>0.30</td><td class='  al '>a</td></tr><tr><td class='lc  ar '>4</td><td class='  ar '>4</td><td class='  ar '>0.40</td><td class='  al '>c</td></tr><tr><td class='lc  ar '>5</td><td class='  ar '>5</td><td class='  ar '>0.50</td><td class='  al '>c</td></tr><tr><td class='lc  ar '>6</td><td class='  ar '>6</td><td class='  ar '>0.60</td><td class='  al '>b</td></tr><tr><td class='lc  ar '>7</td><td class='  ar '>7</td><td class='  ar '>0.70</td><td class='  al '>a</td></tr><tr><td class='lc  ar '>8</td><td class='  ar '>8</td><td class='  ar '>0.80</td><td class='  al '>a</td></tr><tr><td class='lc  ar '>9</td><td class='  ar '>9</td><td class='  ar '>0.90</td><td class='  al '>b</td></tr></tbody></table></body></html>\n",
       "\n",
       "[10 rows x 3 columns] total bytes: 133.0 B"
      ],
      "text/plain": [
       "\u001b[1;36m#\u001b[0m   \u001b[1;36mInts\u001b[0m   \u001b[1;36mFloats\u001b[0m   \u001b[1;36mCategoricals\u001b[0m\n",
       "-   ----   ------   ------------\n",
       "\u001b[1;36m0\u001b[0m      0\u001b[0m     0.00\u001b[0m   a           \u001b[0m\n",
       "\u001b[1;36m1\u001b[0m      1\u001b[0m     0.10\u001b[0m   a           \u001b[0m\n",
       "\u001b[1;36m2\u001b[0m      2\u001b[0m     0.20\u001b[0m   b           \u001b[0m\n",
       "\u001b[1;36m3\u001b[0m      3\u001b[0m     0.30\u001b[0m   a           \u001b[0m\n",
       "\u001b[1;36m4\u001b[0m      4\u001b[0m     0.40\u001b[0m   c           \u001b[0m\n",
       "\u001b[1;36m5\u001b[0m      5\u001b[0m     0.50\u001b[0m   c           \u001b[0m\n",
       "\u001b[1;36m6\u001b[0m      6\u001b[0m     0.60\u001b[0m   b           \u001b[0m\n",
       "\u001b[1;36m7\u001b[0m      7\u001b[0m     0.70\u001b[0m   a           \u001b[0m\n",
       "\u001b[1;36m8\u001b[0m      8\u001b[0m     0.80\u001b[0m   a           \u001b[0m\n",
       "\u001b[1;36m9\u001b[0m      9\u001b[0m     0.90\u001b[0m   b           \u001b[0m\n",
       "\n",
       "[10 rows x 3 columns] total bytes: 133.0 B"
      ]
     },
     "execution_count": 4,
     "metadata": {},
     "output_type": "execute_result"
    }
   ],
   "source": [
    "ds = rt.Dataset({'Ints': rt.arange(10, dtype=int), 'Floats': rt.arange(1, step=0.1), \n",
    "                 'Categoricals': rt.Categorical(['a','a','b','a','c','c','b','a','a','b'])})\n",
    "\n",
    "ds"
   ]
  },
  {
   "cell_type": "markdown",
   "id": "f7991c9a",
   "metadata": {},
   "source": [
    "Save the Dataset:"
   ]
  },
  {
   "cell_type": "code",
   "execution_count": 5,
   "id": "ebafbb85",
   "metadata": {},
   "outputs": [],
   "source": [
    "ds.save('ds.sds')"
   ]
  },
  {
   "cell_type": "markdown",
   "id": "5da78e6c",
   "metadata": {},
   "source": [
    "Load the Dataset:"
   ]
  },
  {
   "cell_type": "code",
   "execution_count": 6,
   "id": "5091629c",
   "metadata": {},
   "outputs": [
    {
     "data": {
      "text/html": [
       "<html><head><style>table.tbl-3698 tbody td{white-space: nowrap;}table.tbl-3698 .lc{font-weight:bold;background-color: var( --jp-rendermime-table-row-hover-background);}table.tbl-3698 .lg{background-color: #66da9940;}table.tbl-3698 .lp{font-weight:bold;background-color: #ac66da40;}table.tbl-3698 .msc{font-weight:normal;background-color:#00000011;}table.tbl-3698 .al{text-align:left;}table.tbl-3698 .ar{text-align:right;}table.tbl-3698 .ac{text-align:center;}table.tbl-3698 .bld{font-weight:bold;}table.tbl-3698 .it{font-style:italic;}table.tbl-3698 .ul{text-decoration:underline;}table.tbl-3698 .st{text-decoration:line-through;}</style></head><body><table class='tbl-3698'><thead><tr><td class='lc bld ar'>#</td><td class='lc bld ar'>Ints</td><td class='lc bld ar'>Floats</td><td class='lc bld al'>Categoricals</td></tr></thead><tbody><tr><td class='lc  ar '>0</td><td class='  ar '>0</td><td class='  ar '>0.00</td><td class='  al '>a</td></tr><tr><td class='lc  ar '>1</td><td class='  ar '>1</td><td class='  ar '>0.10</td><td class='  al '>a</td></tr><tr><td class='lc  ar '>2</td><td class='  ar '>2</td><td class='  ar '>0.20</td><td class='  al '>b</td></tr><tr><td class='lc  ar '>3</td><td class='  ar '>3</td><td class='  ar '>0.30</td><td class='  al '>a</td></tr><tr><td class='lc  ar '>4</td><td class='  ar '>4</td><td class='  ar '>0.40</td><td class='  al '>c</td></tr><tr><td class='lc  ar '>5</td><td class='  ar '>5</td><td class='  ar '>0.50</td><td class='  al '>c</td></tr><tr><td class='lc  ar '>6</td><td class='  ar '>6</td><td class='  ar '>0.60</td><td class='  al '>b</td></tr><tr><td class='lc  ar '>7</td><td class='  ar '>7</td><td class='  ar '>0.70</td><td class='  al '>a</td></tr><tr><td class='lc  ar '>8</td><td class='  ar '>8</td><td class='  ar '>0.80</td><td class='  al '>a</td></tr><tr><td class='lc  ar '>9</td><td class='  ar '>9</td><td class='  ar '>0.90</td><td class='  al '>b</td></tr></tbody></table></body></html>\n",
       "\n",
       "[10 rows x 3 columns] total bytes: 133.0 B"
      ],
      "text/plain": []
     },
     "execution_count": 6,
     "metadata": {},
     "output_type": "execute_result"
    }
   ],
   "source": [
    "ds_load_ds = rt.load_sds('ds.sds')\n",
    "\n",
    "ds_load_ds"
   ]
  },
  {
   "cell_type": "markdown",
   "id": "654efd0b",
   "metadata": {},
   "source": [
    "Load a subset of columns:"
   ]
  },
  {
   "cell_type": "code",
   "execution_count": 7,
   "id": "d84a9df6",
   "metadata": {},
   "outputs": [
    {
     "data": {
      "text/html": [
       "<html><head><style>table.tbl-8491 tbody td{white-space: nowrap;}table.tbl-8491 .lc{font-weight:bold;background-color: var( --jp-rendermime-table-row-hover-background);}table.tbl-8491 .lg{background-color: #66da9940;}table.tbl-8491 .lp{font-weight:bold;background-color: #ac66da40;}table.tbl-8491 .msc{font-weight:normal;background-color:#00000011;}table.tbl-8491 .al{text-align:left;}table.tbl-8491 .ar{text-align:right;}table.tbl-8491 .ac{text-align:center;}table.tbl-8491 .bld{font-weight:bold;}table.tbl-8491 .it{font-style:italic;}table.tbl-8491 .ul{text-decoration:underline;}table.tbl-8491 .st{text-decoration:line-through;}</style></head><body><table class='tbl-8491'><thead><tr><td class='lc bld ar'>#</td><td class='lc bld ar'>Ints</td><td class='lc bld al'>Categoricals</td></tr></thead><tbody><tr><td class='lc  ar '>0</td><td class='  ar '>0</td><td class='  al '>a</td></tr><tr><td class='lc  ar '>1</td><td class='  ar '>1</td><td class='  al '>a</td></tr><tr><td class='lc  ar '>2</td><td class='  ar '>2</td><td class='  al '>b</td></tr><tr><td class='lc  ar '>3</td><td class='  ar '>3</td><td class='  al '>a</td></tr><tr><td class='lc  ar '>4</td><td class='  ar '>4</td><td class='  al '>c</td></tr><tr><td class='lc  ar '>5</td><td class='  ar '>5</td><td class='  al '>c</td></tr><tr><td class='lc  ar '>6</td><td class='  ar '>6</td><td class='  al '>b</td></tr><tr><td class='lc  ar '>7</td><td class='  ar '>7</td><td class='  al '>a</td></tr><tr><td class='lc  ar '>8</td><td class='  ar '>8</td><td class='  al '>a</td></tr><tr><td class='lc  ar '>9</td><td class='  ar '>9</td><td class='  al '>b</td></tr></tbody></table></body></html>\n",
       "\n",
       "[10 rows x 2 columns] total bytes: 53.0 B"
      ],
      "text/plain": []
     },
     "execution_count": 7,
     "metadata": {},
     "output_type": "execute_result"
    }
   ],
   "source": [
    "rt.load_sds('ds.sds', include=['Ints', 'Categoricals'])"
   ]
  },
  {
   "cell_type": "markdown",
   "id": "e61804af",
   "metadata": {},
   "source": [
    "Create a FastArray:"
   ]
  },
  {
   "cell_type": "code",
   "execution_count": 8,
   "id": "acff84ea",
   "metadata": {},
   "outputs": [
    {
     "data": {
      "text/plain": [
       "FastArray([0, 1, 2, 3, 4, 5, 6, 7, 8, 9])"
      ]
     },
     "execution_count": 8,
     "metadata": {},
     "output_type": "execute_result"
    }
   ],
   "source": [
    "fa = rt.FastArray(np.arange(10))\n",
    "\n",
    "fa"
   ]
  },
  {
   "cell_type": "markdown",
   "id": "05b77aba",
   "metadata": {},
   "source": [
    "Save the FastArray"
   ]
  },
  {
   "cell_type": "code",
   "execution_count": 9,
   "id": "73d9fba1",
   "metadata": {},
   "outputs": [],
   "source": [
    "fa.save('fa.sds')"
   ]
  },
  {
   "cell_type": "markdown",
   "id": "b4257010",
   "metadata": {},
   "source": [
    "Load the FastArray:"
   ]
  },
  {
   "cell_type": "code",
   "execution_count": 10,
   "id": "040cfc4d",
   "metadata": {},
   "outputs": [
    {
     "data": {
      "text/plain": [
       "FastArray([0, 1, 2, 3, 4, 5, 6, 7, 8, 9], dtype=int32)"
      ]
     },
     "execution_count": 10,
     "metadata": {},
     "output_type": "execute_result"
    }
   ],
   "source": [
    "fa_load_sds = rt.load_sds('fa.sds')\n",
    "\n",
    "fa_load_sds"
   ]
  },
  {
   "cell_type": "markdown",
   "id": "a5c9e7cf",
   "metadata": {},
   "source": [
    "Warning: Multi-key Categoricals can't be saved in SDS files. When you try to load the SDS file, it fails with an error: \"Categories dict was empty.\""
   ]
  },
  {
   "cell_type": "markdown",
   "id": "2a6a3e8c-c839-4426-9647-a20351e822fe",
   "metadata": {},
   "source": [
    "## CSV Files"
   ]
  },
  {
   "cell_type": "markdown",
   "id": "6209a8ce",
   "metadata": {},
   "source": [
    "Saving to CSV isn't supported by Riptable, but you can do it by first converting your Riptable Dataset to a Pandas DataFrame, then calling the Pandas `to_csv()` method. Later, you can load your CSV file into Riptable as a Dataset.\n",
    "\n",
    "Note that Categorical information will be lost in the `to_csv()` process. When you load the CSV file into Riptable as a Dataset, any Categorical column will be a FastArray. You can always change the FastArray back into a Categorical in Riptable.\n",
    "\n",
    "The `index` parameter for the `to_csv()` method indicates whether you want to write row (index) names. Because Riptable doesn't use explicit row indexing, set `index=False`.\n",
    "\n",
    "Convert the Dataset to a Pandas DataFrame, then save the DataFrame as a CSV:"
   ]
  },
  {
   "cell_type": "code",
   "execution_count": 11,
   "id": "5b36a9d5",
   "metadata": {},
   "outputs": [],
   "source": [
    "ds.to_pandas().to_csv('ds.csv', index=False)"
   ]
  },
  {
   "cell_type": "markdown",
   "id": "0b9c74bd",
   "metadata": {},
   "source": [
    "Read the CSV a into Pandas DataFrame, then convert the DataFrame to a Riptable Dataset using the Dataset constructor."
   ]
  },
  {
   "cell_type": "code",
   "execution_count": 12,
   "id": "9afa7dda-a94b-4b1a-adc4-52173d4c0b2b",
   "metadata": {},
   "outputs": [
    {
     "data": {
      "text/html": [
       "<html><head><style>table.tbl-2230 tbody td{white-space: nowrap;}table.tbl-2230 .lc{font-weight:bold;background-color: var( --jp-rendermime-table-row-hover-background);}table.tbl-2230 .lg{background-color: #66da9940;}table.tbl-2230 .lp{font-weight:bold;background-color: #ac66da40;}table.tbl-2230 .msc{font-weight:normal;background-color:#00000011;}table.tbl-2230 .al{text-align:left;}table.tbl-2230 .ar{text-align:right;}table.tbl-2230 .ac{text-align:center;}table.tbl-2230 .bld{font-weight:bold;}table.tbl-2230 .it{font-style:italic;}table.tbl-2230 .ul{text-decoration:underline;}table.tbl-2230 .st{text-decoration:line-through;}</style></head><body><table class='tbl-2230'><thead><tr><td class='lc bld ar'>#</td><td class='lc bld ar'>Ints</td><td class='lc bld ar'>Floats</td><td class='lc bld al'>Categoricals</td></tr></thead><tbody><tr><td class='lc  ar '>0</td><td class='  ar '>0</td><td class='  ar '>0.00</td><td class='  al '>a</td></tr><tr><td class='lc  ar '>1</td><td class='  ar '>1</td><td class='  ar '>0.10</td><td class='  al '>a</td></tr><tr><td class='lc  ar '>2</td><td class='  ar '>2</td><td class='  ar '>0.20</td><td class='  al '>b</td></tr><tr><td class='lc  ar '>3</td><td class='  ar '>3</td><td class='  ar '>0.30</td><td class='  al '>a</td></tr><tr><td class='lc  ar '>4</td><td class='  ar '>4</td><td class='  ar '>0.40</td><td class='  al '>c</td></tr><tr><td class='lc  ar '>5</td><td class='  ar '>5</td><td class='  ar '>0.50</td><td class='  al '>c</td></tr><tr><td class='lc  ar '>6</td><td class='  ar '>6</td><td class='  ar '>0.60</td><td class='  al '>b</td></tr><tr><td class='lc  ar '>7</td><td class='  ar '>7</td><td class='  ar '>0.70</td><td class='  al '>a</td></tr><tr><td class='lc  ar '>8</td><td class='  ar '>8</td><td class='  ar '>0.80</td><td class='  al '>a</td></tr><tr><td class='lc  ar '>9</td><td class='  ar '>9</td><td class='  ar '>0.90</td><td class='  al '>b</td></tr></tbody></table></body></html>\n",
       "\n",
       "[10 rows x 3 columns] total bytes: 170.0 B"
      ],
      "text/plain": []
     },
     "execution_count": 12,
     "metadata": {},
     "output_type": "execute_result"
    }
   ],
   "source": [
    "ds_from_csv = rt.Dataset(pd.read_csv('ds.csv'))\n",
    "\n",
    "ds_from_csv"
   ]
  },
  {
   "cell_type": "markdown",
   "id": "8b661051",
   "metadata": {},
   "source": [
    "As you can see, the Categorical is now a FastArray."
   ]
  },
  {
   "cell_type": "code",
   "execution_count": 13,
   "id": "a7b8661a",
   "metadata": {},
   "outputs": [
    {
     "data": {
      "text/plain": [
       "FastArray([b'a', b'a', b'b', b'a', b'c', b'c', b'b', b'a', b'a', b'b'],\n",
       "          dtype='|S1')"
      ]
     },
     "execution_count": 13,
     "metadata": {},
     "output_type": "execute_result"
    }
   ],
   "source": [
    "ds_from_csv.Categoricals"
   ]
  },
  {
   "cell_type": "markdown",
   "id": "3c191435",
   "metadata": {},
   "source": [
    "But we can change it back."
   ]
  },
  {
   "cell_type": "code",
   "execution_count": 14,
   "id": "0fc659bb",
   "metadata": {},
   "outputs": [
    {
     "data": {
      "text/plain": [
       "Categorical([a, a, b, a, c, c, b, a, a, b]) Length: 10\n",
       "  FastArray([1, 1, 2, 1, 3, 3, 2, 1, 1, 2], dtype=int8) Base Index: 1\n",
       "  FastArray([b'a', b'b', b'c'], dtype='|S1') Unique count: 3"
      ]
     },
     "execution_count": 14,
     "metadata": {},
     "output_type": "execute_result"
    }
   ],
   "source": [
    "ds_from_csv.Categoricals = rt.Cat(ds_from_csv.Categoricals)\n",
    "\n",
    "ds_from_csv.Categoricals"
   ]
  },
  {
   "cell_type": "markdown",
   "id": "e24fcbc4-a4d7-471b-af45-672092eddb62",
   "metadata": {},
   "source": [
    "## SQL Files"
   ]
  },
  {
   "cell_type": "markdown",
   "id": "74207f70",
   "metadata": {},
   "source": [
    "Working with SQL files and Riptable is much like working with CSV files and Riptable. To save a Riptable Dataset to SQL format, first convert the Dataset to a Pandas DataFrame, then use the Pandas `to_SQL()` method to save it.\n",
    "\n",
    "To get the file back into Riptable, first load it in Pandas as a DataFrame using `read_csv()`, then convert it to a Riptable Dataset."
   ]
  },
  {
   "cell_type": "markdown",
   "id": "c13817c9-c9fe-4295-a471-67f7cf6e5780",
   "metadata": {},
   "source": [
    "## H5 Files"
   ]
  },
  {
   "cell_type": "markdown",
   "id": "d266ffd9",
   "metadata": {},
   "source": [
    "H5 files can be loaded in Riptable using `rt.load_h5()`. To save your data as an H5 file, convert to Pandas and use the Pandas `to_h5()` method."
   ]
  },
  {
   "cell_type": "markdown",
   "id": "a9fdfae3-2634-4a2b-89c1-d74c7a48aa81",
   "metadata": {},
   "source": [
    "## NPY Files"
   ]
  },
  {
   "cell_type": "markdown",
   "id": "dbad6000",
   "metadata": {},
   "source": [
    "Like Pandas, NumPy has various IO tools for saving and loading data. See the [NumPy docs](https://numpy.org/doc/stable/user/basics.io.html?highlight=import) for details. Note that Riptable can initialize Datasets only from NumPy arrays that are record arrays."
   ]
  },
  {
   "cell_type": "markdown",
   "id": "ce7e96a7-bcc5-4466-abc8-d47d2b71398e",
   "metadata": {},
   "source": [
    "## Convert data for Use in Other Libraries"
   ]
  },
  {
   "cell_type": "markdown",
   "id": "4a2326c1",
   "metadata": {},
   "source": [
    "Sometimes, you need to access a function available only in NumPy or Pandas. Here's how to convert a Riptable data structure to its equivalent in NumPy or Pandas, and then back to Riptable.\n",
    "\n",
    "### Riptable FastArray to/from NumPy Array\n",
    "\n",
    "When we first introduced FastArrays, we created one from a NumPy array."
   ]
  },
  {
   "cell_type": "code",
   "execution_count": 15,
   "id": "d71efacc",
   "metadata": {},
   "outputs": [],
   "source": [
    "my_fa = rt.FA(np.array([0.1, 0.2, 0.3]))"
   ]
  },
  {
   "cell_type": "markdown",
   "id": "ae431595",
   "metadata": {},
   "source": [
    "To access a FastArray's underlying NumPy array, use `_np`."
   ]
  },
  {
   "cell_type": "code",
   "execution_count": 16,
   "id": "179f90fd",
   "metadata": {},
   "outputs": [
    {
     "data": {
      "text/plain": [
       "array([0.1, 0.2, 0.3])"
      ]
     },
     "execution_count": 16,
     "metadata": {},
     "output_type": "execute_result"
    }
   ],
   "source": [
    "np_arr = my_fa._np\n",
    "\n",
    "np_arr"
   ]
  },
  {
   "cell_type": "markdown",
   "id": "e560e152-3f87-4467-ba31-946dc1df50bd",
   "metadata": {},
   "source": [
    "This is the same result you'd get in Pandas by calling `Series.values`."
   ]
  },
  {
   "cell_type": "markdown",
   "id": "910a61a2",
   "metadata": {},
   "source": [
    "### Riptable Dataset to/from NumPy Array\n",
    "\n",
    "Converting a Dataset to a 2-dimensional NumPy array is a two-step process. First, use `imatrix_make()` to convert the Dataset to a 2-dimensional FastArray (`imatrix_make()` saves only the values -- your column names will be lost). FastArrays above 1-d are not technically supported by Riptable, so don't stop here! Convert the FastArray to a NumPy array with `._np`."
   ]
  },
  {
   "cell_type": "code",
   "execution_count": 17,
   "id": "530230d8",
   "metadata": {},
   "outputs": [],
   "source": [
    "ds1 = rt.Dataset({'A':[0,6,9], 'B': [1.2,3.1,9.6], 'C':[-1.6,2.7,4.6], 'D': [2.4,6.2,19.2]})"
   ]
  },
  {
   "cell_type": "code",
   "execution_count": 18,
   "id": "6491323b",
   "metadata": {},
   "outputs": [
    {
     "data": {
      "text/plain": [
       "array([[ 0. ,  1.2, -1.6,  2.4],\n",
       "       [ 6. ,  3.1,  2.7,  6.2],\n",
       "       [ 9. ,  9.6,  4.6, 19.2]])"
      ]
     },
     "execution_count": 18,
     "metadata": {},
     "output_type": "execute_result"
    }
   ],
   "source": [
    "np_2d_arr = ds1.imatrix_make()._np\n",
    "\n",
    "np_2d_arr"
   ]
  },
  {
   "cell_type": "markdown",
   "id": "152293cb-4049-43b4-8f44-e5ef11d3b454",
   "metadata": {},
   "source": [
    "A few things to note about `imatrix_make()`:\n",
    "\n",
    "- As noted above, imatrix_make saves only column values, not column names.\n",
    "- Non-numerical columns are ignored.\n",
    "- You can specify which columns to convert: `ds1[['A', 'B']].imatrix_make()._np`\n",
    "- Watch out for integer columns! Since NumPy arrays can't have mixed types, if your `imatrix_make` input contains any float columns, the entire array will be converted to floats. It's also possible that the integers in your original Dataset will be converted. \n",
    "- Also watch out for NaNs in integer columns (\"Inv\"). \"Inv\" is stored internally by Riptable as an out-of-bounds number, and it will be sent to NumPy as that number. See [Working with Missing Data](tutorial_missing_data.ipynb) for more on dealing with NaNs.\n",
    "    \n",
    "To convert a 2-dimensional NumPy array back to Riptable, add it to a Dataset using `add_matrix()`:"
   ]
  },
  {
   "cell_type": "code",
   "execution_count": 19,
   "id": "16b8b18a",
   "metadata": {},
   "outputs": [
    {
     "data": {
      "text/html": [
       "<html><head><style>table.tbl-8367 tbody td{white-space: nowrap;}table.tbl-8367 .lc{font-weight:bold;background-color: var( --jp-rendermime-table-row-hover-background);}table.tbl-8367 .lg{background-color: #66da9940;}table.tbl-8367 .lp{font-weight:bold;background-color: #ac66da40;}table.tbl-8367 .msc{font-weight:normal;background-color:#00000011;}table.tbl-8367 .al{text-align:left;}table.tbl-8367 .ar{text-align:right;}table.tbl-8367 .ac{text-align:center;}table.tbl-8367 .bld{font-weight:bold;}table.tbl-8367 .it{font-style:italic;}table.tbl-8367 .ul{text-decoration:underline;}table.tbl-8367 .st{text-decoration:line-through;}</style></head><body><table class='tbl-8367'><thead><tr><td class='lc bld ar'>#</td><td class='lc bld ar'>col_0</td><td class='lc bld ar'>col_1</td><td class='lc bld ar'>col_2</td><td class='lc bld ar'>col_3</td></tr></thead><tbody><tr><td class='lc  ar '>0</td><td class='  ar '>0.00</td><td class='  ar '>1.20</td><td class='  ar '>-1.60</td><td class='  ar '>2.40</td></tr><tr><td class='lc  ar '>1</td><td class='  ar '>6.00</td><td class='  ar '>3.10</td><td class='  ar '>2.70</td><td class='  ar '>6.20</td></tr><tr><td class='lc  ar '>2</td><td class='  ar '>9.00</td><td class='  ar '>9.60</td><td class='  ar '>4.60</td><td class='  ar '>19.20</td></tr></tbody></table></body></html>\n",
       "\n",
       "[3 rows x 4 columns] total bytes: 96.0 B"
      ],
      "text/plain": []
     },
     "execution_count": 19,
     "metadata": {},
     "output_type": "execute_result"
    }
   ],
   "source": [
    "ds2 = rt.Dataset()\n",
    "ds2.add_matrix(np_2d_arr)\n",
    "\n",
    "ds2"
   ]
  },
  {
   "cell_type": "markdown",
   "id": "f1b36b23",
   "metadata": {},
   "source": [
    "To add it with rows and columns transposed:"
   ]
  },
  {
   "cell_type": "code",
   "execution_count": 20,
   "id": "114a4244",
   "metadata": {},
   "outputs": [
    {
     "name": "stderr",
     "output_type": "stream",
     "text": [
      "C:\\Miniconda\\envs\\johnsonc_py39\\lib\\site-packages\\riptable\\rt_fastarray.py:561: UserWarning: FastArray initialized with strides.\n",
      "  warnings.warn(warning_string)\n"
     ]
    },
    {
     "data": {
      "text/html": [
       "<html><head><style>table.tbl-7943 tbody td{white-space: nowrap;}table.tbl-7943 .lc{font-weight:bold;background-color: var( --jp-rendermime-table-row-hover-background);}table.tbl-7943 .lg{background-color: #66da9940;}table.tbl-7943 .lp{font-weight:bold;background-color: #ac66da40;}table.tbl-7943 .msc{font-weight:normal;background-color:#00000011;}table.tbl-7943 .al{text-align:left;}table.tbl-7943 .ar{text-align:right;}table.tbl-7943 .ac{text-align:center;}table.tbl-7943 .bld{font-weight:bold;}table.tbl-7943 .it{font-style:italic;}table.tbl-7943 .ul{text-decoration:underline;}table.tbl-7943 .st{text-decoration:line-through;}</style></head><body><table class='tbl-7943'><thead><tr><td class='lc bld ar'>#</td><td class='lc bld ar'>col_0</td><td class='lc bld ar'>col_1</td><td class='lc bld ar'>col_2</td></tr></thead><tbody><tr><td class='lc  ar '>0</td><td class='  ar '>0.00</td><td class='  ar '>6.00</td><td class='  ar '>9.00</td></tr><tr><td class='lc  ar '>1</td><td class='  ar '>1.20</td><td class='  ar '>3.10</td><td class='  ar '>9.60</td></tr><tr><td class='lc  ar '>2</td><td class='  ar '>-1.60</td><td class='  ar '>2.70</td><td class='  ar '>4.60</td></tr><tr><td class='lc  ar '>3</td><td class='  ar '>2.40</td><td class='  ar '>6.20</td><td class='  ar '>19.20</td></tr></tbody></table></body></html>\n",
       "\n",
       "[4 rows x 3 columns] total bytes: 96.0 B"
      ],
      "text/plain": []
     },
     "execution_count": 20,
     "metadata": {},
     "output_type": "execute_result"
    }
   ],
   "source": [
    "ds3 = rt.Dataset()\n",
    "ds3.add_matrix(np_2d_arr.T)\n",
    "\n",
    "ds3"
   ]
  },
  {
   "cell_type": "markdown",
   "id": "17a13ea2",
   "metadata": {},
   "source": [
    "### Riptable Dataset to/from Pandas DataFrame\n",
    "\n",
    "Generally, you can use `from_pandas()` and `to_pandas()` to convert a Pandas DataFrame to a Riptable Dataset and vice-versa.\n",
    "\n",
    "We'll create a Pandas DataFrame with categorical, timestamp, float and integer columns. We won't deal with NaN values here -- see [Working with Missing Data](tutorial_missing_data.ipynb) for guidance."
   ]
  },
  {
   "cell_type": "code",
   "execution_count": 21,
   "id": "16772ec2",
   "metadata": {},
   "outputs": [
    {
     "data": {
      "text/html": [
       "<div>\n",
       "<style scoped>\n",
       "    .dataframe tbody tr th:only-of-type {\n",
       "        vertical-align: middle;\n",
       "    }\n",
       "\n",
       "    .dataframe tbody tr th {\n",
       "        vertical-align: top;\n",
       "    }\n",
       "\n",
       "    .dataframe thead th {\n",
       "        text-align: right;\n",
       "    }\n",
       "</style>\n",
       "<table border=\"1\" class=\"dataframe\">\n",
       "  <thead>\n",
       "    <tr style=\"text-align: right;\">\n",
       "      <th></th>\n",
       "      <th>Time</th>\n",
       "      <th>Symbol</th>\n",
       "      <th>Exchange</th>\n",
       "      <th>TradeSize</th>\n",
       "      <th>TradePrice</th>\n",
       "    </tr>\n",
       "  </thead>\n",
       "  <tbody>\n",
       "    <tr>\n",
       "      <th>0</th>\n",
       "      <td>2019-11-11</td>\n",
       "      <td>IBM</td>\n",
       "      <td>NYSE</td>\n",
       "      <td>5</td>\n",
       "      <td>1.1</td>\n",
       "    </tr>\n",
       "    <tr>\n",
       "      <th>1</th>\n",
       "      <td>2019-11-17</td>\n",
       "      <td>IBM</td>\n",
       "      <td>AMEX</td>\n",
       "      <td>1</td>\n",
       "      <td>3.3</td>\n",
       "    </tr>\n",
       "    <tr>\n",
       "      <th>2</th>\n",
       "      <td>2019-11-16</td>\n",
       "      <td>IBM</td>\n",
       "      <td>AMEX</td>\n",
       "      <td>1</td>\n",
       "      <td>3.3</td>\n",
       "    </tr>\n",
       "    <tr>\n",
       "      <th>3</th>\n",
       "      <td>2019-11-14</td>\n",
       "      <td>IBM</td>\n",
       "      <td>NYSE</td>\n",
       "      <td>5</td>\n",
       "      <td>2.2</td>\n",
       "    </tr>\n",
       "    <tr>\n",
       "      <th>4</th>\n",
       "      <td>2019-11-14</td>\n",
       "      <td>IBM</td>\n",
       "      <td>NYSE</td>\n",
       "      <td>10</td>\n",
       "      <td>1.1</td>\n",
       "    </tr>\n",
       "    <tr>\n",
       "      <th>5</th>\n",
       "      <td>2019-11-18</td>\n",
       "      <td>IBM</td>\n",
       "      <td>NYSE</td>\n",
       "      <td>1</td>\n",
       "      <td>3.3</td>\n",
       "    </tr>\n",
       "    <tr>\n",
       "      <th>6</th>\n",
       "      <td>2019-11-11</td>\n",
       "      <td>IBM</td>\n",
       "      <td>AMEX</td>\n",
       "      <td>10</td>\n",
       "      <td>2.2</td>\n",
       "    </tr>\n",
       "    <tr>\n",
       "      <th>7</th>\n",
       "      <td>2019-11-17</td>\n",
       "      <td>SPY</td>\n",
       "      <td>NYSE</td>\n",
       "      <td>10</td>\n",
       "      <td>3.3</td>\n",
       "    </tr>\n",
       "    <tr>\n",
       "      <th>8</th>\n",
       "      <td>2019-11-12</td>\n",
       "      <td>IBM</td>\n",
       "      <td>NYSE</td>\n",
       "      <td>1</td>\n",
       "      <td>3.3</td>\n",
       "    </tr>\n",
       "    <tr>\n",
       "      <th>9</th>\n",
       "      <td>2019-11-11</td>\n",
       "      <td>SPY</td>\n",
       "      <td>AMEX</td>\n",
       "      <td>5</td>\n",
       "      <td>3.3</td>\n",
       "    </tr>\n",
       "  </tbody>\n",
       "</table>\n",
       "</div>"
      ],
      "text/plain": [
       "        Time Symbol Exchange  TradeSize  TradePrice\n",
       "0 2019-11-11    IBM     NYSE          5         1.1\n",
       "1 2019-11-17    IBM     AMEX          1         3.3\n",
       "2 2019-11-16    IBM     AMEX          1         3.3\n",
       "3 2019-11-14    IBM     NYSE          5         2.2\n",
       "4 2019-11-14    IBM     NYSE         10         1.1\n",
       "5 2019-11-18    IBM     NYSE          1         3.3\n",
       "6 2019-11-11    IBM     AMEX         10         2.2\n",
       "7 2019-11-17    SPY     NYSE         10         3.3\n",
       "8 2019-11-12    IBM     NYSE          1         3.3\n",
       "9 2019-11-11    SPY     AMEX          5         3.3"
      ]
     },
     "execution_count": 21,
     "metadata": {},
     "output_type": "execute_result"
    }
   ],
   "source": [
    "rng = np.random.default_rng(seed=42)\n",
    "\n",
    "N = 10\n",
    "\n",
    "dates=pd.date_range('20191111','20191119')\n",
    "df = pd.DataFrame( \n",
    "    dict(Time = rng.choice(dates, N),\n",
    "        Symbol = pd.Categorical(rng.choice(['SPY','IBM'], N)),\n",
    "        Exchange = pd.Categorical(rng.choice(['AMEX','NYSE'], N)),\n",
    "        TradeSize = rng.choice([1,5,10], N),\n",
    "        TradePrice = rng.choice([1.1,2.2,3.3], N),\n",
    "        )\n",
    ")\n",
    "\n",
    "df"
   ]
  },
  {
   "cell_type": "markdown",
   "id": "b7540449",
   "metadata": {},
   "source": [
    "The DataFrame dtypes before conversion:"
   ]
  },
  {
   "cell_type": "code",
   "execution_count": 22,
   "id": "347bab57",
   "metadata": {},
   "outputs": [
    {
     "data": {
      "text/plain": [
       "Time          datetime64[ns]\n",
       "Symbol              category\n",
       "Exchange            category\n",
       "TradeSize              int32\n",
       "TradePrice           float64\n",
       "dtype: object"
      ]
     },
     "execution_count": 22,
     "metadata": {},
     "output_type": "execute_result"
    }
   ],
   "source": [
    "df.dtypes"
   ]
  },
  {
   "cell_type": "markdown",
   "id": "86bf8e4b",
   "metadata": {},
   "source": [
    "Use `from_pandas()` to convert to a Dataset."
   ]
  },
  {
   "cell_type": "code",
   "execution_count": 23,
   "id": "bcf109f9",
   "metadata": {},
   "outputs": [
    {
     "data": {
      "text/html": [
       "<html><head><style>table.tbl-6610 tbody td{white-space: nowrap;}table.tbl-6610 .lc{font-weight:bold;background-color: var( --jp-rendermime-table-row-hover-background);}table.tbl-6610 .lg{background-color: #66da9940;}table.tbl-6610 .lp{font-weight:bold;background-color: #ac66da40;}table.tbl-6610 .msc{font-weight:normal;background-color:#00000011;}table.tbl-6610 .al{text-align:left;}table.tbl-6610 .ar{text-align:right;}table.tbl-6610 .ac{text-align:center;}table.tbl-6610 .bld{font-weight:bold;}table.tbl-6610 .it{font-style:italic;}table.tbl-6610 .ul{text-decoration:underline;}table.tbl-6610 .st{text-decoration:line-through;}</style></head><body><table class='tbl-6610'><thead><tr><td class='lc bld ar'>#</td><td class='lc bld ar'>                       Time</td><td class='lc bld al'>Symbol</td><td class='lc bld al'>Exchange</td><td class='lc bld ar'>TradeSize</td><td class='lc bld ar'>TradePrice</td></tr></thead><tbody><tr><td class='lc  ar '>0</td><td class='  ar '>20191111 00:00:00.000000000</td><td class='  al '>IBM</td><td class='  al '>NYSE</td><td class='  ar '>5</td><td class='  ar '>1.10</td></tr><tr><td class='lc  ar '>1</td><td class='  ar '>20191117 00:00:00.000000000</td><td class='  al '>IBM</td><td class='  al '>AMEX</td><td class='  ar '>1</td><td class='  ar '>3.30</td></tr><tr><td class='lc  ar '>2</td><td class='  ar '>20191116 00:00:00.000000000</td><td class='  al '>IBM</td><td class='  al '>AMEX</td><td class='  ar '>1</td><td class='  ar '>3.30</td></tr><tr><td class='lc  ar '>3</td><td class='  ar '>20191114 00:00:00.000000000</td><td class='  al '>IBM</td><td class='  al '>NYSE</td><td class='  ar '>5</td><td class='  ar '>2.20</td></tr><tr><td class='lc  ar '>4</td><td class='  ar '>20191114 00:00:00.000000000</td><td class='  al '>IBM</td><td class='  al '>NYSE</td><td class='  ar '>10</td><td class='  ar '>1.10</td></tr></tbody></table></body></html>\n",
       "\n",
       "[5 rows x 5 columns] total bytes: 124.0 B"
      ],
      "text/plain": []
     },
     "execution_count": 23,
     "metadata": {},
     "output_type": "execute_result"
    }
   ],
   "source": [
    "ds = rt.Dataset.from_pandas(df)\n",
    "\n",
    "ds.head(5)"
   ]
  },
  {
   "cell_type": "markdown",
   "id": "0c5ab4a2",
   "metadata": {},
   "source": [
    "Note: You can also convert a Pandas DataFrame in the Dataset constructor, but only if the DataFrame has no null values."
   ]
  },
  {
   "cell_type": "code",
   "execution_count": 24,
   "id": "0d5be3a6",
   "metadata": {},
   "outputs": [],
   "source": [
    "ds = rt.Dataset(df)"
   ]
  },
  {
   "cell_type": "markdown",
   "id": "cc969208",
   "metadata": {},
   "source": [
    "If we check the Dataset dtypes after conversion, we see only the underlying NumPy data type:"
   ]
  },
  {
   "cell_type": "code",
   "execution_count": 25,
   "id": "9e94d5fb",
   "metadata": {},
   "outputs": [
    {
     "data": {
      "text/plain": [
       "{'Time': dtype('int64'),\n",
       " 'Symbol': dtype('int8'),\n",
       " 'Exchange': dtype('int8'),\n",
       " 'TradeSize': dtype('int32'),\n",
       " 'TradePrice': dtype('float64')}"
      ]
     },
     "execution_count": 25,
     "metadata": {},
     "output_type": "execute_result"
    }
   ],
   "source": [
    "ds.dtypes"
   ]
  },
  {
   "cell_type": "markdown",
   "id": "56c83c21",
   "metadata": {},
   "source": [
    "To see the Riptable column types, we'll use a Python list comprehension."
   ]
  },
  {
   "cell_type": "code",
   "execution_count": 26,
   "id": "70a43ec6",
   "metadata": {},
   "outputs": [
    {
     "data": {
      "text/plain": [
       "{('Exchange', dtype('int8'), riptable.rt_categorical.Categorical),\n",
       " ('Symbol', dtype('int8'), riptable.rt_categorical.Categorical),\n",
       " ('Time', dtype('int64'), riptable.rt_datetime.DateTimeNano),\n",
       " ('TradePrice', dtype('float64'), riptable.rt_fastarray.FastArray),\n",
       " ('TradeSize', dtype('int32'), riptable.rt_fastarray.FastArray)}"
      ]
     },
     "execution_count": 26,
     "metadata": {},
     "output_type": "execute_result"
    }
   ],
   "source": [
    "{(c,ds[c].dtype ,type(ds[c])) for c in ds.keys()}"
   ]
  },
  {
   "cell_type": "markdown",
   "id": "c3ee927c",
   "metadata": {},
   "source": [
    "Use `to_pandas()` to convert the Dataset back to a Pandas DataFrame."
   ]
  },
  {
   "cell_type": "code",
   "execution_count": 27,
   "id": "26ab5c40",
   "metadata": {},
   "outputs": [
    {
     "data": {
      "text/plain": [
       "Time          datetime64[ns, GMT]\n",
       "Symbol                   category\n",
       "Exchange                 category\n",
       "TradeSize                   Int32\n",
       "TradePrice                float64\n",
       "dtype: object"
      ]
     },
     "execution_count": 27,
     "metadata": {},
     "output_type": "execute_result"
    }
   ],
   "source": [
    "df1 = ds.to_pandas()\n",
    "\n",
    "df1.dtypes"
   ]
  },
  {
   "cell_type": "markdown",
   "id": "417ec157",
   "metadata": {},
   "source": [
    "### Convert Dates to/from Matlab (and Other Libraries)\n",
    "\n",
    "To use Matlab (or another library) to visualize data by date, convert the Riptable Date objects to an array of integers."
   ]
  },
  {
   "cell_type": "code",
   "execution_count": 28,
   "id": "0696907f",
   "metadata": {},
   "outputs": [
    {
     "data": {
      "text/plain": [
       "dtype('int32')"
      ]
     },
     "execution_count": 28,
     "metadata": {},
     "output_type": "execute_result"
    }
   ],
   "source": [
    "dates = rt.Date(ds.Time) \n",
    "int_dates = dates.yyyymmdd\n",
    "\n",
    "int_dates.dtype"
   ]
  },
  {
   "cell_type": "markdown",
   "id": "1fc2714f",
   "metadata": {},
   "source": [
    "MATLAB stores dates as days since 0000-01-01. To convert an array of Matlab datenums to a Riptable `Date` object, first convert the datenums to a FastArray, then to a Date object using the `from_matlab` keyword argument."
   ]
  },
  {
   "cell_type": "code",
   "execution_count": 29,
   "id": "59047a3c",
   "metadata": {},
   "outputs": [
    {
     "data": {
      "text/plain": [
       "Date(['2018-01-01', '2018-01-02', '2018-01-03', '2018-01-04', '2018-01-05'])"
      ]
     },
     "execution_count": 29,
     "metadata": {},
     "output_type": "execute_result"
    }
   ],
   "source": [
    "dates = rt.FA([737061.0, 737062.0, 737063.0, 737064.0, 737065.0])\n",
    "rt_dates = rt.Date(dates, from_matlab=True)\n",
    "\n",
    "rt_dates"
   ]
  },
  {
   "cell_type": "markdown",
   "id": "1897ebe8-c0e7-41b4-9d0b-91573bef8b63",
   "metadata": {},
   "source": [
    "Next, we review some things to keep in mind to get the best performance out of Riptable: [Performance Considerations](tutorial_performance.ipynb)."
   ]
  },
  {
   "cell_type": "markdown",
   "id": "0d69ffc3-952b-468f-bdba-f1a3afedf178",
   "metadata": {},
   "source": [
    "<br>\n",
    "<br>\n",
    "\n",
    "---\n",
    "\n",
    "Questions or comments about this guide? Email RiptableDocumentation@sig.com."
   ]
  }
 ],
 "metadata": {
  "kernelspec": {
   "display_name": "Python 3 (ipykernel)",
   "language": "python",
   "name": "python3"
  },
  "language_info": {
   "codemirror_mode": {
    "name": "ipython",
    "version": 3
   },
   "file_extension": ".py",
   "mimetype": "text/x-python",
   "name": "python",
   "nbconvert_exporter": "python",
   "pygments_lexer": "ipython3",
   "version": "3.9.12"
  }
 },
 "nbformat": 4,
 "nbformat_minor": 5
}
