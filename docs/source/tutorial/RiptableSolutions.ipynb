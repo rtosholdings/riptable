{
   "cells": [
      {
         "cell_type": "markdown",
         "metadata": {},
         "source": [
            "# Solutions to Riptable Exercises"
         ]
      },
      {
         "cell_type": "markdown",
         "metadata": {},
         "source": [
            "This notebook contains the solutions to the [Riptable Exercises](RiptableExercises.ipynb).\n",
            "\n",
            "Your solutions may be implemented slightly differently, but they should get the same essential results.\n",
            "\n",
            "If you have any questions or comments, reach out to the Riptable Documentation team."
         ]
      },
      {
         "cell_type": "code",
         "execution_count": 1,
         "metadata": {},
         "outputs": [],
         "source": [
            "import riptable as rt\n",
            "import numpy as np"
         ]
      },
      {
         "cell_type": "markdown",
         "metadata": {},
         "source": [
            "## Introduction to the Riptable Dataset"
         ]
      },
      {
         "cell_type": "markdown",
         "metadata": {},
         "source": [
            "**Datasets** are the core class of riptable. \n",
            "\n",
            "They are tables of data, consisting of a series of **columns** of the same length (sometimes referred to as **fields**).\n",
            "\n",
            "Structurally, they behave like python dictionaries, and can be created directly from one."
         ]
      },
      {
         "cell_type": "markdown",
         "metadata": {},
         "source": [
            "We'll familiarize ourselves with Datasets by manually constructing one by generating fake sample data using `np.random.default_rng().choice(...)` or similar.\n",
            "\n",
            "In real life they will essentially always be generated from world data."
         ]
      },
      {
         "cell_type": "markdown",
         "metadata": {},
         "source": [
            "**First, create a python dictionary with two fields of the same length (>1000); one column of stock prices and one of symbols.**\n",
            "\n",
            "**Make sure the symbols have duplicates, for later aggregation exercises.**"
         ]
      },
      {
         "cell_type": "code",
         "execution_count": 2,
         "metadata": {},
         "outputs": [],
         "source": [
            "rng = np.random.default_rng()\n",
            "dset_length = 5_000"
         ]
      },
      {
         "cell_type": "code",
         "execution_count": 3,
         "metadata": {},
         "outputs": [],
         "source": [
            "my_dict = {'Price': rng.uniform(0, 1000, dset_length), 'Symbol': rng.choice(['GME', 'AMZN', 'TSLA', 'SPY'], dset_length)}"
         ]
      },
      {
         "cell_type": "markdown",
         "metadata": {
            "jp-MarkdownHeadingCollapsed": true,
            "tags": []
         },
         "source": [
            "**Create a riptable dataset from this, using** `rt.Dataset(my_dict)`."
         ]
      },
      {
         "cell_type": "code",
         "execution_count": 4,
         "metadata": {},
         "outputs": [],
         "source": [
            "my_dset = rt.Dataset(my_dict)"
         ]
      },
      {
         "cell_type": "markdown",
         "metadata": {},
         "source": [
            "You can easily append more columns to a dataset.\n",
            "\n",
            "**Add a new column of integer trade size, using** `my_dset.Size = `."
         ]
      },
      {
         "cell_type": "code",
         "execution_count": 5,
         "metadata": {},
         "outputs": [],
         "source": [
            "my_dset.Size = rng.integers(1, 1000, dset_length)"
         ]
      },
      {
         "cell_type": "markdown",
         "metadata": {},
         "source": [
            "Columns can be referred with brackets around a string name as well. This is typically used when the column name comes from a variable.\n",
            "\n",
            "**Add a new column of booleans indicating whether you traded this trade, using**\n",
            "`my_dset['MyTrade'] =`."
         ]
      },
      {
         "cell_type": "code",
         "execution_count": 6,
         "metadata": {},
         "outputs": [],
         "source": [
            "my_dset['MyTrade'] = rng.choice([True, False], dset_length)"
         ]
      },
      {
         "cell_type": "markdown",
         "metadata": {
            "jp-MarkdownHeadingCollapsed": true,
            "tags": []
         },
         "source": [
            "**Add a new column of string \"Buy\" or \"Sell\" indicating the customer direction.**"
         ]
      },
      {
         "cell_type": "code",
         "execution_count": 7,
         "metadata": {},
         "outputs": [],
         "source": [
            "my_dset.CustDirection = rng.choice(['Buy', 'Sell'], dset_length)"
         ]
      },
      {
         "cell_type": "markdown",
         "metadata": {},
         "source": [
            "Riptable will convert these lists to the riptable **FastArray** container and cast the data to an appropriate numpy datatype.\n",
            "\n",
            "**View the datatypes with** `my_dset.dtypes`."
         ]
      },
      {
         "cell_type": "code",
         "execution_count": 8,
         "metadata": {},
         "outputs": [
            {
               "data": {
                  "text/plain": [
                     "{'Price': dtype('float64'),\n",
                     " 'Symbol': dtype('S4'),\n",
                     " 'Size': dtype('int64'),\n",
                     " 'MyTrade': dtype('bool'),\n",
                     " 'CustDirection': dtype('S4')}"
                  ]
               },
               "execution_count": 8,
               "metadata": {},
               "output_type": "execute_result"
            }
         ],
         "source": [
            "my_dset.dtypes"
         ]
      },
      {
         "cell_type": "markdown",
         "metadata": {},
         "source": [
            "**View some sample rows of the dataset using** `.sample()`.\n",
            "\n",
            "You should use this instead of `.head()` because the initial rows of a dataset are often unrepresentative."
         ]
      },
      {
         "cell_type": "code",
         "execution_count": 9,
         "metadata": {},
         "outputs": [
            {
               "data": {
                  "text/html": [
                     "<html><head><style>table.tbl-2430 tbody td{white-space: nowrap;}table.tbl-2430 .lc{font-weight:bold;background-color: var( --jp-rendermime-table-row-hover-background);}table.tbl-2430 .lg{background-color: #66da9940;}table.tbl-2430 .lp{font-weight:bold;background-color: #ac66da40;}table.tbl-2430 .msc{font-weight:normal;background-color:#00000011;}table.tbl-2430 .al{text-align:left;}table.tbl-2430 .ar{text-align:right;}table.tbl-2430 .ac{text-align:center;}table.tbl-2430 .bld{font-weight:bold;}table.tbl-2430 .it{font-style:italic;}table.tbl-2430 .ul{text-decoration:underline;}table.tbl-2430 .st{text-decoration:line-through;}</style></head><body><table class='tbl-2430'><thead><tr><td class='lc bld ar'>#</td><td class='lc bld ar'> Price</td><td class='lc bld al'>Symbol</td><td class='lc bld ar'>Size</td><td class='lc bld ar'>MyTrade</td><td class='lc bld al'>CustDirection</td></tr></thead><tbody><tr><td class='lc  ar '>0</td><td class='  ar '>294.84</td><td class='  al '>SPY</td><td class='  ar '>18</td><td class='  ar '>False</td><td class='  al '>Buy</td></tr><tr><td class='lc  ar '>1</td><td class='  ar '>80.15</td><td class='  al '>TSLA</td><td class='  ar '>939</td><td class='  ar '>True</td><td class='  al '>Buy</td></tr><tr><td class='lc  ar '>2</td><td class='  ar '>189.83</td><td class='  al '>AMZN</td><td class='  ar '>919</td><td class='  ar '>True</td><td class='  al '>Buy</td></tr><tr><td class='lc  ar '>3</td><td class='  ar '>795.83</td><td class='  al '>SPY</td><td class='  ar '>324</td><td class='  ar '>True</td><td class='  al '>Sell</td></tr><tr><td class='lc  ar '>4</td><td class='  ar '>111.57</td><td class='  al '>AMZN</td><td class='  ar '>53</td><td class='  ar '>True</td><td class='  al '>Buy</td></tr><tr><td class='lc  ar '>5</td><td class='  ar '>695.09</td><td class='  al '>AMZN</td><td class='  ar '>173</td><td class='  ar '>True</td><td class='  al '>Sell</td></tr><tr><td class='lc  ar '>6</td><td class='  ar '>109.21</td><td class='  al '>AMZN</td><td class='  ar '>810</td><td class='  ar '>True</td><td class='  al '>Buy</td></tr><tr><td class='lc  ar '>7</td><td class='  ar '>83.23</td><td class='  al '>SPY</td><td class='  ar '>674</td><td class='  ar '>True</td><td class='  al '>Sell</td></tr><tr><td class='lc  ar '>8</td><td class='  ar '>388.80</td><td class='  al '>AMZN</td><td class='  ar '>872</td><td class='  ar '>False</td><td class='  al '>Sell</td></tr><tr><td class='lc  ar '>9</td><td class='  ar '>744.19</td><td class='  al '>SPY</td><td class='  ar '>164</td><td class='  ar '>False</td><td class='  al '>Buy</td></tr></tbody></table></body></html>\n",
                     "\n",
                     "[10 rows x 5 columns] total bytes: 250.0 B"
                  ],
                  "text/plain": [
                     "\u001b[1;36m#\u001b[0m   \u001b[1;36m Price\u001b[0m   \u001b[1;36mSymbol\u001b[0m   \u001b[1;36mSize\u001b[0m   \u001b[1;36mMyTrade\u001b[0m   \u001b[1;36mCustDirection\u001b[0m\n",
                     "-   ------   ------   ----   -------   -------------\n",
                     "\u001b[1;36m0\u001b[0m   294.84\u001b[0m   SPY   \u001b[0m     18\u001b[0m     False\u001b[0m   Buy          \u001b[0m\n",
                     "\u001b[1;36m1\u001b[0m    80.15\u001b[0m   TSLA  \u001b[0m    939\u001b[0m      True\u001b[0m   Buy          \u001b[0m\n",
                     "\u001b[1;36m2\u001b[0m   189.83\u001b[0m   AMZN  \u001b[0m    919\u001b[0m      True\u001b[0m   Buy          \u001b[0m\n",
                     "\u001b[1;36m3\u001b[0m   795.83\u001b[0m   SPY   \u001b[0m    324\u001b[0m      True\u001b[0m   Sell         \u001b[0m\n",
                     "\u001b[1;36m4\u001b[0m   111.57\u001b[0m   AMZN  \u001b[0m     53\u001b[0m      True\u001b[0m   Buy          \u001b[0m\n",
                     "\u001b[1;36m5\u001b[0m   695.09\u001b[0m   AMZN  \u001b[0m    173\u001b[0m      True\u001b[0m   Sell         \u001b[0m\n",
                     "\u001b[1;36m6\u001b[0m   109.21\u001b[0m   AMZN  \u001b[0m    810\u001b[0m      True\u001b[0m   Buy          \u001b[0m\n",
                     "\u001b[1;36m7\u001b[0m    83.23\u001b[0m   SPY   \u001b[0m    674\u001b[0m      True\u001b[0m   Sell         \u001b[0m\n",
                     "\u001b[1;36m8\u001b[0m   388.80\u001b[0m   AMZN  \u001b[0m    872\u001b[0m     False\u001b[0m   Sell         \u001b[0m\n",
                     "\u001b[1;36m9\u001b[0m   744.19\u001b[0m   SPY   \u001b[0m    164\u001b[0m     False\u001b[0m   Buy          \u001b[0m\n",
                     "\n",
                     "[10 rows x 5 columns] total bytes: 250.0 B"
                  ]
               },
               "execution_count": 9,
               "metadata": {},
               "output_type": "execute_result"
            }
         ],
         "source": [
            "my_dset.sample()"
         ]
      },
      {
         "cell_type": "markdown",
         "metadata": {},
         "source": [
            "**View distributional stats of the numerical fields of your dataset with** `.describe()`.\n",
            "\n",
            "You can call this on a single column as well."
         ]
      },
      {
         "cell_type": "code",
         "execution_count": 10,
         "metadata": {},
         "outputs": [
            {
               "data": {
                  "text/html": [
                     "<html><head><style>table.tbl-7293 tbody td{white-space: nowrap;}table.tbl-7293 .lc{font-weight:bold;background-color: var( --jp-rendermime-table-row-hover-background);}table.tbl-7293 .lg{background-color: #66da9940;}table.tbl-7293 .lp{font-weight:bold;background-color: #ac66da40;}table.tbl-7293 .msc{font-weight:normal;background-color:#00000011;}table.tbl-7293 .al{text-align:left;}table.tbl-7293 .ar{text-align:right;}table.tbl-7293 .ac{text-align:center;}table.tbl-7293 .bld{font-weight:bold;}table.tbl-7293 .it{font-style:italic;}table.tbl-7293 .ul{text-decoration:underline;}table.tbl-7293 .st{text-decoration:line-through;}</style></head><body><table class='tbl-7293'><thead><tr><td class='lg bld al'>*Stats</td><td class='lc bld ar'>  Price</td><td class='lc bld ar'>   Size</td><td class='lc bld ar'>MyTrade</td></tr></thead><tbody><tr><td class='lg  al '>Count</td><td class='  ar '>5000.00</td><td class='  ar '>5000.00</td><td class='  ar '>5000.00</td></tr><tr><td class='lg  al '>Valid</td><td class='  ar '>5000.00</td><td class='  ar '>5000.00</td><td class='  ar '>5000.00</td></tr><tr><td class='lg  al '>Nans</td><td class='  ar '>0.00</td><td class='  ar '>0.00</td><td class='  ar '>0.00</td></tr><tr><td class='lg  al '>Mean</td><td class='  ar '>495.85</td><td class='  ar '>496.97</td><td class='  ar '>0.50</td></tr><tr><td class='lg  al '>Std</td><td class='  ar '>292.47</td><td class='  ar '>288.05</td><td class='  ar '>0.50</td></tr><tr><td class='lg  al '>Min</td><td class='  ar '>0.24</td><td class='  ar '>1.00</td><td class='  ar '>0.00</td></tr><tr><td class='lg  al '>P10</td><td class='  ar '>92.07</td><td class='  ar '>97.00</td><td class='  ar '>0.00</td></tr><tr><td class='lg  al '>P25</td><td class='  ar '>240.33</td><td class='  ar '>247.00</td><td class='  ar '>0.00</td></tr><tr><td class='lg  al '>P50</td><td class='  ar '>493.73</td><td class='  ar '>499.00</td><td class='  ar '>0.00</td></tr><tr><td class='lg  al '>P75</td><td class='  ar '>750.31</td><td class='  ar '>747.00</td><td class='  ar '>1.00</td></tr><tr><td class='lg  al '>P90</td><td class='  ar '>902.58</td><td class='  ar '>895.00</td><td class='  ar '>1.00</td></tr><tr><td class='lg  al '>Max</td><td class='  ar '>999.94</td><td class='  ar '>999.00</td><td class='  ar '>1.00</td></tr><tr><td class='lg  al '>MeanM</td><td class='  ar '>494.98</td><td class='  ar '>497.04</td><td class='  ar '>0.50</td></tr></tbody></table></body></html>\n",
                     "\n",
                     "[13 rows x 4 columns] total bytes: 377.0 B"
                  ],
                  "text/plain": []
               },
               "execution_count": 10,
               "metadata": {},
               "output_type": "execute_result"
            }
         ],
         "source": [
            "my_dset.describe()"
         ]
      },
      {
         "cell_type": "markdown",
         "metadata": {},
         "source": [
            "## Manipulating data"
         ]
      },
      {
         "cell_type": "markdown",
         "metadata": {},
         "source": [
            "You can perform simple operation on riptable columns with normal python syntax. Riptable will do them to the whole column at once, efficiently.\n",
            "\n",
            "**Create a new column by performing scalar arithmetic on one of your numeric columns.**"
         ]
      },
      {
         "cell_type": "code",
         "execution_count": 11,
         "metadata": {},
         "outputs": [],
         "source": [
            "my_dset.SharesOfStock = 100 * my_dset.Size"
         ]
      },
      {
         "cell_type": "code",
         "execution_count": 12,
         "metadata": {},
         "outputs": [
            {
               "data": {
                  "text/html": [
                     "<html><head><style>table.tbl-8834 tbody td{white-space: nowrap;}table.tbl-8834 .lc{font-weight:bold;background-color: var( --jp-rendermime-table-row-hover-background);}table.tbl-8834 .lg{background-color: #66da9940;}table.tbl-8834 .lp{font-weight:bold;background-color: #ac66da40;}table.tbl-8834 .msc{font-weight:normal;background-color:#00000011;}table.tbl-8834 .al{text-align:left;}table.tbl-8834 .ar{text-align:right;}table.tbl-8834 .ac{text-align:center;}table.tbl-8834 .bld{font-weight:bold;}table.tbl-8834 .it{font-style:italic;}table.tbl-8834 .ul{text-decoration:underline;}table.tbl-8834 .st{text-decoration:line-through;}</style></head><body><table class='tbl-8834'><thead><tr><td class='lc bld ar'>#</td><td class='lc bld ar'> Price</td><td class='lc bld al'>Symbol</td><td class='lc bld ar'>Size</td><td class='lc bld ar'>MyTrade</td><td class='lc bld al'>CustDirection</td><td class='lc bld ar'>SharesOfStock</td></tr></thead><tbody><tr><td class='lc  ar '>0</td><td class='  ar '>594.55</td><td class='  al '>GME</td><td class='  ar '>428</td><td class='  ar '>False</td><td class='  al '>Sell</td><td class='  ar '>42800</td></tr><tr><td class='lc  ar '>1</td><td class='  ar '>575.25</td><td class='  al '>SPY</td><td class='  ar '>218</td><td class='  ar '>False</td><td class='  al '>Buy</td><td class='  ar '>21800</td></tr><tr><td class='lc  ar '>2</td><td class='  ar '>88.07</td><td class='  al '>TSLA</td><td class='  ar '>655</td><td class='  ar '>False</td><td class='  al '>Sell</td><td class='  ar '>65500</td></tr><tr><td class='lc  ar '>3</td><td class='  ar '>616.62</td><td class='  al '>SPY</td><td class='  ar '>941</td><td class='  ar '>True</td><td class='  al '>Buy</td><td class='  ar '>94100</td></tr><tr><td class='lc  ar '>4</td><td class='  ar '>589.26</td><td class='  al '>TSLA</td><td class='  ar '>235</td><td class='  ar '>False</td><td class='  al '>Buy</td><td class='  ar '>23500</td></tr><tr><td class='lc  ar '>5</td><td class='  ar '>560.63</td><td class='  al '>SPY</td><td class='  ar '>99</td><td class='  ar '>True</td><td class='  al '>Sell</td><td class='  ar '>9900</td></tr><tr><td class='lc  ar '>6</td><td class='  ar '>461.22</td><td class='  al '>SPY</td><td class='  ar '>982</td><td class='  ar '>True</td><td class='  al '>Buy</td><td class='  ar '>98200</td></tr><tr><td class='lc  ar '>7</td><td class='  ar '>636.12</td><td class='  al '>AMZN</td><td class='  ar '>96</td><td class='  ar '>False</td><td class='  al '>Sell</td><td class='  ar '>9600</td></tr><tr><td class='lc  ar '>8</td><td class='  ar '>632.51</td><td class='  al '>GME</td><td class='  ar '>253</td><td class='  ar '>True</td><td class='  al '>Sell</td><td class='  ar '>25300</td></tr><tr><td class='lc  ar '>9</td><td class='  ar '>293.35</td><td class='  al '>AMZN</td><td class='  ar '>104</td><td class='  ar '>False</td><td class='  al '>Buy</td><td class='  ar '>10400</td></tr></tbody></table></body></html>\n",
                     "\n",
                     "[10 rows x 6 columns] total bytes: 330.0 B"
                  ],
                  "text/plain": []
               },
               "execution_count": 12,
               "metadata": {},
               "output_type": "execute_result"
            }
         ],
         "source": [
            "my_dset.sample()"
         ]
      },
      {
         "cell_type": "markdown",
         "metadata": {},
         "source": [
            "As long as the columns are the same size (as is guaranteed if they're in the same dataset) you can perform combining operations the same way.\n",
            "\n",
            "**Create a new column of total price paid for the trade by multiplying two existing columns together.**\n",
            "\n",
            "Riptable will automatically upcast types as necessary to preserve information."
         ]
      },
      {
         "cell_type": "code",
         "execution_count": 13,
         "metadata": {},
         "outputs": [],
         "source": [
            "my_dset.TotalCash = my_dset.Price * my_dset.Size"
         ]
      },
      {
         "cell_type": "code",
         "execution_count": 14,
         "metadata": {},
         "outputs": [
            {
               "data": {
                  "text/html": [
                     "<html><head><style>table.tbl-2469 tbody td{white-space: nowrap;}table.tbl-2469 .lc{font-weight:bold;background-color: var( --jp-rendermime-table-row-hover-background);}table.tbl-2469 .lg{background-color: #66da9940;}table.tbl-2469 .lp{font-weight:bold;background-color: #ac66da40;}table.tbl-2469 .msc{font-weight:normal;background-color:#00000011;}table.tbl-2469 .al{text-align:left;}table.tbl-2469 .ar{text-align:right;}table.tbl-2469 .ac{text-align:center;}table.tbl-2469 .bld{font-weight:bold;}table.tbl-2469 .it{font-style:italic;}table.tbl-2469 .ul{text-decoration:underline;}table.tbl-2469 .st{text-decoration:line-through;}</style></head><body><table class='tbl-2469'><thead><tr><td class='lc bld ar'>#</td><td class='lc bld ar'> Price</td><td class='lc bld al'>Symbol</td><td class='lc bld ar'>Size</td><td class='lc bld ar'>MyTrade</td><td class='lc bld al'>CustDirection</td><td class='lc bld ar'>SharesOfStock</td><td class='lc bld ar'>TotalCash</td></tr></thead><tbody><tr><td class='lc  ar '>0</td><td class='  ar '>263.41</td><td class='  al '>AMZN</td><td class='  ar '>533</td><td class='  ar '>False</td><td class='  al '>Buy</td><td class='  ar '>53300</td><td class='  ar '>140395.27</td></tr><tr><td class='lc  ar '>1</td><td class='  ar '>6.94</td><td class='  al '>SPY</td><td class='  ar '>111</td><td class='  ar '>True</td><td class='  al '>Buy</td><td class='  ar '>11100</td><td class='  ar '>770.02</td></tr><tr><td class='lc  ar '>2</td><td class='  ar '>238.68</td><td class='  al '>SPY</td><td class='  ar '>409</td><td class='  ar '>False</td><td class='  al '>Sell</td><td class='  ar '>40900</td><td class='  ar '>97620.54</td></tr><tr><td class='lc  ar '>3</td><td class='  ar '>420.92</td><td class='  al '>SPY</td><td class='  ar '>463</td><td class='  ar '>False</td><td class='  al '>Buy</td><td class='  ar '>46300</td><td class='  ar '>194887.29</td></tr><tr><td class='lc  ar '>4</td><td class='  ar '>435.00</td><td class='  al '>TSLA</td><td class='  ar '>676</td><td class='  ar '>False</td><td class='  al '>Buy</td><td class='  ar '>67600</td><td class='  ar '>294057.25</td></tr><tr><td class='lc  ar '>5</td><td class='  ar '>947.84</td><td class='  al '>TSLA</td><td class='  ar '>334</td><td class='  ar '>False</td><td class='  al '>Buy</td><td class='  ar '>33400</td><td class='  ar '>316579.05</td></tr><tr><td class='lc  ar '>6</td><td class='  ar '>439.43</td><td class='  al '>AMZN</td><td class='  ar '>364</td><td class='  ar '>False</td><td class='  al '>Buy</td><td class='  ar '>36400</td><td class='  ar '>159952.95</td></tr><tr><td class='lc  ar '>7</td><td class='  ar '>44.15</td><td class='  al '>AMZN</td><td class='  ar '>222</td><td class='  ar '>False</td><td class='  al '>Buy</td><td class='  ar '>22200</td><td class='  ar '>9800.34</td></tr><tr><td class='lc  ar '>8</td><td class='  ar '>972.57</td><td class='  al '>GME</td><td class='  ar '>243</td><td class='  ar '>False</td><td class='  al '>Sell</td><td class='  ar '>24300</td><td class='  ar '>236334.91</td></tr><tr><td class='lc  ar '>9</td><td class='  ar '>873.75</td><td class='  al '>TSLA</td><td class='  ar '>599</td><td class='  ar '>False</td><td class='  al '>Sell</td><td class='  ar '>59900</td><td class='  ar '>523377.81</td></tr></tbody></table></body></html>\n",
                     "\n",
                     "[10 rows x 7 columns] total bytes: 410.0 B"
                  ],
                  "text/plain": []
               },
               "execution_count": 14,
               "metadata": {},
               "output_type": "execute_result"
            }
         ],
         "source": [
            "my_dset.sample()"
         ]
      },
      {
         "cell_type": "markdown",
         "metadata": {},
         "source": [
            "There are many built-in functions as well, which you call with either `my_dset.field.function()` or `rt.function(my_dset.field)` syntax.\n",
            "\n",
            "**Find the unique Symbols in your dataset.**"
         ]
      },
      {
         "cell_type": "code",
         "execution_count": 15,
         "metadata": {},
         "outputs": [
            {
               "data": {
                  "text/plain": [
                     "FastArray([b'AMZN', b'GME', b'SPY', b'TSLA'], dtype='|S4')"
                  ]
               },
               "execution_count": 15,
               "metadata": {},
               "output_type": "execute_result"
            }
         ],
         "source": [
            "my_dset.Symbol.unique()"
         ]
      },
      {
         "cell_type": "markdown",
         "metadata": {},
         "source": [
            "## Date/Time"
         ]
      },
      {
         "cell_type": "markdown",
         "metadata": {},
         "source": [
            "Riptable has three main date/time types: `Date`, `DateTimeNano`, and `TimeSpan`."
         ]
      },
      {
         "cell_type": "markdown",
         "metadata": {},
         "source": [
            "**Give each row of your dataset an** `rt.Date`.\n",
            "\n",
            "**Make sure they're not all different, but still include days from multiple months.**\n",
            "\n",
            "Note that due to Riptable idiosyncracies you need to generate a list of yyyymmdd strings and pass into the `rt.Date(...)` constructor, not construct Dates individually."
         ]
      },
      {
         "cell_type": "code",
         "execution_count": 16,
         "metadata": {},
         "outputs": [],
         "source": [
            "my_dset.Date = rt.Date(rng.choice(rt.Date.range('20220201', '20220430'), dset_length))"
         ]
      },
      {
         "cell_type": "code",
         "execution_count": 17,
         "metadata": {},
         "outputs": [
            {
               "data": {
                  "text/html": [
                     "<html><head><style>table.tbl-1559 tbody td{white-space: nowrap;}table.tbl-1559 .lc{font-weight:bold;background-color: var( --jp-rendermime-table-row-hover-background);}table.tbl-1559 .lg{background-color: #66da9940;}table.tbl-1559 .lp{font-weight:bold;background-color: #ac66da40;}table.tbl-1559 .msc{font-weight:normal;background-color:#00000011;}table.tbl-1559 .al{text-align:left;}table.tbl-1559 .ar{text-align:right;}table.tbl-1559 .ac{text-align:center;}table.tbl-1559 .bld{font-weight:bold;}table.tbl-1559 .it{font-style:italic;}table.tbl-1559 .ul{text-decoration:underline;}table.tbl-1559 .st{text-decoration:line-through;}</style></head><body><table class='tbl-1559'><thead><tr><td class='lc bld ar'>#</td><td class='lc bld ar'> Price</td><td class='lc bld al'>Symbol</td><td class='lc bld ar'>Size</td><td class='lc bld ar'>MyTrade</td><td class='lc bld al'>CustDirection</td><td class='lc bld ar'>SharesOfStock</td><td class='lc bld ar'>TotalCash</td><td class='lc bld ar'>      Date</td></tr></thead><tbody><tr><td class='lc  ar '>0</td><td class='  ar '>28.77</td><td class='  al '>SPY</td><td class='  ar '>452</td><td class='  ar '>False</td><td class='  al '>Sell</td><td class='  ar '>45200</td><td class='  ar '>13004.17</td><td class='  ar '>2022-02-18</td></tr><tr><td class='lc  ar '>1</td><td class='  ar '>705.58</td><td class='  al '>SPY</td><td class='  ar '>892</td><td class='  ar '>False</td><td class='  al '>Sell</td><td class='  ar '>89200</td><td class='  ar '>629378.88</td><td class='  ar '>2022-02-17</td></tr><tr><td class='lc  ar '>2</td><td class='  ar '>225.44</td><td class='  al '>SPY</td><td class='  ar '>221</td><td class='  ar '>True</td><td class='  al '>Buy</td><td class='  ar '>22100</td><td class='  ar '>49821.42</td><td class='  ar '>2022-04-18</td></tr><tr><td class='lc  ar '>3</td><td class='  ar '>647.78</td><td class='  al '>TSLA</td><td class='  ar '>488</td><td class='  ar '>True</td><td class='  al '>Sell</td><td class='  ar '>48800</td><td class='  ar '>316118.91</td><td class='  ar '>2022-03-10</td></tr><tr><td class='lc  ar '>4</td><td class='  ar '>926.05</td><td class='  al '>GME</td><td class='  ar '>426</td><td class='  ar '>False</td><td class='  al '>Sell</td><td class='  ar '>42600</td><td class='  ar '>394497.53</td><td class='  ar '>2022-04-14</td></tr><tr><td class='lc  ar '>5</td><td class='  ar '>226.91</td><td class='  al '>SPY</td><td class='  ar '>705</td><td class='  ar '>True</td><td class='  al '>Sell</td><td class='  ar '>70500</td><td class='  ar '>159972.93</td><td class='  ar '>2022-04-27</td></tr><tr><td class='lc  ar '>6</td><td class='  ar '>816.29</td><td class='  al '>SPY</td><td class='  ar '>400</td><td class='  ar '>True</td><td class='  al '>Sell</td><td class='  ar '>40000</td><td class='  ar '>326516.95</td><td class='  ar '>2022-03-12</td></tr><tr><td class='lc  ar '>7</td><td class='  ar '>177.41</td><td class='  al '>GME</td><td class='  ar '>257</td><td class='  ar '>True</td><td class='  al '>Buy</td><td class='  ar '>25700</td><td class='  ar '>45594.88</td><td class='  ar '>2022-03-10</td></tr><tr><td class='lc  ar '>8</td><td class='  ar '>414.71</td><td class='  al '>AMZN</td><td class='  ar '>232</td><td class='  ar '>False</td><td class='  al '>Sell</td><td class='  ar '>23200</td><td class='  ar '>96213.22</td><td class='  ar '>2022-04-19</td></tr><tr><td class='lc  ar '>9</td><td class='  ar '>471.17</td><td class='  al '>AMZN</td><td class='  ar '>576</td><td class='  ar '>False</td><td class='  al '>Buy</td><td class='  ar '>57600</td><td class='  ar '>271393.67</td><td class='  ar '>2022-04-25</td></tr></tbody></table></body></html>\n",
                     "\n",
                     "[10 rows x 8 columns] total bytes: 450.0 B"
                  ],
                  "text/plain": []
               },
               "execution_count": 17,
               "metadata": {},
               "output_type": "execute_result"
            }
         ],
         "source": [
            "my_dset.sample()"
         ]
      },
      {
         "cell_type": "markdown",
         "metadata": {},
         "source": [
            "**Give each row a unique(ish)** `TimeSpan` **as a trade time.**\n",
            "\n",
            "You can instantiate them using `rt.TimeSpan(hours_var, unit='h')`."
         ]
      },
      {
         "cell_type": "code",
         "execution_count": 18,
         "metadata": {},
         "outputs": [],
         "source": [
            "my_dset.TradeTime = rt.TimeSpan(rng.uniform(9.5, 16, dset_length), unit='h')"
         ]
      },
      {
         "cell_type": "code",
         "execution_count": 19,
         "metadata": {},
         "outputs": [
            {
               "data": {
                  "text/html": [
                     "<html><head><style>table.tbl-5473 tbody td{white-space: nowrap;}table.tbl-5473 .lc{font-weight:bold;background-color: var( --jp-rendermime-table-row-hover-background);}table.tbl-5473 .lg{background-color: #66da9940;}table.tbl-5473 .lp{font-weight:bold;background-color: #ac66da40;}table.tbl-5473 .msc{font-weight:normal;background-color:#00000011;}table.tbl-5473 .al{text-align:left;}table.tbl-5473 .ar{text-align:right;}table.tbl-5473 .ac{text-align:center;}table.tbl-5473 .bld{font-weight:bold;}table.tbl-5473 .it{font-style:italic;}table.tbl-5473 .ul{text-decoration:underline;}table.tbl-5473 .st{text-decoration:line-through;}</style></head><body><table class='tbl-5473'><thead><tr><td class='lc bld ar'>#</td><td class='lc bld ar'> Price</td><td class='lc bld al'>Symbol</td><td class='lc bld ar'>Size</td><td class='lc bld ar'>MyTrade</td><td class='lc bld al'>...</td><td class='lc bld ar'>SharesOfStock</td><td class='lc bld ar'>TotalCash</td><td class='lc bld ar'>      Date</td><td class='lc bld ar'>         TradeTime</td></tr></thead><tbody><tr><td class='lc  ar '>0</td><td class='  ar '>189.25</td><td class='  al '>SPY</td><td class='  ar '>779</td><td class='  ar '>False</td><td class='  al '>...</td><td class='  ar '>77900</td><td class='  ar '>147423.20</td><td class='  ar '>2022-02-19</td><td class='  ar '>09:47:31.067694548</td></tr><tr><td class='lc  ar '>1</td><td class='  ar '>405.30</td><td class='  al '>TSLA</td><td class='  ar '>575</td><td class='  ar '>True</td><td class='  al '>...</td><td class='  ar '>57500</td><td class='  ar '>233044.97</td><td class='  ar '>2022-02-28</td><td class='  ar '>13:47:22.412012377</td></tr><tr><td class='lc  ar '>2</td><td class='  ar '>306.29</td><td class='  al '>SPY</td><td class='  ar '>12</td><td class='  ar '>True</td><td class='  al '>...</td><td class='  ar '>1200</td><td class='  ar '>3675.43</td><td class='  ar '>2022-03-26</td><td class='  ar '>12:56:47.572327046</td></tr><tr><td class='lc  ar '>3</td><td class='  ar '>740.90</td><td class='  al '>SPY</td><td class='  ar '>872</td><td class='  ar '>False</td><td class='  al '>...</td><td class='  ar '>87200</td><td class='  ar '>646063.08</td><td class='  ar '>2022-02-20</td><td class='  ar '>11:16:31.322328844</td></tr><tr><td class='lc  ar '>4</td><td class='  ar '>148.72</td><td class='  al '>AMZN</td><td class='  ar '>469</td><td class='  ar '>True</td><td class='  al '>...</td><td class='  ar '>46900</td><td class='  ar '>69751.19</td><td class='  ar '>2022-02-22</td><td class='  ar '>13:45:17.960767118</td></tr><tr><td class='lc  ar '>5</td><td class='  ar '>687.63</td><td class='  al '>AMZN</td><td class='  ar '>900</td><td class='  ar '>False</td><td class='  al '>...</td><td class='  ar '>90000</td><td class='  ar '>618863.96</td><td class='  ar '>2022-02-16</td><td class='  ar '>13:03:38.246123166</td></tr><tr><td class='lc  ar '>6</td><td class='  ar '>395.53</td><td class='  al '>AMZN</td><td class='  ar '>171</td><td class='  ar '>False</td><td class='  al '>...</td><td class='  ar '>17100</td><td class='  ar '>67635.54</td><td class='  ar '>2022-04-23</td><td class='  ar '>15:47:05.167722885</td></tr><tr><td class='lc  ar '>7</td><td class='  ar '>620.26</td><td class='  al '>TSLA</td><td class='  ar '>777</td><td class='  ar '>False</td><td class='  al '>...</td><td class='  ar '>77700</td><td class='  ar '>481941.71</td><td class='  ar '>2022-04-14</td><td class='  ar '>11:40:32.776661126</td></tr><tr><td class='lc  ar '>8</td><td class='  ar '>266.59</td><td class='  al '>GME</td><td class='  ar '>765</td><td class='  ar '>True</td><td class='  al '>...</td><td class='  ar '>76500</td><td class='  ar '>203941.39</td><td class='  ar '>2022-04-12</td><td class='  ar '>14:37:57.503811705</td></tr><tr><td class='lc  ar '>9</td><td class='  ar '>286.83</td><td class='  al '>AMZN</td><td class='  ar '>613</td><td class='  ar '>False</td><td class='  al '>...</td><td class='  ar '>61300</td><td class='  ar '>175824.15</td><td class='  ar '>2022-03-03</td><td class='  ar '>14:45:09.378948295</td></tr></tbody></table></body></html>\n",
                     "\n",
                     "[10 rows x 9 columns] total bytes: 530.0 B"
                  ],
                  "text/plain": []
               },
               "execution_count": 19,
               "metadata": {},
               "output_type": "execute_result"
            }
         ],
         "source": [
            "my_dset.sample()"
         ]
      },
      {
         "attachments": {},
         "cell_type": "markdown",
         "metadata": {},
         "source": [
            "**Create a DateTimeNano of the combined TradeTime + Date by simple addition. Riptable knows how to sum the types.**\n",
            "\n",
            "Be careful here, by default you'll get a GMT timezone, you can force NYC with `rt.DateTimeNano(..., from_tz='NYC')`."
         ]
      },
      {
         "cell_type": "code",
         "execution_count": 20,
         "metadata": {},
         "outputs": [],
         "source": [
            "my_dset.TradeDateTime = rt.DateTimeNano(my_dset.Date + my_dset.TradeTime, from_tz='NYC')"
         ]
      },
      {
         "cell_type": "code",
         "execution_count": 21,
         "metadata": {},
         "outputs": [
            {
               "data": {
                  "text/html": [
                     "<html><head><style>table.tbl-7799 tbody td{white-space: nowrap;}table.tbl-7799 .lc{font-weight:bold;background-color: var( --jp-rendermime-table-row-hover-background);}table.tbl-7799 .lg{background-color: #66da9940;}table.tbl-7799 .lp{font-weight:bold;background-color: #ac66da40;}table.tbl-7799 .msc{font-weight:normal;background-color:#00000011;}table.tbl-7799 .al{text-align:left;}table.tbl-7799 .ar{text-align:right;}table.tbl-7799 .ac{text-align:center;}table.tbl-7799 .bld{font-weight:bold;}table.tbl-7799 .it{font-style:italic;}table.tbl-7799 .ul{text-decoration:underline;}table.tbl-7799 .st{text-decoration:line-through;}</style></head><body><table class='tbl-7799'><thead><tr><td class='lc bld ar'>#</td><td class='lc bld ar'> Price</td><td class='lc bld al'>Symbol</td><td class='lc bld ar'>Size</td><td class='lc bld ar'>MyTrade</td><td class='lc bld al'>...</td><td class='lc bld ar'>TotalCash</td><td class='lc bld ar'>      Date</td><td class='lc bld ar'>         TradeTime</td><td class='lc bld ar'>              TradeDateTime</td></tr></thead><tbody><tr><td class='lc  ar '>0</td><td class='  ar '>455.87</td><td class='  al '>TSLA</td><td class='  ar '>397</td><td class='  ar '>True</td><td class='  al '>...</td><td class='  ar '>180979.30</td><td class='  ar '>2022-03-19</td><td class='  ar '>13:27:13.903568326</td><td class='  ar '>20220319 13:27:13.903568326</td></tr><tr><td class='lc  ar '>1</td><td class='  ar '>73.24</td><td class='  al '>TSLA</td><td class='  ar '>887</td><td class='  ar '>False</td><td class='  al '>...</td><td class='  ar '>64965.26</td><td class='  ar '>2022-03-06</td><td class='  ar '>11:30:56.002432889</td><td class='  ar '>20220306 11:30:56.002432889</td></tr><tr><td class='lc  ar '>2</td><td class='  ar '>263.36</td><td class='  al '>SPY</td><td class='  ar '>807</td><td class='  ar '>True</td><td class='  al '>...</td><td class='  ar '>212535.23</td><td class='  ar '>2022-02-19</td><td class='  ar '>13:34:55.264039702</td><td class='  ar '>20220219 13:34:55.264039702</td></tr><tr><td class='lc  ar '>3</td><td class='  ar '>88.49</td><td class='  al '>GME</td><td class='  ar '>382</td><td class='  ar '>True</td><td class='  al '>...</td><td class='  ar '>33802.09</td><td class='  ar '>2022-03-01</td><td class='  ar '>14:31:17.048883242</td><td class='  ar '>20220301 14:31:17.048883242</td></tr><tr><td class='lc  ar '>4</td><td class='  ar '>889.71</td><td class='  al '>AMZN</td><td class='  ar '>554</td><td class='  ar '>False</td><td class='  al '>...</td><td class='  ar '>492899.07</td><td class='  ar '>2022-03-08</td><td class='  ar '>11:12:06.558229570</td><td class='  ar '>20220308 11:12:06.558229570</td></tr><tr><td class='lc  ar '>5</td><td class='  ar '>466.92</td><td class='  al '>TSLA</td><td class='  ar '>688</td><td class='  ar '>True</td><td class='  al '>...</td><td class='  ar '>321237.96</td><td class='  ar '>2022-04-26</td><td class='  ar '>09:59:53.558187626</td><td class='  ar '>20220426 09:59:53.558187626</td></tr><tr><td class='lc  ar '>6</td><td class='  ar '>165.87</td><td class='  al '>AMZN</td><td class='  ar '>272</td><td class='  ar '>False</td><td class='  al '>...</td><td class='  ar '>45116.56</td><td class='  ar '>2022-03-10</td><td class='  ar '>13:41:53.830767087</td><td class='  ar '>20220310 13:41:53.830767087</td></tr><tr><td class='lc  ar '>7</td><td class='  ar '>740.90</td><td class='  al '>SPY</td><td class='  ar '>872</td><td class='  ar '>False</td><td class='  al '>...</td><td class='  ar '>646063.08</td><td class='  ar '>2022-02-20</td><td class='  ar '>11:16:31.322328844</td><td class='  ar '>20220220 11:16:31.322328844</td></tr><tr><td class='lc  ar '>8</td><td class='  ar '>146.13</td><td class='  al '>TSLA</td><td class='  ar '>896</td><td class='  ar '>True</td><td class='  al '>...</td><td class='  ar '>130931.03</td><td class='  ar '>2022-02-24</td><td class='  ar '>12:18:33.660870308</td><td class='  ar '>20220224 12:18:33.660870308</td></tr><tr><td class='lc  ar '>9</td><td class='  ar '>240.26</td><td class='  al '>AMZN</td><td class='  ar '>587</td><td class='  ar '>True</td><td class='  al '>...</td><td class='  ar '>141032.79</td><td class='  ar '>2022-03-02</td><td class='  ar '>10:43:44.856459110</td><td class='  ar '>20220302 10:43:44.856459110</td></tr></tbody></table></body></html>\n",
                     "\n",
                     "[10 rows x 10 columns] total bytes: 610.0 B"
                  ],
                  "text/plain": []
               },
               "execution_count": 21,
               "metadata": {},
               "output_type": "execute_result"
            }
         ],
         "source": [
            "my_dset.sample()"
         ]
      },
      {
         "cell_type": "markdown",
         "metadata": {},
         "source": [
            "To reverse this operation and get out separate dates and times from a DateTimeNano, you can call `rt.Date(my_DateTimeNano)` and `my_DateTimeNano.time_since_midnight()`."
         ]
      },
      {
         "cell_type": "markdown",
         "metadata": {},
         "source": [
            "**Create a new month name column by using the** `.strftime` **function.**"
         ]
      },
      {
         "cell_type": "code",
         "execution_count": 22,
         "metadata": {},
         "outputs": [],
         "source": [
            "my_dset.month_name = my_dset.Date.strftime('%b%y')"
         ]
      },
      {
         "cell_type": "code",
         "execution_count": 23,
         "metadata": {},
         "outputs": [
            {
               "data": {
                  "text/html": [
                     "<html><head><style>table.tbl-8047 tbody td{white-space: nowrap;}table.tbl-8047 .lc{font-weight:bold;background-color: var( --jp-rendermime-table-row-hover-background);}table.tbl-8047 .lg{background-color: #66da9940;}table.tbl-8047 .lp{font-weight:bold;background-color: #ac66da40;}table.tbl-8047 .msc{font-weight:normal;background-color:#00000011;}table.tbl-8047 .al{text-align:left;}table.tbl-8047 .ar{text-align:right;}table.tbl-8047 .ac{text-align:center;}table.tbl-8047 .bld{font-weight:bold;}table.tbl-8047 .it{font-style:italic;}table.tbl-8047 .ul{text-decoration:underline;}table.tbl-8047 .st{text-decoration:line-through;}</style></head><body><table class='tbl-8047'><thead><tr><td class='lc bld ar'>#</td><td class='lc bld ar'> Price</td><td class='lc bld al'>Symbol</td><td class='lc bld ar'>Size</td><td class='lc bld ar'>MyTrade</td><td class='lc bld al'>...</td><td class='lc bld ar'>         TradeTime</td><td class='lc bld ar'>              TradeDateTime</td><td class='lc bld al'>month_name</td></tr></thead><tbody><tr><td class='lc  ar '>0</td><td class='  ar '>731.57</td><td class='  al '>TSLA</td><td class='  ar '>687</td><td class='  ar '>True</td><td class='  al '>...</td><td class='  ar '>13:18:00.786792038</td><td class='  ar '>20220426 13:18:00.786792038</td><td class='  al '>Apr22</td></tr><tr><td class='lc  ar '>1</td><td class='  ar '>491.23</td><td class='  al '>TSLA</td><td class='  ar '>472</td><td class='  ar '>True</td><td class='  al '>...</td><td class='  ar '>12:13:02.001061236</td><td class='  ar '>20220313 12:13:02.001061236</td><td class='  al '>Mar22</td></tr><tr><td class='lc  ar '>2</td><td class='  ar '>321.02</td><td class='  al '>SPY</td><td class='  ar '>739</td><td class='  ar '>True</td><td class='  al '>...</td><td class='  ar '>10:05:47.468199835</td><td class='  ar '>20220428 10:05:47.468199835</td><td class='  al '>Apr22</td></tr><tr><td class='lc  ar '>3</td><td class='  ar '>728.75</td><td class='  al '>TSLA</td><td class='  ar '>191</td><td class='  ar '>True</td><td class='  al '>...</td><td class='  ar '>13:33:27.072606771</td><td class='  ar '>20220204 13:33:27.072606771</td><td class='  al '>Feb22</td></tr><tr><td class='lc  ar '>4</td><td class='  ar '>414.23</td><td class='  al '>AMZN</td><td class='  ar '>955</td><td class='  ar '>False</td><td class='  al '>...</td><td class='  ar '>12:21:10.042617283</td><td class='  ar '>20220209 12:21:10.042617283</td><td class='  al '>Feb22</td></tr><tr><td class='lc  ar '>5</td><td class='  ar '>399.06</td><td class='  al '>TSLA</td><td class='  ar '>608</td><td class='  ar '>True</td><td class='  al '>...</td><td class='  ar '>10:22:12.201005950</td><td class='  ar '>20220430 10:22:12.201005950</td><td class='  al '>Apr22</td></tr><tr><td class='lc  ar '>6</td><td class='  ar '>918.26</td><td class='  al '>AMZN</td><td class='  ar '>93</td><td class='  ar '>False</td><td class='  al '>...</td><td class='  ar '>12:32:03.015948824</td><td class='  ar '>20220227 12:32:03.015948824</td><td class='  al '>Feb22</td></tr><tr><td class='lc  ar '>7</td><td class='  ar '>787.75</td><td class='  al '>GME</td><td class='  ar '>408</td><td class='  ar '>True</td><td class='  al '>...</td><td class='  ar '>15:00:34.274163745</td><td class='  ar '>20220420 15:00:34.274163745</td><td class='  al '>Apr22</td></tr><tr><td class='lc  ar '>8</td><td class='  ar '>478.57</td><td class='  al '>TSLA</td><td class='  ar '>595</td><td class='  ar '>False</td><td class='  al '>...</td><td class='  ar '>13:17:26.624255585</td><td class='  ar '>20220211 13:17:26.624255585</td><td class='  al '>Feb22</td></tr><tr><td class='lc  ar '>9</td><td class='  ar '>488.22</td><td class='  al '>SPY</td><td class='  ar '>807</td><td class='  ar '>False</td><td class='  al '>...</td><td class='  ar '>13:45:28.888911507</td><td class='  ar '>20220228 13:45:28.888911507</td><td class='  al '>Feb22</td></tr></tbody></table></body></html>\n",
                     "\n",
                     "[10 rows x 11 columns] total bytes: 660.0 B"
                  ],
                  "text/plain": []
               },
               "execution_count": 23,
               "metadata": {},
               "output_type": "execute_result"
            }
         ],
         "source": [
            "my_dset.sample()"
         ]
      },
      {
         "cell_type": "markdown",
         "metadata": {},
         "source": [
            "**Create another new month column by using the** `.start_of_month` **attribute.**\n",
            "\n",
            "This is nice for grouping because it will automatically sort correctly."
         ]
      },
      {
         "cell_type": "code",
         "execution_count": 24,
         "metadata": {},
         "outputs": [],
         "source": [
            "my_dset.month = my_dset.Date.start_of_month"
         ]
      },
      {
         "cell_type": "code",
         "execution_count": 25,
         "metadata": {},
         "outputs": [
            {
               "data": {
                  "text/html": [
                     "<html><head><style>table.tbl-588 tbody td{white-space: nowrap;}table.tbl-588 .lc{font-weight:bold;background-color: var( --jp-rendermime-table-row-hover-background);}table.tbl-588 .lg{background-color: #66da9940;}table.tbl-588 .lp{font-weight:bold;background-color: #ac66da40;}table.tbl-588 .msc{font-weight:normal;background-color:#00000011;}table.tbl-588 .al{text-align:left;}table.tbl-588 .ar{text-align:right;}table.tbl-588 .ac{text-align:center;}table.tbl-588 .bld{font-weight:bold;}table.tbl-588 .it{font-style:italic;}table.tbl-588 .ul{text-decoration:underline;}table.tbl-588 .st{text-decoration:line-through;}</style></head><body><table class='tbl-588'><thead><tr><td class='lc bld ar'>#</td><td class='lc bld ar'> Price</td><td class='lc bld al'>Symbol</td><td class='lc bld ar'>Size</td><td class='lc bld ar'>MyTrade</td><td class='lc bld al'>...</td><td class='lc bld ar'>              TradeDateTime</td><td class='lc bld al'>month_name</td><td class='lc bld ar'>     month</td></tr></thead><tbody><tr><td class='lc  ar '>0</td><td class='  ar '>272.34</td><td class='  al '>SPY</td><td class='  ar '>593</td><td class='  ar '>False</td><td class='  al '>...</td><td class='  ar '>20220421 15:56:06.447740285</td><td class='  al '>Apr22</td><td class='  ar '>2022-04-01</td></tr><tr><td class='lc  ar '>1</td><td class='  ar '>758.55</td><td class='  al '>SPY</td><td class='  ar '>210</td><td class='  ar '>True</td><td class='  al '>...</td><td class='  ar '>20220425 10:01:29.981701403</td><td class='  al '>Apr22</td><td class='  ar '>2022-04-01</td></tr><tr><td class='lc  ar '>2</td><td class='  ar '>654.72</td><td class='  al '>SPY</td><td class='  ar '>613</td><td class='  ar '>True</td><td class='  al '>...</td><td class='  ar '>20220330 09:38:12.459630380</td><td class='  al '>Mar22</td><td class='  ar '>2022-03-01</td></tr><tr><td class='lc  ar '>3</td><td class='  ar '>417.83</td><td class='  al '>TSLA</td><td class='  ar '>737</td><td class='  ar '>True</td><td class='  al '>...</td><td class='  ar '>20220426 15:29:01.508398022</td><td class='  al '>Apr22</td><td class='  ar '>2022-04-01</td></tr><tr><td class='lc  ar '>4</td><td class='  ar '>280.31</td><td class='  al '>AMZN</td><td class='  ar '>958</td><td class='  ar '>True</td><td class='  al '>...</td><td class='  ar '>20220327 11:43:36.813136697</td><td class='  al '>Mar22</td><td class='  ar '>2022-03-01</td></tr><tr><td class='lc  ar '>5</td><td class='  ar '>139.19</td><td class='  al '>AMZN</td><td class='  ar '>52</td><td class='  ar '>False</td><td class='  al '>...</td><td class='  ar '>20220418 13:50:10.245021957</td><td class='  al '>Apr22</td><td class='  ar '>2022-04-01</td></tr><tr><td class='lc  ar '>6</td><td class='  ar '>915.93</td><td class='  al '>TSLA</td><td class='  ar '>18</td><td class='  ar '>True</td><td class='  al '>...</td><td class='  ar '>20220420 13:55:37.175809652</td><td class='  al '>Apr22</td><td class='  ar '>2022-04-01</td></tr><tr><td class='lc  ar '>7</td><td class='  ar '>877.00</td><td class='  al '>TSLA</td><td class='  ar '>928</td><td class='  ar '>False</td><td class='  al '>...</td><td class='  ar '>20220223 11:51:05.923929754</td><td class='  al '>Feb22</td><td class='  ar '>2022-02-01</td></tr><tr><td class='lc  ar '>8</td><td class='  ar '>61.40</td><td class='  al '>AMZN</td><td class='  ar '>472</td><td class='  ar '>True</td><td class='  al '>...</td><td class='  ar '>20220311 09:40:49.323285896</td><td class='  al '>Mar22</td><td class='  ar '>2022-03-01</td></tr><tr><td class='lc  ar '>9</td><td class='  ar '>807.30</td><td class='  al '>SPY</td><td class='  ar '>863</td><td class='  ar '>True</td><td class='  al '>...</td><td class='  ar '>20220325 11:48:40.251197776</td><td class='  al '>Mar22</td><td class='  ar '>2022-03-01</td></tr></tbody></table></body></html>\n",
                     "\n",
                     "[10 rows x 12 columns] total bytes: 700.0 B"
                  ],
                  "text/plain": []
               },
               "execution_count": 25,
               "metadata": {},
               "output_type": "execute_result"
            }
         ],
         "source": [
            "my_dset.sample()"
         ]
      },
      {
         "cell_type": "markdown",
         "metadata": {},
         "source": [
            "## Sorting"
         ]
      },
      {
         "cell_type": "markdown",
         "metadata": {},
         "source": [
            "Riptable has two sorts, `sort_copy` (which preserves the original dataset) and `sort_inplace`, which is faster and more memory-efficient if you don't need the original data order."
         ]
      },
      {
         "cell_type": "markdown",
         "metadata": {},
         "source": [
            "**Sort your dataset by TradeDateTime.**\n",
            "\n",
            "This is the natural ordering of a list of trades, so do it in-place."
         ]
      },
      {
         "cell_type": "code",
         "execution_count": 26,
         "metadata": {},
         "outputs": [],
         "source": [
            "my_dset = my_dset.sort_inplace('TradeDateTime')"
         ]
      },
      {
         "cell_type": "code",
         "execution_count": 27,
         "metadata": {},
         "outputs": [
            {
               "data": {
                  "text/html": [
                     "<html><head><style>table.tbl-3440 tbody td{white-space: nowrap;}table.tbl-3440 .lc{font-weight:bold;background-color: var( --jp-rendermime-table-row-hover-background);}table.tbl-3440 .lg{background-color: #66da9940;}table.tbl-3440 .lp{font-weight:bold;background-color: #ac66da40;}table.tbl-3440 .msc{font-weight:normal;background-color:#00000011;}table.tbl-3440 .al{text-align:left;}table.tbl-3440 .ar{text-align:right;}table.tbl-3440 .ac{text-align:center;}table.tbl-3440 .bld{font-weight:bold;}table.tbl-3440 .it{font-style:italic;}table.tbl-3440 .ul{text-decoration:underline;}table.tbl-3440 .st{text-decoration:line-through;}</style></head><body><table class='tbl-3440'><thead><tr><td class='lc bld ar'>#</td><td class='lc bld ar'> Price</td><td class='lc bld al'>Symbol</td><td class='lc bld ar'>Size</td><td class='lc bld ar'>MyTrade</td><td class='lc bld al'>...</td><td class='lc bld ar'>              TradeDateTime</td><td class='lc bld al'>month_name</td><td class='lc bld ar'>     month</td></tr></thead><tbody><tr><td class='lc  ar '>0</td><td class='  ar '>379.21</td><td class='  al '>AMZN</td><td class='  ar '>385</td><td class='  ar '>False</td><td class='  al '>...</td><td class='  ar '>20220203 10:58:19.673425054</td><td class='  al '>Feb22</td><td class='  ar '>2022-02-01</td></tr><tr><td class='lc  ar '>1</td><td class='  ar '>617.50</td><td class='  al '>SPY</td><td class='  ar '>413</td><td class='  ar '>True</td><td class='  al '>...</td><td class='  ar '>20220214 14:02:42.426523660</td><td class='  al '>Feb22</td><td class='  ar '>2022-02-01</td></tr><tr><td class='lc  ar '>2</td><td class='  ar '>555.63</td><td class='  al '>SPY</td><td class='  ar '>617</td><td class='  ar '>False</td><td class='  al '>...</td><td class='  ar '>20220308 13:25:17.282540250</td><td class='  al '>Mar22</td><td class='  ar '>2022-03-01</td></tr><tr><td class='lc  ar '>3</td><td class='  ar '>718.59</td><td class='  al '>AMZN</td><td class='  ar '>34</td><td class='  ar '>True</td><td class='  al '>...</td><td class='  ar '>20220324 11:57:46.925665938</td><td class='  al '>Mar22</td><td class='  ar '>2022-03-01</td></tr><tr><td class='lc  ar '>4</td><td class='  ar '>838.81</td><td class='  al '>GME</td><td class='  ar '>958</td><td class='  ar '>False</td><td class='  al '>...</td><td class='  ar '>20220330 10:09:37.013952547</td><td class='  al '>Mar22</td><td class='  ar '>2022-03-01</td></tr><tr><td class='lc  ar '>5</td><td class='  ar '>498.17</td><td class='  al '>AMZN</td><td class='  ar '>135</td><td class='  ar '>False</td><td class='  al '>...</td><td class='  ar '>20220403 12:36:29.924505469</td><td class='  al '>Apr22</td><td class='  ar '>2022-04-01</td></tr><tr><td class='lc  ar '>6</td><td class='  ar '>123.59</td><td class='  al '>AMZN</td><td class='  ar '>927</td><td class='  ar '>True</td><td class='  al '>...</td><td class='  ar '>20220414 12:51:26.312197854</td><td class='  al '>Apr22</td><td class='  ar '>2022-04-01</td></tr><tr><td class='lc  ar '>7</td><td class='  ar '>339.86</td><td class='  al '>AMZN</td><td class='  ar '>805</td><td class='  ar '>True</td><td class='  al '>...</td><td class='  ar '>20220417 13:05:59.168005100</td><td class='  al '>Apr22</td><td class='  ar '>2022-04-01</td></tr><tr><td class='lc  ar '>8</td><td class='  ar '>158.91</td><td class='  al '>SPY</td><td class='  ar '>211</td><td class='  ar '>False</td><td class='  al '>...</td><td class='  ar '>20220428 09:30:22.411907771</td><td class='  al '>Apr22</td><td class='  ar '>2022-04-01</td></tr><tr><td class='lc  ar '>9</td><td class='  ar '>936.81</td><td class='  al '>TSLA</td><td class='  ar '>81</td><td class='  ar '>False</td><td class='  al '>...</td><td class='  ar '>20220430 15:06:53.166066606</td><td class='  al '>Apr22</td><td class='  ar '>2022-04-01</td></tr></tbody></table></body></html>\n",
                     "\n",
                     "[10 rows x 12 columns] total bytes: 700.0 B"
                  ],
                  "text/plain": []
               },
               "execution_count": 27,
               "metadata": {},
               "output_type": "execute_result"
            }
         ],
         "source": [
            "my_dset.sample()"
         ]
      },
      {
         "cell_type": "markdown",
         "metadata": {},
         "source": [
            "## Filtering"
         ]
      },
      {
         "cell_type": "markdown",
         "metadata": {
            "tags": []
         },
         "source": [
            "Filtering is the principal way to work with a subset of your data in riptable. It is commonly used for looking at a restricted set of trades matching some criterion you care about.\n",
            "\n",
            "Except in rare instances, though, you should maintain your dataset in its full size, and only apply a filter when performing a final computation.\n",
            "\n",
            "This will avoid unnecessary data duplication and improve speed & memory usage.\n",
            "\n",
            "**Construct a filter of only your sales. (A filter is a column of Booleans which is true only for the rows you're interested in.)**\n",
            "\n",
            "You can combine filters using & or |. Be careful to always wrap expressions in parentheses to avoid an extremely slow call into native python followed by a crash.\n",
            "\n",
            "Always `(my_dset.field1 > 10) & (my_dset.field2 < 5)`, never `my_dset.field1 > 10 & my_dset.field2 > 5`."
         ]
      },
      {
         "cell_type": "code",
         "execution_count": 28,
         "metadata": {},
         "outputs": [],
         "source": [
            "f_my_sales = my_dset.MyTrade & (my_dset.CustDirection == 'Buy')"
         ]
      },
      {
         "cell_type": "markdown",
         "metadata": {
            "tags": []
         },
         "source": [
            "**Compute the total Trade Size, filtered for only your sales.**\n",
            "\n",
            "For this and many other instances, you can & should pass your filter into the `filter` kwarg of the `.nansum(...)` call.\n",
            "\n",
            "This allows riptable to perform the filtering during the nansum computation, rather than instantiating a new column and then summing it."
         ]
      },
      {
         "cell_type": "code",
         "execution_count": 29,
         "metadata": {},
         "outputs": [
            {
               "data": {
                  "text/plain": [
                     "621241"
                  ]
               },
               "execution_count": 29,
               "metadata": {},
               "output_type": "execute_result"
            }
         ],
         "source": [
            "my_dset.Size.nansum(filter=f_my_sales)"
         ]
      },
      {
         "cell_type": "markdown",
         "metadata": {},
         "source": [
            "**Count how many times you sold each symbol.**\n",
            "\n",
            "Here the `.count()` function doesn't accept a `filter` kwarg, so you must fall back to explicitly filtering the `Symbol` field before counting.\n",
            "\n",
            "Be careful that you only filter down the `Symbol` field, not the entire dataset, otherwise you are wasting a lot of compute."
         ]
      },
      {
         "cell_type": "code",
         "execution_count": 30,
         "metadata": {},
         "outputs": [
            {
               "data": {
                  "text/html": [
                     "<html><head><style>table.tbl-2994 tbody td{white-space: nowrap;}table.tbl-2994 .lc{font-weight:bold;background-color: var( --jp-rendermime-table-row-hover-background);}table.tbl-2994 .lg{background-color: #66da9940;}table.tbl-2994 .lp{font-weight:bold;background-color: #ac66da40;}table.tbl-2994 .msc{font-weight:normal;background-color:#00000011;}table.tbl-2994 .al{text-align:left;}table.tbl-2994 .ar{text-align:right;}table.tbl-2994 .ac{text-align:center;}table.tbl-2994 .bld{font-weight:bold;}table.tbl-2994 .it{font-style:italic;}table.tbl-2994 .ul{text-decoration:underline;}table.tbl-2994 .st{text-decoration:line-through;}</style></head><body><table class='tbl-2994'><thead><tr><td class='lg bld al'>*Unique</td><td class='lc bld ar'>Count</td></tr></thead><tbody><tr><td class='lg  al '>AMZN</td><td class='  ar '>301</td></tr><tr><td class='lg  al '>GME</td><td class='  ar '>306</td></tr><tr><td class='lg  al '>SPY</td><td class='  ar '>282</td></tr><tr><td class='lg  al '>TSLA</td><td class='  ar '>340</td></tr></tbody></table></body></html>\n",
                     "\n",
                     "[4 rows x 2 columns] total bytes: 32.0 B"
                  ],
                  "text/plain": []
               },
               "execution_count": 30,
               "metadata": {},
               "output_type": "execute_result"
            }
         ],
         "source": [
            "my_dset.Symbol[f_my_sales].count()"
         ]
      },
      {
         "cell_type": "markdown",
         "metadata": {},
         "source": [
            "## Categoricals\n",
            "\n",
            "So far, we've been operating on your symbol column as a column of strings.\n",
            "\n",
            "However, it's far more efficient when you have a large column with many repeats to use a categorical, which assigns each unique value a number, and stores the labels & numbers separately.\n",
            "\n",
            "This is memory-efficient, and also computationally efficient, as riptable can peform operations on the unique values, then expand out to the full vector appropriately.\n",
            "\n",
            "**Make a new column of your string column converted to a categorical, using** `rt.Cat(column)`."
         ]
      },
      {
         "cell_type": "code",
         "execution_count": 31,
         "metadata": {
            "tags": []
         },
         "outputs": [
            {
               "data": {
                  "text/plain": [
                     "Categorical([AMZN, SPY, SPY, SPY, SPY, ..., TSLA, GME, SPY, AMZN, SPY]) Length: 5000\n",
                     "  FastArray([1, 3, 3, 3, 3, ..., 4, 2, 3, 1, 3], dtype=int8) Base Index: 1\n",
                     "  FastArray([b'AMZN', b'GME', b'SPY', b'TSLA'], dtype='|S4') Unique count: 4"
                  ]
               },
               "execution_count": 31,
               "metadata": {},
               "output_type": "execute_result"
            }
         ],
         "source": [
            "my_dset.Symbol_cat = rt.Cat(my_dset.Symbol)\n",
            "my_dset.Symbol_cat"
         ]
      },
      {
         "cell_type": "markdown",
         "metadata": {},
         "source": [
            "**Perform the same filtered count from above, on the categorical.**\n",
            "\n",
            "The categorical `.count()` admits a `filter` kwarg, which makes it simpler."
         ]
      },
      {
         "cell_type": "code",
         "execution_count": 32,
         "metadata": {},
         "outputs": [
            {
               "data": {
                  "text/html": [
                     "<html><head><style>table.tbl-3076 tbody td{white-space: nowrap;}table.tbl-3076 .lc{font-weight:bold;background-color: var( --jp-rendermime-table-row-hover-background);}table.tbl-3076 .lg{background-color: #66da9940;}table.tbl-3076 .lp{font-weight:bold;background-color: #ac66da40;}table.tbl-3076 .msc{font-weight:normal;background-color:#00000011;}table.tbl-3076 .al{text-align:left;}table.tbl-3076 .ar{text-align:right;}table.tbl-3076 .ac{text-align:center;}table.tbl-3076 .bld{font-weight:bold;}table.tbl-3076 .it{font-style:italic;}table.tbl-3076 .ul{text-decoration:underline;}table.tbl-3076 .st{text-decoration:line-through;}</style></head><body><table class='tbl-3076'><thead><tr><td class='lg bld al'>*Symbol_cat</td><td class='lc bld ar'>Count</td></tr></thead><tbody><tr><td class='lg  al '>AMZN</td><td class='  ar '>301</td></tr><tr><td class='lg  al '>GME</td><td class='  ar '>306</td></tr><tr><td class='lg  al '>SPY</td><td class='  ar '>282</td></tr><tr><td class='lg  al '>TSLA</td><td class='  ar '>340</td></tr></tbody></table></body></html>\n",
                     "\n",
                     "[4 rows x 2 columns] total bytes: 32.0 B"
                  ],
                  "text/plain": []
               },
               "execution_count": 32,
               "metadata": {},
               "output_type": "execute_result"
            }
         ],
         "source": [
            "my_dset.Symbol_cat.count(filter=f_my_sales)"
         ]
      },
      {
         "cell_type": "markdown",
         "metadata": {},
         "source": [
            "Categoricals can be used as groupings. When you call a numeric function on a categorical and pass numeric columns in, riptable knows to do the calculation per-group.\n",
            "\n",
            "**Compute the total amount of contracts sold by customers in each symbol.**"
         ]
      },
      {
         "cell_type": "code",
         "execution_count": 33,
         "metadata": {},
         "outputs": [
            {
               "data": {
                  "text/html": [
                     "<html><head><style>table.tbl-5652 tbody td{white-space: nowrap;}table.tbl-5652 .lc{font-weight:bold;background-color: var( --jp-rendermime-table-row-hover-background);}table.tbl-5652 .lg{background-color: #66da9940;}table.tbl-5652 .lp{font-weight:bold;background-color: #ac66da40;}table.tbl-5652 .msc{font-weight:normal;background-color:#00000011;}table.tbl-5652 .al{text-align:left;}table.tbl-5652 .ar{text-align:right;}table.tbl-5652 .ac{text-align:center;}table.tbl-5652 .bld{font-weight:bold;}table.tbl-5652 .it{font-style:italic;}table.tbl-5652 .ul{text-decoration:underline;}table.tbl-5652 .st{text-decoration:line-through;}</style></head><body><table class='tbl-5652'><thead><tr><td class='lg bld al'>*Symbol_cat</td><td class='lc bld ar'>  Size</td></tr></thead><tbody><tr><td class='lg  al '>AMZN</td><td class='  ar '>303513</td></tr><tr><td class='lg  al '>GME</td><td class='  ar '>290964</td></tr><tr><td class='lg  al '>SPY</td><td class='  ar '>337699</td></tr><tr><td class='lg  al '>TSLA</td><td class='  ar '>304961</td></tr></tbody></table></body></html>\n",
                     "\n",
                     "[4 rows x 2 columns] total bytes: 48.0 B"
                  ],
                  "text/plain": []
               },
               "execution_count": 33,
               "metadata": {},
               "output_type": "execute_result"
            }
         ],
         "source": [
            "my_dset.Symbol_cat.sum(my_dset.Size, filter=my_dset.CustDirection == 'Sell')"
         ]
      },
      {
         "cell_type": "markdown",
         "metadata": {},
         "source": [
            "The `transform=True` kwarg in a categorical operation performs the aggregation, then *transforms* it back up to the original shape of the categorical, giving each row the appropriate value from its group.\n",
            "\n",
            "**Make a new column which is the average trade price, per symbol.**"
         ]
      },
      {
         "cell_type": "code",
         "execution_count": 34,
         "metadata": {},
         "outputs": [],
         "source": [
            "my_dset.average_trade_price = my_dset.Symbol_cat.mean(my_dset.Price, transform=True)"
         ]
      },
      {
         "cell_type": "markdown",
         "metadata": {},
         "source": [
            "**Inspect with** `.sample()` **to confirm that this value is consistent for rows with matching symbol.**"
         ]
      },
      {
         "cell_type": "code",
         "execution_count": 35,
         "metadata": {},
         "outputs": [
            {
               "data": {
                  "text/html": [
                     "<html><head><style>table.tbl-8243 tbody td{white-space: nowrap;}table.tbl-8243 .lc{font-weight:bold;background-color: var( --jp-rendermime-table-row-hover-background);}table.tbl-8243 .lg{background-color: #66da9940;}table.tbl-8243 .lp{font-weight:bold;background-color: #ac66da40;}table.tbl-8243 .msc{font-weight:normal;background-color:#00000011;}table.tbl-8243 .al{text-align:left;}table.tbl-8243 .ar{text-align:right;}table.tbl-8243 .ac{text-align:center;}table.tbl-8243 .bld{font-weight:bold;}table.tbl-8243 .it{font-style:italic;}table.tbl-8243 .ul{text-decoration:underline;}table.tbl-8243 .st{text-decoration:line-through;}</style></head><body><table class='tbl-8243'><thead><tr><td class='lc bld ar'>#</td><td class='lc bld ar'> Price</td><td class='lc bld al'>Symbol</td><td class='lc bld ar'>Size</td><td class='lc bld ar'>MyTrade</td><td class='lc bld al'>...</td><td class='lc bld al'>month_name</td><td class='lc bld ar'>     month</td><td class='lc bld al'>Symbol_cat</td><td class='lc bld ar'>average_trade_price</td></tr></thead><tbody><tr><td class='lc  ar '>0</td><td class='  ar '>612.27</td><td class='  al '>AMZN</td><td class='  ar '>356</td><td class='  ar '>False</td><td class='  al '>...</td><td class='  al '>Feb22</td><td class='  ar '>2022-02-01</td><td class='  al '>AMZN</td><td class='  ar '>497.66</td></tr><tr><td class='lc  ar '>1</td><td class='  ar '>5.42</td><td class='  al '>AMZN</td><td class='  ar '>610</td><td class='  ar '>False</td><td class='  al '>...</td><td class='  al '>Feb22</td><td class='  ar '>2022-02-01</td><td class='  al '>AMZN</td><td class='  ar '>497.66</td></tr><tr><td class='lc  ar '>2</td><td class='  ar '>877.96</td><td class='  al '>AMZN</td><td class='  ar '>58</td><td class='  ar '>False</td><td class='  al '>...</td><td class='  al '>Feb22</td><td class='  ar '>2022-02-01</td><td class='  al '>AMZN</td><td class='  ar '>497.66</td></tr><tr><td class='lc  ar '>3</td><td class='  ar '>340.75</td><td class='  al '>AMZN</td><td class='  ar '>802</td><td class='  ar '>True</td><td class='  al '>...</td><td class='  al '>Mar22</td><td class='  ar '>2022-03-01</td><td class='  al '>AMZN</td><td class='  ar '>497.66</td></tr><tr><td class='lc  ar '>4</td><td class='  ar '>564.53</td><td class='  al '>GME</td><td class='  ar '>486</td><td class='  ar '>True</td><td class='  al '>...</td><td class='  al '>Apr22</td><td class='  ar '>2022-04-01</td><td class='  al '>GME</td><td class='  ar '>495.29</td></tr><tr><td class='lc  ar '>5</td><td class='  ar '>46.86</td><td class='  al '>TSLA</td><td class='  ar '>414</td><td class='  ar '>True</td><td class='  al '>...</td><td class='  al '>Apr22</td><td class='  ar '>2022-04-01</td><td class='  al '>TSLA</td><td class='  ar '>499.91</td></tr><tr><td class='lc  ar '>6</td><td class='  ar '>850.28</td><td class='  al '>SPY</td><td class='  ar '>723</td><td class='  ar '>True</td><td class='  al '>...</td><td class='  al '>Apr22</td><td class='  ar '>2022-04-01</td><td class='  al '>SPY</td><td class='  ar '>490.44</td></tr><tr><td class='lc  ar '>7</td><td class='  ar '>895.93</td><td class='  al '>SPY</td><td class='  ar '>967</td><td class='  ar '>False</td><td class='  al '>...</td><td class='  al '>Apr22</td><td class='  ar '>2022-04-01</td><td class='  al '>SPY</td><td class='  ar '>490.44</td></tr><tr><td class='lc  ar '>8</td><td class='  ar '>267.21</td><td class='  al '>AMZN</td><td class='  ar '>98</td><td class='  ar '>True</td><td class='  al '>...</td><td class='  al '>Apr22</td><td class='  ar '>2022-04-01</td><td class='  al '>AMZN</td><td class='  ar '>497.66</td></tr><tr><td class='lc  ar '>9</td><td class='  ar '>279.97</td><td class='  al '>GME</td><td class='  ar '>887</td><td class='  ar '>True</td><td class='  al '>...</td><td class='  al '>Apr22</td><td class='  ar '>2022-04-01</td><td class='  al '>GME</td><td class='  ar '>495.29</td></tr></tbody></table></body></html>\n",
                     "\n",
                     "[10 rows x 14 columns] total bytes: 806.0 B"
                  ],
                  "text/plain": []
               },
               "execution_count": 35,
               "metadata": {},
               "output_type": "execute_result"
            }
         ],
         "source": [
            "my_dset.sample()"
         ]
      },
      {
         "cell_type": "markdown",
         "metadata": {},
         "source": [
            "If you need to perform a custom operation on each categorical, you can pass in a function with `.apply_reduce` (which aggregates) or `.apply_nonreduce` (which is like `transform=True`).\n",
            "\n",
            "Note that the custom function you pass needs to expect a FastArray, and output a scalar (`apply_reduce`) or same-length FastArray (`apply_nonreduce`).\n",
            "\n",
            "**Find, for each symbol, the trade size of the second trade occuring in the dataset.**"
         ]
      },
      {
         "cell_type": "code",
         "execution_count": 36,
         "metadata": {},
         "outputs": [
            {
               "data": {
                  "text/html": [
                     "<html><head><style>table.tbl-9753 tbody td{white-space: nowrap;}table.tbl-9753 .lc{font-weight:bold;background-color: var( --jp-rendermime-table-row-hover-background);}table.tbl-9753 .lg{background-color: #66da9940;}table.tbl-9753 .lp{font-weight:bold;background-color: #ac66da40;}table.tbl-9753 .msc{font-weight:normal;background-color:#00000011;}table.tbl-9753 .al{text-align:left;}table.tbl-9753 .ar{text-align:right;}table.tbl-9753 .ac{text-align:center;}table.tbl-9753 .bld{font-weight:bold;}table.tbl-9753 .it{font-style:italic;}table.tbl-9753 .ul{text-decoration:underline;}table.tbl-9753 .st{text-decoration:line-through;}</style></head><body><table class='tbl-9753'><thead><tr><td class='lg bld al'>*Symbol_cat</td><td class='lc bld ar'>Size</td></tr></thead><tbody><tr><td class='lg  al '>AMZN</td><td class='  ar '>700</td></tr><tr><td class='lg  al '>GME</td><td class='  ar '>42</td></tr><tr><td class='lg  al '>SPY</td><td class='  ar '>492</td></tr><tr><td class='lg  al '>TSLA</td><td class='  ar '>536</td></tr></tbody></table></body></html>\n",
                     "\n",
                     "[4 rows x 2 columns] total bytes: 48.0 B"
                  ],
                  "text/plain": []
               },
               "execution_count": 36,
               "metadata": {},
               "output_type": "execute_result"
            }
         ],
         "source": [
            "my_dset.Symbol_cat.apply_reduce(lambda x: x[1], my_dset.Size)"
         ]
      },
      {
         "cell_type": "markdown",
         "metadata": {},
         "source": [
            "Sometimes you want to aggregate based on multiple values. In these cases we use multi-key categoricals.\n",
            "\n",
            "**Use a multi-key categorical to compute the average size per symbol-month pair.**"
         ]
      },
      {
         "cell_type": "code",
         "execution_count": 37,
         "metadata": {},
         "outputs": [],
         "source": [
            "my_dset.Symbol_month_cat = rt.Cat([my_dset.Symbol, my_dset.month])"
         ]
      },
      {
         "cell_type": "code",
         "execution_count": 38,
         "metadata": {},
         "outputs": [
            {
               "data": {
                  "text/html": [
                     "<html><head><style>table.tbl-8639 tbody td{white-space: nowrap;}table.tbl-8639 .lc{font-weight:bold;background-color: var( --jp-rendermime-table-row-hover-background);}table.tbl-8639 .lg{background-color: #66da9940;}table.tbl-8639 .lp{font-weight:bold;background-color: #ac66da40;}table.tbl-8639 .msc{font-weight:normal;background-color:#00000011;}table.tbl-8639 .al{text-align:left;}table.tbl-8639 .ar{text-align:right;}table.tbl-8639 .ac{text-align:center;}table.tbl-8639 .bld{font-weight:bold;}table.tbl-8639 .it{font-style:italic;}table.tbl-8639 .ul{text-decoration:underline;}table.tbl-8639 .st{text-decoration:line-through;}</style></head><body><table class='tbl-8639'><thead><tr><td class='lg bld al'>*Symbol</td><td class='lg bld ar'>    *month</td><td class='lc bld ar'>  Size</td></tr></thead><tbody><tr><td class='lg  al '>AMZN</td><td class='lg  ar '>2022-02-01</td><td class='  ar '>473.99</td></tr><tr><td class='lg  al '>.</td><td class='lg  ar '>2022-03-01</td><td class='  ar '>495.32</td></tr><tr><td class='lg  al '>.</td><td class='lg  ar '>2022-04-01</td><td class='  ar '>493.56</td></tr><tr><td class='lg  al '>GME</td><td class='lg  ar '>2022-02-01</td><td class='  ar '>508.95</td></tr><tr><td class='lg  al '>.</td><td class='lg  ar '>2022-03-01</td><td class='  ar '>506.99</td></tr><tr><td class='lg  al '>.</td><td class='lg  ar '>2022-04-01</td><td class='  ar '>479.18</td></tr><tr><td class='lg  al '>SPY</td><td class='lg  ar '>2022-02-01</td><td class='  ar '>509.76</td></tr><tr><td class='lg  al '>.</td><td class='lg  ar '>2022-03-01</td><td class='  ar '>529.28</td></tr><tr><td class='lg  al '>.</td><td class='lg  ar '>2022-04-01</td><td class='  ar '>479.58</td></tr><tr><td class='lg  al '>TSLA</td><td class='lg  ar '>2022-02-01</td><td class='  ar '>501.33</td></tr><tr><td class='lg  al '>.</td><td class='lg  ar '>2022-03-01</td><td class='  ar '>469.43</td></tr><tr><td class='lg  al '>.</td><td class='lg  ar '>2022-04-01</td><td class='  ar '>517.81</td></tr></tbody></table></body></html>\n",
                     "\n",
                     "[12 rows x 3 columns] total bytes: 192.0 B"
                  ],
                  "text/plain": []
               },
               "execution_count": 38,
               "metadata": {},
               "output_type": "execute_result"
            }
         ],
         "source": [
            "my_dset.Symbol_month_cat.nanmean(my_dset.Size).sort_inplace('Symbol')"
         ]
      },
      {
         "cell_type": "markdown",
         "metadata": {
            "tags": []
         },
         "source": [
            "## Accumulating"
         ]
      },
      {
         "cell_type": "markdown",
         "metadata": {},
         "source": [
            "Aggregating over two values for human viewing is often most conveniently done with an accum. \n",
            "\n",
            "**Use** `Accum2` **to compute the average size per symbol-month pair.**"
         ]
      },
      {
         "cell_type": "code",
         "execution_count": 39,
         "metadata": {},
         "outputs": [
            {
               "data": {
                  "text/html": [
                     "<html><head><style>table.tbl-7946 tbody td{white-space: nowrap;}table.tbl-7946 .lc{font-weight:bold;background-color: var( --jp-rendermime-table-row-hover-background);}table.tbl-7946 .lg{background-color: #66da9940;}table.tbl-7946 .lp{font-weight:bold;background-color: #ac66da40;}table.tbl-7946 .msc{font-weight:normal;background-color:#00000011;}table.tbl-7946 .al{text-align:left;}table.tbl-7946 .ar{text-align:right;}table.tbl-7946 .ac{text-align:center;}table.tbl-7946 .bld{font-weight:bold;}table.tbl-7946 .it{font-style:italic;}table.tbl-7946 .ul{text-decoration:underline;}table.tbl-7946 .st{text-decoration:line-through;}</style></head><body><table class='tbl-7946'><thead><tr><td class='lg bld al'>*Symbol</td><td class='lc bld ar'>2022-02-01</td><td class='lc bld ar'>2022-03-01</td><td class='lc bld ar'>2022-04-01</td><td class='lg bld ar'>Nanmean</td></tr></thead><tbody><tr><td class='lg  al '>AMZN</td><td class='  ar '>473.99</td><td class='  ar '>495.32</td><td class='  ar '>493.56</td><td class='lg  ar '>487.57</td></tr><tr><td class='lg  al '>GME</td><td class='  ar '>508.95</td><td class='  ar '>506.99</td><td class='  ar '>479.18</td><td class='lg  ar '>498.34</td></tr><tr><td class='lg  al '>SPY</td><td class='  ar '>509.76</td><td class='  ar '>529.28</td><td class='  ar '>479.58</td><td class='lg  ar '>506.63</td></tr><tr><td class='lg  al '>TSLA</td><td class='  ar '>501.33</td><td class='  ar '>469.43</td><td class='  ar '>517.81</td><td class='lg  ar '>495.67</td></tr><tr><td class='lg ar'>Nanmean</td><td class='lg ar'>    497.85</td><td class='lg ar'>    499.98</td><td class='lg ar'>    492.81</td><td class='lg ar'> 496.97</td></tr></tbody></table></body></html>\n",
                     "\n",
                     "[4 rows x 5 columns] total bytes: 144.0 B"
                  ],
                  "text/plain": []
               },
               "execution_count": 39,
               "metadata": {},
               "output_type": "execute_result"
            }
         ],
         "source": [
            "rt.Accum2(my_dset.Symbol, my_dset.month).nanmean(my_dset.Size)"
         ]
      },
      {
         "cell_type": "markdown",
         "metadata": {},
         "source": [
            "Average numbers can be meaningless. It is often better to consider relative percentage instead.\n",
            "\n",
            "**Use** `accum_ratiop` **to compute the fraction of total volume done by each symbol-month pair.**"
         ]
      },
      {
         "cell_type": "code",
         "execution_count": 40,
         "metadata": {},
         "outputs": [
            {
               "data": {
                  "text/html": [
                     "<html><head><style>table.tbl-1523 tbody td{white-space: nowrap;}table.tbl-1523 .lc{font-weight:bold;background-color: var( --jp-rendermime-table-row-hover-background);}table.tbl-1523 .lg{background-color: #66da9940;}table.tbl-1523 .lp{font-weight:bold;background-color: #ac66da40;}table.tbl-1523 .msc{font-weight:normal;background-color:#00000011;}table.tbl-1523 .al{text-align:left;}table.tbl-1523 .ar{text-align:right;}table.tbl-1523 .ac{text-align:center;}table.tbl-1523 .bld{font-weight:bold;}table.tbl-1523 .it{font-style:italic;}table.tbl-1523 .ul{text-decoration:underline;}table.tbl-1523 .st{text-decoration:line-through;}</style></head><body><table class='tbl-1523'><thead><tr><td class='lg bld al'>*Symbol   </td><td class='lc bld ar'>2022-02-01</td><td class='lc bld ar'>2022-03-01</td><td class='lc bld ar'>2022-04-01</td><td class='lg bld ar'>TotalRatio</td><td class='lg bld ar'>  Total</td></tr></thead><tbody><tr><td class='lg  al '>AMZN</td><td class='  ar '>32.93</td><td class='  ar '>36.70</td><td class='  ar '>30.37</td><td class='lg  ar '>100.00</td><td class='lg  ar '>628959</td></tr><tr><td class='lg  al '>GME</td><td class='  ar '>31.96</td><td class='  ar '>36.02</td><td class='  ar '>32.02</td><td class='lg  ar '>100.00</td><td class='lg  ar '>594021</td></tr><tr><td class='lg  al '>SPY</td><td class='  ar '>32.93</td><td class='  ar '>36.10</td><td class='  ar '>30.98</td><td class='lg  ar '>100.00</td><td class='lg  ar '>636328</td></tr><tr><td class='lg  al '>TSLA</td><td class='  ar '>31.90</td><td class='  ar '>33.17</td><td class='  ar '>34.93</td><td class='lg  ar '>100.00</td><td class='lg  ar '>625533</td></tr><tr><td class='lg ar'>TotalRatio</td><td class='lg ar'>     32.44</td><td class='lg ar'>     35.49</td><td class='lg ar'>     32.07</td><td class='lg ar'>    100.00</td><td class='lg ar'>       </td></tr><tr><td class='lg ar'>     Total</td><td class='lg ar'>    806012</td><td class='lg ar'>    881963</td><td class='lg ar'>    796866</td><td class='lg ar'>          </td><td class='lg ar'>2484841</td></tr></tbody></table></body></html>\n",
                     "\n",
                     "[4 rows x 6 columns] total bytes: 176.0 B"
                  ],
                  "text/plain": []
               },
               "execution_count": 40,
               "metadata": {},
               "output_type": "execute_result"
            }
         ],
         "source": [
            "rt.accum_ratiop(my_dset.Symbol, my_dset.month, my_dset.Size, norm_by='R')"
         ]
      },
      {
         "cell_type": "markdown",
         "metadata": {},
         "source": [
            "## Merging"
         ]
      },
      {
         "cell_type": "markdown",
         "metadata": {},
         "source": [
            "There are two main types of merges.\n",
            "\n",
            "First is `merge_lookup`. This is used for enriching one (typically large) dataset with information from another (typically small) dataset.\n",
            "\n",
            "**Create a new dataset with one row per symbol from your dataset, and a second column of who trades each symbol.**"
         ]
      },
      {
         "cell_type": "code",
         "execution_count": 41,
         "metadata": {},
         "outputs": [],
         "source": [
            "symbol_trader = rt.Dataset({'UnderlyingSymbol': ['GME', 'TSLA', 'SPY', 'AMZN'],\n",
            "                           'Trader': ['Nate', 'Elon', 'Josh', 'Dan']})"
         ]
      },
      {
         "cell_type": "code",
         "execution_count": 42,
         "metadata": {},
         "outputs": [
            {
               "data": {
                  "text/html": [
                     "<html><head><style>table.tbl-1299 tbody td{white-space: nowrap;}table.tbl-1299 .lc{font-weight:bold;background-color: var( --jp-rendermime-table-row-hover-background);}table.tbl-1299 .lg{background-color: #66da9940;}table.tbl-1299 .lp{font-weight:bold;background-color: #ac66da40;}table.tbl-1299 .msc{font-weight:normal;background-color:#00000011;}table.tbl-1299 .al{text-align:left;}table.tbl-1299 .ar{text-align:right;}table.tbl-1299 .ac{text-align:center;}table.tbl-1299 .bld{font-weight:bold;}table.tbl-1299 .it{font-style:italic;}table.tbl-1299 .ul{text-decoration:underline;}table.tbl-1299 .st{text-decoration:line-through;}</style></head><body><table class='tbl-1299'><thead><tr><td class='lc bld ar'>#</td><td class='lc bld al'>UnderlyingSymbol</td><td class='lc bld al'>Trader</td></tr></thead><tbody><tr><td class='lc  ar '>0</td><td class='  al '>GME</td><td class='  al '>Nate</td></tr><tr><td class='lc  ar '>1</td><td class='  al '>TSLA</td><td class='  al '>Elon</td></tr><tr><td class='lc  ar '>2</td><td class='  al '>SPY</td><td class='  al '>Josh</td></tr><tr><td class='lc  ar '>3</td><td class='  al '>AMZN</td><td class='  al '>Dan</td></tr></tbody></table></body></html>\n",
                     "\n",
                     "[4 rows x 2 columns] total bytes: 32.0 B"
                  ],
                  "text/plain": []
               },
               "execution_count": 42,
               "metadata": {},
               "output_type": "execute_result"
            }
         ],
         "source": [
            "symbol_trader"
         ]
      },
      {
         "cell_type": "markdown",
         "metadata": {},
         "source": [
            "**Enrich the main dataset by putting the correct trader into each row.**"
         ]
      },
      {
         "cell_type": "code",
         "execution_count": 43,
         "metadata": {
            "tags": []
         },
         "outputs": [],
         "source": [
            "my_dset.Trader = my_dset.merge_lookup(symbol_trader, on=('Symbol', 'UnderlyingSymbol'), columns_left=[])['Trader']"
         ]
      },
      {
         "cell_type": "code",
         "execution_count": 44,
         "metadata": {
            "tags": []
         },
         "outputs": [
            {
               "data": {
                  "text/html": [
                     "<html><head><style>table.tbl-5963 tbody td{white-space: nowrap;}table.tbl-5963 .lc{font-weight:bold;background-color: var( --jp-rendermime-table-row-hover-background);}table.tbl-5963 .lg{background-color: #66da9940;}table.tbl-5963 .lp{font-weight:bold;background-color: #ac66da40;}table.tbl-5963 .msc{font-weight:normal;background-color:#00000011;}table.tbl-5963 .al{text-align:left;}table.tbl-5963 .ar{text-align:right;}table.tbl-5963 .ac{text-align:center;}table.tbl-5963 .bld{font-weight:bold;}table.tbl-5963 .it{font-style:italic;}table.tbl-5963 .ul{text-decoration:underline;}table.tbl-5963 .st{text-decoration:line-through;}</style></head><body><table class='tbl-5963'><thead><tr><td class='lc bld ar'>#</td><td class='lc bld ar'> Price</td><td class='lc bld al'>Symbol</td><td class='lc bld ar'>Size</td><td class='lc bld ar'>MyTrade</td><td class='lc bld al'>...</td><td class='lc bld al'>Symbol_cat</td><td class='lc bld ar'>average_trade_price</td><td class='lc bld al'>Symbol_month_cat  </td><td class='lc bld al'>Trader</td></tr></thead><tbody><tr><td class='lc  ar '>0</td><td class='  ar '>702.44</td><td class='  al '>SPY</td><td class='  ar '>739</td><td class='  ar '>True</td><td class='  al '>...</td><td class='  al '>SPY</td><td class='  ar '>490.44</td><td class='  al '>(SPY, 2022-02-01)</td><td class='  al '>Josh</td></tr><tr><td class='lc  ar '>1</td><td class='  ar '>926.83</td><td class='  al '>TSLA</td><td class='  ar '>591</td><td class='  ar '>True</td><td class='  al '>...</td><td class='  al '>TSLA</td><td class='  ar '>499.91</td><td class='  al '>(TSLA, 2022-02-01)</td><td class='  al '>Elon</td></tr><tr><td class='lc  ar '>2</td><td class='  ar '>450.66</td><td class='  al '>SPY</td><td class='  ar '>459</td><td class='  ar '>False</td><td class='  al '>...</td><td class='  al '>SPY</td><td class='  ar '>490.44</td><td class='  al '>(SPY, 2022-02-01)</td><td class='  al '>Josh</td></tr><tr><td class='lc  ar '>3</td><td class='  ar '>664.47</td><td class='  al '>SPY</td><td class='  ar '>846</td><td class='  ar '>True</td><td class='  al '>...</td><td class='  al '>SPY</td><td class='  ar '>490.44</td><td class='  al '>(SPY, 2022-03-01)</td><td class='  al '>Josh</td></tr><tr><td class='lc  ar '>4</td><td class='  ar '>464.46</td><td class='  al '>AMZN</td><td class='  ar '>379</td><td class='  ar '>True</td><td class='  al '>...</td><td class='  al '>AMZN</td><td class='  ar '>497.66</td><td class='  al '>(AMZN, 2022-03-01)</td><td class='  al '>Dan</td></tr><tr><td class='lc  ar '>5</td><td class='  ar '>508.80</td><td class='  al '>GME</td><td class='  ar '>907</td><td class='  ar '>False</td><td class='  al '>...</td><td class='  al '>GME</td><td class='  ar '>495.29</td><td class='  al '>(GME, 2022-03-01)</td><td class='  al '>Nate</td></tr><tr><td class='lc  ar '>6</td><td class='  ar '>145.61</td><td class='  al '>TSLA</td><td class='  ar '>289</td><td class='  ar '>True</td><td class='  al '>...</td><td class='  al '>TSLA</td><td class='  ar '>499.91</td><td class='  al '>(TSLA, 2022-04-01)</td><td class='  al '>Elon</td></tr><tr><td class='lc  ar '>7</td><td class='  ar '>729.66</td><td class='  al '>GME</td><td class='  ar '>148</td><td class='  ar '>False</td><td class='  al '>...</td><td class='  al '>GME</td><td class='  ar '>495.29</td><td class='  al '>(GME, 2022-04-01)</td><td class='  al '>Nate</td></tr><tr><td class='lc  ar '>8</td><td class='  ar '>20.50</td><td class='  al '>TSLA</td><td class='  ar '>769</td><td class='  ar '>True</td><td class='  al '>...</td><td class='  al '>TSLA</td><td class='  ar '>499.91</td><td class='  al '>(TSLA, 2022-04-01)</td><td class='  al '>Elon</td></tr><tr><td class='lc  ar '>9</td><td class='  ar '>768.59</td><td class='  al '>GME</td><td class='  ar '>957</td><td class='  ar '>True</td><td class='  al '>...</td><td class='  al '>GME</td><td class='  ar '>495.29</td><td class='  al '>(GME, 2022-04-01)</td><td class='  al '>Nate</td></tr></tbody></table></body></html>\n",
                     "\n",
                     "[10 rows x 16 columns] total bytes: 952.0 B"
                  ],
                  "text/plain": []
               },
               "execution_count": 44,
               "metadata": {},
               "output_type": "execute_result"
            }
         ],
         "source": [
            "my_dset.sample()"
         ]
      },
      {
         "cell_type": "markdown",
         "metadata": {},
         "source": [
            "The second type of merge is `merge_asof`, which is used for fuzzy alignment between two datasets, typically by time (though often by other variables).\n",
            "\n",
            "**Create a new index price dataset with one price per minute, which covers all the Dates in your dataset.**\n",
            "\n",
            "The index price doesn't need to be reasonable.\n",
            "\n",
            "Each row should have a DateTimeNano as the datetime."
         ]
      },
      {
         "cell_type": "code",
         "execution_count": 45,
         "metadata": {
            "tags": []
         },
         "outputs": [],
         "source": [
            "num_minutes = int((my_dset.TradeDateTime.max() - my_dset.TradeDateTime.min()).minutes[0])\n",
            "start_datetime = rt.Date(my_dset.TradeDateTime.min())"
         ]
      },
      {
         "cell_type": "code",
         "execution_count": 46,
         "metadata": {
            "tags": []
         },
         "outputs": [],
         "source": [
            "index_price = rt.Dataset({'DateTime': start_datetime + rt.TimeSpan(range(num_minutes), unit='m'),\n",
            "                          'IndexPrice': rng.uniform(3500, 4500, num_minutes)})"
         ]
      },
      {
         "cell_type": "code",
         "execution_count": 47,
         "metadata": {
            "tags": []
         },
         "outputs": [
            {
               "data": {
                  "text/html": [
                     "<html><head><style>table.tbl-1881 tbody td{white-space: nowrap;}table.tbl-1881 .lc{font-weight:bold;background-color: var( --jp-rendermime-table-row-hover-background);}table.tbl-1881 .lg{background-color: #66da9940;}table.tbl-1881 .lp{font-weight:bold;background-color: #ac66da40;}table.tbl-1881 .msc{font-weight:normal;background-color:#00000011;}table.tbl-1881 .al{text-align:left;}table.tbl-1881 .ar{text-align:right;}table.tbl-1881 .ac{text-align:center;}table.tbl-1881 .bld{font-weight:bold;}table.tbl-1881 .it{font-style:italic;}table.tbl-1881 .ul{text-decoration:underline;}table.tbl-1881 .st{text-decoration:line-through;}</style></head><body><table class='tbl-1881'><thead><tr><td class='lc bld ar'>#</td><td class='lc bld ar'>                   DateTime</td><td class='lc bld ar'>IndexPrice</td></tr></thead><tbody><tr><td class='lc  ar '>0</td><td class='  ar '>20220217 07:25:00.000000000</td><td class='  ar '>3742.56</td></tr><tr><td class='lc  ar '>1</td><td class='  ar '>20220218 12:24:00.000000000</td><td class='  ar '>4439.16</td></tr><tr><td class='lc  ar '>2</td><td class='  ar '>20220225 16:41:00.000000000</td><td class='  ar '>3833.25</td></tr><tr><td class='lc  ar '>3</td><td class='  ar '>20220303 13:44:00.000000000</td><td class='  ar '>4341.40</td></tr><tr><td class='lc  ar '>4</td><td class='  ar '>20220326 08:00:00.000000000</td><td class='  ar '>4356.62</td></tr><tr><td class='lc  ar '>5</td><td class='  ar '>20220402 02:58:00.000000000</td><td class='  ar '>3796.68</td></tr><tr><td class='lc  ar '>6</td><td class='  ar '>20220403 15:55:00.000000000</td><td class='  ar '>3645.95</td></tr><tr><td class='lc  ar '>7</td><td class='  ar '>20220416 10:01:00.000000000</td><td class='  ar '>4469.10</td></tr><tr><td class='lc  ar '>8</td><td class='  ar '>20220423 03:30:00.000000000</td><td class='  ar '>4284.35</td></tr><tr><td class='lc  ar '>9</td><td class='  ar '>20220427 08:09:00.000000000</td><td class='  ar '>4347.81</td></tr></tbody></table></body></html>\n",
                     "\n",
                     "[10 rows x 2 columns] total bytes: 160.0 B"
                  ],
                  "text/plain": []
               },
               "execution_count": 47,
               "metadata": {},
               "output_type": "execute_result"
            }
         ],
         "source": [
            "index_price.sample()"
         ]
      },
      {
         "cell_type": "markdown",
         "metadata": {},
         "source": [
            "**Use** `merge_asof` **to get the most recent Index Price associated with each trade in your main dataset.**\n",
            "\n",
            "Note both datasets need to be sorted for merge_asof.\n",
            "\n",
            "The `on` kwarg is the numeric/time field that looks for close matches.\n",
            "\n",
            "The `by` kwarg is not necessary here, but could constrain the match to a subset if, for example, you had multiple indices and a column of which one each row is associated with.\n",
            "\n",
            "**Use** `direction='backward'` **to ensure you're not biasing your data by looking into the future!**"
         ]
      },
      {
         "cell_type": "code",
         "execution_count": 48,
         "metadata": {
            "tags": []
         },
         "outputs": [],
         "source": [
            "my_dset.IndexPrice = my_dset.merge_asof(index_price, on=('TradeDateTime', 'DateTime'), direction='backward', columns_left=[])['IndexPrice']"
         ]
      },
      {
         "cell_type": "markdown",
         "metadata": {},
         "source": [
            "## Saving/Loading"
         ]
      },
      {
         "cell_type": "markdown",
         "metadata": {},
         "source": [
            "The native riptable filetype is .sds. It's the fastest way to save & load your data."
         ]
      },
      {
         "cell_type": "markdown",
         "metadata": {},
         "source": [
            "**Save out your dataset to file using** `rt.save_sds`."
         ]
      },
      {
         "cell_type": "code",
         "execution_count": 49,
         "metadata": {
            "tags": []
         },
         "outputs": [],
         "source": [
            "rt.save_sds('my_dset.sds', my_dset)"
         ]
      },
      {
         "cell_type": "markdown",
         "metadata": {},
         "source": [
            "**Delete your dataset to free up memory using the native python** `del my_dset`.\n",
            "\n",
            "Note that if there are references to the dataset in other objects you may not actually free up memory."
         ]
      },
      {
         "cell_type": "code",
         "execution_count": 50,
         "metadata": {
            "tags": []
         },
         "outputs": [],
         "source": [
            "del my_dset"
         ]
      },
      {
         "cell_type": "markdown",
         "metadata": {},
         "source": [
            "**Reload your saved dataset from disk with** `rt.load_sds`."
         ]
      },
      {
         "cell_type": "code",
         "execution_count": 51,
         "metadata": {
            "tags": []
         },
         "outputs": [],
         "source": [
            "my_dset = rt.load_sds('my_dset.sds')"
         ]
      },
      {
         "cell_type": "code",
         "execution_count": 52,
         "metadata": {
            "tags": []
         },
         "outputs": [
            {
               "data": {
                  "text/html": [
                     "<html><head><style>table.tbl-3138 tbody td{white-space: nowrap;}table.tbl-3138 .lc{font-weight:bold;background-color: var( --jp-rendermime-table-row-hover-background);}table.tbl-3138 .lg{background-color: #66da9940;}table.tbl-3138 .lp{font-weight:bold;background-color: #ac66da40;}table.tbl-3138 .msc{font-weight:normal;background-color:#00000011;}table.tbl-3138 .al{text-align:left;}table.tbl-3138 .ar{text-align:right;}table.tbl-3138 .ac{text-align:center;}table.tbl-3138 .bld{font-weight:bold;}table.tbl-3138 .it{font-style:italic;}table.tbl-3138 .ul{text-decoration:underline;}table.tbl-3138 .st{text-decoration:line-through;}</style></head><body><table class='tbl-3138'><thead><tr><td class='lc bld ar'>#</td><td class='lc bld ar'> Price</td><td class='lc bld al'>Symbol</td><td class='lc bld ar'>Size</td><td class='lc bld ar'>MyTrade</td><td class='lc bld al'>...</td><td class='lc bld ar'>average_trade_price</td><td class='lc bld al'>Symbol_month_cat  </td><td class='lc bld al'>Trader</td><td class='lc bld ar'>IndexPrice</td></tr></thead><tbody><tr><td class='lc  ar '>0</td><td class='  ar '>569.10</td><td class='  al '>TSLA</td><td class='  ar '>719</td><td class='  ar '>True</td><td class='  al '>...</td><td class='  ar '>499.91</td><td class='  al '>(TSLA, 2022-02-01)</td><td class='  al '>Elon</td><td class='  ar '>3945.79</td></tr><tr><td class='lc  ar '>1</td><td class='  ar '>915.31</td><td class='  al '>GME</td><td class='  ar '>4</td><td class='  ar '>False</td><td class='  al '>...</td><td class='  ar '>495.29</td><td class='  al '>(GME, 2022-02-01)</td><td class='  al '>Nate</td><td class='  ar '>3756.71</td></tr><tr><td class='lc  ar '>2</td><td class='  ar '>173.42</td><td class='  al '>AMZN</td><td class='  ar '>166</td><td class='  ar '>False</td><td class='  al '>...</td><td class='  ar '>497.66</td><td class='  al '>(AMZN, 2022-03-01)</td><td class='  al '>Dan</td><td class='  ar '>3972.01</td></tr><tr><td class='lc  ar '>3</td><td class='  ar '>410.27</td><td class='  al '>GME</td><td class='  ar '>722</td><td class='  ar '>True</td><td class='  al '>...</td><td class='  ar '>495.29</td><td class='  al '>(GME, 2022-03-01)</td><td class='  al '>Nate</td><td class='  ar '>4458.17</td></tr><tr><td class='lc  ar '>4</td><td class='  ar '>606.42</td><td class='  al '>SPY</td><td class='  ar '>995</td><td class='  ar '>True</td><td class='  al '>...</td><td class='  ar '>490.44</td><td class='  al '>(SPY, 2022-03-01)</td><td class='  al '>Josh</td><td class='  ar '>3954.01</td></tr><tr><td class='lc  ar '>5</td><td class='  ar '>910.27</td><td class='  al '>AMZN</td><td class='  ar '>219</td><td class='  ar '>True</td><td class='  al '>...</td><td class='  ar '>497.66</td><td class='  al '>(AMZN, 2022-03-01)</td><td class='  al '>Dan</td><td class='  ar '>4108.60</td></tr><tr><td class='lc  ar '>6</td><td class='  ar '>609.56</td><td class='  al '>TSLA</td><td class='  ar '>459</td><td class='  ar '>False</td><td class='  al '>...</td><td class='  ar '>499.91</td><td class='  al '>(TSLA, 2022-04-01)</td><td class='  al '>Elon</td><td class='  ar '>4384.97</td></tr><tr><td class='lc  ar '>7</td><td class='  ar '>466.54</td><td class='  al '>TSLA</td><td class='  ar '>400</td><td class='  ar '>False</td><td class='  al '>...</td><td class='  ar '>499.91</td><td class='  al '>(TSLA, 2022-04-01)</td><td class='  al '>Elon</td><td class='  ar '>4221.02</td></tr><tr><td class='lc  ar '>8</td><td class='  ar '>225.37</td><td class='  al '>AMZN</td><td class='  ar '>150</td><td class='  ar '>False</td><td class='  al '>...</td><td class='  ar '>497.66</td><td class='  al '>(AMZN, 2022-04-01)</td><td class='  al '>Dan</td><td class='  ar '>3688.96</td></tr><tr><td class='lc  ar '>9</td><td class='  ar '>912.44</td><td class='  al '>AMZN</td><td class='  ar '>615</td><td class='  ar '>True</td><td class='  al '>...</td><td class='  ar '>497.66</td><td class='  al '>(AMZN, 2022-04-01)</td><td class='  al '>Dan</td><td class='  ar '>3527.44</td></tr></tbody></table></body></html>\n",
                     "\n",
                     "[10 rows x 17 columns] total bytes: 1.0 KB"
                  ],
                  "text/plain": []
               },
               "execution_count": 52,
               "metadata": {},
               "output_type": "execute_result"
            }
         ],
         "source": [
            "my_dset.sample()"
         ]
      },
      {
         "cell_type": "markdown",
         "metadata": {},
         "source": [
            "To load from h5 files (a common file type at SIG), use `rt.load_h5(file)`.\n",
            "\n",
            "To load from csv files, use the slow but robust pandas loader, with `rt.Dataset.from_pandas(pd.read_csv(file))`."
         ]
      }
   ],
   "metadata": {
      "kernelspec": {
         "display_name": "riptable-sphinxdoc",
         "language": "python",
         "name": "python3"
      },
      "language_info": {
         "codemirror_mode": {
            "name": "ipython",
            "version": 3
         },
         "file_extension": ".py",
         "mimetype": "text/x-python",
         "name": "python",
         "nbconvert_exporter": "python",
         "pygments_lexer": "ipython3",
         "version": "3.10.6"
      },
      "vscode": {
         "interpreter": {
            "hash": "bd27bbf9d08d999c15d6ab686ecdc65a1056d9b0e13010aed0eef84441088a82"
         }
      }
   },
   "nbformat": 4,
   "nbformat_minor": 4
}
