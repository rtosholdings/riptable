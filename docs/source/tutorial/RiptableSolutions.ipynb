{
 "cells": [
  {
   "cell_type": "markdown",
   "metadata": {},
   "source": [
    "# Solutions to Riptable Exercises"
   ]
  },
  {
   "cell_type": "markdown",
   "metadata": {},
   "source": [
    "This notebook contains the solutions to the [Riptable Exercises](RiptableExercises.ipynb).\n",
    "\n",
    "Your solutions may be implemented slightly differently, but they should get the same essential results.\n",
    "\n",
    "If you have any questions or comments, email RiptableDocumentation@sig.com."
   ]
  },
  {
   "cell_type": "code",
   "execution_count": 1,
   "metadata": {
    "jp-MarkdownHeadingCollapsed": true,
    "tags": []
   },
   "outputs": [
    {
     "name": "stdout",
     "output_type": "stream",
     "text": [
      "To download this notebook, right click on the link and Save link as...\n"
     ]
    },
    {
     "data": {
      "text/html": [
       "<a href='RiptableSolutions.ipynb' target='_blank'>RiptableSolutions.ipynb</a><br>"
      ],
      "text/plain": [
       "X:\\btcache\\scratch\\johnsonc\\jupyter\\Tutorial\\Tutorial_GitLab\\RiptableSolutions.ipynb"
      ]
     },
     "execution_count": 1,
     "metadata": {},
     "output_type": "execute_result"
    }
   ],
   "source": [
    "# Generate notebook download link\n",
    "from IPython.display import FileLink\n",
    "print('To download this notebook, right click on the link and Save link as...')\n",
    "FileLink('RiptableSolutions.ipynb')"
   ]
  },
  {
   "cell_type": "code",
   "execution_count": 2,
   "metadata": {},
   "outputs": [],
   "source": [
    "import riptable as rt\n",
    "import numpy as np"
   ]
  },
  {
   "cell_type": "markdown",
   "metadata": {},
   "source": [
    "## Introduction to the Riptable Dataset"
   ]
  },
  {
   "cell_type": "markdown",
   "metadata": {},
   "source": [
    "**Datasets** are the core class of riptable. \n",
    "\n",
    "They are tables of data, consisting of a series of **columns** of the same length (sometimes referred to as **fields**).\n",
    "\n",
    "Structurally, they behave like python dictionaries, and can be created directly from one."
   ]
  },
  {
   "cell_type": "markdown",
   "metadata": {},
   "source": [
    "We'll familiarize ourselves with Datasets by manually constructing one by generating fake sample data using `np.random.default_rng().choice(...)` or similar.\n",
    "\n",
    "In real life they will essentially always be generated from world data."
   ]
  },
  {
   "cell_type": "markdown",
   "metadata": {},
   "source": [
    "**First, create a python dictionary with two fields of the same length (>1000); one column of stock prices and one of symbols.**\n",
    "\n",
    "**Make sure the symbols have duplicates, for later aggregation exercises.**"
   ]
  },
  {
   "cell_type": "code",
   "execution_count": 3,
   "metadata": {},
   "outputs": [],
   "source": [
    "rng = np.random.default_rng()\n",
    "dset_length = 5_000"
   ]
  },
  {
   "cell_type": "code",
   "execution_count": 4,
   "metadata": {},
   "outputs": [],
   "source": [
    "my_dict = {'Price': rng.uniform(0, 1000, dset_length), 'Symbol': rng.choice(['GME', 'AMZN', 'TSLA', 'SPY'], dset_length)}"
   ]
  },
  {
   "cell_type": "markdown",
   "metadata": {
    "jp-MarkdownHeadingCollapsed": true,
    "tags": []
   },
   "source": [
    "**Create a riptable dataset from this, using** `rt.Dataset(my_dict)`."
   ]
  },
  {
   "cell_type": "code",
   "execution_count": 5,
   "metadata": {},
   "outputs": [],
   "source": [
    "my_dset = rt.Dataset(my_dict)"
   ]
  },
  {
   "cell_type": "markdown",
   "metadata": {},
   "source": [
    "You can easily append more columns to a dataset.\n",
    "\n",
    "**Add a new column of integer trade size, using** `my_dset.Size = `."
   ]
  },
  {
   "cell_type": "code",
   "execution_count": 6,
   "metadata": {},
   "outputs": [],
   "source": [
    "my_dset.Size = rng.integers(1, 1000, dset_length)"
   ]
  },
  {
   "cell_type": "markdown",
   "metadata": {},
   "source": [
    "Columns can be referred with brackets around a string name as well. This is typically used when the column name comes from a variable.\n",
    "\n",
    "**Add a new column of booleans indicating whether you traded this trade, using**\n",
    "`my_dset['MyTrade'] =`."
   ]
  },
  {
   "cell_type": "code",
   "execution_count": 7,
   "metadata": {},
   "outputs": [],
   "source": [
    "my_dset['MyTrade'] = rng.choice([True, False], dset_length)"
   ]
  },
  {
   "cell_type": "markdown",
   "metadata": {
    "jp-MarkdownHeadingCollapsed": true,
    "tags": []
   },
   "source": [
    "**Add a new column of string \"Buy\" or \"Sell\" indicating the customer direction.**"
   ]
  },
  {
   "cell_type": "code",
   "execution_count": 8,
   "metadata": {},
   "outputs": [],
   "source": [
    "my_dset.CustDirection = rng.choice(['Buy', 'Sell'], dset_length)"
   ]
  },
  {
   "cell_type": "markdown",
   "metadata": {},
   "source": [
    "Riptable will convert these lists to the riptable **FastArray** container and cast the data to an appropriate numpy datatype.\n",
    "\n",
    "**View the datatypes with** `my_dset.dtypes`."
   ]
  },
  {
   "cell_type": "code",
   "execution_count": 9,
   "metadata": {},
   "outputs": [
    {
     "data": {
      "text/plain": [
       "{'Price': dtype('float64'),\n",
       " 'Symbol': dtype('S4'),\n",
       " 'Size': dtype('int64'),\n",
       " 'MyTrade': dtype('bool'),\n",
       " 'CustDirection': dtype('S4')}"
      ]
     },
     "execution_count": 9,
     "metadata": {},
     "output_type": "execute_result"
    }
   ],
   "source": [
    "my_dset.dtypes"
   ]
  },
  {
   "cell_type": "markdown",
   "metadata": {},
   "source": [
    "**View some sample rows of the dataset using** `.sample()`.\n",
    "\n",
    "You should use this instead of `.head()` because the initial rows of a dataset are often unrepresentative."
   ]
  },
  {
   "cell_type": "code",
   "execution_count": 12,
   "metadata": {},
   "outputs": [
    {
     "data": {
      "text/html": [
       "<html><head><style>table.tbl-3579 tbody td{white-space: nowrap;}table.tbl-3579 .lc{font-weight:bold;background-color: var( --jp-rendermime-table-row-hover-background);}table.tbl-3579 .lg{background-color: #66da9940;}table.tbl-3579 .lp{font-weight:bold;background-color: #ac66da40;}table.tbl-3579 .msc{font-weight:normal;background-color:#00000011;}table.tbl-3579 .al{text-align:left;}table.tbl-3579 .ar{text-align:right;}table.tbl-3579 .ac{text-align:center;}table.tbl-3579 .bld{font-weight:bold;}table.tbl-3579 .it{font-style:italic;}table.tbl-3579 .ul{text-decoration:underline;}table.tbl-3579 .st{text-decoration:line-through;}</style></head><body><table class='tbl-3579'><thead><tr><td class='lc bld ar'>#</td><td class='lc bld ar'> Price</td><td class='lc bld al'>Symbol</td><td class='lc bld ar'>Size</td><td class='lc bld ar'>MyTrade</td><td class='lc bld al'>CustDirection</td></tr></thead><tbody><tr><td class='lc  ar '>0</td><td class='  ar '>110.11</td><td class='  al '>AMZN</td><td class='  ar '>499</td><td class='  ar '>True</td><td class='  al '>Buy</td></tr><tr><td class='lc  ar '>1</td><td class='  ar '>441.11</td><td class='  al '>TSLA</td><td class='  ar '>135</td><td class='  ar '>False</td><td class='  al '>Sell</td></tr><tr><td class='lc  ar '>2</td><td class='  ar '>16.95</td><td class='  al '>AMZN</td><td class='  ar '>456</td><td class='  ar '>True</td><td class='  al '>Sell</td></tr><tr><td class='lc  ar '>3</td><td class='  ar '>350.19</td><td class='  al '>TSLA</td><td class='  ar '>458</td><td class='  ar '>False</td><td class='  al '>Buy</td></tr><tr><td class='lc  ar '>4</td><td class='  ar '>965.67</td><td class='  al '>TSLA</td><td class='  ar '>560</td><td class='  ar '>False</td><td class='  al '>Sell</td></tr><tr><td class='lc  ar '>5</td><td class='  ar '>982.08</td><td class='  al '>AMZN</td><td class='  ar '>292</td><td class='  ar '>True</td><td class='  al '>Buy</td></tr><tr><td class='lc  ar '>6</td><td class='  ar '>770.71</td><td class='  al '>TSLA</td><td class='  ar '>923</td><td class='  ar '>False</td><td class='  al '>Sell</td></tr><tr><td class='lc  ar '>7</td><td class='  ar '>280.44</td><td class='  al '>AMZN</td><td class='  ar '>147</td><td class='  ar '>True</td><td class='  al '>Buy</td></tr><tr><td class='lc  ar '>8</td><td class='  ar '>350.86</td><td class='  al '>SPY</td><td class='  ar '>928</td><td class='  ar '>True</td><td class='  al '>Buy</td></tr><tr><td class='lc  ar '>9</td><td class='  ar '>947.27</td><td class='  al '>TSLA</td><td class='  ar '>767</td><td class='  ar '>True</td><td class='  al '>Buy</td></tr></tbody></table></body></html>\n",
       "\n",
       "[10 rows x 5 columns] total bytes: 250.0 B"
      ],
      "text/plain": [
       "\u001b[1;36m#\u001b[0m   \u001b[1;36m Price\u001b[0m   \u001b[1;36mSymbol\u001b[0m   \u001b[1;36mSize\u001b[0m   \u001b[1;36mMyTrade\u001b[0m   \u001b[1;36mCustDirection\u001b[0m\n",
       "-   ------   ------   ----   -------   -------------\n",
       "\u001b[1;36m0\u001b[0m   110.11\u001b[0m   AMZN  \u001b[0m    499\u001b[0m      True\u001b[0m   Buy          \u001b[0m\n",
       "\u001b[1;36m1\u001b[0m   441.11\u001b[0m   TSLA  \u001b[0m    135\u001b[0m     False\u001b[0m   Sell         \u001b[0m\n",
       "\u001b[1;36m2\u001b[0m    16.95\u001b[0m   AMZN  \u001b[0m    456\u001b[0m      True\u001b[0m   Sell         \u001b[0m\n",
       "\u001b[1;36m3\u001b[0m   350.19\u001b[0m   TSLA  \u001b[0m    458\u001b[0m     False\u001b[0m   Buy          \u001b[0m\n",
       "\u001b[1;36m4\u001b[0m   965.67\u001b[0m   TSLA  \u001b[0m    560\u001b[0m     False\u001b[0m   Sell         \u001b[0m\n",
       "\u001b[1;36m5\u001b[0m   982.08\u001b[0m   AMZN  \u001b[0m    292\u001b[0m      True\u001b[0m   Buy          \u001b[0m\n",
       "\u001b[1;36m6\u001b[0m   770.71\u001b[0m   TSLA  \u001b[0m    923\u001b[0m     False\u001b[0m   Sell         \u001b[0m\n",
       "\u001b[1;36m7\u001b[0m   280.44\u001b[0m   AMZN  \u001b[0m    147\u001b[0m      True\u001b[0m   Buy          \u001b[0m\n",
       "\u001b[1;36m8\u001b[0m   350.86\u001b[0m   SPY   \u001b[0m    928\u001b[0m      True\u001b[0m   Buy          \u001b[0m\n",
       "\u001b[1;36m9\u001b[0m   947.27\u001b[0m   TSLA  \u001b[0m    767\u001b[0m      True\u001b[0m   Buy          \u001b[0m\n",
       "\n",
       "[10 rows x 5 columns] total bytes: 250.0 B"
      ]
     },
     "execution_count": 12,
     "metadata": {},
     "output_type": "execute_result"
    }
   ],
   "source": [
    "my_dset.sample()"
   ]
  },
  {
   "cell_type": "markdown",
   "metadata": {},
   "source": [
    "**View distributional stats of the numerical fields of your dataset with** `.describe()`.\n",
    "\n",
    "You can call this on a single column as well."
   ]
  },
  {
   "cell_type": "code",
   "execution_count": 13,
   "metadata": {},
   "outputs": [
    {
     "data": {
      "text/html": [
       "<html><head><style>table.tbl-3032 tbody td{white-space: nowrap;}table.tbl-3032 .lc{font-weight:bold;background-color: var( --jp-rendermime-table-row-hover-background);}table.tbl-3032 .lg{background-color: #66da9940;}table.tbl-3032 .lp{font-weight:bold;background-color: #ac66da40;}table.tbl-3032 .msc{font-weight:normal;background-color:#00000011;}table.tbl-3032 .al{text-align:left;}table.tbl-3032 .ar{text-align:right;}table.tbl-3032 .ac{text-align:center;}table.tbl-3032 .bld{font-weight:bold;}table.tbl-3032 .it{font-style:italic;}table.tbl-3032 .ul{text-decoration:underline;}table.tbl-3032 .st{text-decoration:line-through;}</style></head><body><table class='tbl-3032'><thead><tr><td class='lg bld al'>*Stats</td><td class='lc bld ar'>  Price</td><td class='lc bld ar'>   Size</td><td class='lc bld ar'>MyTrade</td></tr></thead><tbody><tr><td class='lg  al '>Count</td><td class='  ar '>5000.00</td><td class='  ar '>5000.00</td><td class='  ar '>5000.00</td></tr><tr><td class='lg  al '>Valid</td><td class='  ar '>5000.00</td><td class='  ar '>5000.00</td><td class='  ar '>5000.00</td></tr><tr><td class='lg  al '>Nans</td><td class='  ar '>0.00</td><td class='  ar '>0.00</td><td class='  ar '>0.00</td></tr><tr><td class='lg  al '>Mean</td><td class='  ar '>507.17</td><td class='  ar '>499.68</td><td class='  ar '>0.50</td></tr><tr><td class='lg  al '>Std</td><td class='  ar '>289.56</td><td class='  ar '>284.99</td><td class='  ar '>0.50</td></tr><tr><td class='lg  al '>Min</td><td class='  ar '>0.40</td><td class='  ar '>1.00</td><td class='  ar '>0.00</td></tr><tr><td class='lg  al '>P10</td><td class='  ar '>96.65</td><td class='  ar '>107.00</td><td class='  ar '>0.00</td></tr><tr><td class='lg  al '>P25</td><td class='  ar '>262.44</td><td class='  ar '>258.00</td><td class='  ar '>0.00</td></tr><tr><td class='lg  al '>P50</td><td class='  ar '>509.31</td><td class='  ar '>496.00</td><td class='  ar '>0.00</td></tr><tr><td class='lg  al '>P75</td><td class='  ar '>762.43</td><td class='  ar '>743.00</td><td class='  ar '>1.00</td></tr><tr><td class='lg  al '>P90</td><td class='  ar '>904.41</td><td class='  ar '>895.10</td><td class='  ar '>1.00</td></tr><tr><td class='lg  al '>Max</td><td class='  ar '>999.93</td><td class='  ar '>999.00</td><td class='  ar '>1.00</td></tr><tr><td class='lg  al '>MeanM</td><td class='  ar '>509.25</td><td class='  ar '>499.76</td><td class='  ar '>0.50</td></tr></tbody></table></body></html>\n",
       "\n",
       "[13 rows x 4 columns] total bytes: 377.0 B"
      ],
      "text/plain": []
     },
     "execution_count": 13,
     "metadata": {},
     "output_type": "execute_result"
    }
   ],
   "source": [
    "my_dset.describe()"
   ]
  },
  {
   "cell_type": "markdown",
   "metadata": {},
   "source": [
    "## Manipulating data"
   ]
  },
  {
   "cell_type": "markdown",
   "metadata": {},
   "source": [
    "You can perform simple operation on riptable columns with normal python syntax. Riptable will do them to the whole column at once, efficiently.\n",
    "\n",
    "**Create a new column by performing scalar arithmetic on one of your numeric columns.**"
   ]
  },
  {
   "cell_type": "code",
   "execution_count": 14,
   "metadata": {},
   "outputs": [],
   "source": [
    "my_dset.SharesOfStock = 100 * my_dset.Size"
   ]
  },
  {
   "cell_type": "code",
   "execution_count": 15,
   "metadata": {},
   "outputs": [
    {
     "data": {
      "text/html": [
       "<html><head><style>table.tbl-190 tbody td{white-space: nowrap;}table.tbl-190 .lc{font-weight:bold;background-color: var( --jp-rendermime-table-row-hover-background);}table.tbl-190 .lg{background-color: #66da9940;}table.tbl-190 .lp{font-weight:bold;background-color: #ac66da40;}table.tbl-190 .msc{font-weight:normal;background-color:#00000011;}table.tbl-190 .al{text-align:left;}table.tbl-190 .ar{text-align:right;}table.tbl-190 .ac{text-align:center;}table.tbl-190 .bld{font-weight:bold;}table.tbl-190 .it{font-style:italic;}table.tbl-190 .ul{text-decoration:underline;}table.tbl-190 .st{text-decoration:line-through;}</style></head><body><table class='tbl-190'><thead><tr><td class='lc bld ar'>#</td><td class='lc bld ar'> Price</td><td class='lc bld al'>Symbol</td><td class='lc bld ar'>Size</td><td class='lc bld ar'>MyTrade</td><td class='lc bld al'>CustDirection</td><td class='lc bld ar'>SharesOfStock</td></tr></thead><tbody><tr><td class='lc  ar '>0</td><td class='  ar '>396.83</td><td class='  al '>TSLA</td><td class='  ar '>402</td><td class='  ar '>True</td><td class='  al '>Buy</td><td class='  ar '>40200</td></tr><tr><td class='lc  ar '>1</td><td class='  ar '>802.50</td><td class='  al '>AMZN</td><td class='  ar '>926</td><td class='  ar '>True</td><td class='  al '>Sell</td><td class='  ar '>92600</td></tr><tr><td class='lc  ar '>2</td><td class='  ar '>845.90</td><td class='  al '>AMZN</td><td class='  ar '>305</td><td class='  ar '>True</td><td class='  al '>Sell</td><td class='  ar '>30500</td></tr><tr><td class='lc  ar '>3</td><td class='  ar '>93.57</td><td class='  al '>AMZN</td><td class='  ar '>316</td><td class='  ar '>False</td><td class='  al '>Sell</td><td class='  ar '>31600</td></tr><tr><td class='lc  ar '>4</td><td class='  ar '>216.31</td><td class='  al '>SPY</td><td class='  ar '>109</td><td class='  ar '>True</td><td class='  al '>Buy</td><td class='  ar '>10900</td></tr><tr><td class='lc  ar '>5</td><td class='  ar '>546.90</td><td class='  al '>TSLA</td><td class='  ar '>650</td><td class='  ar '>False</td><td class='  al '>Buy</td><td class='  ar '>65000</td></tr><tr><td class='lc  ar '>6</td><td class='  ar '>380.30</td><td class='  al '>GME</td><td class='  ar '>164</td><td class='  ar '>False</td><td class='  al '>Buy</td><td class='  ar '>16400</td></tr><tr><td class='lc  ar '>7</td><td class='  ar '>131.45</td><td class='  al '>AMZN</td><td class='  ar '>419</td><td class='  ar '>True</td><td class='  al '>Buy</td><td class='  ar '>41900</td></tr><tr><td class='lc  ar '>8</td><td class='  ar '>885.55</td><td class='  al '>SPY</td><td class='  ar '>862</td><td class='  ar '>True</td><td class='  al '>Sell</td><td class='  ar '>86200</td></tr><tr><td class='lc  ar '>9</td><td class='  ar '>893.31</td><td class='  al '>TSLA</td><td class='  ar '>323</td><td class='  ar '>True</td><td class='  al '>Sell</td><td class='  ar '>32300</td></tr></tbody></table></body></html>\n",
       "\n",
       "[10 rows x 6 columns] total bytes: 330.0 B"
      ],
      "text/plain": []
     },
     "execution_count": 15,
     "metadata": {},
     "output_type": "execute_result"
    }
   ],
   "source": [
    "my_dset.sample()"
   ]
  },
  {
   "cell_type": "markdown",
   "metadata": {},
   "source": [
    "As long as the columns are the same size (as is guaranteed if they're in the same dataset) you can perform combining operations the same way.\n",
    "\n",
    "**Create a new column of total price paid for the trade by multiplying two existing columns together.**\n",
    "\n",
    "Riptable will automatically upcast types as necessary to preserve information."
   ]
  },
  {
   "cell_type": "code",
   "execution_count": 16,
   "metadata": {},
   "outputs": [],
   "source": [
    "my_dset.TotalCash = my_dset.Price * my_dset.Size"
   ]
  },
  {
   "cell_type": "code",
   "execution_count": 17,
   "metadata": {},
   "outputs": [
    {
     "data": {
      "text/html": [
       "<html><head><style>table.tbl-785 tbody td{white-space: nowrap;}table.tbl-785 .lc{font-weight:bold;background-color: var( --jp-rendermime-table-row-hover-background);}table.tbl-785 .lg{background-color: #66da9940;}table.tbl-785 .lp{font-weight:bold;background-color: #ac66da40;}table.tbl-785 .msc{font-weight:normal;background-color:#00000011;}table.tbl-785 .al{text-align:left;}table.tbl-785 .ar{text-align:right;}table.tbl-785 .ac{text-align:center;}table.tbl-785 .bld{font-weight:bold;}table.tbl-785 .it{font-style:italic;}table.tbl-785 .ul{text-decoration:underline;}table.tbl-785 .st{text-decoration:line-through;}</style></head><body><table class='tbl-785'><thead><tr><td class='lc bld ar'>#</td><td class='lc bld ar'> Price</td><td class='lc bld al'>Symbol</td><td class='lc bld ar'>Size</td><td class='lc bld ar'>MyTrade</td><td class='lc bld al'>CustDirection</td><td class='lc bld ar'>SharesOfStock</td><td class='lc bld ar'>TotalCash</td></tr></thead><tbody><tr><td class='lc  ar '>0</td><td class='  ar '>486.83</td><td class='  al '>TSLA</td><td class='  ar '>388</td><td class='  ar '>True</td><td class='  al '>Sell</td><td class='  ar '>38800</td><td class='  ar '>188890.52</td></tr><tr><td class='lc  ar '>1</td><td class='  ar '>883.75</td><td class='  al '>AMZN</td><td class='  ar '>91</td><td class='  ar '>False</td><td class='  al '>Sell</td><td class='  ar '>9100</td><td class='  ar '>80421.64</td></tr><tr><td class='lc  ar '>2</td><td class='  ar '>216.25</td><td class='  al '>GME</td><td class='  ar '>192</td><td class='  ar '>True</td><td class='  al '>Buy</td><td class='  ar '>19200</td><td class='  ar '>41520.74</td></tr><tr><td class='lc  ar '>3</td><td class='  ar '>533.71</td><td class='  al '>TSLA</td><td class='  ar '>29</td><td class='  ar '>True</td><td class='  al '>Buy</td><td class='  ar '>2900</td><td class='  ar '>15477.53</td></tr><tr><td class='lc  ar '>4</td><td class='  ar '>991.15</td><td class='  al '>SPY</td><td class='  ar '>954</td><td class='  ar '>False</td><td class='  al '>Sell</td><td class='  ar '>95400</td><td class='  ar '>945554.54</td></tr><tr><td class='lc  ar '>5</td><td class='  ar '>208.46</td><td class='  al '>TSLA</td><td class='  ar '>765</td><td class='  ar '>False</td><td class='  al '>Buy</td><td class='  ar '>76500</td><td class='  ar '>159473.02</td></tr><tr><td class='lc  ar '>6</td><td class='  ar '>993.24</td><td class='  al '>TSLA</td><td class='  ar '>396</td><td class='  ar '>False</td><td class='  al '>Sell</td><td class='  ar '>39600</td><td class='  ar '>393323.84</td></tr><tr><td class='lc  ar '>7</td><td class='  ar '>785.89</td><td class='  al '>SPY</td><td class='  ar '>430</td><td class='  ar '>True</td><td class='  al '>Sell</td><td class='  ar '>43000</td><td class='  ar '>337932.91</td></tr><tr><td class='lc  ar '>8</td><td class='  ar '>197.52</td><td class='  al '>SPY</td><td class='  ar '>357</td><td class='  ar '>True</td><td class='  al '>Buy</td><td class='  ar '>35700</td><td class='  ar '>70516.33</td></tr><tr><td class='lc  ar '>9</td><td class='  ar '>963.39</td><td class='  al '>GME</td><td class='  ar '>726</td><td class='  ar '>False</td><td class='  al '>Buy</td><td class='  ar '>72600</td><td class='  ar '>699419.65</td></tr></tbody></table></body></html>\n",
       "\n",
       "[10 rows x 7 columns] total bytes: 410.0 B"
      ],
      "text/plain": []
     },
     "execution_count": 17,
     "metadata": {},
     "output_type": "execute_result"
    }
   ],
   "source": [
    "my_dset.sample()"
   ]
  },
  {
   "cell_type": "markdown",
   "metadata": {},
   "source": [
    "There are many built-in functions as well, which you call with either `my_dset.field.function()` or `rt.function(my_dset.field)` syntax.\n",
    "\n",
    "**Find the unique Symbols in your dataset.**"
   ]
  },
  {
   "cell_type": "code",
   "execution_count": 18,
   "metadata": {},
   "outputs": [
    {
     "data": {
      "text/plain": [
       "FastArray([b'AMZN', b'GME', b'SPY', b'TSLA'], dtype='|S4')"
      ]
     },
     "execution_count": 18,
     "metadata": {},
     "output_type": "execute_result"
    }
   ],
   "source": [
    "my_dset.Symbol.unique()"
   ]
  },
  {
   "cell_type": "markdown",
   "metadata": {},
   "source": [
    "## Date/Time"
   ]
  },
  {
   "cell_type": "markdown",
   "metadata": {},
   "source": [
    "Riptable has three main date/time types: `Date`, `DateTimeNano`, and `TimeSpan`."
   ]
  },
  {
   "cell_type": "markdown",
   "metadata": {},
   "source": [
    "**Give each row of your dataset an** `rt.Date`.\n",
    "\n",
    "**Make sure they're not all different, but still include days from multiple months.**\n",
    "\n",
    "Note that due to Riptable idiosyncracies you need to generate a list of yyyymmdd strings and pass into the `rt.Date(...)` constructor, not construct Dates individually."
   ]
  },
  {
   "cell_type": "code",
   "execution_count": 19,
   "metadata": {},
   "outputs": [],
   "source": [
    "my_dset.Date = rt.Date(rng.choice(rt.Date.range('20220201', '20220430'), dset_length))"
   ]
  },
  {
   "cell_type": "code",
   "execution_count": 20,
   "metadata": {},
   "outputs": [
    {
     "data": {
      "text/html": [
       "<html><head><style>table.tbl-1801 tbody td{white-space: nowrap;}table.tbl-1801 .lc{font-weight:bold;background-color: var( --jp-rendermime-table-row-hover-background);}table.tbl-1801 .lg{background-color: #66da9940;}table.tbl-1801 .lp{font-weight:bold;background-color: #ac66da40;}table.tbl-1801 .msc{font-weight:normal;background-color:#00000011;}table.tbl-1801 .al{text-align:left;}table.tbl-1801 .ar{text-align:right;}table.tbl-1801 .ac{text-align:center;}table.tbl-1801 .bld{font-weight:bold;}table.tbl-1801 .it{font-style:italic;}table.tbl-1801 .ul{text-decoration:underline;}table.tbl-1801 .st{text-decoration:line-through;}</style></head><body><table class='tbl-1801'><thead><tr><td class='lc bld ar'>#</td><td class='lc bld ar'> Price</td><td class='lc bld al'>Symbol</td><td class='lc bld ar'>Size</td><td class='lc bld ar'>MyTrade</td><td class='lc bld al'>CustDirection</td><td class='lc bld ar'>SharesOfStock</td><td class='lc bld ar'>TotalCash</td><td class='lc bld ar'>      Date</td></tr></thead><tbody><tr><td class='lc  ar '>0</td><td class='  ar '>800.34</td><td class='  al '>TSLA</td><td class='  ar '>875</td><td class='  ar '>True</td><td class='  al '>Sell</td><td class='  ar '>87500</td><td class='  ar '>700299.36</td><td class='  ar '>2022-02-08</td></tr><tr><td class='lc  ar '>1</td><td class='  ar '>837.00</td><td class='  al '>TSLA</td><td class='  ar '>22</td><td class='  ar '>False</td><td class='  al '>Sell</td><td class='  ar '>2200</td><td class='  ar '>18414.08</td><td class='  ar '>2022-03-19</td></tr><tr><td class='lc  ar '>2</td><td class='  ar '>739.75</td><td class='  al '>AMZN</td><td class='  ar '>894</td><td class='  ar '>True</td><td class='  al '>Buy</td><td class='  ar '>89400</td><td class='  ar '>661334.50</td><td class='  ar '>2022-03-13</td></tr><tr><td class='lc  ar '>3</td><td class='  ar '>333.02</td><td class='  al '>GME</td><td class='  ar '>433</td><td class='  ar '>False</td><td class='  al '>Sell</td><td class='  ar '>43300</td><td class='  ar '>144198.32</td><td class='  ar '>2022-04-23</td></tr><tr><td class='lc  ar '>4</td><td class='  ar '>154.95</td><td class='  al '>AMZN</td><td class='  ar '>628</td><td class='  ar '>False</td><td class='  al '>Sell</td><td class='  ar '>62800</td><td class='  ar '>97307.43</td><td class='  ar '>2022-02-23</td></tr><tr><td class='lc  ar '>5</td><td class='  ar '>995.30</td><td class='  al '>AMZN</td><td class='  ar '>184</td><td class='  ar '>True</td><td class='  al '>Buy</td><td class='  ar '>18400</td><td class='  ar '>183136.04</td><td class='  ar '>2022-03-11</td></tr><tr><td class='lc  ar '>6</td><td class='  ar '>734.84</td><td class='  al '>GME</td><td class='  ar '>531</td><td class='  ar '>True</td><td class='  al '>Sell</td><td class='  ar '>53100</td><td class='  ar '>390202.38</td><td class='  ar '>2022-02-06</td></tr><tr><td class='lc  ar '>7</td><td class='  ar '>238.48</td><td class='  al '>SPY</td><td class='  ar '>500</td><td class='  ar '>True</td><td class='  al '>Buy</td><td class='  ar '>50000</td><td class='  ar '>119241.98</td><td class='  ar '>2022-04-17</td></tr><tr><td class='lc  ar '>8</td><td class='  ar '>16.35</td><td class='  al '>GME</td><td class='  ar '>97</td><td class='  ar '>True</td><td class='  al '>Sell</td><td class='  ar '>9700</td><td class='  ar '>1586.28</td><td class='  ar '>2022-03-17</td></tr><tr><td class='lc  ar '>9</td><td class='  ar '>893.65</td><td class='  al '>AMZN</td><td class='  ar '>545</td><td class='  ar '>False</td><td class='  al '>Sell</td><td class='  ar '>54500</td><td class='  ar '>487041.87</td><td class='  ar '>2022-03-29</td></tr></tbody></table></body></html>\n",
       "\n",
       "[10 rows x 8 columns] total bytes: 450.0 B"
      ],
      "text/plain": []
     },
     "execution_count": 20,
     "metadata": {},
     "output_type": "execute_result"
    }
   ],
   "source": [
    "my_dset.sample()"
   ]
  },
  {
   "cell_type": "markdown",
   "metadata": {},
   "source": [
    "**Give each row a unique(ish)** `TimeSpan` **as a trade time.**\n",
    "\n",
    "You can instantiate them using `rt.TimeSpan(hours_var, unit='h')`."
   ]
  },
  {
   "cell_type": "code",
   "execution_count": 21,
   "metadata": {},
   "outputs": [],
   "source": [
    "my_dset.TradeTime = rt.TimeSpan(rng.uniform(9.5, 16, dset_length), unit='h')"
   ]
  },
  {
   "cell_type": "code",
   "execution_count": 22,
   "metadata": {},
   "outputs": [
    {
     "data": {
      "text/html": [
       "<html><head><style>table.tbl-6933 tbody td{white-space: nowrap;}table.tbl-6933 .lc{font-weight:bold;background-color: var( --jp-rendermime-table-row-hover-background);}table.tbl-6933 .lg{background-color: #66da9940;}table.tbl-6933 .lp{font-weight:bold;background-color: #ac66da40;}table.tbl-6933 .msc{font-weight:normal;background-color:#00000011;}table.tbl-6933 .al{text-align:left;}table.tbl-6933 .ar{text-align:right;}table.tbl-6933 .ac{text-align:center;}table.tbl-6933 .bld{font-weight:bold;}table.tbl-6933 .it{font-style:italic;}table.tbl-6933 .ul{text-decoration:underline;}table.tbl-6933 .st{text-decoration:line-through;}</style></head><body><table class='tbl-6933'><thead><tr><td class='lc bld ar'>#</td><td class='lc bld ar'> Price</td><td class='lc bld al'>Symbol</td><td class='lc bld ar'>Size</td><td class='lc bld ar'>MyTrade</td><td class='lc bld al'>...</td><td class='lc bld ar'>SharesOfStock</td><td class='lc bld ar'>TotalCash</td><td class='lc bld ar'>      Date</td><td class='lc bld ar'>         TradeTime</td></tr></thead><tbody><tr><td class='lc  ar '>0</td><td class='  ar '>735.74</td><td class='  al '>SPY</td><td class='  ar '>513</td><td class='  ar '>False</td><td class='  al '>...</td><td class='  ar '>51300</td><td class='  ar '>377432.28</td><td class='  ar '>2022-04-12</td><td class='  ar '>12:25:35.400236737</td></tr><tr><td class='lc  ar '>1</td><td class='  ar '>846.86</td><td class='  al '>SPY</td><td class='  ar '>619</td><td class='  ar '>False</td><td class='  al '>...</td><td class='  ar '>61900</td><td class='  ar '>524207.19</td><td class='  ar '>2022-02-26</td><td class='  ar '>14:23:07.768135867</td></tr><tr><td class='lc  ar '>2</td><td class='  ar '>36.61</td><td class='  al '>AMZN</td><td class='  ar '>520</td><td class='  ar '>False</td><td class='  al '>...</td><td class='  ar '>52000</td><td class='  ar '>19036.05</td><td class='  ar '>2022-02-12</td><td class='  ar '>14:21:19.051116920</td></tr><tr><td class='lc  ar '>3</td><td class='  ar '>313.17</td><td class='  al '>SPY</td><td class='  ar '>230</td><td class='  ar '>False</td><td class='  al '>...</td><td class='  ar '>23000</td><td class='  ar '>72028.38</td><td class='  ar '>2022-03-01</td><td class='  ar '>13:26:41.105253958</td></tr><tr><td class='lc  ar '>4</td><td class='  ar '>245.27</td><td class='  al '>TSLA</td><td class='  ar '>897</td><td class='  ar '>True</td><td class='  al '>...</td><td class='  ar '>89700</td><td class='  ar '>220008.96</td><td class='  ar '>2022-03-01</td><td class='  ar '>14:38:19.886975870</td></tr><tr><td class='lc  ar '>5</td><td class='  ar '>894.97</td><td class='  al '>SPY</td><td class='  ar '>713</td><td class='  ar '>False</td><td class='  al '>...</td><td class='  ar '>71300</td><td class='  ar '>638116.05</td><td class='  ar '>2022-04-03</td><td class='  ar '>12:12:35.683634970</td></tr><tr><td class='lc  ar '>6</td><td class='  ar '>279.53</td><td class='  al '>AMZN</td><td class='  ar '>255</td><td class='  ar '>True</td><td class='  al '>...</td><td class='  ar '>25500</td><td class='  ar '>71280.87</td><td class='  ar '>2022-02-20</td><td class='  ar '>15:14:44.946418434</td></tr><tr><td class='lc  ar '>7</td><td class='  ar '>710.20</td><td class='  al '>TSLA</td><td class='  ar '>105</td><td class='  ar '>True</td><td class='  al '>...</td><td class='  ar '>10500</td><td class='  ar '>74570.97</td><td class='  ar '>2022-03-03</td><td class='  ar '>14:23:16.690519947</td></tr><tr><td class='lc  ar '>8</td><td class='  ar '>211.50</td><td class='  al '>TSLA</td><td class='  ar '>207</td><td class='  ar '>True</td><td class='  al '>...</td><td class='  ar '>20700</td><td class='  ar '>43781.07</td><td class='  ar '>2022-04-20</td><td class='  ar '>14:34:06.527025035</td></tr><tr><td class='lc  ar '>9</td><td class='  ar '>526.50</td><td class='  al '>TSLA</td><td class='  ar '>645</td><td class='  ar '>True</td><td class='  al '>...</td><td class='  ar '>64500</td><td class='  ar '>339591.78</td><td class='  ar '>2022-04-22</td><td class='  ar '>13:32:00.731248375</td></tr></tbody></table></body></html>\n",
       "\n",
       "[10 rows x 9 columns] total bytes: 530.0 B"
      ],
      "text/plain": []
     },
     "execution_count": 22,
     "metadata": {},
     "output_type": "execute_result"
    }
   ],
   "source": [
    "my_dset.sample()"
   ]
  },
  {
   "cell_type": "markdown",
   "metadata": {},
   "source": [
    "**Create a DateTimeNano of the combined TradeDateTime by simple addition. Riptable knows how to sum the types.**\n",
    "\n",
    "Be careful here, by default you'll get a GMT timezone, you can force NYC with `rt.DateTimeNano(..., from_tz='NYC')`."
   ]
  },
  {
   "cell_type": "code",
   "execution_count": 23,
   "metadata": {},
   "outputs": [],
   "source": [
    "my_dset.TradeDateTime = rt.DateTimeNano(my_dset.Date + my_dset.TradeTime, from_tz='NYC')"
   ]
  },
  {
   "cell_type": "code",
   "execution_count": 24,
   "metadata": {},
   "outputs": [
    {
     "data": {
      "text/html": [
       "<html><head><style>table.tbl-2874 tbody td{white-space: nowrap;}table.tbl-2874 .lc{font-weight:bold;background-color: var( --jp-rendermime-table-row-hover-background);}table.tbl-2874 .lg{background-color: #66da9940;}table.tbl-2874 .lp{font-weight:bold;background-color: #ac66da40;}table.tbl-2874 .msc{font-weight:normal;background-color:#00000011;}table.tbl-2874 .al{text-align:left;}table.tbl-2874 .ar{text-align:right;}table.tbl-2874 .ac{text-align:center;}table.tbl-2874 .bld{font-weight:bold;}table.tbl-2874 .it{font-style:italic;}table.tbl-2874 .ul{text-decoration:underline;}table.tbl-2874 .st{text-decoration:line-through;}</style></head><body><table class='tbl-2874'><thead><tr><td class='lc bld ar'>#</td><td class='lc bld ar'> Price</td><td class='lc bld al'>Symbol</td><td class='lc bld ar'>Size</td><td class='lc bld ar'>MyTrade</td><td class='lc bld al'>...</td><td class='lc bld ar'>TotalCash</td><td class='lc bld ar'>      Date</td><td class='lc bld ar'>         TradeTime</td><td class='lc bld ar'>              TradeDateTime</td></tr></thead><tbody><tr><td class='lc  ar '>0</td><td class='  ar '>980.77</td><td class='  al '>GME</td><td class='  ar '>946</td><td class='  ar '>False</td><td class='  al '>...</td><td class='  ar '>927804.65</td><td class='  ar '>2022-02-24</td><td class='  ar '>12:40:21.109339625</td><td class='  ar '>20220224 12:40:21.109339625</td></tr><tr><td class='lc  ar '>1</td><td class='  ar '>695.30</td><td class='  al '>GME</td><td class='  ar '>549</td><td class='  ar '>True</td><td class='  al '>...</td><td class='  ar '>381718.71</td><td class='  ar '>2022-04-30</td><td class='  ar '>10:04:09.135858889</td><td class='  ar '>20220430 10:04:09.135858889</td></tr><tr><td class='lc  ar '>2</td><td class='  ar '>88.44</td><td class='  al '>GME</td><td class='  ar '>845</td><td class='  ar '>True</td><td class='  al '>...</td><td class='  ar '>74731.74</td><td class='  ar '>2022-02-04</td><td class='  ar '>11:34:29.436742013</td><td class='  ar '>20220204 11:34:29.436742013</td></tr><tr><td class='lc  ar '>3</td><td class='  ar '>87.12</td><td class='  al '>SPY</td><td class='  ar '>404</td><td class='  ar '>False</td><td class='  al '>...</td><td class='  ar '>35195.26</td><td class='  ar '>2022-03-25</td><td class='  ar '>13:41:35.937013122</td><td class='  ar '>20220325 13:41:35.937013122</td></tr><tr><td class='lc  ar '>4</td><td class='  ar '>37.81</td><td class='  al '>GME</td><td class='  ar '>479</td><td class='  ar '>False</td><td class='  al '>...</td><td class='  ar '>18109.00</td><td class='  ar '>2022-03-26</td><td class='  ar '>13:09:25.299921592</td><td class='  ar '>20220326 13:09:25.299921592</td></tr><tr><td class='lc  ar '>5</td><td class='  ar '>312.32</td><td class='  al '>TSLA</td><td class='  ar '>44</td><td class='  ar '>True</td><td class='  al '>...</td><td class='  ar '>13742.07</td><td class='  ar '>2022-03-22</td><td class='  ar '>12:38:20.177905206</td><td class='  ar '>20220322 12:38:20.177905206</td></tr><tr><td class='lc  ar '>6</td><td class='  ar '>888.37</td><td class='  al '>SPY</td><td class='  ar '>822</td><td class='  ar '>False</td><td class='  al '>...</td><td class='  ar '>730237.26</td><td class='  ar '>2022-02-22</td><td class='  ar '>11:44:06.554816187</td><td class='  ar '>20220222 11:44:06.554816187</td></tr><tr><td class='lc  ar '>7</td><td class='  ar '>880.87</td><td class='  al '>TSLA</td><td class='  ar '>897</td><td class='  ar '>False</td><td class='  al '>...</td><td class='  ar '>790143.05</td><td class='  ar '>2022-02-01</td><td class='  ar '>12:52:50.335991030</td><td class='  ar '>20220201 12:52:50.335991030</td></tr><tr><td class='lc  ar '>8</td><td class='  ar '>721.04</td><td class='  al '>AMZN</td><td class='  ar '>544</td><td class='  ar '>False</td><td class='  al '>...</td><td class='  ar '>392246.76</td><td class='  ar '>2022-03-05</td><td class='  ar '>10:34:53.186864088</td><td class='  ar '>20220305 10:34:53.186864088</td></tr><tr><td class='lc  ar '>9</td><td class='  ar '>382.08</td><td class='  al '>SPY</td><td class='  ar '>548</td><td class='  ar '>True</td><td class='  al '>...</td><td class='  ar '>209379.04</td><td class='  ar '>2022-04-02</td><td class='  ar '>15:32:18.771448479</td><td class='  ar '>20220402 15:32:18.771448479</td></tr></tbody></table></body></html>\n",
       "\n",
       "[10 rows x 10 columns] total bytes: 610.0 B"
      ],
      "text/plain": []
     },
     "execution_count": 24,
     "metadata": {},
     "output_type": "execute_result"
    }
   ],
   "source": [
    "my_dset.sample()"
   ]
  },
  {
   "cell_type": "markdown",
   "metadata": {},
   "source": [
    "To reverse this operation and get out separate dates and times from a DateTimeNano, you can call `rt.Date(my_DateTimeNano)` and `my_DateTimeNano.time_since_midnight()`."
   ]
  },
  {
   "cell_type": "markdown",
   "metadata": {},
   "source": [
    "**Create a new month name column by using the** `.strftime` **function.**"
   ]
  },
  {
   "cell_type": "code",
   "execution_count": 25,
   "metadata": {},
   "outputs": [],
   "source": [
    "my_dset.month_name = my_dset.Date.strftime('%b%y')"
   ]
  },
  {
   "cell_type": "code",
   "execution_count": 26,
   "metadata": {},
   "outputs": [
    {
     "data": {
      "text/html": [
       "<html><head><style>table.tbl-9669 tbody td{white-space: nowrap;}table.tbl-9669 .lc{font-weight:bold;background-color: var( --jp-rendermime-table-row-hover-background);}table.tbl-9669 .lg{background-color: #66da9940;}table.tbl-9669 .lp{font-weight:bold;background-color: #ac66da40;}table.tbl-9669 .msc{font-weight:normal;background-color:#00000011;}table.tbl-9669 .al{text-align:left;}table.tbl-9669 .ar{text-align:right;}table.tbl-9669 .ac{text-align:center;}table.tbl-9669 .bld{font-weight:bold;}table.tbl-9669 .it{font-style:italic;}table.tbl-9669 .ul{text-decoration:underline;}table.tbl-9669 .st{text-decoration:line-through;}</style></head><body><table class='tbl-9669'><thead><tr><td class='lc bld ar'>#</td><td class='lc bld ar'> Price</td><td class='lc bld al'>Symbol</td><td class='lc bld ar'>Size</td><td class='lc bld ar'>MyTrade</td><td class='lc bld al'>...</td><td class='lc bld ar'>         TradeTime</td><td class='lc bld ar'>              TradeDateTime</td><td class='lc bld al'>month_name</td></tr></thead><tbody><tr><td class='lc  ar '>0</td><td class='  ar '>29.78</td><td class='  al '>TSLA</td><td class='  ar '>770</td><td class='  ar '>False</td><td class='  al '>...</td><td class='  ar '>11:47:11.463924743</td><td class='  ar '>20220422 11:47:11.463924743</td><td class='  al '>Apr22</td></tr><tr><td class='lc  ar '>1</td><td class='  ar '>3.47</td><td class='  al '>GME</td><td class='  ar '>673</td><td class='  ar '>False</td><td class='  al '>...</td><td class='  ar '>11:45:18.212819501</td><td class='  ar '>20220214 11:45:18.212819501</td><td class='  al '>Feb22</td></tr><tr><td class='lc  ar '>2</td><td class='  ar '>236.91</td><td class='  al '>TSLA</td><td class='  ar '>125</td><td class='  ar '>True</td><td class='  al '>...</td><td class='  ar '>15:11:16.258631766</td><td class='  ar '>20220408 15:11:16.258631766</td><td class='  al '>Apr22</td></tr><tr><td class='lc  ar '>3</td><td class='  ar '>352.97</td><td class='  al '>SPY</td><td class='  ar '>319</td><td class='  ar '>True</td><td class='  al '>...</td><td class='  ar '>15:10:00.957743793</td><td class='  ar '>20220331 15:10:00.957743793</td><td class='  al '>Mar22</td></tr><tr><td class='lc  ar '>4</td><td class='  ar '>974.60</td><td class='  al '>GME</td><td class='  ar '>884</td><td class='  ar '>False</td><td class='  al '>...</td><td class='  ar '>12:28:22.043173523</td><td class='  ar '>20220220 12:28:22.043173523</td><td class='  al '>Feb22</td></tr><tr><td class='lc  ar '>5</td><td class='  ar '>670.58</td><td class='  al '>AMZN</td><td class='  ar '>381</td><td class='  ar '>False</td><td class='  al '>...</td><td class='  ar '>13:59:53.069688371</td><td class='  ar '>20220430 13:59:53.069688371</td><td class='  al '>Apr22</td></tr><tr><td class='lc  ar '>6</td><td class='  ar '>361.65</td><td class='  al '>TSLA</td><td class='  ar '>521</td><td class='  ar '>True</td><td class='  al '>...</td><td class='  ar '>13:16:51.163380616</td><td class='  ar '>20220206 13:16:51.163380616</td><td class='  al '>Feb22</td></tr><tr><td class='lc  ar '>7</td><td class='  ar '>567.18</td><td class='  al '>GME</td><td class='  ar '>630</td><td class='  ar '>True</td><td class='  al '>...</td><td class='  ar '>15:13:42.601042079</td><td class='  ar '>20220408 15:13:42.601042079</td><td class='  al '>Apr22</td></tr><tr><td class='lc  ar '>8</td><td class='  ar '>396.56</td><td class='  al '>AMZN</td><td class='  ar '>567</td><td class='  ar '>True</td><td class='  al '>...</td><td class='  ar '>12:59:16.990516705</td><td class='  ar '>20220411 12:59:16.990516705</td><td class='  al '>Apr22</td></tr><tr><td class='lc  ar '>9</td><td class='  ar '>126.72</td><td class='  al '>TSLA</td><td class='  ar '>931</td><td class='  ar '>True</td><td class='  al '>...</td><td class='  ar '>14:18:21.738492674</td><td class='  ar '>20220417 14:18:21.738492674</td><td class='  al '>Apr22</td></tr></tbody></table></body></html>\n",
       "\n",
       "[10 rows x 11 columns] total bytes: 660.0 B"
      ],
      "text/plain": []
     },
     "execution_count": 26,
     "metadata": {},
     "output_type": "execute_result"
    }
   ],
   "source": [
    "my_dset.sample()"
   ]
  },
  {
   "cell_type": "markdown",
   "metadata": {},
   "source": [
    "**Create another new month column by using the** `.start_of_month` **attribute.**\n",
    "\n",
    "This is nice for grouping because it will automatically sort correctly."
   ]
  },
  {
   "cell_type": "code",
   "execution_count": 27,
   "metadata": {},
   "outputs": [],
   "source": [
    "my_dset.month = my_dset.Date.start_of_month"
   ]
  },
  {
   "cell_type": "code",
   "execution_count": 28,
   "metadata": {},
   "outputs": [
    {
     "data": {
      "text/html": [
       "<html><head><style>table.tbl-9559 tbody td{white-space: nowrap;}table.tbl-9559 .lc{font-weight:bold;background-color: var( --jp-rendermime-table-row-hover-background);}table.tbl-9559 .lg{background-color: #66da9940;}table.tbl-9559 .lp{font-weight:bold;background-color: #ac66da40;}table.tbl-9559 .msc{font-weight:normal;background-color:#00000011;}table.tbl-9559 .al{text-align:left;}table.tbl-9559 .ar{text-align:right;}table.tbl-9559 .ac{text-align:center;}table.tbl-9559 .bld{font-weight:bold;}table.tbl-9559 .it{font-style:italic;}table.tbl-9559 .ul{text-decoration:underline;}table.tbl-9559 .st{text-decoration:line-through;}</style></head><body><table class='tbl-9559'><thead><tr><td class='lc bld ar'>#</td><td class='lc bld ar'> Price</td><td class='lc bld al'>Symbol</td><td class='lc bld ar'>Size</td><td class='lc bld ar'>MyTrade</td><td class='lc bld al'>...</td><td class='lc bld ar'>              TradeDateTime</td><td class='lc bld al'>month_name</td><td class='lc bld ar'>     month</td></tr></thead><tbody><tr><td class='lc  ar '>0</td><td class='  ar '>725.67</td><td class='  al '>GME</td><td class='  ar '>688</td><td class='  ar '>True</td><td class='  al '>...</td><td class='  ar '>20220208 14:46:46.584027086</td><td class='  al '>Feb22</td><td class='  ar '>2022-02-01</td></tr><tr><td class='lc  ar '>1</td><td class='  ar '>619.16</td><td class='  al '>SPY</td><td class='  ar '>187</td><td class='  ar '>True</td><td class='  al '>...</td><td class='  ar '>20220226 14:00:32.836528589</td><td class='  al '>Feb22</td><td class='  ar '>2022-02-01</td></tr><tr><td class='lc  ar '>2</td><td class='  ar '>315.76</td><td class='  al '>TSLA</td><td class='  ar '>660</td><td class='  ar '>False</td><td class='  al '>...</td><td class='  ar '>20220206 12:58:29.632363604</td><td class='  al '>Feb22</td><td class='  ar '>2022-02-01</td></tr><tr><td class='lc  ar '>3</td><td class='  ar '>356.52</td><td class='  al '>SPY</td><td class='  ar '>369</td><td class='  ar '>True</td><td class='  al '>...</td><td class='  ar '>20220426 13:34:36.699243210</td><td class='  al '>Apr22</td><td class='  ar '>2022-04-01</td></tr><tr><td class='lc  ar '>4</td><td class='  ar '>116.84</td><td class='  al '>TSLA</td><td class='  ar '>796</td><td class='  ar '>False</td><td class='  al '>...</td><td class='  ar '>20220329 11:43:24.038580496</td><td class='  al '>Mar22</td><td class='  ar '>2022-03-01</td></tr><tr><td class='lc  ar '>5</td><td class='  ar '>940.18</td><td class='  al '>SPY</td><td class='  ar '>495</td><td class='  ar '>False</td><td class='  al '>...</td><td class='  ar '>20220330 14:38:33.061508953</td><td class='  al '>Mar22</td><td class='  ar '>2022-03-01</td></tr><tr><td class='lc  ar '>6</td><td class='  ar '>245.84</td><td class='  al '>AMZN</td><td class='  ar '>105</td><td class='  ar '>False</td><td class='  al '>...</td><td class='  ar '>20220409 15:10:18.174861038</td><td class='  al '>Apr22</td><td class='  ar '>2022-04-01</td></tr><tr><td class='lc  ar '>7</td><td class='  ar '>62.33</td><td class='  al '>SPY</td><td class='  ar '>3</td><td class='  ar '>False</td><td class='  al '>...</td><td class='  ar '>20220402 10:14:02.656973901</td><td class='  al '>Apr22</td><td class='  ar '>2022-04-01</td></tr><tr><td class='lc  ar '>8</td><td class='  ar '>724.23</td><td class='  al '>TSLA</td><td class='  ar '>192</td><td class='  ar '>False</td><td class='  al '>...</td><td class='  ar '>20220208 09:54:54.929626782</td><td class='  al '>Feb22</td><td class='  ar '>2022-02-01</td></tr><tr><td class='lc  ar '>9</td><td class='  ar '>780.04</td><td class='  al '>AMZN</td><td class='  ar '>453</td><td class='  ar '>True</td><td class='  al '>...</td><td class='  ar '>20220427 14:12:24.850968828</td><td class='  al '>Apr22</td><td class='  ar '>2022-04-01</td></tr></tbody></table></body></html>\n",
       "\n",
       "[10 rows x 12 columns] total bytes: 700.0 B"
      ],
      "text/plain": []
     },
     "execution_count": 28,
     "metadata": {},
     "output_type": "execute_result"
    }
   ],
   "source": [
    "my_dset.sample()"
   ]
  },
  {
   "cell_type": "markdown",
   "metadata": {},
   "source": [
    "## Sorting"
   ]
  },
  {
   "cell_type": "markdown",
   "metadata": {},
   "source": [
    "Riptable has two sorts, `sort_copy` (which preserves the original dataset) and `sort_inplace`, which is faster and more memory-efficient if you don't need the original data order."
   ]
  },
  {
   "cell_type": "markdown",
   "metadata": {},
   "source": [
    "**Sort your dataset by TradeDateTime.**\n",
    "\n",
    "This is the natural ordering of a list of trades, so do it in-place."
   ]
  },
  {
   "cell_type": "code",
   "execution_count": 29,
   "metadata": {},
   "outputs": [],
   "source": [
    "my_dset = my_dset.sort_inplace('TradeDateTime')"
   ]
  },
  {
   "cell_type": "code",
   "execution_count": 30,
   "metadata": {},
   "outputs": [
    {
     "data": {
      "text/html": [
       "<html><head><style>table.tbl-6536 tbody td{white-space: nowrap;}table.tbl-6536 .lc{font-weight:bold;background-color: var( --jp-rendermime-table-row-hover-background);}table.tbl-6536 .lg{background-color: #66da9940;}table.tbl-6536 .lp{font-weight:bold;background-color: #ac66da40;}table.tbl-6536 .msc{font-weight:normal;background-color:#00000011;}table.tbl-6536 .al{text-align:left;}table.tbl-6536 .ar{text-align:right;}table.tbl-6536 .ac{text-align:center;}table.tbl-6536 .bld{font-weight:bold;}table.tbl-6536 .it{font-style:italic;}table.tbl-6536 .ul{text-decoration:underline;}table.tbl-6536 .st{text-decoration:line-through;}</style></head><body><table class='tbl-6536'><thead><tr><td class='lc bld ar'>#</td><td class='lc bld ar'> Price</td><td class='lc bld al'>Symbol</td><td class='lc bld ar'>Size</td><td class='lc bld ar'>MyTrade</td><td class='lc bld al'>...</td><td class='lc bld ar'>              TradeDateTime</td><td class='lc bld al'>month_name</td><td class='lc bld ar'>     month</td></tr></thead><tbody><tr><td class='lc  ar '>0</td><td class='  ar '>251.35</td><td class='  al '>AMZN</td><td class='  ar '>289</td><td class='  ar '>False</td><td class='  al '>...</td><td class='  ar '>20220201 12:19:44.249569503</td><td class='  al '>Feb22</td><td class='  ar '>2022-02-01</td></tr><tr><td class='lc  ar '>1</td><td class='  ar '>58.39</td><td class='  al '>AMZN</td><td class='  ar '>682</td><td class='  ar '>False</td><td class='  al '>...</td><td class='  ar '>20220210 12:49:15.747778700</td><td class='  al '>Feb22</td><td class='  ar '>2022-02-01</td></tr><tr><td class='lc  ar '>2</td><td class='  ar '>341.83</td><td class='  al '>AMZN</td><td class='  ar '>676</td><td class='  ar '>True</td><td class='  al '>...</td><td class='  ar '>20220223 11:54:57.261881458</td><td class='  al '>Feb22</td><td class='  ar '>2022-02-01</td></tr><tr><td class='lc  ar '>3</td><td class='  ar '>421.14</td><td class='  al '>SPY</td><td class='  ar '>270</td><td class='  ar '>False</td><td class='  al '>...</td><td class='  ar '>20220306 15:17:15.323909275</td><td class='  al '>Mar22</td><td class='  ar '>2022-03-01</td></tr><tr><td class='lc  ar '>4</td><td class='  ar '>336.62</td><td class='  al '>AMZN</td><td class='  ar '>401</td><td class='  ar '>True</td><td class='  al '>...</td><td class='  ar '>20220407 14:28:21.294242194</td><td class='  al '>Apr22</td><td class='  ar '>2022-04-01</td></tr><tr><td class='lc  ar '>5</td><td class='  ar '>581.11</td><td class='  al '>TSLA</td><td class='  ar '>871</td><td class='  ar '>True</td><td class='  al '>...</td><td class='  ar '>20220413 14:00:47.151287717</td><td class='  al '>Apr22</td><td class='  ar '>2022-04-01</td></tr><tr><td class='lc  ar '>6</td><td class='  ar '>725.35</td><td class='  al '>AMZN</td><td class='  ar '>996</td><td class='  ar '>False</td><td class='  al '>...</td><td class='  ar '>20220418 14:08:27.959836126</td><td class='  al '>Apr22</td><td class='  ar '>2022-04-01</td></tr><tr><td class='lc  ar '>7</td><td class='  ar '>986.29</td><td class='  al '>GME</td><td class='  ar '>221</td><td class='  ar '>False</td><td class='  al '>...</td><td class='  ar '>20220419 11:01:20.821549222</td><td class='  al '>Apr22</td><td class='  ar '>2022-04-01</td></tr><tr><td class='lc  ar '>8</td><td class='  ar '>6.09</td><td class='  al '>GME</td><td class='  ar '>890</td><td class='  ar '>False</td><td class='  al '>...</td><td class='  ar '>20220421 14:23:44.655935672</td><td class='  al '>Apr22</td><td class='  ar '>2022-04-01</td></tr><tr><td class='lc  ar '>9</td><td class='  ar '>721.65</td><td class='  al '>GME</td><td class='  ar '>469</td><td class='  ar '>True</td><td class='  al '>...</td><td class='  ar '>20220425 15:25:04.021192737</td><td class='  al '>Apr22</td><td class='  ar '>2022-04-01</td></tr></tbody></table></body></html>\n",
       "\n",
       "[10 rows x 12 columns] total bytes: 700.0 B"
      ],
      "text/plain": []
     },
     "execution_count": 30,
     "metadata": {},
     "output_type": "execute_result"
    }
   ],
   "source": [
    "my_dset.sample()"
   ]
  },
  {
   "cell_type": "markdown",
   "metadata": {},
   "source": [
    "## Filtering"
   ]
  },
  {
   "cell_type": "markdown",
   "metadata": {
    "tags": []
   },
   "source": [
    "Filtering is the principal way to work with a subset of your data in riptable. It is commonly used for looking at a restricted set of trades matching some criterion you care about.\n",
    "\n",
    "Except in rare instances, though, you should maintain your dataset in its full size, and only apply a filter when performing a final computation.\n",
    "\n",
    "This will avoid unnecessary data duplication and improve speed & memory usage.\n",
    "\n",
    "**Construct a filter of only your sales. (A filter is a column of Booleans which is true only for the rows you're interested in.)**\n",
    "\n",
    "You can combine filters using & or |. Be careful to always wrap expressions in parentheses to avoid an extremely slow call into native python followed by a crash.\n",
    "\n",
    "Always `(my_dset.field1 > 10) & (my_dset.field2 < 5)`, never `my_dset.field1 > 10 & my_dset.field2 > 5`."
   ]
  },
  {
   "cell_type": "code",
   "execution_count": 31,
   "metadata": {},
   "outputs": [],
   "source": [
    "f_my_sales = my_dset.MyTrade & (my_dset.CustDirection == 'Buy')"
   ]
  },
  {
   "cell_type": "markdown",
   "metadata": {
    "tags": []
   },
   "source": [
    "**Compute the total Trade Size, filtered for only your sales.**\n",
    "\n",
    "For this and many other instances, you can & should pass your filter into the `filter` kwarg of the `.nansum(...)` call.\n",
    "\n",
    "This allows riptable to perform the filtering during the nansum computation, rather than instantiating a new column and then summing it."
   ]
  },
  {
   "cell_type": "code",
   "execution_count": 32,
   "metadata": {},
   "outputs": [
    {
     "data": {
      "text/plain": [
       "2498422"
      ]
     },
     "execution_count": 32,
     "metadata": {},
     "output_type": "execute_result"
    }
   ],
   "source": [
    "my_dset.Size.nansum(filter=f_my_sales)"
   ]
  },
  {
   "cell_type": "markdown",
   "metadata": {},
   "source": [
    "**Count how many times you sold each symbol.**\n",
    "\n",
    "Here the `.count()` function doesn't accept a `filter` kwarg, so you must fall back to explicitly filtering the `Symbol` field before counting.\n",
    "\n",
    "Be careful that you only filter down the `Symbol` field, not the entire dataset, otherwise you are wasting a lot of compute."
   ]
  },
  {
   "cell_type": "code",
   "execution_count": 33,
   "metadata": {},
   "outputs": [
    {
     "data": {
      "text/html": [
       "<html><head><style>table.tbl-2681 tbody td{white-space: nowrap;}table.tbl-2681 .lc{font-weight:bold;background-color: var( --jp-rendermime-table-row-hover-background);}table.tbl-2681 .lg{background-color: #66da9940;}table.tbl-2681 .lp{font-weight:bold;background-color: #ac66da40;}table.tbl-2681 .msc{font-weight:normal;background-color:#00000011;}table.tbl-2681 .al{text-align:left;}table.tbl-2681 .ar{text-align:right;}table.tbl-2681 .ac{text-align:center;}table.tbl-2681 .bld{font-weight:bold;}table.tbl-2681 .it{font-style:italic;}table.tbl-2681 .ul{text-decoration:underline;}table.tbl-2681 .st{text-decoration:line-through;}</style></head><body><table class='tbl-2681'><thead><tr><td class='lg bld al'>*Unique</td><td class='lc bld ar'>Count</td></tr></thead><tbody><tr><td class='lg  al '>AMZN</td><td class='  ar '>318</td></tr><tr><td class='lg  al '>GME</td><td class='  ar '>310</td></tr><tr><td class='lg  al '>SPY</td><td class='  ar '>307</td></tr><tr><td class='lg  al '>TSLA</td><td class='  ar '>315</td></tr></tbody></table></body></html>\n",
       "\n",
       "[4 rows x 2 columns] total bytes: 32.0 B"
      ],
      "text/plain": []
     },
     "execution_count": 33,
     "metadata": {},
     "output_type": "execute_result"
    }
   ],
   "source": [
    "my_dset.Symbol[f_my_sales].count()"
   ]
  },
  {
   "cell_type": "markdown",
   "metadata": {},
   "source": [
    "## Categoricals\n",
    "\n",
    "So far, we've been operating on your symbol column as a column of strings.\n",
    "\n",
    "However, it's far more efficient when you have a large column with many repeats to use a categorical, which assigns each unique value a number, and stores the labels & numbers separately.\n",
    "\n",
    "This is memory-efficient, and also computationally efficient, as riptable can peform operations on the unique values, then expand out to the full vector appropriately.\n",
    "\n",
    "**Make a new column of your string column converted to a categorical, using** `rt.Cat(column)`."
   ]
  },
  {
   "cell_type": "code",
   "execution_count": 34,
   "metadata": {
    "tags": []
   },
   "outputs": [
    {
     "data": {
      "text/plain": [
       "Categorical([AMZN, TSLA, AMZN, SPY, SPY, ..., TSLA, SPY, AMZN, TSLA, TSLA]) Length: 5000\n",
       "  FastArray([1, 4, 1, 3, 3, ..., 4, 3, 1, 4, 4], dtype=int8) Base Index: 1\n",
       "  FastArray([b'AMZN', b'GME', b'SPY', b'TSLA'], dtype='|S4') Unique count: 4"
      ]
     },
     "execution_count": 34,
     "metadata": {},
     "output_type": "execute_result"
    }
   ],
   "source": [
    "my_dset.Symbol_cat = rt.Cat(my_dset.Symbol)\n",
    "my_dset.Symbol_cat"
   ]
  },
  {
   "cell_type": "markdown",
   "metadata": {},
   "source": [
    "**Perform the same filtered count from above, on the categorical.**\n",
    "\n",
    "The categorical `.count()` admits a `filter` kwarg, which makes it simpler."
   ]
  },
  {
   "cell_type": "code",
   "execution_count": 35,
   "metadata": {},
   "outputs": [
    {
     "data": {
      "text/html": [
       "<html><head><style>table.tbl-7010 tbody td{white-space: nowrap;}table.tbl-7010 .lc{font-weight:bold;background-color: var( --jp-rendermime-table-row-hover-background);}table.tbl-7010 .lg{background-color: #66da9940;}table.tbl-7010 .lp{font-weight:bold;background-color: #ac66da40;}table.tbl-7010 .msc{font-weight:normal;background-color:#00000011;}table.tbl-7010 .al{text-align:left;}table.tbl-7010 .ar{text-align:right;}table.tbl-7010 .ac{text-align:center;}table.tbl-7010 .bld{font-weight:bold;}table.tbl-7010 .it{font-style:italic;}table.tbl-7010 .ul{text-decoration:underline;}table.tbl-7010 .st{text-decoration:line-through;}</style></head><body><table class='tbl-7010'><thead><tr><td class='lg bld al'>*Symbol_cat</td><td class='lc bld ar'>Count</td></tr></thead><tbody><tr><td class='lg  al '>AMZN</td><td class='  ar '>318</td></tr><tr><td class='lg  al '>GME</td><td class='  ar '>310</td></tr><tr><td class='lg  al '>SPY</td><td class='  ar '>307</td></tr><tr><td class='lg  al '>TSLA</td><td class='  ar '>315</td></tr></tbody></table></body></html>\n",
       "\n",
       "[4 rows x 2 columns] total bytes: 32.0 B"
      ],
      "text/plain": []
     },
     "execution_count": 35,
     "metadata": {},
     "output_type": "execute_result"
    }
   ],
   "source": [
    "my_dset.Symbol_cat.count(filter=f_my_sales)"
   ]
  },
  {
   "cell_type": "markdown",
   "metadata": {},
   "source": [
    "Categoricals can be used as groupings. When you call a numeric function on a categorical and pass numeric columns in, riptable knows to do the calculation per-group.\n",
    "\n",
    "**Compute the total amount of contracts sold by customers in each symbol.**"
   ]
  },
  {
   "cell_type": "code",
   "execution_count": 36,
   "metadata": {},
   "outputs": [
    {
     "data": {
      "text/html": [
       "<html><head><style>table.tbl-5506 tbody td{white-space: nowrap;}table.tbl-5506 .lc{font-weight:bold;background-color: var( --jp-rendermime-table-row-hover-background);}table.tbl-5506 .lg{background-color: #66da9940;}table.tbl-5506 .lp{font-weight:bold;background-color: #ac66da40;}table.tbl-5506 .msc{font-weight:normal;background-color:#00000011;}table.tbl-5506 .al{text-align:left;}table.tbl-5506 .ar{text-align:right;}table.tbl-5506 .ac{text-align:center;}table.tbl-5506 .bld{font-weight:bold;}table.tbl-5506 .it{font-style:italic;}table.tbl-5506 .ul{text-decoration:underline;}table.tbl-5506 .st{text-decoration:line-through;}</style></head><body><table class='tbl-5506'><thead><tr><td class='lg bld al'>*Symbol_cat</td><td class='lc bld ar'>  Size</td></tr></thead><tbody><tr><td class='lg  al '>AMZN</td><td class='  ar '>317423</td></tr><tr><td class='lg  al '>GME</td><td class='  ar '>315979</td></tr><tr><td class='lg  al '>SPY</td><td class='  ar '>316665</td></tr><tr><td class='lg  al '>TSLA</td><td class='  ar '>314398</td></tr></tbody></table></body></html>\n",
       "\n",
       "[4 rows x 2 columns] total bytes: 48.0 B"
      ],
      "text/plain": []
     },
     "execution_count": 36,
     "metadata": {},
     "output_type": "execute_result"
    }
   ],
   "source": [
    "my_dset.Symbol_cat.sum(my_dset.Size, filter=my_dset.CustDirection == 'Sell')"
   ]
  },
  {
   "cell_type": "markdown",
   "metadata": {},
   "source": [
    "The `transform=True` kwarg in a categorical operation performs the aggregation, then *transforms* it back up to the original shape of the categorical, giving each row the appropriate value from its group.\n",
    "\n",
    "**Make a new column which is the average trade price, per symbol.**"
   ]
  },
  {
   "cell_type": "code",
   "execution_count": 37,
   "metadata": {},
   "outputs": [],
   "source": [
    "my_dset.average_trade_price = my_dset.Symbol_cat.mean(my_dset.Price, transform=True)"
   ]
  },
  {
   "cell_type": "markdown",
   "metadata": {},
   "source": [
    "**Inspect with** `.sample()` **to confirm that this value is consistent for rows with matching symbol.**"
   ]
  },
  {
   "cell_type": "code",
   "execution_count": 38,
   "metadata": {},
   "outputs": [
    {
     "data": {
      "text/html": [
       "<html><head><style>table.tbl-7495 tbody td{white-space: nowrap;}table.tbl-7495 .lc{font-weight:bold;background-color: var( --jp-rendermime-table-row-hover-background);}table.tbl-7495 .lg{background-color: #66da9940;}table.tbl-7495 .lp{font-weight:bold;background-color: #ac66da40;}table.tbl-7495 .msc{font-weight:normal;background-color:#00000011;}table.tbl-7495 .al{text-align:left;}table.tbl-7495 .ar{text-align:right;}table.tbl-7495 .ac{text-align:center;}table.tbl-7495 .bld{font-weight:bold;}table.tbl-7495 .it{font-style:italic;}table.tbl-7495 .ul{text-decoration:underline;}table.tbl-7495 .st{text-decoration:line-through;}</style></head><body><table class='tbl-7495'><thead><tr><td class='lc bld ar'>#</td><td class='lc bld ar'> Price</td><td class='lc bld al'>Symbol</td><td class='lc bld ar'>Size</td><td class='lc bld ar'>MyTrade</td><td class='lc bld al'>...</td><td class='lc bld al'>month_name</td><td class='lc bld ar'>     month</td><td class='lc bld al'>Symbol_cat</td><td class='lc bld ar'>average_trade_price</td></tr></thead><tbody><tr><td class='lc  ar '>0</td><td class='  ar '>485.95</td><td class='  al '>SPY</td><td class='  ar '>671</td><td class='  ar '>True</td><td class='  al '>...</td><td class='  al '>Feb22</td><td class='  ar '>2022-02-01</td><td class='  al '>SPY</td><td class='  ar '>507.38</td></tr><tr><td class='lc  ar '>1</td><td class='  ar '>158.59</td><td class='  al '>GME</td><td class='  ar '>463</td><td class='  ar '>False</td><td class='  al '>...</td><td class='  al '>Mar22</td><td class='  ar '>2022-03-01</td><td class='  al '>GME</td><td class='  ar '>505.36</td></tr><tr><td class='lc  ar '>2</td><td class='  ar '>277.87</td><td class='  al '>SPY</td><td class='  ar '>26</td><td class='  ar '>True</td><td class='  al '>...</td><td class='  al '>Mar22</td><td class='  ar '>2022-03-01</td><td class='  al '>SPY</td><td class='  ar '>507.38</td></tr><tr><td class='lc  ar '>3</td><td class='  ar '>996.43</td><td class='  al '>GME</td><td class='  ar '>596</td><td class='  ar '>False</td><td class='  al '>...</td><td class='  al '>Mar22</td><td class='  ar '>2022-03-01</td><td class='  al '>GME</td><td class='  ar '>505.36</td></tr><tr><td class='lc  ar '>4</td><td class='  ar '>202.23</td><td class='  al '>AMZN</td><td class='  ar '>928</td><td class='  ar '>False</td><td class='  al '>...</td><td class='  al '>Mar22</td><td class='  ar '>2022-03-01</td><td class='  al '>AMZN</td><td class='  ar '>510.34</td></tr><tr><td class='lc  ar '>5</td><td class='  ar '>359.18</td><td class='  al '>GME</td><td class='  ar '>778</td><td class='  ar '>False</td><td class='  al '>...</td><td class='  al '>Mar22</td><td class='  ar '>2022-03-01</td><td class='  al '>GME</td><td class='  ar '>505.36</td></tr><tr><td class='lc  ar '>6</td><td class='  ar '>125.56</td><td class='  al '>SPY</td><td class='  ar '>612</td><td class='  ar '>True</td><td class='  al '>...</td><td class='  al '>Mar22</td><td class='  ar '>2022-03-01</td><td class='  al '>SPY</td><td class='  ar '>507.38</td></tr><tr><td class='lc  ar '>7</td><td class='  ar '>686.36</td><td class='  al '>AMZN</td><td class='  ar '>39</td><td class='  ar '>True</td><td class='  al '>...</td><td class='  al '>Mar22</td><td class='  ar '>2022-03-01</td><td class='  al '>AMZN</td><td class='  ar '>510.34</td></tr><tr><td class='lc  ar '>8</td><td class='  ar '>720.28</td><td class='  al '>GME</td><td class='  ar '>661</td><td class='  ar '>True</td><td class='  al '>...</td><td class='  al '>Apr22</td><td class='  ar '>2022-04-01</td><td class='  al '>GME</td><td class='  ar '>505.36</td></tr><tr><td class='lc  ar '>9</td><td class='  ar '>727.12</td><td class='  al '>SPY</td><td class='  ar '>148</td><td class='  ar '>True</td><td class='  al '>...</td><td class='  al '>Apr22</td><td class='  ar '>2022-04-01</td><td class='  al '>SPY</td><td class='  ar '>507.38</td></tr></tbody></table></body></html>\n",
       "\n",
       "[10 rows x 14 columns] total bytes: 806.0 B"
      ],
      "text/plain": []
     },
     "execution_count": 38,
     "metadata": {},
     "output_type": "execute_result"
    }
   ],
   "source": [
    "my_dset.sample()"
   ]
  },
  {
   "cell_type": "markdown",
   "metadata": {},
   "source": [
    "If you need to perform a custom operation on each categorical, you can pass in a function with `.apply_reduce` (which aggregates) or `.apply_nonreduce` (which is like `transform=True`).\n",
    "\n",
    "Note that the custom function you pass needs to expect a FastArray, and output a scalar (`apply_reduce`) or same-length FastArray (`apply_nonreduce`).\n",
    "\n",
    "**Find, for each symbol, the trade size of the second trade occuring in the dataset.**"
   ]
  },
  {
   "cell_type": "code",
   "execution_count": 39,
   "metadata": {},
   "outputs": [
    {
     "data": {
      "text/html": [
       "<html><head><style>table.tbl-8914 tbody td{white-space: nowrap;}table.tbl-8914 .lc{font-weight:bold;background-color: var( --jp-rendermime-table-row-hover-background);}table.tbl-8914 .lg{background-color: #66da9940;}table.tbl-8914 .lp{font-weight:bold;background-color: #ac66da40;}table.tbl-8914 .msc{font-weight:normal;background-color:#00000011;}table.tbl-8914 .al{text-align:left;}table.tbl-8914 .ar{text-align:right;}table.tbl-8914 .ac{text-align:center;}table.tbl-8914 .bld{font-weight:bold;}table.tbl-8914 .it{font-style:italic;}table.tbl-8914 .ul{text-decoration:underline;}table.tbl-8914 .st{text-decoration:line-through;}</style></head><body><table class='tbl-8914'><thead><tr><td class='lg bld al'>*Symbol_cat</td><td class='lc bld ar'>Size</td></tr></thead><tbody><tr><td class='lg  al '>AMZN</td><td class='  ar '>360</td></tr><tr><td class='lg  al '>GME</td><td class='  ar '>923</td></tr><tr><td class='lg  al '>SPY</td><td class='  ar '>409</td></tr><tr><td class='lg  al '>TSLA</td><td class='  ar '>446</td></tr></tbody></table></body></html>\n",
       "\n",
       "[4 rows x 2 columns] total bytes: 48.0 B"
      ],
      "text/plain": []
     },
     "execution_count": 39,
     "metadata": {},
     "output_type": "execute_result"
    }
   ],
   "source": [
    "my_dset.Symbol_cat.apply_reduce(lambda x: x[1], my_dset.Size)"
   ]
  },
  {
   "cell_type": "markdown",
   "metadata": {},
   "source": [
    "Sometimes you want to aggregate based on multiple values. In these cases we use multi-key categoricals.\n",
    "\n",
    "**Use a multi-key categorical to compute the average size per symbol-month pair.**"
   ]
  },
  {
   "cell_type": "code",
   "execution_count": 40,
   "metadata": {},
   "outputs": [],
   "source": [
    "my_dset.Symbol_month_cat = rt.Cat([my_dset.Symbol, my_dset.month])"
   ]
  },
  {
   "cell_type": "code",
   "execution_count": 41,
   "metadata": {},
   "outputs": [
    {
     "data": {
      "text/html": [
       "<html><head><style>table.tbl-1709 tbody td{white-space: nowrap;}table.tbl-1709 .lc{font-weight:bold;background-color: var( --jp-rendermime-table-row-hover-background);}table.tbl-1709 .lg{background-color: #66da9940;}table.tbl-1709 .lp{font-weight:bold;background-color: #ac66da40;}table.tbl-1709 .msc{font-weight:normal;background-color:#00000011;}table.tbl-1709 .al{text-align:left;}table.tbl-1709 .ar{text-align:right;}table.tbl-1709 .ac{text-align:center;}table.tbl-1709 .bld{font-weight:bold;}table.tbl-1709 .it{font-style:italic;}table.tbl-1709 .ul{text-decoration:underline;}table.tbl-1709 .st{text-decoration:line-through;}</style></head><body><table class='tbl-1709'><thead><tr><td class='lg bld al'>*Symbol</td><td class='lg bld ar'>    *month</td><td class='lc bld ar'>  Size</td></tr></thead><tbody><tr><td class='lg  al '>AMZN</td><td class='lg  ar '>2022-02-01</td><td class='  ar '>491.85</td></tr><tr><td class='lg  al '>.</td><td class='lg  ar '>2022-03-01</td><td class='  ar '>486.34</td></tr><tr><td class='lg  al '>.</td><td class='lg  ar '>2022-04-01</td><td class='  ar '>517.41</td></tr><tr><td class='lg  al '>GME</td><td class='lg  ar '>2022-02-01</td><td class='  ar '>484.20</td></tr><tr><td class='lg  al '>.</td><td class='lg  ar '>2022-03-01</td><td class='  ar '>527.31</td></tr><tr><td class='lg  al '>.</td><td class='lg  ar '>2022-04-01</td><td class='  ar '>513.59</td></tr><tr><td class='lg  al '>SPY</td><td class='lg  ar '>2022-02-01</td><td class='  ar '>499.23</td></tr><tr><td class='lg  al '>.</td><td class='lg  ar '>2022-03-01</td><td class='  ar '>507.26</td></tr><tr><td class='lg  al '>.</td><td class='lg  ar '>2022-04-01</td><td class='  ar '>474.98</td></tr><tr><td class='lg  al '>TSLA</td><td class='lg  ar '>2022-02-01</td><td class='  ar '>478.41</td></tr><tr><td class='lg  al '>.</td><td class='lg  ar '>2022-03-01</td><td class='  ar '>500.87</td></tr><tr><td class='lg  al '>.</td><td class='lg  ar '>2022-04-01</td><td class='  ar '>513.25</td></tr></tbody></table></body></html>\n",
       "\n",
       "[12 rows x 3 columns] total bytes: 192.0 B"
      ],
      "text/plain": []
     },
     "execution_count": 41,
     "metadata": {},
     "output_type": "execute_result"
    }
   ],
   "source": [
    "my_dset.Symbol_month_cat.nanmean(my_dset.Size).sort_inplace('Symbol')"
   ]
  },
  {
   "cell_type": "markdown",
   "metadata": {
    "tags": []
   },
   "source": [
    "## Accumulating"
   ]
  },
  {
   "cell_type": "markdown",
   "metadata": {},
   "source": [
    "Aggregating over two values for human viewing is often most conveniently done with an accum. \n",
    "\n",
    "**Use** `Accum2` **to compute the average size per symbol-month pair.**"
   ]
  },
  {
   "cell_type": "code",
   "execution_count": 42,
   "metadata": {},
   "outputs": [
    {
     "data": {
      "text/html": [
       "<html><head><style>table.tbl-3614 tbody td{white-space: nowrap;}table.tbl-3614 .lc{font-weight:bold;background-color: var( --jp-rendermime-table-row-hover-background);}table.tbl-3614 .lg{background-color: #66da9940;}table.tbl-3614 .lp{font-weight:bold;background-color: #ac66da40;}table.tbl-3614 .msc{font-weight:normal;background-color:#00000011;}table.tbl-3614 .al{text-align:left;}table.tbl-3614 .ar{text-align:right;}table.tbl-3614 .ac{text-align:center;}table.tbl-3614 .bld{font-weight:bold;}table.tbl-3614 .it{font-style:italic;}table.tbl-3614 .ul{text-decoration:underline;}table.tbl-3614 .st{text-decoration:line-through;}</style></head><body><table class='tbl-3614'><thead><tr><td class='lg bld al'>*Symbol</td><td class='lc bld ar'>2022-02-01</td><td class='lc bld ar'>2022-03-01</td><td class='lc bld ar'>2022-04-01</td><td class='lg bld ar'>Nanmean</td></tr></thead><tbody><tr><td class='lg  al '>AMZN</td><td class='  ar '>491.85</td><td class='  ar '>486.34</td><td class='  ar '>517.41</td><td class='lg  ar '>498.20</td></tr><tr><td class='lg  al '>GME</td><td class='  ar '>484.20</td><td class='  ar '>527.31</td><td class='  ar '>513.59</td><td class='lg  ar '>508.62</td></tr><tr><td class='lg  al '>SPY</td><td class='  ar '>499.23</td><td class='  ar '>507.26</td><td class='  ar '>474.98</td><td class='lg  ar '>493.75</td></tr><tr><td class='lg  al '>TSLA</td><td class='  ar '>478.41</td><td class='  ar '>500.87</td><td class='  ar '>513.25</td><td class='lg  ar '>498.30</td></tr><tr><td class='lg ar'>Nanmean</td><td class='lg ar'>    488.39</td><td class='lg ar'>    505.27</td><td class='lg ar'>    504.57</td><td class='lg ar'> 499.68</td></tr></tbody></table></body></html>\n",
       "\n",
       "[4 rows x 5 columns] total bytes: 144.0 B"
      ],
      "text/plain": []
     },
     "execution_count": 42,
     "metadata": {},
     "output_type": "execute_result"
    }
   ],
   "source": [
    "rt.Accum2(my_dset.Symbol, my_dset.month).nanmean(my_dset.Size)"
   ]
  },
  {
   "cell_type": "markdown",
   "metadata": {},
   "source": [
    "Average numbers can be meaningless. It is often better to consider relative percentage instead.\n",
    "\n",
    "**Use** `accum_ratiop` **to compute the fraction of total volume done by each symbol-month pair.**"
   ]
  },
  {
   "cell_type": "code",
   "execution_count": 43,
   "metadata": {},
   "outputs": [
    {
     "data": {
      "text/html": [
       "<html><head><style>table.tbl-7986 tbody td{white-space: nowrap;}table.tbl-7986 .lc{font-weight:bold;background-color: var( --jp-rendermime-table-row-hover-background);}table.tbl-7986 .lg{background-color: #66da9940;}table.tbl-7986 .lp{font-weight:bold;background-color: #ac66da40;}table.tbl-7986 .msc{font-weight:normal;background-color:#00000011;}table.tbl-7986 .al{text-align:left;}table.tbl-7986 .ar{text-align:right;}table.tbl-7986 .ac{text-align:center;}table.tbl-7986 .bld{font-weight:bold;}table.tbl-7986 .it{font-style:italic;}table.tbl-7986 .ul{text-decoration:underline;}table.tbl-7986 .st{text-decoration:line-through;}</style></head><body><table class='tbl-7986'><thead><tr><td class='lg bld al'>*Symbol   </td><td class='lc bld ar'>2022-02-01</td><td class='lc bld ar'>2022-03-01</td><td class='lc bld ar'>2022-04-01</td><td class='lg bld ar'>TotalRatio</td><td class='lg bld ar'>  Total</td></tr></thead><tbody><tr><td class='lg  al '>AMZN</td><td class='  ar '>32.35</td><td class='  ar '>34.03</td><td class='  ar '>33.62</td><td class='lg  ar '>100.00</td><td class='lg  ar '>621754</td></tr><tr><td class='lg  al '>GME</td><td class='  ar '>31.19</td><td class='  ar '>35.23</td><td class='  ar '>33.58</td><td class='lg  ar '>100.00</td><td class='lg  ar '>628657</td></tr><tr><td class='lg  al '>SPY</td><td class='  ar '>30.86</td><td class='  ar '>36.18</td><td class='  ar '>32.96</td><td class='lg  ar '>100.00</td><td class='lg  ar '>619657</td></tr><tr><td class='lg  al '>TSLA</td><td class='  ar '>29.54</td><td class='  ar '>34.36</td><td class='  ar '>36.10</td><td class='lg  ar '>100.00</td><td class='lg  ar '>628354</td></tr><tr><td class='lg ar'>TotalRatio</td><td class='lg ar'>     30.98</td><td class='lg ar'>     34.95</td><td class='lg ar'>     34.07</td><td class='lg ar'>    100.00</td><td class='lg ar'>       </td></tr><tr><td class='lg ar'>     Total</td><td class='lg ar'>    774095</td><td class='lg ar'>    873112</td><td class='lg ar'>    851215</td><td class='lg ar'>          </td><td class='lg ar'>2498422</td></tr></tbody></table></body></html>\n",
       "\n",
       "[4 rows x 6 columns] total bytes: 176.0 B"
      ],
      "text/plain": []
     },
     "execution_count": 43,
     "metadata": {},
     "output_type": "execute_result"
    }
   ],
   "source": [
    "rt.accum_ratiop(my_dset.Symbol, my_dset.month, my_dset.Size, norm_by='R')"
   ]
  },
  {
   "cell_type": "markdown",
   "metadata": {},
   "source": [
    "## Merging"
   ]
  },
  {
   "cell_type": "markdown",
   "metadata": {},
   "source": [
    "There are two main types of merges.\n",
    "\n",
    "First is `merge_lookup`. This is used for enriching one (typically large) dataset with information from another (typically small) dataset.\n",
    "\n",
    "**Create a new dataset with one row per symbol from your dataset, and a second column of who trades each symbol.**"
   ]
  },
  {
   "cell_type": "code",
   "execution_count": 44,
   "metadata": {},
   "outputs": [],
   "source": [
    "symbol_trader = rt.Dataset({'UnderlyingSymbol': ['GME', 'TSLA', 'SPY', 'AMZN'],\n",
    "                           'Trader': ['Nate', 'Elon', 'Josh', 'Dan']})"
   ]
  },
  {
   "cell_type": "code",
   "execution_count": 45,
   "metadata": {},
   "outputs": [
    {
     "data": {
      "text/html": [
       "<html><head><style>table.tbl-9964 tbody td{white-space: nowrap;}table.tbl-9964 .lc{font-weight:bold;background-color: var( --jp-rendermime-table-row-hover-background);}table.tbl-9964 .lg{background-color: #66da9940;}table.tbl-9964 .lp{font-weight:bold;background-color: #ac66da40;}table.tbl-9964 .msc{font-weight:normal;background-color:#00000011;}table.tbl-9964 .al{text-align:left;}table.tbl-9964 .ar{text-align:right;}table.tbl-9964 .ac{text-align:center;}table.tbl-9964 .bld{font-weight:bold;}table.tbl-9964 .it{font-style:italic;}table.tbl-9964 .ul{text-decoration:underline;}table.tbl-9964 .st{text-decoration:line-through;}</style></head><body><table class='tbl-9964'><thead><tr><td class='lc bld ar'>#</td><td class='lc bld al'>UnderlyingSymbol</td><td class='lc bld al'>Trader</td></tr></thead><tbody><tr><td class='lc  ar '>0</td><td class='  al '>GME</td><td class='  al '>Nate</td></tr><tr><td class='lc  ar '>1</td><td class='  al '>TSLA</td><td class='  al '>Elon</td></tr><tr><td class='lc  ar '>2</td><td class='  al '>SPY</td><td class='  al '>Josh</td></tr><tr><td class='lc  ar '>3</td><td class='  al '>AMZN</td><td class='  al '>Dan</td></tr></tbody></table></body></html>\n",
       "\n",
       "[4 rows x 2 columns] total bytes: 32.0 B"
      ],
      "text/plain": []
     },
     "execution_count": 45,
     "metadata": {},
     "output_type": "execute_result"
    }
   ],
   "source": [
    "symbol_trader"
   ]
  },
  {
   "cell_type": "markdown",
   "metadata": {},
   "source": [
    "**Enrich the main dataset by putting the correct trader into each row.**"
   ]
  },
  {
   "cell_type": "code",
   "execution_count": 46,
   "metadata": {
    "tags": []
   },
   "outputs": [],
   "source": [
    "my_dset.Trader = my_dset.merge_lookup(symbol_trader, on=('Symbol', 'UnderlyingSymbol'), columns_left=[])['Trader']"
   ]
  },
  {
   "cell_type": "code",
   "execution_count": 47,
   "metadata": {
    "tags": []
   },
   "outputs": [
    {
     "data": {
      "text/html": [
       "<html><head><style>table.tbl-2654 tbody td{white-space: nowrap;}table.tbl-2654 .lc{font-weight:bold;background-color: var( --jp-rendermime-table-row-hover-background);}table.tbl-2654 .lg{background-color: #66da9940;}table.tbl-2654 .lp{font-weight:bold;background-color: #ac66da40;}table.tbl-2654 .msc{font-weight:normal;background-color:#00000011;}table.tbl-2654 .al{text-align:left;}table.tbl-2654 .ar{text-align:right;}table.tbl-2654 .ac{text-align:center;}table.tbl-2654 .bld{font-weight:bold;}table.tbl-2654 .it{font-style:italic;}table.tbl-2654 .ul{text-decoration:underline;}table.tbl-2654 .st{text-decoration:line-through;}</style></head><body><table class='tbl-2654'><thead><tr><td class='lc bld ar'>#</td><td class='lc bld ar'> Price</td><td class='lc bld al'>Symbol</td><td class='lc bld ar'>Size</td><td class='lc bld ar'>MyTrade</td><td class='lc bld al'>...</td><td class='lc bld al'>Symbol_cat</td><td class='lc bld ar'>average_trade_price</td><td class='lc bld al'>Symbol_month_cat  </td><td class='lc bld al'>Trader</td></tr></thead><tbody><tr><td class='lc  ar '>0</td><td class='  ar '>92.15</td><td class='  al '>AMZN</td><td class='  ar '>420</td><td class='  ar '>False</td><td class='  al '>...</td><td class='  al '>AMZN</td><td class='  ar '>510.34</td><td class='  al '>(AMZN, 2022-02-01)</td><td class='  al '>Dan</td></tr><tr><td class='lc  ar '>1</td><td class='  ar '>536.58</td><td class='  al '>SPY</td><td class='  ar '>484</td><td class='  ar '>True</td><td class='  al '>...</td><td class='  al '>SPY</td><td class='  ar '>507.38</td><td class='  al '>(SPY, 2022-03-01)</td><td class='  al '>Josh</td></tr><tr><td class='lc  ar '>2</td><td class='  ar '>356.18</td><td class='  al '>TSLA</td><td class='  ar '>427</td><td class='  ar '>False</td><td class='  al '>...</td><td class='  al '>TSLA</td><td class='  ar '>505.60</td><td class='  al '>(TSLA, 2022-03-01)</td><td class='  al '>Elon</td></tr><tr><td class='lc  ar '>3</td><td class='  ar '>417.53</td><td class='  al '>TSLA</td><td class='  ar '>359</td><td class='  ar '>False</td><td class='  al '>...</td><td class='  al '>TSLA</td><td class='  ar '>505.60</td><td class='  al '>(TSLA, 2022-04-01)</td><td class='  al '>Elon</td></tr><tr><td class='lc  ar '>4</td><td class='  ar '>4.38</td><td class='  al '>SPY</td><td class='  ar '>594</td><td class='  ar '>True</td><td class='  al '>...</td><td class='  al '>SPY</td><td class='  ar '>507.38</td><td class='  al '>(SPY, 2022-04-01)</td><td class='  al '>Josh</td></tr><tr><td class='lc  ar '>5</td><td class='  ar '>11.18</td><td class='  al '>GME</td><td class='  ar '>630</td><td class='  ar '>True</td><td class='  al '>...</td><td class='  al '>GME</td><td class='  ar '>505.36</td><td class='  al '>(GME, 2022-04-01)</td><td class='  al '>Nate</td></tr><tr><td class='lc  ar '>6</td><td class='  ar '>609.13</td><td class='  al '>GME</td><td class='  ar '>802</td><td class='  ar '>False</td><td class='  al '>...</td><td class='  al '>GME</td><td class='  ar '>505.36</td><td class='  al '>(GME, 2022-04-01)</td><td class='  al '>Nate</td></tr><tr><td class='lc  ar '>7</td><td class='  ar '>615.85</td><td class='  al '>SPY</td><td class='  ar '>24</td><td class='  ar '>False</td><td class='  al '>...</td><td class='  al '>SPY</td><td class='  ar '>507.38</td><td class='  al '>(SPY, 2022-04-01)</td><td class='  al '>Josh</td></tr><tr><td class='lc  ar '>8</td><td class='  ar '>334.67</td><td class='  al '>TSLA</td><td class='  ar '>967</td><td class='  ar '>True</td><td class='  al '>...</td><td class='  al '>TSLA</td><td class='  ar '>505.60</td><td class='  al '>(TSLA, 2022-04-01)</td><td class='  al '>Elon</td></tr><tr><td class='lc  ar '>9</td><td class='  ar '>906.37</td><td class='  al '>AMZN</td><td class='  ar '>861</td><td class='  ar '>True</td><td class='  al '>...</td><td class='  al '>AMZN</td><td class='  ar '>510.34</td><td class='  al '>(AMZN, 2022-04-01)</td><td class='  al '>Dan</td></tr></tbody></table></body></html>\n",
       "\n",
       "[10 rows x 16 columns] total bytes: 952.0 B"
      ],
      "text/plain": []
     },
     "execution_count": 47,
     "metadata": {},
     "output_type": "execute_result"
    }
   ],
   "source": [
    "my_dset.sample()"
   ]
  },
  {
   "cell_type": "markdown",
   "metadata": {},
   "source": [
    "The second type of merge is `merge_asof`, which is used for fuzzy alignment between two datasets, typically by time (though often by other variables).\n",
    "\n",
    "**Create a new index price dataset with one price per minute, which covers all the Dates in your dataset.**\n",
    "\n",
    "The index price doesn't need to be reasonable.\n",
    "\n",
    "Each row should have a DateTimeNano as the datetime."
   ]
  },
  {
   "cell_type": "code",
   "execution_count": 48,
   "metadata": {
    "tags": []
   },
   "outputs": [],
   "source": [
    "num_minutes = int((my_dset.TradeDateTime.max() - my_dset.TradeDateTime.min()).minutes[0])\n",
    "start_datetime = rt.Date(my_dset.TradeDateTime.min())"
   ]
  },
  {
   "cell_type": "code",
   "execution_count": 49,
   "metadata": {
    "tags": []
   },
   "outputs": [],
   "source": [
    "index_price = rt.Dataset({'DateTime': start_datetime + rt.TimeSpan(range(num_minutes), unit='m'),\n",
    "                          'IndexPrice': rng.uniform(3500, 4500, num_minutes)})"
   ]
  },
  {
   "cell_type": "code",
   "execution_count": 50,
   "metadata": {
    "tags": []
   },
   "outputs": [
    {
     "data": {
      "text/html": [
       "<html><head><style>table.tbl-268 tbody td{white-space: nowrap;}table.tbl-268 .lc{font-weight:bold;background-color: var( --jp-rendermime-table-row-hover-background);}table.tbl-268 .lg{background-color: #66da9940;}table.tbl-268 .lp{font-weight:bold;background-color: #ac66da40;}table.tbl-268 .msc{font-weight:normal;background-color:#00000011;}table.tbl-268 .al{text-align:left;}table.tbl-268 .ar{text-align:right;}table.tbl-268 .ac{text-align:center;}table.tbl-268 .bld{font-weight:bold;}table.tbl-268 .it{font-style:italic;}table.tbl-268 .ul{text-decoration:underline;}table.tbl-268 .st{text-decoration:line-through;}</style></head><body><table class='tbl-268'><thead><tr><td class='lc bld ar'>#</td><td class='lc bld ar'>                   DateTime</td><td class='lc bld ar'>IndexPrice</td></tr></thead><tbody><tr><td class='lc  ar '>0</td><td class='  ar '>20220201 13:48:00.000000000</td><td class='  ar '>4380.32</td></tr><tr><td class='lc  ar '>1</td><td class='  ar '>20220214 05:40:00.000000000</td><td class='  ar '>3819.50</td></tr><tr><td class='lc  ar '>2</td><td class='  ar '>20220222 18:52:00.000000000</td><td class='  ar '>3594.59</td></tr><tr><td class='lc  ar '>3</td><td class='  ar '>20220312 10:34:00.000000000</td><td class='  ar '>3921.27</td></tr><tr><td class='lc  ar '>4</td><td class='  ar '>20220327 01:59:00.000000000</td><td class='  ar '>3943.76</td></tr><tr><td class='lc  ar '>5</td><td class='  ar '>20220328 02:20:00.000000000</td><td class='  ar '>4021.35</td></tr><tr><td class='lc  ar '>6</td><td class='  ar '>20220331 22:25:00.000000000</td><td class='  ar '>4206.64</td></tr><tr><td class='lc  ar '>7</td><td class='  ar '>20220403 14:16:00.000000000</td><td class='  ar '>3619.59</td></tr><tr><td class='lc  ar '>8</td><td class='  ar '>20220407 10:45:00.000000000</td><td class='  ar '>4048.61</td></tr><tr><td class='lc  ar '>9</td><td class='  ar '>20220415 12:03:00.000000000</td><td class='  ar '>4467.44</td></tr></tbody></table></body></html>\n",
       "\n",
       "[10 rows x 2 columns] total bytes: 160.0 B"
      ],
      "text/plain": []
     },
     "execution_count": 50,
     "metadata": {},
     "output_type": "execute_result"
    }
   ],
   "source": [
    "index_price.sample()"
   ]
  },
  {
   "cell_type": "markdown",
   "metadata": {},
   "source": [
    "**Use** `merge_asof` **to get the most recent Index Price associated with each trade in your main dataset.**\n",
    "\n",
    "Note both datasets need to be sorted for merge_asof.\n",
    "\n",
    "The `on` kwarg is the numeric/time field that looks for close matches.\n",
    "\n",
    "The `by` kwarg is not necessary here, but could constrain the match to a subset if, for example, you had multiple indices and a column of which one each row is associated with.\n",
    "\n",
    "**Use** `direction='backward'` **to ensure you're not biasing your data by looking into the future!**"
   ]
  },
  {
   "cell_type": "code",
   "execution_count": 51,
   "metadata": {
    "tags": []
   },
   "outputs": [],
   "source": [
    "my_dset.IndexPrice = my_dset.merge_asof(index_price, on=('TradeDateTime', 'DateTime'), direction='backward', columns_left=[])['IndexPrice']"
   ]
  },
  {
   "cell_type": "markdown",
   "metadata": {},
   "source": [
    "## Saving/Loading"
   ]
  },
  {
   "cell_type": "markdown",
   "metadata": {},
   "source": [
    "The native riptable filetype is .sds. It's the fastest way to save & load your data."
   ]
  },
  {
   "cell_type": "markdown",
   "metadata": {},
   "source": [
    "**Save out your dataset to file using** `rt.save_sds`."
   ]
  },
  {
   "cell_type": "code",
   "execution_count": 52,
   "metadata": {
    "tags": []
   },
   "outputs": [],
   "source": [
    "rt.save_sds('my_dset.sds', my_dset)"
   ]
  },
  {
   "cell_type": "markdown",
   "metadata": {},
   "source": [
    "**Delete your dataset to free up memory using the native python** `del my_dset`.\n",
    "\n",
    "Note that if there are references to the dataset in other objects you may not actually free up memory."
   ]
  },
  {
   "cell_type": "code",
   "execution_count": 53,
   "metadata": {
    "tags": []
   },
   "outputs": [],
   "source": [
    "del my_dset"
   ]
  },
  {
   "cell_type": "markdown",
   "metadata": {},
   "source": [
    "**Reload your saved dataset from disk with** `rt.load_sds`."
   ]
  },
  {
   "cell_type": "code",
   "execution_count": 54,
   "metadata": {
    "tags": []
   },
   "outputs": [],
   "source": [
    "my_dset = rt.load_sds('my_dset.sds')"
   ]
  },
  {
   "cell_type": "code",
   "execution_count": 55,
   "metadata": {
    "tags": []
   },
   "outputs": [
    {
     "data": {
      "text/html": [
       "<html><head><style>table.tbl-8340 tbody td{white-space: nowrap;}table.tbl-8340 .lc{font-weight:bold;background-color: var( --jp-rendermime-table-row-hover-background);}table.tbl-8340 .lg{background-color: #66da9940;}table.tbl-8340 .lp{font-weight:bold;background-color: #ac66da40;}table.tbl-8340 .msc{font-weight:normal;background-color:#00000011;}table.tbl-8340 .al{text-align:left;}table.tbl-8340 .ar{text-align:right;}table.tbl-8340 .ac{text-align:center;}table.tbl-8340 .bld{font-weight:bold;}table.tbl-8340 .it{font-style:italic;}table.tbl-8340 .ul{text-decoration:underline;}table.tbl-8340 .st{text-decoration:line-through;}</style></head><body><table class='tbl-8340'><thead><tr><td class='lc bld ar'>#</td><td class='lc bld ar'> Price</td><td class='lc bld al'>Symbol</td><td class='lc bld ar'>Size</td><td class='lc bld ar'>MyTrade</td><td class='lc bld al'>...</td><td class='lc bld ar'>average_trade_price</td><td class='lc bld al'>Symbol_month_cat  </td><td class='lc bld al'>Trader</td><td class='lc bld ar'>IndexPrice</td></tr></thead><tbody><tr><td class='lc  ar '>0</td><td class='  ar '>553.08</td><td class='  al '>TSLA</td><td class='  ar '>274</td><td class='  ar '>True</td><td class='  al '>...</td><td class='  ar '>505.60</td><td class='  al '>(TSLA, 2022-02-01)</td><td class='  al '>Elon</td><td class='  ar '>3599.69</td></tr><tr><td class='lc  ar '>1</td><td class='  ar '>215.50</td><td class='  al '>TSLA</td><td class='  ar '>957</td><td class='  ar '>False</td><td class='  al '>...</td><td class='  ar '>505.60</td><td class='  al '>(TSLA, 2022-02-01)</td><td class='  al '>Elon</td><td class='  ar '>3623.25</td></tr><tr><td class='lc  ar '>2</td><td class='  ar '>649.53</td><td class='  al '>AMZN</td><td class='  ar '>764</td><td class='  ar '>True</td><td class='  al '>...</td><td class='  ar '>510.34</td><td class='  al '>(AMZN, 2022-02-01)</td><td class='  al '>Dan</td><td class='  ar '>3760.78</td></tr><tr><td class='lc  ar '>3</td><td class='  ar '>257.19</td><td class='  al '>GME</td><td class='  ar '>62</td><td class='  ar '>False</td><td class='  al '>...</td><td class='  ar '>505.36</td><td class='  al '>(GME, 2022-02-01)</td><td class='  al '>Nate</td><td class='  ar '>3974.95</td></tr><tr><td class='lc  ar '>4</td><td class='  ar '>263.29</td><td class='  al '>SPY</td><td class='  ar '>922</td><td class='  ar '>True</td><td class='  al '>...</td><td class='  ar '>507.38</td><td class='  al '>(SPY, 2022-02-01)</td><td class='  al '>Josh</td><td class='  ar '>4341.34</td></tr><tr><td class='lc  ar '>5</td><td class='  ar '>632.26</td><td class='  al '>AMZN</td><td class='  ar '>567</td><td class='  ar '>True</td><td class='  al '>...</td><td class='  ar '>510.34</td><td class='  al '>(AMZN, 2022-02-01)</td><td class='  al '>Dan</td><td class='  ar '>4293.08</td></tr><tr><td class='lc  ar '>6</td><td class='  ar '>631.12</td><td class='  al '>SPY</td><td class='  ar '>988</td><td class='  ar '>False</td><td class='  al '>...</td><td class='  ar '>507.38</td><td class='  al '>(SPY, 2022-03-01)</td><td class='  al '>Josh</td><td class='  ar '>3568.03</td></tr><tr><td class='lc  ar '>7</td><td class='  ar '>773.30</td><td class='  al '>GME</td><td class='  ar '>82</td><td class='  ar '>False</td><td class='  al '>...</td><td class='  ar '>505.36</td><td class='  al '>(GME, 2022-04-01)</td><td class='  al '>Nate</td><td class='  ar '>3677.05</td></tr><tr><td class='lc  ar '>8</td><td class='  ar '>182.55</td><td class='  al '>GME</td><td class='  ar '>358</td><td class='  ar '>True</td><td class='  al '>...</td><td class='  ar '>505.36</td><td class='  al '>(GME, 2022-04-01)</td><td class='  al '>Nate</td><td class='  ar '>4128.69</td></tr><tr><td class='lc  ar '>9</td><td class='  ar '>408.96</td><td class='  al '>TSLA</td><td class='  ar '>808</td><td class='  ar '>True</td><td class='  al '>...</td><td class='  ar '>505.60</td><td class='  al '>(TSLA, 2022-04-01)</td><td class='  al '>Elon</td><td class='  ar '>4209.58</td></tr></tbody></table></body></html>\n",
       "\n",
       "[10 rows x 17 columns] total bytes: 1.0 KB"
      ],
      "text/plain": []
     },
     "execution_count": 55,
     "metadata": {},
     "output_type": "execute_result"
    }
   ],
   "source": [
    "my_dset.sample()"
   ]
  },
  {
   "cell_type": "markdown",
   "metadata": {},
   "source": [
    "To load from h5 files (a common file type at SIG), use `rt.load_h5(file)`.\n",
    "\n",
    "To load from csv files, use the slow but robust pandas loader, with `rt.Dataset.from_pandas(pd.read_csv(file))`."
   ]
  }
 ],
 "metadata": {
  "kernelspec": {
   "display_name": "Python 3 (ipykernel)",
   "language": "python",
   "name": "python3"
  },
  "language_info": {
   "codemirror_mode": {
    "name": "ipython",
    "version": 3
   },
   "file_extension": ".py",
   "mimetype": "text/x-python",
   "name": "python",
   "nbconvert_exporter": "python",
   "pygments_lexer": "ipython3",
   "version": "3.9.13"
  }
 },
 "nbformat": 4,
 "nbformat_minor": 4
}
