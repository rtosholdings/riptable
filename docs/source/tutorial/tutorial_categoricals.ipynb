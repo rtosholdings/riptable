{
 "cells": [
  {
   "cell_type": "markdown",
   "id": "37b027c2-4b98-427d-8449-8f60acbabfc7",
   "metadata": {
    "tags": []
   },
   "source": [
    "# Perform Group Operations with Categoricals"
   ]
  },
  {
   "cell_type": "code",
   "execution_count": 71,
   "id": "2c2991ed-c6b7-48a5-8140-639f5caba49a",
   "metadata": {
    "jp-MarkdownHeadingCollapsed": true,
    "tags": []
   },
   "outputs": [
    {
     "name": "stdout",
     "output_type": "stream",
     "text": [
      "To download this notebook, right click on the link and Save link as...\n"
     ]
    },
    {
     "data": {
      "text/html": [
       "<a href='tutorial_categoricals.ipynb' target='_blank'>tutorial_categoricals.ipynb</a><br>"
      ],
      "text/plain": [
       "U:\\btcache\\scratch\\johnsonc\\jupyter\\Tutorial\\Tutorial_GitLab\\tutorial_categoricals.ipynb"
      ]
     },
     "execution_count": 71,
     "metadata": {},
     "output_type": "execute_result"
    }
   ],
   "source": [
    "# Generate notebook download link\n",
    "from IPython.display import FileLink\n",
    "print('To download this notebook, right click on the link and Save link as...')\n",
    "FileLink('tutorial_categoricals.ipynb')"
   ]
  },
  {
   "cell_type": "code",
   "execution_count": 72,
   "id": "72beacb7-4afc-4c2b-ac91-8c5f0bcc8434",
   "metadata": {},
   "outputs": [],
   "source": [
    "import riptable as rt\n",
    "import numpy as np"
   ]
  },
  {
   "cell_type": "code",
   "execution_count": 73,
   "id": "0b6f6680-26c8-4d25-a5e6-fcab7604e6a4",
   "metadata": {},
   "outputs": [],
   "source": [
    "# Display all Dataset columns -- the default max is 9.\n",
    "rt.Display.options.COL_ALL = True\n",
    "\n",
    "# Render up to 100MM before showing in scientific notation.\n",
    "rt.Display.options.E_MAX = 100_000_000\n",
    "\n",
    "# Truncate small decimals, rather than showing infinitesimal scientific notation.\n",
    "rt.Display.options.P_THRESHOLD = 0\n",
    "\n",
    "# Put commas in numbers.\n",
    "rt.Display.options.NUMBER_SEPARATOR = True\n",
    "\n",
    "# Turn on Riptable autocomplete (start typing, then press Tab to see options).\n",
    "rt.autocomplete()"
   ]
  },
  {
   "cell_type": "markdown",
   "id": "d3c1f3e7",
   "metadata": {},
   "source": [
    "Riptable Categoricals have two related uses:\n",
    "\n",
    "- They efficiently store string (or other large dtype) arrays that have repeated values. The repeated values are partitioned into groups. For example, in a Categorical that contains three 'AAPL' symbols and four 'MSFT' symbols, the data is partitioned into an 'AAPL' group and a 'MSFT' group. Each group is mapped to an integer ('AAPL' = 1, 'MSFT' = 2). This integer mapping allows the data to be stored and operated on more efficiently.\n",
    "- They're Riptable's class for doing group operations. A method applied to a Categorical is applied to each group separately.\n",
    "\n",
    "We'll talk about group operations first, then look at how Categoricals store data under the hood.\n",
    "\n",
    "Let's create a Dataset with repeated stock symbols and some random values."
   ]
  },
  {
   "cell_type": "code",
   "execution_count": 74,
   "id": "e5419b77",
   "metadata": {},
   "outputs": [
    {
     "data": {
      "text/html": [
       "<html><head><style>table.tbl-6237 tbody td{white-space: nowrap;}table.tbl-6237 .lc{font-weight:bold;background-color: var( --jp-rendermime-table-row-hover-background);}table.tbl-6237 .lg{background-color: #66da9940;}table.tbl-6237 .lp{font-weight:bold;background-color: #ac66da40;}table.tbl-6237 .msc{font-weight:normal;background-color:#00000011;}table.tbl-6237 .al{text-align:left;}table.tbl-6237 .ar{text-align:right;}table.tbl-6237 .ac{text-align:center;}table.tbl-6237 .bld{font-weight:bold;}table.tbl-6237 .it{font-style:italic;}table.tbl-6237 .ul{text-decoration:underline;}table.tbl-6237 .st{text-decoration:line-through;}</style></head><body><table class='tbl-6237'><thead><tr><td class='lc bld ar'>  #</td><td class='lc bld al'>Symbol</td><td class='lc bld ar'>Value</td></tr></thead><tbody><tr><td class='lc  ar '>0</td><td class='  al '>AAPL</td><td class='  ar '>19.46</td></tr><tr><td class='lc  ar '>1</td><td class='  al '>SPY</td><td class='  ar '>46.67</td></tr><tr><td class='lc  ar '>2</td><td class='  al '>SPY</td><td class='  ar '>4.38</td></tr><tr><td class='lc  ar '>3</td><td class='  al '>TSLA</td><td class='  ar '>15.43</td></tr><tr><td class='lc  ar '>4</td><td class='  al '>TSLA</td><td class='  ar '>68.30</td></tr><tr><td class='lc  ar '>5</td><td class='  al '>GME</td><td class='  ar '>74.48</td></tr><tr><td class='lc  ar '>6</td><td class='  al '>AAPL</td><td class='  ar '>96.75</td></tr><tr><td class='lc  ar '>7</td><td class='  al '>SPY</td><td class='  ar '>32.58</td></tr><tr><td class='lc  ar '>8</td><td class='  al '>AMZN</td><td class='  ar '>37.05</td></tr><tr><td class='lc  ar '>9</td><td class='  al '>AAPL</td><td class='  ar '>46.96</td></tr><tr><td class='lc  ar '>10</td><td class='  al '>TSLA</td><td class='  ar '>18.95</td></tr><tr><td class='lc  ar '>11</td><td class='  al '>GME</td><td class='  ar '>12.99</td></tr><tr><td class='lc  ar '>12</td><td class='  al '>SPY</td><td class='  ar '>47.57</td></tr><tr><td class='lc  ar '>13</td><td class='  al '>SPY</td><td class='  ar '>22.69</td></tr><tr><td class='lc  ar '>14</td><td class='  al '>SPY</td><td class='  ar '>66.98</td></tr><tr><td class='lc  ar '>...</td><td class='  al '>...</td><td class='  ar '>...</td></tr><tr><td class='lc  ar '>35</td><td class='  al '>AAPL</td><td class='  ar '>66.84</td></tr><tr><td class='lc  ar '>36</td><td class='  al '>GME</td><td class='  ar '>47.11</td></tr><tr><td class='lc  ar '>37</td><td class='  al '>GME</td><td class='  ar '>56.52</td></tr><tr><td class='lc  ar '>38</td><td class='  al '>AMZN</td><td class='  ar '>76.50</td></tr><tr><td class='lc  ar '>39</td><td class='  al '>SPY</td><td class='  ar '>63.47</td></tr><tr><td class='lc  ar '>40</td><td class='  al '>AAPL</td><td class='  ar '>55.36</td></tr><tr><td class='lc  ar '>41</td><td class='  al '>SPY</td><td class='  ar '>55.92</td></tr><tr><td class='lc  ar '>42</td><td class='  al '>SPY</td><td class='  ar '>30.40</td></tr><tr><td class='lc  ar '>43</td><td class='  al '>AMZN</td><td class='  ar '>3.08</td></tr><tr><td class='lc  ar '>44</td><td class='  al '>AAPL</td><td class='  ar '>43.67</td></tr><tr><td class='lc  ar '>45</td><td class='  al '>GME</td><td class='  ar '>21.46</td></tr><tr><td class='lc  ar '>46</td><td class='  al '>TSLA</td><td class='  ar '>40.85</td></tr><tr><td class='lc  ar '>47</td><td class='  al '>GME</td><td class='  ar '>85.34</td></tr><tr><td class='lc  ar '>48</td><td class='  al '>SPY</td><td class='  ar '>23.39</td></tr><tr><td class='lc  ar '>49</td><td class='  al '>SPY</td><td class='  ar '>5.83</td></tr></tbody></table></body></html>\n",
       "\n",
       "[50 rows x 2 columns] total bytes: 600.0 B"
      ],
      "text/plain": []
     },
     "execution_count": 74,
     "metadata": {},
     "output_type": "execute_result"
    }
   ],
   "source": [
    "rng = np.random.default_rng(42)\n",
    "\n",
    "N = 50\n",
    "\n",
    "ds = rt.Dataset()\n",
    "ds.Symbol = rt.FA(rng.choice(['AAPL', 'AMZN', 'TSLA', 'SPY', 'GME'], N))\n",
    "ds.Value = rng.random(N) * 100\n",
    "ds"
   ]
  },
  {
   "cell_type": "markdown",
   "id": "4b9809f5",
   "metadata": {},
   "source": [
    "## Categoricals for Group Operations\n",
    "\n",
    "We know how to get the sum of the Value column."
   ]
  },
  {
   "cell_type": "code",
   "execution_count": 75,
   "id": "6b8f0578",
   "metadata": {},
   "outputs": [
    {
     "data": {
      "text/plain": [
       "2271.438342018526"
      ]
     },
     "execution_count": 75,
     "metadata": {},
     "output_type": "execute_result"
    }
   ],
   "source": [
    "ds.Value.sum()"
   ]
  },
  {
   "cell_type": "markdown",
   "id": "f7707b77",
   "metadata": {},
   "source": [
    "But what if we want the sum for each symbol? \n",
    "\n",
    "We could filter for each symbol and perform the operation on each subset. Something like:"
   ]
  },
  {
   "cell_type": "code",
   "execution_count": 76,
   "id": "1515cd6b",
   "metadata": {},
   "outputs": [
    {
     "data": {
      "text/plain": [
       "484.77384051282024"
      ]
     },
     "execution_count": 76,
     "metadata": {},
     "output_type": "execute_result"
    }
   ],
   "source": [
    "aapl = (ds.Symbol == 'AAPL')\n",
    "\n",
    "ds.Value[aapl].nansum()"
   ]
  },
  {
   "cell_type": "markdown",
   "id": "e5f0787d",
   "metadata": {},
   "source": [
    "... and so on. \n",
    "\n",
    "Or we can turn the Symbol column into a Categorical. The Categorical groups the repeated symbols, and allows us to compute the sum for each symbol group all at once."
   ]
  },
  {
   "cell_type": "code",
   "execution_count": 77,
   "id": "4b2c1b68",
   "metadata": {},
   "outputs": [
    {
     "data": {
      "text/html": [
       "<html><head><style>table.tbl-5335 tbody td{white-space: nowrap;}table.tbl-5335 .lc{font-weight:bold;background-color: var( --jp-rendermime-table-row-hover-background);}table.tbl-5335 .lg{background-color: #66da9940;}table.tbl-5335 .lp{font-weight:bold;background-color: #ac66da40;}table.tbl-5335 .msc{font-weight:normal;background-color:#00000011;}table.tbl-5335 .al{text-align:left;}table.tbl-5335 .ar{text-align:right;}table.tbl-5335 .ac{text-align:center;}table.tbl-5335 .bld{font-weight:bold;}table.tbl-5335 .it{font-style:italic;}table.tbl-5335 .ul{text-decoration:underline;}table.tbl-5335 .st{text-decoration:line-through;}</style></head><body><table class='tbl-5335'><thead><tr><td class='lc bld ar'>  #</td><td class='lc bld al'>Symbol</td><td class='lc bld ar'>Value</td></tr></thead><tbody><tr><td class='lc  ar '>0</td><td class='  al '>AAPL</td><td class='  ar '>19.46</td></tr><tr><td class='lc  ar '>1</td><td class='  al '>SPY</td><td class='  ar '>46.67</td></tr><tr><td class='lc  ar '>2</td><td class='  al '>SPY</td><td class='  ar '>4.38</td></tr><tr><td class='lc  ar '>3</td><td class='  al '>TSLA</td><td class='  ar '>15.43</td></tr><tr><td class='lc  ar '>4</td><td class='  al '>TSLA</td><td class='  ar '>68.30</td></tr><tr><td class='lc  ar '>5</td><td class='  al '>GME</td><td class='  ar '>74.48</td></tr><tr><td class='lc  ar '>6</td><td class='  al '>AAPL</td><td class='  ar '>96.75</td></tr><tr><td class='lc  ar '>7</td><td class='  al '>SPY</td><td class='  ar '>32.58</td></tr><tr><td class='lc  ar '>8</td><td class='  al '>AMZN</td><td class='  ar '>37.05</td></tr><tr><td class='lc  ar '>9</td><td class='  al '>AAPL</td><td class='  ar '>46.96</td></tr><tr><td class='lc  ar '>10</td><td class='  al '>TSLA</td><td class='  ar '>18.95</td></tr><tr><td class='lc  ar '>11</td><td class='  al '>GME</td><td class='  ar '>12.99</td></tr><tr><td class='lc  ar '>12</td><td class='  al '>SPY</td><td class='  ar '>47.57</td></tr><tr><td class='lc  ar '>13</td><td class='  al '>SPY</td><td class='  ar '>22.69</td></tr><tr><td class='lc  ar '>14</td><td class='  al '>SPY</td><td class='  ar '>66.98</td></tr><tr><td class='lc  ar '>...</td><td class='  al '>...</td><td class='  ar '>...</td></tr><tr><td class='lc  ar '>35</td><td class='  al '>AAPL</td><td class='  ar '>66.84</td></tr><tr><td class='lc  ar '>36</td><td class='  al '>GME</td><td class='  ar '>47.11</td></tr><tr><td class='lc  ar '>37</td><td class='  al '>GME</td><td class='  ar '>56.52</td></tr><tr><td class='lc  ar '>38</td><td class='  al '>AMZN</td><td class='  ar '>76.50</td></tr><tr><td class='lc  ar '>39</td><td class='  al '>SPY</td><td class='  ar '>63.47</td></tr><tr><td class='lc  ar '>40</td><td class='  al '>AAPL</td><td class='  ar '>55.36</td></tr><tr><td class='lc  ar '>41</td><td class='  al '>SPY</td><td class='  ar '>55.92</td></tr><tr><td class='lc  ar '>42</td><td class='  al '>SPY</td><td class='  ar '>30.40</td></tr><tr><td class='lc  ar '>43</td><td class='  al '>AMZN</td><td class='  ar '>3.08</td></tr><tr><td class='lc  ar '>44</td><td class='  al '>AAPL</td><td class='  ar '>43.67</td></tr><tr><td class='lc  ar '>45</td><td class='  al '>GME</td><td class='  ar '>21.46</td></tr><tr><td class='lc  ar '>46</td><td class='  al '>TSLA</td><td class='  ar '>40.85</td></tr><tr><td class='lc  ar '>47</td><td class='  al '>GME</td><td class='  ar '>85.34</td></tr><tr><td class='lc  ar '>48</td><td class='  al '>SPY</td><td class='  ar '>23.39</td></tr><tr><td class='lc  ar '>49</td><td class='  al '>SPY</td><td class='  ar '>5.83</td></tr></tbody></table></body></html>\n",
       "\n",
       "[50 rows x 2 columns] total bytes: 470.0 B"
      ],
      "text/plain": []
     },
     "execution_count": 77,
     "metadata": {},
     "output_type": "execute_result"
    }
   ],
   "source": [
    "ds.Symbol = rt.Categorical(ds.Symbol)  # Note: rt.Cat() also works\n",
    "\n",
    "ds"
   ]
  },
  {
   "cell_type": "markdown",
   "id": "50c77c34",
   "metadata": {},
   "source": [
    "It doesn't look any different (yet), but getting the sum per symbol becomes a one-and-done operation."
   ]
  },
  {
   "cell_type": "code",
   "execution_count": 78,
   "id": "c665f320",
   "metadata": {},
   "outputs": [
    {
     "data": {
      "text/html": [
       "<html><head><style>table.tbl-9082 tbody td{white-space: nowrap;}table.tbl-9082 .lc{font-weight:bold;background-color: var( --jp-rendermime-table-row-hover-background);}table.tbl-9082 .lg{background-color: #66da9940;}table.tbl-9082 .lp{font-weight:bold;background-color: #ac66da40;}table.tbl-9082 .msc{font-weight:normal;background-color:#00000011;}table.tbl-9082 .al{text-align:left;}table.tbl-9082 .ar{text-align:right;}table.tbl-9082 .ac{text-align:center;}table.tbl-9082 .bld{font-weight:bold;}table.tbl-9082 .it{font-style:italic;}table.tbl-9082 .ul{text-decoration:underline;}table.tbl-9082 .st{text-decoration:line-through;}</style></head><body><table class='tbl-9082'><thead><tr><td class='lg bld al'>*Symbol</td><td class='lc bld ar'> Value</td></tr></thead><tbody><tr><td class='lg  al '>AAPL</td><td class='  ar '>484.77</td></tr><tr><td class='lg  al '>AMZN</td><td class='  ar '>201.27</td></tr><tr><td class='lg  al '>GME</td><td class='  ar '>487.53</td></tr><tr><td class='lg  al '>SPY</td><td class='  ar '>477.57</td></tr><tr><td class='lg  al '>TSLA</td><td class='  ar '>620.29</td></tr></tbody></table></body></html>\n",
       "\n",
       "[5 rows x 2 columns] total bytes: 60.0 B"
      ],
      "text/plain": []
     },
     "execution_count": 78,
     "metadata": {},
     "output_type": "execute_result"
    }
   ],
   "source": [
    "ds.Symbol.sum(ds.Value)"
   ]
  },
  {
   "cell_type": "markdown",
   "id": "d2130d9a-edea-4b94-9ebe-9414f75b8342",
   "metadata": {},
   "source": [
    "When you call a method (usually a reducing operation) on a Categorical, the method is applied separately to each group. \n",
    "\n",
    "Hadley Wickham, known for his work on Rstats, described the operation (also known as a \"group by\" operation) as *split, apply, combine*.\n",
    "\n",
    "The illustration below shows how the groups are split based on the \"key\" (or, in Riptable's case, the Categorical group). The sum method is then applied to each group separately, and the results are combined into an output array. \n",
    "\n",
    "![Split-Apply_Combine graphic](split-apply-combine-gray.svg \"The split-apply-combine operation\")\n",
    "\n",
    "For Riptable Categoricals, each group's result is displayed aligned to the group label."
   ]
  },
  {
   "cell_type": "markdown",
   "id": "018e3e3d-47fa-4840-b344-af695ca843d3",
   "metadata": {},
   "source": [
    "Categoricals support most common reducing functions, including the following. \n",
    "    \n",
    "| **Reducing Function** | **Description**                     |\n",
    "|-----------------------|-------------------------------------|\n",
    "| `count()`             | Total number of items               |\n",
    "| `first()`, `last()`   | First item, last item               |\n",
    "| `mean()`, `median()`  | Mean, median                        |\n",
    "| `min()`, `max()`      | Minimum, maximum                    |\n",
    "| `std()`, `var()`      | Standard deviation, variance        |\n",
    "| `prod()`              | Product of all items                |\n",
    "| `sum()`               | Sum of all items                    |\n",
    "\n",
    "\n",
    "Here's the [complete list of Categorical reducing functions](tutorial_cat_reduce.rst)."
   ]
  },
  {
   "cell_type": "markdown",
   "id": "d5fc4c44-610d-4c58-a823-b9599fc32984",
   "metadata": {},
   "source": [
    "You can apply a function to multiple columns by passing a list of column names."
   ]
  },
  {
   "cell_type": "code",
   "execution_count": 79,
   "id": "5a487b41",
   "metadata": {},
   "outputs": [
    {
     "data": {
      "text/html": [
       "<html><head><style>table.tbl-852 tbody td{white-space: nowrap;}table.tbl-852 .lc{font-weight:bold;background-color: var( --jp-rendermime-table-row-hover-background);}table.tbl-852 .lg{background-color: #66da9940;}table.tbl-852 .lp{font-weight:bold;background-color: #ac66da40;}table.tbl-852 .msc{font-weight:normal;background-color:#00000011;}table.tbl-852 .al{text-align:left;}table.tbl-852 .ar{text-align:right;}table.tbl-852 .ac{text-align:center;}table.tbl-852 .bld{font-weight:bold;}table.tbl-852 .it{font-style:italic;}table.tbl-852 .ul{text-decoration:underline;}table.tbl-852 .st{text-decoration:line-through;}</style></head><body><table class='tbl-852'><thead><tr><td class='lg bld al'>*Symbol</td><td class='lc bld ar'>Value</td><td class='lc bld ar'>Value2</td></tr></thead><tbody><tr><td class='lg  al '>AAPL</td><td class='  ar '>96.75</td><td class='  ar '>193.50</td></tr><tr><td class='lg  al '>AMZN</td><td class='  ar '>76.50</td><td class='  ar '>153.00</td></tr><tr><td class='lg  al '>GME</td><td class='  ar '>85.34</td><td class='  ar '>170.68</td></tr><tr><td class='lg  al '>SPY</td><td class='  ar '>66.98</td><td class='  ar '>133.96</td></tr><tr><td class='lg  al '>TSLA</td><td class='  ar '>83.27</td><td class='  ar '>166.54</td></tr></tbody></table></body></html>\n",
       "\n",
       "[5 rows x 3 columns] total bytes: 100.0 B"
      ],
      "text/plain": []
     },
     "execution_count": 79,
     "metadata": {},
     "output_type": "execute_result"
    }
   ],
   "source": [
    "ds.Value2 = ds.Value * 2\n",
    "\n",
    "ds.Symbol.max([ds.Value, ds.Value2])"
   ]
  },
  {
   "cell_type": "markdown",
   "id": "6c24c468",
   "metadata": {},
   "source": [
    "Or to a whole Dataset. Any column for which the function fails -- for example, a numerical function on a string column -- is not returned."
   ]
  },
  {
   "cell_type": "code",
   "execution_count": 80,
   "id": "12b15a58",
   "metadata": {},
   "outputs": [
    {
     "data": {
      "text/html": [
       "<html><head><style>table.tbl-6006 tbody td{white-space: nowrap;}table.tbl-6006 .lc{font-weight:bold;background-color: var( --jp-rendermime-table-row-hover-background);}table.tbl-6006 .lg{background-color: #66da9940;}table.tbl-6006 .lp{font-weight:bold;background-color: #ac66da40;}table.tbl-6006 .msc{font-weight:normal;background-color:#00000011;}table.tbl-6006 .al{text-align:left;}table.tbl-6006 .ar{text-align:right;}table.tbl-6006 .ac{text-align:center;}table.tbl-6006 .bld{font-weight:bold;}table.tbl-6006 .it{font-style:italic;}table.tbl-6006 .ul{text-decoration:underline;}table.tbl-6006 .st{text-decoration:line-through;}</style></head><body><table class='tbl-6006'><thead><tr><td class='lg bld al'>*Symbol</td><td class='lc bld ar'>Value</td><td class='lc bld ar'>Value2</td></tr></thead><tbody><tr><td class='lg  al '>AAPL</td><td class='  ar '>96.75</td><td class='  ar '>193.50</td></tr><tr><td class='lg  al '>AMZN</td><td class='  ar '>76.50</td><td class='  ar '>153.00</td></tr><tr><td class='lg  al '>GME</td><td class='  ar '>85.34</td><td class='  ar '>170.68</td></tr><tr><td class='lg  al '>SPY</td><td class='  ar '>66.98</td><td class='  ar '>133.96</td></tr><tr><td class='lg  al '>TSLA</td><td class='  ar '>83.27</td><td class='  ar '>166.54</td></tr></tbody></table></body></html>\n",
       "\n",
       "[5 rows x 3 columns] total bytes: 100.0 B"
      ],
      "text/plain": []
     },
     "execution_count": 80,
     "metadata": {},
     "output_type": "execute_result"
    }
   ],
   "source": [
    "# Add a string column\n",
    "ds.OptionType = rng.choice(['P', 'C'], N)\n",
    "\n",
    "ds.Symbol.max(ds)"
   ]
  },
  {
   "cell_type": "markdown",
   "id": "4bfc7046",
   "metadata": {},
   "source": [
    "What about non-reducing operations? Categoricals support them, but the results are a little different. \n",
    "\n",
    "For example, take `cumsum()`, which is a running total.\n",
    "\n",
    "When it's applied to a Categorical, the function does get applied to each group separately. But because it's a non-reducing function, it returns one value per row of the original data."
   ]
  },
  {
   "cell_type": "code",
   "execution_count": 81,
   "id": "2752be80",
   "metadata": {},
   "outputs": [
    {
     "data": {
      "text/html": [
       "<html><head><style>table.tbl-7522 tbody td{white-space: nowrap;}table.tbl-7522 .lc{font-weight:bold;background-color: var( --jp-rendermime-table-row-hover-background);}table.tbl-7522 .lg{background-color: #66da9940;}table.tbl-7522 .lp{font-weight:bold;background-color: #ac66da40;}table.tbl-7522 .msc{font-weight:normal;background-color:#00000011;}table.tbl-7522 .al{text-align:left;}table.tbl-7522 .ar{text-align:right;}table.tbl-7522 .ac{text-align:center;}table.tbl-7522 .bld{font-weight:bold;}table.tbl-7522 .it{font-style:italic;}table.tbl-7522 .ul{text-decoration:underline;}table.tbl-7522 .st{text-decoration:line-through;}</style></head><body><table class='tbl-7522'><thead><tr><td class='lc bld ar'>  #</td><td class='lc bld ar'> Value</td></tr></thead><tbody><tr><td class='lc  ar '>0</td><td class='  ar '>19.46</td></tr><tr><td class='lc  ar '>1</td><td class='  ar '>46.67</td></tr><tr><td class='lc  ar '>2</td><td class='  ar '>51.05</td></tr><tr><td class='lc  ar '>3</td><td class='  ar '>15.43</td></tr><tr><td class='lc  ar '>4</td><td class='  ar '>83.73</td></tr><tr><td class='lc  ar '>5</td><td class='  ar '>74.48</td></tr><tr><td class='lc  ar '>6</td><td class='  ar '>116.21</td></tr><tr><td class='lc  ar '>7</td><td class='  ar '>83.64</td></tr><tr><td class='lc  ar '>8</td><td class='  ar '>37.05</td></tr><tr><td class='lc  ar '>9</td><td class='  ar '>163.17</td></tr><tr><td class='lc  ar '>10</td><td class='  ar '>102.68</td></tr><tr><td class='lc  ar '>11</td><td class='  ar '>87.47</td></tr><tr><td class='lc  ar '>12</td><td class='  ar '>131.21</td></tr><tr><td class='lc  ar '>13</td><td class='  ar '>153.90</td></tr><tr><td class='lc  ar '>14</td><td class='  ar '>220.88</td></tr><tr><td class='lc  ar '>...</td><td class='  ar '>...</td></tr><tr><td class='lc  ar '>35</td><td class='  ar '>385.74</td></tr><tr><td class='lc  ar '>36</td><td class='  ar '>324.21</td></tr><tr><td class='lc  ar '>37</td><td class='  ar '>380.73</td></tr><tr><td class='lc  ar '>38</td><td class='  ar '>198.19</td></tr><tr><td class='lc  ar '>39</td><td class='  ar '>362.03</td></tr><tr><td class='lc  ar '>40</td><td class='  ar '>441.10</td></tr><tr><td class='lc  ar '>41</td><td class='  ar '>417.95</td></tr><tr><td class='lc  ar '>42</td><td class='  ar '>448.35</td></tr><tr><td class='lc  ar '>43</td><td class='  ar '>201.27</td></tr><tr><td class='lc  ar '>44</td><td class='  ar '>484.77</td></tr><tr><td class='lc  ar '>45</td><td class='  ar '>402.19</td></tr><tr><td class='lc  ar '>46</td><td class='  ar '>620.29</td></tr><tr><td class='lc  ar '>47</td><td class='  ar '>487.53</td></tr><tr><td class='lc  ar '>48</td><td class='  ar '>471.74</td></tr><tr><td class='lc  ar '>49</td><td class='  ar '>477.57</td></tr></tbody></table></body></html>\n",
       "\n",
       "[50 rows x 1 columns] total bytes: 400.0 B"
      ],
      "text/plain": []
     },
     "execution_count": 81,
     "metadata": {},
     "output_type": "execute_result"
    }
   ],
   "source": [
    "ds.Symbol.cumsum(ds.Value)"
   ]
  },
  {
   "cell_type": "markdown",
   "id": "871a1af1",
   "metadata": {},
   "source": [
    "The result is a Dataset with a column of results that's aligned to the original data. If you like, you can add the results to the Dataset."
   ]
  },
  {
   "cell_type": "code",
   "execution_count": 82,
   "id": "c5691db5",
   "metadata": {},
   "outputs": [
    {
     "data": {
      "text/html": [
       "<html><head><style>table.tbl-3240 tbody td{white-space: nowrap;}table.tbl-3240 .lc{font-weight:bold;background-color: var( --jp-rendermime-table-row-hover-background);}table.tbl-3240 .lg{background-color: #66da9940;}table.tbl-3240 .lp{font-weight:bold;background-color: #ac66da40;}table.tbl-3240 .msc{font-weight:normal;background-color:#00000011;}table.tbl-3240 .al{text-align:left;}table.tbl-3240 .ar{text-align:right;}table.tbl-3240 .ac{text-align:center;}table.tbl-3240 .bld{font-weight:bold;}table.tbl-3240 .it{font-style:italic;}table.tbl-3240 .ul{text-decoration:underline;}table.tbl-3240 .st{text-decoration:line-through;}</style></head><body><table class='tbl-3240'><thead><tr><td class='lc bld ar'>  #</td><td class='lc bld al'>Symbol</td><td class='lc bld ar'>Value</td><td class='lc bld ar'>CumValue</td></tr></thead><tbody><tr><td class='lc  ar '>0</td><td class='  al '>AAPL</td><td class='  ar '>19.46</td><td class='  ar '>19.46</td></tr><tr><td class='lc  ar '>1</td><td class='  al '>AAPL</td><td class='  ar '>96.75</td><td class='  ar '>116.21</td></tr><tr><td class='lc  ar '>2</td><td class='  al '>AAPL</td><td class='  ar '>46.96</td><td class='  ar '>163.17</td></tr><tr><td class='lc  ar '>3</td><td class='  al '>AAPL</td><td class='  ar '>70.03</td><td class='  ar '>233.20</td></tr><tr><td class='lc  ar '>4</td><td class='  al '>AAPL</td><td class='  ar '>28.83</td><td class='  ar '>262.03</td></tr><tr><td class='lc  ar '>5</td><td class='  al '>AAPL</td><td class='  ar '>56.87</td><td class='  ar '>318.90</td></tr><tr><td class='lc  ar '>6</td><td class='  al '>AAPL</td><td class='  ar '>66.84</td><td class='  ar '>385.74</td></tr><tr><td class='lc  ar '>7</td><td class='  al '>AAPL</td><td class='  ar '>55.36</td><td class='  ar '>441.10</td></tr><tr><td class='lc  ar '>8</td><td class='  al '>AAPL</td><td class='  ar '>43.67</td><td class='  ar '>484.77</td></tr><tr><td class='lc  ar '>9</td><td class='  al '>AMZN</td><td class='  ar '>37.05</td><td class='  ar '>37.05</td></tr><tr><td class='lc  ar '>10</td><td class='  al '>AMZN</td><td class='  ar '>38.75</td><td class='  ar '>75.79</td></tr><tr><td class='lc  ar '>11</td><td class='  al '>AMZN</td><td class='  ar '>45.89</td><td class='  ar '>121.69</td></tr><tr><td class='lc  ar '>12</td><td class='  al '>AMZN</td><td class='  ar '>76.50</td><td class='  ar '>198.19</td></tr><tr><td class='lc  ar '>13</td><td class='  al '>AMZN</td><td class='  ar '>3.08</td><td class='  ar '>201.27</td></tr><tr><td class='lc  ar '>14</td><td class='  al '>GME</td><td class='  ar '>74.48</td><td class='  ar '>74.48</td></tr><tr><td class='lc  ar '>...</td><td class='  al '>...</td><td class='  ar '>...</td><td class='  ar '>...</td></tr><tr><td class='lc  ar '>35</td><td class='  al '>SPY</td><td class='  ar '>30.40</td><td class='  ar '>448.35</td></tr><tr><td class='lc  ar '>36</td><td class='  al '>SPY</td><td class='  ar '>23.39</td><td class='  ar '>471.74</td></tr><tr><td class='lc  ar '>37</td><td class='  al '>SPY</td><td class='  ar '>5.83</td><td class='  ar '>477.57</td></tr><tr><td class='lc  ar '>38</td><td class='  al '>TSLA</td><td class='  ar '>15.43</td><td class='  ar '>15.43</td></tr><tr><td class='lc  ar '>39</td><td class='  al '>TSLA</td><td class='  ar '>68.30</td><td class='  ar '>83.73</td></tr><tr><td class='lc  ar '>40</td><td class='  al '>TSLA</td><td class='  ar '>18.95</td><td class='  ar '>102.68</td></tr><tr><td class='lc  ar '>41</td><td class='  al '>TSLA</td><td class='  ar '>83.27</td><td class='  ar '>185.95</td></tr><tr><td class='lc  ar '>42</td><td class='  al '>TSLA</td><td class='  ar '>83.23</td><td class='  ar '>269.17</td></tr><tr><td class='lc  ar '>43</td><td class='  al '>TSLA</td><td class='  ar '>80.48</td><td class='  ar '>349.65</td></tr><tr><td class='lc  ar '>44</td><td class='  al '>TSLA</td><td class='  ar '>0.74</td><td class='  ar '>350.39</td></tr><tr><td class='lc  ar '>45</td><td class='  al '>TSLA</td><td class='  ar '>66.49</td><td class='  ar '>416.87</td></tr><tr><td class='lc  ar '>46</td><td class='  al '>TSLA</td><td class='  ar '>70.52</td><td class='  ar '>487.39</td></tr><tr><td class='lc  ar '>47</td><td class='  al '>TSLA</td><td class='  ar '>78.07</td><td class='  ar '>565.46</td></tr><tr><td class='lc  ar '>48</td><td class='  al '>TSLA</td><td class='  ar '>13.98</td><td class='  ar '>579.44</td></tr><tr><td class='lc  ar '>49</td><td class='  al '>TSLA</td><td class='  ar '>40.85</td><td class='  ar '>620.29</td></tr></tbody></table></body></html>\n",
       "\n",
       "[50 rows x 3 columns] total bytes: 870.0 B"
      ],
      "text/plain": []
     },
     "execution_count": 82,
     "metadata": {},
     "output_type": "execute_result"
    }
   ],
   "source": [
    "ds.CumValue = ds.Symbol.cumsum(ds.Value)\n",
    "\n",
    "# Sort to make the cumulative sum more clear, then display only the relevant columns.\n",
    "ds.sort_copy(['Symbol', 'CumValue']).col_filter(['Symbol', 'Value', 'CumValue'])"
   ]
  },
  {
   "cell_type": "markdown",
   "id": "1aa29610",
   "metadata": {},
   "source": [
    "A commonly used non-reducing function is `shift()`. You can use it to compare values with shifted versions of themselves -- for example, today's price compared to yesterday's price, the volume compared to the volume an hour ago, etc.\n",
    "\n",
    "Where a category has no previous value to shift forward, the missing value is filled with `nan`."
   ]
  },
  {
   "cell_type": "code",
   "execution_count": 83,
   "id": "462e963e",
   "metadata": {},
   "outputs": [
    {
     "data": {
      "text/html": [
       "<html><head><style>table.tbl-4821 tbody td{white-space: nowrap;}table.tbl-4821 .lc{font-weight:bold;background-color: var( --jp-rendermime-table-row-hover-background);}table.tbl-4821 .lg{background-color: #66da9940;}table.tbl-4821 .lp{font-weight:bold;background-color: #ac66da40;}table.tbl-4821 .msc{font-weight:normal;background-color:#00000011;}table.tbl-4821 .al{text-align:left;}table.tbl-4821 .ar{text-align:right;}table.tbl-4821 .ac{text-align:center;}table.tbl-4821 .bld{font-weight:bold;}table.tbl-4821 .it{font-style:italic;}table.tbl-4821 .ul{text-decoration:underline;}table.tbl-4821 .st{text-decoration:line-through;}</style></head><body><table class='tbl-4821'><thead><tr><td class='lc bld ar'>  #</td><td class='lc bld al'>Symbol</td><td class='lc bld ar'>Value</td><td class='lc bld ar'>PrevValue</td></tr></thead><tbody><tr><td class='lc  ar '>0</td><td class='  al '>AAPL</td><td class='  ar '>19.46</td><td class='  ar '>nan</td></tr><tr><td class='lc  ar '>1</td><td class='  al '>SPY</td><td class='  ar '>46.67</td><td class='  ar '>nan</td></tr><tr><td class='lc  ar '>2</td><td class='  al '>SPY</td><td class='  ar '>4.38</td><td class='  ar '>46.67</td></tr><tr><td class='lc  ar '>3</td><td class='  al '>TSLA</td><td class='  ar '>15.43</td><td class='  ar '>nan</td></tr><tr><td class='lc  ar '>4</td><td class='  al '>TSLA</td><td class='  ar '>68.30</td><td class='  ar '>15.43</td></tr><tr><td class='lc  ar '>5</td><td class='  al '>GME</td><td class='  ar '>74.48</td><td class='  ar '>nan</td></tr><tr><td class='lc  ar '>6</td><td class='  al '>AAPL</td><td class='  ar '>96.75</td><td class='  ar '>19.46</td></tr><tr><td class='lc  ar '>7</td><td class='  al '>SPY</td><td class='  ar '>32.58</td><td class='  ar '>4.38</td></tr><tr><td class='lc  ar '>8</td><td class='  al '>AMZN</td><td class='  ar '>37.05</td><td class='  ar '>nan</td></tr><tr><td class='lc  ar '>9</td><td class='  al '>AAPL</td><td class='  ar '>46.96</td><td class='  ar '>96.75</td></tr><tr><td class='lc  ar '>10</td><td class='  al '>TSLA</td><td class='  ar '>18.95</td><td class='  ar '>68.30</td></tr><tr><td class='lc  ar '>11</td><td class='  al '>GME</td><td class='  ar '>12.99</td><td class='  ar '>74.48</td></tr><tr><td class='lc  ar '>12</td><td class='  al '>SPY</td><td class='  ar '>47.57</td><td class='  ar '>32.58</td></tr><tr><td class='lc  ar '>13</td><td class='  al '>SPY</td><td class='  ar '>22.69</td><td class='  ar '>47.57</td></tr><tr><td class='lc  ar '>14</td><td class='  al '>SPY</td><td class='  ar '>66.98</td><td class='  ar '>22.69</td></tr><tr><td class='lc  ar '>...</td><td class='  al '>...</td><td class='  ar '>...</td><td class='  ar '>...</td></tr><tr><td class='lc  ar '>35</td><td class='  al '>AAPL</td><td class='  ar '>66.84</td><td class='  ar '>56.87</td></tr><tr><td class='lc  ar '>36</td><td class='  al '>GME</td><td class='  ar '>47.11</td><td class='  ar '>11.45</td></tr><tr><td class='lc  ar '>37</td><td class='  al '>GME</td><td class='  ar '>56.52</td><td class='  ar '>47.11</td></tr><tr><td class='lc  ar '>38</td><td class='  al '>AMZN</td><td class='  ar '>76.50</td><td class='  ar '>45.89</td></tr><tr><td class='lc  ar '>39</td><td class='  al '>SPY</td><td class='  ar '>63.47</td><td class='  ar '>19.99</td></tr><tr><td class='lc  ar '>40</td><td class='  al '>AAPL</td><td class='  ar '>55.36</td><td class='  ar '>66.84</td></tr><tr><td class='lc  ar '>41</td><td class='  al '>SPY</td><td class='  ar '>55.92</td><td class='  ar '>63.47</td></tr><tr><td class='lc  ar '>42</td><td class='  al '>SPY</td><td class='  ar '>30.40</td><td class='  ar '>55.92</td></tr><tr><td class='lc  ar '>43</td><td class='  al '>AMZN</td><td class='  ar '>3.08</td><td class='  ar '>76.50</td></tr><tr><td class='lc  ar '>44</td><td class='  al '>AAPL</td><td class='  ar '>43.67</td><td class='  ar '>55.36</td></tr><tr><td class='lc  ar '>45</td><td class='  al '>GME</td><td class='  ar '>21.46</td><td class='  ar '>56.52</td></tr><tr><td class='lc  ar '>46</td><td class='  al '>TSLA</td><td class='  ar '>40.85</td><td class='  ar '>13.98</td></tr><tr><td class='lc  ar '>47</td><td class='  al '>GME</td><td class='  ar '>85.34</td><td class='  ar '>21.46</td></tr><tr><td class='lc  ar '>48</td><td class='  al '>SPY</td><td class='  ar '>23.39</td><td class='  ar '>30.40</td></tr><tr><td class='lc  ar '>49</td><td class='  al '>SPY</td><td class='  ar '>5.83</td><td class='  ar '>23.39</td></tr></tbody></table></body></html>\n",
       "\n",
       "[50 rows x 3 columns] total bytes: 870.0 B"
      ],
      "text/plain": []
     },
     "execution_count": 83,
     "metadata": {},
     "output_type": "execute_result"
    }
   ],
   "source": [
    "ds.PrevValue = ds.Symbol.shift(ds.Value)\n",
    "\n",
    "ds.col_filter(['Symbol', 'Value', 'PrevValue'])"
   ]
  },
  {
   "cell_type": "markdown",
   "id": "1002f616",
   "metadata": {},
   "source": [
    "Other non-reducing fuctions include `rolling_sum()`, `rolling_mean()` and their nan-versions `rolling_nansum()` and `rolling_nanmean()`, and `cumsum()` and `cumprod()`. \n",
    "\n",
    "Other functions not listed here can also be applied to Categoricals, including lambda functions and other user-defined functions, with the help of `apply()` functions. We'll see how those work below.\n",
    "\n",
    "Notice that if we try to add the result of a *reducing* operation to a Dataset, Riptable complains that the result isn't the right length."
   ]
  },
  {
   "cell_type": "code",
   "execution_count": 84,
   "id": "de78273d",
   "metadata": {},
   "outputs": [
    {
     "name": "stdout",
     "output_type": "stream",
     "text": [
      "TypeError: ('Row mismatch in Dataset._check_addtype.  Tried to add Dataset of different lengths', 50, 5)\n"
     ]
    }
   ],
   "source": [
    "try:\n",
    "    ds.Mean = ds.Symbol.mean(ds.Value)\n",
    "except TypeError as e:\n",
    "    print(\"TypeError:\", e)"
   ]
  },
  {
   "cell_type": "markdown",
   "id": "cd697707",
   "metadata": {},
   "source": [
    "You can expand the result of a reducing function so that it's aligned with the original data by passing `transform=True` to the function."
   ]
  },
  {
   "cell_type": "code",
   "execution_count": 85,
   "id": "12666c94",
   "metadata": {},
   "outputs": [
    {
     "data": {
      "text/html": [
       "<html><head><style>table.tbl-2735 tbody td{white-space: nowrap;}table.tbl-2735 .lc{font-weight:bold;background-color: var( --jp-rendermime-table-row-hover-background);}table.tbl-2735 .lg{background-color: #66da9940;}table.tbl-2735 .lp{font-weight:bold;background-color: #ac66da40;}table.tbl-2735 .msc{font-weight:normal;background-color:#00000011;}table.tbl-2735 .al{text-align:left;}table.tbl-2735 .ar{text-align:right;}table.tbl-2735 .ac{text-align:center;}table.tbl-2735 .bld{font-weight:bold;}table.tbl-2735 .it{font-style:italic;}table.tbl-2735 .ul{text-decoration:underline;}table.tbl-2735 .st{text-decoration:line-through;}</style></head><body><table class='tbl-2735'><thead><tr><td class='lc bld ar'>  #</td><td class='lc bld al'>Symbol</td><td class='lc bld ar'>Value</td><td class='lc bld ar'>MaxValue</td></tr></thead><tbody><tr><td class='lc  ar '>0</td><td class='  al '>AAPL</td><td class='  ar '>19.46</td><td class='  ar '>96.75</td></tr><tr><td class='lc  ar '>1</td><td class='  al '>AAPL</td><td class='  ar '>28.83</td><td class='  ar '>96.75</td></tr><tr><td class='lc  ar '>2</td><td class='  al '>AAPL</td><td class='  ar '>43.67</td><td class='  ar '>96.75</td></tr><tr><td class='lc  ar '>3</td><td class='  al '>AAPL</td><td class='  ar '>46.96</td><td class='  ar '>96.75</td></tr><tr><td class='lc  ar '>4</td><td class='  al '>AAPL</td><td class='  ar '>55.36</td><td class='  ar '>96.75</td></tr><tr><td class='lc  ar '>5</td><td class='  al '>AAPL</td><td class='  ar '>56.87</td><td class='  ar '>96.75</td></tr><tr><td class='lc  ar '>6</td><td class='  al '>AAPL</td><td class='  ar '>66.84</td><td class='  ar '>96.75</td></tr><tr><td class='lc  ar '>7</td><td class='  al '>AAPL</td><td class='  ar '>70.03</td><td class='  ar '>96.75</td></tr><tr><td class='lc  ar '>8</td><td class='  al '>AAPL</td><td class='  ar '>96.75</td><td class='  ar '>96.75</td></tr><tr><td class='lc  ar '>9</td><td class='  al '>AMZN</td><td class='  ar '>3.08</td><td class='  ar '>76.50</td></tr><tr><td class='lc  ar '>10</td><td class='  al '>AMZN</td><td class='  ar '>37.05</td><td class='  ar '>76.50</td></tr><tr><td class='lc  ar '>11</td><td class='  al '>AMZN</td><td class='  ar '>38.75</td><td class='  ar '>76.50</td></tr><tr><td class='lc  ar '>12</td><td class='  al '>AMZN</td><td class='  ar '>45.89</td><td class='  ar '>76.50</td></tr><tr><td class='lc  ar '>13</td><td class='  al '>AMZN</td><td class='  ar '>76.50</td><td class='  ar '>76.50</td></tr><tr><td class='lc  ar '>14</td><td class='  al '>GME</td><td class='  ar '>11.45</td><td class='  ar '>85.34</td></tr><tr><td class='lc  ar '>...</td><td class='  al '>...</td><td class='  ar '>...</td><td class='  ar '>...</td></tr><tr><td class='lc  ar '>35</td><td class='  al '>SPY</td><td class='  ar '>55.92</td><td class='  ar '>66.98</td></tr><tr><td class='lc  ar '>36</td><td class='  al '>SPY</td><td class='  ar '>63.47</td><td class='  ar '>66.98</td></tr><tr><td class='lc  ar '>37</td><td class='  al '>SPY</td><td class='  ar '>66.98</td><td class='  ar '>66.98</td></tr><tr><td class='lc  ar '>38</td><td class='  al '>TSLA</td><td class='  ar '>0.74</td><td class='  ar '>83.27</td></tr><tr><td class='lc  ar '>39</td><td class='  al '>TSLA</td><td class='  ar '>13.98</td><td class='  ar '>83.27</td></tr><tr><td class='lc  ar '>40</td><td class='  al '>TSLA</td><td class='  ar '>15.43</td><td class='  ar '>83.27</td></tr><tr><td class='lc  ar '>41</td><td class='  al '>TSLA</td><td class='  ar '>18.95</td><td class='  ar '>83.27</td></tr><tr><td class='lc  ar '>42</td><td class='  al '>TSLA</td><td class='  ar '>40.85</td><td class='  ar '>83.27</td></tr><tr><td class='lc  ar '>43</td><td class='  al '>TSLA</td><td class='  ar '>66.49</td><td class='  ar '>83.27</td></tr><tr><td class='lc  ar '>44</td><td class='  al '>TSLA</td><td class='  ar '>68.30</td><td class='  ar '>83.27</td></tr><tr><td class='lc  ar '>45</td><td class='  al '>TSLA</td><td class='  ar '>70.52</td><td class='  ar '>83.27</td></tr><tr><td class='lc  ar '>46</td><td class='  al '>TSLA</td><td class='  ar '>78.07</td><td class='  ar '>83.27</td></tr><tr><td class='lc  ar '>47</td><td class='  al '>TSLA</td><td class='  ar '>80.48</td><td class='  ar '>83.27</td></tr><tr><td class='lc  ar '>48</td><td class='  al '>TSLA</td><td class='  ar '>83.23</td><td class='  ar '>83.27</td></tr><tr><td class='lc  ar '>49</td><td class='  al '>TSLA</td><td class='  ar '>83.27</td><td class='  ar '>83.27</td></tr></tbody></table></body></html>\n",
       "\n",
       "[50 rows x 3 columns] total bytes: 870.0 B"
      ],
      "text/plain": []
     },
     "execution_count": 85,
     "metadata": {},
     "output_type": "execute_result"
    }
   ],
   "source": [
    "ds.MaxValue = ds.Symbol.max(ds.Value, transform=True)\n",
    "\n",
    "ds.sort_copy(['Symbol', 'Value']).col_filter(['Symbol', 'Value', 'MaxValue'])"
   ]
  },
  {
   "cell_type": "markdown",
   "id": "cf4fc116",
   "metadata": {},
   "source": [
    "The max value per symbol is repeated for every instance of the symbol.\n",
    "\n",
    "Note the syntax for adding two columns of results to the Dataset."
   ]
  },
  {
   "cell_type": "code",
   "execution_count": 86,
   "id": "b376e439",
   "metadata": {},
   "outputs": [
    {
     "data": {
      "text/html": [
       "<html><head><style>table.tbl-5931 tbody td{white-space: nowrap;}table.tbl-5931 .lc{font-weight:bold;background-color: var( --jp-rendermime-table-row-hover-background);}table.tbl-5931 .lg{background-color: #66da9940;}table.tbl-5931 .lp{font-weight:bold;background-color: #ac66da40;}table.tbl-5931 .msc{font-weight:normal;background-color:#00000011;}table.tbl-5931 .al{text-align:left;}table.tbl-5931 .ar{text-align:right;}table.tbl-5931 .ac{text-align:center;}table.tbl-5931 .bld{font-weight:bold;}table.tbl-5931 .it{font-style:italic;}table.tbl-5931 .ul{text-decoration:underline;}table.tbl-5931 .st{text-decoration:line-through;}</style></head><body><table class='tbl-5931'><thead><tr><td class='lc bld ar'> #</td><td class='lc bld al'>Symbol</td><td class='lc bld ar'>Value</td><td class='lc bld ar'>MeanValue</td><td class='lc bld ar'>MaxValue</td><td class='lc bld ar'>MeanMaxValue</td></tr></thead><tbody><tr><td class='lc  ar '>0</td><td class='  al '>AAPL</td><td class='  ar '>19.46</td><td class='  ar '>53.86</td><td class='  ar '>96.75</td><td class='  ar '>96.75</td></tr><tr><td class='lc  ar '>1</td><td class='  al '>AAPL</td><td class='  ar '>96.75</td><td class='  ar '>53.86</td><td class='  ar '>96.75</td><td class='  ar '>96.75</td></tr><tr><td class='lc  ar '>2</td><td class='  al '>AAPL</td><td class='  ar '>46.96</td><td class='  ar '>53.86</td><td class='  ar '>96.75</td><td class='  ar '>96.75</td></tr><tr><td class='lc  ar '>3</td><td class='  al '>AAPL</td><td class='  ar '>70.03</td><td class='  ar '>53.86</td><td class='  ar '>96.75</td><td class='  ar '>96.75</td></tr><tr><td class='lc  ar '>4</td><td class='  al '>AAPL</td><td class='  ar '>28.83</td><td class='  ar '>53.86</td><td class='  ar '>96.75</td><td class='  ar '>96.75</td></tr><tr><td class='lc  ar '>5</td><td class='  al '>AAPL</td><td class='  ar '>56.87</td><td class='  ar '>53.86</td><td class='  ar '>96.75</td><td class='  ar '>96.75</td></tr><tr><td class='lc  ar '>6</td><td class='  al '>AAPL</td><td class='  ar '>66.84</td><td class='  ar '>53.86</td><td class='  ar '>96.75</td><td class='  ar '>96.75</td></tr><tr><td class='lc  ar '>7</td><td class='  al '>AAPL</td><td class='  ar '>55.36</td><td class='  ar '>53.86</td><td class='  ar '>96.75</td><td class='  ar '>96.75</td></tr><tr><td class='lc  ar '>8</td><td class='  al '>AAPL</td><td class='  ar '>43.67</td><td class='  ar '>53.86</td><td class='  ar '>96.75</td><td class='  ar '>96.75</td></tr><tr><td class='lc  ar '>9</td><td class='  al '>AMZN</td><td class='  ar '>37.05</td><td class='  ar '>40.25</td><td class='  ar '>76.50</td><td class='  ar '>76.50</td></tr><tr><td class='lc  ar '>10</td><td class='  al '>AMZN</td><td class='  ar '>38.75</td><td class='  ar '>40.25</td><td class='  ar '>76.50</td><td class='  ar '>76.50</td></tr><tr><td class='lc  ar '>11</td><td class='  al '>AMZN</td><td class='  ar '>45.89</td><td class='  ar '>40.25</td><td class='  ar '>76.50</td><td class='  ar '>76.50</td></tr><tr><td class='lc  ar '>12</td><td class='  al '>AMZN</td><td class='  ar '>76.50</td><td class='  ar '>40.25</td><td class='  ar '>76.50</td><td class='  ar '>76.50</td></tr><tr><td class='lc  ar '>13</td><td class='  al '>AMZN</td><td class='  ar '>3.08</td><td class='  ar '>40.25</td><td class='  ar '>76.50</td><td class='  ar '>76.50</td></tr><tr><td class='lc  ar '>14</td><td class='  al '>GME</td><td class='  ar '>74.48</td><td class='  ar '>48.75</td><td class='  ar '>85.34</td><td class='  ar '>85.34</td></tr><tr><td class='lc  ar '>15</td><td class='  al '>GME</td><td class='  ar '>12.99</td><td class='  ar '>48.75</td><td class='  ar '>85.34</td><td class='  ar '>85.34</td></tr><tr><td class='lc  ar '>16</td><td class='  al '>GME</td><td class='  ar '>31.24</td><td class='  ar '>48.75</td><td class='  ar '>85.34</td><td class='  ar '>85.34</td></tr><tr><td class='lc  ar '>17</td><td class='  al '>GME</td><td class='  ar '>68.25</td><td class='  ar '>48.75</td><td class='  ar '>85.34</td><td class='  ar '>85.34</td></tr><tr><td class='lc  ar '>18</td><td class='  al '>GME</td><td class='  ar '>78.69</td><td class='  ar '>48.75</td><td class='  ar '>85.34</td><td class='  ar '>85.34</td></tr><tr><td class='lc  ar '>19</td><td class='  al '>GME</td><td class='  ar '>11.45</td><td class='  ar '>48.75</td><td class='  ar '>85.34</td><td class='  ar '>85.34</td></tr><tr><td class='lc  ar '>20</td><td class='  al '>GME</td><td class='  ar '>47.11</td><td class='  ar '>48.75</td><td class='  ar '>85.34</td><td class='  ar '>85.34</td></tr><tr><td class='lc  ar '>21</td><td class='  al '>GME</td><td class='  ar '>56.52</td><td class='  ar '>48.75</td><td class='  ar '>85.34</td><td class='  ar '>85.34</td></tr><tr><td class='lc  ar '>22</td><td class='  al '>GME</td><td class='  ar '>21.46</td><td class='  ar '>48.75</td><td class='  ar '>85.34</td><td class='  ar '>85.34</td></tr><tr><td class='lc  ar '>23</td><td class='  al '>GME</td><td class='  ar '>85.34</td><td class='  ar '>48.75</td><td class='  ar '>85.34</td><td class='  ar '>85.34</td></tr><tr><td class='lc  ar '>24</td><td class='  al '>SPY</td><td class='  ar '>46.67</td><td class='  ar '>34.11</td><td class='  ar '>66.98</td><td class='  ar '>66.98</td></tr></tbody></table></body></html>\n",
       "\n",
       "[25 rows x 5 columns] total bytes: 845.0 B"
      ],
      "text/plain": []
     },
     "execution_count": 86,
     "metadata": {},
     "output_type": "execute_result"
    }
   ],
   "source": [
    "ds[['MeanValue', 'MeanMaxValue']] = ds.Symbol.mean([ds.Value, ds.MaxValue],\n",
    "                                                   transform=True)[['Value', 'MaxValue']]\n",
    "\n",
    "ds.col_filter(['Symbol', 'Value', 'MeanValue', 'MaxValue', \n",
    "               'MeanMaxValue']).sort_copy('Symbol').head(25)"
   ]
  },
  {
   "cell_type": "markdown",
   "id": "2695279c-ba88-45fb-8542-f14adfb7a1ed",
   "metadata": {},
   "source": [
    "## Categoricals for Storing Strings"
   ]
  },
  {
   "cell_type": "markdown",
   "id": "c36a706a",
   "metadata": {},
   "source": [
    "To get a better sense of how Categoricals store data, let's look at one under the hood."
   ]
  },
  {
   "cell_type": "code",
   "execution_count": 87,
   "id": "f0ef49fe",
   "metadata": {},
   "outputs": [
    {
     "data": {
      "text/plain": [
       "Categorical([AAPL, SPY, SPY, TSLA, TSLA, ..., GME, TSLA, GME, SPY, SPY]) Length: 50\n",
       "  FastArray([1, 4, 4, 5, 5, ..., 3, 5, 3, 4, 4], dtype=int8) Base Index: 1\n",
       "  FastArray([b'AAPL', b'AMZN', b'GME', b'SPY', b'TSLA'], dtype='|S4') Unique count: 5"
      ]
     },
     "execution_count": 87,
     "metadata": {},
     "output_type": "execute_result"
    }
   ],
   "source": [
    "ds.Symbol"
   ]
  },
  {
   "cell_type": "markdown",
   "id": "e673c226-ebb1-43ba-b0ad-ae59346e6efd",
   "metadata": {},
   "source": [
    "The first line shows the 50 symbols (elided with '...'). We can access the entire array with `as_string_array`."
   ]
  },
  {
   "cell_type": "code",
   "execution_count": 88,
   "id": "5fb3fe19-a0d6-4131-baad-9390257a3e05",
   "metadata": {},
   "outputs": [
    {
     "data": {
      "text/plain": [
       "FastArray([b'AAPL', b'SPY', b'SPY', b'TSLA', b'TSLA', b'GME', b'AAPL',\n",
       "           b'SPY', b'AMZN', b'AAPL', b'TSLA', b'GME', b'SPY', b'SPY',\n",
       "           b'SPY', b'SPY', b'TSLA', b'AAPL', b'GME', b'TSLA', b'TSLA',\n",
       "           b'AMZN', b'AAPL', b'GME', b'SPY', b'SPY', b'TSLA', b'GME',\n",
       "           b'TSLA', b'TSLA', b'TSLA', b'AMZN', b'AAPL', b'TSLA', b'GME',\n",
       "           b'AAPL', b'GME', b'GME', b'AMZN', b'SPY', b'AAPL', b'SPY',\n",
       "           b'SPY', b'AMZN', b'AAPL', b'GME', b'TSLA', b'GME', b'SPY',\n",
       "           b'SPY'], dtype='|S8')"
      ]
     },
     "execution_count": 88,
     "metadata": {},
     "output_type": "execute_result"
    }
   ],
   "source": [
    "ds.Symbol.as_string_array"
   ]
  },
  {
   "cell_type": "markdown",
   "id": "c89b39ed-0b52-4326-9709-5ee36dc518ea",
   "metadata": {},
   "source": [
    "The second line is a FastArray of integers. We can access the full FastArray with `_fa`."
   ]
  },
  {
   "cell_type": "code",
   "execution_count": 89,
   "id": "c2dde10f-092d-4fa3-abd1-6ec3d5f775ce",
   "metadata": {},
   "outputs": [
    {
     "data": {
      "text/plain": [
       "FastArray([1, 4, 4, 5, 5, 3, 1, 4, 2, 1, 5, 3, 4, 4, 4, 4, 5, 1, 3, 5, 5,\n",
       "           2, 1, 3, 4, 4, 5, 3, 5, 5, 5, 2, 1, 5, 3, 1, 3, 3, 2, 4, 1, 4,\n",
       "           4, 2, 1, 3, 5, 3, 4, 4], dtype=int8)"
      ]
     },
     "execution_count": 89,
     "metadata": {},
     "output_type": "execute_result"
    }
   ],
   "source": [
    "ds.Symbol._fa"
   ]
  },
  {
   "cell_type": "markdown",
   "id": "8fe11463-5e54-48ab-8728-ea8b96a0fa5a",
   "metadata": {},
   "source": [
    "In a Categorical, each unique category is mapped to an integer. \n",
    "\n",
    "The list of unique categories is shown in the third line. It's the same thing we get if we do:"
   ]
  },
  {
   "cell_type": "code",
   "execution_count": 90,
   "id": "6b808496",
   "metadata": {},
   "outputs": [
    {
     "data": {
      "text/plain": [
       "FastArray([b'AAPL', b'AMZN', b'GME', b'SPY', b'TSLA'], dtype='|S4')"
      ]
     },
     "execution_count": 90,
     "metadata": {},
     "output_type": "execute_result"
    }
   ],
   "source": [
    "ds.Symbol.unique()"
   ]
  },
  {
   "cell_type": "markdown",
   "id": "4d31bacc-c61c-4475-8ef4-69f077c8f8bc",
   "metadata": {},
   "source": [
    "We can also access the list of unique categories with `category_array`."
   ]
  },
  {
   "cell_type": "code",
   "execution_count": 91,
   "id": "d9827985-02ab-4274-8e47-c259bfa7ec6f",
   "metadata": {},
   "outputs": [
    {
     "data": {
      "text/plain": [
       "FastArray([b'AAPL', b'AMZN', b'GME', b'SPY', b'TSLA'], dtype='|S4')"
      ]
     },
     "execution_count": 91,
     "metadata": {},
     "output_type": "execute_result"
    }
   ],
   "source": [
    "ds.Symbol.category_array"
   ]
  },
  {
   "cell_type": "markdown",
   "id": "fc9ac076-14db-460f-be74-57f40ef027b4",
   "metadata": {},
   "source": [
    "We can get a better picture of the mapping by putting the integer FastArray into the Dataset."
   ]
  },
  {
   "cell_type": "code",
   "execution_count": 92,
   "id": "a720cb78",
   "metadata": {},
   "outputs": [
    {
     "data": {
      "text/html": [
       "<html><head><style>table.tbl-3708 tbody td{white-space: nowrap;}table.tbl-3708 .lc{font-weight:bold;background-color: var( --jp-rendermime-table-row-hover-background);}table.tbl-3708 .lg{background-color: #66da9940;}table.tbl-3708 .lp{font-weight:bold;background-color: #ac66da40;}table.tbl-3708 .msc{font-weight:normal;background-color:#00000011;}table.tbl-3708 .al{text-align:left;}table.tbl-3708 .ar{text-align:right;}table.tbl-3708 .ac{text-align:center;}table.tbl-3708 .bld{font-weight:bold;}table.tbl-3708 .it{font-style:italic;}table.tbl-3708 .ul{text-decoration:underline;}table.tbl-3708 .st{text-decoration:line-through;}</style></head><body><table class='tbl-3708'><thead><tr><td class='lc bld ar'>  #</td><td class='lc bld al'>Symbol</td><td class='lc bld ar'>Mapping</td></tr></thead><tbody><tr><td class='lc  ar '>0</td><td class='  al '>AAPL</td><td class='  ar '>1</td></tr><tr><td class='lc  ar '>1</td><td class='  al '>SPY</td><td class='  ar '>4</td></tr><tr><td class='lc  ar '>2</td><td class='  al '>SPY</td><td class='  ar '>4</td></tr><tr><td class='lc  ar '>3</td><td class='  al '>TSLA</td><td class='  ar '>5</td></tr><tr><td class='lc  ar '>4</td><td class='  al '>TSLA</td><td class='  ar '>5</td></tr><tr><td class='lc  ar '>5</td><td class='  al '>GME</td><td class='  ar '>3</td></tr><tr><td class='lc  ar '>6</td><td class='  al '>AAPL</td><td class='  ar '>1</td></tr><tr><td class='lc  ar '>7</td><td class='  al '>SPY</td><td class='  ar '>4</td></tr><tr><td class='lc  ar '>8</td><td class='  al '>AMZN</td><td class='  ar '>2</td></tr><tr><td class='lc  ar '>9</td><td class='  al '>AAPL</td><td class='  ar '>1</td></tr><tr><td class='lc  ar '>10</td><td class='  al '>TSLA</td><td class='  ar '>5</td></tr><tr><td class='lc  ar '>11</td><td class='  al '>GME</td><td class='  ar '>3</td></tr><tr><td class='lc  ar '>12</td><td class='  al '>SPY</td><td class='  ar '>4</td></tr><tr><td class='lc  ar '>13</td><td class='  al '>SPY</td><td class='  ar '>4</td></tr><tr><td class='lc  ar '>14</td><td class='  al '>SPY</td><td class='  ar '>4</td></tr><tr><td class='lc  ar '>...</td><td class='  al '>...</td><td class='  ar '>...</td></tr><tr><td class='lc  ar '>35</td><td class='  al '>AAPL</td><td class='  ar '>1</td></tr><tr><td class='lc  ar '>36</td><td class='  al '>GME</td><td class='  ar '>3</td></tr><tr><td class='lc  ar '>37</td><td class='  al '>GME</td><td class='  ar '>3</td></tr><tr><td class='lc  ar '>38</td><td class='  al '>AMZN</td><td class='  ar '>2</td></tr><tr><td class='lc  ar '>39</td><td class='  al '>SPY</td><td class='  ar '>4</td></tr><tr><td class='lc  ar '>40</td><td class='  al '>AAPL</td><td class='  ar '>1</td></tr><tr><td class='lc  ar '>41</td><td class='  al '>SPY</td><td class='  ar '>4</td></tr><tr><td class='lc  ar '>42</td><td class='  al '>SPY</td><td class='  ar '>4</td></tr><tr><td class='lc  ar '>43</td><td class='  al '>AMZN</td><td class='  ar '>2</td></tr><tr><td class='lc  ar '>44</td><td class='  al '>AAPL</td><td class='  ar '>1</td></tr><tr><td class='lc  ar '>45</td><td class='  al '>GME</td><td class='  ar '>3</td></tr><tr><td class='lc  ar '>46</td><td class='  al '>TSLA</td><td class='  ar '>5</td></tr><tr><td class='lc  ar '>47</td><td class='  al '>GME</td><td class='  ar '>3</td></tr><tr><td class='lc  ar '>48</td><td class='  al '>SPY</td><td class='  ar '>4</td></tr><tr><td class='lc  ar '>49</td><td class='  al '>SPY</td><td class='  ar '>4</td></tr></tbody></table></body></html>\n",
       "\n",
       "[50 rows x 2 columns] total bytes: 120.0 B"
      ],
      "text/plain": []
     },
     "execution_count": 92,
     "metadata": {},
     "output_type": "execute_result"
    }
   ],
   "source": [
    "ds.Mapping = ds.Symbol._fa\n",
    "\n",
    "ds.col_filter(['Symbol', 'Mapping'])"
   ]
  },
  {
   "cell_type": "markdown",
   "id": "1964f6a4",
   "metadata": {},
   "source": [
    "It's easier to see now that 'AAPL' is mapped to 1, 'AMZN' is mapped to 2, 'GME' is mapped to 3, etc.\n",
    "\n",
    "Because it's much more efficient to pass around integers than it is to pass around strings, it's common for string data with repeated values to be stored using integer mapping.\n",
    "\n",
    "If you have data stored this way, you can create a Categorical using the integer array and the array of unique categories."
   ]
  },
  {
   "cell_type": "code",
   "execution_count": 93,
   "id": "c459f8e5",
   "metadata": {},
   "outputs": [
    {
     "data": {
      "text/plain": [
       "Categorical([a, c, b, b, a, c, c, a]) Length: 8\n",
       "  FastArray([1, 3, 2, 2, 1, 3, 3, 1]) Base Index: 1\n",
       "  FastArray([b'a', b'b', b'c'], dtype='|S1') Unique count: 3"
      ]
     },
     "execution_count": 93,
     "metadata": {},
     "output_type": "execute_result"
    }
   ],
   "source": [
    "c = rt.Categorical([1, 3, 2, 2, 1, 3, 3, 1], categories=['a','b','c'])\n",
    "\n",
    "c"
   ]
  },
  {
   "cell_type": "markdown",
   "id": "cdac0208-cf62-4222-a65b-aeef6319d40e",
   "metadata": {},
   "source": [
    "Notice that in this Categorical and the one we created above, the base index is 1, not 0. This brings us to an important note about Categoricals: By default, the base index is 1; 0 is reserved for the 'Filtered' category."
   ]
  },
  {
   "cell_type": "code",
   "execution_count": 94,
   "id": "609def48-56bc-4dc6-a9ad-91f21d95eacb",
   "metadata": {},
   "outputs": [
    {
     "data": {
      "text/plain": [
       "Categorical([Filtered, b, a, a, Filtered, b, b, Filtered]) Length: 8\n",
       "  FastArray([0, 2, 1, 1, 0, 2, 2, 0]) Base Index: 1\n",
       "  FastArray([b'a', b'b', b'c'], dtype='|S1') Unique count: 3"
      ]
     },
     "execution_count": 94,
     "metadata": {},
     "output_type": "execute_result"
    }
   ],
   "source": [
    "c1 = rt.Categorical([0, 2, 1, 1, 0, 2, 2, 0], categories=['a','b','c'])\n",
    "\n",
    "c1"
   ]
  },
  {
   "cell_type": "markdown",
   "id": "3ea3fccf-3492-4191-8181-5f8a189dde5d",
   "metadata": {},
   "source": [
    "The Filtered category is the result of filtering at the time of Categorical creation. One way to create a Categorical with a Filtered category is to simply map a category to a 0. In this case, the 'c' category is mapped to 0.\n",
    "\n",
    "When a category is Filtered, its rows are omitted from *all* calculations on the Categorical."
   ]
  },
  {
   "cell_type": "code",
   "execution_count": 95,
   "id": "46bed9f9-abf0-4284-a01b-9c7d1ca65d2f",
   "metadata": {},
   "outputs": [
    {
     "data": {
      "text/html": [
       "<html><head><style>table.tbl-2641 tbody td{white-space: nowrap;}table.tbl-2641 .lc{font-weight:bold;background-color: var( --jp-rendermime-table-row-hover-background);}table.tbl-2641 .lg{background-color: #66da9940;}table.tbl-2641 .lp{font-weight:bold;background-color: #ac66da40;}table.tbl-2641 .msc{font-weight:normal;background-color:#00000011;}table.tbl-2641 .al{text-align:left;}table.tbl-2641 .ar{text-align:right;}table.tbl-2641 .ac{text-align:center;}table.tbl-2641 .bld{font-weight:bold;}table.tbl-2641 .it{font-style:italic;}table.tbl-2641 .ul{text-decoration:underline;}table.tbl-2641 .st{text-decoration:line-through;}</style></head><body><table class='tbl-2641'><thead><tr><td class='lg bld al'>*key_0</td><td class='lc bld ar'>Count</td></tr></thead><tbody><tr><td class='lg  al '>a</td><td class='  ar '>2</td></tr><tr><td class='lg  al '>b</td><td class='  ar '>3</td></tr><tr><td class='lg  al '>c</td><td class='  ar '>0</td></tr></tbody></table></body></html>\n",
       "\n",
       "[3 rows x 2 columns] total bytes: 15.0 B"
      ],
      "text/plain": []
     },
     "execution_count": 95,
     "metadata": {},
     "output_type": "execute_result"
    }
   ],
   "source": [
    "c1.count()"
   ]
  },
  {
   "cell_type": "markdown",
   "id": "ac5bf9ef-1446-4be3-87f8-c1be0faf4b4b",
   "metadata": {},
   "source": [
    "Another way to create a Filtered category at the time of Categorical creation is to explicitly use a filter.\n",
    "\n",
    "To show this, we'll create a Dataset with symbols that are associated with various exchanges."
   ]
  },
  {
   "cell_type": "code",
   "execution_count": 96,
   "id": "1f05744e-a71d-4fea-8062-2f5dc1207831",
   "metadata": {},
   "outputs": [
    {
     "data": {
      "text/html": [
       "<html><head><style>table.tbl-4261 tbody td{white-space: nowrap;}table.tbl-4261 .lc{font-weight:bold;background-color: var( --jp-rendermime-table-row-hover-background);}table.tbl-4261 .lg{background-color: #66da9940;}table.tbl-4261 .lp{font-weight:bold;background-color: #ac66da40;}table.tbl-4261 .msc{font-weight:normal;background-color:#00000011;}table.tbl-4261 .al{text-align:left;}table.tbl-4261 .ar{text-align:right;}table.tbl-4261 .ac{text-align:center;}table.tbl-4261 .bld{font-weight:bold;}table.tbl-4261 .it{font-style:italic;}table.tbl-4261 .ul{text-decoration:underline;}table.tbl-4261 .st{text-decoration:line-through;}</style></head><body><table class='tbl-4261'><thead><tr><td class='lc bld ar'>  #</td><td class='lc bld al'>Symbol</td><td class='lc bld al'>Exchange</td></tr></thead><tbody><tr><td class='lc  ar '>0</td><td class='  al '>A</td><td class='  al '>X</td></tr><tr><td class='lc  ar '>1</td><td class='  al '>B</td><td class='  al '>Y</td></tr><tr><td class='lc  ar '>2</td><td class='  al '>A</td><td class='  al '>X</td></tr><tr><td class='lc  ar '>3</td><td class='  al '>B</td><td class='  al '>X</td></tr><tr><td class='lc  ar '>4</td><td class='  al '>A</td><td class='  al '>Y</td></tr><tr><td class='lc  ar '>5</td><td class='  al '>A</td><td class='  al '>X</td></tr><tr><td class='lc  ar '>6</td><td class='  al '>B</td><td class='  al '>Z</td></tr><tr><td class='lc  ar '>7</td><td class='  al '>B</td><td class='  al '>X</td></tr><tr><td class='lc  ar '>8</td><td class='  al '>A</td><td class='  al '>X</td></tr><tr><td class='lc  ar '>9</td><td class='  al '>B</td><td class='  al '>Y</td></tr><tr><td class='lc  ar '>10</td><td class='  al '>A</td><td class='  al '>Z</td></tr><tr><td class='lc  ar '>11</td><td class='  al '>B</td><td class='  al '>X</td></tr><tr><td class='lc  ar '>12</td><td class='  al '>B</td><td class='  al '>X</td></tr><tr><td class='lc  ar '>13</td><td class='  al '>A</td><td class='  al '>Z</td></tr><tr><td class='lc  ar '>14</td><td class='  al '>B</td><td class='  al '>Z</td></tr><tr><td class='lc  ar '>...</td><td class='  al '>...</td><td class='  al '>...</td></tr><tr><td class='lc  ar '>35</td><td class='  al '>B</td><td class='  al '>Z</td></tr><tr><td class='lc  ar '>36</td><td class='  al '>B</td><td class='  al '>X</td></tr><tr><td class='lc  ar '>37</td><td class='  al '>A</td><td class='  al '>Y</td></tr><tr><td class='lc  ar '>38</td><td class='  al '>A</td><td class='  al '>Y</td></tr><tr><td class='lc  ar '>39</td><td class='  al '>B</td><td class='  al '>Y</td></tr><tr><td class='lc  ar '>40</td><td class='  al '>A</td><td class='  al '>Z</td></tr><tr><td class='lc  ar '>41</td><td class='  al '>B</td><td class='  al '>X</td></tr><tr><td class='lc  ar '>42</td><td class='  al '>A</td><td class='  al '>Z</td></tr><tr><td class='lc  ar '>43</td><td class='  al '>B</td><td class='  al '>X</td></tr><tr><td class='lc  ar '>44</td><td class='  al '>B</td><td class='  al '>Y</td></tr><tr><td class='lc  ar '>45</td><td class='  al '>A</td><td class='  al '>Y</td></tr><tr><td class='lc  ar '>46</td><td class='  al '>B</td><td class='  al '>Z</td></tr><tr><td class='lc  ar '>47</td><td class='  al '>A</td><td class='  al '>Y</td></tr><tr><td class='lc  ar '>48</td><td class='  al '>B</td><td class='  al '>X</td></tr><tr><td class='lc  ar '>49</td><td class='  al '>A</td><td class='  al '>X</td></tr></tbody></table></body></html>\n",
       "\n",
       "[50 rows x 2 columns] total bytes: 100.0 B"
      ],
      "text/plain": []
     },
     "execution_count": 96,
     "metadata": {},
     "output_type": "execute_result"
    }
   ],
   "source": [
    "N = 50\n",
    "symbol_exchange = rt.Dataset()\n",
    "symbol_exchange.Symbol = rt.FA(rng.choice(['A', 'B'], N))\n",
    "symbol_exchange.Exchange = rt.FA(rng.choice(['X', 'Y', 'Z'], N))\n",
    "\n",
    "symbol_exchange"
   ]
  },
  {
   "cell_type": "markdown",
   "id": "a3813f5d-0708-4efc-84b4-2bd4312c0dbd",
   "metadata": {},
   "source": [
    "Now we'll create a Categorical that keeps only the symbols associated to the 'X' exchange."
   ]
  },
  {
   "cell_type": "code",
   "execution_count": 97,
   "id": "3cb1b9f2-a7e6-44d8-a9d2-73f31b03806d",
   "metadata": {},
   "outputs": [
    {
     "data": {
      "text/plain": [
       "Categorical([A, Filtered, A, B, Filtered, ..., Filtered, Filtered, Filtered, B, A]) Length: 50\n",
       "  FastArray([1, 0, 1, 2, 0, ..., 0, 0, 0, 2, 1], dtype=int8) Base Index: 1\n",
       "  FastArray([b'A', b'B'], dtype='|S1') Unique count: 2"
      ]
     },
     "execution_count": 97,
     "metadata": {},
     "output_type": "execute_result"
    }
   ],
   "source": [
    "exchangeXFilter = symbol_exchange.Exchange == 'X'\n",
    "\n",
    "### Group by symbol using only trades on exchange X\n",
    "exchangeFilteredSymbolCat = rt.Cat(symbol_exchange.Symbol, filter=exchangeXFilter)\n",
    "\n",
    "exchangeFilteredSymbolCat"
   ]
  },
  {
   "cell_type": "markdown",
   "id": "9cce9161-37ee-4f19-9472-5f9b1d0c83e9",
   "metadata": {},
   "source": [
    "Now, a group operation applied to the Categorical omits the filtered categories."
   ]
  },
  {
   "cell_type": "code",
   "execution_count": 98,
   "id": "6ee21c0e-6912-4721-95f7-73dc126cdcca",
   "metadata": {},
   "outputs": [
    {
     "data": {
      "text/html": [
       "<html><head><style>table.tbl-5942 tbody td{white-space: nowrap;}table.tbl-5942 .lc{font-weight:bold;background-color: var( --jp-rendermime-table-row-hover-background);}table.tbl-5942 .lg{background-color: #66da9940;}table.tbl-5942 .lp{font-weight:bold;background-color: #ac66da40;}table.tbl-5942 .msc{font-weight:normal;background-color:#00000011;}table.tbl-5942 .al{text-align:left;}table.tbl-5942 .ar{text-align:right;}table.tbl-5942 .ac{text-align:center;}table.tbl-5942 .bld{font-weight:bold;}table.tbl-5942 .it{font-style:italic;}table.tbl-5942 .ul{text-decoration:underline;}table.tbl-5942 .st{text-decoration:line-through;}</style></head><body><table class='tbl-5942'><thead><tr><td class='lg bld al'>*Symbol</td><td class='lc bld ar'>Count</td></tr></thead><tbody><tr><td class='lg  al '>A</td><td class='  ar '>9</td></tr><tr><td class='lg  al '>B</td><td class='  ar '>10</td></tr></tbody></table></body></html>\n",
       "\n",
       "[2 rows x 2 columns] total bytes: 10.0 B"
      ],
      "text/plain": []
     },
     "execution_count": 98,
     "metadata": {},
     "output_type": "execute_result"
    }
   ],
   "source": [
    "exchangeFilteredSymbolCat.count()"
   ]
  },
  {
   "cell_type": "markdown",
   "id": "cf8e34b0-9375-4397-a56e-5389a24db522",
   "metadata": {},
   "source": [
    "To check:"
   ]
  },
  {
   "cell_type": "code",
   "execution_count": 99,
   "id": "12059085-8511-4086-9993-6039e1a2f4cd",
   "metadata": {},
   "outputs": [
    {
     "name": "stdout",
     "output_type": "stream",
     "text": [
      "aX sum: 9, bX sum: 10\n"
     ]
    }
   ],
   "source": [
    "aX = (symbol_exchange.Symbol == 'A') & (symbol_exchange.Exchange == 'X')\n",
    "bX = (symbol_exchange.Symbol == 'B') & (symbol_exchange.Exchange == 'X')\n",
    "\n",
    "print('aX sum: %i, bX sum: %i' %(aX.sum(), bX.sum()))"
   ]
  },
  {
   "cell_type": "markdown",
   "id": "c4ed13e0-f108-4740-a2bd-c46b12d74a3c",
   "metadata": {},
   "source": [
    "It's also possible to filter a category for only a certain operation -- we cover that below in [Perform Per-Group Operations on a Subset of Data](#cat-subset)."
   ]
  },
  {
   "cell_type": "markdown",
   "id": "4670518b-caf4-4709-a545-8f9dc43f631e",
   "metadata": {},
   "source": [
    "### A Useful Way to Instantiate a Categorical"
   ]
  },
  {
   "cell_type": "markdown",
   "id": "dc95ae7f-b500-4e5e-ac35-eb80ba39a08a",
   "metadata": {},
   "source": [
    "It can sometimes be useful to instantiate a Categorical with only one category, then fill it in as needed.\n",
    "\n",
    "For example, let's say we have a Dataset with a column that has a lot of categories, and we want to create a new Categorical column that keeps two of those categories, properly aligned with the rest of the data in the Dataset, and lumps the other categories into a category called 'Other.'\n",
    "\n",
    "Our Dataset, with a column of many categories."
   ]
  },
  {
   "cell_type": "code",
   "execution_count": 100,
   "id": "96637e0b",
   "metadata": {},
   "outputs": [
    {
     "data": {
      "text/html": [
       "<html><head><style>table.tbl-505 tbody td{white-space: nowrap;}table.tbl-505 .lc{font-weight:bold;background-color: var( --jp-rendermime-table-row-hover-background);}table.tbl-505 .lg{background-color: #66da9940;}table.tbl-505 .lp{font-weight:bold;background-color: #ac66da40;}table.tbl-505 .msc{font-weight:normal;background-color:#00000011;}table.tbl-505 .al{text-align:left;}table.tbl-505 .ar{text-align:right;}table.tbl-505 .ac{text-align:center;}table.tbl-505 .bld{font-weight:bold;}table.tbl-505 .it{font-style:italic;}table.tbl-505 .ul{text-decoration:underline;}table.tbl-505 .st{text-decoration:line-through;}</style></head><body><table class='tbl-505'><thead><tr><td class='lc bld ar'>  #</td><td class='lc bld al'>big_cat</td></tr></thead><tbody><tr><td class='lc  ar '>0</td><td class='  al '>D</td></tr><tr><td class='lc  ar '>1</td><td class='  al '>I</td></tr><tr><td class='lc  ar '>2</td><td class='  al '>A</td></tr><tr><td class='lc  ar '>3</td><td class='  al '>I</td></tr><tr><td class='lc  ar '>4</td><td class='  al '>F</td></tr><tr><td class='lc  ar '>5</td><td class='  al '>B</td></tr><tr><td class='lc  ar '>6</td><td class='  al '>D</td></tr><tr><td class='lc  ar '>7</td><td class='  al '>F</td></tr><tr><td class='lc  ar '>8</td><td class='  al '>D</td></tr><tr><td class='lc  ar '>9</td><td class='  al '>B</td></tr><tr><td class='lc  ar '>10</td><td class='  al '>G</td></tr><tr><td class='lc  ar '>11</td><td class='  al '>G</td></tr><tr><td class='lc  ar '>12</td><td class='  al '>B</td></tr><tr><td class='lc  ar '>13</td><td class='  al '>C</td></tr><tr><td class='lc  ar '>14</td><td class='  al '>C</td></tr><tr><td class='lc  ar '>...</td><td class='  al '>...</td></tr><tr><td class='lc  ar '>35</td><td class='  al '>I</td></tr><tr><td class='lc  ar '>36</td><td class='  al '>J</td></tr><tr><td class='lc  ar '>37</td><td class='  al '>D</td></tr><tr><td class='lc  ar '>38</td><td class='  al '>C</td></tr><tr><td class='lc  ar '>39</td><td class='  al '>J</td></tr><tr><td class='lc  ar '>40</td><td class='  al '>G</td></tr><tr><td class='lc  ar '>41</td><td class='  al '>C</td></tr><tr><td class='lc  ar '>42</td><td class='  al '>G</td></tr><tr><td class='lc  ar '>43</td><td class='  al '>F</td></tr><tr><td class='lc  ar '>44</td><td class='  al '>J</td></tr><tr><td class='lc  ar '>45</td><td class='  al '>C</td></tr><tr><td class='lc  ar '>46</td><td class='  al '>J</td></tr><tr><td class='lc  ar '>47</td><td class='  al '>J</td></tr><tr><td class='lc  ar '>48</td><td class='  al '>B</td></tr><tr><td class='lc  ar '>49</td><td class='  al '>B</td></tr></tbody></table></body></html>\n",
       "\n",
       "[50 rows x 1 columns] total bytes: 50.0 B"
      ],
      "text/plain": []
     },
     "execution_count": 100,
     "metadata": {},
     "output_type": "execute_result"
    }
   ],
   "source": [
    "ds_buildcat = rt.Dataset({'big_cat': rng.choice(['A', 'B', 'C', 'D', 'E', 'F', 'G', 'H', 'I', 'J'], N)})\n",
    "\n",
    "ds_buildcat"
   ]
  },
  {
   "cell_type": "markdown",
   "id": "c3e45495",
   "metadata": {},
   "source": [
    "We create our 'small' Categorical instantiated with 3s, which fills the column with the 'Other' category:"
   ]
  },
  {
   "cell_type": "code",
   "execution_count": 101,
   "id": "80843e28",
   "metadata": {},
   "outputs": [
    {
     "data": {
      "text/html": [
       "<html><head><style>table.tbl-7984 tbody td{white-space: nowrap;}table.tbl-7984 .lc{font-weight:bold;background-color: var( --jp-rendermime-table-row-hover-background);}table.tbl-7984 .lg{background-color: #66da9940;}table.tbl-7984 .lp{font-weight:bold;background-color: #ac66da40;}table.tbl-7984 .msc{font-weight:normal;background-color:#00000011;}table.tbl-7984 .al{text-align:left;}table.tbl-7984 .ar{text-align:right;}table.tbl-7984 .ac{text-align:center;}table.tbl-7984 .bld{font-weight:bold;}table.tbl-7984 .it{font-style:italic;}table.tbl-7984 .ul{text-decoration:underline;}table.tbl-7984 .st{text-decoration:line-through;}</style></head><body><table class='tbl-7984'><thead><tr><td class='lc bld ar'>  #</td><td class='lc bld al'>big_cat</td><td class='lc bld al'>small_cat</td></tr></thead><tbody><tr><td class='lc  ar '>0</td><td class='  al '>D</td><td class='  al '>Other</td></tr><tr><td class='lc  ar '>1</td><td class='  al '>I</td><td class='  al '>Other</td></tr><tr><td class='lc  ar '>2</td><td class='  al '>A</td><td class='  al '>Other</td></tr><tr><td class='lc  ar '>3</td><td class='  al '>I</td><td class='  al '>Other</td></tr><tr><td class='lc  ar '>4</td><td class='  al '>F</td><td class='  al '>Other</td></tr><tr><td class='lc  ar '>5</td><td class='  al '>B</td><td class='  al '>Other</td></tr><tr><td class='lc  ar '>6</td><td class='  al '>D</td><td class='  al '>Other</td></tr><tr><td class='lc  ar '>7</td><td class='  al '>F</td><td class='  al '>Other</td></tr><tr><td class='lc  ar '>8</td><td class='  al '>D</td><td class='  al '>Other</td></tr><tr><td class='lc  ar '>9</td><td class='  al '>B</td><td class='  al '>Other</td></tr><tr><td class='lc  ar '>10</td><td class='  al '>G</td><td class='  al '>Other</td></tr><tr><td class='lc  ar '>11</td><td class='  al '>G</td><td class='  al '>Other</td></tr><tr><td class='lc  ar '>12</td><td class='  al '>B</td><td class='  al '>Other</td></tr><tr><td class='lc  ar '>13</td><td class='  al '>C</td><td class='  al '>Other</td></tr><tr><td class='lc  ar '>14</td><td class='  al '>C</td><td class='  al '>Other</td></tr><tr><td class='lc  ar '>...</td><td class='  al '>...</td><td class='  al '>...</td></tr><tr><td class='lc  ar '>35</td><td class='  al '>I</td><td class='  al '>Other</td></tr><tr><td class='lc  ar '>36</td><td class='  al '>J</td><td class='  al '>Other</td></tr><tr><td class='lc  ar '>37</td><td class='  al '>D</td><td class='  al '>Other</td></tr><tr><td class='lc  ar '>38</td><td class='  al '>C</td><td class='  al '>Other</td></tr><tr><td class='lc  ar '>39</td><td class='  al '>J</td><td class='  al '>Other</td></tr><tr><td class='lc  ar '>40</td><td class='  al '>G</td><td class='  al '>Other</td></tr><tr><td class='lc  ar '>41</td><td class='  al '>C</td><td class='  al '>Other</td></tr><tr><td class='lc  ar '>42</td><td class='  al '>G</td><td class='  al '>Other</td></tr><tr><td class='lc  ar '>43</td><td class='  al '>F</td><td class='  al '>Other</td></tr><tr><td class='lc  ar '>44</td><td class='  al '>J</td><td class='  al '>Other</td></tr><tr><td class='lc  ar '>45</td><td class='  al '>C</td><td class='  al '>Other</td></tr><tr><td class='lc  ar '>46</td><td class='  al '>J</td><td class='  al '>Other</td></tr><tr><td class='lc  ar '>47</td><td class='  al '>J</td><td class='  al '>Other</td></tr><tr><td class='lc  ar '>48</td><td class='  al '>B</td><td class='  al '>Other</td></tr><tr><td class='lc  ar '>49</td><td class='  al '>B</td><td class='  al '>Other</td></tr></tbody></table></body></html>\n",
       "\n",
       "[50 rows x 2 columns] total bytes: 265.0 B"
      ],
      "text/plain": []
     },
     "execution_count": 101,
     "metadata": {},
     "output_type": "execute_result"
    }
   ],
   "source": [
    "ds_buildcat.small_cat = rt.Cat(rt.full(ds_buildcat.shape[0], 3), categories=['B', 'D', 'Other']) \n",
    "ds_buildcat.small_cat\n",
    "\n",
    "ds_buildcat"
   ]
  },
  {
   "cell_type": "markdown",
   "id": "3f9b206e",
   "metadata": {},
   "source": [
    "Now we can fill in the aligned 'B' and 'D' categories."
   ]
  },
  {
   "cell_type": "code",
   "execution_count": 102,
   "id": "8df17faf",
   "metadata": {},
   "outputs": [
    {
     "data": {
      "text/html": [
       "<html><head><style>table.tbl-2030 tbody td{white-space: nowrap;}table.tbl-2030 .lc{font-weight:bold;background-color: var( --jp-rendermime-table-row-hover-background);}table.tbl-2030 .lg{background-color: #66da9940;}table.tbl-2030 .lp{font-weight:bold;background-color: #ac66da40;}table.tbl-2030 .msc{font-weight:normal;background-color:#00000011;}table.tbl-2030 .al{text-align:left;}table.tbl-2030 .ar{text-align:right;}table.tbl-2030 .ac{text-align:center;}table.tbl-2030 .bld{font-weight:bold;}table.tbl-2030 .it{font-style:italic;}table.tbl-2030 .ul{text-decoration:underline;}table.tbl-2030 .st{text-decoration:line-through;}</style></head><body><table class='tbl-2030'><thead><tr><td class='lc bld ar'>  #</td><td class='lc bld al'>big_cat</td><td class='lc bld al'>small_cat</td></tr></thead><tbody><tr><td class='lc  ar '>0</td><td class='  al '>D</td><td class='  al '>D</td></tr><tr><td class='lc  ar '>1</td><td class='  al '>I</td><td class='  al '>Other</td></tr><tr><td class='lc  ar '>2</td><td class='  al '>A</td><td class='  al '>Other</td></tr><tr><td class='lc  ar '>3</td><td class='  al '>I</td><td class='  al '>Other</td></tr><tr><td class='lc  ar '>4</td><td class='  al '>F</td><td class='  al '>Other</td></tr><tr><td class='lc  ar '>5</td><td class='  al '>B</td><td class='  al '>B</td></tr><tr><td class='lc  ar '>6</td><td class='  al '>D</td><td class='  al '>D</td></tr><tr><td class='lc  ar '>7</td><td class='  al '>F</td><td class='  al '>Other</td></tr><tr><td class='lc  ar '>8</td><td class='  al '>D</td><td class='  al '>D</td></tr><tr><td class='lc  ar '>9</td><td class='  al '>B</td><td class='  al '>B</td></tr><tr><td class='lc  ar '>10</td><td class='  al '>G</td><td class='  al '>Other</td></tr><tr><td class='lc  ar '>11</td><td class='  al '>G</td><td class='  al '>Other</td></tr><tr><td class='lc  ar '>12</td><td class='  al '>B</td><td class='  al '>B</td></tr><tr><td class='lc  ar '>13</td><td class='  al '>C</td><td class='  al '>Other</td></tr><tr><td class='lc  ar '>14</td><td class='  al '>C</td><td class='  al '>Other</td></tr><tr><td class='lc  ar '>...</td><td class='  al '>...</td><td class='  al '>...</td></tr><tr><td class='lc  ar '>35</td><td class='  al '>I</td><td class='  al '>Other</td></tr><tr><td class='lc  ar '>36</td><td class='  al '>J</td><td class='  al '>Other</td></tr><tr><td class='lc  ar '>37</td><td class='  al '>D</td><td class='  al '>D</td></tr><tr><td class='lc  ar '>38</td><td class='  al '>C</td><td class='  al '>Other</td></tr><tr><td class='lc  ar '>39</td><td class='  al '>J</td><td class='  al '>Other</td></tr><tr><td class='lc  ar '>40</td><td class='  al '>G</td><td class='  al '>Other</td></tr><tr><td class='lc  ar '>41</td><td class='  al '>C</td><td class='  al '>Other</td></tr><tr><td class='lc  ar '>42</td><td class='  al '>G</td><td class='  al '>Other</td></tr><tr><td class='lc  ar '>43</td><td class='  al '>F</td><td class='  al '>Other</td></tr><tr><td class='lc  ar '>44</td><td class='  al '>J</td><td class='  al '>Other</td></tr><tr><td class='lc  ar '>45</td><td class='  al '>C</td><td class='  al '>Other</td></tr><tr><td class='lc  ar '>46</td><td class='  al '>J</td><td class='  al '>Other</td></tr><tr><td class='lc  ar '>47</td><td class='  al '>J</td><td class='  al '>Other</td></tr><tr><td class='lc  ar '>48</td><td class='  al '>B</td><td class='  al '>B</td></tr><tr><td class='lc  ar '>49</td><td class='  al '>B</td><td class='  al '>B</td></tr></tbody></table></body></html>\n",
       "\n",
       "[50 rows x 2 columns] total bytes: 265.0 B"
      ],
      "text/plain": []
     },
     "execution_count": 102,
     "metadata": {},
     "output_type": "execute_result"
    }
   ],
   "source": [
    "ds_buildcat.small_cat[ds_buildcat.big_cat == 'B'] = 'B'\n",
    "ds_buildcat.small_cat[ds_buildcat.big_cat == 'D'] = 'D'\n",
    "\n",
    "ds_buildcat"
   ]
  },
  {
   "cell_type": "markdown",
   "id": "bf0d4efc-69bc-4bac-a9a9-92189a0df554",
   "metadata": {},
   "source": [
    "<a name=\"cat-subset\"></a>\n",
    "\n",
    "## Perform Per-Group Operations on a Subset of Data"
   ]
  },
  {
   "cell_type": "markdown",
   "id": "aab72247",
   "metadata": {},
   "source": [
    "As with columns/FastArrays, you can limit operations on Categoricals to only the records that satisfy a given condition.\n",
    "\n",
    "With Categoricals, you do this by passing a filter keyword argument to the function called on the Cateogical.\n",
    "\n",
    "For example, compute the average value per symbol for values greater than 30.0."
   ]
  },
  {
   "cell_type": "code",
   "execution_count": 103,
   "id": "0786c3c1",
   "metadata": {},
   "outputs": [
    {
     "data": {
      "text/html": [
       "<html><head><style>table.tbl-7147 tbody td{white-space: nowrap;}table.tbl-7147 .lc{font-weight:bold;background-color: var( --jp-rendermime-table-row-hover-background);}table.tbl-7147 .lg{background-color: #66da9940;}table.tbl-7147 .lp{font-weight:bold;background-color: #ac66da40;}table.tbl-7147 .msc{font-weight:normal;background-color:#00000011;}table.tbl-7147 .al{text-align:left;}table.tbl-7147 .ar{text-align:right;}table.tbl-7147 .ac{text-align:center;}table.tbl-7147 .bld{font-weight:bold;}table.tbl-7147 .it{font-style:italic;}table.tbl-7147 .ul{text-decoration:underline;}table.tbl-7147 .st{text-decoration:line-through;}</style></head><body><table class='tbl-7147'><thead><tr><td class='lg bld al'>*Symbol</td><td class='lc bld ar'>Value</td></tr></thead><tbody><tr><td class='lg  al '>AAPL</td><td class='  ar '>62.35</td></tr><tr><td class='lg  al '>AMZN</td><td class='  ar '>49.55</td></tr><tr><td class='lg  al '>GME</td><td class='  ar '>63.09</td></tr><tr><td class='lg  al '>SPY</td><td class='  ar '>48.41</td></tr><tr><td class='lg  al '>TSLA</td><td class='  ar '>71.40</td></tr></tbody></table></body></html>\n",
       "\n",
       "[5 rows x 2 columns] total bytes: 60.0 B"
      ],
      "text/plain": []
     },
     "execution_count": 103,
     "metadata": {},
     "output_type": "execute_result"
    }
   ],
   "source": [
    "ds.Symbol.mean(ds.Value, filter=ds.Value > 30.0)"
   ]
  },
  {
   "cell_type": "markdown",
   "id": "476b4b24",
   "metadata": {},
   "source": [
    "The data that doesn't meet the condition is omitted from the computation for only that operation.\n",
    "\n",
    "\n",
    "If you want to check your filter before applying a function to the filtered data, you can call `filter()` on the Categorical, much in the same way you do a Dataset."
   ]
  },
  {
   "cell_type": "code",
   "execution_count": 104,
   "id": "91348127",
   "metadata": {},
   "outputs": [
    {
     "data": {
      "text/plain": [
       "Categorical([Filtered, SPY, Filtered, Filtered, TSLA, ..., Filtered, TSLA, GME, Filtered, Filtered]) Length: 50\n",
       "  FastArray([0, 4, 0, 0, 5, ..., 0, 5, 3, 0, 0], dtype=int8) Base Index: 1\n",
       "  FastArray([b'AAPL', b'AMZN', b'GME', b'SPY', b'TSLA'], dtype='|S4') Unique count: 5"
      ]
     },
     "execution_count": 104,
     "metadata": {},
     "output_type": "execute_result"
    }
   ],
   "source": [
    "ds.Symbol.filter(ds.Value > 30.0)"
   ]
  },
  {
   "cell_type": "markdown",
   "id": "4313fc29-0858-4394-bd0b-f8fc1f7f59f8",
   "metadata": {},
   "source": [
    "To more closely spot-check, put the filtered categories in a Dataset."
   ]
  },
  {
   "cell_type": "code",
   "execution_count": 105,
   "id": "cc792e7f-1f18-46d7-bae4-4c131653c231",
   "metadata": {},
   "outputs": [
    {
     "data": {
      "text/html": [
       "<html><head><style>table.tbl-9804 tbody td{white-space: nowrap;}table.tbl-9804 .lc{font-weight:bold;background-color: var( --jp-rendermime-table-row-hover-background);}table.tbl-9804 .lg{background-color: #66da9940;}table.tbl-9804 .lp{font-weight:bold;background-color: #ac66da40;}table.tbl-9804 .msc{font-weight:normal;background-color:#00000011;}table.tbl-9804 .al{text-align:left;}table.tbl-9804 .ar{text-align:right;}table.tbl-9804 .ac{text-align:center;}table.tbl-9804 .bld{font-weight:bold;}table.tbl-9804 .it{font-style:italic;}table.tbl-9804 .ul{text-decoration:underline;}table.tbl-9804 .st{text-decoration:line-through;}</style></head><body><table class='tbl-9804'><thead><tr><td class='lc bld ar'>#</td><td class='lc bld al'>SymbolTest</td><td class='lc bld ar'>ValueTest</td></tr></thead><tbody><tr><td class='lc  ar '>0</td><td class='  al '>GME</td><td class='  ar '>74.48</td></tr><tr><td class='lc  ar '>1</td><td class='  al '>AAPL</td><td class='  ar '>96.75</td></tr><tr><td class='lc  ar '>2</td><td class='  al '>SPY</td><td class='  ar '>32.58</td></tr><tr><td class='lc  ar '>3</td><td class='  al '>SPY</td><td class='  ar '>66.98</td></tr><tr><td class='lc  ar '>4</td><td class='  al '>GME</td><td class='  ar '>31.24</td></tr><tr><td class='lc  ar '>5</td><td class='  al '>Filtered</td><td class='  ar '>11.45</td></tr><tr><td class='lc  ar '>6</td><td class='  al '>AMZN</td><td class='  ar '>76.50</td></tr><tr><td class='lc  ar '>7</td><td class='  al '>Filtered</td><td class='  ar '>21.46</td></tr><tr><td class='lc  ar '>8</td><td class='  al '>GME</td><td class='  ar '>85.34</td></tr><tr><td class='lc  ar '>9</td><td class='  al '>Filtered</td><td class='  ar '>23.39</td></tr></tbody></table></body></html>\n",
       "\n",
       "[10 rows x 2 columns] total bytes: 110.0 B"
      ],
      "text/plain": []
     },
     "execution_count": 105,
     "metadata": {},
     "output_type": "execute_result"
    }
   ],
   "source": [
    "ds_test = rt.Dataset()\n",
    "ds_test.SymbolTest = ds.Symbol.filter(ds.Value > 30.0)\n",
    "ds_test.ValueTest = ds.Value\n",
    "\n",
    "ds_test.sample()"
   ]
  },
  {
   "cell_type": "markdown",
   "id": "42de0952-dd3e-4428-a8ca-f1bf804b2cca",
   "metadata": {},
   "source": [
    "Now we can get the minimum value of the filtered data:"
   ]
  },
  {
   "cell_type": "code",
   "execution_count": 106,
   "id": "a7621a48",
   "metadata": {},
   "outputs": [
    {
     "data": {
      "text/html": [
       "<html><head><style>table.tbl-6325 tbody td{white-space: nowrap;}table.tbl-6325 .lc{font-weight:bold;background-color: var( --jp-rendermime-table-row-hover-background);}table.tbl-6325 .lg{background-color: #66da9940;}table.tbl-6325 .lp{font-weight:bold;background-color: #ac66da40;}table.tbl-6325 .msc{font-weight:normal;background-color:#00000011;}table.tbl-6325 .al{text-align:left;}table.tbl-6325 .ar{text-align:right;}table.tbl-6325 .ac{text-align:center;}table.tbl-6325 .bld{font-weight:bold;}table.tbl-6325 .it{font-style:italic;}table.tbl-6325 .ul{text-decoration:underline;}table.tbl-6325 .st{text-decoration:line-through;}</style></head><body><table class='tbl-6325'><thead><tr><td class='lg bld al'>*SymbolTest</td><td class='lc bld ar'>Value</td></tr></thead><tbody><tr><td class='lg  al '>AAPL</td><td class='  ar '>43.67</td></tr><tr><td class='lg  al '>AMZN</td><td class='  ar '>37.05</td></tr><tr><td class='lg  al '>GME</td><td class='  ar '>31.24</td></tr><tr><td class='lg  al '>SPY</td><td class='  ar '>30.40</td></tr><tr><td class='lg  al '>TSLA</td><td class='  ar '>40.85</td></tr></tbody></table></body></html>\n",
       "\n",
       "[5 rows x 2 columns] total bytes: 60.0 B"
      ],
      "text/plain": []
     },
     "execution_count": 106,
     "metadata": {},
     "output_type": "execute_result"
    }
   ],
   "source": [
    "ds.Symbol.filter(ds.Value > 30.0).min(ds.Value)"
   ]
  },
  {
   "cell_type": "markdown",
   "id": "aefdb3db",
   "metadata": {},
   "source": [
    "Note that `filter()` on a Categorical returns a Categorical of the same length in which everywhere the filter result is False, the category gets set to 'Filtered' and the associated index value is 0. This in contrast to filtered datasets, where `filter()` returns a smaller Dataset, reduced to only the rows where the filter result is True (where the filter condition is met).\n",
    "\n",
    "The advice to avoid making unnecessary copies of large amounts of data using `filter()` also applies to Categoricals.\n",
    "\n",
    "The advice to name your mask filters for future reuse also applies."
   ]
  },
  {
   "cell_type": "code",
   "execution_count": 107,
   "id": "982b07d1",
   "metadata": {},
   "outputs": [
    {
     "data": {
      "text/html": [
       "<html><head><style>table.tbl-6248 tbody td{white-space: nowrap;}table.tbl-6248 .lc{font-weight:bold;background-color: var( --jp-rendermime-table-row-hover-background);}table.tbl-6248 .lg{background-color: #66da9940;}table.tbl-6248 .lp{font-weight:bold;background-color: #ac66da40;}table.tbl-6248 .msc{font-weight:normal;background-color:#00000011;}table.tbl-6248 .al{text-align:left;}table.tbl-6248 .ar{text-align:right;}table.tbl-6248 .ac{text-align:center;}table.tbl-6248 .bld{font-weight:bold;}table.tbl-6248 .it{font-style:italic;}table.tbl-6248 .ul{text-decoration:underline;}table.tbl-6248 .st{text-decoration:line-through;}</style></head><body><table class='tbl-6248'><thead><tr><td class='lg bld al'>*Symbol</td><td class='lc bld ar'> Value</td></tr></thead><tbody><tr><td class='lg  al '>AAPL</td><td class='  ar '>436.48</td></tr><tr><td class='lg  al '>AMZN</td><td class='  ar '>198.19</td></tr><tr><td class='lg  al '>GME</td><td class='  ar '>441.63</td></tr><tr><td class='lg  al '>SPY</td><td class='  ar '>387.31</td></tr><tr><td class='lg  al '>TSLA</td><td class='  ar '>571.20</td></tr></tbody></table></body></html>\n",
       "\n",
       "[5 rows x 2 columns] total bytes: 60.0 B"
      ],
      "text/plain": []
     },
     "execution_count": 107,
     "metadata": {},
     "output_type": "execute_result"
    }
   ],
   "source": [
    "my_filt = (ds.Value > 30.0)\n",
    "ds.Symbol.sum(ds.Value, filter=my_filt)"
   ]
  },
  {
   "cell_type": "markdown",
   "id": "16feb4cf-c8d7-415b-b5d5-b32bfa0e158c",
   "metadata": {},
   "source": [
    "## Multi-Key Categoricals"
   ]
  },
  {
   "cell_type": "markdown",
   "id": "83919d14",
   "metadata": {},
   "source": [
    "Multi-key Categoricals let you create and operate on groupings based on two categories. \n",
    "\n",
    "An example is a symbol-month pair, which you could use to get the average value of a stock for each month in your data. "
   ]
  },
  {
   "cell_type": "code",
   "execution_count": 108,
   "id": "e31a0ef5",
   "metadata": {},
   "outputs": [
    {
     "data": {
      "text/html": [
       "<html><head><style>table.tbl-6790 tbody td{white-space: nowrap;}table.tbl-6790 .lc{font-weight:bold;background-color: var( --jp-rendermime-table-row-hover-background);}table.tbl-6790 .lg{background-color: #66da9940;}table.tbl-6790 .lp{font-weight:bold;background-color: #ac66da40;}table.tbl-6790 .msc{font-weight:normal;background-color:#00000011;}table.tbl-6790 .al{text-align:left;}table.tbl-6790 .ar{text-align:right;}table.tbl-6790 .ac{text-align:center;}table.tbl-6790 .bld{font-weight:bold;}table.tbl-6790 .it{font-style:italic;}table.tbl-6790 .ul{text-decoration:underline;}table.tbl-6790 .st{text-decoration:line-through;}</style></head><body><table class='tbl-6790'><thead><tr><td class='lc bld ar'>  #</td><td class='lc bld al'>Symbol</td><td class='lc bld ar'>Value</td><td class='lc bld ar'>      Date</td><td class='lc bld ar'>     Month</td></tr></thead><tbody><tr><td class='lc  ar '>0</td><td class='  al '>AMZN</td><td class='  ar '>0.92</td><td class='  ar '>2021-01-01</td><td class='  ar '>2021-01-01</td></tr><tr><td class='lc  ar '>1</td><td class='  al '>AAPL</td><td class='  ar '>0.02</td><td class='  ar '>2021-01-02</td><td class='  ar '>2021-01-01</td></tr><tr><td class='lc  ar '>2</td><td class='  al '>AAPL</td><td class='  ar '>0.56</td><td class='  ar '>2021-01-03</td><td class='  ar '>2021-01-01</td></tr><tr><td class='lc  ar '>3</td><td class='  al '>AMZN</td><td class='  ar '>0.63</td><td class='  ar '>2021-01-04</td><td class='  ar '>2021-01-01</td></tr><tr><td class='lc  ar '>4</td><td class='  al '>MSFT</td><td class='  ar '>0.11</td><td class='  ar '>2021-01-05</td><td class='  ar '>2021-01-01</td></tr><tr><td class='lc  ar '>5</td><td class='  al '>MSFT</td><td class='  ar '>0.14</td><td class='  ar '>2021-01-06</td><td class='  ar '>2021-01-01</td></tr><tr><td class='lc  ar '>6</td><td class='  al '>AAPL</td><td class='  ar '>0.42</td><td class='  ar '>2021-01-07</td><td class='  ar '>2021-01-01</td></tr><tr><td class='lc  ar '>7</td><td class='  al '>MSFT</td><td class='  ar '>0.97</td><td class='  ar '>2021-01-08</td><td class='  ar '>2021-01-01</td></tr><tr><td class='lc  ar '>8</td><td class='  al '>AAPL</td><td class='  ar '>0.60</td><td class='  ar '>2021-01-09</td><td class='  ar '>2021-01-01</td></tr><tr><td class='lc  ar '>9</td><td class='  al '>MSFT</td><td class='  ar '>0.93</td><td class='  ar '>2021-01-10</td><td class='  ar '>2021-01-01</td></tr><tr><td class='lc  ar '>10</td><td class='  al '>MSFT</td><td class='  ar '>0.80</td><td class='  ar '>2021-01-11</td><td class='  ar '>2021-01-01</td></tr><tr><td class='lc  ar '>11</td><td class='  al '>MSFT</td><td class='  ar '>0.47</td><td class='  ar '>2021-01-12</td><td class='  ar '>2021-01-01</td></tr><tr><td class='lc  ar '>12</td><td class='  al '>AAPL</td><td class='  ar '>0.78</td><td class='  ar '>2021-01-13</td><td class='  ar '>2021-01-01</td></tr><tr><td class='lc  ar '>13</td><td class='  al '>MSFT</td><td class='  ar '>0.02</td><td class='  ar '>2021-01-14</td><td class='  ar '>2021-01-01</td></tr><tr><td class='lc  ar '>14</td><td class='  al '>AAPL</td><td class='  ar '>0.11</td><td class='  ar '>2021-01-15</td><td class='  ar '>2021-01-01</td></tr><tr><td class='lc  ar '>...</td><td class='  al '>...</td><td class='  ar '>...</td><td class='  ar '>...</td><td class='  ar '>...</td></tr><tr><td class='lc  ar '>85</td><td class='  al '>AAPL</td><td class='  ar '>0.48</td><td class='  ar '>2021-03-27</td><td class='  ar '>2021-03-01</td></tr><tr><td class='lc  ar '>86</td><td class='  al '>AMZN</td><td class='  ar '>0.42</td><td class='  ar '>2021-03-28</td><td class='  ar '>2021-03-01</td></tr><tr><td class='lc  ar '>87</td><td class='  al '>MSFT</td><td class='  ar '>0.23</td><td class='  ar '>2021-03-29</td><td class='  ar '>2021-03-01</td></tr><tr><td class='lc  ar '>88</td><td class='  al '>AAPL</td><td class='  ar '>0.37</td><td class='  ar '>2021-03-30</td><td class='  ar '>2021-03-01</td></tr><tr><td class='lc  ar '>89</td><td class='  al '>AMZN</td><td class='  ar '>0.37</td><td class='  ar '>2021-03-31</td><td class='  ar '>2021-03-01</td></tr><tr><td class='lc  ar '>90</td><td class='  al '>MSFT</td><td class='  ar '>0.33</td><td class='  ar '>2021-04-01</td><td class='  ar '>2021-04-01</td></tr><tr><td class='lc  ar '>91</td><td class='  al '>AAPL</td><td class='  ar '>0.38</td><td class='  ar '>2021-04-02</td><td class='  ar '>2021-04-01</td></tr><tr><td class='lc  ar '>92</td><td class='  al '>AAPL</td><td class='  ar '>0.69</td><td class='  ar '>2021-04-03</td><td class='  ar '>2021-04-01</td></tr><tr><td class='lc  ar '>93</td><td class='  al '>AMZN</td><td class='  ar '>0.30</td><td class='  ar '>2021-04-04</td><td class='  ar '>2021-04-01</td></tr><tr><td class='lc  ar '>94</td><td class='  al '>AMZN</td><td class='  ar '>0.95</td><td class='  ar '>2021-04-05</td><td class='  ar '>2021-04-01</td></tr><tr><td class='lc  ar '>95</td><td class='  al '>AMZN</td><td class='  ar '>0.92</td><td class='  ar '>2021-04-06</td><td class='  ar '>2021-04-01</td></tr><tr><td class='lc  ar '>96</td><td class='  al '>AAPL</td><td class='  ar '>0.48</td><td class='  ar '>2021-04-07</td><td class='  ar '>2021-04-01</td></tr><tr><td class='lc  ar '>97</td><td class='  al '>MSFT</td><td class='  ar '>0.33</td><td class='  ar '>2021-04-08</td><td class='  ar '>2021-04-01</td></tr><tr><td class='lc  ar '>98</td><td class='  al '>AMZN</td><td class='  ar '>0.54</td><td class='  ar '>2021-04-09</td><td class='  ar '>2021-04-01</td></tr><tr><td class='lc  ar '>99</td><td class='  al '>AAPL</td><td class='  ar '>0.85</td><td class='  ar '>2021-04-10</td><td class='  ar '>2021-04-01</td></tr></tbody></table></body></html>\n",
       "\n",
       "[100 rows x 4 columns] total bytes: 2.0 KB"
      ],
      "text/plain": []
     },
     "execution_count": 108,
     "metadata": {},
     "output_type": "execute_result"
    }
   ],
   "source": [
    "ds_mk = rt.Dataset()\n",
    "N = 100\n",
    "\n",
    "ds_mk.Symbol = rt.FA(rng.choice(['AAPL', 'AMZN', 'MSFT'], N))\n",
    "ds_mk.Value = rt.FA(rng.random(N))\n",
    "ds_mk.Date = rt.Date.range('20210101', days = 100)  # Dates from January to mid-April\n",
    "ds_mk.Month = ds_mk.Date.start_of_month\n",
    "\n",
    "ds_mk"
   ]
  },
  {
   "cell_type": "markdown",
   "id": "76de08c8",
   "metadata": {},
   "source": [
    "We want to group the dates by month. An easy way to do this is by using `start_of_month`."
   ]
  },
  {
   "cell_type": "code",
   "execution_count": 109,
   "id": "eb4e2881",
   "metadata": {},
   "outputs": [
    {
     "data": {
      "text/html": [
       "<html><head><style>table.tbl-3352 tbody td{white-space: nowrap;}table.tbl-3352 .lc{font-weight:bold;background-color: var( --jp-rendermime-table-row-hover-background);}table.tbl-3352 .lg{background-color: #66da9940;}table.tbl-3352 .lp{font-weight:bold;background-color: #ac66da40;}table.tbl-3352 .msc{font-weight:normal;background-color:#00000011;}table.tbl-3352 .al{text-align:left;}table.tbl-3352 .ar{text-align:right;}table.tbl-3352 .ac{text-align:center;}table.tbl-3352 .bld{font-weight:bold;}table.tbl-3352 .it{font-style:italic;}table.tbl-3352 .ul{text-decoration:underline;}table.tbl-3352 .st{text-decoration:line-through;}</style></head><body><table class='tbl-3352'><thead><tr><td class='lc bld ar'>  #</td><td class='lc bld al'>Symbol</td><td class='lc bld ar'>Value</td><td class='lc bld ar'>      Date</td><td class='lc bld ar'>     Month</td></tr></thead><tbody><tr><td class='lc  ar '>0</td><td class='  al '>AMZN</td><td class='  ar '>0.92</td><td class='  ar '>2021-01-01</td><td class='  ar '>2021-01-01</td></tr><tr><td class='lc  ar '>1</td><td class='  al '>AAPL</td><td class='  ar '>0.02</td><td class='  ar '>2021-01-02</td><td class='  ar '>2021-01-01</td></tr><tr><td class='lc  ar '>2</td><td class='  al '>AAPL</td><td class='  ar '>0.56</td><td class='  ar '>2021-01-03</td><td class='  ar '>2021-01-01</td></tr><tr><td class='lc  ar '>3</td><td class='  al '>AMZN</td><td class='  ar '>0.63</td><td class='  ar '>2021-01-04</td><td class='  ar '>2021-01-01</td></tr><tr><td class='lc  ar '>4</td><td class='  al '>MSFT</td><td class='  ar '>0.11</td><td class='  ar '>2021-01-05</td><td class='  ar '>2021-01-01</td></tr><tr><td class='lc  ar '>5</td><td class='  al '>MSFT</td><td class='  ar '>0.14</td><td class='  ar '>2021-01-06</td><td class='  ar '>2021-01-01</td></tr><tr><td class='lc  ar '>6</td><td class='  al '>AAPL</td><td class='  ar '>0.42</td><td class='  ar '>2021-01-07</td><td class='  ar '>2021-01-01</td></tr><tr><td class='lc  ar '>7</td><td class='  al '>MSFT</td><td class='  ar '>0.97</td><td class='  ar '>2021-01-08</td><td class='  ar '>2021-01-01</td></tr><tr><td class='lc  ar '>8</td><td class='  al '>AAPL</td><td class='  ar '>0.60</td><td class='  ar '>2021-01-09</td><td class='  ar '>2021-01-01</td></tr><tr><td class='lc  ar '>9</td><td class='  al '>MSFT</td><td class='  ar '>0.93</td><td class='  ar '>2021-01-10</td><td class='  ar '>2021-01-01</td></tr><tr><td class='lc  ar '>10</td><td class='  al '>MSFT</td><td class='  ar '>0.80</td><td class='  ar '>2021-01-11</td><td class='  ar '>2021-01-01</td></tr><tr><td class='lc  ar '>11</td><td class='  al '>MSFT</td><td class='  ar '>0.47</td><td class='  ar '>2021-01-12</td><td class='  ar '>2021-01-01</td></tr><tr><td class='lc  ar '>12</td><td class='  al '>AAPL</td><td class='  ar '>0.78</td><td class='  ar '>2021-01-13</td><td class='  ar '>2021-01-01</td></tr><tr><td class='lc  ar '>13</td><td class='  al '>MSFT</td><td class='  ar '>0.02</td><td class='  ar '>2021-01-14</td><td class='  ar '>2021-01-01</td></tr><tr><td class='lc  ar '>14</td><td class='  al '>AAPL</td><td class='  ar '>0.11</td><td class='  ar '>2021-01-15</td><td class='  ar '>2021-01-01</td></tr><tr><td class='lc  ar '>...</td><td class='  al '>...</td><td class='  ar '>...</td><td class='  ar '>...</td><td class='  ar '>...</td></tr><tr><td class='lc  ar '>85</td><td class='  al '>AAPL</td><td class='  ar '>0.48</td><td class='  ar '>2021-03-27</td><td class='  ar '>2021-03-01</td></tr><tr><td class='lc  ar '>86</td><td class='  al '>AMZN</td><td class='  ar '>0.42</td><td class='  ar '>2021-03-28</td><td class='  ar '>2021-03-01</td></tr><tr><td class='lc  ar '>87</td><td class='  al '>MSFT</td><td class='  ar '>0.23</td><td class='  ar '>2021-03-29</td><td class='  ar '>2021-03-01</td></tr><tr><td class='lc  ar '>88</td><td class='  al '>AAPL</td><td class='  ar '>0.37</td><td class='  ar '>2021-03-30</td><td class='  ar '>2021-03-01</td></tr><tr><td class='lc  ar '>89</td><td class='  al '>AMZN</td><td class='  ar '>0.37</td><td class='  ar '>2021-03-31</td><td class='  ar '>2021-03-01</td></tr><tr><td class='lc  ar '>90</td><td class='  al '>MSFT</td><td class='  ar '>0.33</td><td class='  ar '>2021-04-01</td><td class='  ar '>2021-04-01</td></tr><tr><td class='lc  ar '>91</td><td class='  al '>AAPL</td><td class='  ar '>0.38</td><td class='  ar '>2021-04-02</td><td class='  ar '>2021-04-01</td></tr><tr><td class='lc  ar '>92</td><td class='  al '>AAPL</td><td class='  ar '>0.69</td><td class='  ar '>2021-04-03</td><td class='  ar '>2021-04-01</td></tr><tr><td class='lc  ar '>93</td><td class='  al '>AMZN</td><td class='  ar '>0.30</td><td class='  ar '>2021-04-04</td><td class='  ar '>2021-04-01</td></tr><tr><td class='lc  ar '>94</td><td class='  al '>AMZN</td><td class='  ar '>0.95</td><td class='  ar '>2021-04-05</td><td class='  ar '>2021-04-01</td></tr><tr><td class='lc  ar '>95</td><td class='  al '>AMZN</td><td class='  ar '>0.92</td><td class='  ar '>2021-04-06</td><td class='  ar '>2021-04-01</td></tr><tr><td class='lc  ar '>96</td><td class='  al '>AAPL</td><td class='  ar '>0.48</td><td class='  ar '>2021-04-07</td><td class='  ar '>2021-04-01</td></tr><tr><td class='lc  ar '>97</td><td class='  al '>MSFT</td><td class='  ar '>0.33</td><td class='  ar '>2021-04-08</td><td class='  ar '>2021-04-01</td></tr><tr><td class='lc  ar '>98</td><td class='  al '>AMZN</td><td class='  ar '>0.54</td><td class='  ar '>2021-04-09</td><td class='  ar '>2021-04-01</td></tr><tr><td class='lc  ar '>99</td><td class='  al '>AAPL</td><td class='  ar '>0.85</td><td class='  ar '>2021-04-10</td><td class='  ar '>2021-04-01</td></tr></tbody></table></body></html>\n",
       "\n",
       "[100 rows x 4 columns] total bytes: 2.0 KB"
      ],
      "text/plain": []
     },
     "execution_count": 109,
     "metadata": {},
     "output_type": "execute_result"
    }
   ],
   "source": [
    "ds_mk.Month = ds_mk.Date.start_of_month\n",
    "ds_mk"
   ]
  },
  {
   "cell_type": "markdown",
   "id": "3a853ad3",
   "metadata": {},
   "source": [
    "Now all Dates in January are associated to 2021-01-01, all Dates in February are associated to 2021-02-01, etc. These firsts of the month are our month groups.\n",
    "\n",
    "Now we create a multi-key Categorical by passing `rt.Cat()` the Symbol and Month columns."
   ]
  },
  {
   "cell_type": "code",
   "execution_count": 110,
   "id": "340c1899",
   "metadata": {},
   "outputs": [
    {
     "data": {
      "text/plain": [
       "Categorical([(AMZN, 2021-01-01), (AAPL, 2021-01-01), (AAPL, 2021-01-01), (AMZN, 2021-01-01), (MSFT, 2021-01-01), ..., (AMZN, 2021-04-01), (AAPL, 2021-04-01), (MSFT, 2021-04-01), (AMZN, 2021-04-01), (AAPL, 2021-04-01)]) Length: 100\n",
       "  FastArray([ 1,  2,  2,  1,  3, ..., 12, 11, 10, 12, 11], dtype=int8) Base Index: 1\n",
       "  {'Symbol': FastArray([b'AMZN', b'AAPL', b'MSFT', b'MSFT', b'AAPL', ..., b'MSFT', b'AMZN', b'MSFT', b'AAPL', b'AMZN'], dtype='|S4'), 'Month': Date(['2021-01-01', '2021-01-01', '2021-01-01', '2021-02-01', '2021-02-01', ..., '2021-03-01', '2021-03-01', '2021-04-01', '2021-04-01', '2021-04-01'])} Unique count: 12"
      ]
     },
     "execution_count": 110,
     "metadata": {},
     "output_type": "execute_result"
    }
   ],
   "source": [
    "ds_mk.Symbol_Month = rt.Cat([ds_mk.Symbol, ds_mk.Month])\n",
    "ds_mk.Symbol_Month"
   ]
  },
  {
   "cell_type": "markdown",
   "id": "f9ebb6a8",
   "metadata": {},
   "source": [
    "Note: We could have skipped creating a column for the firsts of the month by using method chaining."
   ]
  },
  {
   "cell_type": "code",
   "execution_count": 111,
   "id": "4fe609a0",
   "metadata": {},
   "outputs": [],
   "source": [
    "ds_mk.Symbol_Month = rt.Cat([ds_mk.Symbol, \n",
    "                             ds_mk.Date.start_of_month.set_name('Month')])"
   ]
  },
  {
   "cell_type": "markdown",
   "id": "5c6003fc",
   "metadata": {},
   "source": [
    "Applying `set_name()` here gives a name to the FastArray holding the start-of-month groups.\n",
    "\n",
    "Now we can get the average value for each symbol-month pair."
   ]
  },
  {
   "cell_type": "code",
   "execution_count": 112,
   "id": "096674fa",
   "metadata": {},
   "outputs": [
    {
     "data": {
      "text/html": [
       "<html><head><style>table.tbl-4588 tbody td{white-space: nowrap;}table.tbl-4588 .lc{font-weight:bold;background-color: var( --jp-rendermime-table-row-hover-background);}table.tbl-4588 .lg{background-color: #66da9940;}table.tbl-4588 .lp{font-weight:bold;background-color: #ac66da40;}table.tbl-4588 .msc{font-weight:normal;background-color:#00000011;}table.tbl-4588 .al{text-align:left;}table.tbl-4588 .ar{text-align:right;}table.tbl-4588 .ac{text-align:center;}table.tbl-4588 .bld{font-weight:bold;}table.tbl-4588 .it{font-style:italic;}table.tbl-4588 .ul{text-decoration:underline;}table.tbl-4588 .st{text-decoration:line-through;}</style></head><body><table class='tbl-4588'><thead><tr><td class='lg bld al'>*Symbol</td><td class='lg bld ar'>    *Month</td><td class='lc bld ar'>Value</td></tr></thead><tbody><tr><td class='lg  al '>AMZN</td><td class='lg  ar '>2021-01-01</td><td class='  ar '>0.63</td></tr><tr><td class='lg  al '>AAPL</td><td class='lg  ar '>2021-01-01</td><td class='  ar '>0.44</td></tr><tr><td class='lg  al '>MSFT</td><td class='lg  ar '>2021-01-01</td><td class='  ar '>0.53</td></tr><tr><td class='lg  al '>.</td><td class='lg  ar '>2021-02-01</td><td class='  ar '>0.31</td></tr><tr><td class='lg  al '>AAPL</td><td class='lg  ar '>2021-02-01</td><td class='  ar '>0.42</td></tr><tr><td class='lg  al '>AMZN</td><td class='lg  ar '>2021-02-01</td><td class='  ar '>0.27</td></tr><tr><td class='lg  al '>AAPL</td><td class='lg  ar '>2021-03-01</td><td class='  ar '>0.42</td></tr><tr><td class='lg  al '>MSFT</td><td class='lg  ar '>2021-03-01</td><td class='  ar '>0.58</td></tr><tr><td class='lg  al '>AMZN</td><td class='lg  ar '>2021-03-01</td><td class='  ar '>0.53</td></tr><tr><td class='lg  al '>MSFT</td><td class='lg  ar '>2021-04-01</td><td class='  ar '>0.33</td></tr><tr><td class='lg  al '>AAPL</td><td class='lg  ar '>2021-04-01</td><td class='  ar '>0.60</td></tr><tr><td class='lg  al '>AMZN</td><td class='lg  ar '>2021-04-01</td><td class='  ar '>0.67</td></tr></tbody></table></body></html>\n",
       "\n",
       "[12 rows x 3 columns] total bytes: 192.0 B"
      ],
      "text/plain": []
     },
     "execution_count": 112,
     "metadata": {},
     "output_type": "execute_result"
    }
   ],
   "source": [
    "ds_mk.Symbol_Month.mean(ds_mk.Value)"
   ]
  },
  {
   "cell_type": "markdown",
   "id": "b4843630",
   "metadata": {},
   "source": [
    "The aggregated results are presented with the two group keys arranged hierarchically.\n",
    "\n",
    "All the aggregation functions supported by Categoricals can also be used for multi-key Categoricals.\n",
    "\n",
    "You can also filter multi-key Categoricals by calling `filter()` on the Categorical, and operate on filterd data by passing the filter keyword argument to the function you use.\n",
    "\n",
    "Get the symbol-month pairs for values over 0.4:"
   ]
  },
  {
   "cell_type": "code",
   "execution_count": 113,
   "id": "b2469c87",
   "metadata": {},
   "outputs": [
    {
     "data": {
      "text/plain": [
       "Categorical([(AMZN, 2021-01-01), Filtered, (AAPL, 2021-01-01), (AMZN, 2021-01-01), Filtered, ..., (AMZN, 2021-04-01), (AAPL, 2021-04-01), Filtered, (AMZN, 2021-04-01), (AAPL, 2021-04-01)]) Length: 100\n",
       "  FastArray([ 1,  0,  2,  1,  0, ..., 11, 10,  0, 11, 10], dtype=int8) Base Index: 1\n",
       "  {'Symbol': FastArray([b'AMZN', b'AAPL', b'MSFT', b'MSFT', b'AAPL', ..., b'AAPL', b'MSFT', b'AMZN', b'AAPL', b'AMZN'], dtype='|S4'), 'Month': Date(['2021-01-01', '2021-01-01', '2021-01-01', '2021-02-01', '2021-02-01', ..., '2021-03-01', '2021-03-01', '2021-03-01', '2021-04-01', '2021-04-01'])} Unique count: 11"
      ]
     },
     "execution_count": 113,
     "metadata": {},
     "output_type": "execute_result"
    }
   ],
   "source": [
    "ds_mk.Symbol_Month.filter(ds_mk.Value > 0.4)"
   ]
  },
  {
   "cell_type": "markdown",
   "id": "2f9f3ff7",
   "metadata": {},
   "source": [
    "Sum the Values that are greater than 0.4:"
   ]
  },
  {
   "cell_type": "code",
   "execution_count": 114,
   "id": "af387197-b0b1-48b0-b207-40a3cf08f53b",
   "metadata": {},
   "outputs": [
    {
     "data": {
      "text/html": [
       "<html><head><style>table.tbl-5623 tbody td{white-space: nowrap;}table.tbl-5623 .lc{font-weight:bold;background-color: var( --jp-rendermime-table-row-hover-background);}table.tbl-5623 .lg{background-color: #66da9940;}table.tbl-5623 .lp{font-weight:bold;background-color: #ac66da40;}table.tbl-5623 .msc{font-weight:normal;background-color:#00000011;}table.tbl-5623 .al{text-align:left;}table.tbl-5623 .ar{text-align:right;}table.tbl-5623 .ac{text-align:center;}table.tbl-5623 .bld{font-weight:bold;}table.tbl-5623 .it{font-style:italic;}table.tbl-5623 .ul{text-decoration:underline;}table.tbl-5623 .st{text-decoration:line-through;}</style></head><body><table class='tbl-5623'><thead><tr><td class='lg bld al'>*Symbol</td><td class='lg bld ar'>    *Month</td><td class='lc bld ar'>Value</td></tr></thead><tbody><tr><td class='lg  al '>AMZN</td><td class='lg  ar '>2021-01-01</td><td class='  ar '>5.07</td></tr><tr><td class='lg  al '>AAPL</td><td class='lg  ar '>2021-01-01</td><td class='  ar '>4.28</td></tr><tr><td class='lg  al '>MSFT</td><td class='lg  ar '>2021-01-01</td><td class='  ar '>5.52</td></tr><tr><td class='lg  al '>.</td><td class='lg  ar '>2021-02-01</td><td class='  ar '>1.69</td></tr><tr><td class='lg  al '>AAPL</td><td class='lg  ar '>2021-02-01</td><td class='  ar '>4.12</td></tr><tr><td class='lg  al '>AMZN</td><td class='lg  ar '>2021-02-01</td><td class='  ar '>0.85</td></tr><tr><td class='lg  al '>AAPL</td><td class='lg  ar '>2021-03-01</td><td class='  ar '>4.67</td></tr><tr><td class='lg  al '>MSFT</td><td class='lg  ar '>2021-03-01</td><td class='  ar '>5.55</td></tr><tr><td class='lg  al '>AMZN</td><td class='lg  ar '>2021-03-01</td><td class='  ar '>2.68</td></tr><tr><td class='lg  al '>MSFT</td><td class='lg  ar '>2021-04-01</td><td class='  ar '>0.00</td></tr><tr><td class='lg  al '>AAPL</td><td class='lg  ar '>2021-04-01</td><td class='  ar '>2.02</td></tr><tr><td class='lg  al '>AMZN</td><td class='lg  ar '>2021-04-01</td><td class='  ar '>2.40</td></tr></tbody></table></body></html>\n",
       "\n",
       "[12 rows x 3 columns] total bytes: 192.0 B"
      ],
      "text/plain": []
     },
     "execution_count": 114,
     "metadata": {},
     "output_type": "execute_result"
    }
   ],
   "source": [
    "ds_mk.Symbol_Month.nansum(ds_mk.Value, filter=ds_mk.Value > 0.4)"
   ]
  },
  {
   "cell_type": "markdown",
   "id": "75252fe0-6fcf-4bb7-9196-28ce05cb6c60",
   "metadata": {},
   "source": [
    "Later on we'll cover another Riptable function, `Accum2()`, that aggregates two groups similarly but provides a more styled output."
   ]
  },
  {
   "cell_type": "markdown",
   "id": "fe694c01-2e90-4f09-9722-b85a257354b8",
   "metadata": {},
   "source": [
    "## Bucket Numeric Data for Analysis \n",
    "\n",
    "When you have a large amount of numeric data, `cut()` and `qcut()` can help you split the values into Categorical bins (a.k.a. \"buckets\") for analysis.\n",
    "\n",
    "Use `cut()` for buckets based on values of your choosing. Use `qcut()` for buckets based on sample quantiles.\n",
    "\n",
    "Let's create a moderately large Dataset."
   ]
  },
  {
   "cell_type": "code",
   "execution_count": 115,
   "id": "e6d1b5d4-a699-4ecd-a231-78053e4a12b9",
   "metadata": {},
   "outputs": [
    {
     "data": {
      "text/html": [
       "<html><head><style>table.tbl-2106 tbody td{white-space: nowrap;}table.tbl-2106 .lc{font-weight:bold;background-color: var( --jp-rendermime-table-row-hover-background);}table.tbl-2106 .lg{background-color: #66da9940;}table.tbl-2106 .lp{font-weight:bold;background-color: #ac66da40;}table.tbl-2106 .msc{font-weight:normal;background-color:#00000011;}table.tbl-2106 .al{text-align:left;}table.tbl-2106 .ar{text-align:right;}table.tbl-2106 .ac{text-align:center;}table.tbl-2106 .bld{font-weight:bold;}table.tbl-2106 .it{font-style:italic;}table.tbl-2106 .ul{text-decoration:underline;}table.tbl-2106 .st{text-decoration:line-through;}</style></head><body><table class='tbl-2106'><thead><tr><td class='lc bld ar'>  #</td><td class='lc bld al'>Symbol</td><td class='lc bld ar'>   Price</td></tr></thead><tbody><tr><td class='lc  ar '>0</td><td class='  al '>AMZN</td><td class='  ar '>93.87</td></tr><tr><td class='lc  ar '>1</td><td class='  al '>AMZN</td><td class='  ar '>150.69</td></tr><tr><td class='lc  ar '>2</td><td class='  al '>AAPL</td><td class='  ar '>154.76</td></tr><tr><td class='lc  ar '>3</td><td class='  al '>MSFT</td><td class='  ar '>153.99</td></tr><tr><td class='lc  ar '>4</td><td class='  al '>AMZN</td><td class='  ar '>105.55</td></tr><tr><td class='lc  ar '>5</td><td class='  al '>AMZN</td><td class='  ar '>62.25</td></tr><tr><td class='lc  ar '>6</td><td class='  al '>MSFT</td><td class='  ar '>51.22</td></tr><tr><td class='lc  ar '>7</td><td class='  al '>AMZN</td><td class='  ar '>123.54</td></tr><tr><td class='lc  ar '>8</td><td class='  al '>AAPL</td><td class='  ar '>126.17</td></tr><tr><td class='lc  ar '>9</td><td class='  al '>AAPL</td><td class='  ar '>172.47</td></tr><tr><td class='lc  ar '>10</td><td class='  al '>AAPL</td><td class='  ar '>164.01</td></tr><tr><td class='lc  ar '>11</td><td class='  al '>MSFT</td><td class='  ar '>103.30</td></tr><tr><td class='lc  ar '>12</td><td class='  al '>AAPL</td><td class='  ar '>48.60</td></tr><tr><td class='lc  ar '>13</td><td class='  al '>AAPL</td><td class='  ar '>95.76</td></tr><tr><td class='lc  ar '>14</td><td class='  al '>AMZN</td><td class='  ar '>123.47</td></tr><tr><td class='lc  ar '>...</td><td class='  al '>...</td><td class='  ar '>...</td></tr><tr><td class='lc  ar '>985</td><td class='  al '>AMZN</td><td class='  ar '>1,027.85</td></tr><tr><td class='lc  ar '>986</td><td class='  al '>AAPL</td><td class='  ar '>993.06</td></tr><tr><td class='lc  ar '>987</td><td class='  al '>AMZN</td><td class='  ar '>867.37</td></tr><tr><td class='lc  ar '>988</td><td class='  al '>AAPL</td><td class='  ar '>940.92</td></tr><tr><td class='lc  ar '>989</td><td class='  al '>AAPL</td><td class='  ar '>1,025.38</td></tr><tr><td class='lc  ar '>990</td><td class='  al '>MSFT</td><td class='  ar '>1,052.54</td></tr><tr><td class='lc  ar '>991</td><td class='  al '>AAPL</td><td class='  ar '>1,048.25</td></tr><tr><td class='lc  ar '>992</td><td class='  al '>AMZN</td><td class='  ar '>914.09</td></tr><tr><td class='lc  ar '>993</td><td class='  al '>AMZN</td><td class='  ar '>1,009.67</td></tr><tr><td class='lc  ar '>994</td><td class='  al '>AAPL</td><td class='  ar '>1,046.27</td></tr><tr><td class='lc  ar '>995</td><td class='  al '>AAPL</td><td class='  ar '>913.48</td></tr><tr><td class='lc  ar '>996</td><td class='  al '>AMZN</td><td class='  ar '>996.90</td></tr><tr><td class='lc  ar '>997</td><td class='  al '>AMZN</td><td class='  ar '>1,011.89</td></tr><tr><td class='lc  ar '>998</td><td class='  al '>MSFT</td><td class='  ar '>984.06</td></tr><tr><td class='lc  ar '>999</td><td class='  al '>MSFT</td><td class='  ar '>907.39</td></tr></tbody></table></body></html>\n",
       "\n",
       "[1000 rows x 2 columns] total bytes: 11.7 KB"
      ],
      "text/plain": []
     },
     "execution_count": 115,
     "metadata": {},
     "output_type": "execute_result"
    }
   ],
   "source": [
    "N = 1_000\n",
    "\n",
    "ds2 = rt.Dataset()\n",
    "ds2.Symbol = rt.FA(rng.choice(['AAPL', 'AMZN', 'MSFT'], N))\n",
    "\n",
    "base_price = 100 + rt.FA(np.linspace(0, 900, N))\n",
    "noise = rt.FA(rng.normal(0, 50, N))\n",
    "ds2.Price = base_price + noise\n",
    "\n",
    "ds2"
   ]
  },
  {
   "cell_type": "markdown",
   "id": "939db5d6",
   "metadata": {},
   "source": [
    "With `cut()`, you can create equal-width buckets or choose your own intervals.\n",
    "\n",
    "To split values into equal-width buckets, just specify an integer number of buckets (in this case 5)."
   ]
  },
  {
   "cell_type": "code",
   "execution_count": 116,
   "id": "2841936a",
   "metadata": {},
   "outputs": [
    {
     "data": {
      "text/html": [
       "<html><head><style>table.tbl-3203 tbody td{white-space: nowrap;}table.tbl-3203 .lc{font-weight:bold;background-color: var( --jp-rendermime-table-row-hover-background);}table.tbl-3203 .lg{background-color: #66da9940;}table.tbl-3203 .lp{font-weight:bold;background-color: #ac66da40;}table.tbl-3203 .msc{font-weight:normal;background-color:#00000011;}table.tbl-3203 .al{text-align:left;}table.tbl-3203 .ar{text-align:right;}table.tbl-3203 .ac{text-align:center;}table.tbl-3203 .bld{font-weight:bold;}table.tbl-3203 .it{font-style:italic;}table.tbl-3203 .ul{text-decoration:underline;}table.tbl-3203 .st{text-decoration:line-through;}</style></head><body><table class='tbl-3203'><thead><tr><td class='lc bld ar'>  #</td><td class='lc bld al'>Symbol</td><td class='lc bld ar'>   Price</td><td class='lc bld al'>PriceBucket      </td></tr></thead><tbody><tr><td class='lc  ar '>0</td><td class='  al '>AMZN</td><td class='  ar '>93.87</td><td class='  al '>-3.011->221.182</td></tr><tr><td class='lc  ar '>1</td><td class='  al '>AMZN</td><td class='  ar '>150.69</td><td class='  al '>-3.011->221.182</td></tr><tr><td class='lc  ar '>2</td><td class='  al '>AAPL</td><td class='  ar '>154.76</td><td class='  al '>-3.011->221.182</td></tr><tr><td class='lc  ar '>3</td><td class='  al '>MSFT</td><td class='  ar '>153.99</td><td class='  al '>-3.011->221.182</td></tr><tr><td class='lc  ar '>4</td><td class='  al '>AMZN</td><td class='  ar '>105.55</td><td class='  al '>-3.011->221.182</td></tr><tr><td class='lc  ar '>5</td><td class='  al '>AMZN</td><td class='  ar '>62.25</td><td class='  al '>-3.011->221.182</td></tr><tr><td class='lc  ar '>6</td><td class='  al '>MSFT</td><td class='  ar '>51.22</td><td class='  al '>-3.011->221.182</td></tr><tr><td class='lc  ar '>7</td><td class='  al '>AMZN</td><td class='  ar '>123.54</td><td class='  al '>-3.011->221.182</td></tr><tr><td class='lc  ar '>8</td><td class='  al '>AAPL</td><td class='  ar '>126.17</td><td class='  al '>-3.011->221.182</td></tr><tr><td class='lc  ar '>9</td><td class='  al '>AAPL</td><td class='  ar '>172.47</td><td class='  al '>-3.011->221.182</td></tr><tr><td class='lc  ar '>10</td><td class='  al '>AAPL</td><td class='  ar '>164.01</td><td class='  al '>-3.011->221.182</td></tr><tr><td class='lc  ar '>11</td><td class='  al '>MSFT</td><td class='  ar '>103.30</td><td class='  al '>-3.011->221.182</td></tr><tr><td class='lc  ar '>12</td><td class='  al '>AAPL</td><td class='  ar '>48.60</td><td class='  al '>-3.011->221.182</td></tr><tr><td class='lc  ar '>13</td><td class='  al '>AAPL</td><td class='  ar '>95.76</td><td class='  al '>-3.011->221.182</td></tr><tr><td class='lc  ar '>14</td><td class='  al '>AMZN</td><td class='  ar '>123.47</td><td class='  al '>-3.011->221.182</td></tr><tr><td class='lc  ar '>...</td><td class='  al '>...</td><td class='  ar '>...</td><td class='  al '>...</td></tr><tr><td class='lc  ar '>985</td><td class='  al '>AMZN</td><td class='  ar '>1,027.85</td><td class='  al '>893.763->1117.956</td></tr><tr><td class='lc  ar '>986</td><td class='  al '>AAPL</td><td class='  ar '>993.06</td><td class='  al '>893.763->1117.956</td></tr><tr><td class='lc  ar '>987</td><td class='  al '>AMZN</td><td class='  ar '>867.37</td><td class='  al '>669.569->893.763</td></tr><tr><td class='lc  ar '>988</td><td class='  al '>AAPL</td><td class='  ar '>940.92</td><td class='  al '>893.763->1117.956</td></tr><tr><td class='lc  ar '>989</td><td class='  al '>AAPL</td><td class='  ar '>1,025.38</td><td class='  al '>893.763->1117.956</td></tr><tr><td class='lc  ar '>990</td><td class='  al '>MSFT</td><td class='  ar '>1,052.54</td><td class='  al '>893.763->1117.956</td></tr><tr><td class='lc  ar '>991</td><td class='  al '>AAPL</td><td class='  ar '>1,048.25</td><td class='  al '>893.763->1117.956</td></tr><tr><td class='lc  ar '>992</td><td class='  al '>AMZN</td><td class='  ar '>914.09</td><td class='  al '>893.763->1117.956</td></tr><tr><td class='lc  ar '>993</td><td class='  al '>AMZN</td><td class='  ar '>1,009.67</td><td class='  al '>893.763->1117.956</td></tr><tr><td class='lc  ar '>994</td><td class='  al '>AAPL</td><td class='  ar '>1,046.27</td><td class='  al '>893.763->1117.956</td></tr><tr><td class='lc  ar '>995</td><td class='  al '>AAPL</td><td class='  ar '>913.48</td><td class='  al '>893.763->1117.956</td></tr><tr><td class='lc  ar '>996</td><td class='  al '>AMZN</td><td class='  ar '>996.90</td><td class='  al '>893.763->1117.956</td></tr><tr><td class='lc  ar '>997</td><td class='  al '>AMZN</td><td class='  ar '>1,011.89</td><td class='  al '>893.763->1117.956</td></tr><tr><td class='lc  ar '>998</td><td class='  al '>MSFT</td><td class='  ar '>984.06</td><td class='  al '>893.763->1117.956</td></tr><tr><td class='lc  ar '>999</td><td class='  al '>MSFT</td><td class='  ar '>907.39</td><td class='  al '>893.763->1117.956</td></tr></tbody></table></body></html>\n",
       "\n",
       "[1000 rows x 3 columns] total bytes: 12.8 KB"
      ],
      "text/plain": []
     },
     "execution_count": 116,
     "metadata": {},
     "output_type": "execute_result"
    }
   ],
   "source": [
    "ds2.PriceBucket = rt.cut(ds2.Price, 5)\n",
    "\n",
    "ds2"
   ]
  },
  {
   "cell_type": "markdown",
   "id": "3012a610",
   "metadata": {},
   "source": [
    "Notice that the buckets form the groups of a Categorical."
   ]
  },
  {
   "cell_type": "code",
   "execution_count": 117,
   "id": "e496d742",
   "metadata": {},
   "outputs": [
    {
     "data": {
      "text/plain": [
       "Categorical([-3.011->221.182, -3.011->221.182, -3.011->221.182, -3.011->221.182, -3.011->221.182, ..., 893.763->1117.956, 893.763->1117.956, 893.763->1117.956, 893.763->1117.956, 893.763->1117.956]) Length: 1000\n",
       "  FastArray([1, 1, 1, 1, 1, ..., 5, 5, 5, 5, 5], dtype=int8) Base Index: 1\n",
       "  FastArray([b'-3.011->221.182', b'221.182->445.376', b'445.376->669.569', b'669.569->893.763', b'893.763->1117.956'], dtype='|S17') Unique count: 5"
      ]
     },
     "execution_count": 117,
     "metadata": {},
     "output_type": "execute_result"
    }
   ],
   "source": [
    "ds2.PriceBucket"
   ]
  },
  {
   "cell_type": "markdown",
   "id": "1ed0dc73",
   "metadata": {},
   "source": [
    "To choose your own intervals, provide the endpoints. Here, we define bins that cover two intervals: one bin for prices from 0 to 500 (0 excluded), and one for prices from 500 to 1,000 (500 excluded)."
   ]
  },
  {
   "cell_type": "code",
   "execution_count": 118,
   "id": "5e0a7c65",
   "metadata": {},
   "outputs": [
    {
     "data": {
      "text/html": [
       "<html><head><style>table.tbl-488 tbody td{white-space: nowrap;}table.tbl-488 .lc{font-weight:bold;background-color: var( --jp-rendermime-table-row-hover-background);}table.tbl-488 .lg{background-color: #66da9940;}table.tbl-488 .lp{font-weight:bold;background-color: #ac66da40;}table.tbl-488 .msc{font-weight:normal;background-color:#00000011;}table.tbl-488 .al{text-align:left;}table.tbl-488 .ar{text-align:right;}table.tbl-488 .ac{text-align:center;}table.tbl-488 .bld{font-weight:bold;}table.tbl-488 .it{font-style:italic;}table.tbl-488 .ul{text-decoration:underline;}table.tbl-488 .st{text-decoration:line-through;}</style></head><body><table class='tbl-488'><thead><tr><td class='lc bld ar'>  #</td><td class='lc bld al'>Symbol</td><td class='lc bld ar'>   Price</td><td class='lc bld al'>PriceBucket      </td><td class='lc bld al'>PriceBucket2 </td></tr></thead><tbody><tr><td class='lc  ar '>0</td><td class='  al '>AMZN</td><td class='  ar '>93.87</td><td class='  al '>-3.011->221.182</td><td class='  al '>0.0->600.0</td></tr><tr><td class='lc  ar '>1</td><td class='  al '>AMZN</td><td class='  ar '>150.69</td><td class='  al '>-3.011->221.182</td><td class='  al '>0.0->600.0</td></tr><tr><td class='lc  ar '>2</td><td class='  al '>AAPL</td><td class='  ar '>154.76</td><td class='  al '>-3.011->221.182</td><td class='  al '>0.0->600.0</td></tr><tr><td class='lc  ar '>3</td><td class='  al '>MSFT</td><td class='  ar '>153.99</td><td class='  al '>-3.011->221.182</td><td class='  al '>0.0->600.0</td></tr><tr><td class='lc  ar '>4</td><td class='  al '>AMZN</td><td class='  ar '>105.55</td><td class='  al '>-3.011->221.182</td><td class='  al '>0.0->600.0</td></tr><tr><td class='lc  ar '>5</td><td class='  al '>AMZN</td><td class='  ar '>62.25</td><td class='  al '>-3.011->221.182</td><td class='  al '>0.0->600.0</td></tr><tr><td class='lc  ar '>6</td><td class='  al '>MSFT</td><td class='  ar '>51.22</td><td class='  al '>-3.011->221.182</td><td class='  al '>0.0->600.0</td></tr><tr><td class='lc  ar '>7</td><td class='  al '>AMZN</td><td class='  ar '>123.54</td><td class='  al '>-3.011->221.182</td><td class='  al '>0.0->600.0</td></tr><tr><td class='lc  ar '>8</td><td class='  al '>AAPL</td><td class='  ar '>126.17</td><td class='  al '>-3.011->221.182</td><td class='  al '>0.0->600.0</td></tr><tr><td class='lc  ar '>9</td><td class='  al '>AAPL</td><td class='  ar '>172.47</td><td class='  al '>-3.011->221.182</td><td class='  al '>0.0->600.0</td></tr><tr><td class='lc  ar '>10</td><td class='  al '>AAPL</td><td class='  ar '>164.01</td><td class='  al '>-3.011->221.182</td><td class='  al '>0.0->600.0</td></tr><tr><td class='lc  ar '>11</td><td class='  al '>MSFT</td><td class='  ar '>103.30</td><td class='  al '>-3.011->221.182</td><td class='  al '>0.0->600.0</td></tr><tr><td class='lc  ar '>12</td><td class='  al '>AAPL</td><td class='  ar '>48.60</td><td class='  al '>-3.011->221.182</td><td class='  al '>0.0->600.0</td></tr><tr><td class='lc  ar '>13</td><td class='  al '>AAPL</td><td class='  ar '>95.76</td><td class='  al '>-3.011->221.182</td><td class='  al '>0.0->600.0</td></tr><tr><td class='lc  ar '>14</td><td class='  al '>AMZN</td><td class='  ar '>123.47</td><td class='  al '>-3.011->221.182</td><td class='  al '>0.0->600.0</td></tr><tr><td class='lc  ar '>...</td><td class='  al '>...</td><td class='  ar '>...</td><td class='  al '>...</td><td class='  al '>...</td></tr><tr><td class='lc  ar '>985</td><td class='  al '>AMZN</td><td class='  ar '>1,027.85</td><td class='  al '>893.763->1117.956</td><td class='  al '>600.0->1200.0</td></tr><tr><td class='lc  ar '>986</td><td class='  al '>AAPL</td><td class='  ar '>993.06</td><td class='  al '>893.763->1117.956</td><td class='  al '>600.0->1200.0</td></tr><tr><td class='lc  ar '>987</td><td class='  al '>AMZN</td><td class='  ar '>867.37</td><td class='  al '>669.569->893.763</td><td class='  al '>600.0->1200.0</td></tr><tr><td class='lc  ar '>988</td><td class='  al '>AAPL</td><td class='  ar '>940.92</td><td class='  al '>893.763->1117.956</td><td class='  al '>600.0->1200.0</td></tr><tr><td class='lc  ar '>989</td><td class='  al '>AAPL</td><td class='  ar '>1,025.38</td><td class='  al '>893.763->1117.956</td><td class='  al '>600.0->1200.0</td></tr><tr><td class='lc  ar '>990</td><td class='  al '>MSFT</td><td class='  ar '>1,052.54</td><td class='  al '>893.763->1117.956</td><td class='  al '>600.0->1200.0</td></tr><tr><td class='lc  ar '>991</td><td class='  al '>AAPL</td><td class='  ar '>1,048.25</td><td class='  al '>893.763->1117.956</td><td class='  al '>600.0->1200.0</td></tr><tr><td class='lc  ar '>992</td><td class='  al '>AMZN</td><td class='  ar '>914.09</td><td class='  al '>893.763->1117.956</td><td class='  al '>600.0->1200.0</td></tr><tr><td class='lc  ar '>993</td><td class='  al '>AMZN</td><td class='  ar '>1,009.67</td><td class='  al '>893.763->1117.956</td><td class='  al '>600.0->1200.0</td></tr><tr><td class='lc  ar '>994</td><td class='  al '>AAPL</td><td class='  ar '>1,046.27</td><td class='  al '>893.763->1117.956</td><td class='  al '>600.0->1200.0</td></tr><tr><td class='lc  ar '>995</td><td class='  al '>AAPL</td><td class='  ar '>913.48</td><td class='  al '>893.763->1117.956</td><td class='  al '>600.0->1200.0</td></tr><tr><td class='lc  ar '>996</td><td class='  al '>AMZN</td><td class='  ar '>996.90</td><td class='  al '>893.763->1117.956</td><td class='  al '>600.0->1200.0</td></tr><tr><td class='lc  ar '>997</td><td class='  al '>AMZN</td><td class='  ar '>1,011.89</td><td class='  al '>893.763->1117.956</td><td class='  al '>600.0->1200.0</td></tr><tr><td class='lc  ar '>998</td><td class='  al '>MSFT</td><td class='  ar '>984.06</td><td class='  al '>893.763->1117.956</td><td class='  al '>600.0->1200.0</td></tr><tr><td class='lc  ar '>999</td><td class='  al '>MSFT</td><td class='  ar '>907.39</td><td class='  al '>893.763->1117.956</td><td class='  al '>600.0->1200.0</td></tr></tbody></table></body></html>\n",
       "\n",
       "[1000 rows x 4 columns] total bytes: 13.8 KB"
      ],
      "text/plain": []
     },
     "execution_count": 118,
     "metadata": {},
     "output_type": "execute_result"
    }
   ],
   "source": [
    "buckets = [0, 600, 1200]\n",
    "ds2.PriceBucket2 = rt.cut(ds2.Price, buckets)\n",
    "\n",
    "ds2"
   ]
  },
  {
   "cell_type": "markdown",
   "id": "90afbe33",
   "metadata": {},
   "source": [
    "In interval notation, the intervals look like this:\n",
    "(0, 600]\n",
    "(600, 1200]\n",
    "\n",
    "The left side of each interval is open (meaning the left value is excluded), and the right side is closed. To switch which side is closed, pass `right=False`.\n",
    "\n",
    "\n",
    "Use `qcut()` to get buckets based on sample quantiles. Unlike `cut()`, `qcut()` will usually result in buckets that are of roughly equal size -- that is, each bucket will contain around the same number of data points. \n",
    "\n",
    "We'll create a Dataset with symbol groups and contracts per day."
   ]
  },
  {
   "cell_type": "code",
   "execution_count": 119,
   "id": "f4ad1d78",
   "metadata": {},
   "outputs": [
    {
     "data": {
      "text/html": [
       "<html><head><style>table.tbl-3216 tbody td{white-space: nowrap;}table.tbl-3216 .lc{font-weight:bold;background-color: var( --jp-rendermime-table-row-hover-background);}table.tbl-3216 .lg{background-color: #66da9940;}table.tbl-3216 .lp{font-weight:bold;background-color: #ac66da40;}table.tbl-3216 .msc{font-weight:normal;background-color:#00000011;}table.tbl-3216 .al{text-align:left;}table.tbl-3216 .ar{text-align:right;}table.tbl-3216 .ac{text-align:center;}table.tbl-3216 .bld{font-weight:bold;}table.tbl-3216 .it{font-style:italic;}table.tbl-3216 .ul{text-decoration:underline;}table.tbl-3216 .st{text-decoration:line-through;}</style></head><body><table class='tbl-3216'><thead><tr><td class='lc bld ar'> #</td><td class='lc bld al'>SymbolGroup</td><td class='lc bld ar'>ContractsPerDay</td></tr></thead><tbody><tr><td class='lc  ar '>0</td><td class='  al '>eqt300</td><td class='  ar '>1,624</td></tr><tr><td class='lc  ar '>1</td><td class='  al '>spx</td><td class='  ar '>851</td></tr><tr><td class='lc  ar '>2</td><td class='  al '>spx</td><td class='  ar '>3,487</td></tr><tr><td class='lc  ar '>3</td><td class='  al '>eqt300</td><td class='  ar '>345</td></tr><tr><td class='lc  ar '>4</td><td class='  al '>eqtrest</td><td class='  ar '>2,584</td></tr><tr><td class='lc  ar '>5</td><td class='  al '>spx</td><td class='  ar '>3,639</td></tr><tr><td class='lc  ar '>6</td><td class='  al '>spx</td><td class='  ar '>4,741</td></tr><tr><td class='lc  ar '>7</td><td class='  al '>eqtrest</td><td class='  ar '>1,440</td></tr><tr><td class='lc  ar '>8</td><td class='  al '>eqtrest</td><td class='  ar '>39</td></tr><tr><td class='lc  ar '>9</td><td class='  al '>spx</td><td class='  ar '>3,618</td></tr><tr><td class='lc  ar '>10</td><td class='  al '>eqt_comp</td><td class='  ar '>7</td></tr><tr><td class='lc  ar '>11</td><td class='  al '>eqt300</td><td class='  ar '>331</td></tr><tr><td class='lc  ar '>12</td><td class='  al '>spx</td><td class='  ar '>4,952</td></tr><tr><td class='lc  ar '>13</td><td class='  al '>eqt_comp</td><td class='  ar '>4,312</td></tr><tr><td class='lc  ar '>14</td><td class='  al '>eqt_comp</td><td class='  ar '>3,537</td></tr><tr><td class='lc  ar '>15</td><td class='  al '>eqt300</td><td class='  ar '>4,177</td></tr><tr><td class='lc  ar '>16</td><td class='  al '>eqt_comp</td><td class='  ar '>376</td></tr><tr><td class='lc  ar '>17</td><td class='  al '>eqt_comp</td><td class='  ar '>444</td></tr><tr><td class='lc  ar '>18</td><td class='  al '>eqt_comp</td><td class='  ar '>1,504</td></tr><tr><td class='lc  ar '>19</td><td class='  al '>eqtrest</td><td class='  ar '>118</td></tr></tbody></table></body></html>\n",
       "\n",
       "[20 rows x 2 columns] total bytes: 320.0 B"
      ],
      "text/plain": []
     },
     "execution_count": 119,
     "metadata": {},
     "output_type": "execute_result"
    }
   ],
   "source": [
    "N = 1_000\n",
    "\n",
    "ds3 = rt.Dataset()\n",
    "ds3.SymbolGroup = rt.FA(rng.choice(['spx', 'eqt_comp', 'eqt300', 'eqtrest'], N))\n",
    "ds3.ContractsPerDay = rng.integers(low=0, high=5_000, size=N)\n",
    "\n",
    "ds3.head()"
   ]
  },
  {
   "cell_type": "markdown",
   "id": "f38cd589",
   "metadata": {},
   "source": [
    "Create three labeled buckets for the volume."
   ]
  },
  {
   "cell_type": "code",
   "execution_count": 120,
   "id": "038f11f5",
   "metadata": {},
   "outputs": [
    {
     "data": {
      "text/html": [
       "<html><head><style>table.tbl-4430 tbody td{white-space: nowrap;}table.tbl-4430 .lc{font-weight:bold;background-color: var( --jp-rendermime-table-row-hover-background);}table.tbl-4430 .lg{background-color: #66da9940;}table.tbl-4430 .lp{font-weight:bold;background-color: #ac66da40;}table.tbl-4430 .msc{font-weight:normal;background-color:#00000011;}table.tbl-4430 .al{text-align:left;}table.tbl-4430 .ar{text-align:right;}table.tbl-4430 .ac{text-align:center;}table.tbl-4430 .bld{font-weight:bold;}table.tbl-4430 .it{font-style:italic;}table.tbl-4430 .ul{text-decoration:underline;}table.tbl-4430 .st{text-decoration:line-through;}</style></head><body><table class='tbl-4430'><thead><tr><td class='lc bld ar'> #</td><td class='lc bld al'>SymbolGroup</td><td class='lc bld ar'>ContractsPerDay</td><td class='lc bld al'>Volume</td></tr></thead><tbody><tr><td class='lc  ar '>0</td><td class='  al '>eqt300</td><td class='  ar '>1,624</td><td class='  al '>Low</td></tr><tr><td class='lc  ar '>1</td><td class='  al '>spx</td><td class='  ar '>851</td><td class='  al '>Low</td></tr><tr><td class='lc  ar '>2</td><td class='  al '>spx</td><td class='  ar '>3,487</td><td class='  al '>High</td></tr><tr><td class='lc  ar '>3</td><td class='  al '>eqt300</td><td class='  ar '>345</td><td class='  al '>Low</td></tr><tr><td class='lc  ar '>4</td><td class='  al '>eqtrest</td><td class='  ar '>2,584</td><td class='  al '>Medium</td></tr><tr><td class='lc  ar '>5</td><td class='  al '>spx</td><td class='  ar '>3,639</td><td class='  al '>High</td></tr><tr><td class='lc  ar '>6</td><td class='  al '>spx</td><td class='  ar '>4,741</td><td class='  al '>High</td></tr><tr><td class='lc  ar '>7</td><td class='  al '>eqtrest</td><td class='  ar '>1,440</td><td class='  al '>Low</td></tr><tr><td class='lc  ar '>8</td><td class='  al '>eqtrest</td><td class='  ar '>39</td><td class='  al '>Low</td></tr><tr><td class='lc  ar '>9</td><td class='  al '>spx</td><td class='  ar '>3,618</td><td class='  al '>High</td></tr><tr><td class='lc  ar '>10</td><td class='  al '>eqt_comp</td><td class='  ar '>7</td><td class='  al '>Low</td></tr><tr><td class='lc  ar '>11</td><td class='  al '>eqt300</td><td class='  ar '>331</td><td class='  al '>Low</td></tr><tr><td class='lc  ar '>12</td><td class='  al '>spx</td><td class='  ar '>4,952</td><td class='  al '>High</td></tr><tr><td class='lc  ar '>13</td><td class='  al '>eqt_comp</td><td class='  ar '>4,312</td><td class='  al '>High</td></tr><tr><td class='lc  ar '>14</td><td class='  al '>eqt_comp</td><td class='  ar '>3,537</td><td class='  al '>High</td></tr><tr><td class='lc  ar '>15</td><td class='  al '>eqt300</td><td class='  ar '>4,177</td><td class='  al '>High</td></tr><tr><td class='lc  ar '>16</td><td class='  al '>eqt_comp</td><td class='  ar '>376</td><td class='  al '>Low</td></tr><tr><td class='lc  ar '>17</td><td class='  al '>eqt_comp</td><td class='  ar '>444</td><td class='  al '>Low</td></tr><tr><td class='lc  ar '>18</td><td class='  al '>eqt_comp</td><td class='  ar '>1,504</td><td class='  al '>Low</td></tr><tr><td class='lc  ar '>19</td><td class='  al '>eqtrest</td><td class='  ar '>118</td><td class='  al '>Low</td></tr></tbody></table></body></html>\n",
       "\n",
       "[20 rows x 3 columns] total bytes: 368.0 B"
      ],
      "text/plain": []
     },
     "execution_count": 120,
     "metadata": {},
     "output_type": "execute_result"
    }
   ],
   "source": [
    "label_names = ['Low', 'Medium', 'High']\n",
    "ds3.Volume = rt.qcut(ds3.ContractsPerDay, 3, labels=label_names)\n",
    "\n",
    "ds3.head()"
   ]
  },
  {
   "cell_type": "markdown",
   "id": "bf3061f9",
   "metadata": {},
   "source": [
    "See the total number of contracts per day for each bucket.\n",
    "\n",
    "<!-- CJ Q: What is the Clipped category? -->"
   ]
  },
  {
   "cell_type": "code",
   "execution_count": 121,
   "id": "94e47a91",
   "metadata": {},
   "outputs": [
    {
     "data": {
      "text/html": [
       "<html><head><style>table.tbl-9332 tbody td{white-space: nowrap;}table.tbl-9332 .lc{font-weight:bold;background-color: var( --jp-rendermime-table-row-hover-background);}table.tbl-9332 .lg{background-color: #66da9940;}table.tbl-9332 .lp{font-weight:bold;background-color: #ac66da40;}table.tbl-9332 .msc{font-weight:normal;background-color:#00000011;}table.tbl-9332 .al{text-align:left;}table.tbl-9332 .ar{text-align:right;}table.tbl-9332 .ac{text-align:center;}table.tbl-9332 .bld{font-weight:bold;}table.tbl-9332 .it{font-style:italic;}table.tbl-9332 .ul{text-decoration:underline;}table.tbl-9332 .st{text-decoration:line-through;}</style></head><body><table class='tbl-9332'><thead><tr><td class='lg bld al'>*Volume</td><td class='lc bld ar'>ContractsPerDay</td></tr></thead><tbody><tr><td class='lg  al '>Clipped</td><td class='  ar '>0</td></tr><tr><td class='lg  al '>Low</td><td class='  ar '>287,043</td></tr><tr><td class='lg  al '>Medium</td><td class='  ar '>850,758</td></tr><tr><td class='lg  al '>High</td><td class='  ar '>1,392,177</td></tr></tbody></table></body></html>\n",
       "\n",
       "[4 rows x 2 columns] total bytes: 60.0 B"
      ],
      "text/plain": []
     },
     "execution_count": 121,
     "metadata": {},
     "output_type": "execute_result"
    }
   ],
   "source": [
    "ds3.Volume.nansum(ds3.ContractsPerDay)"
   ]
  },
  {
   "cell_type": "markdown",
   "id": "5e5936e9",
   "metadata": {},
   "source": [
    "Similarly to `cut()`, `qcut()` can take a list of quantiles (numbers between 0 and 1, inclusive). Here, we create quartiles."
   ]
  },
  {
   "cell_type": "code",
   "execution_count": 122,
   "id": "1b0884ad",
   "metadata": {},
   "outputs": [
    {
     "data": {
      "text/html": [
       "<html><head><style>table.tbl-4883 tbody td{white-space: nowrap;}table.tbl-4883 .lc{font-weight:bold;background-color: var( --jp-rendermime-table-row-hover-background);}table.tbl-4883 .lg{background-color: #66da9940;}table.tbl-4883 .lp{font-weight:bold;background-color: #ac66da40;}table.tbl-4883 .msc{font-weight:normal;background-color:#00000011;}table.tbl-4883 .al{text-align:left;}table.tbl-4883 .ar{text-align:right;}table.tbl-4883 .ac{text-align:center;}table.tbl-4883 .bld{font-weight:bold;}table.tbl-4883 .it{font-style:italic;}table.tbl-4883 .ul{text-decoration:underline;}table.tbl-4883 .st{text-decoration:line-through;}</style></head><body><table class='tbl-4883'><thead><tr><td class='lc bld ar'> #</td><td class='lc bld al'>SymbolGroup</td><td class='lc bld ar'>ContractsPerDay</td><td class='lc bld al'>Volume</td><td class='lc bld al'>VolQuartiles   </td></tr></thead><tbody><tr><td class='lc  ar '>0</td><td class='  al '>eqt300</td><td class='  ar '>1,624</td><td class='  al '>Low</td><td class='  al '>1273.75->2601.0</td></tr><tr><td class='lc  ar '>1</td><td class='  al '>spx</td><td class='  ar '>851</td><td class='  al '>Low</td><td class='  al '>0.0->1273.75</td></tr><tr><td class='lc  ar '>2</td><td class='  al '>spx</td><td class='  ar '>3,487</td><td class='  al '>High</td><td class='  al '>2601.0->3793.0</td></tr><tr><td class='lc  ar '>3</td><td class='  al '>eqt300</td><td class='  ar '>345</td><td class='  al '>Low</td><td class='  al '>0.0->1273.75</td></tr><tr><td class='lc  ar '>4</td><td class='  al '>eqtrest</td><td class='  ar '>2,584</td><td class='  al '>Medium</td><td class='  al '>1273.75->2601.0</td></tr><tr><td class='lc  ar '>5</td><td class='  al '>spx</td><td class='  ar '>3,639</td><td class='  al '>High</td><td class='  al '>2601.0->3793.0</td></tr><tr><td class='lc  ar '>6</td><td class='  al '>spx</td><td class='  ar '>4,741</td><td class='  al '>High</td><td class='  al '>3793.0->4991.0</td></tr><tr><td class='lc  ar '>7</td><td class='  al '>eqtrest</td><td class='  ar '>1,440</td><td class='  al '>Low</td><td class='  al '>1273.75->2601.0</td></tr><tr><td class='lc  ar '>8</td><td class='  al '>eqtrest</td><td class='  ar '>39</td><td class='  al '>Low</td><td class='  al '>0.0->1273.75</td></tr><tr><td class='lc  ar '>9</td><td class='  al '>spx</td><td class='  ar '>3,618</td><td class='  al '>High</td><td class='  al '>2601.0->3793.0</td></tr><tr><td class='lc  ar '>10</td><td class='  al '>eqt_comp</td><td class='  ar '>7</td><td class='  al '>Low</td><td class='  al '>0.0->1273.75</td></tr><tr><td class='lc  ar '>11</td><td class='  al '>eqt300</td><td class='  ar '>331</td><td class='  al '>Low</td><td class='  al '>0.0->1273.75</td></tr><tr><td class='lc  ar '>12</td><td class='  al '>spx</td><td class='  ar '>4,952</td><td class='  al '>High</td><td class='  al '>3793.0->4991.0</td></tr><tr><td class='lc  ar '>13</td><td class='  al '>eqt_comp</td><td class='  ar '>4,312</td><td class='  al '>High</td><td class='  al '>3793.0->4991.0</td></tr><tr><td class='lc  ar '>14</td><td class='  al '>eqt_comp</td><td class='  ar '>3,537</td><td class='  al '>High</td><td class='  al '>2601.0->3793.0</td></tr><tr><td class='lc  ar '>15</td><td class='  al '>eqt300</td><td class='  ar '>4,177</td><td class='  al '>High</td><td class='  al '>3793.0->4991.0</td></tr><tr><td class='lc  ar '>16</td><td class='  al '>eqt_comp</td><td class='  ar '>376</td><td class='  al '>Low</td><td class='  al '>0.0->1273.75</td></tr><tr><td class='lc  ar '>17</td><td class='  al '>eqt_comp</td><td class='  ar '>444</td><td class='  al '>Low</td><td class='  al '>0.0->1273.75</td></tr><tr><td class='lc  ar '>18</td><td class='  al '>eqt_comp</td><td class='  ar '>1,504</td><td class='  al '>Low</td><td class='  al '>1273.75->2601.0</td></tr><tr><td class='lc  ar '>19</td><td class='  al '>eqtrest</td><td class='  ar '>118</td><td class='  al '>Low</td><td class='  al '>0.0->1273.75</td></tr></tbody></table></body></html>\n",
       "\n",
       "[20 rows x 4 columns] total bytes: 463.0 B"
      ],
      "text/plain": []
     },
     "execution_count": 122,
     "metadata": {},
     "output_type": "execute_result"
    }
   ],
   "source": [
    "quartiles = [0, .25, .5, .75, 1.]\n",
    "ds3.VolQuartiles = rt.qcut(ds3.ContractsPerDay, quartiles)\n",
    "\n",
    "ds3.head()"
   ]
  },
  {
   "cell_type": "markdown",
   "id": "e4fdec28-b129-4bc0-9141-0919fbee0b1a",
   "metadata": {},
   "source": [
    "<a name=\"group-apply\"></a>\n",
    "\n",
    "## Per-Group Calculations with Other Functions\n",
    "\n",
    "Categoricals support most common functions. For functions that aren't supported (for example, a function you've written), you can use `apply_reduce()` to apply a reducing function and `apply_nonreduce()` to apply a non-reducing function.\n",
    "\n",
    "\n",
    "### `apply_reduce()`\n",
    "\n",
    "The function you use with `apply_reduce()` can take in one or multiple columns/FastArrays as input (as long as the function you want to use can take multiple columns as arguments), but it must return a single value. \n",
    "\n",
    "To illustrate, we'll use `apply_reduce()` with two simple lambda functions that each return one value. (A lambda function is an anonymous function that consists of a single statement and gives back a return value. When you have a function that takes a function as an argument, using a lambda function as the argument can be simpler and clearer than defining a function separately.)"
   ]
  },
  {
   "cell_type": "markdown",
   "id": "2c06f61e-3000-4fc6-9a59-ef1d776aa1d9",
   "metadata": {},
   "source": [
    "First, we'll create a new Dataset."
   ]
  },
  {
   "cell_type": "code",
   "execution_count": 123,
   "id": "791e53bc-4d8f-4868-a68d-fd4ef74bed7a",
   "metadata": {},
   "outputs": [
    {
     "data": {
      "text/html": [
       "<html><head><style>table.tbl-5441 tbody td{white-space: nowrap;}table.tbl-5441 .lc{font-weight:bold;background-color: var( --jp-rendermime-table-row-hover-background);}table.tbl-5441 .lg{background-color: #66da9940;}table.tbl-5441 .lp{font-weight:bold;background-color: #ac66da40;}table.tbl-5441 .msc{font-weight:normal;background-color:#00000011;}table.tbl-5441 .al{text-align:left;}table.tbl-5441 .ar{text-align:right;}table.tbl-5441 .ac{text-align:center;}table.tbl-5441 .bld{font-weight:bold;}table.tbl-5441 .it{font-style:italic;}table.tbl-5441 .ul{text-decoration:underline;}table.tbl-5441 .st{text-decoration:line-through;}</style></head><body><table class='tbl-5441'><thead><tr><td class='lc bld ar'>#</td><td class='lc bld al'>Symbol</td><td class='lc bld ar'>Value</td><td class='lc bld ar'>Value2</td></tr></thead><tbody><tr><td class='lc  ar '>0</td><td class='  al '>TSLA</td><td class='  ar '>3.62</td><td class='  ar '>7.24</td></tr><tr><td class='lc  ar '>1</td><td class='  al '>AMZN</td><td class='  ar '>2.03</td><td class='  ar '>4.05</td></tr><tr><td class='lc  ar '>2</td><td class='  al '>AMZN</td><td class='  ar '>11.85</td><td class='  ar '>23.70</td></tr><tr><td class='lc  ar '>3</td><td class='  al '>GME</td><td class='  ar '>40.13</td><td class='  ar '>80.26</td></tr><tr><td class='lc  ar '>4</td><td class='  al '>TSLA</td><td class='  ar '>0.10</td><td class='  ar '>0.20</td></tr><tr><td class='lc  ar '>5</td><td class='  al '>AAPL</td><td class='  ar '>9.36</td><td class='  ar '>18.71</td></tr><tr><td class='lc  ar '>6</td><td class='  al '>AMZN</td><td class='  ar '>2.42</td><td class='  ar '>4.85</td></tr><tr><td class='lc  ar '>7</td><td class='  al '>AMZN</td><td class='  ar '>94.14</td><td class='  ar '>188.27</td></tr><tr><td class='lc  ar '>8</td><td class='  al '>AMZN</td><td class='  ar '>8.84</td><td class='  ar '>17.69</td></tr><tr><td class='lc  ar '>9</td><td class='  al '>TSLA</td><td class='  ar '>20.40</td><td class='  ar '>40.80</td></tr></tbody></table></body></html>\n",
       "\n",
       "[10 rows x 3 columns] total bytes: 190.0 B"
      ],
      "text/plain": []
     },
     "execution_count": 123,
     "metadata": {},
     "output_type": "execute_result"
    }
   ],
   "source": [
    "N = 50\n",
    "\n",
    "ds = rt.Dataset()\n",
    "ds.Symbol = rt.Cat(rng.choice(['AAPL', 'AMZN', 'TSLA', 'SPY', 'GME'], N))\n",
    "ds.Value = rng.random(N) * 100\n",
    "ds.Value2 = ds.Value * 2\n",
    "\n",
    "ds.sample()"
   ]
  },
  {
   "cell_type": "markdown",
   "id": "d0d357c8-7a33-493d-8544-e5722708bd82",
   "metadata": {},
   "source": [
    "The first lambda function takes one column as input."
   ]
  },
  {
   "cell_type": "code",
   "execution_count": 124,
   "id": "67a5d615",
   "metadata": {},
   "outputs": [
    {
     "data": {
      "text/html": [
       "<html><head><style>table.tbl-9484 tbody td{white-space: nowrap;}table.tbl-9484 .lc{font-weight:bold;background-color: var( --jp-rendermime-table-row-hover-background);}table.tbl-9484 .lg{background-color: #66da9940;}table.tbl-9484 .lp{font-weight:bold;background-color: #ac66da40;}table.tbl-9484 .msc{font-weight:normal;background-color:#00000011;}table.tbl-9484 .al{text-align:left;}table.tbl-9484 .ar{text-align:right;}table.tbl-9484 .ac{text-align:center;}table.tbl-9484 .bld{font-weight:bold;}table.tbl-9484 .it{font-style:italic;}table.tbl-9484 .ul{text-decoration:underline;}table.tbl-9484 .st{text-decoration:line-through;}</style></head><body><table class='tbl-9484'><thead><tr><td class='lg bld al'>*Symbol</td><td class='lc bld ar'>Value</td></tr></thead><tbody><tr><td class='lg  al '>AAPL</td><td class='  ar '>11.36</td></tr><tr><td class='lg  al '>AMZN</td><td class='  ar '>4.03</td></tr><tr><td class='lg  al '>GME</td><td class='  ar '>16.65</td></tr><tr><td class='lg  al '>SPY</td><td class='  ar '>7.76</td></tr><tr><td class='lg  al '>TSLA</td><td class='  ar '>2.10</td></tr></tbody></table></body></html>\n",
       "\n",
       "[5 rows x 2 columns] total bytes: 60.0 B"
      ],
      "text/plain": []
     },
     "execution_count": 124,
     "metadata": {},
     "output_type": "execute_result"
    }
   ],
   "source": [
    "# ds.Value becomes the 'x' in our lambda function\n",
    "ds.Symbol.apply_reduce(lambda x: x.min() + 2, ds.Value)"
   ]
  },
  {
   "cell_type": "markdown",
   "id": "7dcda24b",
   "metadata": {},
   "source": [
    "Note that because we're operating on a Categorical, the functions actually return one value *for each group*.\n",
    "\n",
    "Our second lambda function takes two columns as input."
   ]
  },
  {
   "cell_type": "code",
   "execution_count": 125,
   "id": "06a96410",
   "metadata": {},
   "outputs": [
    {
     "data": {
      "text/html": [
       "<html><head><style>table.tbl-3823 tbody td{white-space: nowrap;}table.tbl-3823 .lc{font-weight:bold;background-color: var( --jp-rendermime-table-row-hover-background);}table.tbl-3823 .lg{background-color: #66da9940;}table.tbl-3823 .lp{font-weight:bold;background-color: #ac66da40;}table.tbl-3823 .msc{font-weight:normal;background-color:#00000011;}table.tbl-3823 .al{text-align:left;}table.tbl-3823 .ar{text-align:right;}table.tbl-3823 .ac{text-align:center;}table.tbl-3823 .bld{font-weight:bold;}table.tbl-3823 .it{font-style:italic;}table.tbl-3823 .ul{text-decoration:underline;}table.tbl-3823 .st{text-decoration:line-through;}</style></head><body><table class='tbl-3823'><thead><tr><td class='lg bld al'>*Symbol</td><td class='lc bld ar'>    Value</td></tr></thead><tbody><tr><td class='lg  al '>AAPL</td><td class='  ar '>26,904.13</td></tr><tr><td class='lg  al '>AMZN</td><td class='  ar '>39,400.64</td></tr><tr><td class='lg  al '>GME</td><td class='  ar '>26,857.53</td></tr><tr><td class='lg  al '>SPY</td><td class='  ar '>32,560.75</td></tr><tr><td class='lg  al '>TSLA</td><td class='  ar '>74,124.69</td></tr></tbody></table></body></html>\n",
       "\n",
       "[5 rows x 2 columns] total bytes: 60.0 B"
      ],
      "text/plain": []
     },
     "execution_count": 125,
     "metadata": {},
     "output_type": "execute_result"
    }
   ],
   "source": [
    "ds.Symbol.apply_reduce(lambda x, y: x.sum() * y.mean(), (ds.Value, ds.Value2))"
   ]
  },
  {
   "cell_type": "markdown",
   "id": "b8cda925",
   "metadata": {},
   "source": [
    "Also note that in this example, the first column listed in the tuple is the column name shown in the output.\n",
    "\n",
    "If you like, you can use `transform=True` to expand the results and assign them to a column."
   ]
  },
  {
   "cell_type": "code",
   "execution_count": 126,
   "id": "c10c68d4",
   "metadata": {},
   "outputs": [
    {
     "data": {
      "text/html": [
       "<html><head><style>table.tbl-4598 tbody td{white-space: nowrap;}table.tbl-4598 .lc{font-weight:bold;background-color: var( --jp-rendermime-table-row-hover-background);}table.tbl-4598 .lg{background-color: #66da9940;}table.tbl-4598 .lp{font-weight:bold;background-color: #ac66da40;}table.tbl-4598 .msc{font-weight:normal;background-color:#00000011;}table.tbl-4598 .al{text-align:left;}table.tbl-4598 .ar{text-align:right;}table.tbl-4598 .ac{text-align:center;}table.tbl-4598 .bld{font-weight:bold;}table.tbl-4598 .it{font-style:italic;}table.tbl-4598 .ul{text-decoration:underline;}table.tbl-4598 .st{text-decoration:line-through;}</style></head><body><table class='tbl-4598'><thead><tr><td class='lc bld ar'>  #</td><td class='lc bld al'>Symbol</td><td class='lc bld ar'>Value</td><td class='lc bld ar'>Value2</td><td class='lc bld ar'>MyCalc1</td><td class='lc bld ar'>  MyCalc2</td></tr></thead><tbody><tr><td class='lc  ar '>0</td><td class='  al '>AAPL</td><td class='  ar '>12.39</td><td class='  ar '>24.77</td><td class='  ar '>11.36</td><td class='  ar '>26,904.13</td></tr><tr><td class='lc  ar '>1</td><td class='  al '>SPY</td><td class='  ar '>41.04</td><td class='  ar '>82.09</td><td class='  ar '>7.76</td><td class='  ar '>32,560.75</td></tr><tr><td class='lc  ar '>2</td><td class='  al '>AMZN</td><td class='  ar '>55.69</td><td class='  ar '>111.39</td><td class='  ar '>4.03</td><td class='  ar '>39,400.64</td></tr><tr><td class='lc  ar '>3</td><td class='  al '>TSLA</td><td class='  ar '>93.07</td><td class='  ar '>186.14</td><td class='  ar '>2.10</td><td class='  ar '>74,124.69</td></tr><tr><td class='lc  ar '>4</td><td class='  al '>TSLA</td><td class='  ar '>3.62</td><td class='  ar '>7.24</td><td class='  ar '>2.10</td><td class='  ar '>74,124.69</td></tr><tr><td class='lc  ar '>5</td><td class='  al '>TSLA</td><td class='  ar '>62.15</td><td class='  ar '>124.29</td><td class='  ar '>2.10</td><td class='  ar '>74,124.69</td></tr><tr><td class='lc  ar '>6</td><td class='  al '>SPY</td><td class='  ar '>45.77</td><td class='  ar '>91.55</td><td class='  ar '>7.76</td><td class='  ar '>32,560.75</td></tr><tr><td class='lc  ar '>7</td><td class='  al '>AMZN</td><td class='  ar '>2.03</td><td class='  ar '>4.05</td><td class='  ar '>4.03</td><td class='  ar '>39,400.64</td></tr><tr><td class='lc  ar '>8</td><td class='  al '>SPY</td><td class='  ar '>24.95</td><td class='  ar '>49.91</td><td class='  ar '>7.76</td><td class='  ar '>32,560.75</td></tr><tr><td class='lc  ar '>9</td><td class='  al '>AMZN</td><td class='  ar '>11.85</td><td class='  ar '>23.70</td><td class='  ar '>4.03</td><td class='  ar '>39,400.64</td></tr><tr><td class='lc  ar '>10</td><td class='  al '>AMZN</td><td class='  ar '>21.68</td><td class='  ar '>43.36</td><td class='  ar '>4.03</td><td class='  ar '>39,400.64</td></tr><tr><td class='lc  ar '>11</td><td class='  al '>TSLA</td><td class='  ar '>27.46</td><td class='  ar '>54.91</td><td class='  ar '>2.10</td><td class='  ar '>74,124.69</td></tr><tr><td class='lc  ar '>12</td><td class='  al '>GME</td><td class='  ar '>40.13</td><td class='  ar '>80.26</td><td class='  ar '>16.65</td><td class='  ar '>26,857.53</td></tr><tr><td class='lc  ar '>13</td><td class='  al '>AMZN</td><td class='  ar '>52.90</td><td class='  ar '>105.81</td><td class='  ar '>4.03</td><td class='  ar '>39,400.64</td></tr><tr><td class='lc  ar '>14</td><td class='  al '>TSLA</td><td class='  ar '>0.10</td><td class='  ar '>0.20</td><td class='  ar '>2.10</td><td class='  ar '>74,124.69</td></tr><tr><td class='lc  ar '>...</td><td class='  al '>...</td><td class='  ar '>...</td><td class='  ar '>...</td><td class='  ar '>...</td><td class='  ar '>...</td></tr><tr><td class='lc  ar '>35</td><td class='  al '>TSLA</td><td class='  ar '>38.40</td><td class='  ar '>76.79</td><td class='  ar '>2.10</td><td class='  ar '>74,124.69</td></tr><tr><td class='lc  ar '>36</td><td class='  al '>AAPL</td><td class='  ar '>93.12</td><td class='  ar '>186.25</td><td class='  ar '>11.36</td><td class='  ar '>26,904.13</td></tr><tr><td class='lc  ar '>37</td><td class='  al '>SPY</td><td class='  ar '>14.92</td><td class='  ar '>29.85</td><td class='  ar '>7.76</td><td class='  ar '>32,560.75</td></tr><tr><td class='lc  ar '>38</td><td class='  al '>AAPL</td><td class='  ar '>99.71</td><td class='  ar '>199.41</td><td class='  ar '>11.36</td><td class='  ar '>26,904.13</td></tr><tr><td class='lc  ar '>39</td><td class='  al '>TSLA</td><td class='  ar '>37.91</td><td class='  ar '>75.83</td><td class='  ar '>2.10</td><td class='  ar '>74,124.69</td></tr><tr><td class='lc  ar '>40</td><td class='  al '>GME</td><td class='  ar '>64.88</td><td class='  ar '>129.75</td><td class='  ar '>16.65</td><td class='  ar '>26,857.53</td></tr><tr><td class='lc  ar '>41</td><td class='  al '>TSLA</td><td class='  ar '>96.79</td><td class='  ar '>193.58</td><td class='  ar '>2.10</td><td class='  ar '>74,124.69</td></tr><tr><td class='lc  ar '>42</td><td class='  al '>SPY</td><td class='  ar '>5.76</td><td class='  ar '>11.52</td><td class='  ar '>7.76</td><td class='  ar '>32,560.75</td></tr><tr><td class='lc  ar '>43</td><td class='  al '>TSLA</td><td class='  ar '>92.29</td><td class='  ar '>184.57</td><td class='  ar '>2.10</td><td class='  ar '>74,124.69</td></tr><tr><td class='lc  ar '>44</td><td class='  al '>AMZN</td><td class='  ar '>56.78</td><td class='  ar '>113.56</td><td class='  ar '>4.03</td><td class='  ar '>39,400.64</td></tr><tr><td class='lc  ar '>45</td><td class='  al '>AMZN</td><td class='  ar '>70.44</td><td class='  ar '>140.88</td><td class='  ar '>4.03</td><td class='  ar '>39,400.64</td></tr><tr><td class='lc  ar '>46</td><td class='  al '>TSLA</td><td class='  ar '>14.92</td><td class='  ar '>29.84</td><td class='  ar '>2.10</td><td class='  ar '>74,124.69</td></tr><tr><td class='lc  ar '>47</td><td class='  al '>AAPL</td><td class='  ar '>53.34</td><td class='  ar '>106.68</td><td class='  ar '>11.36</td><td class='  ar '>26,904.13</td></tr><tr><td class='lc  ar '>48</td><td class='  al '>TSLA</td><td class='  ar '>67.35</td><td class='  ar '>134.70</td><td class='  ar '>2.10</td><td class='  ar '>74,124.69</td></tr><tr><td class='lc  ar '>49</td><td class='  al '>TSLA</td><td class='  ar '>45.62</td><td class='  ar '>91.25</td><td class='  ar '>2.10</td><td class='  ar '>74,124.69</td></tr></tbody></table></body></html>\n",
       "\n",
       "[50 rows x 5 columns] total bytes: 1.6 KB"
      ],
      "text/plain": []
     },
     "execution_count": 126,
     "metadata": {},
     "output_type": "execute_result"
    }
   ],
   "source": [
    "ds.MyCalc1 = ds.Symbol.apply_reduce(lambda x: x.min() + 2, ds.Value, transform=True)\n",
    "ds.MyCalc2 = ds.Symbol.apply_reduce(lambda x, y: x.sum() * y.mean(), (ds.Value, ds.Value2), transform=True)\n",
    "\n",
    "ds"
   ]
  },
  {
   "cell_type": "markdown",
   "id": "6bb072c8",
   "metadata": {},
   "source": [
    "As expected, every instance of a category gets the same value.\n",
    "\n",
    "\n",
    "### `apply_nonreduce()`\n",
    "\n",
    "For `apply_nonreduce()`, our lambda function computes a new value for every element of the original input."
   ]
  },
  {
   "cell_type": "code",
   "execution_count": 127,
   "id": "0ee2de54",
   "metadata": {},
   "outputs": [
    {
     "data": {
      "text/html": [
       "<html><head><style>table.tbl-6738 tbody td{white-space: nowrap;}table.tbl-6738 .lc{font-weight:bold;background-color: var( --jp-rendermime-table-row-hover-background);}table.tbl-6738 .lg{background-color: #66da9940;}table.tbl-6738 .lp{font-weight:bold;background-color: #ac66da40;}table.tbl-6738 .msc{font-weight:normal;background-color:#00000011;}table.tbl-6738 .al{text-align:left;}table.tbl-6738 .ar{text-align:right;}table.tbl-6738 .ac{text-align:center;}table.tbl-6738 .bld{font-weight:bold;}table.tbl-6738 .it{font-style:italic;}table.tbl-6738 .ul{text-decoration:underline;}table.tbl-6738 .st{text-decoration:line-through;}</style></head><body><table class='tbl-6738'><thead><tr><td class='lc bld ar'>  #</td><td class='lc bld al'>Symbol</td><td class='lc bld ar'>Value</td><td class='lc bld ar'>Value2</td><td class='lc bld ar'>MyCalc1</td><td class='lc bld ar'>  MyCalc2</td><td class='lc bld ar'>MyCalc3</td></tr></thead><tbody><tr><td class='lc  ar '>0</td><td class='  al '>AAPL</td><td class='  ar '>12.39</td><td class='  ar '>24.77</td><td class='  ar '>11.36</td><td class='  ar '>26,904.13</td><td class='  ar '>14.39</td></tr><tr><td class='lc  ar '>1</td><td class='  al '>SPY</td><td class='  ar '>41.04</td><td class='  ar '>82.09</td><td class='  ar '>7.76</td><td class='  ar '>32,560.75</td><td class='  ar '>43.04</td></tr><tr><td class='lc  ar '>2</td><td class='  al '>AMZN</td><td class='  ar '>55.69</td><td class='  ar '>111.39</td><td class='  ar '>4.03</td><td class='  ar '>39,400.64</td><td class='  ar '>57.69</td></tr><tr><td class='lc  ar '>3</td><td class='  al '>TSLA</td><td class='  ar '>93.07</td><td class='  ar '>186.14</td><td class='  ar '>2.10</td><td class='  ar '>74,124.69</td><td class='  ar '>95.07</td></tr><tr><td class='lc  ar '>4</td><td class='  al '>TSLA</td><td class='  ar '>3.62</td><td class='  ar '>7.24</td><td class='  ar '>2.10</td><td class='  ar '>74,124.69</td><td class='  ar '>98.69</td></tr><tr><td class='lc  ar '>5</td><td class='  al '>TSLA</td><td class='  ar '>62.15</td><td class='  ar '>124.29</td><td class='  ar '>2.10</td><td class='  ar '>74,124.69</td><td class='  ar '>160.84</td></tr><tr><td class='lc  ar '>6</td><td class='  al '>SPY</td><td class='  ar '>45.77</td><td class='  ar '>91.55</td><td class='  ar '>7.76</td><td class='  ar '>32,560.75</td><td class='  ar '>88.82</td></tr><tr><td class='lc  ar '>7</td><td class='  al '>AMZN</td><td class='  ar '>2.03</td><td class='  ar '>4.05</td><td class='  ar '>4.03</td><td class='  ar '>39,400.64</td><td class='  ar '>59.72</td></tr><tr><td class='lc  ar '>8</td><td class='  al '>SPY</td><td class='  ar '>24.95</td><td class='  ar '>49.91</td><td class='  ar '>7.76</td><td class='  ar '>32,560.75</td><td class='  ar '>113.77</td></tr><tr><td class='lc  ar '>9</td><td class='  al '>AMZN</td><td class='  ar '>11.85</td><td class='  ar '>23.70</td><td class='  ar '>4.03</td><td class='  ar '>39,400.64</td><td class='  ar '>71.57</td></tr><tr><td class='lc  ar '>10</td><td class='  al '>AMZN</td><td class='  ar '>21.68</td><td class='  ar '>43.36</td><td class='  ar '>4.03</td><td class='  ar '>39,400.64</td><td class='  ar '>93.25</td></tr><tr><td class='lc  ar '>11</td><td class='  al '>TSLA</td><td class='  ar '>27.46</td><td class='  ar '>54.91</td><td class='  ar '>2.10</td><td class='  ar '>74,124.69</td><td class='  ar '>188.30</td></tr><tr><td class='lc  ar '>12</td><td class='  al '>GME</td><td class='  ar '>40.13</td><td class='  ar '>80.26</td><td class='  ar '>16.65</td><td class='  ar '>26,857.53</td><td class='  ar '>42.13</td></tr><tr><td class='lc  ar '>13</td><td class='  al '>AMZN</td><td class='  ar '>52.90</td><td class='  ar '>105.81</td><td class='  ar '>4.03</td><td class='  ar '>39,400.64</td><td class='  ar '>146.15</td></tr><tr><td class='lc  ar '>14</td><td class='  al '>TSLA</td><td class='  ar '>0.10</td><td class='  ar '>0.20</td><td class='  ar '>2.10</td><td class='  ar '>74,124.69</td><td class='  ar '>188.40</td></tr><tr><td class='lc  ar '>...</td><td class='  al '>...</td><td class='  ar '>...</td><td class='  ar '>...</td><td class='  ar '>...</td><td class='  ar '>...</td><td class='  ar '>...</td></tr><tr><td class='lc  ar '>35</td><td class='  al '>TSLA</td><td class='  ar '>38.40</td><td class='  ar '>76.79</td><td class='  ar '>2.10</td><td class='  ar '>74,124.69</td><td class='  ar '>417.18</td></tr><tr><td class='lc  ar '>36</td><td class='  al '>AAPL</td><td class='  ar '>93.12</td><td class='  ar '>186.25</td><td class='  ar '>11.36</td><td class='  ar '>26,904.13</td><td class='  ar '>133.05</td></tr><tr><td class='lc  ar '>37</td><td class='  al '>SPY</td><td class='  ar '>14.92</td><td class='  ar '>29.85</td><td class='  ar '>7.76</td><td class='  ar '>32,560.75</td><td class='  ar '>399.73</td></tr><tr><td class='lc  ar '>38</td><td class='  al '>AAPL</td><td class='  ar '>99.71</td><td class='  ar '>199.41</td><td class='  ar '>11.36</td><td class='  ar '>26,904.13</td><td class='  ar '>232.76</td></tr><tr><td class='lc  ar '>39</td><td class='  al '>TSLA</td><td class='  ar '>37.91</td><td class='  ar '>75.83</td><td class='  ar '>2.10</td><td class='  ar '>74,124.69</td><td class='  ar '>455.09</td></tr><tr><td class='lc  ar '>40</td><td class='  al '>GME</td><td class='  ar '>64.88</td><td class='  ar '>129.75</td><td class='  ar '>16.65</td><td class='  ar '>26,857.53</td><td class='  ar '>261.12</td></tr><tr><td class='lc  ar '>41</td><td class='  al '>TSLA</td><td class='  ar '>96.79</td><td class='  ar '>193.58</td><td class='  ar '>2.10</td><td class='  ar '>74,124.69</td><td class='  ar '>551.88</td></tr><tr><td class='lc  ar '>42</td><td class='  al '>SPY</td><td class='  ar '>5.76</td><td class='  ar '>11.52</td><td class='  ar '>7.76</td><td class='  ar '>32,560.75</td><td class='  ar '>405.49</td></tr><tr><td class='lc  ar '>43</td><td class='  al '>TSLA</td><td class='  ar '>92.29</td><td class='  ar '>184.57</td><td class='  ar '>2.10</td><td class='  ar '>74,124.69</td><td class='  ar '>644.17</td></tr><tr><td class='lc  ar '>44</td><td class='  al '>AMZN</td><td class='  ar '>56.78</td><td class='  ar '>113.56</td><td class='  ar '>4.03</td><td class='  ar '>39,400.64</td><td class='  ar '>437.63</td></tr><tr><td class='lc  ar '>45</td><td class='  al '>AMZN</td><td class='  ar '>70.44</td><td class='  ar '>140.88</td><td class='  ar '>4.03</td><td class='  ar '>39,400.64</td><td class='  ar '>508.07</td></tr><tr><td class='lc  ar '>46</td><td class='  al '>TSLA</td><td class='  ar '>14.92</td><td class='  ar '>29.84</td><td class='  ar '>2.10</td><td class='  ar '>74,124.69</td><td class='  ar '>659.09</td></tr><tr><td class='lc  ar '>47</td><td class='  al '>AAPL</td><td class='  ar '>53.34</td><td class='  ar '>106.68</td><td class='  ar '>11.36</td><td class='  ar '>26,904.13</td><td class='  ar '>286.10</td></tr><tr><td class='lc  ar '>48</td><td class='  al '>TSLA</td><td class='  ar '>67.35</td><td class='  ar '>134.70</td><td class='  ar '>2.10</td><td class='  ar '>74,124.69</td><td class='  ar '>726.44</td></tr><tr><td class='lc  ar '>49</td><td class='  al '>TSLA</td><td class='  ar '>45.62</td><td class='  ar '>91.25</td><td class='  ar '>2.10</td><td class='  ar '>74,124.69</td><td class='  ar '>772.06</td></tr></tbody></table></body></html>\n",
       "\n",
       "[50 rows x 6 columns] total bytes: 2.0 KB"
      ],
      "text/plain": []
     },
     "execution_count": 127,
     "metadata": {},
     "output_type": "execute_result"
    }
   ],
   "source": [
    "ds.MyCalc3 = ds.Symbol.apply_nonreduce(lambda x: x.cumsum() + 2, ds.Value)\n",
    "\n",
    "ds"
   ]
  },
  {
   "cell_type": "markdown",
   "id": "afc2b5a1",
   "metadata": {},
   "source": [
    "Like `apply_reduce()`, `apply_nonreduce()` can take one or multiple columns as input."
   ]
  },
  {
   "cell_type": "code",
   "execution_count": 128,
   "id": "590b0670",
   "metadata": {},
   "outputs": [
    {
     "data": {
      "text/html": [
       "<html><head><style>table.tbl-1462 tbody td{white-space: nowrap;}table.tbl-1462 .lc{font-weight:bold;background-color: var( --jp-rendermime-table-row-hover-background);}table.tbl-1462 .lg{background-color: #66da9940;}table.tbl-1462 .lp{font-weight:bold;background-color: #ac66da40;}table.tbl-1462 .msc{font-weight:normal;background-color:#00000011;}table.tbl-1462 .al{text-align:left;}table.tbl-1462 .ar{text-align:right;}table.tbl-1462 .ac{text-align:center;}table.tbl-1462 .bld{font-weight:bold;}table.tbl-1462 .it{font-style:italic;}table.tbl-1462 .ul{text-decoration:underline;}table.tbl-1462 .st{text-decoration:line-through;}</style></head><body><table class='tbl-1462'><thead><tr><td class='lc bld ar'>  #</td><td class='lc bld al'>Symbol</td><td class='lc bld ar'>Value</td><td class='lc bld ar'>Value2</td><td class='lc bld ar'>MyCalc1</td><td class='lc bld ar'>  MyCalc2</td><td class='lc bld ar'>MyCalc3</td><td class='lc bld ar'>MyCalc4</td></tr></thead><tbody><tr><td class='lc  ar '>0</td><td class='  al '>AAPL</td><td class='  ar '>12.39</td><td class='  ar '>24.77</td><td class='  ar '>11.36</td><td class='  ar '>26,904.13</td><td class='  ar '>14.39</td><td class='  ar '>37.16</td></tr><tr><td class='lc  ar '>1</td><td class='  al '>SPY</td><td class='  ar '>41.04</td><td class='  ar '>82.09</td><td class='  ar '>7.76</td><td class='  ar '>32,560.75</td><td class='  ar '>43.04</td><td class='  ar '>123.13</td></tr><tr><td class='lc  ar '>2</td><td class='  al '>AMZN</td><td class='  ar '>55.69</td><td class='  ar '>111.39</td><td class='  ar '>4.03</td><td class='  ar '>39,400.64</td><td class='  ar '>57.69</td><td class='  ar '>167.08</td></tr><tr><td class='lc  ar '>3</td><td class='  al '>TSLA</td><td class='  ar '>93.07</td><td class='  ar '>186.14</td><td class='  ar '>2.10</td><td class='  ar '>74,124.69</td><td class='  ar '>95.07</td><td class='  ar '>279.21</td></tr><tr><td class='lc  ar '>4</td><td class='  al '>TSLA</td><td class='  ar '>3.62</td><td class='  ar '>7.24</td><td class='  ar '>2.10</td><td class='  ar '>74,124.69</td><td class='  ar '>98.69</td><td class='  ar '>103.94</td></tr><tr><td class='lc  ar '>5</td><td class='  al '>TSLA</td><td class='  ar '>62.15</td><td class='  ar '>124.29</td><td class='  ar '>2.10</td><td class='  ar '>74,124.69</td><td class='  ar '>160.84</td><td class='  ar '>283.13</td></tr><tr><td class='lc  ar '>6</td><td class='  al '>SPY</td><td class='  ar '>45.77</td><td class='  ar '>91.55</td><td class='  ar '>7.76</td><td class='  ar '>32,560.75</td><td class='  ar '>88.82</td><td class='  ar '>178.36</td></tr><tr><td class='lc  ar '>7</td><td class='  al '>AMZN</td><td class='  ar '>2.03</td><td class='  ar '>4.05</td><td class='  ar '>4.03</td><td class='  ar '>39,400.64</td><td class='  ar '>59.72</td><td class='  ar '>61.77</td></tr><tr><td class='lc  ar '>8</td><td class='  al '>SPY</td><td class='  ar '>24.95</td><td class='  ar '>49.91</td><td class='  ar '>7.76</td><td class='  ar '>32,560.75</td><td class='  ar '>113.77</td><td class='  ar '>161.68</td></tr><tr><td class='lc  ar '>9</td><td class='  al '>AMZN</td><td class='  ar '>11.85</td><td class='  ar '>23.70</td><td class='  ar '>4.03</td><td class='  ar '>39,400.64</td><td class='  ar '>71.57</td><td class='  ar '>93.27</td></tr><tr><td class='lc  ar '>10</td><td class='  al '>AMZN</td><td class='  ar '>21.68</td><td class='  ar '>43.36</td><td class='  ar '>4.03</td><td class='  ar '>39,400.64</td><td class='  ar '>93.25</td><td class='  ar '>134.61</td></tr><tr><td class='lc  ar '>11</td><td class='  al '>TSLA</td><td class='  ar '>27.46</td><td class='  ar '>54.91</td><td class='  ar '>2.10</td><td class='  ar '>74,124.69</td><td class='  ar '>188.30</td><td class='  ar '>241.21</td></tr><tr><td class='lc  ar '>12</td><td class='  al '>GME</td><td class='  ar '>40.13</td><td class='  ar '>80.26</td><td class='  ar '>16.65</td><td class='  ar '>26,857.53</td><td class='  ar '>42.13</td><td class='  ar '>120.39</td></tr><tr><td class='lc  ar '>13</td><td class='  al '>AMZN</td><td class='  ar '>52.90</td><td class='  ar '>105.81</td><td class='  ar '>4.03</td><td class='  ar '>39,400.64</td><td class='  ar '>146.15</td><td class='  ar '>249.96</td></tr><tr><td class='lc  ar '>14</td><td class='  al '>TSLA</td><td class='  ar '>0.10</td><td class='  ar '>0.20</td><td class='  ar '>2.10</td><td class='  ar '>74,124.69</td><td class='  ar '>188.40</td><td class='  ar '>186.59</td></tr><tr><td class='lc  ar '>...</td><td class='  al '>...</td><td class='  ar '>...</td><td class='  ar '>...</td><td class='  ar '>...</td><td class='  ar '>...</td><td class='  ar '>...</td><td class='  ar '>...</td></tr><tr><td class='lc  ar '>35</td><td class='  al '>TSLA</td><td class='  ar '>38.40</td><td class='  ar '>76.79</td><td class='  ar '>2.10</td><td class='  ar '>74,124.69</td><td class='  ar '>417.18</td><td class='  ar '>491.97</td></tr><tr><td class='lc  ar '>36</td><td class='  al '>AAPL</td><td class='  ar '>93.12</td><td class='  ar '>186.25</td><td class='  ar '>11.36</td><td class='  ar '>26,904.13</td><td class='  ar '>133.05</td><td class='  ar '>317.30</td></tr><tr><td class='lc  ar '>37</td><td class='  al '>SPY</td><td class='  ar '>14.92</td><td class='  ar '>29.85</td><td class='  ar '>7.76</td><td class='  ar '>32,560.75</td><td class='  ar '>399.73</td><td class='  ar '>427.57</td></tr><tr><td class='lc  ar '>38</td><td class='  al '>AAPL</td><td class='  ar '>99.71</td><td class='  ar '>199.41</td><td class='  ar '>11.36</td><td class='  ar '>26,904.13</td><td class='  ar '>232.76</td><td class='  ar '>430.17</td></tr><tr><td class='lc  ar '>39</td><td class='  al '>TSLA</td><td class='  ar '>37.91</td><td class='  ar '>75.83</td><td class='  ar '>2.10</td><td class='  ar '>74,124.69</td><td class='  ar '>455.09</td><td class='  ar '>528.92</td></tr><tr><td class='lc  ar '>40</td><td class='  al '>GME</td><td class='  ar '>64.88</td><td class='  ar '>129.75</td><td class='  ar '>16.65</td><td class='  ar '>26,857.53</td><td class='  ar '>261.12</td><td class='  ar '>388.88</td></tr><tr><td class='lc  ar '>41</td><td class='  al '>TSLA</td><td class='  ar '>96.79</td><td class='  ar '>193.58</td><td class='  ar '>2.10</td><td class='  ar '>74,124.69</td><td class='  ar '>551.88</td><td class='  ar '>743.46</td></tr><tr><td class='lc  ar '>42</td><td class='  al '>SPY</td><td class='  ar '>5.76</td><td class='  ar '>11.52</td><td class='  ar '>7.76</td><td class='  ar '>32,560.75</td><td class='  ar '>405.49</td><td class='  ar '>415.01</td></tr><tr><td class='lc  ar '>43</td><td class='  al '>TSLA</td><td class='  ar '>92.29</td><td class='  ar '>184.57</td><td class='  ar '>2.10</td><td class='  ar '>74,124.69</td><td class='  ar '>644.17</td><td class='  ar '>826.74</td></tr><tr><td class='lc  ar '>44</td><td class='  al '>AMZN</td><td class='  ar '>56.78</td><td class='  ar '>113.56</td><td class='  ar '>4.03</td><td class='  ar '>39,400.64</td><td class='  ar '>437.63</td><td class='  ar '>549.19</td></tr><tr><td class='lc  ar '>45</td><td class='  al '>AMZN</td><td class='  ar '>70.44</td><td class='  ar '>140.88</td><td class='  ar '>4.03</td><td class='  ar '>39,400.64</td><td class='  ar '>508.07</td><td class='  ar '>646.95</td></tr><tr><td class='lc  ar '>46</td><td class='  al '>TSLA</td><td class='  ar '>14.92</td><td class='  ar '>29.84</td><td class='  ar '>2.10</td><td class='  ar '>74,124.69</td><td class='  ar '>659.09</td><td class='  ar '>686.92</td></tr><tr><td class='lc  ar '>47</td><td class='  al '>AAPL</td><td class='  ar '>53.34</td><td class='  ar '>106.68</td><td class='  ar '>11.36</td><td class='  ar '>26,904.13</td><td class='  ar '>286.10</td><td class='  ar '>390.78</td></tr><tr><td class='lc  ar '>48</td><td class='  al '>TSLA</td><td class='  ar '>67.35</td><td class='  ar '>134.70</td><td class='  ar '>2.10</td><td class='  ar '>74,124.69</td><td class='  ar '>726.44</td><td class='  ar '>859.14</td></tr><tr><td class='lc  ar '>49</td><td class='  al '>TSLA</td><td class='  ar '>45.62</td><td class='  ar '>91.25</td><td class='  ar '>2.10</td><td class='  ar '>74,124.69</td><td class='  ar '>772.06</td><td class='  ar '>861.31</td></tr></tbody></table></body></html>\n",
       "\n",
       "[50 rows x 7 columns] total bytes: 2.4 KB"
      ],
      "text/plain": []
     },
     "execution_count": 128,
     "metadata": {},
     "output_type": "execute_result"
    }
   ],
   "source": [
    "ds.MyCalc4 = ds.Symbol.apply_nonreduce(lambda x, y: x.cumsum() + y, (ds.Value, ds.Value2))\n",
    "\n",
    "ds"
   ]
  },
  {
   "cell_type": "markdown",
   "id": "adab2bf3",
   "metadata": {},
   "source": [
    "### `apply()`\n",
    "\n",
    "If you want your custom function to return multiple aggregations -- for example, you want to return both the mean value of a column and the minimum value of a column -- use `apply()`.\n",
    "\n",
    "Warning: Because `apply()` isn't a vectorized operation, it can be slow and use a lot of memory if you're using it on large amounts of data. Try to avoid it if you can.\n",
    "\n",
    "To be used with `apply()`, your function must be able to take in a Dataset. It can return a Dataset, a single array, or a dictionary of column names and values.\n",
    "\n",
    "Here's a function that performs two reducing operations and returns a Dataset."
   ]
  },
  {
   "cell_type": "code",
   "execution_count": 129,
   "id": "8d5916a5",
   "metadata": {},
   "outputs": [],
   "source": [
    "def my_apply_func(ds):\n",
    "    new_ds = rt.Dataset({\n",
    "    'Mean_Value': ds.Value.mean(),\n",
    "    'Min_Value': ds.Value.min()\n",
    "})\n",
    "    return new_ds "
   ]
  },
  {
   "cell_type": "markdown",
   "id": "065222a3",
   "metadata": {},
   "source": [
    "Again, because we're calling `apply()` on a Categorical, the function is applied separately to each group."
   ]
  },
  {
   "cell_type": "code",
   "execution_count": 130,
   "id": "5f0f9de5",
   "metadata": {},
   "outputs": [
    {
     "data": {
      "text/html": [
       "<html><head><style>table.tbl-698 tbody td{white-space: nowrap;}table.tbl-698 .lc{font-weight:bold;background-color: var( --jp-rendermime-table-row-hover-background);}table.tbl-698 .lg{background-color: #66da9940;}table.tbl-698 .lp{font-weight:bold;background-color: #ac66da40;}table.tbl-698 .msc{font-weight:normal;background-color:#00000011;}table.tbl-698 .al{text-align:left;}table.tbl-698 .ar{text-align:right;}table.tbl-698 .ac{text-align:center;}table.tbl-698 .bld{font-weight:bold;}table.tbl-698 .it{font-style:italic;}table.tbl-698 .ul{text-decoration:underline;}table.tbl-698 .st{text-decoration:line-through;}</style></head><body><table class='tbl-698'><thead><tr><td class='lg bld al'>*Symbol</td><td class='lc bld ar'>Mean_Value</td><td class='lc bld ar'>Min_Value</td></tr></thead><tbody><tr><td class='lg  al '>AAPL</td><td class='  ar '>47.35</td><td class='  ar '>9.36</td></tr><tr><td class='lg  al '>AMZN</td><td class='  ar '>38.93</td><td class='  ar '>2.03</td></tr><tr><td class='lg  al '>GME</td><td class='  ar '>51.82</td><td class='  ar '>14.65</td></tr><tr><td class='lg  al '>SPY</td><td class='  ar '>40.35</td><td class='  ar '>5.76</td></tr><tr><td class='lg  al '>TSLA</td><td class='  ar '>48.13</td><td class='  ar '>0.10</td></tr></tbody></table></body></html>\n",
       "\n",
       "[5 rows x 3 columns] total bytes: 100.0 B"
      ],
      "text/plain": []
     },
     "execution_count": 130,
     "metadata": {},
     "output_type": "execute_result"
    }
   ],
   "source": [
    "ds.Symbol.apply(my_apply_func, ds)"
   ]
  },
  {
   "cell_type": "markdown",
   "id": "b0b9da8c",
   "metadata": {},
   "source": [
    "Our second function performs two non-reducing operations."
   ]
  },
  {
   "cell_type": "code",
   "execution_count": 131,
   "id": "55c641be",
   "metadata": {},
   "outputs": [
    {
     "data": {
      "text/html": [
       "<html><head><style>table.tbl-6660 tbody td{white-space: nowrap;}table.tbl-6660 .lc{font-weight:bold;background-color: var( --jp-rendermime-table-row-hover-background);}table.tbl-6660 .lg{background-color: #66da9940;}table.tbl-6660 .lp{font-weight:bold;background-color: #ac66da40;}table.tbl-6660 .msc{font-weight:normal;background-color:#00000011;}table.tbl-6660 .al{text-align:left;}table.tbl-6660 .ar{text-align:right;}table.tbl-6660 .ac{text-align:center;}table.tbl-6660 .bld{font-weight:bold;}table.tbl-6660 .it{font-style:italic;}table.tbl-6660 .ul{text-decoration:underline;}table.tbl-6660 .st{text-decoration:line-through;}</style></head><body><table class='tbl-6660'><thead><tr><td class='lg bld al'>*gb_key_0</td><td class='lc bld ar'>  Val1</td><td class='lc bld ar'>  Val2</td></tr></thead><tbody><tr><td class='lg  al '>AAPL</td><td class='  ar '>37.16</td><td class='  ar '>49.54</td></tr><tr><td class='lg  al '>SPY</td><td class='  ar '>123.13</td><td class='  ar '>164.18</td></tr><tr><td class='lg  al '>AMZN</td><td class='  ar '>167.08</td><td class='  ar '>222.77</td></tr><tr><td class='lg  al '>TSLA</td><td class='  ar '>279.21</td><td class='  ar '>372.28</td></tr><tr><td class='lg  al '>TSLA</td><td class='  ar '>10.87</td><td class='  ar '>14.49</td></tr><tr><td class='lg  al '>TSLA</td><td class='  ar '>186.44</td><td class='  ar '>248.58</td></tr><tr><td class='lg  al '>SPY</td><td class='  ar '>137.32</td><td class='  ar '>183.09</td></tr><tr><td class='lg  al '>AMZN</td><td class='  ar '>6.08</td><td class='  ar '>8.10</td></tr><tr><td class='lg  al '>SPY</td><td class='  ar '>74.86</td><td class='  ar '>99.82</td></tr><tr><td class='lg  al '>AMZN</td><td class='  ar '>35.55</td><td class='  ar '>47.39</td></tr><tr><td class='lg  al '>AMZN</td><td class='  ar '>65.04</td><td class='  ar '>86.72</td></tr><tr><td class='lg  al '>TSLA</td><td class='  ar '>82.37</td><td class='  ar '>109.83</td></tr><tr><td class='lg  al '>GME</td><td class='  ar '>120.39</td><td class='  ar '>160.52</td></tr><tr><td class='lg  al '>AMZN</td><td class='  ar '>158.71</td><td class='  ar '>211.62</td></tr><tr><td class='lg  al '>TSLA</td><td class='  ar '>0.30</td><td class='  ar '>0.40</td></tr><tr><td class='lg  al '>...</td><td class='  ar '>...</td><td class='  ar '>...</td></tr><tr><td class='lg  al '>TSLA</td><td class='  ar '>115.19</td><td class='  ar '>153.58</td></tr><tr><td class='lg  al '>AAPL</td><td class='  ar '>279.37</td><td class='  ar '>372.50</td></tr><tr><td class='lg  al '>SPY</td><td class='  ar '>44.77</td><td class='  ar '>59.69</td></tr><tr><td class='lg  al '>AAPL</td><td class='  ar '>299.12</td><td class='  ar '>398.83</td></tr><tr><td class='lg  al '>TSLA</td><td class='  ar '>113.74</td><td class='  ar '>151.65</td></tr><tr><td class='lg  al '>GME</td><td class='  ar '>194.63</td><td class='  ar '>259.51</td></tr><tr><td class='lg  al '>TSLA</td><td class='  ar '>290.37</td><td class='  ar '>387.16</td></tr><tr><td class='lg  al '>SPY</td><td class='  ar '>17.28</td><td class='  ar '>23.04</td></tr><tr><td class='lg  al '>TSLA</td><td class='  ar '>276.86</td><td class='  ar '>369.15</td></tr><tr><td class='lg  al '>AMZN</td><td class='  ar '>170.34</td><td class='  ar '>227.12</td></tr><tr><td class='lg  al '>AMZN</td><td class='  ar '>211.32</td><td class='  ar '>281.76</td></tr><tr><td class='lg  al '>TSLA</td><td class='  ar '>44.76</td><td class='  ar '>59.67</td></tr><tr><td class='lg  al '>AAPL</td><td class='  ar '>160.02</td><td class='  ar '>213.35</td></tr><tr><td class='lg  al '>TSLA</td><td class='  ar '>202.05</td><td class='  ar '>269.41</td></tr><tr><td class='lg  al '>TSLA</td><td class='  ar '>136.87</td><td class='  ar '>182.50</td></tr></tbody></table></body></html>\n",
       "\n",
       "[50 rows x 3 columns] total bytes: 870.0 B"
      ],
      "text/plain": []
     },
     "execution_count": 131,
     "metadata": {},
     "output_type": "execute_result"
    }
   ],
   "source": [
    "def my_apply_func2(ds):\n",
    "    new_ds = rt.Dataset({\n",
    "        'Val1': ds.Value * 3,\n",
    "        'Val2': ds.Value * 4\n",
    "    })\n",
    "    return new_ds\n",
    "\n",
    "ds.Symbol.apply(my_apply_func2, ds)"
   ]
  },
  {
   "cell_type": "markdown",
   "id": "55722ee1",
   "metadata": {},
   "source": [
    "Because the operations in this function are non-reducing operations, the resulting Dataset is expanded."
   ]
  },
  {
   "cell_type": "markdown",
   "id": "2f927c70-ddf9-4bb8-a490-bb248e86322c",
   "metadata": {},
   "source": [
    "In the next section, [Accums](tutorial_accums.ipynb), we look at another way to do multi-key groupings with fancier output."
   ]
  },
  {
   "cell_type": "markdown",
   "id": "1ccd964a-c77f-4c7f-8679-0153029648a8",
   "metadata": {},
   "source": [
    "<br>\n",
    "<br>\n",
    "\n",
    "---\n",
    "\n",
    "Questions or comments about this guide? Email RiptableDocumentation@sig.com."
   ]
  }
 ],
 "metadata": {
  "kernelspec": {
   "display_name": "Python 3 (ipykernel)",
   "language": "python",
   "name": "python3"
  },
  "language_info": {
   "codemirror_mode": {
    "name": "ipython",
    "version": 3
   },
   "file_extension": ".py",
   "mimetype": "text/x-python",
   "name": "python",
   "nbconvert_exporter": "python",
   "pygments_lexer": "ipython3",
   "version": "3.9.12"
  }
 },
 "nbformat": 4,
 "nbformat_minor": 5
}
