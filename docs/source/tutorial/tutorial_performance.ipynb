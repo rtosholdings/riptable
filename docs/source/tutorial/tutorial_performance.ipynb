{
 "cells": [
  {
   "cell_type": "markdown",
   "id": "be3a3339-1238-4926-a5a3-0c8dff8021d7",
   "metadata": {
    "tags": []
   },
   "source": [
    "# Performance Considerations\n",
    "\n",
    "<img src=\"perf-may-suffer.png\" width=\"490\" height=\"62\" align=\"center\">\n",
    "\n",
    "Riptable uses multi-threaded and vectorized operations to work quickly and efficiently with large amounts of data. However, because memory is a finite resource, it's good to keep some things in mind.\n",
    "\n",
    "Whenever possible:\n",
    "\n",
    "- Use universal functions (ufuncs) and ufunc methods. (Ufuncs take array inputs and produce array outputs.)\n",
    "- To work with a subset of an array, use slicing instead of fancy indexing. Fancy indexing creates a copy of the array. Slicing instead gives you a \"view\" of the array, though this means that changes to the slice change the original data as well. Another thing to be aware of is that a slice creates a reference to the original data. This means the original data won't be cleared from memory until the reference is also deleted.\n",
    "- In general, be aware of which operations make copies of data. Use flags to do operations in place when you can.\n",
    "- Avoid filtering entire Datasets using `ds.filter()`. Use Boolean mask arrays, or use filter keyword arguments in operations on columns.\n",
    "    - When it makes sense, you can use `ds.filter(inplace=True)` to modify the original Dataset.\n",
    "- Avoid string operations (creating strings, parsing strings, etc.). When you need to parse a string, use the FastArray string methods and try to do it in as few operations as possible.\n",
    "- Use Categoricals for string arrays, especially for repeated strings or if you're converting data between Pandas and Riptable. \n",
    "- Delete datasets you're not using. Though be aware that if you have any references to the Dataset in other objects (for example, a slice or any operation that gives you a \"view\" of the data), you might not actually free up memory.\n",
    "- Avoid using `apply()` -- it's not a vectorized operation. "
   ]
  },
  {
   "cell_type": "markdown",
   "id": "4d6c711d-b6c5-4730-a9f7-07f4055ae912",
   "metadata": {},
   "source": [
    "<br>\n",
    "<br>\n",
    "\n",
    "---\n",
    "\n",
    "Questions or comments about this guide? Email RiptableDocumentation@sig.com."
   ]
  }
 ],
 "metadata": {
  "kernelspec": {
   "display_name": "Python 3 (ipykernel)",
   "language": "python",
   "name": "python3"
  },
  "language_info": {
   "codemirror_mode": {
    "name": "ipython",
    "version": 3
   },
   "file_extension": ".py",
   "mimetype": "text/x-python",
   "name": "python",
   "nbconvert_exporter": "python",
   "pygments_lexer": "ipython3",
   "version": "3.9.12"
  }
 },
 "nbformat": 4,
 "nbformat_minor": 5
}
