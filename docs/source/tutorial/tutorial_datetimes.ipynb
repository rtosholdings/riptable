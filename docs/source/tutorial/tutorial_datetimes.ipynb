{
 "cells": [
  {
   "cell_type": "markdown",
   "id": "195a82a1-4cef-4567-8c7b-a045ee86d7b9",
   "metadata": {},
   "source": [
    "# Work with Dates and Times"
   ]
  },
  {
   "cell_type": "code",
   "execution_count": 50,
   "id": "10bb373f-25eb-4bf6-bd77-3bd220c4d21e",
   "metadata": {
    "jp-MarkdownHeadingCollapsed": true,
    "tags": []
   },
   "outputs": [
    {
     "name": "stdout",
     "output_type": "stream",
     "text": [
      "To download this notebook, right click on the link and Save link as...\n"
     ]
    },
    {
     "data": {
      "text/html": [
       "<a href='tutorial_datetimes.ipynb' target='_blank'>tutorial_datetimes.ipynb</a><br>"
      ],
      "text/plain": [
       "X:\\btcache\\scratch\\johnsonc\\jupyter\\Tutorial\\Tutorial_GitLab\\tutorial_datetimes.ipynb"
      ]
     },
     "execution_count": 50,
     "metadata": {},
     "output_type": "execute_result"
    }
   ],
   "source": [
    "# Generate notebook download link\n",
    "from IPython.display import FileLink\n",
    "print('To download this notebook, right click on the link and Save link as...')\n",
    "FileLink('tutorial_datetimes.ipynb')"
   ]
  },
  {
   "cell_type": "code",
   "execution_count": 51,
   "id": "2ae5148e-bc14-4c15-af70-90334a7e479c",
   "metadata": {},
   "outputs": [],
   "source": [
    "import riptable as rt\n",
    "import numpy as np"
   ]
  },
  {
   "cell_type": "code",
   "execution_count": 52,
   "id": "1369c509-06c9-4af2-921e-bdd24c1910bd",
   "metadata": {},
   "outputs": [],
   "source": [
    "# Display all Dataset columns -- the default max is 9.\n",
    "rt.Display.options.COL_ALL = True\n",
    "\n",
    "# Render up to 100MM before showing in scientific notation.\n",
    "rt.Display.options.E_MAX = 100_000_000\n",
    "\n",
    "# Truncate small decimals, rather than showing infinitesimal scientific notation.\n",
    "rt.Display.options.P_THRESHOLD = 0\n",
    "\n",
    "# Put commas in numbers.\n",
    "rt.Display.options.NUMBER_SEPARATOR = True\n",
    "\n",
    "# Turn on Riptable autocomplete (start typing, then press Tab to see options).\n",
    "rt.autocomplete()"
   ]
  },
  {
   "cell_type": "markdown",
   "id": "4bd434f4-00e4-4176-bc43-6bff5321d5ed",
   "metadata": {},
   "source": [
    "In Riptable, there are three fundamental date and time classes:\n",
    "\n",
    "- `rt.Date`, used for date information with no time attached to it\n",
    "- `rt.DateTimeNano`, used for data with both date and time information (including time zone), to nanosecond precision\n",
    "- `rt.TimeSpan`, used for \"time since midnight data,\" with no date information attached\n",
    "\n",
    "Here, we'll cover how to create date and time objects, how to extract data from these objects, how to use date and time arithmetic to build useful date and time representations, and how to reformat date and time information for display."
   ]
  },
  {
   "cell_type": "markdown",
   "id": "d9d3c731-ea17-4861-819e-35af8563893c",
   "metadata": {},
   "source": [
    "## `Date` Objects\n",
    "\n",
    "A Date object stores an array of dates with no time data attached. You can create Date arrays from strings, integer date values, or Matlab ordinal dates. Creating Date arrays from strings is fairly common. \n",
    "\n",
    "If your string dates are in YYYYMMDD format, you can simply pass the list of strings to `rt.Date()`."
   ]
  },
  {
   "cell_type": "code",
   "execution_count": 53,
   "id": "a273a08c-3a08-4946-a432-d32ca132fc75",
   "metadata": {},
   "outputs": [
    {
     "data": {
      "text/plain": [
       "Date(['2021-01-01', '2021-05-19', '2022-03-08'])"
      ]
     },
     "execution_count": 53,
     "metadata": {},
     "output_type": "execute_result"
    }
   ],
   "source": [
    "rt.Date(['20210101', '20210519', '20220308'])"
   ]
  },
  {
   "cell_type": "markdown",
   "id": "d8fb8968",
   "metadata": {},
   "source": [
    "If your string dates are in another format, you can tell `rt.Date()` what to expect using Python `strptime` format code."
   ]
  },
  {
   "cell_type": "code",
   "execution_count": 54,
   "id": "16a2a2f6",
   "metadata": {},
   "outputs": [
    {
     "data": {
      "text/plain": [
       "Date(['2019-12-31', '2019-06-30', '2019-02-21'])"
      ]
     },
     "execution_count": 54,
     "metadata": {},
     "output_type": "execute_result"
    }
   ],
   "source": [
    "rt.Date(['12/31/19', '6/30/19', '02/21/19'], format='%m/%d/%y')"
   ]
  },
  {
   "cell_type": "markdown",
   "id": "eb6e69d5",
   "metadata": {},
   "source": [
    "For a list of format codes, see [Python's documentation](https://docs.python.org/3/library/datetime.html#strftime-strptime-behavior).\n",
    "\n",
    "Note: Under the hood, dates are stored as integers -- specifically, as the number of days since the Unix epoch, 01-01-1970."
   ]
  },
  {
   "cell_type": "code",
   "execution_count": 55,
   "id": "56c73b4f",
   "metadata": {},
   "outputs": [
    {
     "data": {
      "text/plain": [
       "FastArray([ 1,  2, 42])"
      ]
     },
     "execution_count": 55,
     "metadata": {},
     "output_type": "execute_result"
    }
   ],
   "source": [
    "date_arr = rt.Date(['19700102', '19700103', '19700212'])\n",
    "date_arr._fa"
   ]
  },
  {
   "cell_type": "markdown",
   "id": "89d774d4",
   "metadata": {},
   "source": [
    "Dates have various properties (a.k.a. attributes) that give you information about a Date.\n",
    "\n",
    "Let's create a Dataset with a column of Dates, then use Date properties to extract information into new columns."
   ]
  },
  {
   "cell_type": "code",
   "execution_count": 56,
   "id": "3437116e",
   "metadata": {},
   "outputs": [
    {
     "data": {
      "text/html": [
       "<html><head><style>table.tbl-11 tbody td{white-space: nowrap;}table.tbl-11 .lc{font-weight:bold;background-color: var( --jp-rendermime-table-row-hover-background);}table.tbl-11 .lg{background-color: #66da9940;}table.tbl-11 .lp{font-weight:bold;background-color: #ac66da40;}table.tbl-11 .msc{font-weight:normal;background-color:#00000011;}table.tbl-11 .al{text-align:left;}table.tbl-11 .ar{text-align:right;}table.tbl-11 .ac{text-align:center;}table.tbl-11 .bld{font-weight:bold;}table.tbl-11 .it{font-style:italic;}table.tbl-11 .ul{text-decoration:underline;}table.tbl-11 .st{text-decoration:line-through;}</style></head><body><table class='tbl-11'><thead><tr><td class='lc bld ar'>#</td><td class='lc bld ar'>     Dates</td><td class='lc bld ar'> Year</td><td class='lc bld ar'>Month</td><td class='lc bld ar'>Day_of_Month</td><td class='lc bld ar'>Day_of_Week</td><td class='lc bld ar'>Day_of_Year</td></tr></thead><tbody><tr><td class='lc  ar '>0</td><td class='  ar '>2019-01-01</td><td class='  ar '>2,019</td><td class='  ar '>1</td><td class='  ar '>1</td><td class='  ar '>1</td><td class='  ar '>1</td></tr><tr><td class='lc  ar '>1</td><td class='  ar '>2019-01-16</td><td class='  ar '>2,019</td><td class='  ar '>1</td><td class='  ar '>16</td><td class='  ar '>2</td><td class='  ar '>16</td></tr><tr><td class='lc  ar '>2</td><td class='  ar '>2019-01-31</td><td class='  ar '>2,019</td><td class='  ar '>1</td><td class='  ar '>31</td><td class='  ar '>3</td><td class='  ar '>31</td></tr><tr><td class='lc  ar '>3</td><td class='  ar '>2019-02-15</td><td class='  ar '>2,019</td><td class='  ar '>2</td><td class='  ar '>15</td><td class='  ar '>4</td><td class='  ar '>46</td></tr></tbody></table></body></html>\n",
       "\n",
       "[4 rows x 6 columns] total bytes: 96.0 B"
      ],
      "text/plain": []
     },
     "execution_count": 56,
     "metadata": {},
     "output_type": "execute_result"
    }
   ],
   "source": [
    "ds = rt.Dataset()\n",
    "\n",
    " # Generate a range of dates, spaced 15 days apart\n",
    "ds.Dates = rt.Date.range('2019-01-01', '2019-02-30', step=15) \n",
    "\n",
    "# Some useful Date properties\n",
    "ds.Year = ds.Dates.year\n",
    "ds.Month = ds.Dates.month  # 1=Jan, 12=Dec\n",
    "ds.Day_of_Month = ds.Dates.day_of_month\n",
    "ds.Day_of_Week = ds.Dates.day_of_week  # 0=Mon, 6=Sun\n",
    "ds.Day_of_Year = ds.Dates.day_of_year\n",
    "\n",
    "ds"
   ]
  },
  {
   "cell_type": "markdown",
   "id": "c3aa7757",
   "metadata": {},
   "source": [
    "The following two properties are particularly useful when you want to group data by month or week. We'll see some examples when we talk about Categoricals and Accums."
   ]
  },
  {
   "cell_type": "code",
   "execution_count": 57,
   "id": "73e21204",
   "metadata": {},
   "outputs": [
    {
     "data": {
      "text/html": [
       "<html><head><style>table.tbl-6115 tbody td{white-space: nowrap;}table.tbl-6115 .lc{font-weight:bold;background-color: var( --jp-rendermime-table-row-hover-background);}table.tbl-6115 .lg{background-color: #66da9940;}table.tbl-6115 .lp{font-weight:bold;background-color: #ac66da40;}table.tbl-6115 .msc{font-weight:normal;background-color:#00000011;}table.tbl-6115 .al{text-align:left;}table.tbl-6115 .ar{text-align:right;}table.tbl-6115 .ac{text-align:center;}table.tbl-6115 .bld{font-weight:bold;}table.tbl-6115 .it{font-style:italic;}table.tbl-6115 .ul{text-decoration:underline;}table.tbl-6115 .st{text-decoration:line-through;}</style></head><body><table class='tbl-6115'><thead><tr><td class='lc bld ar'>#</td><td class='lc bld ar'>     Dates</td><td class='lc bld ar'> Year</td><td class='lc bld ar'>Month</td><td class='lc bld ar'>Day_of_Month</td><td class='lc bld ar'>Day_of_Week</td><td class='lc bld ar'>Day_of_Year</td><td class='lc bld ar'>Start_of_Month</td><td class='lc bld ar'>Start_of_Week</td></tr></thead><tbody><tr><td class='lc  ar '>0</td><td class='  ar '>2019-01-01</td><td class='  ar '>2,019</td><td class='  ar '>1</td><td class='  ar '>1</td><td class='  ar '>1</td><td class='  ar '>1</td><td class='  ar '>2019-01-01</td><td class='  ar '>2018-12-31</td></tr><tr><td class='lc  ar '>1</td><td class='  ar '>2019-01-16</td><td class='  ar '>2,019</td><td class='  ar '>1</td><td class='  ar '>16</td><td class='  ar '>2</td><td class='  ar '>16</td><td class='  ar '>2019-01-01</td><td class='  ar '>2019-01-14</td></tr><tr><td class='lc  ar '>2</td><td class='  ar '>2019-01-31</td><td class='  ar '>2,019</td><td class='  ar '>1</td><td class='  ar '>31</td><td class='  ar '>3</td><td class='  ar '>31</td><td class='  ar '>2019-01-01</td><td class='  ar '>2019-01-28</td></tr><tr><td class='lc  ar '>3</td><td class='  ar '>2019-02-15</td><td class='  ar '>2,019</td><td class='  ar '>2</td><td class='  ar '>15</td><td class='  ar '>4</td><td class='  ar '>46</td><td class='  ar '>2019-02-01</td><td class='  ar '>2019-02-11</td></tr></tbody></table></body></html>\n",
       "\n",
       "[4 rows x 8 columns] total bytes: 128.0 B"
      ],
      "text/plain": []
     },
     "execution_count": 57,
     "metadata": {},
     "output_type": "execute_result"
    }
   ],
   "source": [
    "ds.Start_of_Month = ds.Dates.start_of_month\n",
    "ds.Start_of_Week = ds.Dates.start_of_week  # Returns the date of the previous Monday\n",
    "\n",
    "ds"
   ]
  },
  {
   "cell_type": "markdown",
   "id": "8c5e1e01",
   "metadata": {},
   "source": [
    "We used Python's `strptime` format code above to tell `rt.Date()` how to parse our data. Riptable date and time objects can also use the `strftime()` method to format data for display."
   ]
  },
  {
   "cell_type": "code",
   "execution_count": 58,
   "id": "7f8a44e7",
   "metadata": {},
   "outputs": [
    {
     "data": {
      "text/html": [
       "<html><head><style>table.tbl-6004 tbody td{white-space: nowrap;}table.tbl-6004 .lc{font-weight:bold;background-color: var( --jp-rendermime-table-row-hover-background);}table.tbl-6004 .lg{background-color: #66da9940;}table.tbl-6004 .lp{font-weight:bold;background-color: #ac66da40;}table.tbl-6004 .msc{font-weight:normal;background-color:#00000011;}table.tbl-6004 .al{text-align:left;}table.tbl-6004 .ar{text-align:right;}table.tbl-6004 .ac{text-align:center;}table.tbl-6004 .bld{font-weight:bold;}table.tbl-6004 .it{font-style:italic;}table.tbl-6004 .ul{text-decoration:underline;}table.tbl-6004 .st{text-decoration:line-through;}</style></head><body><table class='tbl-6004'><thead><tr><td class='lc bld ar'>#</td><td class='lc bld ar'>     Dates</td><td class='lc bld ar'> Year</td><td class='lc bld ar'>Month</td><td class='lc bld ar'>Day_of_Month</td><td class='lc bld ar'>Day_of_Week</td><td class='lc bld ar'>Day_of_Year</td><td class='lc bld ar'>Start_of_Month</td><td class='lc bld ar'>Start_of_Week</td><td class='lc bld al'>MonthYear</td></tr></thead><tbody><tr><td class='lc  ar '>0</td><td class='  ar '>2019-01-01</td><td class='  ar '>2,019</td><td class='  ar '>1</td><td class='  ar '>1</td><td class='  ar '>1</td><td class='  ar '>1</td><td class='  ar '>2019-01-01</td><td class='  ar '>2018-12-31</td><td class='  al '>Jan19</td></tr><tr><td class='lc  ar '>1</td><td class='  ar '>2019-01-16</td><td class='  ar '>2,019</td><td class='  ar '>1</td><td class='  ar '>16</td><td class='  ar '>2</td><td class='  ar '>16</td><td class='  ar '>2019-01-01</td><td class='  ar '>2019-01-14</td><td class='  al '>Jan19</td></tr><tr><td class='lc  ar '>2</td><td class='  ar '>2019-01-31</td><td class='  ar '>2,019</td><td class='  ar '>1</td><td class='  ar '>31</td><td class='  ar '>3</td><td class='  ar '>31</td><td class='  ar '>2019-01-01</td><td class='  ar '>2019-01-28</td><td class='  al '>Jan19</td></tr><tr><td class='lc  ar '>3</td><td class='  ar '>2019-02-15</td><td class='  ar '>2,019</td><td class='  ar '>2</td><td class='  ar '>15</td><td class='  ar '>4</td><td class='  ar '>46</td><td class='  ar '>2019-02-01</td><td class='  ar '>2019-02-11</td><td class='  al '>Feb19</td></tr></tbody></table></body></html>\n",
       "\n",
       "[4 rows x 9 columns] total bytes: 148.0 B"
      ],
      "text/plain": []
     },
     "execution_count": 58,
     "metadata": {},
     "output_type": "execute_result"
    }
   ],
   "source": [
    "ds.MonthYear = ds.Dates.strftime('%b%y')\n",
    "\n",
    "ds"
   ]
  },
  {
   "cell_type": "markdown",
   "id": "65f3d2e9",
   "metadata": {},
   "source": [
    "You can do some arithmetic with date and time objects. For example, we can get the number of days between two dates by subtracting one date from another."
   ]
  },
  {
   "cell_type": "code",
   "execution_count": 59,
   "id": "e2ff3588",
   "metadata": {},
   "outputs": [
    {
     "data": {
      "text/plain": [
       "DateSpan(['45 days'])"
      ]
     },
     "execution_count": 59,
     "metadata": {},
     "output_type": "execute_result"
    }
   ],
   "source": [
    "date_span = ds.Dates.max() - ds.Dates.min()\n",
    "\n",
    "date_span"
   ]
  },
  {
   "cell_type": "markdown",
   "id": "62b23355",
   "metadata": {},
   "source": [
    "This returns a DateSpan object, which is a way to represent the delta, or duration, between two dates. You can convert it to an integer if you prefer."
   ]
  },
  {
   "cell_type": "code",
   "execution_count": 60,
   "id": "e6f01df2",
   "metadata": {},
   "outputs": [
    {
     "data": {
      "text/plain": [
       "FastArray([45])"
      ]
     },
     "execution_count": 60,
     "metadata": {},
     "output_type": "execute_result"
    }
   ],
   "source": [
    "date_span.astype(int)"
   ]
  },
  {
   "cell_type": "markdown",
   "id": "fadf6827",
   "metadata": {},
   "source": [
    "If you add a DateSpan to a Date, you get a Date."
   ]
  },
  {
   "cell_type": "code",
   "execution_count": 61,
   "id": "e261d09b",
   "metadata": {},
   "outputs": [
    {
     "data": {
      "text/plain": [
       "Date(['2019-02-15'])"
      ]
     },
     "execution_count": 61,
     "metadata": {},
     "output_type": "execute_result"
    }
   ],
   "source": [
    "ds.Dates.min() + date_span"
   ]
  },
  {
   "cell_type": "markdown",
   "id": "5d7321d9",
   "metadata": {},
   "source": [
    "Subtracting an array of dates from an array of dates gives you an array of DateSpans. The two Date arrays must be the same length."
   ]
  },
  {
   "cell_type": "code",
   "execution_count": 62,
   "id": "e5ff09a4",
   "metadata": {},
   "outputs": [
    {
     "data": {
      "text/html": [
       "<html><head><style>table.tbl-263 tbody td{white-space: nowrap;}table.tbl-263 .lc{font-weight:bold;background-color: var( --jp-rendermime-table-row-hover-background);}table.tbl-263 .lg{background-color: #66da9940;}table.tbl-263 .lp{font-weight:bold;background-color: #ac66da40;}table.tbl-263 .msc{font-weight:normal;background-color:#00000011;}table.tbl-263 .al{text-align:left;}table.tbl-263 .ar{text-align:right;}table.tbl-263 .ac{text-align:center;}table.tbl-263 .bld{font-weight:bold;}table.tbl-263 .it{font-style:italic;}table.tbl-263 .ul{text-decoration:underline;}table.tbl-263 .st{text-decoration:line-through;}</style></head><body><table class='tbl-263'><thead><tr><td class='lc bld ar'>#</td><td class='lc bld ar'>     Dates</td><td class='lc bld ar'> Year</td><td class='lc bld ar'>Month</td><td class='lc bld ar'>Day_of_Month</td><td class='lc bld ar'>Day_of_Week</td><td class='lc bld ar'>Day_of_Year</td><td class='lc bld ar'>Start_of_Month</td><td class='lc bld ar'>Start_of_Week</td><td class='lc bld al'>MonthYear</td><td class='lc bld ar'>DateDiff</td></tr></thead><tbody><tr><td class='lc  ar '>0</td><td class='  ar '>2019-01-01</td><td class='  ar '>2,019</td><td class='  ar '>1</td><td class='  ar '>1</td><td class='  ar '>1</td><td class='  ar '>1</td><td class='  ar '>2019-01-01</td><td class='  ar '>2018-12-31</td><td class='  al '>Jan19</td><td class='  ar '>0 days</td></tr><tr><td class='lc  ar '>1</td><td class='  ar '>2019-01-16</td><td class='  ar '>2,019</td><td class='  ar '>1</td><td class='  ar '>16</td><td class='  ar '>2</td><td class='  ar '>16</td><td class='  ar '>2019-01-01</td><td class='  ar '>2019-01-14</td><td class='  al '>Jan19</td><td class='  ar '>15 days</td></tr><tr><td class='lc  ar '>2</td><td class='  ar '>2019-01-31</td><td class='  ar '>2,019</td><td class='  ar '>1</td><td class='  ar '>31</td><td class='  ar '>3</td><td class='  ar '>31</td><td class='  ar '>2019-01-01</td><td class='  ar '>2019-01-28</td><td class='  al '>Jan19</td><td class='  ar '>30 days</td></tr><tr><td class='lc  ar '>3</td><td class='  ar '>2019-02-15</td><td class='  ar '>2,019</td><td class='  ar '>2</td><td class='  ar '>15</td><td class='  ar '>4</td><td class='  ar '>46</td><td class='  ar '>2019-02-01</td><td class='  ar '>2019-02-11</td><td class='  al '>Feb19</td><td class='  ar '>14 days</td></tr></tbody></table></body></html>\n",
       "\n",
       "[4 rows x 10 columns] total bytes: 164.0 B"
      ],
      "text/plain": []
     },
     "execution_count": 62,
     "metadata": {},
     "output_type": "execute_result"
    }
   ],
   "source": [
    "ds.DateDiff = ds.Dates - ds.Start_of_Month\n",
    "\n",
    "ds"
   ]
  },
  {
   "cell_type": "markdown",
   "id": "36052e33",
   "metadata": {},
   "source": [
    "Or you can subtract one Date from every record in a Date array."
   ]
  },
  {
   "cell_type": "code",
   "execution_count": 63,
   "id": "aba7616b",
   "metadata": {},
   "outputs": [
    {
     "data": {
      "text/html": [
       "<html><head><style>table.tbl-1234 tbody td{white-space: nowrap;}table.tbl-1234 .lc{font-weight:bold;background-color: var( --jp-rendermime-table-row-hover-background);}table.tbl-1234 .lg{background-color: #66da9940;}table.tbl-1234 .lp{font-weight:bold;background-color: #ac66da40;}table.tbl-1234 .msc{font-weight:normal;background-color:#00000011;}table.tbl-1234 .al{text-align:left;}table.tbl-1234 .ar{text-align:right;}table.tbl-1234 .ac{text-align:center;}table.tbl-1234 .bld{font-weight:bold;}table.tbl-1234 .it{font-style:italic;}table.tbl-1234 .ul{text-decoration:underline;}table.tbl-1234 .st{text-decoration:line-through;}</style></head><body><table class='tbl-1234'><thead><tr><td class='lc bld ar'>#</td><td class='lc bld ar'>     Dates</td><td class='lc bld ar'> Year</td><td class='lc bld ar'>Month</td><td class='lc bld ar'>Day_of_Month</td><td class='lc bld ar'>Day_of_Week</td><td class='lc bld ar'>Day_of_Year</td><td class='lc bld ar'>Start_of_Month</td><td class='lc bld ar'>Start_of_Week</td><td class='lc bld al'>MonthYear</td><td class='lc bld ar'>DateDiff</td><td class='lc bld ar'> Dates2</td></tr></thead><tbody><tr><td class='lc  ar '>0</td><td class='  ar '>2019-01-01</td><td class='  ar '>2,019</td><td class='  ar '>1</td><td class='  ar '>1</td><td class='  ar '>1</td><td class='  ar '>1</td><td class='  ar '>2019-01-01</td><td class='  ar '>2018-12-31</td><td class='  al '>Jan19</td><td class='  ar '>0 days</td><td class='  ar '>-1 days</td></tr><tr><td class='lc  ar '>1</td><td class='  ar '>2019-01-16</td><td class='  ar '>2,019</td><td class='  ar '>1</td><td class='  ar '>16</td><td class='  ar '>2</td><td class='  ar '>16</td><td class='  ar '>2019-01-01</td><td class='  ar '>2019-01-14</td><td class='  al '>Jan19</td><td class='  ar '>15 days</td><td class='  ar '>14 days</td></tr><tr><td class='lc  ar '>2</td><td class='  ar '>2019-01-31</td><td class='  ar '>2,019</td><td class='  ar '>1</td><td class='  ar '>31</td><td class='  ar '>3</td><td class='  ar '>31</td><td class='  ar '>2019-01-01</td><td class='  ar '>2019-01-28</td><td class='  al '>Jan19</td><td class='  ar '>30 days</td><td class='  ar '>29 days</td></tr><tr><td class='lc  ar '>3</td><td class='  ar '>2019-02-15</td><td class='  ar '>2,019</td><td class='  ar '>2</td><td class='  ar '>15</td><td class='  ar '>4</td><td class='  ar '>46</td><td class='  ar '>2019-02-01</td><td class='  ar '>2019-02-11</td><td class='  al '>Feb19</td><td class='  ar '>14 days</td><td class='  ar '>44 days</td></tr></tbody></table></body></html>\n",
       "\n",
       "[4 rows x 11 columns] total bytes: 180.0 B"
      ],
      "text/plain": []
     },
     "execution_count": 63,
     "metadata": {},
     "output_type": "execute_result"
    }
   ],
   "source": [
    "ds.Dates2 = ds.Dates - rt.Date('20190102')\n",
    "\n",
    "ds"
   ]
  },
  {
   "cell_type": "markdown",
   "id": "5c9698be",
   "metadata": {},
   "source": [
    "## `DateTimeNano` Objects\n",
    "\n",
    "A `DateTimeNano` object stores data that has both date and time information, with the time specified to nanosecond precision. \n",
    "\n",
    "Like `Date` objects, `DateTimeNano` objects can be created from strings. Strings are common when the data is from, say, a CSV file. \n",
    "\n",
    "Unlike `Date` objects, `DateTimeNano`s are time-zone-aware. When you create a `DateTimeNano`, you need to specify the time zone of origin with the `from_tz` argument. Since Riptable is mainly used for financial market data, its time zone options are limited to NYC, DUBLIN, and (as of Riptable 1.3.6) Australia/Sydney, plus GMT and UTC (which is an alias for GMT).\n",
    "\n",
    "(If you're wondering why 'Australia/Sydney' isn't abbreviated, it's because Riptable uses the standard time zone name from the [tz database](https://en.wikipedia.org/wiki/Tz_database). In the future, Riptable will support only the [standard names](https://en.wikipedia.org/wiki/List_of_tz_database_time_zones) in the tz database.)"
   ]
  },
  {
   "cell_type": "code",
   "execution_count": 64,
   "id": "349ca1b0",
   "metadata": {},
   "outputs": [
    {
     "data": {
      "text/plain": [
       "DateTimeNano(['20210101 04:31:15.000000000', '20210519 01:21:17.000000000'], to_tz='NYC')"
      ]
     },
     "execution_count": 64,
     "metadata": {},
     "output_type": "execute_result"
    }
   ],
   "source": [
    "rt.DateTimeNano(['20210101 09:31:15', '20210519 05:21:17'], from_tz='GMT')"
   ]
  },
  {
   "cell_type": "markdown",
   "id": "7e762085",
   "metadata": {},
   "source": [
    "Notice that the `DateTimeNano` is returned with `to_tz='NYC'`. This is the time zone the data is displayed in; NYC is the default. You can change the display time zone when you create the `DateTimeNano` by using `to_tz`."
   ]
  },
  {
   "cell_type": "code",
   "execution_count": 65,
   "id": "a2d2d84b",
   "metadata": {},
   "outputs": [
    {
     "data": {
      "text/plain": [
       "DateTimeNano(['20210101 09:31:15.000000000', '20210519 05:21:17.000000000'], to_tz='GMT')"
      ]
     },
     "execution_count": 65,
     "metadata": {},
     "output_type": "execute_result"
    }
   ],
   "source": [
    "time_arr = rt.DateTimeNano(['20210101 09:31:15', '20210519 05:21:17'], \n",
    "                           from_tz='GMT', to_tz='GMT')\n",
    "\n",
    "time_arr"
   ]
  },
  {
   "cell_type": "markdown",
   "id": "c018f33b",
   "metadata": {},
   "source": [
    "And as with Dates, you can specify the format of your string data."
   ]
  },
  {
   "cell_type": "code",
   "execution_count": 66,
   "id": "5d93b5db",
   "metadata": {},
   "outputs": [
    {
     "data": {
      "text/plain": [
       "DateTimeNano(['20191231 00:00:00.000000000', '20190630 00:00:00.000000000'], to_tz='NYC')"
      ]
     },
     "execution_count": 66,
     "metadata": {},
     "output_type": "execute_result"
    }
   ],
   "source": [
    "rt.DateTimeNano(['12/31/19', '6/30/19'], format='%m/%d/%y', from_tz='NYC')"
   ]
  },
  {
   "cell_type": "markdown",
   "id": "69ad21ea",
   "metadata": {},
   "source": [
    "When you're dealing with large amounts of data, it's more typical to get dates and times that are represented as nanoseconds since the Unix epoch (01-01-1970). In fact, that is how `DateTimeNano` objects are stored (it's much more efficient to store numbers than strings)."
   ]
  },
  {
   "cell_type": "code",
   "execution_count": 67,
   "id": "9f09db43",
   "metadata": {},
   "outputs": [
    {
     "data": {
      "text/plain": [
       "FastArray([1609493475000000000, 1621401677000000000], dtype=int64)"
      ]
     },
     "execution_count": 67,
     "metadata": {},
     "output_type": "execute_result"
    }
   ],
   "source": [
    "time_arr._fa"
   ]
  },
  {
   "cell_type": "markdown",
   "id": "0280db6d",
   "metadata": {},
   "source": [
    "If your data comes in this way, `rt.DateTimeNano()` can convert it easily. Just supply the time zone."
   ]
  },
  {
   "cell_type": "code",
   "execution_count": 68,
   "id": "10285120",
   "metadata": {},
   "outputs": [
    {
     "data": {
      "text/plain": [
       "DateTimeNano(['20210101 14:31:15.000000000', '20210519 09:21:17.000000000'], to_tz='NYC')"
      ]
     },
     "execution_count": 68,
     "metadata": {},
     "output_type": "execute_result"
    }
   ],
   "source": [
    "rt.DateTimeNano([1609511475000000000, 1621416077000000000], from_tz='NYC')"
   ]
  },
  {
   "cell_type": "markdown",
   "id": "7d5e0e97",
   "metadata": {},
   "source": [
    "To split the date off a DateTimeNano, use `rt.Date()`.\n",
    "<!-- TODO: Put this an other examples in a ds. -->"
   ]
  },
  {
   "cell_type": "code",
   "execution_count": 69,
   "id": "ae320066",
   "metadata": {},
   "outputs": [
    {
     "data": {
      "text/plain": [
       "Date(['2021-01-01', '2021-05-19'])"
      ]
     },
     "execution_count": 69,
     "metadata": {},
     "output_type": "execute_result"
    }
   ],
   "source": [
    "rt.Date(time_arr)"
   ]
  },
  {
   "cell_type": "markdown",
   "id": "579eda7b",
   "metadata": {},
   "source": [
    "To get the time, use `time_since_midnight()`."
   ]
  },
  {
   "cell_type": "code",
   "execution_count": 70,
   "id": "f27e1dd6",
   "metadata": {},
   "outputs": [
    {
     "data": {
      "text/plain": [
       "TimeSpan(['09:31:15.000000000', '05:21:17.000000000'])"
      ]
     },
     "execution_count": 70,
     "metadata": {},
     "output_type": "execute_result"
    }
   ],
   "source": [
    "time_arr.time_since_midnight()"
   ]
  },
  {
   "cell_type": "markdown",
   "id": "62687edd",
   "metadata": {},
   "source": [
    "Note that the result is a TimeSpan. We'll look at these more in the next section.\n",
    "\n",
    "\n",
    "You can also get the time in nanoseconds since midnight."
   ]
  },
  {
   "cell_type": "code",
   "execution_count": 71,
   "id": "75272337",
   "metadata": {},
   "outputs": [
    {
     "data": {
      "text/plain": [
       "FastArray([34275000000000, 19277000000000], dtype=int64)"
      ]
     },
     "execution_count": 71,
     "metadata": {},
     "output_type": "execute_result"
    }
   ],
   "source": [
    "time_arr.nanos_since_midnight()"
   ]
  },
  {
   "cell_type": "markdown",
   "id": "0163af61",
   "metadata": {},
   "source": [
    "`DateTimeNano`s can be reformatted for display using `strftime()`."
   ]
  },
  {
   "cell_type": "code",
   "execution_count": 72,
   "id": "742c2133",
   "metadata": {},
   "outputs": [
    {
     "data": {
      "text/plain": [
       "array(['01/01/21 09:31:15', '05/19/21 05:21:17'], dtype=object)"
      ]
     },
     "execution_count": 72,
     "metadata": {},
     "output_type": "execute_result"
    }
   ],
   "source": [
    "time_arr.strftime('%m/%d/%y %H:%M:%S')  # Date and time"
   ]
  },
  {
   "cell_type": "markdown",
   "id": "879eaf38",
   "metadata": {},
   "source": [
    "Just the time:"
   ]
  },
  {
   "cell_type": "code",
   "execution_count": 73,
   "id": "89ef33a8",
   "metadata": {},
   "outputs": [
    {
     "data": {
      "text/plain": [
       "array(['09:31:15', '05:21:17'], dtype=object)"
      ]
     },
     "execution_count": 73,
     "metadata": {},
     "output_type": "execute_result"
    }
   ],
   "source": [
    "time_arr.strftime('%H:%M:%S')"
   ]
  },
  {
   "cell_type": "markdown",
   "id": "2e37c4cb",
   "metadata": {},
   "source": [
    "Some arithmetic."
   ]
  },
  {
   "cell_type": "code",
   "execution_count": 74,
   "id": "555d3c14",
   "metadata": {},
   "outputs": [],
   "source": [
    "# Create two DateTimeNano arrays\n",
    "time_arr1 = rt.DateTimeNano(['20220101 12:00:00', '20220301 13:00:00'], from_tz='NYC', to_tz='NYC')\n",
    "time_arr2 = rt.DateTimeNano(['20190101 11:00:00', '20190301 11:30:00'], from_tz='NYC', to_tz='NYC')"
   ]
  },
  {
   "cell_type": "markdown",
   "id": "4d35debe",
   "metadata": {},
   "source": [
    "`DateTimeNano` - `DateTimeNano` = `TimeSpan`"
   ]
  },
  {
   "cell_type": "code",
   "execution_count": 75,
   "id": "03b66fdf",
   "metadata": {},
   "outputs": [
    {
     "data": {
      "text/plain": [
       "TimeSpan(['1096d 01:00:00.000000000', '1096d 01:30:00.000000000'])"
      ]
     },
     "execution_count": 75,
     "metadata": {},
     "output_type": "execute_result"
    }
   ],
   "source": [
    "timespan1 = time_arr1 - time_arr2\n",
    "\n",
    "timespan1"
   ]
  },
  {
   "cell_type": "markdown",
   "id": "b076f96c",
   "metadata": {},
   "source": [
    "`DateTimeNano` + `TimeSpan` = `DateTimeNano`"
   ]
  },
  {
   "cell_type": "code",
   "execution_count": 76,
   "id": "5f8fa5f8",
   "metadata": {},
   "outputs": [
    {
     "data": {
      "text/plain": [
       "DateTimeNano(['20250101 13:00:00.000000000', '20250301 14:30:00.000000000'], to_tz='NYC')"
      ]
     },
     "execution_count": 76,
     "metadata": {},
     "output_type": "execute_result"
    }
   ],
   "source": [
    "dtn1 = time_arr1 + timespan1\n",
    "\n",
    "dtn1"
   ]
  },
  {
   "cell_type": "markdown",
   "id": "464d2799",
   "metadata": {},
   "source": [
    "`DateTimeNano` - `TimeSpan` = `DateTimeNano`"
   ]
  },
  {
   "cell_type": "code",
   "execution_count": 77,
   "id": "394c91f3",
   "metadata": {},
   "outputs": [
    {
     "data": {
      "text/plain": [
       "DateTimeNano(['20220101 12:00:00.000000000', '20220301 13:00:00.000000000'], to_tz='NYC')"
      ]
     },
     "execution_count": 77,
     "metadata": {},
     "output_type": "execute_result"
    }
   ],
   "source": [
    "dtn2 = dtn1 - timespan1   \n",
    "\n",
    "dtn2"
   ]
  },
  {
   "cell_type": "markdown",
   "id": "ec2221cc",
   "metadata": {},
   "source": [
    "## `TimeSpan` Objects\n",
    "\n",
    "You saw above how a `TimeSpan` represents a duration of time between two `DateTimeNano`s. You can also think of it as a representation of a time of day. \n",
    "\n",
    "Recall that you can split a `TimeSpan` off a `DateTimeNano` using `time_since_midnight()`. Just keep in mind that a `TimeSpan` by itself has no absolute reference to Midnight of any day in particular.\n",
    "\n",
    "As an example, let's say you want to find out which trades were made before a certain time of day (on any day). If your data has `DateTimeNano`s, you can split off the `TimeSpan`, then filter for the times you're interested in."
   ]
  },
  {
   "cell_type": "code",
   "execution_count": 78,
   "id": "aa564475",
   "metadata": {},
   "outputs": [
    {
     "data": {
      "text/html": [
       "<html><head><style>table.tbl-6942 tbody td{white-space: nowrap;}table.tbl-6942 .lc{font-weight:bold;background-color: var( --jp-rendermime-table-row-hover-background);}table.tbl-6942 .lg{background-color: #66da9940;}table.tbl-6942 .lp{font-weight:bold;background-color: #ac66da40;}table.tbl-6942 .msc{font-weight:normal;background-color:#00000011;}table.tbl-6942 .al{text-align:left;}table.tbl-6942 .ar{text-align:right;}table.tbl-6942 .ac{text-align:center;}table.tbl-6942 .bld{font-weight:bold;}table.tbl-6942 .it{font-style:italic;}table.tbl-6942 .ul{text-decoration:underline;}table.tbl-6942 .st{text-decoration:line-through;}</style></head><body><table class='tbl-6942'><thead><tr><td class='lc bld ar'>  #</td><td class='lc bld al'>Symbol</td><td class='lc bld ar'> Size</td><td class='lc bld ar'>              TradeDateTime</td><td class='lc bld ar'>         TradeTime</td></tr></thead><tbody><tr><td class='lc  ar '>0</td><td class='  al '>GME</td><td class='  ar '>77.40</td><td class='  ar '>20071022 00:04:41.326607217</td><td class='  ar '>00:04:41.326607217</td></tr><tr><td class='lc  ar '>1</td><td class='  al '>AAPL</td><td class='  ar '>43.89</td><td class='  ar '>19791101 05:14:23.956732255</td><td class='  ar '>05:14:23.956732255</td></tr><tr><td class='lc  ar '>2</td><td class='  al '>SPY</td><td class='  ar '>85.86</td><td class='  ar '>19840121 21:33:31.540623842</td><td class='  ar '>21:33:31.540623842</td></tr><tr><td class='lc  ar '>3</td><td class='  al '>GME</td><td class='  ar '>69.74</td><td class='  ar '>19720315 15:05:04.360183527</td><td class='  ar '>15:05:04.360183527</td></tr><tr><td class='lc  ar '>4</td><td class='  al '>GME</td><td class='  ar '>9.42</td><td class='  ar '>19830306 05:58:52.000155286</td><td class='  ar '>05:58:52.000155286</td></tr><tr><td class='lc  ar '>5</td><td class='  al '>TSLA</td><td class='  ar '>97.56</td><td class='  ar '>20180518 12:11:17.238038067</td><td class='  ar '>12:11:17.238038067</td></tr><tr><td class='lc  ar '>6</td><td class='  al '>AMZN</td><td class='  ar '>76.11</td><td class='  ar '>19941017 15:09:44.825344623</td><td class='  ar '>15:09:44.825344623</td></tr><tr><td class='lc  ar '>7</td><td class='  al '>SPY</td><td class='  ar '>78.61</td><td class='  ar '>19831027 06:05:05.649265806</td><td class='  ar '>06:05:05.649265806</td></tr><tr><td class='lc  ar '>8</td><td class='  al '>AMZN</td><td class='  ar '>12.81</td><td class='  ar '>19860618 16:49:16.405217903</td><td class='  ar '>16:49:16.405217903</td></tr><tr><td class='lc  ar '>9</td><td class='  al '>SPY</td><td class='  ar '>45.04</td><td class='  ar '>19820208 12:54:04.032099791</td><td class='  ar '>12:54:04.032099791</td></tr><tr><td class='lc  ar '>10</td><td class='  al '>GME</td><td class='  ar '>37.08</td><td class='  ar '>20130811 22:13:30.736601505</td><td class='  ar '>22:13:30.736601505</td></tr><tr><td class='lc  ar '>11</td><td class='  al '>TSLA</td><td class='  ar '>92.68</td><td class='  ar '>20120319 01:33:32.346477845</td><td class='  ar '>01:33:32.346477845</td></tr><tr><td class='lc  ar '>12</td><td class='  al '>SPY</td><td class='  ar '>64.39</td><td class='  ar '>19940605 00:44:16.452040573</td><td class='  ar '>00:44:16.452040573</td></tr><tr><td class='lc  ar '>13</td><td class='  al '>AAPL</td><td class='  ar '>82.28</td><td class='  ar '>19860116 23:37:06.426702287</td><td class='  ar '>23:37:06.426702287</td></tr><tr><td class='lc  ar '>14</td><td class='  al '>GME</td><td class='  ar '>44.34</td><td class='  ar '>19740822 11:50:19.014751927</td><td class='  ar '>11:50:19.014751927</td></tr><tr><td class='lc  ar '>...</td><td class='  al '>...</td><td class='  ar '>...</td><td class='  ar '>...</td><td class='  ar '>...</td></tr><tr><td class='lc  ar '>85</td><td class='  al '>AMZN</td><td class='  ar '>9.00</td><td class='  ar '>20030930 20:54:28.941869961</td><td class='  ar '>20:54:28.941869961</td></tr><tr><td class='lc  ar '>86</td><td class='  al '>TSLA</td><td class='  ar '>72.24</td><td class='  ar '>20101218 03:38:03.785382551</td><td class='  ar '>03:38:03.785382551</td></tr><tr><td class='lc  ar '>87</td><td class='  al '>TSLA</td><td class='  ar '>46.19</td><td class='  ar '>19800324 20:17:10.397838686</td><td class='  ar '>20:17:10.397838686</td></tr><tr><td class='lc  ar '>88</td><td class='  al '>SPY</td><td class='  ar '>16.13</td><td class='  ar '>19730804 12:30:55.923983527</td><td class='  ar '>12:30:55.923983527</td></tr><tr><td class='lc  ar '>89</td><td class='  al '>AAPL</td><td class='  ar '>50.10</td><td class='  ar '>20000421 05:27:14.998377831</td><td class='  ar '>05:27:14.998377831</td></tr><tr><td class='lc  ar '>90</td><td class='  al '>AAPL</td><td class='  ar '>15.23</td><td class='  ar '>19970701 14:14:10.614259022</td><td class='  ar '>14:14:10.614259022</td></tr><tr><td class='lc  ar '>91</td><td class='  al '>GME</td><td class='  ar '>69.63</td><td class='  ar '>19930106 20:14:00.411437708</td><td class='  ar '>20:14:00.411437708</td></tr><tr><td class='lc  ar '>92</td><td class='  al '>SPY</td><td class='  ar '>44.62</td><td class='  ar '>19811111 00:05:44.708289107</td><td class='  ar '>00:05:44.708289107</td></tr><tr><td class='lc  ar '>93</td><td class='  al '>SPY</td><td class='  ar '>38.10</td><td class='  ar '>20190330 02:06:38.914575545</td><td class='  ar '>02:06:38.914575545</td></tr><tr><td class='lc  ar '>94</td><td class='  al '>TSLA</td><td class='  ar '>30.15</td><td class='  ar '>19870215 23:59:44.541606989</td><td class='  ar '>23:59:44.541606989</td></tr><tr><td class='lc  ar '>95</td><td class='  al '>AAPL</td><td class='  ar '>63.03</td><td class='  ar '>20160612 23:30:01.547081037</td><td class='  ar '>23:30:01.547081037</td></tr><tr><td class='lc  ar '>96</td><td class='  al '>TSLA</td><td class='  ar '>36.18</td><td class='  ar '>19850507 11:09:41.691798225</td><td class='  ar '>11:09:41.691798225</td></tr><tr><td class='lc  ar '>97</td><td class='  al '>TSLA</td><td class='  ar '>8.76</td><td class='  ar '>20010418 01:58:26.997630324</td><td class='  ar '>01:58:26.997630324</td></tr><tr><td class='lc  ar '>98</td><td class='  al '>TSLA</td><td class='  ar '>11.80</td><td class='  ar '>20050220 18:13:38.519716980</td><td class='  ar '>18:13:38.519716980</td></tr><tr><td class='lc  ar '>99</td><td class='  al '>TSLA</td><td class='  ar '>96.19</td><td class='  ar '>20140702 10:45:03.033890025</td><td class='  ar '>10:45:03.033890025</td></tr></tbody></table></body></html>\n",
       "\n",
       "[100 rows x 4 columns] total bytes: 2.7 KB"
      ],
      "text/plain": []
     },
     "execution_count": 78,
     "metadata": {},
     "output_type": "execute_result"
    }
   ],
   "source": [
    "rng = np.random.default_rng(seed=42)\n",
    "\n",
    "ds = rt.Dataset()\n",
    "N = 100  # Length of the Dataset\n",
    "\n",
    "ds.Symbol = rt.FA(rng.choice(['AAPL', 'AMZN', 'TSLA', 'SPY', 'GME'], N))\n",
    "ds.Size = rng.random(N) * 100\n",
    "\n",
    "# Create a column of randomly generated DateTimeNanos\n",
    "ds.TradeDateTime = rt.DateTimeNano.random(N)\n",
    "\n",
    "ds.TradeTime = ds.TradeDateTime.time_since_midnight()\n",
    "ds"
   ]
  },
  {
   "cell_type": "markdown",
   "id": "40b2aaf2",
   "metadata": {},
   "source": [
    "If we want to find the trades that happened before 10:00 a.m., we need a TimeSpan that represents 10:00 a.m. Then we can can compare our TradeTimes against it.\n",
    "\n",
    "To construct a TimeSpan from scratch, you can pass time strings in `%H:%M:%S` format:"
   ]
  },
  {
   "cell_type": "code",
   "execution_count": 79,
   "id": "f68938dc",
   "metadata": {},
   "outputs": [
    {
     "data": {
      "text/plain": [
       "TimeSpan(['09:00:00.000000000', '10:45:00.000000000', '02:30:00.000000000', '15:00:00.000000000', '23:10:00.000000000'])"
      ]
     },
     "execution_count": 79,
     "metadata": {},
     "output_type": "execute_result"
    }
   ],
   "source": [
    "rt.TimeSpan(['09:00', '10:45', '02:30', '15:00', '23:10'])"
   ]
  },
  {
   "cell_type": "markdown",
   "id": "4ca2e97b",
   "metadata": {},
   "source": [
    "Or from an array of numerics, along with a unit, like hours:"
   ]
  },
  {
   "cell_type": "code",
   "execution_count": 80,
   "id": "9dfe4ea0",
   "metadata": {},
   "outputs": [
    {
     "data": {
      "text/plain": [
       "TimeSpan(['09:00:00.000000000', '10:00:00.000000000', '12:00:00.000000000', '14:00:00.000000000', '18:00:00.000000000'])"
      ]
     },
     "execution_count": 80,
     "metadata": {},
     "output_type": "execute_result"
    }
   ],
   "source": [
    "rt.TimeSpan([9, 10, 12, 14, 18], unit='h')"
   ]
  },
  {
   "cell_type": "markdown",
   "id": "5cb9109f",
   "metadata": {},
   "source": [
    "For our purposes, this will do:"
   ]
  },
  {
   "cell_type": "code",
   "execution_count": 81,
   "id": "4bbeb97f",
   "metadata": {},
   "outputs": [
    {
     "data": {
      "text/plain": [
       "TimeSpan(['10:00:00.000000000'])"
      ]
     },
     "execution_count": 81,
     "metadata": {},
     "output_type": "execute_result"
    }
   ],
   "source": [
    "tenAM = rt.TimeSpan(10, unit='h')\n",
    "\n",
    "tenAM"
   ]
  },
  {
   "cell_type": "markdown",
   "id": "28208106",
   "metadata": {},
   "source": [
    "Now we can compare the TradeTime values against it. We'll put the results of the comparison into a column so we can spot check them."
   ]
  },
  {
   "cell_type": "code",
   "execution_count": 82,
   "id": "15ce17b4",
   "metadata": {},
   "outputs": [
    {
     "data": {
      "text/html": [
       "<html><head><style>table.tbl-2693 tbody td{white-space: nowrap;}table.tbl-2693 .lc{font-weight:bold;background-color: var( --jp-rendermime-table-row-hover-background);}table.tbl-2693 .lg{background-color: #66da9940;}table.tbl-2693 .lp{font-weight:bold;background-color: #ac66da40;}table.tbl-2693 .msc{font-weight:normal;background-color:#00000011;}table.tbl-2693 .al{text-align:left;}table.tbl-2693 .ar{text-align:right;}table.tbl-2693 .ac{text-align:center;}table.tbl-2693 .bld{font-weight:bold;}table.tbl-2693 .it{font-style:italic;}table.tbl-2693 .ul{text-decoration:underline;}table.tbl-2693 .st{text-decoration:line-through;}</style></head><body><table class='tbl-2693'><thead><tr><td class='lc bld ar'>  #</td><td class='lc bld al'>Symbol</td><td class='lc bld ar'> Size</td><td class='lc bld ar'>              TradeDateTime</td><td class='lc bld ar'>         TradeTime</td><td class='lc bld ar'>TradesBefore10am</td></tr></thead><tbody><tr><td class='lc  ar '>0</td><td class='  al '>GME</td><td class='  ar '>77.40</td><td class='  ar '>20071022 00:04:41.326607217</td><td class='  ar '>00:04:41.326607217</td><td class='  ar '>True</td></tr><tr><td class='lc  ar '>1</td><td class='  al '>AAPL</td><td class='  ar '>43.89</td><td class='  ar '>19791101 05:14:23.956732255</td><td class='  ar '>05:14:23.956732255</td><td class='  ar '>True</td></tr><tr><td class='lc  ar '>2</td><td class='  al '>SPY</td><td class='  ar '>85.86</td><td class='  ar '>19840121 21:33:31.540623842</td><td class='  ar '>21:33:31.540623842</td><td class='  ar '>False</td></tr><tr><td class='lc  ar '>3</td><td class='  al '>GME</td><td class='  ar '>69.74</td><td class='  ar '>19720315 15:05:04.360183527</td><td class='  ar '>15:05:04.360183527</td><td class='  ar '>False</td></tr><tr><td class='lc  ar '>4</td><td class='  al '>GME</td><td class='  ar '>9.42</td><td class='  ar '>19830306 05:58:52.000155286</td><td class='  ar '>05:58:52.000155286</td><td class='  ar '>True</td></tr><tr><td class='lc  ar '>5</td><td class='  al '>TSLA</td><td class='  ar '>97.56</td><td class='  ar '>20180518 12:11:17.238038067</td><td class='  ar '>12:11:17.238038067</td><td class='  ar '>False</td></tr><tr><td class='lc  ar '>6</td><td class='  al '>AMZN</td><td class='  ar '>76.11</td><td class='  ar '>19941017 15:09:44.825344623</td><td class='  ar '>15:09:44.825344623</td><td class='  ar '>False</td></tr><tr><td class='lc  ar '>7</td><td class='  al '>SPY</td><td class='  ar '>78.61</td><td class='  ar '>19831027 06:05:05.649265806</td><td class='  ar '>06:05:05.649265806</td><td class='  ar '>True</td></tr><tr><td class='lc  ar '>8</td><td class='  al '>AMZN</td><td class='  ar '>12.81</td><td class='  ar '>19860618 16:49:16.405217903</td><td class='  ar '>16:49:16.405217903</td><td class='  ar '>False</td></tr><tr><td class='lc  ar '>9</td><td class='  al '>SPY</td><td class='  ar '>45.04</td><td class='  ar '>19820208 12:54:04.032099791</td><td class='  ar '>12:54:04.032099791</td><td class='  ar '>False</td></tr><tr><td class='lc  ar '>10</td><td class='  al '>GME</td><td class='  ar '>37.08</td><td class='  ar '>20130811 22:13:30.736601505</td><td class='  ar '>22:13:30.736601505</td><td class='  ar '>False</td></tr><tr><td class='lc  ar '>11</td><td class='  al '>TSLA</td><td class='  ar '>92.68</td><td class='  ar '>20120319 01:33:32.346477845</td><td class='  ar '>01:33:32.346477845</td><td class='  ar '>True</td></tr><tr><td class='lc  ar '>12</td><td class='  al '>SPY</td><td class='  ar '>64.39</td><td class='  ar '>19940605 00:44:16.452040573</td><td class='  ar '>00:44:16.452040573</td><td class='  ar '>True</td></tr><tr><td class='lc  ar '>13</td><td class='  al '>AAPL</td><td class='  ar '>82.28</td><td class='  ar '>19860116 23:37:06.426702287</td><td class='  ar '>23:37:06.426702287</td><td class='  ar '>False</td></tr><tr><td class='lc  ar '>14</td><td class='  al '>GME</td><td class='  ar '>44.34</td><td class='  ar '>19740822 11:50:19.014751927</td><td class='  ar '>11:50:19.014751927</td><td class='  ar '>False</td></tr><tr><td class='lc  ar '>...</td><td class='  al '>...</td><td class='  ar '>...</td><td class='  ar '>...</td><td class='  ar '>...</td><td class='  ar '>...</td></tr><tr><td class='lc  ar '>85</td><td class='  al '>AMZN</td><td class='  ar '>9.00</td><td class='  ar '>20030930 20:54:28.941869961</td><td class='  ar '>20:54:28.941869961</td><td class='  ar '>False</td></tr><tr><td class='lc  ar '>86</td><td class='  al '>TSLA</td><td class='  ar '>72.24</td><td class='  ar '>20101218 03:38:03.785382551</td><td class='  ar '>03:38:03.785382551</td><td class='  ar '>True</td></tr><tr><td class='lc  ar '>87</td><td class='  al '>TSLA</td><td class='  ar '>46.19</td><td class='  ar '>19800324 20:17:10.397838686</td><td class='  ar '>20:17:10.397838686</td><td class='  ar '>False</td></tr><tr><td class='lc  ar '>88</td><td class='  al '>SPY</td><td class='  ar '>16.13</td><td class='  ar '>19730804 12:30:55.923983527</td><td class='  ar '>12:30:55.923983527</td><td class='  ar '>False</td></tr><tr><td class='lc  ar '>89</td><td class='  al '>AAPL</td><td class='  ar '>50.10</td><td class='  ar '>20000421 05:27:14.998377831</td><td class='  ar '>05:27:14.998377831</td><td class='  ar '>True</td></tr><tr><td class='lc  ar '>90</td><td class='  al '>AAPL</td><td class='  ar '>15.23</td><td class='  ar '>19970701 14:14:10.614259022</td><td class='  ar '>14:14:10.614259022</td><td class='  ar '>False</td></tr><tr><td class='lc  ar '>91</td><td class='  al '>GME</td><td class='  ar '>69.63</td><td class='  ar '>19930106 20:14:00.411437708</td><td class='  ar '>20:14:00.411437708</td><td class='  ar '>False</td></tr><tr><td class='lc  ar '>92</td><td class='  al '>SPY</td><td class='  ar '>44.62</td><td class='  ar '>19811111 00:05:44.708289107</td><td class='  ar '>00:05:44.708289107</td><td class='  ar '>True</td></tr><tr><td class='lc  ar '>93</td><td class='  al '>SPY</td><td class='  ar '>38.10</td><td class='  ar '>20190330 02:06:38.914575545</td><td class='  ar '>02:06:38.914575545</td><td class='  ar '>True</td></tr><tr><td class='lc  ar '>94</td><td class='  al '>TSLA</td><td class='  ar '>30.15</td><td class='  ar '>19870215 23:59:44.541606989</td><td class='  ar '>23:59:44.541606989</td><td class='  ar '>False</td></tr><tr><td class='lc  ar '>95</td><td class='  al '>AAPL</td><td class='  ar '>63.03</td><td class='  ar '>20160612 23:30:01.547081037</td><td class='  ar '>23:30:01.547081037</td><td class='  ar '>False</td></tr><tr><td class='lc  ar '>96</td><td class='  al '>TSLA</td><td class='  ar '>36.18</td><td class='  ar '>19850507 11:09:41.691798225</td><td class='  ar '>11:09:41.691798225</td><td class='  ar '>False</td></tr><tr><td class='lc  ar '>97</td><td class='  al '>TSLA</td><td class='  ar '>8.76</td><td class='  ar '>20010418 01:58:26.997630324</td><td class='  ar '>01:58:26.997630324</td><td class='  ar '>True</td></tr><tr><td class='lc  ar '>98</td><td class='  al '>TSLA</td><td class='  ar '>11.80</td><td class='  ar '>20050220 18:13:38.519716980</td><td class='  ar '>18:13:38.519716980</td><td class='  ar '>False</td></tr><tr><td class='lc  ar '>99</td><td class='  al '>TSLA</td><td class='  ar '>96.19</td><td class='  ar '>20140702 10:45:03.033890025</td><td class='  ar '>10:45:03.033890025</td><td class='  ar '>False</td></tr></tbody></table></body></html>\n",
       "\n",
       "[100 rows x 5 columns] total bytes: 2.8 KB"
      ],
      "text/plain": []
     },
     "execution_count": 82,
     "metadata": {},
     "output_type": "execute_result"
    }
   ],
   "source": [
    "ds.TradesBefore10am = (ds.TradeTime < tenAM)\n",
    "\n",
    "ds"
   ]
  },
  {
   "cell_type": "markdown",
   "id": "d96e3589",
   "metadata": {},
   "source": [
    "And of course, we can use the Boolean array to filter the Dataset."
   ]
  },
  {
   "cell_type": "code",
   "execution_count": 83,
   "id": "4d485bad",
   "metadata": {},
   "outputs": [
    {
     "data": {
      "text/html": [
       "<html><head><style>table.tbl-5549 tbody td{white-space: nowrap;}table.tbl-5549 .lc{font-weight:bold;background-color: var( --jp-rendermime-table-row-hover-background);}table.tbl-5549 .lg{background-color: #66da9940;}table.tbl-5549 .lp{font-weight:bold;background-color: #ac66da40;}table.tbl-5549 .msc{font-weight:normal;background-color:#00000011;}table.tbl-5549 .al{text-align:left;}table.tbl-5549 .ar{text-align:right;}table.tbl-5549 .ac{text-align:center;}table.tbl-5549 .bld{font-weight:bold;}table.tbl-5549 .it{font-style:italic;}table.tbl-5549 .ul{text-decoration:underline;}table.tbl-5549 .st{text-decoration:line-through;}</style></head><body><table class='tbl-5549'><thead><tr><td class='lc bld ar'>  #</td><td class='lc bld al'>Symbol</td><td class='lc bld ar'> Size</td><td class='lc bld ar'>              TradeDateTime</td><td class='lc bld ar'>         TradeTime</td><td class='lc bld ar'>TradesBefore10am</td></tr></thead><tbody><tr><td class='lc  ar '>0</td><td class='  al '>GME</td><td class='  ar '>77.40</td><td class='  ar '>20071022 00:04:41.326607217</td><td class='  ar '>00:04:41.326607217</td><td class='  ar '>True</td></tr><tr><td class='lc  ar '>1</td><td class='  al '>AAPL</td><td class='  ar '>43.89</td><td class='  ar '>19791101 05:14:23.956732255</td><td class='  ar '>05:14:23.956732255</td><td class='  ar '>True</td></tr><tr><td class='lc  ar '>2</td><td class='  al '>GME</td><td class='  ar '>9.42</td><td class='  ar '>19830306 05:58:52.000155286</td><td class='  ar '>05:58:52.000155286</td><td class='  ar '>True</td></tr><tr><td class='lc  ar '>3</td><td class='  al '>SPY</td><td class='  ar '>78.61</td><td class='  ar '>19831027 06:05:05.649265806</td><td class='  ar '>06:05:05.649265806</td><td class='  ar '>True</td></tr><tr><td class='lc  ar '>4</td><td class='  al '>TSLA</td><td class='  ar '>92.68</td><td class='  ar '>20120319 01:33:32.346477845</td><td class='  ar '>01:33:32.346477845</td><td class='  ar '>True</td></tr><tr><td class='lc  ar '>5</td><td class='  al '>SPY</td><td class='  ar '>64.39</td><td class='  ar '>19940605 00:44:16.452040573</td><td class='  ar '>00:44:16.452040573</td><td class='  ar '>True</td></tr><tr><td class='lc  ar '>6</td><td class='  al '>GME</td><td class='  ar '>55.46</td><td class='  ar '>19820710 04:12:42.406084379</td><td class='  ar '>04:12:42.406084379</td><td class='  ar '>True</td></tr><tr><td class='lc  ar '>7</td><td class='  al '>GME</td><td class='  ar '>82.76</td><td class='  ar '>20060509 08:33:44.801775530</td><td class='  ar '>08:33:44.801775530</td><td class='  ar '>True</td></tr><tr><td class='lc  ar '>8</td><td class='  al '>AMZN</td><td class='  ar '>75.81</td><td class='  ar '>20080818 03:45:47.742051033</td><td class='  ar '>03:45:47.742051033</td><td class='  ar '>True</td></tr><tr><td class='lc  ar '>9</td><td class='  al '>TSLA</td><td class='  ar '>35.45</td><td class='  ar '>19831003 06:33:02.345767650</td><td class='  ar '>06:33:02.345767650</td><td class='  ar '>True</td></tr><tr><td class='lc  ar '>10</td><td class='  al '>GME</td><td class='  ar '>97.07</td><td class='  ar '>20121002 03:03:39.007903201</td><td class='  ar '>03:03:39.007903201</td><td class='  ar '>True</td></tr><tr><td class='lc  ar '>11</td><td class='  al '>AAPL</td><td class='  ar '>4.38</td><td class='  ar '>20120508 01:03:51.481240959</td><td class='  ar '>01:03:51.481240959</td><td class='  ar '>True</td></tr><tr><td class='lc  ar '>12</td><td class='  al '>TSLA</td><td class='  ar '>68.30</td><td class='  ar '>19960321 09:37:56.629535576</td><td class='  ar '>09:37:56.629535576</td><td class='  ar '>True</td></tr><tr><td class='lc  ar '>13</td><td class='  al '>TSLA</td><td class='  ar '>74.48</td><td class='  ar '>20020401 02:14:53.437923125</td><td class='  ar '>02:14:53.437923125</td><td class='  ar '>True</td></tr><tr><td class='lc  ar '>14</td><td class='  al '>GME</td><td class='  ar '>32.58</td><td class='  ar '>20010524 03:08:37.505935092</td><td class='  ar '>03:08:37.505935092</td><td class='  ar '>True</td></tr><tr><td class='lc  ar '>...</td><td class='  al '>...</td><td class='  ar '>...</td><td class='  ar '>...</td><td class='  ar '>...</td><td class='  ar '>...</td></tr><tr><td class='lc  ar '>25</td><td class='  al '>AMZN</td><td class='  ar '>70.52</td><td class='  ar '>20071129 07:04:45.316806188</td><td class='  ar '>07:04:45.316806188</td><td class='  ar '>True</td></tr><tr><td class='lc  ar '>26</td><td class='  al '>AMZN</td><td class='  ar '>45.89</td><td class='  ar '>20070213 01:10:58.028104816</td><td class='  ar '>01:10:58.028104816</td><td class='  ar '>True</td></tr><tr><td class='lc  ar '>27</td><td class='  al '>GME</td><td class='  ar '>56.87</td><td class='  ar '>20100404 03:33:38.125830873</td><td class='  ar '>03:33:38.125830873</td><td class='  ar '>True</td></tr><tr><td class='lc  ar '>28</td><td class='  al '>AMZN</td><td class='  ar '>3.08</td><td class='  ar '>20170124 09:03:53.301001195</td><td class='  ar '>09:03:53.301001195</td><td class='  ar '>True</td></tr><tr><td class='lc  ar '>29</td><td class='  al '>SPY</td><td class='  ar '>23.39</td><td class='  ar '>19780420 06:15:17.988356799</td><td class='  ar '>06:15:17.988356799</td><td class='  ar '>True</td></tr><tr><td class='lc  ar '>30</td><td class='  al '>GME</td><td class='  ar '>5.83</td><td class='  ar '>20020127 05:33:40.506582073</td><td class='  ar '>05:33:40.506582073</td><td class='  ar '>True</td></tr><tr><td class='lc  ar '>31</td><td class='  al '>AAPL</td><td class='  ar '>28.14</td><td class='  ar '>19800216 06:41:20.374329921</td><td class='  ar '>06:41:20.374329921</td><td class='  ar '>True</td></tr><tr><td class='lc  ar '>32</td><td class='  al '>GME</td><td class='  ar '>55.70</td><td class='  ar '>20020413 09:59:46.369885326</td><td class='  ar '>09:59:46.369885326</td><td class='  ar '>True</td></tr><tr><td class='lc  ar '>33</td><td class='  al '>AAPL</td><td class='  ar '>78.39</td><td class='  ar '>20030806 00:16:06.088527238</td><td class='  ar '>00:16:06.088527238</td><td class='  ar '>True</td></tr><tr><td class='lc  ar '>34</td><td class='  al '>AMZN</td><td class='  ar '>2.27</td><td class='  ar '>19910726 07:49:50.296809730</td><td class='  ar '>07:49:50.296809730</td><td class='  ar '>True</td></tr><tr><td class='lc  ar '>35</td><td class='  al '>TSLA</td><td class='  ar '>72.24</td><td class='  ar '>20101218 03:38:03.785382551</td><td class='  ar '>03:38:03.785382551</td><td class='  ar '>True</td></tr><tr><td class='lc  ar '>36</td><td class='  al '>AAPL</td><td class='  ar '>50.10</td><td class='  ar '>20000421 05:27:14.998377831</td><td class='  ar '>05:27:14.998377831</td><td class='  ar '>True</td></tr><tr><td class='lc  ar '>37</td><td class='  al '>SPY</td><td class='  ar '>44.62</td><td class='  ar '>19811111 00:05:44.708289107</td><td class='  ar '>00:05:44.708289107</td><td class='  ar '>True</td></tr><tr><td class='lc  ar '>38</td><td class='  al '>SPY</td><td class='  ar '>38.10</td><td class='  ar '>20190330 02:06:38.914575545</td><td class='  ar '>02:06:38.914575545</td><td class='  ar '>True</td></tr><tr><td class='lc  ar '>39</td><td class='  al '>TSLA</td><td class='  ar '>8.76</td><td class='  ar '>20010418 01:58:26.997630324</td><td class='  ar '>01:58:26.997630324</td><td class='  ar '>True</td></tr></tbody></table></body></html>\n",
       "\n",
       "[40 rows x 5 columns] total bytes: 1.1 KB"
      ],
      "text/plain": []
     },
     "execution_count": 83,
     "metadata": {},
     "output_type": "execute_result"
    }
   ],
   "source": [
    "ds.filter(ds.TradesBefore10am)"
   ]
  },
  {
   "cell_type": "markdown",
   "id": "493aa1cb",
   "metadata": {},
   "source": [
    "If we only want to see certain columns of the Dataset, we can combine the filter with slicing:"
   ]
  },
  {
   "cell_type": "code",
   "execution_count": 84,
   "id": "a73a2285",
   "metadata": {},
   "outputs": [
    {
     "data": {
      "text/html": [
       "<html><head><style>table.tbl-2418 tbody td{white-space: nowrap;}table.tbl-2418 .lc{font-weight:bold;background-color: var( --jp-rendermime-table-row-hover-background);}table.tbl-2418 .lg{background-color: #66da9940;}table.tbl-2418 .lp{font-weight:bold;background-color: #ac66da40;}table.tbl-2418 .msc{font-weight:normal;background-color:#00000011;}table.tbl-2418 .al{text-align:left;}table.tbl-2418 .ar{text-align:right;}table.tbl-2418 .ac{text-align:center;}table.tbl-2418 .bld{font-weight:bold;}table.tbl-2418 .it{font-style:italic;}table.tbl-2418 .ul{text-decoration:underline;}table.tbl-2418 .st{text-decoration:line-through;}</style></head><body><table class='tbl-2418'><thead><tr><td class='lc bld ar'>  #</td><td class='lc bld al'>Symbol</td><td class='lc bld ar'> Size</td></tr></thead><tbody><tr><td class='lc  ar '>0</td><td class='  al '>GME</td><td class='  ar '>77.40</td></tr><tr><td class='lc  ar '>1</td><td class='  al '>AAPL</td><td class='  ar '>43.89</td></tr><tr><td class='lc  ar '>2</td><td class='  al '>GME</td><td class='  ar '>9.42</td></tr><tr><td class='lc  ar '>3</td><td class='  al '>SPY</td><td class='  ar '>78.61</td></tr><tr><td class='lc  ar '>4</td><td class='  al '>TSLA</td><td class='  ar '>92.68</td></tr><tr><td class='lc  ar '>5</td><td class='  al '>SPY</td><td class='  ar '>64.39</td></tr><tr><td class='lc  ar '>6</td><td class='  al '>GME</td><td class='  ar '>55.46</td></tr><tr><td class='lc  ar '>7</td><td class='  al '>GME</td><td class='  ar '>82.76</td></tr><tr><td class='lc  ar '>8</td><td class='  al '>AMZN</td><td class='  ar '>75.81</td></tr><tr><td class='lc  ar '>9</td><td class='  al '>TSLA</td><td class='  ar '>35.45</td></tr><tr><td class='lc  ar '>10</td><td class='  al '>GME</td><td class='  ar '>97.07</td></tr><tr><td class='lc  ar '>11</td><td class='  al '>AAPL</td><td class='  ar '>4.38</td></tr><tr><td class='lc  ar '>12</td><td class='  al '>TSLA</td><td class='  ar '>68.30</td></tr><tr><td class='lc  ar '>13</td><td class='  al '>TSLA</td><td class='  ar '>74.48</td></tr><tr><td class='lc  ar '>14</td><td class='  al '>GME</td><td class='  ar '>32.58</td></tr><tr><td class='lc  ar '>...</td><td class='  al '>...</td><td class='  ar '>...</td></tr><tr><td class='lc  ar '>25</td><td class='  al '>AMZN</td><td class='  ar '>70.52</td></tr><tr><td class='lc  ar '>26</td><td class='  al '>AMZN</td><td class='  ar '>45.89</td></tr><tr><td class='lc  ar '>27</td><td class='  al '>GME</td><td class='  ar '>56.87</td></tr><tr><td class='lc  ar '>28</td><td class='  al '>AMZN</td><td class='  ar '>3.08</td></tr><tr><td class='lc  ar '>29</td><td class='  al '>SPY</td><td class='  ar '>23.39</td></tr><tr><td class='lc  ar '>30</td><td class='  al '>GME</td><td class='  ar '>5.83</td></tr><tr><td class='lc  ar '>31</td><td class='  al '>AAPL</td><td class='  ar '>28.14</td></tr><tr><td class='lc  ar '>32</td><td class='  al '>GME</td><td class='  ar '>55.70</td></tr><tr><td class='lc  ar '>33</td><td class='  al '>AAPL</td><td class='  ar '>78.39</td></tr><tr><td class='lc  ar '>34</td><td class='  al '>AMZN</td><td class='  ar '>2.27</td></tr><tr><td class='lc  ar '>35</td><td class='  al '>TSLA</td><td class='  ar '>72.24</td></tr><tr><td class='lc  ar '>36</td><td class='  al '>AAPL</td><td class='  ar '>50.10</td></tr><tr><td class='lc  ar '>37</td><td class='  al '>SPY</td><td class='  ar '>44.62</td></tr><tr><td class='lc  ar '>38</td><td class='  al '>SPY</td><td class='  ar '>38.10</td></tr><tr><td class='lc  ar '>39</td><td class='  al '>TSLA</td><td class='  ar '>8.76</td></tr></tbody></table></body></html>\n",
       "\n",
       "[40 rows x 2 columns] total bytes: 480.0 B"
      ],
      "text/plain": []
     },
     "execution_count": 84,
     "metadata": {},
     "output_type": "execute_result"
    }
   ],
   "source": [
    "ds[ds.TradesBefore10am, ['Symbol', 'Size']]"
   ]
  },
  {
   "cell_type": "markdown",
   "id": "fbd58d0b",
   "metadata": {},
   "source": [
    "Or if we just want the total size of AAPL trades before 10am:"
   ]
  },
  {
   "cell_type": "code",
   "execution_count": 85,
   "id": "10eb4148",
   "metadata": {},
   "outputs": [
    {
     "data": {
      "text/plain": [
       "274.92741837733035"
      ]
     },
     "execution_count": 85,
     "metadata": {},
     "output_type": "execute_result"
    }
   ],
   "source": [
    "aapl10 = (ds.Symbol == 'AAPL') & (ds.TradesBefore10am)\n",
    "\n",
    "ds.Size.nansum(filter = aapl10)"
   ]
  },
  {
   "cell_type": "markdown",
   "id": "e2c989be-14a0-47e0-8889-2374ae59ad20",
   "metadata": {},
   "source": [
    "### Other Useful things to Do with TimeSpans"
   ]
  },
  {
   "cell_type": "markdown",
   "id": "951a02b6",
   "metadata": {},
   "source": [
    "We can compare two `DateTimeNano` columns to find times that are close together -- for example, those less than 10ms apart.\n",
    "\n",
    "To illustrate this, we'll create some randomly generated small `TimeSpan`s to add to our column of `DateTimeNano`s."
   ]
  },
  {
   "cell_type": "code",
   "execution_count": 86,
   "id": "ce100545",
   "metadata": {},
   "outputs": [
    {
     "data": {
      "text/html": [
       "<html><head><style>table.tbl-2581 tbody td{white-space: nowrap;}table.tbl-2581 .lc{font-weight:bold;background-color: var( --jp-rendermime-table-row-hover-background);}table.tbl-2581 .lg{background-color: #66da9940;}table.tbl-2581 .lp{font-weight:bold;background-color: #ac66da40;}table.tbl-2581 .msc{font-weight:normal;background-color:#00000011;}table.tbl-2581 .al{text-align:left;}table.tbl-2581 .ar{text-align:right;}table.tbl-2581 .ac{text-align:center;}table.tbl-2581 .bld{font-weight:bold;}table.tbl-2581 .it{font-style:italic;}table.tbl-2581 .ul{text-decoration:underline;}table.tbl-2581 .st{text-decoration:line-through;}</style></head><body><table class='tbl-2581'><thead><tr><td class='lc bld ar'> #</td><td class='lc bld al'>Symbol</td><td class='lc bld ar'> Size</td><td class='lc bld ar'>              TradeDateTime</td><td class='lc bld ar'>         TradeTime</td><td class='lc bld ar'>TradesBefore10am</td><td class='lc bld ar'>             TradeDateTime2</td></tr></thead><tbody><tr><td class='lc  ar '>0</td><td class='  al '>GME</td><td class='  ar '>77.40</td><td class='  ar '>20071022 00:04:41.326607217</td><td class='  ar '>00:04:41.326607217</td><td class='  ar '>True</td><td class='  ar '>20071022 00:04:41.333607217</td></tr><tr><td class='lc  ar '>1</td><td class='  al '>AAPL</td><td class='  ar '>43.89</td><td class='  ar '>19791101 05:14:23.956732255</td><td class='  ar '>05:14:23.956732255</td><td class='  ar '>True</td><td class='  ar '>19791101 05:14:23.974732255</td></tr><tr><td class='lc  ar '>2</td><td class='  al '>SPY</td><td class='  ar '>85.86</td><td class='  ar '>19840121 21:33:31.540623842</td><td class='  ar '>21:33:31.540623842</td><td class='  ar '>False</td><td class='  ar '>19840121 21:33:31.550623842</td></tr><tr><td class='lc  ar '>3</td><td class='  al '>GME</td><td class='  ar '>69.74</td><td class='  ar '>19720315 15:05:04.360183527</td><td class='  ar '>15:05:04.360183527</td><td class='  ar '>False</td><td class='  ar '>19720315 15:05:04.374183527</td></tr><tr><td class='lc  ar '>4</td><td class='  al '>GME</td><td class='  ar '>9.42</td><td class='  ar '>19830306 05:58:52.000155286</td><td class='  ar '>05:58:52.000155286</td><td class='  ar '>True</td><td class='  ar '>19830306 05:58:52.009155286</td></tr><tr><td class='lc  ar '>5</td><td class='  al '>TSLA</td><td class='  ar '>97.56</td><td class='  ar '>20180518 12:11:17.238038067</td><td class='  ar '>12:11:17.238038067</td><td class='  ar '>False</td><td class='  ar '>20180518 12:11:17.244038067</td></tr><tr><td class='lc  ar '>6</td><td class='  al '>AMZN</td><td class='  ar '>76.11</td><td class='  ar '>19941017 15:09:44.825344623</td><td class='  ar '>15:09:44.825344623</td><td class='  ar '>False</td><td class='  ar '>19941017 15:09:44.840344623</td></tr><tr><td class='lc  ar '>7</td><td class='  al '>SPY</td><td class='  ar '>78.61</td><td class='  ar '>19831027 06:05:05.649265806</td><td class='  ar '>06:05:05.649265806</td><td class='  ar '>True</td><td class='  ar '>19831027 06:05:05.668265806</td></tr><tr><td class='lc  ar '>8</td><td class='  al '>AMZN</td><td class='  ar '>12.81</td><td class='  ar '>19860618 16:49:16.405217903</td><td class='  ar '>16:49:16.405217903</td><td class='  ar '>False</td><td class='  ar '>19860618 16:49:16.411217903</td></tr><tr><td class='lc  ar '>9</td><td class='  al '>SPY</td><td class='  ar '>45.04</td><td class='  ar '>19820208 12:54:04.032099791</td><td class='  ar '>12:54:04.032099791</td><td class='  ar '>False</td><td class='  ar '>19820208 12:54:04.047099791</td></tr><tr><td class='lc  ar '>10</td><td class='  al '>GME</td><td class='  ar '>37.08</td><td class='  ar '>20130811 22:13:30.736601505</td><td class='  ar '>22:13:30.736601505</td><td class='  ar '>False</td><td class='  ar '>20130811 22:13:30.741601505</td></tr><tr><td class='lc  ar '>11</td><td class='  al '>TSLA</td><td class='  ar '>92.68</td><td class='  ar '>20120319 01:33:32.346477845</td><td class='  ar '>01:33:32.346477845</td><td class='  ar '>True</td><td class='  ar '>20120319 01:33:32.360477845</td></tr><tr><td class='lc  ar '>12</td><td class='  al '>SPY</td><td class='  ar '>64.39</td><td class='  ar '>19940605 00:44:16.452040573</td><td class='  ar '>00:44:16.452040573</td><td class='  ar '>True</td><td class='  ar '>19940605 00:44:16.467040573</td></tr><tr><td class='lc  ar '>13</td><td class='  al '>AAPL</td><td class='  ar '>82.28</td><td class='  ar '>19860116 23:37:06.426702287</td><td class='  ar '>23:37:06.426702287</td><td class='  ar '>False</td><td class='  ar '>19860116 23:37:06.435702287</td></tr><tr><td class='lc  ar '>14</td><td class='  al '>GME</td><td class='  ar '>44.34</td><td class='  ar '>19740822 11:50:19.014751927</td><td class='  ar '>11:50:19.014751927</td><td class='  ar '>False</td><td class='  ar '>19740822 11:50:19.029751927</td></tr><tr><td class='lc  ar '>15</td><td class='  al '>SPY</td><td class='  ar '>22.72</td><td class='  ar '>19720628 22:52:44.228725422</td><td class='  ar '>22:52:44.228725422</td><td class='  ar '>False</td><td class='  ar '>19720628 22:52:44.234725422</td></tr><tr><td class='lc  ar '>16</td><td class='  al '>GME</td><td class='  ar '>55.46</td><td class='  ar '>19820710 04:12:42.406084379</td><td class='  ar '>04:12:42.406084379</td><td class='  ar '>True</td><td class='  ar '>19820710 04:12:42.408084379</td></tr><tr><td class='lc  ar '>17</td><td class='  al '>AMZN</td><td class='  ar '>6.38</td><td class='  ar '>20100730 20:50:00.939970771</td><td class='  ar '>20:50:00.939970771</td><td class='  ar '>False</td><td class='  ar '>20100730 20:50:00.941970771</td></tr><tr><td class='lc  ar '>18</td><td class='  al '>GME</td><td class='  ar '>82.76</td><td class='  ar '>20060509 08:33:44.801775530</td><td class='  ar '>08:33:44.801775530</td><td class='  ar '>True</td><td class='  ar '>20060509 08:33:44.810775530</td></tr><tr><td class='lc  ar '>19</td><td class='  al '>TSLA</td><td class='  ar '>63.17</td><td class='  ar '>19980826 13:34:16.919033273</td><td class='  ar '>13:34:16.919033273</td><td class='  ar '>False</td><td class='  ar '>19980826 13:34:16.937033273</td></tr></tbody></table></body></html>\n",
       "\n",
       "[20 rows x 6 columns] total bytes: 740.0 B"
      ],
      "text/plain": []
     },
     "execution_count": 86,
     "metadata": {},
     "output_type": "execute_result"
    }
   ],
   "source": [
    " # Create TimeSpans from 1 millisecond to 19 milliseconds\n",
    "some_ms = rt.TimeSpan(rng.integers(low=1, high=20, size=N), 'ms') \n",
    "\n",
    "# Offset the TimeSpans in our original DateTimeNano \n",
    "ds.TradeDateTime2 = ds.TradeDateTime + some_ms\n",
    "\n",
    "ds.head()"
   ]
  },
  {
   "cell_type": "markdown",
   "id": "bdb24aa0",
   "metadata": {},
   "source": [
    "Now we can find the trades that occurred within 10ms of each other, and again put the results into a new column for a spot check."
   ]
  },
  {
   "cell_type": "code",
   "execution_count": 87,
   "id": "e7a00b96",
   "metadata": {},
   "outputs": [
    {
     "data": {
      "text/html": [
       "<html><head><style>table.tbl-2662 tbody td{white-space: nowrap;}table.tbl-2662 .lc{font-weight:bold;background-color: var( --jp-rendermime-table-row-hover-background);}table.tbl-2662 .lg{background-color: #66da9940;}table.tbl-2662 .lp{font-weight:bold;background-color: #ac66da40;}table.tbl-2662 .msc{font-weight:normal;background-color:#00000011;}table.tbl-2662 .al{text-align:left;}table.tbl-2662 .ar{text-align:right;}table.tbl-2662 .ac{text-align:center;}table.tbl-2662 .bld{font-weight:bold;}table.tbl-2662 .it{font-style:italic;}table.tbl-2662 .ul{text-decoration:underline;}table.tbl-2662 .st{text-decoration:line-through;}</style></head><body><table class='tbl-2662'><thead><tr><td class='lc bld ar'> #</td><td class='lc bld al'>Symbol</td><td class='lc bld ar'> Size</td><td class='lc bld ar'>              TradeDateTime</td><td class='lc bld ar'>         TradeTime</td><td class='lc bld ar'>TradesBefore10am</td><td class='lc bld ar'>             TradeDateTime2</td><td class='lc bld ar'>Within10ms</td></tr></thead><tbody><tr><td class='lc  ar '>0</td><td class='  al '>GME</td><td class='  ar '>77.40</td><td class='  ar '>20071022 00:04:41.326607217</td><td class='  ar '>00:04:41.326607217</td><td class='  ar '>True</td><td class='  ar '>20071022 00:04:41.333607217</td><td class='  ar '>True</td></tr><tr><td class='lc  ar '>1</td><td class='  al '>AAPL</td><td class='  ar '>43.89</td><td class='  ar '>19791101 05:14:23.956732255</td><td class='  ar '>05:14:23.956732255</td><td class='  ar '>True</td><td class='  ar '>19791101 05:14:23.974732255</td><td class='  ar '>False</td></tr><tr><td class='lc  ar '>2</td><td class='  al '>SPY</td><td class='  ar '>85.86</td><td class='  ar '>19840121 21:33:31.540623842</td><td class='  ar '>21:33:31.540623842</td><td class='  ar '>False</td><td class='  ar '>19840121 21:33:31.550623842</td><td class='  ar '>False</td></tr><tr><td class='lc  ar '>3</td><td class='  al '>GME</td><td class='  ar '>69.74</td><td class='  ar '>19720315 15:05:04.360183527</td><td class='  ar '>15:05:04.360183527</td><td class='  ar '>False</td><td class='  ar '>19720315 15:05:04.374183527</td><td class='  ar '>False</td></tr><tr><td class='lc  ar '>4</td><td class='  al '>GME</td><td class='  ar '>9.42</td><td class='  ar '>19830306 05:58:52.000155286</td><td class='  ar '>05:58:52.000155286</td><td class='  ar '>True</td><td class='  ar '>19830306 05:58:52.009155286</td><td class='  ar '>True</td></tr><tr><td class='lc  ar '>5</td><td class='  al '>TSLA</td><td class='  ar '>97.56</td><td class='  ar '>20180518 12:11:17.238038067</td><td class='  ar '>12:11:17.238038067</td><td class='  ar '>False</td><td class='  ar '>20180518 12:11:17.244038067</td><td class='  ar '>True</td></tr><tr><td class='lc  ar '>6</td><td class='  al '>AMZN</td><td class='  ar '>76.11</td><td class='  ar '>19941017 15:09:44.825344623</td><td class='  ar '>15:09:44.825344623</td><td class='  ar '>False</td><td class='  ar '>19941017 15:09:44.840344623</td><td class='  ar '>False</td></tr><tr><td class='lc  ar '>7</td><td class='  al '>SPY</td><td class='  ar '>78.61</td><td class='  ar '>19831027 06:05:05.649265806</td><td class='  ar '>06:05:05.649265806</td><td class='  ar '>True</td><td class='  ar '>19831027 06:05:05.668265806</td><td class='  ar '>False</td></tr><tr><td class='lc  ar '>8</td><td class='  al '>AMZN</td><td class='  ar '>12.81</td><td class='  ar '>19860618 16:49:16.405217903</td><td class='  ar '>16:49:16.405217903</td><td class='  ar '>False</td><td class='  ar '>19860618 16:49:16.411217903</td><td class='  ar '>True</td></tr><tr><td class='lc  ar '>9</td><td class='  al '>SPY</td><td class='  ar '>45.04</td><td class='  ar '>19820208 12:54:04.032099791</td><td class='  ar '>12:54:04.032099791</td><td class='  ar '>False</td><td class='  ar '>19820208 12:54:04.047099791</td><td class='  ar '>False</td></tr><tr><td class='lc  ar '>10</td><td class='  al '>GME</td><td class='  ar '>37.08</td><td class='  ar '>20130811 22:13:30.736601505</td><td class='  ar '>22:13:30.736601505</td><td class='  ar '>False</td><td class='  ar '>20130811 22:13:30.741601505</td><td class='  ar '>True</td></tr><tr><td class='lc  ar '>11</td><td class='  al '>TSLA</td><td class='  ar '>92.68</td><td class='  ar '>20120319 01:33:32.346477845</td><td class='  ar '>01:33:32.346477845</td><td class='  ar '>True</td><td class='  ar '>20120319 01:33:32.360477845</td><td class='  ar '>False</td></tr><tr><td class='lc  ar '>12</td><td class='  al '>SPY</td><td class='  ar '>64.39</td><td class='  ar '>19940605 00:44:16.452040573</td><td class='  ar '>00:44:16.452040573</td><td class='  ar '>True</td><td class='  ar '>19940605 00:44:16.467040573</td><td class='  ar '>False</td></tr><tr><td class='lc  ar '>13</td><td class='  al '>AAPL</td><td class='  ar '>82.28</td><td class='  ar '>19860116 23:37:06.426702287</td><td class='  ar '>23:37:06.426702287</td><td class='  ar '>False</td><td class='  ar '>19860116 23:37:06.435702287</td><td class='  ar '>True</td></tr><tr><td class='lc  ar '>14</td><td class='  al '>GME</td><td class='  ar '>44.34</td><td class='  ar '>19740822 11:50:19.014751927</td><td class='  ar '>11:50:19.014751927</td><td class='  ar '>False</td><td class='  ar '>19740822 11:50:19.029751927</td><td class='  ar '>False</td></tr><tr><td class='lc  ar '>15</td><td class='  al '>SPY</td><td class='  ar '>22.72</td><td class='  ar '>19720628 22:52:44.228725422</td><td class='  ar '>22:52:44.228725422</td><td class='  ar '>False</td><td class='  ar '>19720628 22:52:44.234725422</td><td class='  ar '>True</td></tr><tr><td class='lc  ar '>16</td><td class='  al '>GME</td><td class='  ar '>55.46</td><td class='  ar '>19820710 04:12:42.406084379</td><td class='  ar '>04:12:42.406084379</td><td class='  ar '>True</td><td class='  ar '>19820710 04:12:42.408084379</td><td class='  ar '>True</td></tr><tr><td class='lc  ar '>17</td><td class='  al '>AMZN</td><td class='  ar '>6.38</td><td class='  ar '>20100730 20:50:00.939970771</td><td class='  ar '>20:50:00.939970771</td><td class='  ar '>False</td><td class='  ar '>20100730 20:50:00.941970771</td><td class='  ar '>True</td></tr><tr><td class='lc  ar '>18</td><td class='  al '>GME</td><td class='  ar '>82.76</td><td class='  ar '>20060509 08:33:44.801775530</td><td class='  ar '>08:33:44.801775530</td><td class='  ar '>True</td><td class='  ar '>20060509 08:33:44.810775530</td><td class='  ar '>True</td></tr><tr><td class='lc  ar '>19</td><td class='  al '>TSLA</td><td class='  ar '>63.17</td><td class='  ar '>19980826 13:34:16.919033273</td><td class='  ar '>13:34:16.919033273</td><td class='  ar '>False</td><td class='  ar '>19980826 13:34:16.937033273</td><td class='  ar '>False</td></tr></tbody></table></body></html>\n",
       "\n",
       "[20 rows x 7 columns] total bytes: 760.0 B"
      ],
      "text/plain": []
     },
     "execution_count": 87,
     "metadata": {},
     "output_type": "execute_result"
    }
   ],
   "source": [
    "ds.Within10ms = (abs(ds.TradeDateTime.time_since_midnight() \n",
    "                     - ds.TradeDateTime2.time_since_midnight())) < rt.TimeSpan(10, 'ms')\n",
    "ds.head()"
   ]
  },
  {
   "cell_type": "markdown",
   "id": "f4af1a4a",
   "metadata": {},
   "source": [
    "And again we can use the result as a mask array."
   ]
  },
  {
   "cell_type": "code",
   "execution_count": 88,
   "id": "9434124b",
   "metadata": {},
   "outputs": [
    {
     "data": {
      "text/html": [
       "<html><head><style>table.tbl-3022 tbody td{white-space: nowrap;}table.tbl-3022 .lc{font-weight:bold;background-color: var( --jp-rendermime-table-row-hover-background);}table.tbl-3022 .lg{background-color: #66da9940;}table.tbl-3022 .lp{font-weight:bold;background-color: #ac66da40;}table.tbl-3022 .msc{font-weight:normal;background-color:#00000011;}table.tbl-3022 .al{text-align:left;}table.tbl-3022 .ar{text-align:right;}table.tbl-3022 .ac{text-align:center;}table.tbl-3022 .bld{font-weight:bold;}table.tbl-3022 .it{font-style:italic;}table.tbl-3022 .ul{text-decoration:underline;}table.tbl-3022 .st{text-decoration:line-through;}</style></head><body><table class='tbl-3022'><thead><tr><td class='lc bld ar'>  #</td><td class='lc bld al'>Symbol</td><td class='lc bld ar'> Size</td></tr></thead><tbody><tr><td class='lc  ar '>0</td><td class='  al '>GME</td><td class='  ar '>77.40</td></tr><tr><td class='lc  ar '>1</td><td class='  al '>GME</td><td class='  ar '>9.42</td></tr><tr><td class='lc  ar '>2</td><td class='  al '>TSLA</td><td class='  ar '>97.56</td></tr><tr><td class='lc  ar '>3</td><td class='  al '>AMZN</td><td class='  ar '>12.81</td></tr><tr><td class='lc  ar '>4</td><td class='  al '>GME</td><td class='  ar '>37.08</td></tr><tr><td class='lc  ar '>5</td><td class='  al '>AAPL</td><td class='  ar '>82.28</td></tr><tr><td class='lc  ar '>6</td><td class='  al '>SPY</td><td class='  ar '>22.72</td></tr><tr><td class='lc  ar '>7</td><td class='  al '>GME</td><td class='  ar '>55.46</td></tr><tr><td class='lc  ar '>8</td><td class='  al '>AMZN</td><td class='  ar '>6.38</td></tr><tr><td class='lc  ar '>9</td><td class='  al '>GME</td><td class='  ar '>82.76</td></tr><tr><td class='lc  ar '>10</td><td class='  al '>AMZN</td><td class='  ar '>75.81</td></tr><tr><td class='lc  ar '>11</td><td class='  al '>TSLA</td><td class='  ar '>35.45</td></tr><tr><td class='lc  ar '>12</td><td class='  al '>AAPL</td><td class='  ar '>89.31</td></tr><tr><td class='lc  ar '>13</td><td class='  al '>SPY</td><td class='  ar '>19.46</td></tr><tr><td class='lc  ar '>14</td><td class='  al '>TSLA</td><td class='  ar '>68.30</td></tr><tr><td class='lc  ar '>...</td><td class='  al '>...</td><td class='  ar '>...</td></tr><tr><td class='lc  ar '>35</td><td class='  al '>GME</td><td class='  ar '>40.85</td></tr><tr><td class='lc  ar '>36</td><td class='  al '>GME</td><td class='  ar '>85.34</td></tr><tr><td class='lc  ar '>37</td><td class='  al '>GME</td><td class='  ar '>5.83</td></tr><tr><td class='lc  ar '>38</td><td class='  al '>TSLA</td><td class='  ar '>29.36</td></tr><tr><td class='lc  ar '>39</td><td class='  al '>GME</td><td class='  ar '>55.70</td></tr><tr><td class='lc  ar '>40</td><td class='  al '>AAPL</td><td class='  ar '>78.39</td></tr><tr><td class='lc  ar '>41</td><td class='  al '>AAPL</td><td class='  ar '>66.43</td></tr><tr><td class='lc  ar '>42</td><td class='  al '>AMZN</td><td class='  ar '>2.27</td></tr><tr><td class='lc  ar '>43</td><td class='  al '>TSLA</td><td class='  ar '>72.24</td></tr><tr><td class='lc  ar '>44</td><td class='  al '>AAPL</td><td class='  ar '>50.10</td></tr><tr><td class='lc  ar '>45</td><td class='  al '>GME</td><td class='  ar '>69.63</td></tr><tr><td class='lc  ar '>46</td><td class='  al '>SPY</td><td class='  ar '>38.10</td></tr><tr><td class='lc  ar '>47</td><td class='  al '>TSLA</td><td class='  ar '>8.76</td></tr><tr><td class='lc  ar '>48</td><td class='  al '>TSLA</td><td class='  ar '>11.80</td></tr><tr><td class='lc  ar '>49</td><td class='  al '>TSLA</td><td class='  ar '>96.19</td></tr></tbody></table></body></html>\n",
       "\n",
       "[50 rows x 2 columns] total bytes: 600.0 B"
      ],
      "text/plain": []
     },
     "execution_count": 88,
     "metadata": {},
     "output_type": "execute_result"
    }
   ],
   "source": [
    "ds[ds.Within10ms, ['Symbol', 'Size']]"
   ]
  },
  {
   "cell_type": "markdown",
   "id": "e754c5d3",
   "metadata": {},
   "source": [
    "A common situation is having dates as date strings and times in nanos since midnight. You can use some arithmetic to build a DateTimeNano: `Date` + `TimeSpan` = `DateTimeNano`."
   ]
  },
  {
   "cell_type": "code",
   "execution_count": 89,
   "id": "8d4b5780",
   "metadata": {},
   "outputs": [
    {
     "data": {
      "text/html": [
       "<html><head><style>table.tbl-7464 tbody td{white-space: nowrap;}table.tbl-7464 .lc{font-weight:bold;background-color: var( --jp-rendermime-table-row-hover-background);}table.tbl-7464 .lg{background-color: #66da9940;}table.tbl-7464 .lp{font-weight:bold;background-color: #ac66da40;}table.tbl-7464 .msc{font-weight:normal;background-color:#00000011;}table.tbl-7464 .al{text-align:left;}table.tbl-7464 .ar{text-align:right;}table.tbl-7464 .ac{text-align:center;}table.tbl-7464 .bld{font-weight:bold;}table.tbl-7464 .it{font-style:italic;}table.tbl-7464 .ul{text-decoration:underline;}table.tbl-7464 .st{text-decoration:line-through;}</style></head><body><table class='tbl-7464'><thead><tr><td class='lc bld ar'>#</td><td class='lc bld ar'>      Date</td><td class='lc bld ar'>              Time</td></tr></thead><tbody><tr><td class='lc  ar '>0</td><td class='  ar '>2011-11-11</td><td class='  ar '>12:17:55.000000000</td></tr><tr><td class='lc  ar '>1</td><td class='  ar '>2020-02-02</td><td class='  ar '>10:54:47.000000000</td></tr><tr><td class='lc  ar '>2</td><td class='  ar '>2022-02-22</td><td class='  ar '>15:28:25.000000000</td></tr></tbody></table></body></html>\n",
       "\n",
       "[3 rows x 2 columns] total bytes: 36.0 B"
      ],
      "text/plain": []
     },
     "execution_count": 89,
     "metadata": {},
     "output_type": "execute_result"
    }
   ],
   "source": [
    "ds = rt.Dataset({\n",
    "    'Date': ['20111111', '20200202', '20220222'],\n",
    "    'Time': [44_275_000_000_000, 39_287_000_000_000, 55_705_000_000_000]\n",
    "})\n",
    "\n",
    "# Convert the date strings to rt.Date objects\n",
    "ds.Date = rt.Date(ds.Date)\n",
    "\n",
    "# Convert the times to rt.TimeSpan objects\n",
    "ds.Time = rt.TimeSpan(ds.Time)\n",
    "\n",
    "ds"
   ]
  },
  {
   "cell_type": "markdown",
   "id": "505bd667",
   "metadata": {},
   "source": [
    "At this point, you might want to simply add `ds.Date` and `ds.Time` to get a `DateTimeNano`."
   ]
  },
  {
   "cell_type": "code",
   "execution_count": 90,
   "id": "b171a4cf",
   "metadata": {},
   "outputs": [
    {
     "data": {
      "text/html": [
       "<html><head><style>table.tbl-6712 tbody td{white-space: nowrap;}table.tbl-6712 .lc{font-weight:bold;background-color: var( --jp-rendermime-table-row-hover-background);}table.tbl-6712 .lg{background-color: #66da9940;}table.tbl-6712 .lp{font-weight:bold;background-color: #ac66da40;}table.tbl-6712 .msc{font-weight:normal;background-color:#00000011;}table.tbl-6712 .al{text-align:left;}table.tbl-6712 .ar{text-align:right;}table.tbl-6712 .ac{text-align:center;}table.tbl-6712 .bld{font-weight:bold;}table.tbl-6712 .it{font-style:italic;}table.tbl-6712 .ul{text-decoration:underline;}table.tbl-6712 .st{text-decoration:line-through;}</style></head><body><table class='tbl-6712'><thead><tr><td class='lc bld ar'>#</td><td class='lc bld ar'>      Date</td><td class='lc bld ar'>              Time</td><td class='lc bld ar'>                   DateTime</td></tr></thead><tbody><tr><td class='lc  ar '>0</td><td class='  ar '>2011-11-11</td><td class='  ar '>12:17:55.000000000</td><td class='  ar '>20111111 12:17:55.000000000</td></tr><tr><td class='lc  ar '>1</td><td class='  ar '>2020-02-02</td><td class='  ar '>10:54:47.000000000</td><td class='  ar '>20200202 10:54:47.000000000</td></tr><tr><td class='lc  ar '>2</td><td class='  ar '>2022-02-22</td><td class='  ar '>15:28:25.000000000</td><td class='  ar '>20220222 15:28:25.000000000</td></tr></tbody></table></body></html>\n",
       "\n",
       "[3 rows x 3 columns] total bytes: 60.0 B"
      ],
      "text/plain": []
     },
     "execution_count": 90,
     "metadata": {},
     "output_type": "execute_result"
    }
   ],
   "source": [
    "ds.DateTime = ds.Date + ds.Time\n",
    "\n",
    "ds"
   ]
  },
  {
   "cell_type": "markdown",
   "id": "cfa2a151",
   "metadata": {},
   "source": [
    "And that seems to work. However, remember that `DateTimeNano`s need to have a time zone. Here, GMT was assumed."
   ]
  },
  {
   "cell_type": "code",
   "execution_count": 91,
   "id": "39ade3c3",
   "metadata": {},
   "outputs": [
    {
     "data": {
      "text/plain": [
       "DateTimeNano(['20111111 12:17:55.000000000', '20200202 10:54:47.000000000', '20220222 15:28:25.000000000'], to_tz='GMT')"
      ]
     },
     "execution_count": 91,
     "metadata": {},
     "output_type": "execute_result"
    }
   ],
   "source": [
    "ds.DateTime"
   ]
  },
  {
   "cell_type": "markdown",
   "id": "8c92f2a3",
   "metadata": {},
   "source": [
    "Specify your desired time zone so you don't end up with unexpected results down the line."
   ]
  },
  {
   "cell_type": "code",
   "execution_count": 92,
   "id": "79b09a96",
   "metadata": {},
   "outputs": [
    {
     "data": {
      "text/plain": [
       "DateTimeNano(['20111111 12:17:55.000000000', '20200202 10:54:47.000000000', '20220222 15:28:25.000000000'], to_tz='NYC')"
      ]
     },
     "execution_count": 92,
     "metadata": {},
     "output_type": "execute_result"
    }
   ],
   "source": [
    "ds.DateTime2 = rt.DateTimeNano((ds.Date + ds.Time), from_tz='NYC')\n",
    "\n",
    "ds.DateTime2"
   ]
  },
  {
   "cell_type": "markdown",
   "id": "5114b8ff",
   "metadata": {},
   "source": [
    "Warning: Given that `TimeSpan + Date = DateTimeNano`, and also that you can use `rt.Date(my_dtn)` to get a `Date` from a `DateTimeNano`, you might reasonably think you can get the `TimeSpan` from a `DateTimeNano` using `rt.TimeSpan(my_dtn)`. \n",
    "\n",
    "However, that result includes the number of days since January 1, 1970. To get the `TimeSpan` from a `DateTimeNano`, use `time_since_midnight()` instead.\n",
    "\n",
    "\n",
    "| **Datetime Arithmetic**                |\n",
    "|----------------------------------------|\n",
    "| Date + Date = TypeError                |\n",
    "| Date + DateTimeNano = TypeError        |\n",
    "| Date + DateSpan = Date                 |\n",
    "| Date + TimeSpan = DateTimeNano         |\n",
    "|                                        |\n",
    "| Date - Date = DateSpan                 |\n",
    "| Date - DateSpan = Date                 |\n",
    "| Date - DateTimeNano = TimeSpan         |\n",
    "| Date - TimeSpan = DateTimeNano         |\n",
    "|                                        |\n",
    "| DateTimeNano - DateTimeNano = TimeSpan |\n",
    "| DateTimeNano - TimeSpan = DateTimeNano |\n",
    "| DateTimeNano + TimeSpan = DateTimeNano |\n",
    "|                                        |\n",
    "| TimeSpan - TimeSpan = TimeSpan         |\n",
    "| TimeSpan + TimeSpan = TimeSpan         |                                             "
   ]
  },
  {
   "cell_type": "markdown",
   "id": "cbbfc53f-9a9a-40f2-974d-5aab00d9db88",
   "metadata": {},
   "source": [
    "Next, we'll look at Riptable's vehicle for group operations: [Perform Group Operations with Categoricals](tutorial_categoricals.ipynb)."
   ]
  },
  {
   "cell_type": "markdown",
   "id": "3d38902f-5339-4b11-8865-519810215755",
   "metadata": {},
   "source": [
    "<br>\n",
    "<br>\n",
    "\n",
    "---\n",
    "\n",
    "Questions or comments about this guide? Email RiptableDocumentation@sig.com."
   ]
  }
 ],
 "metadata": {
  "kernelspec": {
   "display_name": "Python 3 (ipykernel)",
   "language": "python",
   "name": "python3"
  },
  "language_info": {
   "codemirror_mode": {
    "name": "ipython",
    "version": 3
   },
   "file_extension": ".py",
   "mimetype": "text/x-python",
   "name": "python",
   "nbconvert_exporter": "python",
   "pygments_lexer": "ipython3",
   "version": "3.9.13"
  }
 },
 "nbformat": 4,
 "nbformat_minor": 5
}
