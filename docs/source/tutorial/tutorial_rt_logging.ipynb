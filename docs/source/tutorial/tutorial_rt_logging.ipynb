{
 "cells": [
  {
   "cell_type": "markdown",
   "metadata": {},
   "source": [
    "# Riptide Logging\n",
    "\n",
    "Riptable supports logging from riptide_cpp, a C++ library that Riptable relies on for multithreaded processing of arrays and the SDS file format. This logging capability enables you to examine and understand the native functions called by Riptable."
   ]
  },
  {
   "cell_type": "markdown",
   "metadata": {},
   "source": [
    "The following examples require you to import the following modules and functions:"
   ]
  },
  {
   "cell_type": "code",
   "execution_count": 1,
   "metadata": {},
   "outputs": [],
   "source": [
    "import riptable as rt\n",
    "import riptide_cpp as rc\n",
    "import logging\n",
    "import sys\n",
    "from riptable.rt_logging import enable_riptide_logs, disable_riptide_logs"
   ]
  },
  {
   "cell_type": "markdown",
   "metadata": {},
   "source": [
    "View a list of available riptide_cpp loggers using `rc.GetRiptideLoggers()`:"
   ]
  },
  {
   "cell_type": "code",
   "execution_count": 2,
   "metadata": {},
   "outputs": [
    {
     "data": {
      "text/plain": [
       "['riptable.riptide_cpp.SDSFile',\n",
       " 'riptable.riptide_cpp.Recycler',\n",
       " 'riptable.riptide_cpp.GroupBy']"
      ]
     },
     "execution_count": 2,
     "metadata": {},
     "output_type": "execute_result"
    }
   ],
   "source": [
    "rc.GetRiptideLoggers()"
   ]
  },
  {
   "cell_type": "markdown",
   "metadata": {},
   "source": [
    "Logging in riptide_cpp is disabled by default. To enable logging capabilities, you must call the `enable_riptide_logs()` function from the `rt_logging` Riptable module:"
   ]
  },
  {
   "cell_type": "code",
   "execution_count": 3,
   "metadata": {},
   "outputs": [],
   "source": [
    "enable_riptide_logs()"
   ]
  },
  {
   "cell_type": "markdown",
   "metadata": {},
   "source": [
    "After enabling the riptide_cpp loggers, use the `logging` module from the Python standard library to configure them.\n",
    "\n",
    "\n"
   ]
  },
  {
   "cell_type": "markdown",
   "metadata": {},
   "source": [
    "Setup an stdout handler with a custom formatter:"
   ]
  },
  {
   "cell_type": "code",
   "execution_count": 4,
   "metadata": {},
   "outputs": [],
   "source": [
    "handler = logging.StreamHandler(sys.stdout)\n",
    "handler.setFormatter(logging.Formatter('%(name)s | %(levelname)s | %(message)s'))"
   ]
  },
  {
   "cell_type": "markdown",
   "metadata": {},
   "source": [
    "Configure the SDSFile and GroupBy loggers. The Riptable and riptide_cpp loggers are in the following hierarchy:\n",
    "\n",
    "- riptable: root logger\n",
    "    -   riptable [riptable.riptable]: Logs for riptable side\n",
    "        - rt_dataset [riptable.riptable.rt_dataset]\n",
    "        - ...\n",
    "    -  riptide_cpp [riptable.riptide_cpp]: Logs for riptide_cpp\n",
    "        - SDSFile [riptable.riptide_cpp.SDSFile]\n",
    "        - GroupBy [riptable.riptide_cpp.GroupBy]\n",
    "        - ..."
   ]
  },
  {
   "cell_type": "code",
   "execution_count": 5,
   "metadata": {},
   "outputs": [],
   "source": [
    "sdsfile = logging.getLogger(\"riptable.riptide_cpp.SDSFile\")\n",
    "sdsfile.setLevel(logging.DEBUG)\n",
    "sdsfile.addHandler(handler)\n",
    "groupby = logging.getLogger(\"riptable.riptide_cpp.GroupBy\")\n",
    "groupby.setLevel(logging.DEBUG)\n",
    "groupby.addHandler(handler)"
   ]
  },
  {
   "cell_type": "markdown",
   "metadata": {},
   "source": [
    "Create an example Dataset, and call functions that record events to the SDSFile and GroupBy\n",
    "loggers:"
   ]
  },
  {
   "cell_type": "code",
   "execution_count": 6,
   "metadata": {},
   "outputs": [
    {
     "data": {
      "text/html": [
       "\n",
       "<html>\n",
       "<head>\n",
       "<style>\n",
       "    table.tbl-5286 tbody td{white-space: nowrap;}\n",
       "    table.tbl-5286 .lc{font-weight:bold;background-color: var( --jp-rendermime-table-row-hover-background);}\n",
       "    table.tbl-5286 .lg{background-color: #66da9940;}\n",
       "    table.tbl-5286 .lp{font-weight:bold;background-color: #ac66da40;}\n",
       "    table.tbl-5286 .msc{font-weight:normal;background-color:#00000011;}\n",
       "    table.tbl-5286 .al{text-align:left;}\n",
       "    table.tbl-5286 .ar{text-align:right;}\n",
       "    table.tbl-5286 .ac{text-align:center;}\n",
       "    table.tbl-5286 .bld{font-weight:bold;}\n",
       "    table.tbl-5286 .it{font-style:italic;}\n",
       "    table.tbl-5286 .ul{text-decoration:underline;}\n",
       "    table.tbl-5286 .st{text-decoration:line-through;}\n",
       "\n",
       "</style>\n",
       "</head>\n",
       "            <body><table class='tbl-5286'><thead><tr><td class='lc bld ar'>#</td><td class='lc bld ar'>a</td><td class='lc bld ar'>b</td><td class='lc bld ar'>c</td></tr></thead><tbody><tr><td class='lc  ar '>0</td><td class='  ar '>1</td><td class='  ar '>4</td><td class='  ar '>9</td></tr><tr><td class='lc  ar '>1</td><td class='  ar '>1</td><td class='  ar '>5</td><td class='  ar '>9</td></tr><tr><td class='lc  ar '>2</td><td class='  ar '>2</td><td class='  ar '>6</td><td class='  ar '>6</td></tr></tbody></table></body></html>\n",
       "\n",
       "[3 rows x 3 columns] total bytes: 72.0 B"
      ],
      "text/plain": [
       "\u001b[1;36m#\u001b[0m   \u001b[1;36ma\u001b[0m   \u001b[1;36mb\u001b[0m   \u001b[1;36mc\u001b[0m\n",
       "-   -   -   -\n",
       "\u001b[1;36m0\u001b[0m   1\u001b[0m   4\u001b[0m   9\u001b[0m\n",
       "\u001b[1;36m1\u001b[0m   1\u001b[0m   5\u001b[0m   9\u001b[0m\n",
       "\u001b[1;36m2\u001b[0m   2\u001b[0m   6\u001b[0m   6\u001b[0m\n",
       "\n",
       "[3 rows x 3 columns] total bytes: 72.0 B"
      ]
     },
     "metadata": {},
     "output_type": "display_data"
    },
    {
     "name": "stdout",
     "output_type": "stream",
     "text": [
      "riptable.riptide_cpp.GroupBy | DEBUG | GroupByCall: col 0  ==> outsize 3   len: 3   numpy types 7 --> 7   8 8\n",
      "riptable.riptide_cpp.GroupBy | DEBUG | GroupByCall: 0  typeCall 4  numpyOutType 7\n",
      "riptable.riptide_cpp.GroupBy | DEBUG | !!groupby done 1\n",
      "riptable.riptide_cpp.GroupBy | DEBUG | !!groupby returning\n",
      "\n",
      "riptable.riptide_cpp.SDSFile | DEBUG | Clearing errors\n",
      "riptable.riptide_cpp.SDSFile | DEBUG | linux handle open\n",
      "riptable.riptide_cpp.SDSFile | DEBUG | Using fileOffset 0\n",
      "riptable.riptide_cpp.SDSFile | DEBUG | main offsets 1024  1536  2048\n",
      "riptable.riptide_cpp.SDSFile | DEBUG | meta compressed to 148 vs 187  512\n",
      "riptable.riptide_cpp.SDSFile | DEBUG | Current fileoffset is 0\n",
      "riptable.riptide_cpp.SDSFile | DEBUG | -\n",
      "riptable.riptide_cpp.SDSFile | DEBUG | -\n",
      "riptable.riptide_cpp.SDSFile | DEBUG | -\n",
      "riptable.riptide_cpp.SDSFile | DEBUG | [0] started 24 0x7fc21c000b70\n",
      "riptable.riptide_cpp.SDSFile | DEBUG | [1] started 24 0x7fc214000b70\n",
      "riptable.riptide_cpp.SDSFile | DEBUG | [2] started 24 0x7fc218000b70\n",
      "riptable.riptide_cpp.SDSFile | DEBUG | [1][1] seek to fileOffset 2048  sz: 24\n",
      "riptable.riptide_cpp.SDSFile | DEBUG | [0][0] seek to fileOffset 2560  sz: 24\n",
      "riptable.riptide_cpp.SDSFile | DEBUG | [2][2] seek to fileOffset 3072  sz: 24\n",
      "riptable.riptide_cpp.SDSFile | DEBUG | End of compressing\n",
      "riptable.riptide_cpp.SDSFile | DEBUG | SDS: Array first offset --- 2048   Total comp size 1536\n",
      "riptable.riptide_cpp.SDSFile | DEBUG | Total arrays written 3  --- 512 512\n",
      "riptable.riptide_cpp.SDSFile | DEBUG | array block offset --- 1536 384  2560\n"
     ]
    }
   ],
   "source": [
    "import tempfile\n",
    "\n",
    "with tempfile.TemporaryDirectory() as tmpdir:\n",
    "    ds = rt.Dataset({'a': rt.FA([1, 1, 2]), 'b': rt.FA([4, 5, 6])})\n",
    "    ds.c = rt.Cat(ds.a).sum(ds.b, transform=True)\n",
    "    ds.save(f'{tmpdir}/a.sds')\n",
    "    display(ds)"
   ]
  }
 ],
 "metadata": {
  "kernelspec": {
   "display_name": "riptide-dev",
   "language": "python",
   "name": "python3"
  },
  "language_info": {
   "codemirror_mode": {
    "name": "ipython",
    "version": 3
   },
   "file_extension": ".py",
   "mimetype": "text/x-python",
   "name": "python",
   "nbconvert_exporter": "python",
   "pygments_lexer": "ipython3",
   "version": "3.11.8"
  }
 },
 "nbformat": 4,
 "nbformat_minor": 2
}
