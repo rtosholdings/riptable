{
 "cells": [
  {
   "cell_type": "markdown",
   "id": "3949be95-8a8e-4d0b-a4df-ca38166f8558",
   "metadata": {},
   "source": [
    "# Instantiate with Placeholder Values and Generate Sample Data"
   ]
  },
  {
   "cell_type": "code",
   "execution_count": 3,
   "id": "094cf3a6-41df-4195-ac7f-bc78114af5c3",
   "metadata": {
    "jp-MarkdownHeadingCollapsed": true,
    "tags": []
   },
   "outputs": [
    {
     "name": "stdout",
     "output_type": "stream",
     "text": [
      "To download this notebook, right click on the link and Save link as...\n"
     ]
    },
    {
     "data": {
      "text/html": [
       "<a href='tutorial_sample_data.ipynb' target='_blank'>tutorial_sample_data.ipynb</a><br>"
      ],
      "text/plain": [
       "X:\\btcache\\scratch\\johnsonc\\jupyter\\Tutorial\\Tutorial_GitLab\\tutorial_sample_data.ipynb"
      ]
     },
     "execution_count": 3,
     "metadata": {},
     "output_type": "execute_result"
    }
   ],
   "source": [
    "# Generate notebook download link\n",
    "from IPython.display import FileLink\n",
    "print('To download this notebook, right click on the link and Save link as...')\n",
    "FileLink('tutorial_sample_data.ipynb')"
   ]
  },
  {
   "cell_type": "code",
   "execution_count": 4,
   "id": "e75213b9-baeb-4e7e-ac17-9a655b433c0d",
   "metadata": {},
   "outputs": [],
   "source": [
    "import riptable as rt\n",
    "import numpy as np"
   ]
  },
  {
   "cell_type": "code",
   "execution_count": 5,
   "id": "ce8755c3-5d1e-40f0-91cf-a35a76efdd84",
   "metadata": {},
   "outputs": [],
   "source": [
    "# Display all Dataset columns -- the default max is 9.\n",
    "rt.Display.options.COL_ALL = True\n",
    "\n",
    "# Render up to 100MM before showing in scientific notation.\n",
    "rt.Display.options.E_MAX = 100_000_000\n",
    "\n",
    "# Truncate small decimals, rather than showing infinitesimal scientific notation.\n",
    "rt.Display.options.P_THRESHOLD = 0\n",
    "\n",
    "# Put commas in numbers.\n",
    "rt.Display.options.NUMBER_SEPARATOR = True\n",
    "\n",
    "# Turn on Riptable autocomplete (start typing, then press Tab to see options).\n",
    "rt.autocomplete()"
   ]
  },
  {
   "cell_type": "markdown",
   "id": "7bd06339-4cbb-4d0e-91e1-db6a43631c0f",
   "metadata": {},
   "source": [
    "It's useful to have a few tools in your back pocket for generating data quickly -- either placeholder values (like 1s or 0s) meant to temporarily fill a certain structure you're instantiating, or sample values that mimic real data, which you can use to explore and experiment with Riptable.\n",
    "\n",
    "Here's a brief sampling of Riptable and NumPy methods you can use. For complete details about these functions, see their API reference documentation."
   ]
  },
  {
   "cell_type": "markdown",
   "id": "88105978-079a-402c-82c8-3d2a0f0cd9d9",
   "metadata": {},
   "source": [
    "### Generate Placeholder Values"
   ]
  },
  {
   "cell_type": "markdown",
   "id": "2e54f25b-0f94-4d66-b2bb-99a1e8d7b5bb",
   "metadata": {},
   "source": [
    "The following methods generate repeated 0s and 1s.\n",
    "\n",
    "10 floating-point zeros:"
   ]
  },
  {
   "cell_type": "code",
   "execution_count": 6,
   "id": "7e38e483",
   "metadata": {},
   "outputs": [
    {
     "data": {
      "text/plain": [
       "FastArray([0., 0., 0., 0., 0., 0., 0., 0., 0., 0.])"
      ]
     },
     "execution_count": 6,
     "metadata": {},
     "output_type": "execute_result"
    }
   ],
   "source": [
    "rt.zeros(10)"
   ]
  },
  {
   "cell_type": "markdown",
   "id": "1d384048",
   "metadata": {},
   "source": [
    "10 integer zeros:"
   ]
  },
  {
   "cell_type": "code",
   "execution_count": 7,
   "id": "84f8ccda",
   "metadata": {},
   "outputs": [
    {
     "data": {
      "text/plain": [
       "FastArray([0, 0, 0, 0, 0, 0, 0, 0, 0, 0])"
      ]
     },
     "execution_count": 7,
     "metadata": {},
     "output_type": "execute_result"
    }
   ],
   "source": [
    "rt.zeros(10, int)"
   ]
  },
  {
   "cell_type": "markdown",
   "id": "ec7e428d",
   "metadata": {},
   "source": [
    "10 floating-point ones:"
   ]
  },
  {
   "cell_type": "code",
   "execution_count": 8,
   "id": "ae8a91c9",
   "metadata": {},
   "outputs": [
    {
     "data": {
      "text/plain": [
       "FastArray([1., 1., 1., 1., 1., 1., 1., 1., 1., 1.])"
      ]
     },
     "execution_count": 8,
     "metadata": {},
     "output_type": "execute_result"
    }
   ],
   "source": [
    "rt.ones(10)"
   ]
  },
  {
   "cell_type": "markdown",
   "id": "744181df",
   "metadata": {},
   "source": [
    "10 integer ones:"
   ]
  },
  {
   "cell_type": "code",
   "execution_count": 9,
   "id": "b7911910",
   "metadata": {},
   "outputs": [
    {
     "data": {
      "text/plain": [
       "FastArray([1, 1, 1, 1, 1, 1, 1, 1, 1, 1])"
      ]
     },
     "execution_count": 9,
     "metadata": {},
     "output_type": "execute_result"
    }
   ],
   "source": [
    "rt.ones(10, int)"
   ]
  },
  {
   "cell_type": "markdown",
   "id": "000b2db2",
   "metadata": {},
   "source": [
    "The following methods generate repated specified values.\n",
    "\n",
    "10 fives:"
   ]
  },
  {
   "cell_type": "code",
   "execution_count": 10,
   "id": "5ebffbbc",
   "metadata": {},
   "outputs": [
    {
     "data": {
      "text/plain": [
       "FastArray([5, 5, 5, 5, 5, 5, 5, 5, 5, 5])"
      ]
     },
     "execution_count": 10,
     "metadata": {},
     "output_type": "execute_result"
    }
   ],
   "source": [
    "rt.repeat(5, 10)"
   ]
  },
  {
   "cell_type": "markdown",
   "id": "3c0b8f63",
   "metadata": {},
   "source": [
    "10 repeats of the array:"
   ]
  },
  {
   "cell_type": "code",
   "execution_count": 11,
   "id": "4581b30b",
   "metadata": {},
   "outputs": [
    {
     "data": {
      "text/plain": [
       "FastArray([1, 1, 1, 1, 1, 1, 1, 1, 1, 1, 2, 2, 2, 2, 2, 2, 2, 2, 2, 2])"
      ]
     },
     "execution_count": 11,
     "metadata": {},
     "output_type": "execute_result"
    }
   ],
   "source": [
    "rt.repeat([1, 2], 10)"
   ]
  },
  {
   "cell_type": "markdown",
   "id": "2b770ba7",
   "metadata": {},
   "source": [
    "10 repeats of each array value in turn:"
   ]
  },
  {
   "cell_type": "code",
   "execution_count": 12,
   "id": "fbe2c6d5",
   "metadata": {},
   "outputs": [
    {
     "data": {
      "text/plain": [
       "FastArray([1, 2, 1, 2, 1, 2, 1, 2, 1, 2, 1, 2, 1, 2, 1, 2, 1, 2, 1, 2])"
      ]
     },
     "execution_count": 12,
     "metadata": {},
     "output_type": "execute_result"
    }
   ],
   "source": [
    "rt.tile([1, 2], 10)"
   ]
  },
  {
   "cell_type": "markdown",
   "id": "308a8576",
   "metadata": {},
   "source": [
    "10 twos:"
   ]
  },
  {
   "cell_type": "code",
   "execution_count": 13,
   "id": "7fb909a9",
   "metadata": {},
   "outputs": [
    {
     "data": {
      "text/plain": [
       "FastArray([2, 2, 2, 2, 2, 2, 2, 2, 2, 2])"
      ]
     },
     "execution_count": 13,
     "metadata": {},
     "output_type": "execute_result"
    }
   ],
   "source": [
    "rt.full(10, 2)"
   ]
  },
  {
   "cell_type": "markdown",
   "id": "e4d8253a-9a2d-4cec-9596-4a1fee8a6882",
   "metadata": {},
   "source": [
    "### Generate Sample Data\n",
    "    \n",
    "Most of these methods generate a range of values.\n",
    "    \n",
    "`arange()` generates evenly spaced floating-point or integer values (depending on the input) within a given interval, including the start value but excluding the stop value. You can also specify a step size (the spacing between the values; the default is 1). It's like Python's *range* function, but it returns a FastArray rather than a list."
   ]
  },
  {
   "cell_type": "markdown",
   "id": "9f931843-a9e4-4d51-bd7a-581ab2bdf3db",
   "metadata": {},
   "source": [
    "Numbers 0 through 9:"
   ]
  },
  {
   "cell_type": "code",
   "execution_count": 14,
   "id": "4cf54240",
   "metadata": {},
   "outputs": [
    {
     "data": {
      "text/plain": [
       "FastArray([0, 1, 2, 3, 4, 5, 6, 7, 8, 9])"
      ]
     },
     "execution_count": 14,
     "metadata": {},
     "output_type": "execute_result"
    }
   ],
   "source": [
    "rt.arange(10) "
   ]
  },
  {
   "cell_type": "markdown",
   "id": "516f77fd",
   "metadata": {},
   "source": [
    "Every second number from 1 to 9:"
   ]
  },
  {
   "cell_type": "code",
   "execution_count": 15,
   "id": "53d28c10",
   "metadata": {},
   "outputs": [
    {
     "data": {
      "text/plain": [
       "FastArray([1, 3, 5, 7, 9])"
      ]
     },
     "execution_count": 15,
     "metadata": {},
     "output_type": "execute_result"
    }
   ],
   "source": [
    "rt.arange(1, 10, 2) "
   ]
  },
  {
   "cell_type": "markdown",
   "id": "fb7ec008",
   "metadata": {},
   "source": [
    "For evenly spaced values where the step is a non-integer, it's better to use `np.linspace`. Instead of specifying the step value, you specify the number of elements. Both the start and stop values are included."
   ]
  },
  {
   "cell_type": "code",
   "execution_count": 16,
   "id": "797b1e21",
   "metadata": {},
   "outputs": [
    {
     "data": {
      "text/plain": [
       "array([2.  , 2.25, 2.5 , 2.75, 3.  ])"
      ]
     },
     "execution_count": 16,
     "metadata": {},
     "output_type": "execute_result"
    }
   ],
   "source": [
    "np.linspace(2.0, 3.0, num=5)  # Five evenly spaced numbers from 2.0 to 3.0 (the step is 0.25)"
   ]
  },
  {
   "cell_type": "markdown",
   "id": "9744f22f",
   "metadata": {},
   "source": [
    "For randomly generated values, you have several options. \n",
    "    \n",
    "For integers and floating-point values, NumPy has you covered. Call `default_rng` to get a new instance of a NumPy Generator, then call its methods. To generate values that can be replicated, initialize with a seed."
   ]
  },
  {
   "cell_type": "code",
   "execution_count": 17,
   "id": "6b064dd6",
   "metadata": {},
   "outputs": [],
   "source": [
    "rng = np.random.default_rng(seed=42)"
   ]
  },
  {
   "cell_type": "markdown",
   "id": "651fb1c9",
   "metadata": {},
   "source": [
    "10 floating-point numbers between 0.0 and 1.0 (1.0 excluded):"
   ]
  },
  {
   "cell_type": "code",
   "execution_count": 18,
   "id": "f63d7674",
   "metadata": {},
   "outputs": [
    {
     "data": {
      "text/plain": [
       "array([0.77395605, 0.43887844, 0.85859792, 0.69736803, 0.09417735,\n",
       "       0.97562235, 0.7611397 , 0.78606431, 0.12811363, 0.45038594])"
      ]
     },
     "execution_count": 18,
     "metadata": {},
     "output_type": "execute_result"
    }
   ],
   "source": [
    "rng.random(10)"
   ]
  },
  {
   "cell_type": "markdown",
   "id": "070ec770",
   "metadata": {},
   "source": [
    "10 uniformly distributed floats between 0 and 50 (50 excluded):"
   ]
  },
  {
   "cell_type": "code",
   "execution_count": 19,
   "id": "85bd71e7",
   "metadata": {},
   "outputs": [
    {
     "data": {
      "text/plain": [
       "array([18.53990121, 46.33824944, 32.193256  , 41.13808066, 22.17070994,\n",
       "       11.36193609, 27.72923935,  3.19086281, 41.3815586 , 31.58321996])"
      ]
     },
     "execution_count": 19,
     "metadata": {},
     "output_type": "execute_result"
    }
   ],
   "source": [
    "rng.uniform(0, 50, 10)"
   ]
  },
  {
   "cell_type": "markdown",
   "id": "df854d65",
   "metadata": {},
   "source": [
    "10 integers between 1 and 50 (50 excluded):"
   ]
  },
  {
   "cell_type": "code",
   "execution_count": 20,
   "id": "e97d2d2e",
   "metadata": {},
   "outputs": [
    {
     "data": {
      "text/plain": [
       "array([ 9, 38, 35, 18,  4, 48, 22, 44, 34, 39], dtype=int64)"
      ]
     },
     "execution_count": 20,
     "metadata": {},
     "output_type": "execute_result"
    }
   ],
   "source": [
    "rng.integers(1, 50, 10)"
   ]
  },
  {
   "cell_type": "markdown",
   "id": "4878f506",
   "metadata": {},
   "source": [
    "10 strings chosen from a list:"
   ]
  },
  {
   "cell_type": "code",
   "execution_count": 21,
   "id": "2507a3fa",
   "metadata": {},
   "outputs": [
    {
     "data": {
      "text/plain": [
       "array(['SPY', 'GME', 'AMZN', 'AMZN', 'AMZN', 'GME', 'TSLA', 'GME', 'TSLA',\n",
       "       'TSLA'], dtype='<U4')"
      ]
     },
     "execution_count": 21,
     "metadata": {},
     "output_type": "execute_result"
    }
   ],
   "source": [
    "rng.choice(['GME', 'AMZN', 'TSLA', 'SPY'], 10)"
   ]
  },
  {
   "cell_type": "markdown",
   "id": "7992de87",
   "metadata": {},
   "source": [
    "10 random Booleans:"
   ]
  },
  {
   "cell_type": "code",
   "execution_count": 22,
   "id": "4b6c37e0",
   "metadata": {},
   "outputs": [
    {
     "data": {
      "text/plain": [
       "array([False, False,  True, False,  True,  True, False,  True,  True,\n",
       "        True])"
      ]
     },
     "execution_count": 22,
     "metadata": {},
     "output_type": "execute_result"
    }
   ],
   "source": [
    "rng.choice([True, False], 10)"
   ]
  },
  {
   "cell_type": "markdown",
   "id": "48d71e59",
   "metadata": {},
   "source": [
    "See NumPy's documentation for more details and other methods.\n",
    "\n",
    "Riptable has methods for generating random Date and DateTimeNano arrays. \n",
    "\n",
    "5 DateTimeNanos with NYT time zone:"
   ]
  },
  {
   "cell_type": "code",
   "execution_count": 23,
   "id": "f01fb3c6",
   "metadata": {},
   "outputs": [
    {
     "data": {
      "text/plain": [
       "DateTimeNano(['20000507 22:02:14.350793900', '20040720 00:24:28.668289697', '19771017 22:34:39.521017110', '20130819 05:29:22.584265022', '20170622 00:50:06.970974486'], to_tz='NYC')"
      ]
     },
     "execution_count": 23,
     "metadata": {},
     "output_type": "execute_result"
    }
   ],
   "source": [
    "rt.DateTimeNano.random(5)"
   ]
  },
  {
   "cell_type": "markdown",
   "id": "10c49f65",
   "metadata": {},
   "source": [
    "Dates between a start date and an end date (start and end dates included; the default step is 1 day):"
   ]
  },
  {
   "cell_type": "code",
   "execution_count": 24,
   "id": "31d23ddd-0e02-493c-b7d1-86b40112b48c",
   "metadata": {},
   "outputs": [
    {
     "data": {
      "text/plain": [
       "Date(['2019-02-01', '2019-02-02', '2019-02-03', '2019-02-04', '2019-02-05', '2019-02-06', '2019-02-07', '2019-02-08'])"
      ]
     },
     "execution_count": 24,
     "metadata": {},
     "output_type": "execute_result"
    }
   ],
   "source": [
    "rt.Date.range('20190201', '20190208')"
   ]
  },
  {
   "cell_type": "markdown",
   "id": "5f51857f",
   "metadata": {},
   "source": [
    "5 dates, spaced two days apart, with a specified start date (start date included):"
   ]
  },
  {
   "cell_type": "code",
   "execution_count": 25,
   "id": "56e64810",
   "metadata": {},
   "outputs": [
    {
     "data": {
      "text/plain": [
       "Date(['2019-02-01', '2019-02-03', '2019-02-05', '2019-02-07', '2019-02-09'])"
      ]
     },
     "execution_count": 25,
     "metadata": {},
     "output_type": "execute_result"
    }
   ],
   "source": [
    "rt.Date.range('20190201', days=5, step=2)"
   ]
  },
  {
   "cell_type": "markdown",
   "id": "3109d623-ff95-4c8f-8d2b-337bb10d4eab",
   "metadata": {},
   "source": [
    "Though `Date` objects don't (yet) have a `random` method, you can use `rng.choice` to pick dates from a range."
   ]
  },
  {
   "cell_type": "code",
   "execution_count": 26,
   "id": "bedbb47c-3926-45e1-8f1f-72f275be0a2d",
   "metadata": {},
   "outputs": [
    {
     "data": {
      "text/plain": [
       "Date(['2022-04-12', '2022-02-17', '2022-03-14', '2022-02-12', '2022-04-03'])"
      ]
     },
     "execution_count": 26,
     "metadata": {},
     "output_type": "execute_result"
    }
   ],
   "source": [
    "rt.Date(rng.choice(rt.Date.range('20220201', '20220430'), 5))"
   ]
  },
  {
   "cell_type": "markdown",
   "id": "1897ebe8-c0e7-41b4-9d0b-91573bef8b63",
   "metadata": {},
   "source": [
    "Next we cover ways to get data in and out of Riptable: [IO Tools and Working with Other File Types](tutorial_io.ipynb)."
   ]
  },
  {
   "cell_type": "markdown",
   "id": "83df9102-79d5-430c-bf5d-87a8d071f76e",
   "metadata": {},
   "source": [
    "<br>\n",
    "<br>\n",
    "\n",
    "---\n",
    "\n",
    "Questions or comments about this guide? Email RiptableDocumentation@sig.com."
   ]
  }
 ],
 "metadata": {
  "kernelspec": {
   "display_name": "Python 3 (ipykernel)",
   "language": "python",
   "name": "python3"
  },
  "language_info": {
   "codemirror_mode": {
    "name": "ipython",
    "version": 3
   },
   "file_extension": ".py",
   "mimetype": "text/x-python",
   "name": "python",
   "nbconvert_exporter": "python",
   "pygments_lexer": "ipython3",
   "version": "3.9.12"
  }
 },
 "nbformat": 4,
 "nbformat_minor": 5
}
