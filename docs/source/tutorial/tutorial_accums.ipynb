{
 "cells": [
  {
   "cell_type": "markdown",
   "id": "5471e2bb-8c93-43fb-95ad-5af5bbd5019e",
   "metadata": {},
   "source": [
    "# Accums"
   ]
  },
  {
   "cell_type": "code",
   "execution_count": 1,
   "id": "cf21dc4d-b3ca-4b4b-83df-8f14f5fc4d05",
   "metadata": {
    "jp-MarkdownHeadingCollapsed": true,
    "tags": []
   },
   "outputs": [
    {
     "name": "stdout",
     "output_type": "stream",
     "text": [
      "To download this notebook, right click on the link and Save link as...\n"
     ]
    },
    {
     "data": {
      "text/html": [
       "<a href='tutorial_accums.ipynb' target='_blank'>tutorial_accums.ipynb</a><br>"
      ],
      "text/plain": [
       "U:\\btcache\\scratch\\johnsonc\\jupyter\\Tutorial\\Tutorial_GitLab\\tutorial_accums.ipynb"
      ]
     },
     "execution_count": 1,
     "metadata": {},
     "output_type": "execute_result"
    }
   ],
   "source": [
    "# Generate notebook download link\n",
    "from IPython.display import FileLink\n",
    "print('To download this notebook, right click on the link and Save link as...')\n",
    "FileLink('tutorial_accums.ipynb')"
   ]
  },
  {
   "cell_type": "code",
   "execution_count": 2,
   "id": "72beacb7-4afc-4c2b-ac91-8c5f0bcc8434",
   "metadata": {},
   "outputs": [],
   "source": [
    "import riptable as rt\n",
    "import numpy as np"
   ]
  },
  {
   "cell_type": "code",
   "execution_count": 3,
   "id": "0b6f6680-26c8-4d25-a5e6-fcab7604e6a4",
   "metadata": {},
   "outputs": [],
   "source": [
    "# Display all Dataset columns -- the default max is 9.\n",
    "rt.Display.options.COL_ALL = True\n",
    "\n",
    "# Render up to 100MM before showing in scientific notation.\n",
    "rt.Display.options.E_MAX = 100_000_000\n",
    "\n",
    "# Truncate small decimals, rather than showing infinitesimal scientific notation.\n",
    "rt.Display.options.P_THRESHOLD = 0\n",
    "\n",
    "# Put commas in numbers.\n",
    "rt.Display.options.NUMBER_SEPARATOR = True\n",
    "\n",
    "# Turn on Riptable autocomplete (start typing, then press Tab to see options).\n",
    "rt.autocomplete()"
   ]
  },
  {
   "cell_type": "markdown",
   "id": "aaa732c0",
   "metadata": {},
   "source": [
    "Accums aggregate data similarly to Categoricals, but they distinguish themselves by providing a fancier output with overall aggregates in summary footers and columns."
   ]
  },
  {
   "cell_type": "markdown",
   "id": "c4768034-e9ae-4e48-b5aa-9dcd2da1426b",
   "metadata": {},
   "source": [
    "## `Accum2()`"
   ]
  },
  {
   "cell_type": "markdown",
   "id": "25508006",
   "metadata": {},
   "source": [
    "`Accum2()` is very much like a multi-key Categorical: It computes aggregates values for pairs of groups. The difference is in the output -- an `Accum2()` result looks more like a pivot table, with the first group passed to the function providing row labels and the second providing the column labels. \n",
    "\n",
    "The function is also applied to each row and column, with results shown in a summary column and row, as well as to all columns and rows combined (with the result shown in the bottom right corner).\n",
    "\n",
    "We'll use a Dataset that's similar to the one we used for multi-key Categoricals, so we can compare the output."
   ]
  },
  {
   "cell_type": "code",
   "execution_count": 4,
   "id": "aaf7e45e",
   "metadata": {},
   "outputs": [
    {
     "data": {
      "text/html": [
       "<html><head><style>table.tbl-2427 tbody td{white-space: nowrap;}table.tbl-2427 .lc{font-weight:bold;background-color: var( --jp-rendermime-table-row-hover-background);}table.tbl-2427 .lg{background-color: #66da9940;}table.tbl-2427 .lp{font-weight:bold;background-color: #ac66da40;}table.tbl-2427 .msc{font-weight:normal;background-color:#00000011;}table.tbl-2427 .al{text-align:left;}table.tbl-2427 .ar{text-align:right;}table.tbl-2427 .ac{text-align:center;}table.tbl-2427 .bld{font-weight:bold;}table.tbl-2427 .it{font-style:italic;}table.tbl-2427 .ul{text-decoration:underline;}table.tbl-2427 .st{text-decoration:line-through;}</style></head><body><table class='tbl-2427'><thead><tr><td class='lc bld ar'>  #</td><td class='lc bld al'>Symbol</td><td class='lc bld ar'>Value</td><td class='lc bld ar'>      Date</td><td class='lc bld al'>Month     </td></tr></thead><tbody><tr><td class='lc  ar '>0</td><td class='  al '>AAPL</td><td class='  ar '>0.20</td><td class='  ar '>2021-01-01</td><td class='  al '>2021-01-01</td></tr><tr><td class='lc  ar '>1</td><td class='  al '>MSFT</td><td class='  ar '>0.01</td><td class='  ar '>2021-01-02</td><td class='  al '>2021-01-01</td></tr><tr><td class='lc  ar '>2</td><td class='  al '>AMZN</td><td class='  ar '>0.79</td><td class='  ar '>2021-01-03</td><td class='  al '>2021-01-01</td></tr><tr><td class='lc  ar '>3</td><td class='  al '>AMZN</td><td class='  ar '>0.66</td><td class='  ar '>2021-01-04</td><td class='  al '>2021-01-01</td></tr><tr><td class='lc  ar '>4</td><td class='  al '>AMZN</td><td class='  ar '>0.71</td><td class='  ar '>2021-01-05</td><td class='  al '>2021-01-01</td></tr><tr><td class='lc  ar '>5</td><td class='  al '>MSFT</td><td class='  ar '>0.78</td><td class='  ar '>2021-01-06</td><td class='  al '>2021-01-01</td></tr><tr><td class='lc  ar '>6</td><td class='  al '>AAPL</td><td class='  ar '>0.46</td><td class='  ar '>2021-01-07</td><td class='  al '>2021-01-01</td></tr><tr><td class='lc  ar '>7</td><td class='  al '>MSFT</td><td class='  ar '>0.57</td><td class='  ar '>2021-01-08</td><td class='  al '>2021-01-01</td></tr><tr><td class='lc  ar '>8</td><td class='  al '>AAPL</td><td class='  ar '>0.14</td><td class='  ar '>2021-01-09</td><td class='  al '>2021-01-01</td></tr><tr><td class='lc  ar '>9</td><td class='  al '>AAPL</td><td class='  ar '>0.11</td><td class='  ar '>2021-01-10</td><td class='  al '>2021-01-01</td></tr><tr><td class='lc  ar '>10</td><td class='  al '>AMZN</td><td class='  ar '>0.67</td><td class='  ar '>2021-01-11</td><td class='  al '>2021-01-01</td></tr><tr><td class='lc  ar '>11</td><td class='  al '>MSFT</td><td class='  ar '>0.47</td><td class='  ar '>2021-01-12</td><td class='  al '>2021-01-01</td></tr><tr><td class='lc  ar '>12</td><td class='  al '>MSFT</td><td class='  ar '>0.57</td><td class='  ar '>2021-01-13</td><td class='  al '>2021-01-01</td></tr><tr><td class='lc  ar '>13</td><td class='  al '>MSFT</td><td class='  ar '>0.76</td><td class='  ar '>2021-01-14</td><td class='  al '>2021-01-01</td></tr><tr><td class='lc  ar '>14</td><td class='  al '>MSFT</td><td class='  ar '>0.63</td><td class='  ar '>2021-01-15</td><td class='  al '>2021-01-01</td></tr><tr><td class='lc  ar '>...</td><td class='  al '>...</td><td class='  ar '>...</td><td class='  ar '>...</td><td class='  al '>...</td></tr><tr><td class='lc  ar '>85</td><td class='  al '>MSFT</td><td class='  ar '>0.02</td><td class='  ar '>2021-03-27</td><td class='  al '>2021-03-01</td></tr><tr><td class='lc  ar '>86</td><td class='  al '>AAPL</td><td class='  ar '>0.96</td><td class='  ar '>2021-03-28</td><td class='  al '>2021-03-01</td></tr><tr><td class='lc  ar '>87</td><td class='  al '>AAPL</td><td class='  ar '>0.48</td><td class='  ar '>2021-03-29</td><td class='  al '>2021-03-01</td></tr><tr><td class='lc  ar '>88</td><td class='  al '>MSFT</td><td class='  ar '>0.78</td><td class='  ar '>2021-03-30</td><td class='  al '>2021-03-01</td></tr><tr><td class='lc  ar '>89</td><td class='  al '>MSFT</td><td class='  ar '>0.08</td><td class='  ar '>2021-03-31</td><td class='  al '>2021-03-01</td></tr><tr><td class='lc  ar '>90</td><td class='  al '>AMZN</td><td class='  ar '>0.49</td><td class='  ar '>2021-04-01</td><td class='  al '>2021-04-01</td></tr><tr><td class='lc  ar '>91</td><td class='  al '>MSFT</td><td class='  ar '>0.49</td><td class='  ar '>2021-04-02</td><td class='  al '>2021-04-01</td></tr><tr><td class='lc  ar '>92</td><td class='  al '>MSFT</td><td class='  ar '>0.94</td><td class='  ar '>2021-04-03</td><td class='  al '>2021-04-01</td></tr><tr><td class='lc  ar '>93</td><td class='  al '>AMZN</td><td class='  ar '>0.57</td><td class='  ar '>2021-04-04</td><td class='  al '>2021-04-01</td></tr><tr><td class='lc  ar '>94</td><td class='  al '>MSFT</td><td class='  ar '>0.47</td><td class='  ar '>2021-04-05</td><td class='  al '>2021-04-01</td></tr><tr><td class='lc  ar '>95</td><td class='  al '>AAPL</td><td class='  ar '>0.27</td><td class='  ar '>2021-04-06</td><td class='  al '>2021-04-01</td></tr><tr><td class='lc  ar '>96</td><td class='  al '>AAPL</td><td class='  ar '>0.33</td><td class='  ar '>2021-04-07</td><td class='  al '>2021-04-01</td></tr><tr><td class='lc  ar '>97</td><td class='  al '>MSFT</td><td class='  ar '>0.52</td><td class='  ar '>2021-04-08</td><td class='  al '>2021-04-01</td></tr><tr><td class='lc  ar '>98</td><td class='  al '>AMZN</td><td class='  ar '>0.44</td><td class='  ar '>2021-04-09</td><td class='  al '>2021-04-01</td></tr><tr><td class='lc  ar '>99</td><td class='  al '>AAPL</td><td class='  ar '>0.02</td><td class='  ar '>2021-04-10</td><td class='  al '>2021-04-01</td></tr></tbody></table></body></html>\n",
       "\n",
       "[100 rows x 4 columns] total bytes: 1.4 KB"
      ],
      "text/plain": [
       "\u001b[1;36m  #\u001b[0m   \u001b[1;36mSymbol\u001b[0m   \u001b[1;36mValue\u001b[0m   \u001b[1;36m      Date\u001b[0m   \u001b[1;36mMonth     \u001b[0m\n",
       "---   ------   -----   ----------   ----------\n",
       "\u001b[1;36m  0\u001b[0m   AAPL  \u001b[0m    0.20\u001b[0m   2021-01-01\u001b[0m   2021-01-01\u001b[0m\n",
       "\u001b[1;36m  1\u001b[0m   MSFT  \u001b[0m    0.01\u001b[0m   2021-01-02\u001b[0m   2021-01-01\u001b[0m\n",
       "\u001b[1;36m  2\u001b[0m   AMZN  \u001b[0m    0.79\u001b[0m   2021-01-03\u001b[0m   2021-01-01\u001b[0m\n",
       "\u001b[1;36m  3\u001b[0m   AMZN  \u001b[0m    0.66\u001b[0m   2021-01-04\u001b[0m   2021-01-01\u001b[0m\n",
       "\u001b[1;36m  4\u001b[0m   AMZN  \u001b[0m    0.71\u001b[0m   2021-01-05\u001b[0m   2021-01-01\u001b[0m\n",
       "\u001b[1;36m  5\u001b[0m   MSFT  \u001b[0m    0.78\u001b[0m   2021-01-06\u001b[0m   2021-01-01\u001b[0m\n",
       "\u001b[1;36m  6\u001b[0m   AAPL  \u001b[0m    0.46\u001b[0m   2021-01-07\u001b[0m   2021-01-01\u001b[0m\n",
       "\u001b[1;36m  7\u001b[0m   MSFT  \u001b[0m    0.57\u001b[0m   2021-01-08\u001b[0m   2021-01-01\u001b[0m\n",
       "\u001b[1;36m  8\u001b[0m   AAPL  \u001b[0m    0.14\u001b[0m   2021-01-09\u001b[0m   2021-01-01\u001b[0m\n",
       "\u001b[1;36m  9\u001b[0m   AAPL  \u001b[0m    0.11\u001b[0m   2021-01-10\u001b[0m   2021-01-01\u001b[0m\n",
       "\u001b[1;36m 10\u001b[0m   AMZN  \u001b[0m    0.67\u001b[0m   2021-01-11\u001b[0m   2021-01-01\u001b[0m\n",
       "\u001b[1;36m 11\u001b[0m   MSFT  \u001b[0m    0.47\u001b[0m   2021-01-12\u001b[0m   2021-01-01\u001b[0m\n",
       "\u001b[1;36m 12\u001b[0m   MSFT  \u001b[0m    0.57\u001b[0m   2021-01-13\u001b[0m   2021-01-01\u001b[0m\n",
       "\u001b[1;36m 13\u001b[0m   MSFT  \u001b[0m    0.76\u001b[0m   2021-01-14\u001b[0m   2021-01-01\u001b[0m\n",
       "\u001b[1;36m 14\u001b[0m   MSFT  \u001b[0m    0.63\u001b[0m   2021-01-15\u001b[0m   2021-01-01\u001b[0m\n",
       "\u001b[1;36m...\u001b[0m   ...   \u001b[0m     ...\u001b[0m          ...\u001b[0m   ...       \u001b[0m\n",
       "\u001b[1;36m 85\u001b[0m   MSFT  \u001b[0m    0.02\u001b[0m   2021-03-27\u001b[0m   2021-03-01\u001b[0m\n",
       "\u001b[1;36m 86\u001b[0m   AAPL  \u001b[0m    0.96\u001b[0m   2021-03-28\u001b[0m   2021-03-01\u001b[0m\n",
       "\u001b[1;36m 87\u001b[0m   AAPL  \u001b[0m    0.48\u001b[0m   2021-03-29\u001b[0m   2021-03-01\u001b[0m\n",
       "\u001b[1;36m 88\u001b[0m   MSFT  \u001b[0m    0.78\u001b[0m   2021-03-30\u001b[0m   2021-03-01\u001b[0m\n",
       "\u001b[1;36m 89\u001b[0m   MSFT  \u001b[0m    0.08\u001b[0m   2021-03-31\u001b[0m   2021-03-01\u001b[0m\n",
       "\u001b[1;36m 90\u001b[0m   AMZN  \u001b[0m    0.49\u001b[0m   2021-04-01\u001b[0m   2021-04-01\u001b[0m\n",
       "\u001b[1;36m 91\u001b[0m   MSFT  \u001b[0m    0.49\u001b[0m   2021-04-02\u001b[0m   2021-04-01\u001b[0m\n",
       "\u001b[1;36m 92\u001b[0m   MSFT  \u001b[0m    0.94\u001b[0m   2021-04-03\u001b[0m   2021-04-01\u001b[0m\n",
       "\u001b[1;36m 93\u001b[0m   AMZN  \u001b[0m    0.57\u001b[0m   2021-04-04\u001b[0m   2021-04-01\u001b[0m\n",
       "\u001b[1;36m 94\u001b[0m   MSFT  \u001b[0m    0.47\u001b[0m   2021-04-05\u001b[0m   2021-04-01\u001b[0m\n",
       "\u001b[1;36m 95\u001b[0m   AAPL  \u001b[0m    0.27\u001b[0m   2021-04-06\u001b[0m   2021-04-01\u001b[0m\n",
       "\u001b[1;36m 96\u001b[0m   AAPL  \u001b[0m    0.33\u001b[0m   2021-04-07\u001b[0m   2021-04-01\u001b[0m\n",
       "\u001b[1;36m 97\u001b[0m   MSFT  \u001b[0m    0.52\u001b[0m   2021-04-08\u001b[0m   2021-04-01\u001b[0m\n",
       "\u001b[1;36m 98\u001b[0m   AMZN  \u001b[0m    0.44\u001b[0m   2021-04-09\u001b[0m   2021-04-01\u001b[0m\n",
       "\u001b[1;36m 99\u001b[0m   AAPL  \u001b[0m    0.02\u001b[0m   2021-04-10\u001b[0m   2021-04-01\u001b[0m\n",
       "\n",
       "[100 rows x 4 columns] total bytes: 1.4 KB"
      ]
     },
     "execution_count": 4,
     "metadata": {},
     "output_type": "execute_result"
    }
   ],
   "source": [
    "rng = np.random.default_rng(seed=42)\n",
    "\n",
    "ds = rt.Dataset()\n",
    "N = 100\n",
    "\n",
    "ds.Symbol = rt.FA(rng.choice(['AAPL', 'AMZN', 'MSFT'], N))\n",
    "ds.Value = rt.FA(rng.random(N))\n",
    "ds.Date = rt.Date.range('20210101', days = 100)  # Dates from January to mid-April\n",
    "ds.Month = ds.Date.start_of_month\n",
    "\n",
    "# Accum2 can take Categoricals or FastArrays as input.\n",
    "# To use this ds for accum_ratio, we need Symbol and Month to be Categoricals.\n",
    "ds.Symbol = rt.Cat(ds.Symbol)\n",
    "ds.Month = rt.Cat(ds.Month)\n",
    "\n",
    "ds"
   ]
  },
  {
   "cell_type": "markdown",
   "id": "f6f00abe",
   "metadata": {},
   "source": [
    "Here's the `Accum2()` table before we apply an aggregation function. You can see how many values fall into each group pair."
   ]
  },
  {
   "cell_type": "code",
   "execution_count": 5,
   "id": "e3b53cbc",
   "metadata": {},
   "outputs": [
    {
     "data": {
      "text/plain": [
       "Accum2 Keys\n",
       " X:Date(['2021-01-01', '2021-02-01', '2021-03-01', '2021-04-01'])\n",
       " Y:FastArray([b'AAPL', b'AMZN', b'MSFT'], dtype='|S4')\n",
       " Bins:20   Rows:100\n",
       "\n",
       "*Symbol   2021-01-01   2021-02-01   2021-03-01   2021-04-01   Sum\n",
       "-------   ----------   ----------   ----------   ----------   ---\n",
       "AAPL               6            9            9            3    27\n",
       "AMZN              13            8            9            3    33\n",
       "MSFT              12           11           13            4    40"
      ]
     },
     "execution_count": 5,
     "metadata": {},
     "output_type": "execute_result"
    }
   ],
   "source": [
    "rt.Accum2(ds.Symbol, ds.Month)"
   ]
  },
  {
   "cell_type": "markdown",
   "id": "af450ac5",
   "metadata": {},
   "source": [
    "If we aggregate with `count()`, it has the same data, but we see the output formatting."
   ]
  },
  {
   "cell_type": "code",
   "execution_count": 6,
   "id": "073d0f56",
   "metadata": {},
   "outputs": [
    {
     "data": {
      "text/html": [
       "<html><head><style>table.tbl-3593 tbody td{white-space: nowrap;}table.tbl-3593 .lc{font-weight:bold;background-color: var( --jp-rendermime-table-row-hover-background);}table.tbl-3593 .lg{background-color: #66da9940;}table.tbl-3593 .lp{font-weight:bold;background-color: #ac66da40;}table.tbl-3593 .msc{font-weight:normal;background-color:#00000011;}table.tbl-3593 .al{text-align:left;}table.tbl-3593 .ar{text-align:right;}table.tbl-3593 .ac{text-align:center;}table.tbl-3593 .bld{font-weight:bold;}table.tbl-3593 .it{font-style:italic;}table.tbl-3593 .ul{text-decoration:underline;}table.tbl-3593 .st{text-decoration:line-through;}</style></head><body><table class='tbl-3593'><thead><tr><td class='lg bld al'>*Symbol</td><td class='lc bld ar'>2021-01-01</td><td class='lc bld ar'>2021-02-01</td><td class='lc bld ar'>2021-03-01</td><td class='lc bld ar'>2021-04-01</td><td class='lg bld ar'>Sum</td></tr></thead><tbody><tr><td class='lg  al '>AAPL</td><td class='  ar '>6</td><td class='  ar '>9</td><td class='  ar '>9</td><td class='  ar '>3</td><td class='lg  ar '>27</td></tr><tr><td class='lg  al '>AMZN</td><td class='  ar '>13</td><td class='  ar '>8</td><td class='  ar '>9</td><td class='  ar '>3</td><td class='lg  ar '>33</td></tr><tr><td class='lg  al '>MSFT</td><td class='  ar '>12</td><td class='  ar '>11</td><td class='  ar '>13</td><td class='  ar '>4</td><td class='lg  ar '>40</td></tr><tr><td class='lg ar'>    Sum</td><td class='lg ar'>        31</td><td class='lg ar'>        28</td><td class='lg ar'>        31</td><td class='lg ar'>        10</td><td class='lg ar'>100</td></tr></tbody></table></body></html>\n",
       "\n",
       "[3 rows x 6 columns] total bytes: 72.0 B"
      ],
      "text/plain": []
     },
     "execution_count": 6,
     "metadata": {},
     "output_type": "execute_result"
    }
   ],
   "source": [
    "rt.Accum2(ds.Symbol, ds.Month).count()"
   ]
  },
  {
   "cell_type": "markdown",
   "id": "b7802320",
   "metadata": {},
   "source": [
    "The bottom row and rightmost column provide summary data.\n",
    "\n",
    "Now we'll get the average value per symbol-month pair."
   ]
  },
  {
   "cell_type": "code",
   "execution_count": 7,
   "id": "dfdf8dea",
   "metadata": {},
   "outputs": [
    {
     "data": {
      "text/html": [
       "<html><head><style>table.tbl-835 tbody td{white-space: nowrap;}table.tbl-835 .lc{font-weight:bold;background-color: var( --jp-rendermime-table-row-hover-background);}table.tbl-835 .lg{background-color: #66da9940;}table.tbl-835 .lp{font-weight:bold;background-color: #ac66da40;}table.tbl-835 .msc{font-weight:normal;background-color:#00000011;}table.tbl-835 .al{text-align:left;}table.tbl-835 .ar{text-align:right;}table.tbl-835 .ac{text-align:center;}table.tbl-835 .bld{font-weight:bold;}table.tbl-835 .it{font-style:italic;}table.tbl-835 .ul{text-decoration:underline;}table.tbl-835 .st{text-decoration:line-through;}</style></head><body><table class='tbl-835'><thead><tr><td class='lg bld al'>*Symbol</td><td class='lc bld ar'>2021-01-01</td><td class='lc bld ar'>2021-02-01</td><td class='lc bld ar'>2021-03-01</td><td class='lc bld ar'>2021-04-01</td><td class='lg bld ar'>Mean</td></tr></thead><tbody><tr><td class='lg  al '>AAPL</td><td class='  ar '>0.35</td><td class='  ar '>0.40</td><td class='  ar '>0.54</td><td class='  ar '>0.21</td><td class='lg  ar '>0.41</td></tr><tr><td class='lg  al '>AMZN</td><td class='  ar '>0.54</td><td class='  ar '>0.48</td><td class='  ar '>0.45</td><td class='  ar '>0.50</td><td class='lg  ar '>0.50</td></tr><tr><td class='lg  al '>MSFT</td><td class='  ar '>0.44</td><td class='  ar '>0.47</td><td class='  ar '>0.42</td><td class='  ar '>0.61</td><td class='lg  ar '>0.46</td></tr><tr><td class='lg ar'>   Mean</td><td class='lg ar'>      0.47</td><td class='lg ar'>      0.45</td><td class='lg ar'>      0.46</td><td class='lg ar'>      0.45</td><td class='lg ar'>0.46</td></tr></tbody></table></body></html>\n",
       "\n",
       "[3 rows x 6 columns] total bytes: 132.0 B"
      ],
      "text/plain": []
     },
     "execution_count": 7,
     "metadata": {},
     "output_type": "execute_result"
    }
   ],
   "source": [
    "rt.Accum2(ds.Symbol, ds.Month).mean(ds.Value)"
   ]
  },
  {
   "cell_type": "markdown",
   "id": "a0b4d392",
   "metadata": {},
   "source": [
    "Note that the summary row and column show the mean values for all the input values for each group, not just the means of the displayed group means.\n",
    "\n",
    "To illustrate: Here's the mean of the displayed group mean values for AAPL."
   ]
  },
  {
   "cell_type": "code",
   "execution_count": 8,
   "id": "2adea140",
   "metadata": {},
   "outputs": [
    {
     "data": {
      "text/plain": [
       "0.375"
      ]
     },
     "execution_count": 8,
     "metadata": {},
     "output_type": "execute_result"
    }
   ],
   "source": [
    "(0.35 + 0.40 + 0.54 + 0.21) / 4"
   ]
  },
  {
   "cell_type": "markdown",
   "id": "42442940",
   "metadata": {},
   "source": [
    "And here's the mean of all AAPL values."
   ]
  },
  {
   "cell_type": "code",
   "execution_count": 9,
   "id": "a2bba7f8-4491-449f-8c4a-dd8afc9637c9",
   "metadata": {},
   "outputs": [
    {
     "data": {
      "text/plain": [
       "0.41317486824408933"
      ]
     },
     "execution_count": 9,
     "metadata": {},
     "output_type": "execute_result"
    }
   ],
   "source": [
    "ds.Value.nanmean(filter=ds.Symbol == 'AAPL')"
   ]
  },
  {
   "cell_type": "markdown",
   "id": "b3d2296c",
   "metadata": {},
   "source": [
    "For comparison, here's the multi-key Categorical version."
   ]
  },
  {
   "cell_type": "code",
   "execution_count": 10,
   "id": "bb7f14df",
   "metadata": {},
   "outputs": [
    {
     "data": {
      "text/html": [
       "<html><head><style>table.tbl-5334 tbody td{white-space: nowrap;}table.tbl-5334 .lc{font-weight:bold;background-color: var( --jp-rendermime-table-row-hover-background);}table.tbl-5334 .lg{background-color: #66da9940;}table.tbl-5334 .lp{font-weight:bold;background-color: #ac66da40;}table.tbl-5334 .msc{font-weight:normal;background-color:#00000011;}table.tbl-5334 .al{text-align:left;}table.tbl-5334 .ar{text-align:right;}table.tbl-5334 .ac{text-align:center;}table.tbl-5334 .bld{font-weight:bold;}table.tbl-5334 .it{font-style:italic;}table.tbl-5334 .ul{text-decoration:underline;}table.tbl-5334 .st{text-decoration:line-through;}</style></head><body><table class='tbl-5334'><thead><tr><td class='lg bld al'>*Symbol</td><td class='lg bld al'>*Month    </td><td class='lc bld ar'>Value</td></tr></thead><tbody><tr><td class='lg  al '>AAPL</td><td class='lg  al '>2021-01-01</td><td class='  ar '>0.35</td></tr><tr><td class='lg  al '>MSFT</td><td class='lg  al '>2021-01-01</td><td class='  ar '>0.44</td></tr><tr><td class='lg  al '>AMZN</td><td class='lg  al '>2021-01-01</td><td class='  ar '>0.54</td></tr><tr><td class='lg  al '>AAPL</td><td class='lg  al '>2021-02-01</td><td class='  ar '>0.40</td></tr><tr><td class='lg  al '>AMZN</td><td class='lg  al '>2021-02-01</td><td class='  ar '>0.48</td></tr><tr><td class='lg  al '>MSFT</td><td class='lg  al '>2021-02-01</td><td class='  ar '>0.47</td></tr><tr><td class='lg  al '>.</td><td class='lg  al '>2021-03-01</td><td class='  ar '>0.42</td></tr><tr><td class='lg  al '>AMZN</td><td class='lg  al '>2021-03-01</td><td class='  ar '>0.45</td></tr><tr><td class='lg  al '>AAPL</td><td class='lg  al '>2021-03-01</td><td class='  ar '>0.54</td></tr><tr><td class='lg  al '>AMZN</td><td class='lg  al '>2021-04-01</td><td class='  ar '>0.50</td></tr><tr><td class='lg  al '>MSFT</td><td class='lg  al '>2021-04-01</td><td class='  ar '>0.61</td></tr><tr><td class='lg  al '>AAPL</td><td class='lg  al '>2021-04-01</td><td class='  ar '>0.21</td></tr></tbody></table></body></html>\n",
       "\n",
       "[12 rows x 3 columns] total bytes: 148.0 B"
      ],
      "text/plain": []
     },
     "execution_count": 10,
     "metadata": {},
     "output_type": "execute_result"
    }
   ],
   "source": [
    "ds.Symbol_Month = rt.Cat([ds.Symbol, ds.Month])\n",
    "\n",
    "ds.Symbol_Month.mean(ds.Value)"
   ]
  },
  {
   "cell_type": "markdown",
   "id": "62d35b35",
   "metadata": {},
   "source": [
    "You can pass a filter keyword argument to the function you call on `Accum2()`."
   ]
  },
  {
   "cell_type": "code",
   "execution_count": 11,
   "id": "5299d75a",
   "metadata": {},
   "outputs": [
    {
     "data": {
      "text/html": [
       "<html><head><style>table.tbl-993 tbody td{white-space: nowrap;}table.tbl-993 .lc{font-weight:bold;background-color: var( --jp-rendermime-table-row-hover-background);}table.tbl-993 .lg{background-color: #66da9940;}table.tbl-993 .lp{font-weight:bold;background-color: #ac66da40;}table.tbl-993 .msc{font-weight:normal;background-color:#00000011;}table.tbl-993 .al{text-align:left;}table.tbl-993 .ar{text-align:right;}table.tbl-993 .ac{text-align:center;}table.tbl-993 .bld{font-weight:bold;}table.tbl-993 .it{font-style:italic;}table.tbl-993 .ul{text-decoration:underline;}table.tbl-993 .st{text-decoration:line-through;}</style></head><body><table class='tbl-993'><thead><tr><td class='lg bld al'>*Symbol</td><td class='lc bld ar'>2021-01-01</td><td class='lc bld ar'>2021-02-01</td><td class='lc bld ar'>2021-03-01</td><td class='lc bld ar'>2021-04-01</td><td class='lg bld ar'>Mean</td></tr></thead><tbody><tr><td class='lg  al '>AAPL</td><td class='  ar '>0.85</td><td class='  ar '>0.74</td><td class='  ar '>0.76</td><td class='  ar '>nan</td><td class='lg  ar '>0.77</td></tr><tr><td class='lg  al '>AMZN</td><td class='  ar '>0.67</td><td class='  ar '>0.75</td><td class='  ar '>0.72</td><td class='  ar '>0.57</td><td class='lg  ar '>0.69</td></tr><tr><td class='lg  al '>MSFT</td><td class='  ar '>0.65</td><td class='  ar '>0.78</td><td class='  ar '>0.70</td><td class='  ar '>0.73</td><td class='lg  ar '>0.71</td></tr><tr><td class='lg ar'>   Mean</td><td class='lg ar'>      0.67</td><td class='lg ar'>      0.76</td><td class='lg ar'>      0.72</td><td class='lg ar'>      0.68</td><td class='lg ar'>0.71</td></tr></tbody></table></body></html>\n",
       "\n",
       "[3 rows x 6 columns] total bytes: 132.0 B"
      ],
      "text/plain": []
     },
     "execution_count": 11,
     "metadata": {},
     "output_type": "execute_result"
    }
   ],
   "source": [
    "rt.Accum2(ds.Symbol, ds.Month).mean(ds.Value, filter=ds.Value > 0.5)"
   ]
  },
  {
   "cell_type": "markdown",
   "id": "a6e13bd0-b0d7-4dac-bd0d-3799947e975b",
   "metadata": {},
   "source": [
    "## `accum_ratio()`"
   ]
  },
  {
   "cell_type": "markdown",
   "id": "81fcf0ff",
   "metadata": {},
   "source": [
    "For each group pair, `accum_ratio()` computes a ratio of values you specify. The results are presented in an Accum table.\n",
    "\n",
    "For our example we'll add PnL and Size (number of sales) columns, and we'll use `accum_ratio()` to get the PnL for each symbol-month bucket, weighted by size."
   ]
  },
  {
   "cell_type": "code",
   "execution_count": 12,
   "id": "cb2780e8-835d-4392-90d1-2d6112e71927",
   "metadata": {},
   "outputs": [],
   "source": [
    "ds.PnL = rng.normal(10, 20, 100)\n",
    "ds.Size = rng.random(100) * 100"
   ]
  },
  {
   "cell_type": "markdown",
   "id": "4a9a10a1",
   "metadata": {},
   "source": [
    "Like `Accum2()`, `accum_ratio()` takes two Categoricals (a row Categorical and a column Categorical). You also specify the numerator values and denominator values. For each group pair, it sums the numerator values and denominator values and presents the ratios in a table."
   ]
  },
  {
   "cell_type": "code",
   "execution_count": 13,
   "id": "0dd1f067",
   "metadata": {},
   "outputs": [
    {
     "data": {
      "text/html": [
       "<html><head><style>table.tbl-9865 tbody td{white-space: nowrap;}table.tbl-9865 .lc{font-weight:bold;background-color: var( --jp-rendermime-table-row-hover-background);}table.tbl-9865 .lg{background-color: #66da9940;}table.tbl-9865 .lp{font-weight:bold;background-color: #ac66da40;}table.tbl-9865 .msc{font-weight:normal;background-color:#00000011;}table.tbl-9865 .al{text-align:left;}table.tbl-9865 .ar{text-align:right;}table.tbl-9865 .ac{text-align:center;}table.tbl-9865 .bld{font-weight:bold;}table.tbl-9865 .it{font-style:italic;}table.tbl-9865 .ul{text-decoration:underline;}table.tbl-9865 .st{text-decoration:line-through;}</style></head><body><table class='tbl-9865'><thead><tr><td class='lg bld al'>*Symbol</td><td class='lc bld ar'>2021-01-01</td><td class='lc bld ar'>2021-02-01</td><td class='lc bld ar'>2021-03-01</td><td class='lc bld ar'>2021-04-01</td><td class='lg bld ar'>Ratio</td><td class='lg bld ar'>    Numer</td><td class='lg bld ar'>   Denom</td></tr></thead><tbody><tr><td class='lg  al '>AAPL</td><td class='  ar '>3.13</td><td class='  ar '>11.93</td><td class='  ar '>1.95</td><td class='  ar '>28.86</td><td class='lg  ar '>8.81</td><td class='lg  ar '>12,363.71</td><td class='lg  ar '>1,404.13</td></tr><tr><td class='lg  al '>AMZN</td><td class='  ar '>5.54</td><td class='  ar '>2.36</td><td class='  ar '>23.34</td><td class='  ar '>-2.94</td><td class='lg  ar '>10.01</td><td class='lg  ar '>16,971.55</td><td class='lg  ar '>1,695.67</td></tr><tr><td class='lg  al '>MSFT</td><td class='  ar '>23.90</td><td class='  ar '>22.78</td><td class='  ar '>-1.40</td><td class='  ar '>-9.61</td><td class='lg  ar '>10.35</td><td class='lg  ar '>17,501.11</td><td class='lg  ar '>1,690.46</td></tr><tr><td class='lg ar'>  Ratio</td><td class='lg ar'>     10.13</td><td class='lg ar'>     13.17</td><td class='lg ar'>      7.31</td><td class='lg ar'>      8.25</td><td class='lg ar'> 9.78</td><td class='lg ar'>         </td><td class='lg ar'>        </td></tr><tr><td class='lg ar'>  Numer</td><td class='lg ar'> 10,604.13</td><td class='lg ar'> 18,953.08</td><td class='lg ar'> 13,471.17</td><td class='lg ar'>  3,807.98</td><td class='lg ar'>     </td><td class='lg ar'>46,836.36</td><td class='lg ar'>        </td></tr><tr><td class='lg ar'>  Denom</td><td class='lg ar'>  1,047.18</td><td class='lg ar'>  1,438.84</td><td class='lg ar'>  1,842.65</td><td class='lg ar'>    461.59</td><td class='lg ar'>     </td><td class='lg ar'>         </td><td class='lg ar'>4,790.26</td></tr></tbody></table></body></html>\n",
       "\n",
       "[3 rows x 8 columns] total bytes: 180.0 B"
      ],
      "text/plain": []
     },
     "execution_count": 13,
     "metadata": {},
     "output_type": "execute_result"
    }
   ],
   "source": [
    "rt.accum_ratio(ds.Symbol, ds.Month, ds.PnL * ds.Size, ds.Size, include_numer=True)"
   ]
  },
  {
   "cell_type": "markdown",
   "id": "6ffd39f3",
   "metadata": {},
   "source": [
    "The result is the ratio of the following two tables.\n",
    "\n",
    "Numerator:"
   ]
  },
  {
   "cell_type": "code",
   "execution_count": 14,
   "id": "020d8544",
   "metadata": {},
   "outputs": [
    {
     "data": {
      "text/html": [
       "<html><head><style>table.tbl-1922 tbody td{white-space: nowrap;}table.tbl-1922 .lc{font-weight:bold;background-color: var( --jp-rendermime-table-row-hover-background);}table.tbl-1922 .lg{background-color: #66da9940;}table.tbl-1922 .lp{font-weight:bold;background-color: #ac66da40;}table.tbl-1922 .msc{font-weight:normal;background-color:#00000011;}table.tbl-1922 .al{text-align:left;}table.tbl-1922 .ar{text-align:right;}table.tbl-1922 .ac{text-align:center;}table.tbl-1922 .bld{font-weight:bold;}table.tbl-1922 .it{font-style:italic;}table.tbl-1922 .ul{text-decoration:underline;}table.tbl-1922 .st{text-decoration:line-through;}</style></head><body><table class='tbl-1922'><thead><tr><td class='lg bld al'>*Symbol</td><td class='lc bld ar'>2021-01-01</td><td class='lc bld ar'>2021-02-01</td><td class='lc bld ar'>2021-03-01</td><td class='lc bld ar'>2021-04-01</td><td class='lg bld ar'>   Nansum</td></tr></thead><tbody><tr><td class='lg  al '>AAPL</td><td class='  ar '>699.07</td><td class='  ar '>5,075.98</td><td class='  ar '>1,100.76</td><td class='  ar '>5,487.90</td><td class='lg  ar '>12,363.71</td></tr><tr><td class='lg  al '>AMZN</td><td class='  ar '>2,956.74</td><td class='  ar '>1,065.03</td><td class='  ar '>13,358.59</td><td class='  ar '>-408.81</td><td class='lg  ar '>16,971.55</td></tr><tr><td class='lg  al '>MSFT</td><td class='  ar '>6,948.32</td><td class='  ar '>12,812.08</td><td class='  ar '>-988.18</td><td class='  ar '>-1,271.11</td><td class='lg  ar '>17,501.11</td></tr><tr><td class='lg ar'> Nansum</td><td class='lg ar'> 10,604.13</td><td class='lg ar'> 18,953.08</td><td class='lg ar'> 13,471.17</td><td class='lg ar'>  3,807.98</td><td class='lg ar'>46,836.36</td></tr></tbody></table></body></html>\n",
       "\n",
       "[3 rows x 6 columns] total bytes: 132.0 B"
      ],
      "text/plain": []
     },
     "execution_count": 14,
     "metadata": {},
     "output_type": "execute_result"
    }
   ],
   "source": [
    "rt.Accum2(ds.Symbol, ds.Month).nansum(ds.Size * ds.PnL)"
   ]
  },
  {
   "cell_type": "markdown",
   "id": "bfc3e04d",
   "metadata": {},
   "source": [
    "Denominator:"
   ]
  },
  {
   "cell_type": "code",
   "execution_count": 15,
   "id": "17667d33",
   "metadata": {},
   "outputs": [
    {
     "data": {
      "text/html": [
       "<html><head><style>table.tbl-6373 tbody td{white-space: nowrap;}table.tbl-6373 .lc{font-weight:bold;background-color: var( --jp-rendermime-table-row-hover-background);}table.tbl-6373 .lg{background-color: #66da9940;}table.tbl-6373 .lp{font-weight:bold;background-color: #ac66da40;}table.tbl-6373 .msc{font-weight:normal;background-color:#00000011;}table.tbl-6373 .al{text-align:left;}table.tbl-6373 .ar{text-align:right;}table.tbl-6373 .ac{text-align:center;}table.tbl-6373 .bld{font-weight:bold;}table.tbl-6373 .it{font-style:italic;}table.tbl-6373 .ul{text-decoration:underline;}table.tbl-6373 .st{text-decoration:line-through;}</style></head><body><table class='tbl-6373'><thead><tr><td class='lg bld al'>*Symbol</td><td class='lc bld ar'>2021-01-01</td><td class='lc bld ar'>2021-02-01</td><td class='lc bld ar'>2021-03-01</td><td class='lc bld ar'>2021-04-01</td><td class='lg bld ar'>  Nansum</td></tr></thead><tbody><tr><td class='lg  al '>AAPL</td><td class='  ar '>223.12</td><td class='  ar '>425.49</td><td class='  ar '>565.38</td><td class='  ar '>190.13</td><td class='lg  ar '>1,404.13</td></tr><tr><td class='lg  al '>AMZN</td><td class='  ar '>533.28</td><td class='  ar '>450.83</td><td class='  ar '>572.34</td><td class='  ar '>139.22</td><td class='lg  ar '>1,695.67</td></tr><tr><td class='lg  al '>MSFT</td><td class='  ar '>290.78</td><td class='  ar '>562.52</td><td class='  ar '>704.92</td><td class='  ar '>132.24</td><td class='lg  ar '>1,690.46</td></tr><tr><td class='lg ar'> Nansum</td><td class='lg ar'>  1,047.18</td><td class='lg ar'>  1,438.84</td><td class='lg ar'>  1,842.65</td><td class='lg ar'>    461.59</td><td class='lg ar'>4,790.26</td></tr></tbody></table></body></html>\n",
       "\n",
       "[3 rows x 6 columns] total bytes: 132.0 B"
      ],
      "text/plain": []
     },
     "execution_count": 15,
     "metadata": {},
     "output_type": "execute_result"
    }
   ],
   "source": [
    "rt.Accum2(ds.Symbol, ds.Month).nansum(ds.Size)"
   ]
  },
  {
   "cell_type": "markdown",
   "id": "8b4f5b54",
   "metadata": {},
   "source": [
    "When the numerator and denominator are the same, the result is as you might expect."
   ]
  },
  {
   "cell_type": "code",
   "execution_count": 16,
   "id": "79dd442c",
   "metadata": {},
   "outputs": [
    {
     "data": {
      "text/html": [
       "<html><head><style>table.tbl-4422 tbody td{white-space: nowrap;}table.tbl-4422 .lc{font-weight:bold;background-color: var( --jp-rendermime-table-row-hover-background);}table.tbl-4422 .lg{background-color: #66da9940;}table.tbl-4422 .lp{font-weight:bold;background-color: #ac66da40;}table.tbl-4422 .msc{font-weight:normal;background-color:#00000011;}table.tbl-4422 .al{text-align:left;}table.tbl-4422 .ar{text-align:right;}table.tbl-4422 .ac{text-align:center;}table.tbl-4422 .bld{font-weight:bold;}table.tbl-4422 .it{font-style:italic;}table.tbl-4422 .ul{text-decoration:underline;}table.tbl-4422 .st{text-decoration:line-through;}</style></head><body><table class='tbl-4422'><thead><tr><td class='lg bld al'>*Symbol</td><td class='lc bld ar'>2021-01-01</td><td class='lc bld ar'>2021-02-01</td><td class='lc bld ar'>2021-03-01</td><td class='lc bld ar'>2021-04-01</td><td class='lg bld ar'>Ratio</td><td class='lg bld ar'>   Numer</td><td class='lg bld ar'>   Denom</td></tr></thead><tbody><tr><td class='lg  al '>AAPL</td><td class='  ar '>1.00</td><td class='  ar '>1.00</td><td class='  ar '>1.00</td><td class='  ar '>1.00</td><td class='lg  ar '>1.00</td><td class='lg  ar '>1,404.13</td><td class='lg  ar '>1,404.13</td></tr><tr><td class='lg  al '>AMZN</td><td class='  ar '>1.00</td><td class='  ar '>1.00</td><td class='  ar '>1.00</td><td class='  ar '>1.00</td><td class='lg  ar '>1.00</td><td class='lg  ar '>1,695.67</td><td class='lg  ar '>1,695.67</td></tr><tr><td class='lg  al '>MSFT</td><td class='  ar '>1.00</td><td class='  ar '>1.00</td><td class='  ar '>1.00</td><td class='  ar '>1.00</td><td class='lg  ar '>1.00</td><td class='lg  ar '>1,690.46</td><td class='lg  ar '>1,690.46</td></tr><tr><td class='lg ar'>  Ratio</td><td class='lg ar'>      1.00</td><td class='lg ar'>      1.00</td><td class='lg ar'>      1.00</td><td class='lg ar'>      1.00</td><td class='lg ar'> 1.00</td><td class='lg ar'>        </td><td class='lg ar'>        </td></tr><tr><td class='lg ar'>  Numer</td><td class='lg ar'>  1,047.18</td><td class='lg ar'>  1,438.84</td><td class='lg ar'>  1,842.65</td><td class='lg ar'>    461.59</td><td class='lg ar'>     </td><td class='lg ar'>4,790.26</td><td class='lg ar'>        </td></tr><tr><td class='lg ar'>  Denom</td><td class='lg ar'>  1,047.18</td><td class='lg ar'>  1,438.84</td><td class='lg ar'>  1,842.65</td><td class='lg ar'>    461.59</td><td class='lg ar'>     </td><td class='lg ar'>        </td><td class='lg ar'>4,790.26</td></tr></tbody></table></body></html>\n",
       "\n",
       "[3 rows x 8 columns] total bytes: 180.0 B"
      ],
      "text/plain": []
     },
     "execution_count": 16,
     "metadata": {},
     "output_type": "execute_result"
    }
   ],
   "source": [
    "rt.accum_ratio(ds.Symbol, ds.Month, ds.Size, ds.Size, include_numer=True)"
   ]
  },
  {
   "cell_type": "markdown",
   "id": "2fe17dad-7ff9-465f-95c9-263a7cc5c351",
   "metadata": {},
   "source": [
    "## `accum_ratiop()`"
   ]
  },
  {
   "cell_type": "markdown",
   "id": "1f3713f5",
   "metadata": {},
   "source": [
    "`accum_ratiop()` takes one column of values as numerators and computes an internal ratio for each group pair, where the denominator is one of three sums:\n",
    "\n",
    "- The row sum (`norm_by='R'`)\n",
    "- The column sum (`norm_by='C'`)\n",
    "- The total sum (`norm_by='T'`)\n",
    "\n",
    "\n",
    "For example, this table shows that 30.30% of AAPL sales were in February."
   ]
  },
  {
   "cell_type": "code",
   "execution_count": 17,
   "id": "27eb16cf",
   "metadata": {},
   "outputs": [
    {
     "data": {
      "text/html": [
       "<html><head><style>table.tbl-3963 tbody td{white-space: nowrap;}table.tbl-3963 .lc{font-weight:bold;background-color: var( --jp-rendermime-table-row-hover-background);}table.tbl-3963 .lg{background-color: #66da9940;}table.tbl-3963 .lp{font-weight:bold;background-color: #ac66da40;}table.tbl-3963 .msc{font-weight:normal;background-color:#00000011;}table.tbl-3963 .al{text-align:left;}table.tbl-3963 .ar{text-align:right;}table.tbl-3963 .ac{text-align:center;}table.tbl-3963 .bld{font-weight:bold;}table.tbl-3963 .it{font-style:italic;}table.tbl-3963 .ul{text-decoration:underline;}table.tbl-3963 .st{text-decoration:line-through;}</style></head><body><table class='tbl-3963'><thead><tr><td class='lg bld al'>*Symbol   </td><td class='lc bld ar'>2021-01-01</td><td class='lc bld ar'>2021-02-01</td><td class='lc bld ar'>2021-03-01</td><td class='lc bld ar'>2021-04-01</td><td class='lg bld ar'>TotalRatio</td><td class='lg bld ar'>   Total</td></tr></thead><tbody><tr><td class='lg  al '>AAPL</td><td class='  ar '>15.89</td><td class='  ar '>30.30</td><td class='  ar '>40.27</td><td class='  ar '>13.54</td><td class='lg  ar '>100.00</td><td class='lg  ar '>1,404.13</td></tr><tr><td class='lg  al '>AMZN</td><td class='  ar '>31.45</td><td class='  ar '>26.59</td><td class='  ar '>33.75</td><td class='  ar '>8.21</td><td class='lg  ar '>100.00</td><td class='lg  ar '>1,695.67</td></tr><tr><td class='lg  al '>MSFT</td><td class='  ar '>17.20</td><td class='  ar '>33.28</td><td class='  ar '>41.70</td><td class='  ar '>7.82</td><td class='lg  ar '>100.00</td><td class='lg  ar '>1,690.46</td></tr><tr><td class='lg ar'>TotalRatio</td><td class='lg ar'>     21.86</td><td class='lg ar'>     30.04</td><td class='lg ar'>     38.47</td><td class='lg ar'>      9.64</td><td class='lg ar'>    100.00</td><td class='lg ar'>        </td></tr><tr><td class='lg ar'>     Total</td><td class='lg ar'>  1,047.18</td><td class='lg ar'>  1,438.84</td><td class='lg ar'>  1,842.65</td><td class='lg ar'>    461.59</td><td class='lg ar'>          </td><td class='lg ar'>4,790.26</td></tr></tbody></table></body></html>\n",
       "\n",
       "[3 rows x 7 columns] total bytes: 156.0 B"
      ],
      "text/plain": []
     },
     "execution_count": 17,
     "metadata": {},
     "output_type": "execute_result"
    }
   ],
   "source": [
    "rt.accum_ratiop(ds.Symbol, ds.Month, ds.Size, norm_by='R')"
   ]
  },
  {
   "cell_type": "markdown",
   "id": "ea784aac",
   "metadata": {},
   "source": [
    "Note that the percentages in each row sum to 100%. \n",
    "\n",
    "We can check the math by computing the ratio of AAPL's February sales to AAPL's total sales."
   ]
  },
  {
   "cell_type": "code",
   "execution_count": 18,
   "id": "b2f8da67-8921-4701-b4ac-8a58359b3178",
   "metadata": {},
   "outputs": [
    {
     "data": {
      "text/plain": [
       "0.3030291108538412"
      ]
     },
     "execution_count": 18,
     "metadata": {},
     "output_type": "execute_result"
    }
   ],
   "source": [
    "filt_feb_aapl = (ds.Symbol == 'AAPL') & (ds.Month.as_string_array == rt.Date('20210201'))\n",
    "filt_total_aapl = ds.Symbol == 'AAPL'\n",
    "\n",
    "ds.Size[filt_feb_aapl].nansum() / ds.Size[filt_total_aapl].nansum()"
   ]
  },
  {
   "cell_type": "markdown",
   "id": "abfd81da",
   "metadata": {},
   "source": [
    "This table shows that AAPL's sales are 29.57% of February sales."
   ]
  },
  {
   "cell_type": "code",
   "execution_count": 19,
   "id": "8bc802e5",
   "metadata": {},
   "outputs": [
    {
     "data": {
      "text/html": [
       "<html><head><style>table.tbl-975 tbody td{white-space: nowrap;}table.tbl-975 .lc{font-weight:bold;background-color: var( --jp-rendermime-table-row-hover-background);}table.tbl-975 .lg{background-color: #66da9940;}table.tbl-975 .lp{font-weight:bold;background-color: #ac66da40;}table.tbl-975 .msc{font-weight:normal;background-color:#00000011;}table.tbl-975 .al{text-align:left;}table.tbl-975 .ar{text-align:right;}table.tbl-975 .ac{text-align:center;}table.tbl-975 .bld{font-weight:bold;}table.tbl-975 .it{font-style:italic;}table.tbl-975 .ul{text-decoration:underline;}table.tbl-975 .st{text-decoration:line-through;}</style></head><body><table class='tbl-975'><thead><tr><td class='lg bld al'>*Symbol   </td><td class='lc bld ar'>2021-01-01</td><td class='lc bld ar'>2021-02-01</td><td class='lc bld ar'>2021-03-01</td><td class='lc bld ar'>2021-04-01</td><td class='lg bld ar'>TotalRatio</td><td class='lg bld ar'>   Total</td></tr></thead><tbody><tr><td class='lg  al '>AAPL</td><td class='  ar '>21.31</td><td class='  ar '>29.57</td><td class='  ar '>30.68</td><td class='  ar '>41.19</td><td class='lg  ar '>29.31</td><td class='lg  ar '>1,404.13</td></tr><tr><td class='lg  al '>AMZN</td><td class='  ar '>50.93</td><td class='  ar '>31.33</td><td class='  ar '>31.06</td><td class='  ar '>30.16</td><td class='lg  ar '>35.40</td><td class='lg  ar '>1,695.67</td></tr><tr><td class='lg  al '>MSFT</td><td class='  ar '>27.77</td><td class='  ar '>39.10</td><td class='  ar '>38.26</td><td class='  ar '>28.65</td><td class='lg  ar '>35.29</td><td class='lg  ar '>1,690.46</td></tr><tr><td class='lg ar'>TotalRatio</td><td class='lg ar'>    100.00</td><td class='lg ar'>    100.00</td><td class='lg ar'>    100.00</td><td class='lg ar'>    100.00</td><td class='lg ar'>    100.00</td><td class='lg ar'>        </td></tr><tr><td class='lg ar'>     Total</td><td class='lg ar'>  1,047.18</td><td class='lg ar'>  1,438.84</td><td class='lg ar'>  1,842.65</td><td class='lg ar'>    461.59</td><td class='lg ar'>          </td><td class='lg ar'>4,790.26</td></tr></tbody></table></body></html>\n",
       "\n",
       "[3 rows x 7 columns] total bytes: 156.0 B"
      ],
      "text/plain": []
     },
     "execution_count": 19,
     "metadata": {},
     "output_type": "execute_result"
    }
   ],
   "source": [
    "rt.accum_ratiop(ds.Symbol, ds.Month, ds.Size, norm_by='C')"
   ]
  },
  {
   "cell_type": "markdown",
   "id": "3d998d98",
   "metadata": {},
   "source": [
    "Note that the percentages in each column sum to 100%. \n",
    "\n",
    "Check the math:"
   ]
  },
  {
   "cell_type": "code",
   "execution_count": 20,
   "id": "39a503ac",
   "metadata": {},
   "outputs": [
    {
     "data": {
      "text/plain": [
       "0.29571866540362846"
      ]
     },
     "execution_count": 20,
     "metadata": {},
     "output_type": "execute_result"
    }
   ],
   "source": [
    "filt_feb_total = ds.Month.as_string_array == rt.Date('20210201')\n",
    "ds.Size[filt_feb_aapl].nansum() / ds.Size[filt_feb_total].nansum()"
   ]
  },
  {
   "cell_type": "markdown",
   "id": "04a34427",
   "metadata": {},
   "source": [
    "This table shows that AAPL's February sales represent 8.88% of all sales."
   ]
  },
  {
   "cell_type": "code",
   "execution_count": 21,
   "id": "a7542daf",
   "metadata": {},
   "outputs": [
    {
     "data": {
      "text/html": [
       "<html><head><style>table.tbl-5048 tbody td{white-space: nowrap;}table.tbl-5048 .lc{font-weight:bold;background-color: var( --jp-rendermime-table-row-hover-background);}table.tbl-5048 .lg{background-color: #66da9940;}table.tbl-5048 .lp{font-weight:bold;background-color: #ac66da40;}table.tbl-5048 .msc{font-weight:normal;background-color:#00000011;}table.tbl-5048 .al{text-align:left;}table.tbl-5048 .ar{text-align:right;}table.tbl-5048 .ac{text-align:center;}table.tbl-5048 .bld{font-weight:bold;}table.tbl-5048 .it{font-style:italic;}table.tbl-5048 .ul{text-decoration:underline;}table.tbl-5048 .st{text-decoration:line-through;}</style></head><body><table class='tbl-5048'><thead><tr><td class='lg bld al'>*Symbol   </td><td class='lc bld ar'>2021-01-01</td><td class='lc bld ar'>2021-02-01</td><td class='lc bld ar'>2021-03-01</td><td class='lc bld ar'>2021-04-01</td><td class='lg bld ar'>TotalRatio</td><td class='lg bld ar'>   Total</td></tr></thead><tbody><tr><td class='lg  al '>AAPL</td><td class='  ar '>4.66</td><td class='  ar '>8.88</td><td class='  ar '>11.80</td><td class='  ar '>3.97</td><td class='lg  ar '>29.31</td><td class='lg  ar '>1,404.13</td></tr><tr><td class='lg  al '>AMZN</td><td class='  ar '>11.13</td><td class='  ar '>9.41</td><td class='  ar '>11.95</td><td class='  ar '>2.91</td><td class='lg  ar '>35.40</td><td class='lg  ar '>1,695.67</td></tr><tr><td class='lg  al '>MSFT</td><td class='  ar '>6.07</td><td class='  ar '>11.74</td><td class='  ar '>14.72</td><td class='  ar '>2.76</td><td class='lg  ar '>35.29</td><td class='lg  ar '>1,690.46</td></tr><tr><td class='lg ar'>TotalRatio</td><td class='lg ar'>     21.86</td><td class='lg ar'>     30.04</td><td class='lg ar'>     38.47</td><td class='lg ar'>      9.64</td><td class='lg ar'>    100.00</td><td class='lg ar'>        </td></tr><tr><td class='lg ar'>     Total</td><td class='lg ar'>  1,047.18</td><td class='lg ar'>  1,438.84</td><td class='lg ar'>  1,842.65</td><td class='lg ar'>    461.59</td><td class='lg ar'>          </td><td class='lg ar'>4,790.26</td></tr></tbody></table></body></html>\n",
       "\n",
       "[3 rows x 7 columns] total bytes: 156.0 B"
      ],
      "text/plain": []
     },
     "execution_count": 21,
     "metadata": {},
     "output_type": "execute_result"
    }
   ],
   "source": [
    "rt.accum_ratiop(ds.Symbol, ds.Month, ds.Size, norm_by='T')"
   ]
  },
  {
   "cell_type": "markdown",
   "id": "b9ca2625",
   "metadata": {},
   "source": [
    "Note that the \"TotalRatio\" row and column percentages each sum to 100%.\n",
    "\n",
    "Check the math:"
   ]
  },
  {
   "cell_type": "code",
   "execution_count": 22,
   "id": "ebaadc46",
   "metadata": {},
   "outputs": [
    {
     "data": {
      "text/plain": [
       "0.08882445025331744"
      ]
     },
     "execution_count": 22,
     "metadata": {},
     "output_type": "execute_result"
    }
   ],
   "source": [
    "ds.Size[filt_feb_aapl].nansum() / ds.Size.nansum()"
   ]
  },
  {
   "cell_type": "markdown",
   "id": "c18efb69-01de-48f3-8c06-806a8ff9e69f",
   "metadata": {},
   "source": [
    "Next, for something completely different, we'll explore ways to [Concatenate Datasets](tutorial_concat.ipynb)."
   ]
  },
  {
   "cell_type": "markdown",
   "id": "ff13f434-4f90-4f23-a074-91391d147999",
   "metadata": {},
   "source": [
    "<br>\n",
    "<br>\n",
    "\n",
    "---\n",
    "\n",
    "Questions or comments about this guide? Email RiptableDocumentation@sig.com."
   ]
  }
 ],
 "metadata": {
  "kernelspec": {
   "display_name": "Python 3 (ipykernel)",
   "language": "python",
   "name": "python3"
  },
  "language_info": {
   "codemirror_mode": {
    "name": "ipython",
    "version": 3
   },
   "file_extension": ".py",
   "mimetype": "text/x-python",
   "name": "python",
   "nbconvert_exporter": "python",
   "pygments_lexer": "ipython3",
   "version": "3.9.12"
  }
 },
 "nbformat": 4,
 "nbformat_minor": 5
}
