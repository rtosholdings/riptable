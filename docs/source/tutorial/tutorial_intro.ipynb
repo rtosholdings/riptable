{
 "cells": [
  {
   "cell_type": "markdown",
   "id": "71a26b6e-ce98-4642-bf26-e37b02bd7fa8",
   "metadata": {
    "tags": []
   },
   "source": [
    "# Introduction"
   ]
  },
  {
   "cell_type": "code",
   "execution_count": null,
   "id": "4b1724c7-9384-4ce0-bf75-8de226c37462",
   "metadata": {
    "jp-MarkdownHeadingCollapsed": true,
    "tags": []
   },
   "outputs": [
    {
     "name": "stdout",
     "output_type": "stream",
     "text": [
      "To download this notebook, right click on the link and Save link as...\n"
     ]
    },
    {
     "data": {
      "text/html": [
       "<a href='tutorial_intro.ipynb' target='_blank'>tutorial_intro.ipynb</a><br>"
      ],
      "text/plain": [
       "X:\\btcache\\scratch\\johnsonc\\jupyter\\Tutorial\\Tutorial_GitLab\\tutorial_intro.ipynb"
      ]
     },
     "execution_count": 23,
     "metadata": {},
     "output_type": "execute_result"
    }
   ],
   "source": [
    "# Generate notebook download link\n",
    "from IPython.display import FileLink\n",
    "print('To download this notebook, right click on the link and Save link as...')\n",
    "FileLink('tutorial_intro.ipynb')"
   ]
  },
  {
   "cell_type": "markdown",
   "id": "8da98404-a8bf-4326-8930-e8e8495a926b",
   "metadata": {
    "jp-MarkdownHeadingCollapsed": true,
    "tags": []
   },
   "source": [
    "## What Is Riptable?\n",
    "\n",
    "Riptable is an open source library built for high-performance data analysis. It's similar to Pandas by design, but it's been optimized to meet the needs of Riptable's core users: quantitative traders analyzing large volumes of trading data interactively, in real time. \n",
    "\n",
    "Riptable is based on NumPy, so it shares many core NumPy methods for array-based operations. For users who work with large datasets, Riptable improves on NumPy and Pandas by using multi-threading and efficient memory management, much of it implemented at the C++ level.\n",
    "\n",
    "Riptable has implemented its own Pandas-like functions for grouping and aggregation. See Riptable for Pandas Users to get an overview of key differences.\n",
    "\n",
    "Riptable's APIs are designed to be more feature-rich and easier to work with than those provided by Pandas and other existing libraries. An additional package, Playa, builds upon Riptable to offer supplemental data manipulation and analysis capabilities, in some cases providing APIs that more closely resemble those of the standard packages.\n",
    "\n",
    "NumPy and Pandas users will find it easy to convert their data to Riptable (and back again if need be). It's also possible to convert data from CSV or SQL files. Similarly, h5 files can be converted to Riptable's format. Matlab users, who will generally find similar syntax and functionality in Riptable, can use special keyword arguments to convert Matlab data to Riptable's format. See [IO Tools and Working with Other File Types](tutorial_io.ipynb) for details.\n",
    "\n",
    "For data visualization, any of the standard plotting tools (for example, matplotlib.pyplot) will work out of the box. To see a few basic examples, check out the [Visualize Data](tutorial_visualize.ipynb) section."
   ]
  },
  {
   "cell_type": "markdown",
   "id": "bfc31e94-44d8-4dbc-a527-34a80d9566c8",
   "metadata": {
    "jp-MarkdownHeadingCollapsed": true,
    "tags": []
   },
   "source": [
    "## A Note to Pandas Users\n",
    "\n",
    "If you've used Pandas, you'll notice many similarities in Riptable -- though be aware that Riptable has some not-always-immediately-obvious differences. This tutorial doesn't call out those differences specifically; they're covered separately in [Comparison to Pandas](https://confluence/display/SOT/Comparison+to+Pandas) and [Riptable \"Gotchas\" for Pandas Users](https://confluence/pages/viewpage.action?pageId=148702274)."
   ]
  },
  {
   "cell_type": "markdown",
   "id": "69b8cc94-9af4-4265-aa19-7ded0a60f076",
   "metadata": {
    "jp-MarkdownHeadingCollapsed": true,
    "tags": []
   },
   "source": [
    "## Who This Tutorial Is For\n",
    "\n",
    "If you're new to Riptable, this tutorial is for you. It's intended to help get you familiar with Riptable's basic functionality and syntax.\n",
    "\n",
    "Some experience with Python will be helpful, especially familiarity with dictionary syntax, sequences (lists, tuples, etc.), and basic functions and arguments. "
   ]
  },
  {
   "cell_type": "markdown",
   "id": "45e86203-48b5-4a3d-bbfb-3400b2a24b6f",
   "metadata": {
    "tags": []
   },
   "source": [
    "## Install and Import Riptable\n",
    "\n",
    "To get started with Riptable and JupyterLab on Linux or Windows, see these [setup instructions](https://confluence/display/SQI/Setup).\n",
    "\n",
    "<!-- - (CJ Note: As this tutorial is published only internally for now, I'm just linking to the Confluence setup pages. Before this is published externally, I'll need more info on how non-SIG people should install Riptable. Conda?) -->"
   ]
  },
  {
   "cell_type": "markdown",
   "id": "45f45b3c",
   "metadata": {},
   "source": [
    "To access Riptable and its functions in your Python code, add these lines to your code:"
   ]
  },
  {
   "cell_type": "code",
   "execution_count": 2,
   "id": "3663d676",
   "metadata": {},
   "outputs": [],
   "source": [
    "import riptable as rt\n",
    "import numpy as np"
   ]
  },
  {
   "cell_type": "markdown",
   "id": "a0bf81b6-beb4-4b28-b111-4775bda497fe",
   "metadata": {},
   "source": [
    "## Display Options\n",
    "\n",
    "You can modify Riptable's default display options using the attributes offered in [rt.Display.options](https://github.com/rtosholdings/riptable/blob/master/riptable/Utils/display_options.py). Here are a few you might find useful.\n",
    "\n",
    "\n",
    "### General Display Options\n",
    "\n",
    "Some general options you can set for a session:"
   ]
  },
  {
   "cell_type": "code",
   "execution_count": 7,
   "id": "501504cd",
   "metadata": {},
   "outputs": [],
   "source": [
    "# Display all Dataset columns -- the default max is 9.\n",
    "rt.Display.options.COL_ALL = True\n",
    "\n",
    "# Render up to 100MM before showing in scientific notation.\n",
    "rt.Display.options.E_MAX = 100_000_000\n",
    "\n",
    "# Truncate small decimals, rather than showing infinitesimal scientific notation.\n",
    "rt.Display.options.P_THRESHOLD = 0\n",
    "\n",
    "# Put commas in numbers.\n",
    "rt.Display.options.NUMBER_SEPARATOR = True\n",
    "\n",
    "# Turn on Riptable autocomplete (start typing, then press Tab to see options).\n",
    "rt.autocomplete()"
   ]
  },
  {
   "cell_type": "markdown",
   "id": "46e09fdc",
   "metadata": {},
   "source": [
    "### Contextual Help\n",
    "\n",
    "The `rt.autocomplete()` option listed above can be used as an alternative to Python's built-in `dir()` function, which shows various attributes and methods associated with an object.\n",
    "\n",
    "For example, to see the attributes and methods of Riptable's Date object, you can use `dir()`:"
   ]
  },
  {
   "cell_type": "code",
   "execution_count": 5,
   "id": "11f272d9",
   "metadata": {},
   "outputs": [
    {
     "name": "stdout",
     "output_type": "stream",
     "text": [
      "Some of the attributes and methods include...\n",
      "\n",
      "CompressPickle, T, _LDUMP, _TON, __array_function__, __class__, __doc__, __hash__, __init_subclass__, __le__, __new__, __rfloordiv__, __rsub__, __truediv__, _check_mathops, _fa_keyword_wrapper, _max, _nanstd, _reduce_op_identity_value, _yearday_splits_leap, argpartition, clip_upper, cummin, differs, ema_decay, format_date_num, is_leapyear, isnormal, map_old, move_mean, nanmean, nonzero, push, reshape, round, sign, strides, tolist, year\n"
     ]
    }
   ],
   "source": [
    "# Limit and format the output.\n",
    "dir_date = dir(rt.Date)\n",
    "print(\"Some of the attributes and methods include...\\n\")\n",
    "print(\", \".join(list(dir_date)[::10]))"
   ]
  },
  {
   "cell_type": "markdown",
   "id": "725cedf7-db7f-4e89-8ef3-62be4b924bdc",
   "metadata": {},
   "source": [
    "Note: The resulting list may not be complete. For details, see Python's documentation for `dir()` in the section on built-in functions.\n",
    "\n",
    "Alternatively, you can use Riptable's autocomplete interface. With `rt.autocomplete()` turned on, type `rt.Date.<TAB>` where `<TAB>` is the Tab key. You'll see a pop-up list of attributes and methods. Keep typing to narrow down the list.\n",
    "\n",
    "<img src=\"rt_autocomplete.png\" width=\"224\" height=\"220\">"
   ]
  },
  {
   "cell_type": "markdown",
   "id": "4a286f71-5b35-4079-8990-611b847ec833",
   "metadata": {},
   "source": [
    "Note that private/internal attributes and methods (those whose names are preceded by an underscore) are omitted by default, but you can access them by typing the underscore. For example: `rt.Date._fa<TAB>`.\n",
    "\n",
    "<img src=\"rt_autocomplete_internal.png\" width=\"286\" height=\"116\">\n",
    "\n",
    "You can access the doc string on any (documented) function or object with the following syntax:\n",
    "\n",
    "* IPython prompt: `my_func?`\n",
    "* Python prompt: `help(my_obj)`\n",
    "    \n",
    "For example:"
   ]
  },
  {
   "cell_type": "code",
   "execution_count": 9,
   "id": "1170aded",
   "metadata": {},
   "outputs": [
    {
     "data": {
      "text/plain": [
       "\u001b[1;31mSignature:\u001b[0m \u001b[0mrt\u001b[0m\u001b[1;33m.\u001b[0m\u001b[0msum\u001b[0m\u001b[1;33m(\u001b[0m\u001b[1;33m*\u001b[0m\u001b[0margs\u001b[0m\u001b[1;33m,\u001b[0m \u001b[0mfilter\u001b[0m\u001b[1;33m=\u001b[0m\u001b[1;32mNone\u001b[0m\u001b[1;33m,\u001b[0m \u001b[0mdtype\u001b[0m\u001b[1;33m=\u001b[0m\u001b[1;32mNone\u001b[0m\u001b[1;33m,\u001b[0m \u001b[1;33m**\u001b[0m\u001b[0mkwargs\u001b[0m\u001b[1;33m)\u001b[0m\u001b[1;33m\u001b[0m\u001b[1;33m\u001b[0m\u001b[0m\n",
       "\u001b[1;31mDocstring:\u001b[0m\n",
       "Computes the sum of the first argument. For example\n",
       ">>> a = rt.FastArray( [1,2,3])\n",
       ">>> rt.sum(a)\n",
       "6\n",
       "\n",
       "If possible, rt.sum(x, *args) calls x.sum(*args). If possible, look there for\n",
       "documentation. In particular, rt.sum(x) may NOT accept a filter argument, depending\n",
       "on the type of x. If x is a FastArray, then mean accepts the following keywords.\n",
       "\n",
       "filter : array of bool, optional\n",
       "Specifies which elements to include in the mean. For example,\n",
       ">>> a = rt.FastArray( [1,3,5,7])\n",
       ">>> b = rt.FastArray( [False, True, False, True,True] )\n",
       ">>> rt.sum(a, filter = b)\n",
       "10\n",
       "If the filter is uniformly False, this will return 0.\n",
       "\n",
       "\n",
       "dtype : optional\n",
       "What datatype should the result be returned as. For a FastArray x,\n",
       "x.sum(dtype = my_type) is equivalent to my_type( x.sum() ).\n",
       "\u001b[1;31mFile:\u001b[0m      c:\\miniconda\\envs\\johnsonc_py39\\lib\\site-packages\\riptable\\rt_numpy.py\n",
       "\u001b[1;31mType:\u001b[0m      function\n"
      ]
     },
     "metadata": {},
     "output_type": "display_data"
    }
   ],
   "source": [
    "rt.sum?"
   ]
  },
  {
   "cell_type": "markdown",
   "id": "166b47d0",
   "metadata": {},
   "source": [
    "You can access the source code with `??`:"
   ]
  },
  {
   "cell_type": "code",
   "execution_count": 10,
   "id": "3f9c73ab",
   "metadata": {},
   "outputs": [
    {
     "data": {
      "text/plain": [
       "\u001b[1;31mSignature:\u001b[0m \u001b[0mrt\u001b[0m\u001b[1;33m.\u001b[0m\u001b[0msum\u001b[0m\u001b[1;33m(\u001b[0m\u001b[1;33m*\u001b[0m\u001b[0margs\u001b[0m\u001b[1;33m,\u001b[0m \u001b[0mfilter\u001b[0m\u001b[1;33m=\u001b[0m\u001b[1;32mNone\u001b[0m\u001b[1;33m,\u001b[0m \u001b[0mdtype\u001b[0m\u001b[1;33m=\u001b[0m\u001b[1;32mNone\u001b[0m\u001b[1;33m,\u001b[0m \u001b[1;33m**\u001b[0m\u001b[0mkwargs\u001b[0m\u001b[1;33m)\u001b[0m\u001b[1;33m\u001b[0m\u001b[1;33m\u001b[0m\u001b[0m\n",
       "\u001b[1;31mSource:\u001b[0m   \n",
       "\u001b[1;32mdef\u001b[0m \u001b[0msum\u001b[0m\u001b[1;33m(\u001b[0m\u001b[1;33m*\u001b[0m\u001b[0margs\u001b[0m\u001b[1;33m,\u001b[0m\u001b[0mfilter\u001b[0m \u001b[1;33m=\u001b[0m \u001b[1;32mNone\u001b[0m\u001b[1;33m,\u001b[0m \u001b[0mdtype\u001b[0m \u001b[1;33m=\u001b[0m \u001b[1;32mNone\u001b[0m\u001b[1;33m,\u001b[0m\u001b[1;33m**\u001b[0m\u001b[0mkwargs\u001b[0m\u001b[1;33m)\u001b[0m\u001b[1;33m:\u001b[0m\u001b[1;33m\n",
       "\u001b[0m    \u001b[1;34m'''\n",
       "    Computes the sum of the first argument. For example\n",
       "    >>> a = rt.FastArray( [1,2,3])\n",
       "    >>> rt.sum(a)\n",
       "    6\n",
       "\n",
       "    If possible, rt.sum(x, *args) calls x.sum(*args). If possible, look there for\n",
       "    documentation. In particular, rt.sum(x) may NOT accept a filter argument, depending\n",
       "    on the type of x. If x is a FastArray, then mean accepts the following keywords.\n",
       "\n",
       "    filter : array of bool, optional\n",
       "    Specifies which elements to include in the mean. For example,\n",
       "    >>> a = rt.FastArray( [1,3,5,7])\n",
       "    >>> b = rt.FastArray( [False, True, False, True,True] )\n",
       "    >>> rt.sum(a, filter = b)\n",
       "    10\n",
       "    If the filter is uniformly False, this will return 0.\n",
       "\n",
       "\n",
       "    dtype : optional\n",
       "    What datatype should the result be returned as. For a FastArray x,\n",
       "    x.sum(dtype = my_type) is equivalent to my_type( x.sum() ).\n",
       "    '''\u001b[0m\u001b[1;33m\n",
       "\u001b[0m    \u001b[0mkwargs\u001b[0m \u001b[1;33m=\u001b[0m \u001b[0m_np_keyword_wrapper\u001b[0m\u001b[1;33m(\u001b[0m\u001b[0mfilter\u001b[0m\u001b[1;33m=\u001b[0m\u001b[0mfilter\u001b[0m\u001b[1;33m,\u001b[0m \u001b[0mdtype\u001b[0m\u001b[1;33m=\u001b[0m\u001b[0mdtype\u001b[0m\u001b[1;33m,\u001b[0m \u001b[1;33m**\u001b[0m\u001b[0mkwargs\u001b[0m\u001b[1;33m)\u001b[0m\u001b[1;33m\n",
       "\u001b[0m    \u001b[0margs\u001b[0m \u001b[1;33m=\u001b[0m \u001b[0m_convert_cat_args\u001b[0m\u001b[1;33m(\u001b[0m\u001b[0margs\u001b[0m\u001b[1;33m)\u001b[0m\u001b[1;33m\n",
       "\u001b[0m    \u001b[1;32mif\u001b[0m \u001b[0mhasattr\u001b[0m\u001b[1;33m(\u001b[0m\u001b[0margs\u001b[0m\u001b[1;33m[\u001b[0m\u001b[1;36m0\u001b[0m\u001b[1;33m]\u001b[0m\u001b[1;33m,\u001b[0m \u001b[1;34m'sum'\u001b[0m\u001b[1;33m)\u001b[0m\u001b[1;33m:\u001b[0m\u001b[1;33m\n",
       "\u001b[0m        \u001b[1;32mreturn\u001b[0m \u001b[0margs\u001b[0m\u001b[1;33m[\u001b[0m\u001b[1;36m0\u001b[0m\u001b[1;33m]\u001b[0m\u001b[1;33m.\u001b[0m\u001b[0msum\u001b[0m\u001b[1;33m(\u001b[0m\u001b[1;33m*\u001b[0m\u001b[0margs\u001b[0m\u001b[1;33m[\u001b[0m\u001b[1;36m1\u001b[0m\u001b[1;33m:\u001b[0m\u001b[1;33m]\u001b[0m\u001b[1;33m,\u001b[0m \u001b[1;33m**\u001b[0m\u001b[0mkwargs\u001b[0m\u001b[1;33m)\u001b[0m\u001b[1;33m\n",
       "\u001b[0m    \u001b[1;32mreturn\u001b[0m \u001b[0mbuiltins\u001b[0m\u001b[1;33m.\u001b[0m\u001b[0msum\u001b[0m\u001b[1;33m(\u001b[0m\u001b[1;33m*\u001b[0m\u001b[0margs\u001b[0m\u001b[1;33m,\u001b[0m\u001b[1;33m**\u001b[0m\u001b[0mkwargs\u001b[0m\u001b[1;33m)\u001b[0m\u001b[1;33m\u001b[0m\u001b[1;33m\u001b[0m\u001b[0m\n",
       "\u001b[1;31mFile:\u001b[0m      c:\\miniconda\\envs\\johnsonc_py39\\lib\\site-packages\\riptable\\rt_numpy.py\n",
       "\u001b[1;31mType:\u001b[0m      function\n"
      ]
     },
     "metadata": {},
     "output_type": "display_data"
    }
   ],
   "source": [
    "rt.sum??"
   ]
  },
  {
   "cell_type": "markdown",
   "id": "f351f501",
   "metadata": {
    "tags": []
   },
   "source": [
    "### Dataset Display Options\n",
    "\n",
    "When you view a Dataset, some data might be elided or truncated. By default:\n",
    "\n",
    "- Up to 9 columns are shown. If the Dataset has more than 9 columns, the middle columns are elided (with a \"...\" column displayed).\n",
    "- Up to 30 rows are shown. If the Dataset has more than 30 rows, the middle rows are elided (with a \"...\" row displayed).\n",
    "- Strings are displayed up to 15 characters, with additional characters truncated.\n",
    "\n",
    "The following internal/private methods override the defaults on a per-display basis:\n",
    "\n",
    "- Show all columns and rows (up to 10,000 rows), as well as long strings: `ds._A`\n",
    "- Show all columns and long strings: `ds._H`\n",
    "- Show all columns with wrapping, and long strings: `ds._G`\n",
    "- Show all rows (up to 10,000): `ds._V`\n",
    "- Transpose columns and rows: `ds._T`\n",
    "\n",
    "Now that we're all set up, we're ready to look at Riptable's foundational data structures: [Intro to Riptable Datasets, FastArrays, and Structs](tutorial_datasets.ipynb)."
   ]
  },
  {
   "cell_type": "markdown",
   "id": "a49c2412-9f4d-41fe-bfef-2bb1dbd0e580",
   "metadata": {},
   "source": [
    "<br>\n",
    "<br>\n",
    "\n",
    "---\n",
    "\n",
    "Questions or comments about this guide? Email RiptableDocumentation@sig.com."
   ]
  }
 ],
 "metadata": {
  "kernelspec": {
   "display_name": "Python 3 (ipykernel)",
   "language": "python",
   "name": "python3"
  },
  "language_info": {
   "codemirror_mode": {
    "name": "ipython",
    "version": 3
   },
   "file_extension": ".py",
   "mimetype": "text/x-python",
   "name": "python",
   "nbconvert_exporter": "python",
   "pygments_lexer": "ipython3",
   "version": "3.9.13"
  }
 },
 "nbformat": 4,
 "nbformat_minor": 5
}
